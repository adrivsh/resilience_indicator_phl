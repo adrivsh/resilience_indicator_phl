{
 "cells": [
  {
   "cell_type": "markdown",
   "metadata": {},
   "source": [
    "This notebook demonstrates how Python can be used to gather and adapt data from different sources."
   ]
  },
  {
   "cell_type": "markdown",
   "metadata": {},
   "source": [
    "# Loading socio-economic data"
   ]
  },
  {
   "cell_type": "markdown",
   "metadata": {},
   "source": [
    "#### Loading functions"
   ]
  },
  {
   "cell_type": "markdown",
   "metadata": {},
   "source": [
    "First we import the [pandas](http://pandas.pydata.org/) function librairy. Pandas is a standard python librairy that alows us to manipulate Excel-like tables (called DataFrames) with named rows and columns."
   ]
  },
  {
   "cell_type": "code",
   "execution_count": 159,
   "metadata": {
    "ExecuteTime": {
     "end_time": "2016-03-01T17:08:39.676232",
     "start_time": "2016-03-01T17:08:38.764811"
    },
    "collapsed": true
   },
   "outputs": [],
   "source": [
    "import pandas as pd"
   ]
  },
  {
   "cell_type": "markdown",
   "metadata": {},
   "source": [
    "#### Reading data"
   ]
  },
  {
   "cell_type": "markdown",
   "metadata": {},
   "source": [
    "Now we read the excel data into a pandas DataFrame.\n",
    "We start from an Excel file that contains socio-economic data. In the future this file may for instance be populated by PSA."
   ]
  },
  {
   "cell_type": "code",
   "execution_count": 160,
   "metadata": {
    "ExecuteTime": {
     "end_time": "2016-03-01T17:08:39.950932",
     "start_time": "2016-03-01T17:08:39.680233"
    },
    "collapsed": false
   },
   "outputs": [
    {
     "data": {
      "text/html": [
       "<div>\n",
       "<table border=\"1\" class=\"dataframe\">\n",
       "  <thead>\n",
       "    <tr style=\"text-align: right;\">\n",
       "      <th></th>\n",
       "      <th>Region</th>\n",
       "      <th>Region PSGC</th>\n",
       "      <th>Province PSGC</th>\n",
       "      <th>GRDPC 2012 (At Current Prices)</th>\n",
       "      <th>Projected Population 2012</th>\n",
       "      <th>Average Annual Family Income, 2009</th>\n",
       "      <th>Average Annual  Family Income, by Region, 2012</th>\n",
       "      <th>% Wages and salaries 2012</th>\n",
       "      <th>% Entrepreneurial  activities 2012</th>\n",
       "      <th>% Other sources of income 2012</th>\n",
       "      <th>...</th>\n",
       "      <th>% Others Deposits 2012</th>\n",
       "      <th>% Health Expenditure 2012</th>\n",
       "      <th>% of Births by Attended Skilled Health Personnel 2012</th>\n",
       "      <th>% hh with radio 2012</th>\n",
       "      <th>% hh with landlines 2012</th>\n",
       "      <th>% hh with cellular phones 2012</th>\n",
       "      <th>Public Schools, Elementary, 2012-2013</th>\n",
       "      <th>Public Schools, Secondary, 2012-2013</th>\n",
       "      <th>Estimated QRF 2012</th>\n",
       "      <th>Estimated LDRRM Fund 2012</th>\n",
       "    </tr>\n",
       "    <tr>\n",
       "      <th>province</th>\n",
       "      <th></th>\n",
       "      <th></th>\n",
       "      <th></th>\n",
       "      <th></th>\n",
       "      <th></th>\n",
       "      <th></th>\n",
       "      <th></th>\n",
       "      <th></th>\n",
       "      <th></th>\n",
       "      <th></th>\n",
       "      <th></th>\n",
       "      <th></th>\n",
       "      <th></th>\n",
       "      <th></th>\n",
       "      <th></th>\n",
       "      <th></th>\n",
       "      <th></th>\n",
       "      <th></th>\n",
       "      <th></th>\n",
       "      <th></th>\n",
       "      <th></th>\n",
       "    </tr>\n",
       "  </thead>\n",
       "  <tbody>\n",
       "    <tr>\n",
       "      <th>Abra</th>\n",
       "      <td>CAR</td>\n",
       "      <td>14</td>\n",
       "      <td>1401</td>\n",
       "      <td>126843</td>\n",
       "      <td>240135.244121</td>\n",
       "      <td>133688</td>\n",
       "      <td>257000</td>\n",
       "      <td>0.343701</td>\n",
       "      <td>0.247626</td>\n",
       "      <td>0.297152</td>\n",
       "      <td>...</td>\n",
       "      <td>0.002270</td>\n",
       "      <td>0.031414</td>\n",
       "      <td>0.857720</td>\n",
       "      <td>0.652174</td>\n",
       "      <td>0.062112</td>\n",
       "      <td>0.953416</td>\n",
       "      <td>277</td>\n",
       "      <td>33</td>\n",
       "      <td>31746830.14320</td>\n",
       "      <td>1.058228e+08</td>\n",
       "    </tr>\n",
       "    <tr>\n",
       "      <th>Agusan Del Norte</th>\n",
       "      <td>CARAGA</td>\n",
       "      <td>16</td>\n",
       "      <td>1602</td>\n",
       "      <td>48954</td>\n",
       "      <td>661728.454375</td>\n",
       "      <td>179014</td>\n",
       "      <td>180000</td>\n",
       "      <td>0.387500</td>\n",
       "      <td>0.224497</td>\n",
       "      <td>0.298354</td>\n",
       "      <td>...</td>\n",
       "      <td>0.000045</td>\n",
       "      <td>0.034563</td>\n",
       "      <td>0.921445</td>\n",
       "      <td>0.395745</td>\n",
       "      <td>0.027660</td>\n",
       "      <td>0.821277</td>\n",
       "      <td>293</td>\n",
       "      <td>86</td>\n",
       "      <td>40128811.09725</td>\n",
       "      <td>1.337627e+08</td>\n",
       "    </tr>\n",
       "    <tr>\n",
       "      <th>Agusan Del Sur</th>\n",
       "      <td>CARAGA</td>\n",
       "      <td>16</td>\n",
       "      <td>1603</td>\n",
       "      <td>48954</td>\n",
       "      <td>677779.682154</td>\n",
       "      <td>126492</td>\n",
       "      <td>180000</td>\n",
       "      <td>0.387500</td>\n",
       "      <td>0.224497</td>\n",
       "      <td>0.298354</td>\n",
       "      <td>...</td>\n",
       "      <td>0.000552</td>\n",
       "      <td>0.034563</td>\n",
       "      <td>0.727442</td>\n",
       "      <td>0.395745</td>\n",
       "      <td>0.027660</td>\n",
       "      <td>0.821277</td>\n",
       "      <td>483</td>\n",
       "      <td>95</td>\n",
       "      <td>50795871.21195</td>\n",
       "      <td>1.693196e+08</td>\n",
       "    </tr>\n",
       "    <tr>\n",
       "      <th>Aklan</th>\n",
       "      <td>6</td>\n",
       "      <td>6</td>\n",
       "      <td>604</td>\n",
       "      <td>57801</td>\n",
       "      <td>554414.442422</td>\n",
       "      <td>119962</td>\n",
       "      <td>202000</td>\n",
       "      <td>0.371111</td>\n",
       "      <td>0.195986</td>\n",
       "      <td>0.374721</td>\n",
       "      <td>...</td>\n",
       "      <td>0.000133</td>\n",
       "      <td>0.044318</td>\n",
       "      <td>0.806176</td>\n",
       "      <td>0.548898</td>\n",
       "      <td>0.069559</td>\n",
       "      <td>0.823003</td>\n",
       "      <td>320</td>\n",
       "      <td>70</td>\n",
       "      <td>34597652.21625</td>\n",
       "      <td>1.153255e+08</td>\n",
       "    </tr>\n",
       "    <tr>\n",
       "      <th>Albay</th>\n",
       "      <td>5</td>\n",
       "      <td>5</td>\n",
       "      <td>505</td>\n",
       "      <td>38870</td>\n",
       "      <td>1264097.894966</td>\n",
       "      <td>158629</td>\n",
       "      <td>162000</td>\n",
       "      <td>0.384548</td>\n",
       "      <td>0.211663</td>\n",
       "      <td>0.335946</td>\n",
       "      <td>...</td>\n",
       "      <td>0.003677</td>\n",
       "      <td>0.032568</td>\n",
       "      <td>0.840840</td>\n",
       "      <td>0.514019</td>\n",
       "      <td>0.024299</td>\n",
       "      <td>0.800000</td>\n",
       "      <td>601</td>\n",
       "      <td>122</td>\n",
       "      <td>61822427.32725</td>\n",
       "      <td>2.060748e+08</td>\n",
       "    </tr>\n",
       "  </tbody>\n",
       "</table>\n",
       "<p>5 rows × 58 columns</p>\n",
       "</div>"
      ],
      "text/plain": [
       "                  Region  Region PSGC  Province PSGC  \\\n",
       "province                                               \n",
       "Abra                 CAR           14           1401   \n",
       "Agusan Del Norte  CARAGA           16           1602   \n",
       "Agusan Del Sur    CARAGA           16           1603   \n",
       "Aklan                  6            6            604   \n",
       "Albay                  5            5            505   \n",
       "\n",
       "                  GRDPC 2012 (At Current Prices)  Projected Population 2012  \\\n",
       "province                                                                      \n",
       "Abra                                      126843              240135.244121   \n",
       "Agusan Del Norte                           48954              661728.454375   \n",
       "Agusan Del Sur                             48954              677779.682154   \n",
       "Aklan                                      57801              554414.442422   \n",
       "Albay                                      38870             1264097.894966   \n",
       "\n",
       "                  Average Annual Family Income, 2009  \\\n",
       "province                                               \n",
       "Abra                                          133688   \n",
       "Agusan Del Norte                              179014   \n",
       "Agusan Del Sur                                126492   \n",
       "Aklan                                         119962   \n",
       "Albay                                         158629   \n",
       "\n",
       "                  Average Annual  Family Income, by Region, 2012  \\\n",
       "province                                                           \n",
       "Abra                                                      257000   \n",
       "Agusan Del Norte                                          180000   \n",
       "Agusan Del Sur                                            180000   \n",
       "Aklan                                                     202000   \n",
       "Albay                                                     162000   \n",
       "\n",
       "                  % Wages and salaries 2012  \\\n",
       "province                                      \n",
       "Abra                               0.343701   \n",
       "Agusan Del Norte                   0.387500   \n",
       "Agusan Del Sur                     0.387500   \n",
       "Aklan                              0.371111   \n",
       "Albay                              0.384548   \n",
       "\n",
       "                  % Entrepreneurial  activities 2012  \\\n",
       "province                                               \n",
       "Abra                                        0.247626   \n",
       "Agusan Del Norte                            0.224497   \n",
       "Agusan Del Sur                              0.224497   \n",
       "Aklan                                       0.195986   \n",
       "Albay                                       0.211663   \n",
       "\n",
       "                  % Other sources of income 2012            ...              \\\n",
       "province                                                    ...               \n",
       "Abra                                    0.297152            ...               \n",
       "Agusan Del Norte                        0.298354            ...               \n",
       "Agusan Del Sur                          0.298354            ...               \n",
       "Aklan                                   0.374721            ...               \n",
       "Albay                                   0.335946            ...               \n",
       "\n",
       "                  % Others Deposits 2012  % Health Expenditure 2012  \\\n",
       "province                                                              \n",
       "Abra                            0.002270                   0.031414   \n",
       "Agusan Del Norte                0.000045                   0.034563   \n",
       "Agusan Del Sur                  0.000552                   0.034563   \n",
       "Aklan                           0.000133                   0.044318   \n",
       "Albay                           0.003677                   0.032568   \n",
       "\n",
       "                  % of Births by Attended Skilled Health Personnel 2012  \\\n",
       "province                                                                  \n",
       "Abra                                                       0.857720       \n",
       "Agusan Del Norte                                           0.921445       \n",
       "Agusan Del Sur                                             0.727442       \n",
       "Aklan                                                      0.806176       \n",
       "Albay                                                      0.840840       \n",
       "\n",
       "                  % hh with radio 2012  % hh with landlines 2012  \\\n",
       "province                                                           \n",
       "Abra                          0.652174                  0.062112   \n",
       "Agusan Del Norte              0.395745                  0.027660   \n",
       "Agusan Del Sur                0.395745                  0.027660   \n",
       "Aklan                         0.548898                  0.069559   \n",
       "Albay                         0.514019                  0.024299   \n",
       "\n",
       "                  % hh with cellular phones 2012  \\\n",
       "province                                           \n",
       "Abra                                    0.953416   \n",
       "Agusan Del Norte                        0.821277   \n",
       "Agusan Del Sur                          0.821277   \n",
       "Aklan                                   0.823003   \n",
       "Albay                                   0.800000   \n",
       "\n",
       "                  Public Schools, Elementary, 2012-2013   \\\n",
       "province                                                   \n",
       "Abra                                                 277   \n",
       "Agusan Del Norte                                     293   \n",
       "Agusan Del Sur                                       483   \n",
       "Aklan                                                320   \n",
       "Albay                                                601   \n",
       "\n",
       "                  Public Schools, Secondary, 2012-2013   Estimated QRF 2012  \\\n",
       "province                                                                      \n",
       "Abra                                                 33      31746830.14320   \n",
       "Agusan Del Norte                                     86      40128811.09725   \n",
       "Agusan Del Sur                                       95      50795871.21195   \n",
       "Aklan                                                70      34597652.21625   \n",
       "Albay                                               122      61822427.32725   \n",
       "\n",
       "                  Estimated LDRRM Fund 2012  \n",
       "province                                     \n",
       "Abra                           1.058228e+08  \n",
       "Agusan Del Norte               1.337627e+08  \n",
       "Agusan Del Sur                 1.693196e+08  \n",
       "Aklan                          1.153255e+08  \n",
       "Albay                          2.060748e+08  \n",
       "\n",
       "[5 rows x 58 columns]"
      ]
     },
     "execution_count": 160,
     "metadata": {},
     "output_type": "execute_result"
    }
   ],
   "source": [
    "data_from_excel= pd.read_excel(\"inputs/input_data_Feb2016.xlsx\", #the name of the file\n",
    "                        sheetname=\"Consolidated (2012)\", #the Excel tab were the data is\n",
    "                               index_col=\"province\",#column to use as index\n",
    "                               header=1, #skips the first line of the excel file\n",
    "                                );\n",
    "data_from_excel.index = data_from_excel.index.str.title() #fixes the case of province names in the Excel file\n",
    "data_from_excel.head() #shows the first few lines of the table"
   ]
  },
  {
   "cell_type": "markdown",
   "metadata": {},
   "source": [
    "This table contains more data (more columns) that what we need to run the model. In addition, the names of the coumn are human-readable, instead of correspondig to variable names in the model. Finally, Some data is missing. We solve each one of this problems in the following."
   ]
  },
  {
   "cell_type": "markdown",
   "metadata": {},
   "source": [
    "### Matching columns in the Excel file to variables in the model"
   ]
  },
  {
   "cell_type": "markdown",
   "metadata": {
    "collapsed": true
   },
   "source": [
    "#### pov_head, pop, gdp_pc_pp"
   ]
  },
  {
   "cell_type": "markdown",
   "metadata": {},
   "source": [
    "Some of the data in the Excel file match directly data in the model. We can transform them directly using a simple dictionary, [inputs/data_source_matching.csv](inputs/data_source_matching.csv), that matches the name in the Excel file to the name in the model"
   ]
  },
  {
   "cell_type": "code",
   "execution_count": 161,
   "metadata": {
    "ExecuteTime": {
     "end_time": "2016-03-01T17:08:39.966447",
     "start_time": "2016-03-01T17:08:39.953435"
    },
    "collapsed": false
   },
   "outputs": [
    {
     "data": {
      "text/html": [
       "<div>\n",
       "<table border=\"1\" class=\"dataframe\">\n",
       "  <thead>\n",
       "    <tr style=\"text-align: right;\">\n",
       "      <th></th>\n",
       "      <th>name_in_model</th>\n",
       "    </tr>\n",
       "    <tr>\n",
       "      <th>name_in_data</th>\n",
       "      <th></th>\n",
       "    </tr>\n",
       "  </thead>\n",
       "  <tbody>\n",
       "    <tr>\n",
       "      <th>Average Annual Family Income, 2009</th>\n",
       "      <td>gdp_pc_pp</td>\n",
       "    </tr>\n",
       "    <tr>\n",
       "      <th>Projected Population 2012</th>\n",
       "      <td>pop</td>\n",
       "    </tr>\n",
       "    <tr>\n",
       "      <th>Poverty Incidence among Population (%), 2012</th>\n",
       "      <td>pov_head</td>\n",
       "    </tr>\n",
       "    <tr>\n",
       "      <th>% hh with cellular phones 2012</th>\n",
       "      <td>shew</td>\n",
       "    </tr>\n",
       "  </tbody>\n",
       "</table>\n",
       "</div>"
      ],
      "text/plain": [
       "                                             name_in_model\n",
       "name_in_data                                              \n",
       "Average Annual Family Income, 2009               gdp_pc_pp\n",
       "Projected Population 2012                              pop\n",
       "Poverty Incidence among Population (%), 2012      pov_head\n",
       "% hh with cellular phones 2012                        shew"
      ]
     },
     "execution_count": 161,
     "metadata": {},
     "output_type": "execute_result"
    }
   ],
   "source": [
    "#reads the CSV file that matches names in excel ot names in the model\n",
    "data_source_matching =pd.read_csv(\"inputs/data_source_matching.csv\",\n",
    "                                  index_col=\"name_in_data\",\n",
    "                                 )\n",
    "data_source_matching #displays the result"
   ]
  },
  {
   "cell_type": "code",
   "execution_count": 162,
   "metadata": {
    "ExecuteTime": {
     "end_time": "2016-03-01T17:08:40.035492",
     "start_time": "2016-03-01T17:08:39.970448"
    },
    "collapsed": false
   },
   "outputs": [
    {
     "data": {
      "text/html": [
       "<div>\n",
       "<table border=\"1\" class=\"dataframe\">\n",
       "  <thead>\n",
       "    <tr style=\"text-align: right;\">\n",
       "      <th></th>\n",
       "      <th>gdp_pc_pp</th>\n",
       "      <th>pop</th>\n",
       "      <th>pov_head</th>\n",
       "      <th>shew</th>\n",
       "    </tr>\n",
       "    <tr>\n",
       "      <th>province</th>\n",
       "      <th></th>\n",
       "      <th></th>\n",
       "      <th></th>\n",
       "      <th></th>\n",
       "    </tr>\n",
       "  </thead>\n",
       "  <tbody>\n",
       "    <tr>\n",
       "      <th>Abra</th>\n",
       "      <td>133688</td>\n",
       "      <td>240135.244121</td>\n",
       "      <td>0.373595</td>\n",
       "      <td>0.953416</td>\n",
       "    </tr>\n",
       "    <tr>\n",
       "      <th>Agusan Del Norte</th>\n",
       "      <td>179014</td>\n",
       "      <td>661728.454375</td>\n",
       "      <td>0.346715</td>\n",
       "      <td>0.821277</td>\n",
       "    </tr>\n",
       "    <tr>\n",
       "      <th>Agusan Del Sur</th>\n",
       "      <td>126492</td>\n",
       "      <td>677779.682154</td>\n",
       "      <td>0.480785</td>\n",
       "      <td>0.821277</td>\n",
       "    </tr>\n",
       "    <tr>\n",
       "      <th>Aklan</th>\n",
       "      <td>119962</td>\n",
       "      <td>554414.442422</td>\n",
       "      <td>0.249662</td>\n",
       "      <td>0.823003</td>\n",
       "    </tr>\n",
       "    <tr>\n",
       "      <th>Albay</th>\n",
       "      <td>158629</td>\n",
       "      <td>1264097.894966</td>\n",
       "      <td>0.409587</td>\n",
       "      <td>0.800000</td>\n",
       "    </tr>\n",
       "  </tbody>\n",
       "</table>\n",
       "</div>"
      ],
      "text/plain": [
       "                  gdp_pc_pp             pop  pov_head      shew\n",
       "province                                                       \n",
       "Abra                 133688   240135.244121  0.373595  0.953416\n",
       "Agusan Del Norte     179014   661728.454375  0.346715  0.821277\n",
       "Agusan Del Sur       126492   677779.682154  0.480785  0.821277\n",
       "Aklan                119962   554414.442422  0.249662  0.823003\n",
       "Albay                158629  1264097.894966  0.409587  0.800000"
      ]
     },
     "execution_count": 162,
     "metadata": {},
     "output_type": "execute_result"
    }
   ],
   "source": [
    "#keeps only the colomns listed in data_source_matching\n",
    "df=data_from_excel[data_source_matching.index]\n",
    "#renames those columns to their name in the model\n",
    "df=df.rename(columns=data_source_matching[\"name_in_model\"])\n",
    "df.head()"
   ]
  },
  {
   "cell_type": "markdown",
   "metadata": {},
   "source": [
    "##### Adapting the data on income and poverty"
   ]
  },
  {
   "cell_type": "markdown",
   "metadata": {},
   "source": [
    "The model needs income information in each province to be provided relative to the average income in the Philippines.\n",
    "Witin each province, we need the income of the poor and nonpoor households relative to the average income in the province.\n",
    "\n",
    "To compute the weighted average, we will use another standard python library, [NumPy](http://www.numpy.org/) the provides  standard mathematical functions such as log, exp, weighted average, etc."
   ]
  },
  {
   "cell_type": "code",
   "execution_count": 163,
   "metadata": {
    "ExecuteTime": {
     "end_time": "2016-03-01T17:08:40.042502",
     "start_time": "2016-03-01T17:08:40.039500"
    },
    "collapsed": true
   },
   "outputs": [],
   "source": [
    "import numpy as np"
   ]
  },
  {
   "cell_type": "code",
   "execution_count": 164,
   "metadata": {
    "ExecuteTime": {
     "end_time": "2016-03-01T17:08:40.074531",
     "start_time": "2016-03-01T17:08:40.045504"
    },
    "collapsed": false
   },
   "outputs": [],
   "source": [
    "#Changes the unit of GDP to thousands of pesos (technical: to reduce risk of float overflows when computing welfare)\n",
    "df[\"gdp_pc_pp\"]/=1e3\n",
    "\n",
    "#National average income \n",
    "df[\"gdp_pc_pp_nat\"] = np.average(df.dropna().gdp_pc_pp,  weights=df.dropna()[\"pop\"]) #note that we have to manually remove the lines with missing data (.dropna()) because numpy does not handle missing data\n",
    "\n",
    "#Average income of poor households (estimated from WB data on income distribution: http://iresearch.worldbank.org/PovcalNet/index.htm?2)\n",
    "wp=50\n",
    "\n",
    "#Relative income of the province and poor families in those provinces\n",
    "df[\"rel_gdp_pp\"]=df[\"gdp_pc_pp\"]/df[\"gdp_pc_pp_nat\"]\n",
    "df[\"share1\"]=wp/df[\"gdp_pc_pp\"]"
   ]
  },
  {
   "cell_type": "markdown",
   "metadata": {},
   "source": [
    "#### Access to savings, transfers"
   ]
  },
  {
   "cell_type": "markdown",
   "metadata": {},
   "source": [
    "Some other model variables do not match directly one column in the data.\n"
   ]
  },
  {
   "cell_type": "code",
   "execution_count": 165,
   "metadata": {
    "ExecuteTime": {
     "end_time": "2016-03-01T17:08:40.141579",
     "start_time": "2016-03-01T17:08:40.080536"
    },
    "collapsed": false
   },
   "outputs": [
    {
     "data": {
      "text/html": [
       "<div>\n",
       "<table border=\"1\" class=\"dataframe\">\n",
       "  <thead>\n",
       "    <tr style=\"text-align: right;\">\n",
       "      <th></th>\n",
       "      <th>gdp_pc_pp</th>\n",
       "      <th>pop</th>\n",
       "      <th>pov_head</th>\n",
       "      <th>shew</th>\n",
       "      <th>gdp_pc_pp_nat</th>\n",
       "      <th>rel_gdp_pp</th>\n",
       "      <th>share1</th>\n",
       "      <th>axfin_p</th>\n",
       "      <th>axfin_r</th>\n",
       "      <th>social_p</th>\n",
       "      <th>social_r</th>\n",
       "    </tr>\n",
       "    <tr>\n",
       "      <th>province</th>\n",
       "      <th></th>\n",
       "      <th></th>\n",
       "      <th></th>\n",
       "      <th></th>\n",
       "      <th></th>\n",
       "      <th></th>\n",
       "      <th></th>\n",
       "      <th></th>\n",
       "      <th></th>\n",
       "      <th></th>\n",
       "      <th></th>\n",
       "    </tr>\n",
       "  </thead>\n",
       "  <tbody>\n",
       "    <tr>\n",
       "      <th>Abra</th>\n",
       "      <td>133.688</td>\n",
       "      <td>240135.244121</td>\n",
       "      <td>0.373595</td>\n",
       "      <td>0.953416</td>\n",
       "      <td>184.136685</td>\n",
       "      <td>0.726026</td>\n",
       "      <td>0.374005</td>\n",
       "      <td>0.693233</td>\n",
       "      <td>0.693233</td>\n",
       "      <td>0.408683</td>\n",
       "      <td>0.408683</td>\n",
       "    </tr>\n",
       "    <tr>\n",
       "      <th>Agusan Del Norte</th>\n",
       "      <td>179.014</td>\n",
       "      <td>661728.454375</td>\n",
       "      <td>0.346715</td>\n",
       "      <td>0.821277</td>\n",
       "      <td>184.136685</td>\n",
       "      <td>0.972180</td>\n",
       "      <td>0.279308</td>\n",
       "      <td>0.496880</td>\n",
       "      <td>0.496880</td>\n",
       "      <td>0.388003</td>\n",
       "      <td>0.388003</td>\n",
       "    </tr>\n",
       "    <tr>\n",
       "      <th>Agusan Del Sur</th>\n",
       "      <td>126.492</td>\n",
       "      <td>677779.682154</td>\n",
       "      <td>0.480785</td>\n",
       "      <td>0.821277</td>\n",
       "      <td>184.136685</td>\n",
       "      <td>0.686946</td>\n",
       "      <td>0.395282</td>\n",
       "      <td>0.475969</td>\n",
       "      <td>0.475969</td>\n",
       "      <td>0.388003</td>\n",
       "      <td>0.388003</td>\n",
       "    </tr>\n",
       "    <tr>\n",
       "      <th>Aklan</th>\n",
       "      <td>119.962</td>\n",
       "      <td>554414.442422</td>\n",
       "      <td>0.249662</td>\n",
       "      <td>0.823003</td>\n",
       "      <td>184.136685</td>\n",
       "      <td>0.651483</td>\n",
       "      <td>0.416799</td>\n",
       "      <td>0.660083</td>\n",
       "      <td>0.660083</td>\n",
       "      <td>0.432903</td>\n",
       "      <td>0.432903</td>\n",
       "    </tr>\n",
       "    <tr>\n",
       "      <th>Albay</th>\n",
       "      <td>158.629</td>\n",
       "      <td>1264097.894966</td>\n",
       "      <td>0.409587</td>\n",
       "      <td>0.800000</td>\n",
       "      <td>184.136685</td>\n",
       "      <td>0.861474</td>\n",
       "      <td>0.315201</td>\n",
       "      <td>0.551314</td>\n",
       "      <td>0.551314</td>\n",
       "      <td>0.403794</td>\n",
       "      <td>0.403794</td>\n",
       "    </tr>\n",
       "  </tbody>\n",
       "</table>\n",
       "</div>"
      ],
      "text/plain": [
       "                  gdp_pc_pp             pop  pov_head      shew  \\\n",
       "province                                                          \n",
       "Abra                133.688   240135.244121  0.373595  0.953416   \n",
       "Agusan Del Norte    179.014   661728.454375  0.346715  0.821277   \n",
       "Agusan Del Sur      126.492   677779.682154  0.480785  0.821277   \n",
       "Aklan               119.962   554414.442422  0.249662  0.823003   \n",
       "Albay               158.629  1264097.894966  0.409587  0.800000   \n",
       "\n",
       "                  gdp_pc_pp_nat  rel_gdp_pp    share1   axfin_p   axfin_r  \\\n",
       "province                                                                    \n",
       "Abra                 184.136685    0.726026  0.374005  0.693233  0.693233   \n",
       "Agusan Del Norte     184.136685    0.972180  0.279308  0.496880  0.496880   \n",
       "Agusan Del Sur       184.136685    0.686946  0.395282  0.475969  0.475969   \n",
       "Aklan                184.136685    0.651483  0.416799  0.660083  0.660083   \n",
       "Albay                184.136685    0.861474  0.315201  0.551314  0.551314   \n",
       "\n",
       "                  social_p  social_r  \n",
       "province                              \n",
       "Abra              0.408683  0.408683  \n",
       "Agusan Del Norte  0.388003  0.388003  \n",
       "Agusan Del Sur    0.388003  0.388003  \n",
       "Aklan             0.432903  0.432903  \n",
       "Albay             0.403794  0.403794  "
      ]
     },
     "execution_count": 165,
     "metadata": {},
     "output_type": "execute_result"
    }
   ],
   "source": [
    "#acess to bank accounts : we use the same value for poor and nonpoor households\n",
    "df[\"axfin_p\"]=df[\"axfin_r\"]=data_from_excel[\"%Savings Deposit 2012\"]\n",
    "\n",
    "#share of income from transfers: we use the same value for poor and nonpoor, and we sum two columns of the input data\n",
    "df[\"social_p\"]=df[\"social_r\"]=data_from_excel[[\"% Other sources of income 2012\",\"% Other receipts 2012\"]].sum(axis=1)\n",
    "\n",
    "df.head()"
   ]
  },
  {
   "cell_type": "markdown",
   "metadata": {},
   "source": [
    "# Loading data on exposure, hazard, and protection"
   ]
  },
  {
   "cell_type": "markdown",
   "metadata": {},
   "source": [
    "### Exposure (population in flood-prone areas)"
   ]
  },
  {
   "cell_type": "markdown",
   "metadata": {},
   "source": [
    "Exposure comes from different files, for instance they could be provided by DOST."
   ]
  },
  {
   "cell_type": "markdown",
   "metadata": {},
   "source": [
    "#### River floods"
   ]
  },
  {
   "cell_type": "code",
   "execution_count": 166,
   "metadata": {
    "ExecuteTime": {
     "end_time": "2016-03-01T17:08:40.191616",
     "start_time": "2016-03-01T17:08:40.174604"
    },
    "collapsed": false
   },
   "outputs": [
    {
     "data": {
      "text/html": [
       "<div>\n",
       "<table border=\"1\" class=\"dataframe\">\n",
       "  <thead>\n",
       "    <tr style=\"text-align: right;\">\n",
       "      <th></th>\n",
       "      <th>rp10_pop</th>\n",
       "      <th>rp100_pop</th>\n",
       "    </tr>\n",
       "    <tr>\n",
       "      <th>NAME_1</th>\n",
       "      <th></th>\n",
       "      <th></th>\n",
       "    </tr>\n",
       "  </thead>\n",
       "  <tbody>\n",
       "    <tr>\n",
       "      <th>Abra</th>\n",
       "      <td>0.1641</td>\n",
       "      <td>0.2977</td>\n",
       "    </tr>\n",
       "    <tr>\n",
       "      <th>Agusan Del Norte</th>\n",
       "      <td>0.3180</td>\n",
       "      <td>0.3440</td>\n",
       "    </tr>\n",
       "    <tr>\n",
       "      <th>Agusan Del Sur</th>\n",
       "      <td>0.1146</td>\n",
       "      <td>0.1531</td>\n",
       "    </tr>\n",
       "    <tr>\n",
       "      <th>Aklan</th>\n",
       "      <td>0.0000</td>\n",
       "      <td>0.0000</td>\n",
       "    </tr>\n",
       "    <tr>\n",
       "      <th>Albay</th>\n",
       "      <td>0.0000</td>\n",
       "      <td>0.0000</td>\n",
       "    </tr>\n",
       "  </tbody>\n",
       "</table>\n",
       "</div>"
      ],
      "text/plain": [
       "                  rp10_pop  rp100_pop\n",
       "NAME_1                               \n",
       "Abra                0.1641     0.2977\n",
       "Agusan Del Norte    0.3180     0.3440\n",
       "Agusan Del Sur      0.1146     0.1531\n",
       "Aklan               0.0000     0.0000\n",
       "Albay               0.0000     0.0000"
      ]
     },
     "execution_count": 166,
     "metadata": {},
     "output_type": "execute_result"
    }
   ],
   "source": [
    "#Exposure to RIVER floods (at present from GLOFRIS)\n",
    "pop_exposed = pd.read_csv(\"inputs/pop_exposed.csv\",index_col=[\"NAME_1\"])\n",
    "pop_exposed.index=pop_exposed.index.str.title()\n",
    "pop_exposed.head()"
   ]
  },
  {
   "cell_type": "markdown",
   "metadata": {},
   "source": [
    "Note how for some provinces (Aklan, Albay) are not exposed to river floods according to our data source. Also, the data we have here is for several return periods. The model can work either with on single return period or several return periods. The information on different exposed periods sorted in a different variable, `fa_ratios`.\n",
    "\n",
    "First we define the exposure (Fraction of people Affected) as the one corresponding to 10 yr return period."
   ]
  },
  {
   "cell_type": "code",
   "execution_count": 167,
   "metadata": {
    "ExecuteTime": {
     "end_time": "2016-03-01T17:08:40.264673",
     "start_time": "2016-03-01T17:08:40.196619"
    },
    "collapsed": false
   },
   "outputs": [
    {
     "data": {
      "text/html": [
       "<div>\n",
       "<table border=\"1\" class=\"dataframe\">\n",
       "  <thead>\n",
       "    <tr style=\"text-align: right;\">\n",
       "      <th></th>\n",
       "      <th>fa</th>\n",
       "    </tr>\n",
       "    <tr>\n",
       "      <th>NAME_1</th>\n",
       "      <th></th>\n",
       "    </tr>\n",
       "  </thead>\n",
       "  <tbody>\n",
       "    <tr>\n",
       "      <th>Abra</th>\n",
       "      <td>0.1641</td>\n",
       "    </tr>\n",
       "    <tr>\n",
       "      <th>Agusan Del Norte</th>\n",
       "      <td>0.3180</td>\n",
       "    </tr>\n",
       "    <tr>\n",
       "      <th>Agusan Del Sur</th>\n",
       "      <td>0.1146</td>\n",
       "    </tr>\n",
       "    <tr>\n",
       "      <th>Aklan</th>\n",
       "      <td>0.0000</td>\n",
       "    </tr>\n",
       "    <tr>\n",
       "      <th>Albay</th>\n",
       "      <td>0.0000</td>\n",
       "    </tr>\n",
       "  </tbody>\n",
       "</table>\n",
       "</div>"
      ],
      "text/plain": [
       "                      fa\n",
       "NAME_1                  \n",
       "Abra              0.1641\n",
       "Agusan Del Norte  0.3180\n",
       "Agusan Del Sur    0.1146\n",
       "Aklan             0.0000\n",
       "Albay             0.0000"
      ]
     },
     "execution_count": 167,
     "metadata": {},
     "output_type": "execute_result"
    }
   ],
   "source": [
    "expo_river = pop_exposed[[\"rp10_pop\"]]\n",
    "expo_river.columns=[\"fa\"]\n",
    "expo_river.head()"
   ]
  },
  {
   "cell_type": "markdown",
   "metadata": {},
   "source": [
    "Then we define the exposure to other return period events relative to the exposure to the 10yr event"
   ]
  },
  {
   "cell_type": "code",
   "execution_count": 168,
   "metadata": {
    "ExecuteTime": {
     "end_time": "2016-03-01T17:08:40.309704",
     "start_time": "2016-03-01T17:08:40.268676"
    },
    "collapsed": false
   },
   "outputs": [
    {
     "data": {
      "text/html": [
       "<div>\n",
       "<table border=\"1\" class=\"dataframe\">\n",
       "  <thead>\n",
       "    <tr style=\"text-align: right;\">\n",
       "      <th>rp</th>\n",
       "      <th>10</th>\n",
       "      <th>100</th>\n",
       "    </tr>\n",
       "    <tr>\n",
       "      <th>province</th>\n",
       "      <th></th>\n",
       "      <th></th>\n",
       "    </tr>\n",
       "  </thead>\n",
       "  <tbody>\n",
       "    <tr>\n",
       "      <th>Abra</th>\n",
       "      <td>1</td>\n",
       "      <td>1.814138</td>\n",
       "    </tr>\n",
       "    <tr>\n",
       "      <th>Agusan Del Norte</th>\n",
       "      <td>1</td>\n",
       "      <td>1.081761</td>\n",
       "    </tr>\n",
       "    <tr>\n",
       "      <th>Agusan Del Sur</th>\n",
       "      <td>1</td>\n",
       "      <td>1.335951</td>\n",
       "    </tr>\n",
       "    <tr>\n",
       "      <th>Aklan</th>\n",
       "      <td>NaN</td>\n",
       "      <td>NaN</td>\n",
       "    </tr>\n",
       "    <tr>\n",
       "      <th>Albay</th>\n",
       "      <td>NaN</td>\n",
       "      <td>NaN</td>\n",
       "    </tr>\n",
       "  </tbody>\n",
       "</table>\n",
       "</div>"
      ],
      "text/plain": [
       "rp                10        100\n",
       "province                       \n",
       "Abra                1  1.814138\n",
       "Agusan Del Norte    1  1.081761\n",
       "Agusan Del Sur      1  1.335951\n",
       "Aklan             NaN       NaN\n",
       "Albay             NaN       NaN"
      ]
     },
     "execution_count": 168,
     "metadata": {},
     "output_type": "execute_result"
    }
   ],
   "source": [
    "fa_ratios_river = pop_exposed.div(expo_river.squeeze(),axis=0)\n",
    "fa_ratios_river.columns=[10,100]\n",
    "fa_ratios_river.columns.name=\"rp\"\n",
    "fa_ratios_river.index.name=\"province\"\n",
    "fa_ratios_river.head()"
   ]
  },
  {
   "cell_type": "markdown",
   "metadata": {},
   "source": [
    "#### Coastal floods"
   ]
  },
  {
   "cell_type": "markdown",
   "metadata": {},
   "source": [
    "Now coastal floods"
   ]
  },
  {
   "cell_type": "code",
   "execution_count": 169,
   "metadata": {
    "collapsed": false
   },
   "outputs": [
    {
     "data": {
      "text/html": [
       "<div>\n",
       "<table border=\"1\" class=\"dataframe\">\n",
       "  <thead>\n",
       "    <tr style=\"text-align: right;\">\n",
       "      <th></th>\n",
       "      <th>id_1</th>\n",
       "      <th>pop_landscan</th>\n",
       "      <th>pop_flooded</th>\n",
       "      <th>fa_coast</th>\n",
       "    </tr>\n",
       "  </thead>\n",
       "  <tbody>\n",
       "    <tr>\n",
       "      <th>0</th>\n",
       "      <td>Abra</td>\n",
       "      <td>279104</td>\n",
       "      <td>0.0000</td>\n",
       "      <td>0.000000</td>\n",
       "    </tr>\n",
       "    <tr>\n",
       "      <th>1</th>\n",
       "      <td>Agusan del Norte</td>\n",
       "      <td>704064</td>\n",
       "      <td>70048.4380</td>\n",
       "      <td>0.099492</td>\n",
       "    </tr>\n",
       "    <tr>\n",
       "      <th>2</th>\n",
       "      <td>Agusan del Sur</td>\n",
       "      <td>798685</td>\n",
       "      <td>8112.8823</td>\n",
       "      <td>0.010158</td>\n",
       "    </tr>\n",
       "    <tr>\n",
       "      <th>3</th>\n",
       "      <td>Aklan</td>\n",
       "      <td>556987</td>\n",
       "      <td>61929.0470</td>\n",
       "      <td>0.111186</td>\n",
       "    </tr>\n",
       "    <tr>\n",
       "      <th>4</th>\n",
       "      <td>Albay</td>\n",
       "      <td>1455600</td>\n",
       "      <td>13530.8800</td>\n",
       "      <td>0.009296</td>\n",
       "    </tr>\n",
       "  </tbody>\n",
       "</table>\n",
       "</div>"
      ],
      "text/plain": [
       "               id_1  pop_landscan  pop_flooded  fa_coast\n",
       "0              Abra        279104       0.0000  0.000000\n",
       "1  Agusan del Norte        704064   70048.4380  0.099492\n",
       "2    Agusan del Sur        798685    8112.8823  0.010158\n",
       "3             Aklan        556987   61929.0470  0.111186\n",
       "4             Albay       1455600   13530.8800  0.009296"
      ]
     },
     "execution_count": 169,
     "metadata": {},
     "output_type": "execute_result"
    }
   ],
   "source": [
    "pd.read_csv(\"inputs/exposure_to_coastal_foods.csv\").head() #inspecting the raw data"
   ]
  },
  {
   "cell_type": "code",
   "execution_count": 170,
   "metadata": {
    "collapsed": false
   },
   "outputs": [
    {
     "data": {
      "text/html": [
       "<div>\n",
       "<table border=\"1\" class=\"dataframe\">\n",
       "  <thead>\n",
       "    <tr style=\"text-align: right;\">\n",
       "      <th></th>\n",
       "      <th>fa</th>\n",
       "    </tr>\n",
       "    <tr>\n",
       "      <th>id_1</th>\n",
       "      <th></th>\n",
       "    </tr>\n",
       "  </thead>\n",
       "  <tbody>\n",
       "    <tr>\n",
       "      <th>Abra</th>\n",
       "      <td>0.000000</td>\n",
       "    </tr>\n",
       "    <tr>\n",
       "      <th>Agusan Del Norte</th>\n",
       "      <td>0.099492</td>\n",
       "    </tr>\n",
       "    <tr>\n",
       "      <th>Agusan Del Sur</th>\n",
       "      <td>0.010158</td>\n",
       "    </tr>\n",
       "    <tr>\n",
       "      <th>Aklan</th>\n",
       "      <td>0.111186</td>\n",
       "    </tr>\n",
       "    <tr>\n",
       "      <th>Albay</th>\n",
       "      <td>0.009296</td>\n",
       "    </tr>\n",
       "  </tbody>\n",
       "</table>\n",
       "</div>"
      ],
      "text/plain": [
       "                        fa\n",
       "id_1                      \n",
       "Abra              0.000000\n",
       "Agusan Del Norte  0.099492\n",
       "Agusan Del Sur    0.010158\n",
       "Aklan             0.111186\n",
       "Albay             0.009296"
      ]
     },
     "execution_count": 170,
     "metadata": {},
     "output_type": "execute_result"
    }
   ],
   "source": [
    "expo_coast = pd.read_csv(\"inputs/exposure_to_coastal_foods.csv\", usecols=[\"fa_coast\", \"id_1\"],index_col=\"id_1\", )\n",
    "expo_coast.index = expo_coast.index.str.title() #matches case\n",
    "expo_coast.columns=[\"fa\"]\n",
    "expo_coast.head()"
   ]
  },
  {
   "cell_type": "markdown",
   "metadata": {},
   "source": [
    "For coastal flood the data we have has only one return period."
   ]
  },
  {
   "cell_type": "code",
   "execution_count": 171,
   "metadata": {
    "collapsed": false
   },
   "outputs": [
    {
     "data": {
      "text/html": [
       "<div>\n",
       "<table border=\"1\" class=\"dataframe\">\n",
       "  <thead>\n",
       "    <tr style=\"text-align: right;\">\n",
       "      <th>rp</th>\n",
       "      <th>10</th>\n",
       "    </tr>\n",
       "    <tr>\n",
       "      <th>province</th>\n",
       "      <th></th>\n",
       "    </tr>\n",
       "  </thead>\n",
       "  <tbody>\n",
       "    <tr>\n",
       "      <th>Abra</th>\n",
       "      <td>1</td>\n",
       "    </tr>\n",
       "    <tr>\n",
       "      <th>Agusan Del Norte</th>\n",
       "      <td>1</td>\n",
       "    </tr>\n",
       "    <tr>\n",
       "      <th>Agusan Del Sur</th>\n",
       "      <td>1</td>\n",
       "    </tr>\n",
       "    <tr>\n",
       "      <th>Aklan</th>\n",
       "      <td>1</td>\n",
       "    </tr>\n",
       "    <tr>\n",
       "      <th>Albay</th>\n",
       "      <td>1</td>\n",
       "    </tr>\n",
       "  </tbody>\n",
       "</table>\n",
       "</div>"
      ],
      "text/plain": [
       "rp                10\n",
       "province            \n",
       "Abra               1\n",
       "Agusan Del Norte   1\n",
       "Agusan Del Sur     1\n",
       "Aklan              1\n",
       "Albay              1"
      ]
     },
     "execution_count": 171,
     "metadata": {},
     "output_type": "execute_result"
    }
   ],
   "source": [
    "fa_ratios_coast = pd.DataFrame(1,index=expo_coast.index, columns=[10])\n",
    "fa_ratios_coast.index.name = \"province\"\n",
    "fa_ratios_coast.columns.name=\"rp\"\n",
    "fa_ratios_coast.head()"
   ]
  },
  {
   "cell_type": "markdown",
   "metadata": {},
   "source": [
    "#### Combining hazard and differentiating poor and nonpoor"
   ]
  },
  {
   "cell_type": "markdown",
   "metadata": {},
   "source": [
    "Finally we combine the data on table with province, hzard, return period. We store multi-hazard data on a different dataframe.\n"
   ]
  },
  {
   "cell_type": "code",
   "execution_count": 172,
   "metadata": {
    "collapsed": false
   },
   "outputs": [
    {
     "data": {
      "text/html": [
       "<div>\n",
       "<table border=\"1\" class=\"dataframe\">\n",
       "  <thead>\n",
       "    <tr style=\"text-align: right;\">\n",
       "      <th></th>\n",
       "      <th>param</th>\n",
       "      <th>fa</th>\n",
       "    </tr>\n",
       "    <tr>\n",
       "      <th>province</th>\n",
       "      <th>hazard</th>\n",
       "      <th></th>\n",
       "    </tr>\n",
       "  </thead>\n",
       "  <tbody>\n",
       "    <tr>\n",
       "      <th rowspan=\"2\" valign=\"top\">Abra</th>\n",
       "      <th>coast</th>\n",
       "      <td>0.000000</td>\n",
       "    </tr>\n",
       "    <tr>\n",
       "      <th>river</th>\n",
       "      <td>0.164100</td>\n",
       "    </tr>\n",
       "    <tr>\n",
       "      <th rowspan=\"2\" valign=\"top\">Agusan Del Norte</th>\n",
       "      <th>coast</th>\n",
       "      <td>0.099492</td>\n",
       "    </tr>\n",
       "    <tr>\n",
       "      <th>river</th>\n",
       "      <td>0.318000</td>\n",
       "    </tr>\n",
       "    <tr>\n",
       "      <th rowspan=\"2\" valign=\"top\">Agusan Del Sur</th>\n",
       "      <th>coast</th>\n",
       "      <td>0.010158</td>\n",
       "    </tr>\n",
       "    <tr>\n",
       "      <th>river</th>\n",
       "      <td>0.114600</td>\n",
       "    </tr>\n",
       "    <tr>\n",
       "      <th rowspan=\"2\" valign=\"top\">Aklan</th>\n",
       "      <th>coast</th>\n",
       "      <td>0.111186</td>\n",
       "    </tr>\n",
       "    <tr>\n",
       "      <th>river</th>\n",
       "      <td>0.000000</td>\n",
       "    </tr>\n",
       "    <tr>\n",
       "      <th rowspan=\"2\" valign=\"top\">Albay</th>\n",
       "      <th>coast</th>\n",
       "      <td>0.009296</td>\n",
       "    </tr>\n",
       "    <tr>\n",
       "      <th>river</th>\n",
       "      <td>0.000000</td>\n",
       "    </tr>\n",
       "    <tr>\n",
       "      <th rowspan=\"2\" valign=\"top\">Antique</th>\n",
       "      <th>coast</th>\n",
       "      <td>0.065975</td>\n",
       "    </tr>\n",
       "    <tr>\n",
       "      <th>river</th>\n",
       "      <td>0.000000</td>\n",
       "    </tr>\n",
       "    <tr>\n",
       "      <th rowspan=\"2\" valign=\"top\">Apayao</th>\n",
       "      <th>coast</th>\n",
       "      <td>0.000000</td>\n",
       "    </tr>\n",
       "    <tr>\n",
       "      <th>river</th>\n",
       "      <td>0.004000</td>\n",
       "    </tr>\n",
       "    <tr>\n",
       "      <th rowspan=\"2\" valign=\"top\">Aurora</th>\n",
       "      <th>coast</th>\n",
       "      <td>0.029738</td>\n",
       "    </tr>\n",
       "    <tr>\n",
       "      <th>river</th>\n",
       "      <td>0.000000</td>\n",
       "    </tr>\n",
       "    <tr>\n",
       "      <th rowspan=\"2\" valign=\"top\">Basilan</th>\n",
       "      <th>coast</th>\n",
       "      <td>0.012682</td>\n",
       "    </tr>\n",
       "    <tr>\n",
       "      <th>river</th>\n",
       "      <td>0.000000</td>\n",
       "    </tr>\n",
       "    <tr>\n",
       "      <th rowspan=\"2\" valign=\"top\">Bataan</th>\n",
       "      <th>coast</th>\n",
       "      <td>0.006422</td>\n",
       "    </tr>\n",
       "    <tr>\n",
       "      <th>river</th>\n",
       "      <td>0.000000</td>\n",
       "    </tr>\n",
       "  </tbody>\n",
       "</table>\n",
       "</div>"
      ],
      "text/plain": [
       "param                          fa\n",
       "province         hazard          \n",
       "Abra             coast   0.000000\n",
       "                 river   0.164100\n",
       "Agusan Del Norte coast   0.099492\n",
       "                 river   0.318000\n",
       "Agusan Del Sur   coast   0.010158\n",
       "                 river   0.114600\n",
       "Aklan            coast   0.111186\n",
       "                 river   0.000000\n",
       "Albay            coast   0.009296\n",
       "                 river   0.000000\n",
       "Antique          coast   0.065975\n",
       "                 river   0.000000\n",
       "Apayao           coast   0.000000\n",
       "                 river   0.004000\n",
       "Aurora           coast   0.029738\n",
       "                 river   0.000000\n",
       "Basilan          coast   0.012682\n",
       "                 river   0.000000\n",
       "Bataan           coast   0.006422\n",
       "                 river   0.000000"
      ]
     },
     "execution_count": 172,
     "metadata": {},
     "output_type": "execute_result"
    }
   ],
   "source": [
    "df_multihazard = pd.concat( [expo_coast,expo_river],keys=[\"coast\", \"river\"],names=[\"hazard\", \"param\"],axis=1)\n",
    "df_multihazard.index.name = \"province\"\n",
    "df_multihazard=df_multihazard.stack(\"hazard\")\n",
    "df_multihazard.head(20)"
   ]
  },
  {
   "cell_type": "markdown",
   "metadata": {},
   "source": [
    "The model uses exposure for poor and nonpoor people separatedly.\n",
    "Based on international cas estudies, poor people are about 15% more exposed to floods than nonpoor people. "
   ]
  },
  {
   "cell_type": "code",
   "execution_count": 173,
   "metadata": {
    "code_folding": [],
    "collapsed": false
   },
   "outputs": [
    {
     "data": {
      "text/html": [
       "<div>\n",
       "<table border=\"1\" class=\"dataframe\">\n",
       "  <thead>\n",
       "    <tr style=\"text-align: right;\">\n",
       "      <th></th>\n",
       "      <th>param</th>\n",
       "      <th>pov_head</th>\n",
       "      <th>fap</th>\n",
       "      <th>far</th>\n",
       "    </tr>\n",
       "    <tr>\n",
       "      <th>province</th>\n",
       "      <th>hazard</th>\n",
       "      <th></th>\n",
       "      <th></th>\n",
       "      <th></th>\n",
       "    </tr>\n",
       "  </thead>\n",
       "  <tbody>\n",
       "    <tr>\n",
       "      <th rowspan=\"2\" valign=\"top\">Abra</th>\n",
       "      <th>coast</th>\n",
       "      <td>0.373595</td>\n",
       "      <td>NaN</td>\n",
       "      <td>NaN</td>\n",
       "    </tr>\n",
       "    <tr>\n",
       "      <th>river</th>\n",
       "      <td>0.373595</td>\n",
       "      <td>0.188715</td>\n",
       "      <td>0.149419</td>\n",
       "    </tr>\n",
       "    <tr>\n",
       "      <th rowspan=\"2\" valign=\"top\">Agusan Del Norte</th>\n",
       "      <th>coast</th>\n",
       "      <td>0.346715</td>\n",
       "      <td>0.114415</td>\n",
       "      <td>0.091571</td>\n",
       "    </tr>\n",
       "    <tr>\n",
       "      <th>river</th>\n",
       "      <td>0.346715</td>\n",
       "      <td>0.365700</td>\n",
       "      <td>0.292684</td>\n",
       "    </tr>\n",
       "    <tr>\n",
       "      <th>Agusan Del Sur</th>\n",
       "      <th>coast</th>\n",
       "      <td>0.480785</td>\n",
       "      <td>0.011681</td>\n",
       "      <td>0.008747</td>\n",
       "    </tr>\n",
       "  </tbody>\n",
       "</table>\n",
       "</div>"
      ],
      "text/plain": [
       "param                    pov_head       fap       far\n",
       "province         hazard                              \n",
       "Abra             coast   0.373595       NaN       NaN\n",
       "                 river   0.373595  0.188715  0.149419\n",
       "Agusan Del Norte coast   0.346715  0.114415  0.091571\n",
       "                 river   0.346715  0.365700  0.292684\n",
       "Agusan Del Sur   coast   0.480785  0.011681  0.008747"
      ]
     },
     "execution_count": 173,
     "metadata": {},
     "output_type": "execute_result"
    }
   ],
   "source": [
    "dfm = pd.merge(\n",
    "    df_multihazard.reset_index(), df[\"pov_head\"].reset_index(), on=\"province\")\n",
    "\n",
    "pe=15/100\n",
    "fa= dfm[\"fa\"]\n",
    "ph = dfm[\"pov_head\"]\n",
    "\n",
    "fap = fa*(1+pe)\n",
    "far= (fa-ph*fap)/(1-ph)\n",
    "\n",
    "dfm[\"fap\"]=fap\n",
    "dfm[\"far\"]=far\n",
    "\n",
    "\n",
    "dfm = dfm.set_index([\"province\",\"hazard\"]).drop(\"fa\",axis=1)\n",
    "dfm.replace(0,np.nan,inplace=True) #treat no exposure as no data\n",
    "dfm.head()\n"
   ]
  },
  {
   "cell_type": "markdown",
   "metadata": {},
   "source": [
    "We store the the fa_ratios separatedly"
   ]
  },
  {
   "cell_type": "code",
   "execution_count": 195,
   "metadata": {
    "collapsed": false
   },
   "outputs": [
    {
     "data": {
      "text/html": [
       "<div>\n",
       "<table border=\"1\" class=\"dataframe\">\n",
       "  <thead>\n",
       "    <tr style=\"text-align: right;\">\n",
       "      <th></th>\n",
       "      <th>rp</th>\n",
       "      <th>10</th>\n",
       "      <th>100</th>\n",
       "    </tr>\n",
       "    <tr>\n",
       "      <th>province</th>\n",
       "      <th>hazard</th>\n",
       "      <th></th>\n",
       "      <th></th>\n",
       "    </tr>\n",
       "  </thead>\n",
       "  <tbody>\n",
       "    <tr>\n",
       "      <th rowspan=\"2\" valign=\"top\">Abra</th>\n",
       "      <th>river</th>\n",
       "      <td>1</td>\n",
       "      <td>1.814138</td>\n",
       "    </tr>\n",
       "    <tr>\n",
       "      <th>coast</th>\n",
       "      <td>1</td>\n",
       "      <td>NaN</td>\n",
       "    </tr>\n",
       "    <tr>\n",
       "      <th rowspan=\"2\" valign=\"top\">Agusan Del Norte</th>\n",
       "      <th>river</th>\n",
       "      <td>1</td>\n",
       "      <td>1.081761</td>\n",
       "    </tr>\n",
       "    <tr>\n",
       "      <th>coast</th>\n",
       "      <td>1</td>\n",
       "      <td>NaN</td>\n",
       "    </tr>\n",
       "    <tr>\n",
       "      <th>Agusan Del Sur</th>\n",
       "      <th>river</th>\n",
       "      <td>1</td>\n",
       "      <td>1.335951</td>\n",
       "    </tr>\n",
       "  </tbody>\n",
       "</table>\n",
       "</div>"
      ],
      "text/plain": [
       "rp                       10        100\n",
       "province         hazard               \n",
       "Abra             river     1  1.814138\n",
       "                 coast     1       NaN\n",
       "Agusan Del Norte river     1  1.081761\n",
       "                 coast     1       NaN\n",
       "Agusan Del Sur   river     1  1.335951"
      ]
     },
     "execution_count": 195,
     "metadata": {},
     "output_type": "execute_result"
    }
   ],
   "source": [
    "fa_ratios = pd.concat([fa_ratios_river, fa_ratios_coast], keys=[\"river\",\"coast\"], names=[\"hazard\"], axis=1).stack(\"hazard\")\n",
    "fa_ratios.head()"
   ]
  },
  {
   "cell_type": "code",
   "execution_count": 175,
   "metadata": {
    "collapsed": false
   },
   "outputs": [],
   "source": [
    "fa_ratios.to_csv(\"fa_ratios.csv\")"
   ]
  },
  {
   "cell_type": "markdown",
   "metadata": {},
   "source": [
    "#### Files for single-hazard version of the modem"
   ]
  },
  {
   "cell_type": "code",
   "execution_count": 176,
   "metadata": {
    "collapsed": true
   },
   "outputs": [],
   "source": [
    "fa_ratios_river.to_csv(\"fa_ratios_river.csv\") #this one stored to have an example of single hzard multiple return periods."
   ]
  },
  {
   "cell_type": "code",
   "execution_count": 177,
   "metadata": {
    "collapsed": false
   },
   "outputs": [
    {
     "data": {
      "text/html": [
       "<div>\n",
       "<table border=\"1\" class=\"dataframe\">\n",
       "  <thead>\n",
       "    <tr style=\"text-align: right;\">\n",
       "      <th></th>\n",
       "      <th>gdp_pc_pp</th>\n",
       "      <th>pop</th>\n",
       "      <th>pov_head</th>\n",
       "      <th>shew</th>\n",
       "      <th>gdp_pc_pp_nat</th>\n",
       "      <th>rel_gdp_pp</th>\n",
       "      <th>share1</th>\n",
       "      <th>axfin_p</th>\n",
       "      <th>axfin_r</th>\n",
       "      <th>social_p</th>\n",
       "      <th>social_r</th>\n",
       "      <th>fap</th>\n",
       "      <th>far</th>\n",
       "    </tr>\n",
       "    <tr>\n",
       "      <th>province</th>\n",
       "      <th></th>\n",
       "      <th></th>\n",
       "      <th></th>\n",
       "      <th></th>\n",
       "      <th></th>\n",
       "      <th></th>\n",
       "      <th></th>\n",
       "      <th></th>\n",
       "      <th></th>\n",
       "      <th></th>\n",
       "      <th></th>\n",
       "      <th></th>\n",
       "      <th></th>\n",
       "    </tr>\n",
       "  </thead>\n",
       "  <tbody>\n",
       "    <tr>\n",
       "      <th>Abra</th>\n",
       "      <td>133.688</td>\n",
       "      <td>240135.244121</td>\n",
       "      <td>0.373595</td>\n",
       "      <td>0.953416</td>\n",
       "      <td>184.136685</td>\n",
       "      <td>0.726026</td>\n",
       "      <td>0.374005</td>\n",
       "      <td>0.693233</td>\n",
       "      <td>0.693233</td>\n",
       "      <td>0.408683</td>\n",
       "      <td>0.408683</td>\n",
       "      <td>0.188715</td>\n",
       "      <td>0.149419</td>\n",
       "    </tr>\n",
       "    <tr>\n",
       "      <th>Agusan Del Norte</th>\n",
       "      <td>179.014</td>\n",
       "      <td>661728.454375</td>\n",
       "      <td>0.346715</td>\n",
       "      <td>0.821277</td>\n",
       "      <td>184.136685</td>\n",
       "      <td>0.972180</td>\n",
       "      <td>0.279308</td>\n",
       "      <td>0.496880</td>\n",
       "      <td>0.496880</td>\n",
       "      <td>0.388003</td>\n",
       "      <td>0.388003</td>\n",
       "      <td>0.365700</td>\n",
       "      <td>0.292684</td>\n",
       "    </tr>\n",
       "    <tr>\n",
       "      <th>Agusan Del Sur</th>\n",
       "      <td>126.492</td>\n",
       "      <td>677779.682154</td>\n",
       "      <td>0.480785</td>\n",
       "      <td>0.821277</td>\n",
       "      <td>184.136685</td>\n",
       "      <td>0.686946</td>\n",
       "      <td>0.395282</td>\n",
       "      <td>0.475969</td>\n",
       "      <td>0.475969</td>\n",
       "      <td>0.388003</td>\n",
       "      <td>0.388003</td>\n",
       "      <td>0.131790</td>\n",
       "      <td>0.098682</td>\n",
       "    </tr>\n",
       "    <tr>\n",
       "      <th>Aklan</th>\n",
       "      <td>119.962</td>\n",
       "      <td>554414.442422</td>\n",
       "      <td>0.249662</td>\n",
       "      <td>0.823003</td>\n",
       "      <td>184.136685</td>\n",
       "      <td>0.651483</td>\n",
       "      <td>0.416799</td>\n",
       "      <td>0.660083</td>\n",
       "      <td>0.660083</td>\n",
       "      <td>0.432903</td>\n",
       "      <td>0.432903</td>\n",
       "      <td>NaN</td>\n",
       "      <td>NaN</td>\n",
       "    </tr>\n",
       "    <tr>\n",
       "      <th>Albay</th>\n",
       "      <td>158.629</td>\n",
       "      <td>1264097.894966</td>\n",
       "      <td>0.409587</td>\n",
       "      <td>0.800000</td>\n",
       "      <td>184.136685</td>\n",
       "      <td>0.861474</td>\n",
       "      <td>0.315201</td>\n",
       "      <td>0.551314</td>\n",
       "      <td>0.551314</td>\n",
       "      <td>0.403794</td>\n",
       "      <td>0.403794</td>\n",
       "      <td>NaN</td>\n",
       "      <td>NaN</td>\n",
       "    </tr>\n",
       "  </tbody>\n",
       "</table>\n",
       "</div>"
      ],
      "text/plain": [
       "                  gdp_pc_pp             pop  pov_head      shew  \\\n",
       "province                                                          \n",
       "Abra                133.688   240135.244121  0.373595  0.953416   \n",
       "Agusan Del Norte    179.014   661728.454375  0.346715  0.821277   \n",
       "Agusan Del Sur      126.492   677779.682154  0.480785  0.821277   \n",
       "Aklan               119.962   554414.442422  0.249662  0.823003   \n",
       "Albay               158.629  1264097.894966  0.409587  0.800000   \n",
       "\n",
       "                  gdp_pc_pp_nat  rel_gdp_pp    share1   axfin_p   axfin_r  \\\n",
       "province                                                                    \n",
       "Abra                 184.136685    0.726026  0.374005  0.693233  0.693233   \n",
       "Agusan Del Norte     184.136685    0.972180  0.279308  0.496880  0.496880   \n",
       "Agusan Del Sur       184.136685    0.686946  0.395282  0.475969  0.475969   \n",
       "Aklan                184.136685    0.651483  0.416799  0.660083  0.660083   \n",
       "Albay                184.136685    0.861474  0.315201  0.551314  0.551314   \n",
       "\n",
       "                  social_p  social_r       fap       far  \n",
       "province                                                  \n",
       "Abra              0.408683  0.408683  0.188715  0.149419  \n",
       "Agusan Del Norte  0.388003  0.388003  0.365700  0.292684  \n",
       "Agusan Del Sur    0.388003  0.388003  0.131790  0.098682  \n",
       "Aklan             0.432903  0.432903       NaN       NaN  \n",
       "Albay             0.403794  0.403794       NaN       NaN  "
      ]
     },
     "execution_count": 177,
     "metadata": {},
     "output_type": "execute_result"
    }
   ],
   "source": [
    "# df[\"fa\"] = expo_river[\"fa\"] #just so that we can run the model with single hazard\n",
    "dfmriver = dfm.query(\"hazard=='river'\").reset_index(\"hazard\")[[\"fap\",\"far\"]]\n",
    "df[\"fap\"]=dfmriver[\"fap\"]\n",
    "df[\"far\"]=dfmriver[\"far\"]\n",
    "\n",
    "df.head()"
   ]
  },
  {
   "cell_type": "code",
   "execution_count": 178,
   "metadata": {
    "collapsed": false
   },
   "outputs": [
    {
     "data": {
      "text/plain": [
       "(37,)"
      ]
     },
     "execution_count": 178,
     "metadata": {},
     "output_type": "execute_result"
    }
   ],
   "source": [
    "df.fap.dropna().shape"
   ]
  },
  {
   "cell_type": "markdown",
   "metadata": {},
   "source": [
    "a### Vulnerability"
   ]
  },
  {
   "cell_type": "markdown",
   "metadata": {},
   "source": [
    "To assess asset vulnerability in each province, we use census data on roof and wall types in each province.\n",
    "We match these types to a given vulnerability with reduced vulnerability curves. Let us first open the files that matche wall and roof types to vulnerability."
   ]
  },
  {
   "cell_type": "markdown",
   "metadata": {
    "ExecuteTime": {
     "end_time": "2016-03-01T15:46:10.820589",
     "start_time": "2016-03-01T15:46:10.818588"
    }
   },
   "source": [
    "#### Reduced vulnerability curves for wall and roofs"
   ]
  },
  {
   "cell_type": "code",
   "execution_count": 179,
   "metadata": {
    "ExecuteTime": {
     "end_time": "2016-03-01T17:08:40.368752",
     "start_time": "2016-03-01T17:08:40.342730"
    },
    "collapsed": false
   },
   "outputs": [
    {
     "name": "stdout",
     "output_type": "stream",
     "text": [
      "Reduced vulnerability curve for roofs\n",
      "\n",
      "Roof_% Salvaged/mixed but predominatly salvaged materials 2012    0.7\n",
      "Roof_% Light/mixed but predominantly light materials 2012         0.4\n",
      "Roof_% Strong/mixed but predominantly strong materials 2012       0.1\n",
      "Name: 0, dtype: float64\n"
     ]
    }
   ],
   "source": [
    "#matches roof and wall types to vulnerabilities\n",
    "roof_types_to_vuln =pd.read_csv(\"inputs/roof_types_to_vuln.csv\").squeeze().sort_values(ascending=False)\n",
    "wall_types_to_vuln =pd.read_csv(\"inputs/wall_types_to_vuln.csv\").squeeze().sort_values(ascending=False)\n",
    "\n",
    "print(\"Reduced vulnerability curve for roofs\\n\")\n",
    "print(roof_types_to_vuln)\n",
    "#print(\"\\nReduced vulnerability curve for walls\")\n",
    "#print(wall_types_to_vuln)"
   ]
  },
  {
   "cell_type": "markdown",
   "metadata": {
    "ExecuteTime": {
     "end_time": "2016-03-01T15:47:04.801439",
     "start_time": "2016-03-01T15:47:04.799439"
    }
   },
   "source": [
    "#### Sorting roofs according to income"
   ]
  },
  {
   "cell_type": "markdown",
   "metadata": {},
   "source": [
    "The data for **roof** types in each province come from the excel file with socio-economic data we used at the begining."
   ]
  },
  {
   "cell_type": "code",
   "execution_count": 180,
   "metadata": {
    "ExecuteTime": {
     "end_time": "2016-03-01T17:08:40.409778",
     "start_time": "2016-03-01T17:08:40.381760"
    },
    "collapsed": false
   },
   "outputs": [
    {
     "data": {
      "text/html": [
       "<div>\n",
       "<table border=\"1\" class=\"dataframe\">\n",
       "  <thead>\n",
       "    <tr style=\"text-align: right;\">\n",
       "      <th></th>\n",
       "      <th>Roof_% Salvaged/mixed but predominatly salvaged materials 2012</th>\n",
       "      <th>Roof_% Light/mixed but predominantly light materials 2012</th>\n",
       "      <th>Roof_% Strong/mixed but predominantly strong materials 2012</th>\n",
       "    </tr>\n",
       "    <tr>\n",
       "      <th>province</th>\n",
       "      <th></th>\n",
       "      <th></th>\n",
       "      <th></th>\n",
       "    </tr>\n",
       "  </thead>\n",
       "  <tbody>\n",
       "    <tr>\n",
       "      <th>Abra</th>\n",
       "      <td>0.002667</td>\n",
       "      <td>0.050667</td>\n",
       "      <td>0.946667</td>\n",
       "    </tr>\n",
       "    <tr>\n",
       "      <th>Agusan Del Norte</th>\n",
       "      <td>0.007519</td>\n",
       "      <td>0.327068</td>\n",
       "      <td>0.665414</td>\n",
       "    </tr>\n",
       "    <tr>\n",
       "      <th>Agusan Del Sur</th>\n",
       "      <td>0.007519</td>\n",
       "      <td>0.327068</td>\n",
       "      <td>0.665414</td>\n",
       "    </tr>\n",
       "    <tr>\n",
       "      <th>Aklan</th>\n",
       "      <td>0.013100</td>\n",
       "      <td>0.183406</td>\n",
       "      <td>0.803493</td>\n",
       "    </tr>\n",
       "    <tr>\n",
       "      <th>Albay</th>\n",
       "      <td>0.008584</td>\n",
       "      <td>0.306438</td>\n",
       "      <td>0.684979</td>\n",
       "    </tr>\n",
       "  </tbody>\n",
       "</table>\n",
       "</div>"
      ],
      "text/plain": [
       "                  Roof_% Salvaged/mixed but predominatly salvaged materials 2012  \\\n",
       "province                                                                           \n",
       "Abra                                                       0.002667                \n",
       "Agusan Del Norte                                           0.007519                \n",
       "Agusan Del Sur                                             0.007519                \n",
       "Aklan                                                      0.013100                \n",
       "Albay                                                      0.008584                \n",
       "\n",
       "                  Roof_% Light/mixed but predominantly light materials 2012  \\\n",
       "province                                                                      \n",
       "Abra                                                       0.050667           \n",
       "Agusan Del Norte                                           0.327068           \n",
       "Agusan Del Sur                                             0.327068           \n",
       "Aklan                                                      0.183406           \n",
       "Albay                                                      0.306438           \n",
       "\n",
       "                  Roof_% Strong/mixed but predominantly strong materials 2012  \n",
       "province                                                                       \n",
       "Abra                                                       0.946667            \n",
       "Agusan Del Norte                                           0.665414            \n",
       "Agusan Del Sur                                             0.665414            \n",
       "Aklan                                                      0.803493            \n",
       "Albay                                                      0.684979            "
      ]
     },
     "execution_count": 180,
     "metadata": {},
     "output_type": "execute_result"
    }
   ],
   "source": [
    "share =data_from_excel[roof_types_to_vuln.index]\n",
    "share.head()"
   ]
  },
  {
   "cell_type": "markdown",
   "metadata": {},
   "source": [
    "Then we assume that the poorest households in  each province use the houses with lowest quality roofs."
   ]
  },
  {
   "cell_type": "code",
   "execution_count": 181,
   "metadata": {
    "ExecuteTime": {
     "end_time": "2016-03-01T17:08:40.447808",
     "start_time": "2016-03-01T17:08:40.416783"
    },
    "collapsed": false
   },
   "outputs": [
    {
     "name": "stdout",
     "output_type": "stream",
     "text": [
      "Type of roofs for nonpoor households:\n"
     ]
    },
    {
     "data": {
      "text/html": [
       "<div>\n",
       "<table border=\"1\" class=\"dataframe\">\n",
       "  <thead>\n",
       "    <tr style=\"text-align: right;\">\n",
       "      <th></th>\n",
       "      <th>Roof_% Salvaged/mixed but predominatly salvaged materials 2012</th>\n",
       "      <th>Roof_% Light/mixed but predominantly light materials 2012</th>\n",
       "      <th>Roof_% Strong/mixed but predominantly strong materials 2012</th>\n",
       "    </tr>\n",
       "    <tr>\n",
       "      <th>province</th>\n",
       "      <th></th>\n",
       "      <th></th>\n",
       "      <th></th>\n",
       "    </tr>\n",
       "  </thead>\n",
       "  <tbody>\n",
       "    <tr>\n",
       "      <th>Abra</th>\n",
       "      <td>0</td>\n",
       "      <td>0</td>\n",
       "      <td>0.626405</td>\n",
       "    </tr>\n",
       "    <tr>\n",
       "      <th>Agusan Del Norte</th>\n",
       "      <td>0</td>\n",
       "      <td>0</td>\n",
       "      <td>0.653285</td>\n",
       "    </tr>\n",
       "    <tr>\n",
       "      <th>Agusan Del Sur</th>\n",
       "      <td>0</td>\n",
       "      <td>0</td>\n",
       "      <td>0.519215</td>\n",
       "    </tr>\n",
       "    <tr>\n",
       "      <th>Aklan</th>\n",
       "      <td>0</td>\n",
       "      <td>0</td>\n",
       "      <td>0.750338</td>\n",
       "    </tr>\n",
       "    <tr>\n",
       "      <th>Albay</th>\n",
       "      <td>0</td>\n",
       "      <td>0</td>\n",
       "      <td>0.590413</td>\n",
       "    </tr>\n",
       "  </tbody>\n",
       "</table>\n",
       "</div>"
      ],
      "text/plain": [
       "                  Roof_% Salvaged/mixed but predominatly salvaged materials 2012  \\\n",
       "province                                                                           \n",
       "Abra                                                              0                \n",
       "Agusan Del Norte                                                  0                \n",
       "Agusan Del Sur                                                    0                \n",
       "Aklan                                                             0                \n",
       "Albay                                                             0                \n",
       "\n",
       "                  Roof_% Light/mixed but predominantly light materials 2012  \\\n",
       "province                                                                      \n",
       "Abra                                                              0           \n",
       "Agusan Del Norte                                                  0           \n",
       "Agusan Del Sur                                                    0           \n",
       "Aklan                                                             0           \n",
       "Albay                                                             0           \n",
       "\n",
       "                  Roof_% Strong/mixed but predominantly strong materials 2012  \n",
       "province                                                                       \n",
       "Abra                                                       0.626405            \n",
       "Agusan Del Norte                                           0.653285            \n",
       "Agusan Del Sur                                             0.519215            \n",
       "Aklan                                                      0.750338            \n",
       "Albay                                                      0.590413            "
      ]
     },
     "execution_count": 181,
     "metadata": {},
     "output_type": "execute_result"
    }
   ],
   "source": [
    "#sorts roof types according to income\n",
    "p=(share.cumsum(axis=1).add(-df[\"pov_head\"],axis=0)).clip(lower=0)\n",
    "poor=(share-p).clip(lower=0)\n",
    "rich=share-poor\n",
    "\n",
    "print(\"Type of roofs for nonpoor households:\")\n",
    "rich.head()"
   ]
  },
  {
   "cell_type": "markdown",
   "metadata": {},
   "source": [
    "Finally we average vulnerability accross roof types"
   ]
  },
  {
   "cell_type": "code",
   "execution_count": 182,
   "metadata": {
    "ExecuteTime": {
     "end_time": "2016-03-01T17:08:40.464824",
     "start_time": "2016-03-01T17:08:40.450810"
    },
    "collapsed": false
   },
   "outputs": [
    {
     "data": {
      "text/plain": [
       "province\n",
       "Abra                0.144969\n",
       "Agusan Del Norte    0.396011\n",
       "Agusan Del Sur      0.313467\n",
       "Aklan               0.351869\n",
       "Albay               0.337023\n",
       "dtype: float64"
      ]
     },
     "execution_count": 182,
     "metadata": {},
     "output_type": "execute_result"
    }
   ],
   "source": [
    "#averages vulnerability accross roof type\n",
    "vp_roof=((poor*roof_types_to_vuln).sum(axis=1)/df[\"pov_head\"] )\n",
    "vr_roof=(rich*roof_types_to_vuln).sum(axis=1)/(1-df[\"pov_head\"])\n",
    "\n",
    "vp_roof.head()"
   ]
  },
  {
   "cell_type": "markdown",
   "metadata": {
    "ExecuteTime": {
     "end_time": "2016-03-01T15:47:04.801439",
     "start_time": "2016-03-01T15:47:04.799439"
    }
   },
   "source": [
    "#### Sorting walls according to income"
   ]
  },
  {
   "cell_type": "markdown",
   "metadata": {},
   "source": [
    "Then we do the same for <b>walls</b>..."
   ]
  },
  {
   "cell_type": "code",
   "execution_count": 183,
   "metadata": {
    "ExecuteTime": {
     "end_time": "2016-03-01T17:08:40.503851",
     "start_time": "2016-03-01T17:08:40.468826"
    },
    "collapsed": false
   },
   "outputs": [],
   "source": [
    "#sorts wall types according to income\n",
    "share =data_from_excel[wall_types_to_vuln.keys()]\n",
    "p=(share.cumsum(axis=1).add(-df[\"pov_head\"],axis=0)).clip(lower=0)\n",
    "poor=(share-p).clip(lower=0)\n",
    "rich=share-poor\n",
    "\n",
    "#walls\n",
    "vp_wall=((poor*wall_types_to_vuln).sum(axis=1)/df[\"pov_head\"] )\n",
    "vr_wall=(rich*wall_types_to_vuln).sum(axis=1)/(1-df[\"pov_head\"])\n"
   ]
  },
  {
   "cell_type": "markdown",
   "metadata": {},
   "source": [
    "...and take the average value for roof and walls."
   ]
  },
  {
   "cell_type": "code",
   "execution_count": 184,
   "metadata": {
    "ExecuteTime": {
     "end_time": "2016-03-01T17:08:40.516858",
     "start_time": "2016-03-01T17:08:40.507854"
    },
    "collapsed": false
   },
   "outputs": [],
   "source": [
    "#averages value for roofs and walls\n",
    "vp = (vp_roof+vp_wall)/2\n",
    "vr = (vr_roof+vr_wall)/2\n",
    "\n",
    "df[\"v_p\"]=vp\n",
    "df[\"v_r\"]=vr\n",
    "\n",
    "#plots\n",
    "# import matplotlib.pyplot as plt\n",
    "# %matplotlib inline\n",
    "# vp.hist(), plt.xlabel(\"vp\")\n",
    "# vr.hist(color=\"red\",alpha=0.5),plt.xlabel(\"vr\")\n"
   ]
  },
  {
   "cell_type": "markdown",
   "metadata": {},
   "source": [
    "### Hazard (protection)"
   ]
  },
  {
   "cell_type": "markdown",
   "metadata": {},
   "source": [
    "We capture hazard through the protection level, given in return period. Here we use data from FLOPROS as a placeholder.\n",
    "FLOPROS uses a different spelling for some province, so we correct that here."
   ]
  },
  {
   "cell_type": "code",
   "execution_count": 185,
   "metadata": {
    "ExecuteTime": {
     "end_time": "2016-03-01T17:08:40.588917",
     "start_time": "2016-03-01T17:08:40.563899"
    },
    "collapsed": false
   },
   "outputs": [
    {
     "data": {
      "text/plain": [
       "province\n",
       "Abra                10.57\n",
       "Agusan Del Norte     9.41\n",
       "Agusan Del Sur       8.61\n",
       "Aklan                0.00\n",
       "Albay                0.00\n",
       "Name: 0, dtype: float64"
      ]
     },
     "execution_count": 185,
     "metadata": {},
     "output_type": "execute_result"
    }
   ],
   "source": [
    "protection = pd.read_csv(\"inputs/protection_phl.csv\",index_col=\"province\", squeeze=True).sort_index()\n",
    "protection.index = protection.index.str.title()\n",
    "protection.rename(index={\"Cotabato\":\"North Cotabato\",\n",
    "                         'Mindoro Occidental':\"Occidental Mindoro\",\n",
    "                         'Mindoro Oriental':\"Oriental Mindoro\",}, inplace=True) #(an altenrative way would be to use and demonstrate the function replace_with_warning)\n",
    "protection.head()"
   ]
  },
  {
   "cell_type": "code",
   "execution_count": 186,
   "metadata": {
    "ExecuteTime": {
     "end_time": "2016-03-01T17:08:40.613934",
     "start_time": "2016-03-01T17:08:40.601925"
    },
    "collapsed": false
   },
   "outputs": [
    {
     "data": {
      "text/plain": [
       "province\n",
       "Abra                10.57\n",
       "Agusan Del Norte     9.41\n",
       "Agusan Del Sur       8.61\n",
       "Aklan                2.00\n",
       "Albay                2.00\n",
       "Name: protection, dtype: float64"
      ]
     },
     "execution_count": 186,
     "metadata": {},
     "output_type": "execute_result"
    }
   ],
   "source": [
    "df[\"protection\"]=protection.clip_lower(2) #assumes at least 2yr protection\n",
    "df[\"protection\"].head()"
   ]
  },
  {
   "cell_type": "markdown",
   "metadata": {},
   "source": [
    "# Manually filling data gaps and informing parameters"
   ]
  },
  {
   "cell_type": "markdown",
   "metadata": {
    "collapsed": true
   },
   "source": [
    "Some data is missing and has to be added manually"
   ]
  },
  {
   "cell_type": "code",
   "execution_count": 187,
   "metadata": {
    "ExecuteTime": {
     "end_time": "2016-03-01T17:08:40.645458",
     "start_time": "2016-03-01T17:08:40.635947"
    },
    "collapsed": true
   },
   "outputs": [],
   "source": [
    "#average productivity of capital\n",
    "df[\"avg_prod_k\"] = .23\n",
    "\n",
    "#Reconstruction time (an only be guessed ex-ante)\n",
    "df[\"T_rebuild_K\"] = 3\n",
    "\n",
    "# how much early warning reduces vulnerability (eg reactivity to early warnings)\n",
    "df[\"pi\"] = 0.2"
   ]
  },
  {
   "cell_type": "markdown",
   "metadata": {},
   "source": [
    "Some other inputs are normative or policy choices"
   ]
  },
  {
   "cell_type": "code",
   "execution_count": 188,
   "metadata": {
    "ExecuteTime": {
     "end_time": "2016-03-01T17:08:40.674983",
     "start_time": "2016-03-01T17:08:40.648460"
    },
    "collapsed": false
   },
   "outputs": [],
   "source": [
    "#assumption on cross-provincial risk sharing\n",
    "df[\"nat_buyout\"] = 0.3\n",
    "\n",
    "#scale up of transfers after a disaster hits\n",
    "df[\"sigma_r\"]=df[\"sigma_p\"]=1/3\n",
    "\n",
    "#income elasticity\n",
    "df[\"income_elast\"] = 1.5\n",
    "\n",
    "#discount rate\n",
    "df[\"rho\"]=5/100"
   ]
  },
  {
   "cell_type": "markdown",
   "metadata": {},
   "source": [
    "# Adds description to the variables names"
   ]
  },
  {
   "cell_type": "markdown",
   "metadata": {},
   "source": [
    "Here we add a human readable descritpion to all model variables, based on the descriptions gathered in [inputs/inputs_info.csv](inputs/inputs_info.csv)"
   ]
  },
  {
   "cell_type": "code",
   "execution_count": 189,
   "metadata": {
    "collapsed": false
   },
   "outputs": [
    {
     "data": {
      "text/plain": [
       "key\n",
       "avg_prod_k                    Productivity of capital\n",
       "axfin_p             Access to finance for poor people\n",
       "axfin_r         Access to finance for non-poor people\n",
       "axhealth                        Access to health care\n",
       "bashs         Births attended by skilled health staff\n",
       "Name: descriptor, dtype: object"
      ]
     },
     "execution_count": 189,
     "metadata": {},
     "output_type": "execute_result"
    }
   ],
   "source": [
    "description = pd.read_csv(\"inputs/inputs_info.csv\", index_col=\"key\")[\"descriptor\"]\n",
    "description.head()"
   ]
  },
  {
   "cell_type": "code",
   "execution_count": 190,
   "metadata": {
    "ExecuteTime": {
     "end_time": "2016-03-01T17:08:40.824096",
     "start_time": "2016-03-01T17:08:40.677986"
    },
    "collapsed": false
   },
   "outputs": [
    {
     "data": {
      "text/html": [
       "<div>\n",
       "<table border=\"1\" class=\"dataframe\">\n",
       "  <thead>\n",
       "    <tr style=\"text-align: right;\">\n",
       "      <th></th>\n",
       "      <th>province</th>\n",
       "      <th>Abra</th>\n",
       "      <th>Agusan Del Norte</th>\n",
       "      <th>Agusan Del Sur</th>\n",
       "      <th>Aklan</th>\n",
       "      <th>Albay</th>\n",
       "    </tr>\n",
       "    <tr>\n",
       "      <th>description</th>\n",
       "      <th>variable</th>\n",
       "      <th></th>\n",
       "      <th></th>\n",
       "      <th></th>\n",
       "      <th></th>\n",
       "      <th></th>\n",
       "    </tr>\n",
       "  </thead>\n",
       "  <tbody>\n",
       "    <tr>\n",
       "      <th>Average income in the province</th>\n",
       "      <th>gdp_pc_pp</th>\n",
       "      <td>133.688</td>\n",
       "      <td>179.014</td>\n",
       "      <td>126.492</td>\n",
       "      <td>119.962</td>\n",
       "      <td>158.629</td>\n",
       "    </tr>\n",
       "    <tr>\n",
       "      <th>Population</th>\n",
       "      <th>pop</th>\n",
       "      <td>240135</td>\n",
       "      <td>661728</td>\n",
       "      <td>677780</td>\n",
       "      <td>554414</td>\n",
       "      <td>1.2641e+06</td>\n",
       "    </tr>\n",
       "    <tr>\n",
       "      <th>Poverty incidence</th>\n",
       "      <th>pov_head</th>\n",
       "      <td>0.373595</td>\n",
       "      <td>0.346715</td>\n",
       "      <td>0.480785</td>\n",
       "      <td>0.249662</td>\n",
       "      <td>0.409587</td>\n",
       "    </tr>\n",
       "    <tr>\n",
       "      <th>Access to early warning</th>\n",
       "      <th>shew</th>\n",
       "      <td>0.953416</td>\n",
       "      <td>0.821277</td>\n",
       "      <td>0.821277</td>\n",
       "      <td>0.823003</td>\n",
       "      <td>0.8</td>\n",
       "    </tr>\n",
       "    <tr>\n",
       "      <th>National GDP per capita</th>\n",
       "      <th>gdp_pc_pp_nat</th>\n",
       "      <td>184.137</td>\n",
       "      <td>184.137</td>\n",
       "      <td>184.137</td>\n",
       "      <td>184.137</td>\n",
       "      <td>184.137</td>\n",
       "    </tr>\n",
       "    <tr>\n",
       "      <th>Average income of the province</th>\n",
       "      <th>rel_gdp_pp</th>\n",
       "      <td>0.726026</td>\n",
       "      <td>0.97218</td>\n",
       "      <td>0.686946</td>\n",
       "      <td>0.651483</td>\n",
       "      <td>0.861474</td>\n",
       "    </tr>\n",
       "    <tr>\n",
       "      <th>Relative income of poor families</th>\n",
       "      <th>share1</th>\n",
       "      <td>0.374005</td>\n",
       "      <td>0.279308</td>\n",
       "      <td>0.395282</td>\n",
       "      <td>0.416799</td>\n",
       "      <td>0.315201</td>\n",
       "    </tr>\n",
       "    <tr>\n",
       "      <th>Access to finance for poor people</th>\n",
       "      <th>axfin_p</th>\n",
       "      <td>0.693233</td>\n",
       "      <td>0.49688</td>\n",
       "      <td>0.475969</td>\n",
       "      <td>0.660083</td>\n",
       "      <td>0.551314</td>\n",
       "    </tr>\n",
       "    <tr>\n",
       "      <th>Access to finance for non-poor people</th>\n",
       "      <th>axfin_r</th>\n",
       "      <td>0.693233</td>\n",
       "      <td>0.49688</td>\n",
       "      <td>0.475969</td>\n",
       "      <td>0.660083</td>\n",
       "      <td>0.551314</td>\n",
       "    </tr>\n",
       "    <tr>\n",
       "      <th>Social protection for poor people</th>\n",
       "      <th>social_p</th>\n",
       "      <td>0.408683</td>\n",
       "      <td>0.388003</td>\n",
       "      <td>0.388003</td>\n",
       "      <td>0.432903</td>\n",
       "      <td>0.403794</td>\n",
       "    </tr>\n",
       "    <tr>\n",
       "      <th>Social protection for non-poor people</th>\n",
       "      <th>social_r</th>\n",
       "      <td>0.408683</td>\n",
       "      <td>0.388003</td>\n",
       "      <td>0.388003</td>\n",
       "      <td>0.432903</td>\n",
       "      <td>0.403794</td>\n",
       "    </tr>\n",
       "    <tr>\n",
       "      <th>Exposure, poor people</th>\n",
       "      <th>fap</th>\n",
       "      <td>0.188715</td>\n",
       "      <td>0.3657</td>\n",
       "      <td>0.13179</td>\n",
       "      <td>NaN</td>\n",
       "      <td>NaN</td>\n",
       "    </tr>\n",
       "    <tr>\n",
       "      <th>Exposure, non-poor people</th>\n",
       "      <th>far</th>\n",
       "      <td>0.149419</td>\n",
       "      <td>0.292684</td>\n",
       "      <td>0.0986823</td>\n",
       "      <td>NaN</td>\n",
       "      <td>NaN</td>\n",
       "    </tr>\n",
       "    <tr>\n",
       "      <th>Asset vulnerability (poor people)</th>\n",
       "      <th>v_p</th>\n",
       "      <td>0.152463</td>\n",
       "      <td>0.3637</td>\n",
       "      <td>0.290166</td>\n",
       "      <td>0.389419</td>\n",
       "      <td>0.339852</td>\n",
       "    </tr>\n",
       "    <tr>\n",
       "      <th>Asset vulnerability (non-poor people)</th>\n",
       "      <th>v_r</th>\n",
       "      <td>0.1</td>\n",
       "      <td>0.1</td>\n",
       "      <td>0.1</td>\n",
       "      <td>0.135089</td>\n",
       "      <td>0.1</td>\n",
       "    </tr>\n",
       "    <tr>\n",
       "      <th>Hazard (protection)</th>\n",
       "      <th>protection</th>\n",
       "      <td>10.57</td>\n",
       "      <td>9.41</td>\n",
       "      <td>8.61</td>\n",
       "      <td>2</td>\n",
       "      <td>2</td>\n",
       "    </tr>\n",
       "    <tr>\n",
       "      <th>Productivity of capital</th>\n",
       "      <th>avg_prod_k</th>\n",
       "      <td>0.23</td>\n",
       "      <td>0.23</td>\n",
       "      <td>0.23</td>\n",
       "      <td>0.23</td>\n",
       "      <td>0.23</td>\n",
       "    </tr>\n",
       "    <tr>\n",
       "      <th>Time to reconstruct</th>\n",
       "      <th>T_rebuild_K</th>\n",
       "      <td>3</td>\n",
       "      <td>3</td>\n",
       "      <td>3</td>\n",
       "      <td>3</td>\n",
       "      <td>3</td>\n",
       "    </tr>\n",
       "    <tr>\n",
       "      <th>Avoided losses with early warning</th>\n",
       "      <th>pi</th>\n",
       "      <td>0.2</td>\n",
       "      <td>0.2</td>\n",
       "      <td>0.2</td>\n",
       "      <td>0.2</td>\n",
       "      <td>0.2</td>\n",
       "    </tr>\n",
       "    <tr>\n",
       "      <th>Risk transferred nationally</th>\n",
       "      <th>nat_buyout</th>\n",
       "      <td>0.3</td>\n",
       "      <td>0.3</td>\n",
       "      <td>0.3</td>\n",
       "      <td>0.3</td>\n",
       "      <td>0.3</td>\n",
       "    </tr>\n",
       "    <tr>\n",
       "      <th>Effective scale up for non-poor people</th>\n",
       "      <th>sigma_r</th>\n",
       "      <td>0.333333</td>\n",
       "      <td>0.333333</td>\n",
       "      <td>0.333333</td>\n",
       "      <td>0.333333</td>\n",
       "      <td>0.333333</td>\n",
       "    </tr>\n",
       "    <tr>\n",
       "      <th>Effective scale up for poor people</th>\n",
       "      <th>sigma_p</th>\n",
       "      <td>0.333333</td>\n",
       "      <td>0.333333</td>\n",
       "      <td>0.333333</td>\n",
       "      <td>0.333333</td>\n",
       "      <td>0.333333</td>\n",
       "    </tr>\n",
       "    <tr>\n",
       "      <th>Elasticity of utility</th>\n",
       "      <th>income_elast</th>\n",
       "      <td>1.5</td>\n",
       "      <td>1.5</td>\n",
       "      <td>1.5</td>\n",
       "      <td>1.5</td>\n",
       "      <td>1.5</td>\n",
       "    </tr>\n",
       "    <tr>\n",
       "      <th>Discount rate</th>\n",
       "      <th>rho</th>\n",
       "      <td>0.05</td>\n",
       "      <td>0.05</td>\n",
       "      <td>0.05</td>\n",
       "      <td>0.05</td>\n",
       "      <td>0.05</td>\n",
       "    </tr>\n",
       "  </tbody>\n",
       "</table>\n",
       "</div>"
      ],
      "text/plain": [
       "province                                                  Abra  \\\n",
       "description                            variable                  \n",
       " Average income in the province        gdp_pc_pp       133.688   \n",
       "Population                             pop              240135   \n",
       "Poverty incidence                      pov_head       0.373595   \n",
       "Access to early warning                shew           0.953416   \n",
       "National GDP per capita                gdp_pc_pp_nat   184.137   \n",
       " Average income of the province        rel_gdp_pp     0.726026   \n",
       "Relative income of poor families       share1         0.374005   \n",
       "Access to finance for poor people      axfin_p        0.693233   \n",
       "Access to finance for non-poor people  axfin_r        0.693233   \n",
       "Social protection for poor people      social_p       0.408683   \n",
       "Social protection for non-poor people  social_r       0.408683   \n",
       "Exposure, poor people                  fap            0.188715   \n",
       "Exposure, non-poor people              far            0.149419   \n",
       "Asset vulnerability (poor people)      v_p            0.152463   \n",
       "Asset vulnerability (non-poor people)  v_r                 0.1   \n",
       " Hazard (protection)                   protection        10.57   \n",
       "Productivity of capital                avg_prod_k         0.23   \n",
       "Time to reconstruct                    T_rebuild_K           3   \n",
       "Avoided losses with early warning      pi                  0.2   \n",
       "Risk transferred nationally            nat_buyout          0.3   \n",
       "Effective scale up for non-poor people sigma_r        0.333333   \n",
       "Effective scale up for poor people     sigma_p        0.333333   \n",
       "Elasticity of utility                  income_elast        1.5   \n",
       "Discount rate                          rho                0.05   \n",
       "\n",
       "province                                             Agusan Del Norte  \\\n",
       "description                            variable                         \n",
       " Average income in the province        gdp_pc_pp              179.014   \n",
       "Population                             pop                     661728   \n",
       "Poverty incidence                      pov_head              0.346715   \n",
       "Access to early warning                shew                  0.821277   \n",
       "National GDP per capita                gdp_pc_pp_nat          184.137   \n",
       " Average income of the province        rel_gdp_pp             0.97218   \n",
       "Relative income of poor families       share1                0.279308   \n",
       "Access to finance for poor people      axfin_p                0.49688   \n",
       "Access to finance for non-poor people  axfin_r                0.49688   \n",
       "Social protection for poor people      social_p              0.388003   \n",
       "Social protection for non-poor people  social_r              0.388003   \n",
       "Exposure, poor people                  fap                     0.3657   \n",
       "Exposure, non-poor people              far                   0.292684   \n",
       "Asset vulnerability (poor people)      v_p                     0.3637   \n",
       "Asset vulnerability (non-poor people)  v_r                        0.1   \n",
       " Hazard (protection)                   protection                9.41   \n",
       "Productivity of capital                avg_prod_k                0.23   \n",
       "Time to reconstruct                    T_rebuild_K                  3   \n",
       "Avoided losses with early warning      pi                         0.2   \n",
       "Risk transferred nationally            nat_buyout                 0.3   \n",
       "Effective scale up for non-poor people sigma_r               0.333333   \n",
       "Effective scale up for poor people     sigma_p               0.333333   \n",
       "Elasticity of utility                  income_elast               1.5   \n",
       "Discount rate                          rho                       0.05   \n",
       "\n",
       "province                                             Agusan Del Sur     Aklan  \\\n",
       "description                            variable                                 \n",
       " Average income in the province        gdp_pc_pp            126.492   119.962   \n",
       "Population                             pop                   677780    554414   \n",
       "Poverty incidence                      pov_head            0.480785  0.249662   \n",
       "Access to early warning                shew                0.821277  0.823003   \n",
       "National GDP per capita                gdp_pc_pp_nat        184.137   184.137   \n",
       " Average income of the province        rel_gdp_pp          0.686946  0.651483   \n",
       "Relative income of poor families       share1              0.395282  0.416799   \n",
       "Access to finance for poor people      axfin_p             0.475969  0.660083   \n",
       "Access to finance for non-poor people  axfin_r             0.475969  0.660083   \n",
       "Social protection for poor people      social_p            0.388003  0.432903   \n",
       "Social protection for non-poor people  social_r            0.388003  0.432903   \n",
       "Exposure, poor people                  fap                  0.13179       NaN   \n",
       "Exposure, non-poor people              far                0.0986823       NaN   \n",
       "Asset vulnerability (poor people)      v_p                 0.290166  0.389419   \n",
       "Asset vulnerability (non-poor people)  v_r                      0.1  0.135089   \n",
       " Hazard (protection)                   protection              8.61         2   \n",
       "Productivity of capital                avg_prod_k              0.23      0.23   \n",
       "Time to reconstruct                    T_rebuild_K                3         3   \n",
       "Avoided losses with early warning      pi                       0.2       0.2   \n",
       "Risk transferred nationally            nat_buyout               0.3       0.3   \n",
       "Effective scale up for non-poor people sigma_r             0.333333  0.333333   \n",
       "Effective scale up for poor people     sigma_p             0.333333  0.333333   \n",
       "Elasticity of utility                  income_elast             1.5       1.5   \n",
       "Discount rate                          rho                     0.05      0.05   \n",
       "\n",
       "province                                                   Albay  \n",
       "description                            variable                   \n",
       " Average income in the province        gdp_pc_pp         158.629  \n",
       "Population                             pop            1.2641e+06  \n",
       "Poverty incidence                      pov_head         0.409587  \n",
       "Access to early warning                shew                  0.8  \n",
       "National GDP per capita                gdp_pc_pp_nat     184.137  \n",
       " Average income of the province        rel_gdp_pp       0.861474  \n",
       "Relative income of poor families       share1           0.315201  \n",
       "Access to finance for poor people      axfin_p          0.551314  \n",
       "Access to finance for non-poor people  axfin_r          0.551314  \n",
       "Social protection for poor people      social_p         0.403794  \n",
       "Social protection for non-poor people  social_r         0.403794  \n",
       "Exposure, poor people                  fap                   NaN  \n",
       "Exposure, non-poor people              far                   NaN  \n",
       "Asset vulnerability (poor people)      v_p              0.339852  \n",
       "Asset vulnerability (non-poor people)  v_r                   0.1  \n",
       " Hazard (protection)                   protection              2  \n",
       "Productivity of capital                avg_prod_k           0.23  \n",
       "Time to reconstruct                    T_rebuild_K             3  \n",
       "Avoided losses with early warning      pi                    0.2  \n",
       "Risk transferred nationally            nat_buyout            0.3  \n",
       "Effective scale up for non-poor people sigma_r          0.333333  \n",
       "Effective scale up for poor people     sigma_p          0.333333  \n",
       "Elasticity of utility                  income_elast          1.5  \n",
       "Discount rate                          rho                  0.05  "
      ]
     },
     "execution_count": 190,
     "metadata": {},
     "output_type": "execute_result"
    }
   ],
   "source": [
    "df.ix[\"description\"]= description\n",
    "data=df.T.reset_index().set_index([\"description\",\"index\"]).T\n",
    "data.columns.names = ['description', 'variable']\n",
    "data.head().T #displays the first few provinces, transposed for ease of reading."
   ]
  },
  {
   "cell_type": "markdown",
   "metadata": {},
   "source": [
    "# Saves the data"
   ]
  },
  {
   "cell_type": "code",
   "execution_count": 191,
   "metadata": {
    "ExecuteTime": {
     "end_time": "2016-03-01T17:08:41.323464",
     "start_time": "2016-03-01T17:08:40.828098"
    },
    "collapsed": false
   },
   "outputs": [
    {
     "data": {
      "text/plain": [
       "MultiIndex(levels=[[' Average income in the province', ' Average income of the province', ' Hazard (protection)', 'Access to early warning', 'Access to finance for non-poor people', 'Access to finance for poor people', 'Asset vulnerability (non-poor people)', 'Asset vulnerability (poor people)', 'Avoided losses with early warning', 'Discount rate', 'Effective scale up for non-poor people', 'Effective scale up for poor people', 'Elasticity of utility', 'Exposure, non-poor people', 'Exposure, poor people', 'National GDP per capita', 'Population', 'Poverty incidence', 'Productivity of capital', 'Relative income of poor families', 'Risk transferred nationally', 'Social protection for non-poor people', 'Social protection for poor people', 'Time to reconstruct'], ['T_rebuild_K', 'avg_prod_k', 'axfin_p', 'axfin_r', 'fap', 'far', 'gdp_pc_pp', 'gdp_pc_pp_nat', 'income_elast', 'nat_buyout', 'pi', 'pop', 'pov_head', 'protection', 'rel_gdp_pp', 'rho', 'share1', 'shew', 'sigma_p', 'sigma_r', 'social_p', 'social_r', 'v_p', 'v_r']],\n",
       "           labels=[[0, 16, 17, 3, 15, 1, 19, 5, 4, 22, 21, 14, 13, 7, 6, 2, 18, 23, 8, 20, 10, 11, 12, 9], [6, 11, 12, 17, 7, 14, 16, 2, 3, 20, 21, 4, 5, 22, 23, 13, 1, 0, 10, 9, 19, 18, 8, 15]],\n",
       "           names=['description', 'variable'])"
      ]
     },
     "execution_count": 191,
     "metadata": {},
     "output_type": "execute_result"
    }
   ],
   "source": [
    "#saves the data\n",
    "data.to_csv(\"all_data_compiled.csv\")\n",
    "data.to_excel(\"all_data_compiled.xlsx\")\n",
    "data.columns"
   ]
  },
  {
   "cell_type": "markdown",
   "metadata": {},
   "source": [
    "**That's it, we have built an excel file with all our data!**\n",
    "To see how to use this data with the resilience model, go to [socio_economic_capacity_demo.ipynb](socio_economic_capacity_demo.ipynb)\n",
    "\n",
    "\n",
    "\n",
    " "
   ]
  },
  {
   "cell_type": "markdown",
   "metadata": {},
   "source": [
    "## Multi-hazard data"
   ]
  },
  {
   "cell_type": "code",
   "execution_count": 192,
   "metadata": {
    "collapsed": false
   },
   "outputs": [],
   "source": [
    "dfm.to_csv(\"multi_hazard_data.csv\")"
   ]
  },
  {
   "cell_type": "markdown",
   "metadata": {},
   "source": [
    "# Report missing data by province"
   ]
  },
  {
   "cell_type": "markdown",
   "metadata": {},
   "source": [
    "This code builds a table reporting missing data points for each province"
   ]
  },
  {
   "cell_type": "code",
   "execution_count": 193,
   "metadata": {
    "ExecuteTime": {
     "end_time": "2016-03-01T17:08:41.324464",
     "start_time": "2016-03-01T22:08:38.906Z"
    },
    "collapsed": false
   },
   "outputs": [
    {
     "data": {
      "text/html": [
       "<div>\n",
       "<table border=\"1\" class=\"dataframe\">\n",
       "  <thead>\n",
       "    <tr style=\"text-align: right;\">\n",
       "      <th></th>\n",
       "      <th>nb_missing</th>\n",
       "      <th>missing_data</th>\n",
       "    </tr>\n",
       "    <tr>\n",
       "      <th>province</th>\n",
       "      <th></th>\n",
       "      <th></th>\n",
       "    </tr>\n",
       "  </thead>\n",
       "  <tbody>\n",
       "    <tr>\n",
       "      <th>Misamis Occidental</th>\n",
       "      <td>1</td>\n",
       "      <td>protection</td>\n",
       "    </tr>\n",
       "    <tr>\n",
       "      <th>Negros Oriental</th>\n",
       "      <td>1</td>\n",
       "      <td>protection</td>\n",
       "    </tr>\n",
       "    <tr>\n",
       "      <th>Aklan</th>\n",
       "      <td>2</td>\n",
       "      <td>fap, far</td>\n",
       "    </tr>\n",
       "    <tr>\n",
       "      <th>Marinduque</th>\n",
       "      <td>2</td>\n",
       "      <td>fap, far</td>\n",
       "    </tr>\n",
       "    <tr>\n",
       "      <th>Masbate</th>\n",
       "      <td>2</td>\n",
       "      <td>fap, far</td>\n",
       "    </tr>\n",
       "  </tbody>\n",
       "</table>\n",
       "</div>"
      ],
      "text/plain": [
       "                    nb_missing missing_data\n",
       "province                                   \n",
       "Misamis Occidental           1   protection\n",
       "Negros Oriental              1   protection\n",
       "Aklan                        2     fap, far\n",
       "Marinduque                   2     fap, far\n",
       "Masbate                      2     fap, far"
      ]
     },
     "execution_count": 193,
     "metadata": {},
     "output_type": "execute_result"
    }
   ],
   "source": [
    "def write_missing_data(s):\n",
    "    which = s[s.isnull()].index.values\n",
    "    return \", \".join(which)\n",
    "\n",
    "def count_missing_data(s):\n",
    "    return s.isnull().sum()\n",
    "\n",
    "report = pd.DataFrame()\n",
    "\n",
    "report[\"nb_missing\"]=df.apply(count_missing_data,axis=1)  \n",
    "report[\"missing_data\"]=df.apply(write_missing_data,axis=1)\n",
    "\n",
    "report  = report.ix[report[\"nb_missing\"]>0,:]\n",
    "report.sort_values(by=\"nb_missing\",inplace=True)\n",
    "report.to_csv(\"missing_data_report.csv\")\n",
    "\n",
    "report.head()"
   ]
  },
  {
   "cell_type": "markdown",
   "metadata": {},
   "source": [
    "We see that for two provinces, we have no data on protection. Let us inspect the data on protection."
   ]
  },
  {
   "cell_type": "code",
   "execution_count": 194,
   "metadata": {
    "ExecuteTime": {
     "end_time": "2016-03-01T17:08:41.325468",
     "start_time": "2016-03-01T22:08:38.910Z"
    },
    "collapsed": false
   },
   "outputs": [
    {
     "data": {
      "text/plain": [
       "province\n",
       "Misamis Occidental   NaN\n",
       "Negros Oriental      NaN\n",
       "Name: 0, dtype: float64"
      ]
     },
     "execution_count": 194,
     "metadata": {},
     "output_type": "execute_result"
    }
   ],
   "source": [
    "protection.ix[[\"Misamis Occidental\", \"Negros Oriental\"]]"
   ]
  },
  {
   "cell_type": "markdown",
   "metadata": {
    "ExecuteTime": {
     "end_time": "2016-03-01T15:55:15.357382",
     "start_time": "2016-03-01T15:55:15.351381"
    }
   },
   "source": [
    "In our data on protection, these two provinces have a missing value (nan). This probelm should be investigated going back to the source used for protection (here, FLOPROS as a placeholder, but that could be relaced by a domestic source, for instance DOST)\n"
   ]
  },
  {
   "cell_type": "code",
   "execution_count": null,
   "metadata": {
    "collapsed": true
   },
   "outputs": [],
   "source": []
  }
 ],
 "metadata": {
  "kernelspec": {
   "display_name": "Python 3",
   "language": "python",
   "name": "python3"
  },
  "language_info": {
   "codemirror_mode": {
    "name": "ipython",
    "version": 3
   },
   "file_extension": ".py",
   "mimetype": "text/x-python",
   "name": "python",
   "nbconvert_exporter": "python",
   "pygments_lexer": "ipython3",
   "version": "3.4.4"
  }
 },
 "nbformat": 4,
 "nbformat_minor": 0
}
