{
 "cells": [
  {
   "cell_type": "markdown",
   "metadata": {},
   "source": [
    "This notebook computes the derivative of the resilience indicator. This information is usefull for rendering the scorcards. This notebook must be run after compute_res_ind and before render_scorecards"
   ]
  },
  {
   "cell_type": "code",
   "execution_count": 30,
   "metadata": {
    "collapsed": false
   },
   "outputs": [
    {
     "name": "stdout",
     "output_type": "stream",
     "text": [
      "The autoreload extension is already loaded. To reload it, use:\n",
      "  %reload_ext autoreload\n"
     ]
    }
   ],
   "source": [
    "%reset-f\n",
    "%load_ext autoreload\n",
    "%autoreload 2\n",
    "%matplotlib inline\n",
    "\n",
    "import pandas as pd\n",
    "import numpy as np\n",
    "\n",
    "import warnings\n",
    "warnings.filterwarnings(\"always\",category=UserWarning)\n",
    "import os, time\n",
    "import itertools\n",
    "\n",
    "from progress_reporter import *\n",
    "from res_ind_lib import *"
   ]
  },
  {
   "cell_type": "code",
   "execution_count": 31,
   "metadata": {
    "collapsed": true
   },
   "outputs": [],
   "source": [
    "#Folder where outputs are stored\n",
    "out_folder = \"scorecards/\"\n",
    "os.makedirs(out_folder,exist_ok=True)"
   ]
  },
  {
   "cell_type": "code",
   "execution_count": 32,
   "metadata": {
    "collapsed": false
   },
   "outputs": [],
   "source": [
    "pd.set_option('mode.use_inf_as_null', True)"
   ]
  },
  {
   "cell_type": "markdown",
   "metadata": {},
   "source": [
    "# data"
   ]
  },
  {
   "cell_type": "code",
   "execution_count": 43,
   "metadata": {
    "collapsed": false
   },
   "outputs": [],
   "source": [
    "#Load the excel data file into a dataframe (table)\n",
    "df_original=pd.read_excel(\"all_data_compiled.xlsx\", \n",
    "                 index_col=0, #tells Pandas to use the first column (Provinces) as the index of the table\n",
    "                 skiprows=[0, 2] #The first (0) row is a description of the variables and the 3rd (2) row is empty. We skip them\n",
    "                ) \n",
    "df_original.index.name=\"province\"\n",
    "#Displays the first rows of that dataframe\n",
    "df_original=def_ref_values(df_original)\n",
    "\n",
    "#appends \"countries\" from the sensitivity analysis\n",
    "# df_original=df_original.append(pd.read_csv(\"df_sensit_input.csv\",index_col=\"Province\"))\n",
    "\n",
    "df_with_results=pd.read_csv(\"all_data_and_results.csv\",index_col=\"province\")\n",
    "\n",
    "#Rankings \n",
    "ranks = df_with_results.dropna(how=\"all\",axis=1).dropna().rank(method=\"min\",ascending =False) \n",
    "ranks.to_csv(\"rankings.csv\")\n",
    "\n",
    "#appends sensitivity anlysis\n",
    "# df_with_results=df_with_results.append(pd.read_csv(\"df_sensit_results.csv\").set_index(\"Province\"))"
   ]
  },
  {
   "cell_type": "code",
   "execution_count": 44,
   "metadata": {
    "collapsed": false
   },
   "outputs": [
    {
     "data": {
      "text/plain": [
       "array(['gdp_pc_pp', 'pop', 'pov_head', 'shew', 'gdp_pc_pp_nat',\n",
       "       'rel_gdp_pp', 'share1', 'axfin_p', 'axfin_r', 'social_p',\n",
       "       'social_r', 'fap', 'far', 'v_p', 'v_r', 'protection', 'avg_prod_k',\n",
       "       'T_rebuild_K', 'pi', 'nat_buyout', 'sigma_r', 'sigma_p',\n",
       "       'income_elast', 'rho', 'protectionref', 'gdp_pc_pp_ref', 'v_s',\n",
       "       'dK', 'delta_W', 'dcap', 'dcar', 'dKtot', 'deltaW_nat',\n",
       "       'equivalent_cost', 'risk', 'total_equivalent_cost', 'resilience',\n",
       "       'risk_to_assets'], dtype=object)"
      ]
     },
     "execution_count": 44,
     "metadata": {},
     "output_type": "execute_result"
    }
   ],
   "source": [
    "df_with_results.columns.values\n"
   ]
  },
  {
   "cell_type": "markdown",
   "metadata": {},
   "source": [
    "# computes all derivatives"
   ]
  },
  {
   "cell_type": "code",
   "execution_count": 67,
   "metadata": {
    "collapsed": false
   },
   "outputs": [
    {
     "data": {
      "text/plain": [
       "['risk_to_assets', 'risk']"
      ]
     },
     "execution_count": 67,
     "metadata": {},
     "output_type": "execute_result"
    }
   ],
   "source": [
    "deriv_set = np.setdiff1d( df_original.columns,\n",
    "    [\"pop\",\"iso3\",\"original_country\",\"income_elast\",\"avg_prod_k\",\"share1\",\n",
    "     \"protectionref\"])\n",
    "\n",
    "pd.DataFrame(data=deriv_set).to_csv(\"inputs/deriv_set.csv\",index=False,header=False)\n",
    "\n",
    "score_card_set = [\"risk_to_assets\",\"risk\"]\n",
    "                  #\"delta_W\",\"dWsurWprime\", \"equivalent_cost\", \"dW_destitution\", \"total_equivalent_cost_no_destitution\" ]\n",
    "\n",
    "#Checks that info has information for all variables in deriv_set\n",
    "info = pd.read_csv(\"inputs/inputs_info.csv\").set_index(\"key\")\n",
    "for d in deriv_set:\n",
    "    if d not in info.index.values:\n",
    "        raise Exception(d+\" is not documented in inputs_info.csv\")\n",
    "\n",
    "        \n",
    "score_card_set"
   ]
  },
  {
   "cell_type": "code",
   "execution_count": 48,
   "metadata": {
    "collapsed": true
   },
   "outputs": [],
   "source": [
    "def compute_derivative(df_original,deriv_set,score_card_set):\n",
    "    der = pd.DataFrame(index=df_original.index, columns=pd.MultiIndex.from_product([deriv_set,score_card_set], names=['inputs', 'outputs']))\n",
    "    h=0.0001\n",
    "    #loop on all data in df prior to add the results\n",
    "    fx = compute_resiliences(df_original)[score_card_set]\n",
    "    for var in deriv_set:\n",
    "        try:\n",
    "            progress_reporter(var)\n",
    "            df_=df_original.copy(deep=True)\n",
    "            df_[var]=df_[var]+h\n",
    "            fxh= compute_resiliences(df_)[score_card_set]\n",
    "            der[var] = (fxh-fx)/(h)\n",
    "        except TypeError:\n",
    "            print(\"no derivative for \" +var)\n",
    "    return der.swaplevel('inputs', 'outputs', axis=1).sort_index(axis=1)"
   ]
  },
  {
   "cell_type": "code",
   "execution_count": 49,
   "metadata": {
    "collapsed": false
   },
   "outputs": [
    {
     "data": {
      "text/plain": [
       "Index(['gdp_pc_pp', 'pop', 'pov_head', 'shew', 'gdp_pc_pp_nat', 'rel_gdp_pp',\n",
       "       'share1', 'axfin_p', 'axfin_r', 'social_p', 'social_r', 'fap', 'far',\n",
       "       'v_p', 'v_r', 'protection', 'avg_prod_k', 'T_rebuild_K', 'pi',\n",
       "       'nat_buyout', 'sigma_r', 'sigma_p', 'income_elast', 'rho',\n",
       "       'protectionref', 'gdp_pc_pp_ref', 'v_s'],\n",
       "      dtype='object')"
      ]
     },
     "execution_count": 49,
     "metadata": {},
     "output_type": "execute_result"
    }
   ],
   "source": [
    "df_original.columns"
   ]
  },
  {
   "cell_type": "code",
   "execution_count": 52,
   "metadata": {
    "collapsed": false
   },
   "outputs": [
    {
     "name": "stdout",
     "output_type": "stream",
     "text": [
      "Currently working on:  v_s\n"
     ]
    }
   ],
   "source": [
    "derivatives = compute_derivative(df_original,deriv_set,score_card_set)"
   ]
  },
  {
   "cell_type": "markdown",
   "metadata": {},
   "source": [
    "# output"
   ]
  },
  {
   "cell_type": "markdown",
   "metadata": {},
   "source": [
    "output signs in excel"
   ]
  },
  {
   "cell_type": "code",
   "execution_count": 64,
   "metadata": {
    "collapsed": false
   },
   "outputs": [],
   "source": [
    "#saves derivatives in excel tabs with signs in colors (very usefull for understanding the model)\n",
    "writer= pd.ExcelWriter(\"results/signs.xlsx\", engine='xlsxwriter')\n",
    "workbook=writer.book\n",
    "# Add a format. Light red fill with dark red text.\n",
    "red = workbook.add_format({'bg_color': '#FFC7CE',\n",
    "                               'font_color': '#9C0006'})\n",
    "\n",
    "blue = workbook.add_format({'bg_color': '#92c5de',\n",
    "                               'font_color': '#000061'})\n",
    "for outname in score_card_set:\n",
    "    sheetname = outname[0:30]\n",
    "    #for outname in [\"resilience\"]:\n",
    "    (derivatives[outname].dropna()).to_excel(writer,sheet_name=sheetname)\n",
    "    writer.sheets[sheetname].conditional_format('B2:BB600', {'type':'cell',\n",
    "                                    'criteria': '>',\n",
    "                                    'value':    0,\n",
    "                                    'format':   blue})\n",
    "    writer.sheets[sheetname].conditional_format('B2:BB600', {'type':'cell',\n",
    "                                    'criteria': '<',\n",
    "                                    'value':    0,\n",
    "                                    'format':   red})\n",
    "    writer.sheets[sheetname].freeze_panes(1, 1)\n"
   ]
  },
  {
   "cell_type": "code",
   "execution_count": 65,
   "metadata": {
    "collapsed": false
   },
   "outputs": [],
   "source": [
    "try :\n",
    "    writer.save()\n",
    "except PermissionError:\n",
    "    warnings.warn(\"Cannot write excel file. Check that it's not opened and try again\")\n"
   ]
  },
  {
   "cell_type": "code",
   "execution_count": 66,
   "metadata": {
    "collapsed": false
   },
   "outputs": [],
   "source": [
    "#Signs of resilience derivative \n",
    "der =     np.sign(derivatives[\"risk\"])\n",
    "for i in signs.index:\n",
    "    if (der[i].min()==der[i].max()): #all nonnan signs are equal\n",
    "        signs[i]=der[i].min()\n",
    "    else:\n",
    "        print(\"ambigous sign for \"+i)\n",
    "        signs[i]=np.nan\n",
    "\n"
   ]
  },
  {
   "cell_type": "code",
   "execution_count": null,
   "metadata": {
    "collapsed": true
   },
   "outputs": [],
   "source": []
  }
 ],
 "metadata": {
  "kernelspec": {
   "display_name": "Python 3",
   "language": "python",
   "name": "python3"
  },
  "language_info": {
   "codemirror_mode": {
    "name": "ipython",
    "version": 3
   },
   "file_extension": ".py",
   "mimetype": "text/x-python",
   "name": "python",
   "nbconvert_exporter": "python",
   "pygments_lexer": "ipython3",
   "version": "3.4.4"
  }
 },
 "nbformat": 4,
 "nbformat_minor": 0
}
