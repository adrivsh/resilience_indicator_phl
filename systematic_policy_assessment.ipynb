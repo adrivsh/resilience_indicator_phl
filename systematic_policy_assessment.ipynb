{
 "cells": [
  {
   "cell_type": "markdown",
   "metadata": {},
   "source": [
    "This notebook computes the derivative of the resilience indicator. This information is usefull for rendering the scorcards. This notebook must be run after compute_res_ind and before render_scorecards"
   ]
  },
  {
   "cell_type": "code",
   "execution_count": 21,
   "metadata": {
    "collapsed": false
   },
   "outputs": [
    {
     "name": "stdout",
     "output_type": "stream",
     "text": [
      "The autoreload extension is already loaded. To reload it, use:\n",
      "  %reload_ext autoreload\n"
     ]
    }
   ],
   "source": [
    "%reset-f\n",
    "%load_ext autoreload\n",
    "%autoreload 2\n",
    "\n",
    "import pandas as pd\n",
    "import numpy as np\n",
    "\n",
    "from res_ind_lib import *"
   ]
  },
  {
   "cell_type": "markdown",
   "metadata": {},
   "source": [
    "# data"
   ]
  },
  {
   "cell_type": "code",
   "execution_count": 22,
   "metadata": {
    "collapsed": false
   },
   "outputs": [],
   "source": [
    "#Load the excel data file into a dataframe (table)\n",
    "df_original=pd.read_excel(\"inputs/all_data_compiled.xlsx\", \n",
    "                 index_col=0, #tells Pandas to use the first column (Provinces) as the index of the table\n",
    "                 skiprows=[0, 2] #The first (0) row is a description of the variables and the 3rd (2) row is empty. We skip them\n",
    "                ) \n",
    "df_original.index.name=\"province\"\n",
    "#Displays the first rows of that dataframe\n",
    "df_original=def_ref_values(df_original)"
   ]
  },
  {
   "cell_type": "markdown",
   "metadata": {},
   "source": [
    "# computes all derivatives"
   ]
  },
  {
   "cell_type": "code",
   "execution_count": 23,
   "metadata": {
    "collapsed": false
   },
   "outputs": [],
   "source": [
    "deriv_set = np.setdiff1d( df_original.columns,\n",
    "    [\"pop\",\"iso3\",\"original_country\",\"income_elast\",\"avg_prod_k\",\"axfin_p\",\"axfin_r\",\"v_s\",\"gdp_pc_pp\",\"gdp_pc_pp_nat\",\n",
    "     \"protectionref\",\"gdp_pc_pp_ref\",\"rho\", \"T_rebuild_K\" ])\n",
    "\n",
    "pd.DataFrame(data=deriv_set).to_csv(\"inputs/deriv_set.csv\",index=False,header=False)\n",
    "\n",
    "pol_assess_set = [\"dKtot\",\"dWtot_currency\"]\n",
    "              \n",
    "#Checks that info has information for all variables in deriv_set\n",
    "info = pd.read_csv(\"inputs/inputs_info.csv\").set_index(\"key\")\n",
    "for d in deriv_set:\n",
    "    if d not in info.index.values:\n",
    "        raise Exception(d+\" is not documented in inputs_info.csv\")\n",
    "\n",
    "        \n"
   ]
  },
  {
   "cell_type": "code",
   "execution_count": 24,
   "metadata": {
    "collapsed": true
   },
   "outputs": [],
   "source": [
    "from progress_reporter import *\n",
    "\n",
    "###MH set adds and compares\n",
    "\n",
    "def compute_derivative(df_original,deriv_set,pol_assess_set):\n",
    "    der = pd.DataFrame(index=df_original.index, columns=pd.MultiIndex.from_product([deriv_set,pol_assess_set], names=['inputs', 'outputs']))\n",
    "    h=0.0001\n",
    "    #loop on all data in df prior to add the results\n",
    "    fx = compute_resiliences(df_original)[pol_assess_set]\n",
    "    for var in deriv_set:\n",
    "        try:\n",
    "            progress_reporter(var)\n",
    "            df_=df_original.copy(deep=True)\n",
    "            df_[var]=df_[var]+h\n",
    "            fxh= compute_resiliences(df_)[pol_assess_set]\n",
    "            der[var] = ((fxh-fx)/(h))  # for elasticity: .mul(df_[var],axis=0)/fx\n",
    "        except TypeError:\n",
    "            print(\"no derivative for \" +var)\n",
    "    progress_reporter(\"done.\")        \n",
    "    return der.swaplevel('inputs', 'outputs', axis=1).sort_index(axis=1).dropna(how=\"all\",axis=1)"
   ]
  },
  {
   "cell_type": "code",
   "execution_count": 25,
   "metadata": {
    "collapsed": false
   },
   "outputs": [
    {
     "name": "stdout",
     "output_type": "stream",
     "text": [
      "Currently working on:  done.\n"
     ]
    },
    {
     "data": {
      "text/html": [
       "<div>\n",
       "<table border=\"1\" class=\"dataframe\">\n",
       "  <thead>\n",
       "    <tr>\n",
       "      <th>outputs</th>\n",
       "      <th colspan=\"10\" halign=\"left\">dKtot</th>\n",
       "      <th>...</th>\n",
       "      <th colspan=\"10\" halign=\"left\">dWtot_currency</th>\n",
       "    </tr>\n",
       "    <tr>\n",
       "      <th>inputs</th>\n",
       "      <th>fap</th>\n",
       "      <th>far</th>\n",
       "      <th>nat_buyout</th>\n",
       "      <th>pi</th>\n",
       "      <th>pov_head</th>\n",
       "      <th>protection</th>\n",
       "      <th>rel_gdp_pp</th>\n",
       "      <th>share1</th>\n",
       "      <th>shew</th>\n",
       "      <th>sigma_p</th>\n",
       "      <th>...</th>\n",
       "      <th>protection</th>\n",
       "      <th>rel_gdp_pp</th>\n",
       "      <th>share1</th>\n",
       "      <th>shew</th>\n",
       "      <th>sigma_p</th>\n",
       "      <th>sigma_r</th>\n",
       "      <th>social_p</th>\n",
       "      <th>social_r</th>\n",
       "      <th>v_p</th>\n",
       "      <th>v_r</th>\n",
       "    </tr>\n",
       "    <tr>\n",
       "      <th>province</th>\n",
       "      <th></th>\n",
       "      <th></th>\n",
       "      <th></th>\n",
       "      <th></th>\n",
       "      <th></th>\n",
       "      <th></th>\n",
       "      <th></th>\n",
       "      <th></th>\n",
       "      <th></th>\n",
       "      <th></th>\n",
       "      <th></th>\n",
       "      <th></th>\n",
       "      <th></th>\n",
       "      <th></th>\n",
       "      <th></th>\n",
       "      <th></th>\n",
       "      <th></th>\n",
       "      <th></th>\n",
       "      <th></th>\n",
       "      <th></th>\n",
       "      <th></th>\n",
       "    </tr>\n",
       "  </thead>\n",
       "  <tbody>\n",
       "    <tr>\n",
       "      <th>Abra</th>\n",
       "      <td>227670.881587</td>\n",
       "      <td>919391.940185</td>\n",
       "      <td>-5.820766e-07</td>\n",
       "      <td>-212449.498333</td>\n",
       "      <td>55280.151948</td>\n",
       "      <td>-17061.320831</td>\n",
       "      <td>248393.163602</td>\n",
       "      <td>55219.470797</td>\n",
       "      <td>-44565.953396</td>\n",
       "      <td>0</td>\n",
       "      <td>...</td>\n",
       "      <td>-29498.709774</td>\n",
       "      <td>-214390.562393</td>\n",
       "      <td>-240138.657020</td>\n",
       "      <td>-77391.869536</td>\n",
       "      <td>-52502.979353</td>\n",
       "      <td>-490.688955</td>\n",
       "      <td>-59193.231873</td>\n",
       "      <td>-553.232633</td>\n",
       "      <td>654268.176447</td>\n",
       "      <td>452011.643804</td>\n",
       "    </tr>\n",
       "    <tr>\n",
       "      <th>Agusan Del Norte</th>\n",
       "      <td>1611098.429600</td>\n",
       "      <td>4131307.845861</td>\n",
       "      <td>2.328306e-06</td>\n",
       "      <td>-1767215.686801</td>\n",
       "      <td>1325373.414119</td>\n",
       "      <td>-191108.275563</td>\n",
       "      <td>1849809.709750</td>\n",
       "      <td>1645235.240965</td>\n",
       "      <td>-430358.224248</td>\n",
       "      <td>0</td>\n",
       "      <td>...</td>\n",
       "      <td>-278929.462340</td>\n",
       "      <td>-1343243.251829</td>\n",
       "      <td>-3418827.164248</td>\n",
       "      <td>-636613.998073</td>\n",
       "      <td>-1587372.493092</td>\n",
       "      <td>-2548.001278</td>\n",
       "      <td>-1729172.294829</td>\n",
       "      <td>-2775.614723</td>\n",
       "      <td>3985261.800843</td>\n",
       "      <td>2659576.228298</td>\n",
       "    </tr>\n",
       "    <tr>\n",
       "      <th>Agusan Del Sur</th>\n",
       "      <td>1995253.577513</td>\n",
       "      <td>2930588.077283</td>\n",
       "      <td>0.000000e+00</td>\n",
       "      <td>-542593.069321</td>\n",
       "      <td>405790.353140</td>\n",
       "      <td>-64128.372923</td>\n",
       "      <td>803777.188100</td>\n",
       "      <td>493566.611776</td>\n",
       "      <td>-132134.063514</td>\n",
       "      <td>0</td>\n",
       "      <td>...</td>\n",
       "      <td>-134529.911757</td>\n",
       "      <td>-840068.101960</td>\n",
       "      <td>-1127197.574561</td>\n",
       "      <td>-279702.737075</td>\n",
       "      <td>-636552.583866</td>\n",
       "      <td>-1086.132429</td>\n",
       "      <td>-693415.744782</td>\n",
       "      <td>-1183.033106</td>\n",
       "      <td>2207240.581999</td>\n",
       "      <td>888572.223412</td>\n",
       "    </tr>\n",
       "    <tr>\n",
       "      <th>Aklan</th>\n",
       "      <td>4894521.883042</td>\n",
       "      <td>14618905.100807</td>\n",
       "      <td>0.000000e+00</td>\n",
       "      <td>0.000000</td>\n",
       "      <td>0.000000</td>\n",
       "      <td>0.000000</td>\n",
       "      <td>0.000000</td>\n",
       "      <td>0.000000</td>\n",
       "      <td>0.000000</td>\n",
       "      <td>0</td>\n",
       "      <td>...</td>\n",
       "      <td>0.000000</td>\n",
       "      <td>0.000000</td>\n",
       "      <td>0.000000</td>\n",
       "      <td>0.000000</td>\n",
       "      <td>0.000000</td>\n",
       "      <td>0.000000</td>\n",
       "      <td>0.000000</td>\n",
       "      <td>0.000000</td>\n",
       "      <td>0.000000</td>\n",
       "      <td>0.000000</td>\n",
       "    </tr>\n",
       "    <tr>\n",
       "      <th>Albay</th>\n",
       "      <td>16066028.839387</td>\n",
       "      <td>31889806.834252</td>\n",
       "      <td>0.000000e+00</td>\n",
       "      <td>0.000000</td>\n",
       "      <td>0.000000</td>\n",
       "      <td>0.000000</td>\n",
       "      <td>0.000000</td>\n",
       "      <td>0.000000</td>\n",
       "      <td>0.000000</td>\n",
       "      <td>0</td>\n",
       "      <td>...</td>\n",
       "      <td>0.000000</td>\n",
       "      <td>0.000000</td>\n",
       "      <td>0.000000</td>\n",
       "      <td>0.000000</td>\n",
       "      <td>0.000000</td>\n",
       "      <td>0.000000</td>\n",
       "      <td>0.000000</td>\n",
       "      <td>0.000000</td>\n",
       "      <td>0.000000</td>\n",
       "      <td>0.000000</td>\n",
       "    </tr>\n",
       "  </tbody>\n",
       "</table>\n",
       "<p>5 rows × 30 columns</p>\n",
       "</div>"
      ],
      "text/plain": [
       "outputs                     dKtot                                 \\\n",
       "inputs                        fap              far    nat_buyout   \n",
       "province                                                           \n",
       "Abra                227670.881587    919391.940185 -5.820766e-07   \n",
       "Agusan Del Norte   1611098.429600   4131307.845861  2.328306e-06   \n",
       "Agusan Del Sur     1995253.577513   2930588.077283  0.000000e+00   \n",
       "Aklan              4894521.883042  14618905.100807  0.000000e+00   \n",
       "Albay             16066028.839387  31889806.834252  0.000000e+00   \n",
       "\n",
       "outputs                                                          \\\n",
       "inputs                        pi        pov_head     protection   \n",
       "province                                                          \n",
       "Abra              -212449.498333    55280.151948  -17061.320831   \n",
       "Agusan Del Norte -1767215.686801  1325373.414119 -191108.275563   \n",
       "Agusan Del Sur    -542593.069321   405790.353140  -64128.372923   \n",
       "Aklan                   0.000000        0.000000       0.000000   \n",
       "Albay                   0.000000        0.000000       0.000000   \n",
       "\n",
       "outputs                                                                  \\\n",
       "inputs                rel_gdp_pp          share1           shew sigma_p   \n",
       "province                                                                  \n",
       "Abra               248393.163602    55219.470797  -44565.953396       0   \n",
       "Agusan Del Norte  1849809.709750  1645235.240965 -430358.224248       0   \n",
       "Agusan Del Sur     803777.188100   493566.611776 -132134.063514       0   \n",
       "Aklan                   0.000000        0.000000       0.000000       0   \n",
       "Albay                   0.000000        0.000000       0.000000       0   \n",
       "\n",
       "outputs                ...       dWtot_currency                  \\\n",
       "inputs                 ...           protection      rel_gdp_pp   \n",
       "province               ...                                        \n",
       "Abra                   ...        -29498.709774  -214390.562393   \n",
       "Agusan Del Norte       ...       -278929.462340 -1343243.251829   \n",
       "Agusan Del Sur         ...       -134529.911757  -840068.101960   \n",
       "Aklan                  ...             0.000000        0.000000   \n",
       "Albay                  ...             0.000000        0.000000   \n",
       "\n",
       "outputs                                                                       \\\n",
       "inputs                    share1           shew         sigma_p      sigma_r   \n",
       "province                                                                       \n",
       "Abra              -240138.657020  -77391.869536   -52502.979353  -490.688955   \n",
       "Agusan Del Norte -3418827.164248 -636613.998073 -1587372.493092 -2548.001278   \n",
       "Agusan Del Sur   -1127197.574561 -279702.737075  -636552.583866 -1086.132429   \n",
       "Aklan                   0.000000       0.000000        0.000000     0.000000   \n",
       "Albay                   0.000000       0.000000        0.000000     0.000000   \n",
       "\n",
       "outputs                                                                        \n",
       "inputs                  social_p     social_r             v_p             v_r  \n",
       "province                                                                       \n",
       "Abra               -59193.231873  -553.232633   654268.176447   452011.643804  \n",
       "Agusan Del Norte -1729172.294829 -2775.614723  3985261.800843  2659576.228298  \n",
       "Agusan Del Sur    -693415.744782 -1183.033106  2207240.581999   888572.223412  \n",
       "Aklan                   0.000000     0.000000        0.000000        0.000000  \n",
       "Albay                   0.000000     0.000000        0.000000        0.000000  \n",
       "\n",
       "[5 rows x 30 columns]"
      ]
     },
     "execution_count": 25,
     "metadata": {},
     "output_type": "execute_result"
    }
   ],
   "source": [
    "derivatives = compute_derivative(df_original,deriv_set,pol_assess_set)\n",
    "derivatives.head()"
   ]
  },
  {
   "cell_type": "markdown",
   "metadata": {},
   "source": [
    "# output"
   ]
  },
  {
   "cell_type": "markdown",
   "metadata": {},
   "source": [
    "output signs in excel"
   ]
  },
  {
   "cell_type": "code",
   "execution_count": 26,
   "metadata": {
    "collapsed": false
   },
   "outputs": [],
   "source": [
    "#saves derivatives in excel tabs with signs in colors (very usefull for understanding the model)\n",
    "writer= pd.ExcelWriter(\"results/derivatives.xlsx\", engine='xlsxwriter')\n",
    "workbook=writer.book\n",
    "# Add a format. Light red fill with dark red text.\n",
    "red = workbook.add_format({'bg_color': '#FFC7CE',\n",
    "                               'font_color': '#9C0006'})\n",
    "\n",
    "blue = workbook.add_format({'bg_color': '#92c5de',\n",
    "                               'font_color': '#000061'})\n",
    "for outname in pol_assess_set:\n",
    "    sheetname = outname[0:30]\n",
    "    (derivatives[outname].dropna()).to_excel(writer,sheet_name=sheetname)\n",
    "    writer.sheets[sheetname].conditional_format('B2:BB600', {'type':'cell',\n",
    "                                    'criteria': '>',\n",
    "                                    'value':    0,\n",
    "                                    'format':   blue})\n",
    "    writer.sheets[sheetname].conditional_format('B2:BB600', {'type':'cell',\n",
    "                                    'criteria': '<',\n",
    "                                    'value':    0,\n",
    "                                    'format':   red})\n",
    "    writer.sheets[sheetname].freeze_panes(1, 1)\n"
   ]
  },
  {
   "cell_type": "code",
   "execution_count": 27,
   "metadata": {
    "collapsed": false
   },
   "outputs": [],
   "source": [
    "import warnings\n",
    "warnings.filterwarnings(\"always\",category=UserWarning)\n",
    "try :\n",
    "    writer.save()\n",
    "except PermissionError:\n",
    "    warnings.warn(\"Cannot write excel file. Check that it's not opened and try again\")\n"
   ]
  },
  {
   "cell_type": "markdown",
   "metadata": {},
   "source": [
    "# Double checks the results"
   ]
  },
  {
   "cell_type": "code",
   "execution_count": 28,
   "metadata": {
    "collapsed": false
   },
   "outputs": [
    {
     "name": "stdout",
     "output_type": "stream",
     "text": [
      "ambigous sign for nat_buyout on dKtot\n",
      "ambigous sign for sigma_p on dKtot\n",
      "ambigous sign for sigma_r on dKtot\n",
      "ambigous sign for social_p on dKtot\n",
      "ambigous sign for social_r on dKtot\n"
     ]
    }
   ],
   "source": [
    "#Signs of resilience derivative\n",
    "for out in pol_assess_set:\n",
    "    der =     np.sign(derivatives[out]).replace(0,np.nan)\n",
    "    signs= pd.Series(index=der.columns)\n",
    "    for i in signs.index:\n",
    "        if (der[i].min()==der[i].max()): #all nonnan signs are equal\n",
    "            signs[i]=der[i].min()\n",
    "        else:\n",
    "            print(\"ambigous sign for \"+i+\" on \"+out)\n",
    "            signs[i]=np.nan\n",
    "\n"
   ]
  },
  {
   "cell_type": "code",
   "execution_count": null,
   "metadata": {
    "collapsed": true
   },
   "outputs": [],
   "source": []
  },
  {
   "cell_type": "code",
   "execution_count": null,
   "metadata": {
    "collapsed": true
   },
   "outputs": [],
   "source": []
  }
 ],
 "metadata": {
  "kernelspec": {
   "display_name": "Python 3",
   "language": "python",
   "name": "python3"
  },
  "language_info": {
   "codemirror_mode": {
    "name": "ipython",
    "version": 3
   },
   "file_extension": ".py",
   "mimetype": "text/x-python",
   "name": "python",
   "nbconvert_exporter": "python",
   "pygments_lexer": "ipython3",
   "version": "3.4.4"
  }
 },
 "nbformat": 4,
 "nbformat_minor": 0
}
