{
 "cells": [
  {
   "cell_type": "markdown",
   "metadata": {},
   "source": [
    "This notebook computes the derivative of the resilience indicator. This information is usefull for rendering the scorcards. This notebook must be run after compute_res_ind and before render_scorecards"
   ]
  },
  {
   "cell_type": "code",
   "execution_count": 3,
   "metadata": {
    "collapsed": false
   },
   "outputs": [],
   "source": [
    "%reset-f\n",
    "%load_ext autoreload\n",
    "%autoreload 2\n",
    "\n",
    "import pandas as pd\n",
    "import numpy as np\n",
    "\n",
    "from res_ind_lib import *"
   ]
  },
  {
   "cell_type": "markdown",
   "metadata": {},
   "source": [
    "# data"
   ]
  },
  {
   "cell_type": "code",
   "execution_count": 4,
   "metadata": {
    "collapsed": false
   },
   "outputs": [],
   "source": [
    "#Load the excel data file into a dataframe (table)\n",
    "df_original=pd.read_excel(\"inputs/all_data_compiled.xlsx\", \n",
    "                 index_col=0, #tells Pandas to use the first column (Provinces) as the index of the table\n",
    "                 skiprows=[0, 2] #The first (0) row is a description of the variables and the 3rd (2) row is empty. We skip them\n",
    "                ) \n",
    "df_original.index.name=\"province\"\n",
    "#Displays the first rows of that dataframe\n",
    "df_original=def_ref_values(df_original)"
   ]
  },
  {
   "cell_type": "markdown",
   "metadata": {},
   "source": [
    "# computes all derivatives"
   ]
  },
  {
   "cell_type": "code",
   "execution_count": 5,
   "metadata": {
    "collapsed": false
   },
   "outputs": [],
   "source": [
    "deriv_set = np.setdiff1d( df_original.columns,\n",
    "    [\"pop\",\"iso3\",\"original_country\",\"income_elast\",\"avg_prod_k\",\"axfin_p\",\"axfin_r\",\"v_s\",\"gdp_pc_pp\",\"gdp_pc_pp_nat\",\n",
    "     \"protectionref\",\"gdp_pc_pp_ref\",\"rho\", \"T_rebuild_K\" ])\n",
    "\n",
    "pd.DataFrame(data=deriv_set).to_csv(\"inputs/deriv_set.csv\",index=False,header=False)\n",
    "\n",
    "pol_assess_set = [\"dKtot\",\"dWtot_currency\"]\n",
    "              \n",
    "#Checks that info has information for all variables in deriv_set\n",
    "info = pd.read_csv(\"inputs/inputs_info.csv\").set_index(\"key\")\n",
    "for d in deriv_set:\n",
    "    if d not in info.index.values:\n",
    "        raise Exception(d+\" is not documented in inputs_info.csv\")\n",
    "\n",
    "        \n"
   ]
  },
  {
   "cell_type": "code",
   "execution_count": 6,
   "metadata": {
    "collapsed": true
   },
   "outputs": [],
   "source": [
    "from progress_reporter import *\n",
    "\n",
    "###MH set adds and compares\n",
    "\n",
    "def compute_derivative(df_original,deriv_set,pol_assess_set, **kwargs):\n",
    "    der = pd.DataFrame(index=df_original.index, columns=pd.MultiIndex.from_product([deriv_set,pol_assess_set], names=['inputs', 'outputs']))\n",
    "    h=0.0001\n",
    "    #loop on all data in df prior to add the results\n",
    "    fx = compute_resiliences(df_original, **kwargs)[pol_assess_set]\n",
    "    for var in deriv_set:\n",
    "        try:\n",
    "            progress_reporter(var)\n",
    "            df_=df_original.copy(deep=True)\n",
    "            df_[var]=df_[var]+h\n",
    "            fxh= compute_resiliences(df_, **kwargs)[pol_assess_set]\n",
    "            der[var] = ((fxh-fx)/(h))  # for elasticity: .mul(df_[var],axis=0)/fx\n",
    "        except TypeError:\n",
    "            print(\"no derivative for \" +var)\n",
    "    progress_reporter(\"done.\")        \n",
    "    return der.swaplevel('inputs', 'outputs', axis=1).sort_index(axis=1).dropna(how=\"all\",axis=1)"
   ]
  },
  {
   "cell_type": "code",
   "execution_count": 7,
   "metadata": {
    "collapsed": false
   },
   "outputs": [
    {
     "data": {
      "text/html": [
       "<div>\n",
       "<table border=\"1\" class=\"dataframe\">\n",
       "  <thead>\n",
       "    <tr style=\"text-align: right;\">\n",
       "      <th></th>\n",
       "      <th>10.0</th>\n",
       "      <th>100.0</th>\n",
       "    </tr>\n",
       "    <tr>\n",
       "      <th>province</th>\n",
       "      <th></th>\n",
       "      <th></th>\n",
       "    </tr>\n",
       "  </thead>\n",
       "  <tbody>\n",
       "    <tr>\n",
       "      <th>Abra</th>\n",
       "      <td>1</td>\n",
       "      <td>1.814138</td>\n",
       "    </tr>\n",
       "    <tr>\n",
       "      <th>Agusan Del Norte</th>\n",
       "      <td>1</td>\n",
       "      <td>1.081761</td>\n",
       "    </tr>\n",
       "    <tr>\n",
       "      <th>Agusan Del Sur</th>\n",
       "      <td>1</td>\n",
       "      <td>1.335951</td>\n",
       "    </tr>\n",
       "    <tr>\n",
       "      <th>Apayao</th>\n",
       "      <td>1</td>\n",
       "      <td>1.000000</td>\n",
       "    </tr>\n",
       "    <tr>\n",
       "      <th>Batangas</th>\n",
       "      <td>1</td>\n",
       "      <td>1.000000</td>\n",
       "    </tr>\n",
       "  </tbody>\n",
       "</table>\n",
       "</div>"
      ],
      "text/plain": [
       "                  10        100\n",
       "province                       \n",
       "Abra                1  1.814138\n",
       "Agusan Del Norte    1  1.081761\n",
       "Agusan Del Sur      1  1.335951\n",
       "Apayao              1  1.000000\n",
       "Batangas            1  1.000000"
      ]
     },
     "execution_count": 7,
     "metadata": {},
     "output_type": "execute_result"
    }
   ],
   "source": [
    "fr=pd.read_csv(\"inputs/fa_ratios_river.csv\", index_col=\"province\").dropna()\n",
    "fr.columns = fr.columns.astype(float)\n",
    "fr.head()"
   ]
  },
  {
   "cell_type": "code",
   "execution_count": 8,
   "metadata": {
    "collapsed": false
   },
   "outputs": [
    {
     "name": "stdout",
     "output_type": "stream",
     "text": [
      "Currently working on:  done.\n"
     ]
    },
    {
     "data": {
      "text/html": [
       "<div>\n",
       "<table border=\"1\" class=\"dataframe\">\n",
       "  <thead>\n",
       "    <tr>\n",
       "      <th>outputs</th>\n",
       "      <th colspan=\"10\" halign=\"left\">dKtot</th>\n",
       "      <th>...</th>\n",
       "      <th colspan=\"10\" halign=\"left\">dWtot_currency</th>\n",
       "    </tr>\n",
       "    <tr>\n",
       "      <th>inputs</th>\n",
       "      <th>fap</th>\n",
       "      <th>far</th>\n",
       "      <th>nat_buyout</th>\n",
       "      <th>pi</th>\n",
       "      <th>pov_head</th>\n",
       "      <th>protection</th>\n",
       "      <th>rel_gdp_pp</th>\n",
       "      <th>share1</th>\n",
       "      <th>shew</th>\n",
       "      <th>sigma_p</th>\n",
       "      <th>...</th>\n",
       "      <th>protection</th>\n",
       "      <th>rel_gdp_pp</th>\n",
       "      <th>share1</th>\n",
       "      <th>shew</th>\n",
       "      <th>sigma_p</th>\n",
       "      <th>sigma_r</th>\n",
       "      <th>social_p</th>\n",
       "      <th>social_r</th>\n",
       "      <th>v_p</th>\n",
       "      <th>v_r</th>\n",
       "    </tr>\n",
       "    <tr>\n",
       "      <th>province</th>\n",
       "      <th></th>\n",
       "      <th></th>\n",
       "      <th></th>\n",
       "      <th></th>\n",
       "      <th></th>\n",
       "      <th></th>\n",
       "      <th></th>\n",
       "      <th></th>\n",
       "      <th></th>\n",
       "      <th></th>\n",
       "      <th></th>\n",
       "      <th></th>\n",
       "      <th></th>\n",
       "      <th></th>\n",
       "      <th></th>\n",
       "      <th></th>\n",
       "      <th></th>\n",
       "      <th></th>\n",
       "      <th></th>\n",
       "      <th></th>\n",
       "      <th></th>\n",
       "    </tr>\n",
       "  </thead>\n",
       "  <tbody>\n",
       "    <tr>\n",
       "      <th>Abra</th>\n",
       "      <td>86515.763355</td>\n",
       "      <td>241586.279502</td>\n",
       "      <td>-7.275958e-08</td>\n",
       "      <td>-61758.704609</td>\n",
       "      <td>21006.658870</td>\n",
       "      <td>-4115.116595</td>\n",
       "      <td>69686.022313</td>\n",
       "      <td>15414.428731</td>\n",
       "      <td>-12955.246179</td>\n",
       "      <td>0</td>\n",
       "      <td>...</td>\n",
       "      <td>-6280.186856</td>\n",
       "      <td>-53097.054300</td>\n",
       "      <td>-40905.090912</td>\n",
       "      <td>-19920.908018</td>\n",
       "      <td>-12081.676970</td>\n",
       "      <td>-193.290230</td>\n",
       "      <td>-20431.767805</td>\n",
       "      <td>-326.869333</td>\n",
       "      <td>223998.087511</td>\n",
       "      <td>185509.497212</td>\n",
       "    </tr>\n",
       "    <tr>\n",
       "      <th>Agusan Del Norte</th>\n",
       "      <td>527119.638492</td>\n",
       "      <td>990375.206298</td>\n",
       "      <td>5.820766e-07</td>\n",
       "      <td>-474279.819536</td>\n",
       "      <td>433636.047360</td>\n",
       "      <td>-50352.386635</td>\n",
       "      <td>463959.045559</td>\n",
       "      <td>408336.902522</td>\n",
       "      <td>-115498.194395</td>\n",
       "      <td>0</td>\n",
       "      <td>...</td>\n",
       "      <td>-66615.261146</td>\n",
       "      <td>-305247.180049</td>\n",
       "      <td>-636985.968724</td>\n",
       "      <td>-155973.862525</td>\n",
       "      <td>-316030.714214</td>\n",
       "      <td>-867.494416</td>\n",
       "      <td>-516391.740923</td>\n",
       "      <td>-1417.436702</td>\n",
       "      <td>1185765.828512</td>\n",
       "      <td>910252.941618</td>\n",
       "    </tr>\n",
       "    <tr>\n",
       "      <th>Agusan Del Sur</th>\n",
       "      <td>681083.520832</td>\n",
       "      <td>702192.265787</td>\n",
       "      <td>0.000000e+00</td>\n",
       "      <td>-156300.480151</td>\n",
       "      <td>138517.292013</td>\n",
       "      <td>-17217.231692</td>\n",
       "      <td>216386.045422</td>\n",
       "      <td>127806.090948</td>\n",
       "      <td>-38062.811228</td>\n",
       "      <td>0</td>\n",
       "      <td>...</td>\n",
       "      <td>-31212.059781</td>\n",
       "      <td>-195343.305326</td>\n",
       "      <td>-209075.758557</td>\n",
       "      <td>-70079.002447</td>\n",
       "      <td>-132153.490059</td>\n",
       "      <td>-394.496972</td>\n",
       "      <td>-215937.788987</td>\n",
       "      <td>-644.584300</td>\n",
       "      <td>683525.016827</td>\n",
       "      <td>324630.736384</td>\n",
       "    </tr>\n",
       "    <tr>\n",
       "      <th>Aklan</th>\n",
       "      <td>NaN</td>\n",
       "      <td>NaN</td>\n",
       "      <td>NaN</td>\n",
       "      <td>NaN</td>\n",
       "      <td>NaN</td>\n",
       "      <td>NaN</td>\n",
       "      <td>NaN</td>\n",
       "      <td>NaN</td>\n",
       "      <td>NaN</td>\n",
       "      <td>NaN</td>\n",
       "      <td>...</td>\n",
       "      <td>NaN</td>\n",
       "      <td>NaN</td>\n",
       "      <td>NaN</td>\n",
       "      <td>NaN</td>\n",
       "      <td>NaN</td>\n",
       "      <td>NaN</td>\n",
       "      <td>NaN</td>\n",
       "      <td>NaN</td>\n",
       "      <td>NaN</td>\n",
       "      <td>NaN</td>\n",
       "    </tr>\n",
       "    <tr>\n",
       "      <th>Albay</th>\n",
       "      <td>NaN</td>\n",
       "      <td>NaN</td>\n",
       "      <td>NaN</td>\n",
       "      <td>NaN</td>\n",
       "      <td>NaN</td>\n",
       "      <td>NaN</td>\n",
       "      <td>NaN</td>\n",
       "      <td>NaN</td>\n",
       "      <td>NaN</td>\n",
       "      <td>NaN</td>\n",
       "      <td>...</td>\n",
       "      <td>NaN</td>\n",
       "      <td>NaN</td>\n",
       "      <td>NaN</td>\n",
       "      <td>NaN</td>\n",
       "      <td>NaN</td>\n",
       "      <td>NaN</td>\n",
       "      <td>NaN</td>\n",
       "      <td>NaN</td>\n",
       "      <td>NaN</td>\n",
       "      <td>NaN</td>\n",
       "    </tr>\n",
       "  </tbody>\n",
       "</table>\n",
       "<p>5 rows × 30 columns</p>\n",
       "</div>"
      ],
      "text/plain": [
       "outputs                   dKtot                                              \\\n",
       "inputs                      fap            far    nat_buyout             pi   \n",
       "province                                                                      \n",
       "Abra               86515.763355  241586.279502 -7.275958e-08  -61758.704609   \n",
       "Agusan Del Norte  527119.638492  990375.206298  5.820766e-07 -474279.819536   \n",
       "Agusan Del Sur    681083.520832  702192.265787  0.000000e+00 -156300.480151   \n",
       "Aklan                       NaN            NaN           NaN            NaN   \n",
       "Albay                       NaN            NaN           NaN            NaN   \n",
       "\n",
       "outputs                                                                      \\\n",
       "inputs                 pov_head    protection     rel_gdp_pp         share1   \n",
       "province                                                                      \n",
       "Abra               21006.658870  -4115.116595   69686.022313   15414.428731   \n",
       "Agusan Del Norte  433636.047360 -50352.386635  463959.045559  408336.902522   \n",
       "Agusan Del Sur    138517.292013 -17217.231692  216386.045422  127806.090948   \n",
       "Aklan                       NaN           NaN            NaN            NaN   \n",
       "Albay                       NaN           NaN            NaN            NaN   \n",
       "\n",
       "outputs                                      ...       dWtot_currency  \\\n",
       "inputs                     shew sigma_p      ...           protection   \n",
       "province                                     ...                        \n",
       "Abra              -12955.246179       0      ...         -6280.186856   \n",
       "Agusan Del Norte -115498.194395       0      ...        -66615.261146   \n",
       "Agusan Del Sur    -38062.811228       0      ...        -31212.059781   \n",
       "Aklan                       NaN     NaN      ...                  NaN   \n",
       "Albay                       NaN     NaN      ...                  NaN   \n",
       "\n",
       "outputs                                                                       \\\n",
       "inputs               rel_gdp_pp         share1           shew        sigma_p   \n",
       "province                                                                       \n",
       "Abra              -53097.054300  -40905.090912  -19920.908018  -12081.676970   \n",
       "Agusan Del Norte -305247.180049 -636985.968724 -155973.862525 -316030.714214   \n",
       "Agusan Del Sur   -195343.305326 -209075.758557  -70079.002447 -132153.490059   \n",
       "Aklan                       NaN            NaN            NaN            NaN   \n",
       "Albay                       NaN            NaN            NaN            NaN   \n",
       "\n",
       "outputs                                                                   \\\n",
       "inputs               sigma_r       social_p     social_r             v_p   \n",
       "province                                                                   \n",
       "Abra             -193.290230  -20431.767805  -326.869333   223998.087511   \n",
       "Agusan Del Norte -867.494416 -516391.740923 -1417.436702  1185765.828512   \n",
       "Agusan Del Sur   -394.496972 -215937.788987  -644.584300   683525.016827   \n",
       "Aklan                    NaN            NaN          NaN             NaN   \n",
       "Albay                    NaN            NaN          NaN             NaN   \n",
       "\n",
       "outputs                          \n",
       "inputs                      v_r  \n",
       "province                         \n",
       "Abra              185509.497212  \n",
       "Agusan Del Norte  910252.941618  \n",
       "Agusan Del Sur    324630.736384  \n",
       "Aklan                       NaN  \n",
       "Albay                       NaN  \n",
       "\n",
       "[5 rows x 30 columns]"
      ]
     },
     "execution_count": 8,
     "metadata": {},
     "output_type": "execute_result"
    }
   ],
   "source": [
    "derivatives = compute_derivative(df_original,deriv_set,pol_assess_set, fa_ratios=fr)\n",
    "derivatives.head()"
   ]
  },
  {
   "cell_type": "markdown",
   "metadata": {},
   "source": [
    "# output"
   ]
  },
  {
   "cell_type": "markdown",
   "metadata": {},
   "source": [
    "output signs in excel"
   ]
  },
  {
   "cell_type": "code",
   "execution_count": 9,
   "metadata": {
    "collapsed": false
   },
   "outputs": [],
   "source": [
    "#saves derivatives in excel tabs with signs in colors (very usefull for understanding the model)\n",
    "writer= pd.ExcelWriter(\"results/derivatives.xlsx\", engine='xlsxwriter')\n",
    "workbook=writer.book\n",
    "# Add a format. Light red fill with dark red text.\n",
    "red = workbook.add_format({'bg_color': '#FFC7CE',\n",
    "                               'font_color': '#9C0006'})\n",
    "\n",
    "blue = workbook.add_format({'bg_color': '#92c5de',\n",
    "                               'font_color': '#000061'})\n",
    "for outname in pol_assess_set:\n",
    "    sheetname = outname[0:30]\n",
    "    (derivatives[outname].dropna()).to_excel(writer,sheet_name=sheetname)\n",
    "    writer.sheets[sheetname].conditional_format('B2:BB600', {'type':'cell',\n",
    "                                    'criteria': '>',\n",
    "                                    'value':    0,\n",
    "                                    'format':   blue})\n",
    "    writer.sheets[sheetname].conditional_format('B2:BB600', {'type':'cell',\n",
    "                                    'criteria': '<',\n",
    "                                    'value':    0,\n",
    "                                    'format':   red})\n",
    "    writer.sheets[sheetname].freeze_panes(1, 1)\n"
   ]
  },
  {
   "cell_type": "code",
   "execution_count": 10,
   "metadata": {
    "collapsed": false
   },
   "outputs": [],
   "source": [
    "import warnings\n",
    "warnings.filterwarnings(\"always\",category=UserWarning)\n",
    "try :\n",
    "    writer.save()\n",
    "except PermissionError:\n",
    "    warnings.warn(\"Cannot write excel file. Check that it's not opened and try again\")\n"
   ]
  },
  {
   "cell_type": "code",
   "execution_count": 11,
   "metadata": {
    "collapsed": true
   },
   "outputs": [],
   "source": [
    "## consistency check"
   ]
  },
  {
   "cell_type": "code",
   "execution_count": 12,
   "metadata": {
    "collapsed": false
   },
   "outputs": [
    {
     "name": "stdout",
     "output_type": "stream",
     "text": [
      "ambigous sign for nat_buyout on dKtot\n",
      "ambigous sign for sigma_p on dKtot\n",
      "ambigous sign for sigma_r on dKtot\n",
      "ambigous sign for social_p on dKtot\n",
      "ambigous sign for social_r on dKtot\n"
     ]
    }
   ],
   "source": [
    "for out in pol_assess_set:\n",
    "    der =     np.sign(derivatives[out]).replace(0,np.nan)\n",
    "    signs= pd.Series(index=der.columns)\n",
    "    for i in signs.index:\n",
    "        if (der[i].min()==der[i].max()): #all nonnan signs are equal\n",
    "            signs[i]=der[i].min()\n",
    "        else:\n",
    "            print(\"ambigous sign for \"+i+\" on \"+out)\n",
    "            signs[i]=np.nan"
   ]
  },
  {
   "cell_type": "code",
   "execution_count": null,
   "metadata": {
    "collapsed": true
   },
   "outputs": [],
   "source": []
  }
 ],
 "metadata": {
  "kernelspec": {
   "display_name": "Python 3",
   "language": "python",
   "name": "python3"
  },
  "language_info": {
   "codemirror_mode": {
    "name": "ipython",
    "version": 3
   },
   "file_extension": ".py",
   "mimetype": "text/x-python",
   "name": "python",
   "nbconvert_exporter": "python",
   "pygments_lexer": "ipython3",
   "version": "3.4.4"
  }
 },
 "nbformat": 4,
 "nbformat_minor": 0
}
