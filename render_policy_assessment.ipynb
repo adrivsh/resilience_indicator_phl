{
 "cells": [
  {
   "cell_type": "markdown",
   "metadata": {},
   "source": [
    "This notebook renders the policy assessment cards. It must be run after [systematic_policy_assessment](systematic_policy_assessment.ipynb)."
   ]
  },
  {
   "cell_type": "code",
   "execution_count": 2,
   "metadata": {
    "collapsed": false
   },
   "outputs": [],
   "source": [
    "%load_ext autoreload\n",
    "%autoreload 2\n",
    "\n",
    "import pandas as pd\n",
    "\n",
    "#Imports the function to plot render the policy experiments\n",
    "from render_pol_assess import *\n",
    "\n",
    "#ask jupyter to display the plots within this notebook\n",
    "%matplotlib inline"
   ]
  },
  {
   "cell_type": "markdown",
   "metadata": {},
   "source": [
    "# Parameters"
   ]
  },
  {
   "cell_type": "code",
   "execution_count": 3,
   "metadata": {
    "collapsed": false
   },
   "outputs": [
    {
     "data": {
      "text/plain": [
       "key\n",
       "fap                Exposure of poor households (-1%)\n",
       "far             Exposure of nonpoor households (-1%)\n",
       "rel_gdp_pp      Average income in the province (+1%)\n",
       "rho                                    Discount rate\n",
       "income_elast                   Elasticity of utility\n",
       "Name: descriptor, dtype: object"
      ]
     },
     "execution_count": 3,
     "metadata": {},
     "output_type": "execute_result"
    }
   ],
   "source": [
    "##POLICY DESCRIPTION\n",
    "policy_info= pd.read_csv(\"inputs/policy_description.csv\",index_col=0)\n",
    "\n",
    "#Policy Labels (y axis)\n",
    "policy_labels = policy_info.descriptor.copy() #we make a copy so we can modify it later\n",
    "policy_labels.head()\n",
    "\n",
    "#Size of the policy experiment\n",
    "size = policy_info.increment\n",
    "size.head()\n",
    "\n",
    "#formats policy description so as to show the particular amount of change\n",
    "for k in policy_labels.index:\n",
    "#     try:\n",
    "        policy_labels[k]=policy_labels[k].format(dh=size[k])\n",
    "#     except(TypeError):\n",
    "#         pass\n",
    "\n",
    "policy_labels.head()    "
   ]
  },
  {
   "cell_type": "code",
   "execution_count": 4,
   "metadata": {
    "collapsed": true
   },
   "outputs": [],
   "source": [
    "#unit for welfare and asset loses changes\n",
    "unit = dict(multiplier = 1e-3, string = \"million pesos per year\")"
   ]
  },
  {
   "cell_type": "code",
   "execution_count": 5,
   "metadata": {
    "collapsed": false
   },
   "outputs": [
    {
     "data": {
      "text/html": [
       "<div>\n",
       "<table border=\"1\" class=\"dataframe\">\n",
       "  <thead>\n",
       "    <tr style=\"text-align: right;\">\n",
       "      <th></th>\n",
       "      <th>color</th>\n",
       "      <th>edgecolor</th>\n",
       "      <th>alpha</th>\n",
       "    </tr>\n",
       "  </thead>\n",
       "  <tbody>\n",
       "    <tr>\n",
       "      <th>dWtot_currency</th>\n",
       "      <td>#a6cee3</td>\n",
       "      <td>#1f78b4</td>\n",
       "      <td>1</td>\n",
       "    </tr>\n",
       "    <tr>\n",
       "      <th>dKtot</th>\n",
       "      <td>#cccccc</td>\n",
       "      <td>#969696</td>\n",
       "      <td>1</td>\n",
       "    </tr>\n",
       "  </tbody>\n",
       "</table>\n",
       "</div>"
      ],
      "text/plain": [
       "                  color edgecolor  alpha\n",
       "dWtot_currency  #a6cee3   #1f78b4      1\n",
       "dKtot           #cccccc   #969696      1"
      ]
     },
     "execution_count": 5,
     "metadata": {},
     "output_type": "execute_result"
    }
   ],
   "source": [
    "colors = pd.read_csv(\"inputs/colors_pol_assess.csv\", index_col=0)\n",
    "colors"
   ]
  },
  {
   "cell_type": "markdown",
   "metadata": {
    "collapsed": true
   },
   "source": [
    "# actual drawing"
   ]
  },
  {
   "cell_type": "code",
   "execution_count": 6,
   "metadata": {
    "collapsed": false
   },
   "outputs": [
    {
     "ename": "NameError",
     "evalue": "name 'ders' is not defined",
     "output_type": "error",
     "traceback": [
      "\u001b[1;31m---------------------------------------------------------------------------\u001b[0m",
      "\u001b[1;31mNameError\u001b[0m                                 Traceback (most recent call last)",
      "\u001b[1;32m<ipython-input-6-b98d2c4154e9>\u001b[0m in \u001b[0;36m<module>\u001b[1;34m()\u001b[0m\n\u001b[1;32m----> 1\u001b[1;33m \u001b[0mrender_pol_cards\u001b[0m\u001b[1;33m(\u001b[0m\u001b[0mders\u001b[0m\u001b[1;33m,\u001b[0m\u001b[0mcolors\u001b[0m\u001b[1;33m,\u001b[0m\u001b[0mpolicy_labels\u001b[0m\u001b[1;33m,\u001b[0m\u001b[0munit\u001b[0m\u001b[1;33m,\u001b[0m\u001b[0msize\u001b[0m\u001b[1;33m,\u001b[0m\u001b[1;33m[\u001b[0m\u001b[1;34m\"Maguindanao\"\u001b[0m\u001b[1;33m,\u001b[0m \u001b[1;34m\"Bulacan\"\u001b[0m\u001b[1;33m]\u001b[0m\u001b[1;33m)\u001b[0m\u001b[1;33m\u001b[0m\u001b[0m\n\u001b[0m\u001b[0;32m      2\u001b[0m \u001b[1;31m# render_pol_cards(ders,colors,policy_labels,unit,size)\u001b[0m\u001b[1;33m\u001b[0m\u001b[1;33m\u001b[0m\u001b[0m\n",
      "\u001b[1;31mNameError\u001b[0m: name 'ders' is not defined"
     ]
    }
   ],
   "source": [
    "render_pol_cards(colors,policy_labels,unit,size,[\"Maguindanao\", \"Bulacan\"])\n",
    "# render_pol_cards(ders,colors,policy_labels,unit,size)"
   ]
  },
  {
   "cell_type": "markdown",
   "metadata": {
    "collapsed": true
   },
   "source": [
    "### Merge to single pdf"
   ]
  },
  {
   "cell_type": "markdown",
   "metadata": {},
   "source": [
    "Merges the individual province cards into one big multi page pdf. Requires ghostscript."
   ]
  },
  {
   "cell_type": "code",
   "execution_count": null,
   "metadata": {
    "collapsed": false
   },
   "outputs": [],
   "source": [
    "province_list=glob.glob(\"cards/*.pdf\")\n",
    "merge_cardfiles(province_list,\"all_cards.pdf\")"
   ]
  },
  {
   "cell_type": "markdown",
   "metadata": {},
   "source": [
    "Converts the pdf files to png images. Requires Imagemagick."
   ]
  },
  {
   "cell_type": "code",
   "execution_count": null,
   "metadata": {
    "collapsed": false
   },
   "outputs": [],
   "source": [
    "convert_pdf_to_png(\"cards/\")"
   ]
  }
 ],
 "metadata": {
  "kernelspec": {
   "display_name": "Python 3",
   "language": "python",
   "name": "python3"
  },
  "language_info": {
   "codemirror_mode": {
    "name": "ipython",
    "version": 3
   },
   "file_extension": ".py",
   "mimetype": "text/x-python",
   "name": "python",
   "nbconvert_exporter": "python",
   "pygments_lexer": "ipython3",
   "version": "3.4.4"
  }
 },
 "nbformat": 4,
 "nbformat_minor": 0
}
