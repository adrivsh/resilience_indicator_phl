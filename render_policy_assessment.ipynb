{
 "cells": [
  {
   "cell_type": "markdown",
   "metadata": {},
   "source": [
    "This notebook renders the policy assessment cards. It must be run after [systematic_policy_assessment](systematic_policy_assessment.ipynb)."
   ]
  },
  {
   "cell_type": "code",
   "execution_count": null,
   "metadata": {
    "collapsed": false
   },
   "outputs": [],
   "source": [
    "%load_ext autoreload\n",
    "%autoreload 2\n",
    "\n",
    "import pandas as pd\n",
    "\n",
    "#Imports the function to plot render the policy experiments\n",
    "from render_pol_assess import *\n",
    "\n",
    "#ask jupyter to display the plots within this notebook\n",
    "%matplotlib inline"
   ]
  },
  {
   "cell_type": "markdown",
   "metadata": {},
   "source": [
    "# Data"
   ]
  },
  {
   "cell_type": "markdown",
   "metadata": {},
   "source": [
    "Let us first read the table produced by  [systematic_policy_assessment](systematic_policy_assessment.ipynb)"
   ]
  },
  {
   "cell_type": "code",
   "execution_count": null,
   "metadata": {
    "collapsed": false
   },
   "outputs": [],
   "source": [
    "#opens the Excel file\n",
    "xl = pd.ExcelFile(\"results/derivatives.xlsx\")\n",
    "\n",
    "#add each sheet to a new key in a dictionary\n",
    "ders=dict()\n",
    "for s in xl.sheet_names:\n",
    "    ders[s]=pd.read_excel(\"results/derivatives.xlsx\", index_col=\"province\", sheetname=s)\n",
    "\n",
    "#concats the dictionary of dataframes into a multi-colmumn dataframe\n",
    "ders=pd.concat(ders, names=[\"out\",\"var\"],axis=1).T.unstack(\"out\")\n",
    "ders.head()"
   ]
  },
  {
   "cell_type": "markdown",
   "metadata": {},
   "source": [
    "# Parameters"
   ]
  },
  {
   "cell_type": "code",
   "execution_count": null,
   "metadata": {
    "collapsed": false
   },
   "outputs": [],
   "source": [
    "##POLICY DESCRIPTION\n",
    "policy_info= pd.read_csv(\"inputs/policy_description.csv\",index_col=0)\n",
    "\n",
    "#Policy Labels (y axis)\n",
    "policy_labels = policy_info.descriptor.copy() #we make a copy so we can modify it later\n",
    "policy_labels.head()\n",
    "\n",
    "#Size of the policy experiment\n",
    "size = policy_info.increment\n",
    "size.head()\n",
    "\n",
    "#formats policy description so as to show the particular amount of change\n",
    "for k in policy_labels.index:\n",
    "#     try:\n",
    "        policy_labels[k]=policy_labels[k].format(dh=size[k])\n",
    "#     except(TypeError):\n",
    "#         pass\n",
    "\n",
    "policy_labels.head()    "
   ]
  },
  {
   "cell_type": "code",
   "execution_count": null,
   "metadata": {
    "collapsed": true
   },
   "outputs": [],
   "source": [
    "#unit for welfare and asset loses changes\n",
    "unit = dict(multiplier = 1e-3, string = \"million pesos per year\")"
   ]
  },
  {
   "cell_type": "code",
   "execution_count": null,
   "metadata": {
    "collapsed": false
   },
   "outputs": [],
   "source": [
    "colors = pd.read_csv(\"inputs/colors_pol_assess.csv\", index_col=0)\n",
    "colors"
   ]
  },
  {
   "cell_type": "markdown",
   "metadata": {
    "collapsed": true
   },
   "source": [
    "# actual drawing"
   ]
  },
  {
   "cell_type": "code",
   "execution_count": null,
   "metadata": {
    "collapsed": false
   },
   "outputs": [],
   "source": [
    "render_pol_cards(ders,colors,policy_labels,unit,size,[\"Maguindanao\", \"Bulacan\"])\n",
    "# render_pol_cards(ders,colors,policy_labels,unit,size)"
   ]
  },
  {
   "cell_type": "markdown",
   "metadata": {
    "collapsed": true
   },
   "source": [
    "### Merge to single pdf"
   ]
  },
  {
   "cell_type": "markdown",
   "metadata": {},
   "source": [
    "Merges the individual province cards into one big multi page pdf. Requires ghostscript."
   ]
  },
  {
   "cell_type": "code",
   "execution_count": null,
   "metadata": {
    "collapsed": false
   },
   "outputs": [],
   "source": [
    "province_list=glob.glob(\"cards/*.pdf\")\n",
    "merge_cardfiles(province_list,\"all_cards.pdf\")"
   ]
  },
  {
   "cell_type": "code",
   "execution_count": null,
   "metadata": {
    "collapsed": false
   },
   "outputs": [],
   "source": [
    "convert_pdf_to_png(\"cards/\")"
   ]
  },
  {
   "cell_type": "code",
   "execution_count": null,
   "metadata": {
    "collapsed": false
   },
   "outputs": [],
   "source": [
    "glob.os.path.basename(\"cards/bulacan.pdf\")"
   ]
  },
  {
   "cell_type": "code",
   "execution_count": null,
   "metadata": {
    "collapsed": true
   },
   "outputs": [],
   "source": []
  }
 ],
 "metadata": {
  "kernelspec": {
   "display_name": "Python 3",
   "language": "python",
   "name": "python3"
  },
  "language_info": {
   "codemirror_mode": {
    "name": "ipython",
    "version": 3
   },
   "file_extension": ".py",
   "mimetype": "text/x-python",
   "name": "python",
   "nbconvert_exporter": "python",
   "pygments_lexer": "ipython3",
   "version": "3.4.4"
  }
 },
 "nbformat": 4,
 "nbformat_minor": 0
}
