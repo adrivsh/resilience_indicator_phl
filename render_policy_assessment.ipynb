{
 "cells": [
  {
   "cell_type": "markdown",
   "metadata": {},
   "source": [
    "This notebook renders the policy assessment cards. It must be run after [systematic_policy_assessment](systematic_policy_assessment.ipynb)."
   ]
  },
  {
   "cell_type": "code",
   "execution_count": 103,
   "metadata": {
    "collapsed": false
   },
   "outputs": [
    {
     "name": "stdout",
     "output_type": "stream",
     "text": [
      "The autoreload extension is already loaded. To reload it, use:\n",
      "  %reload_ext autoreload\n"
     ]
    }
   ],
   "source": [
    "%reset-f\n",
    "%load_ext autoreload\n",
    "%autoreload 2\n",
    "\n",
    "import pandas as pd\n",
    "import numpy as np\n",
    "\n",
    "from render_pol_assess import *"
   ]
  },
  {
   "cell_type": "code",
   "execution_count": 104,
   "metadata": {
    "collapsed": false
   },
   "outputs": [],
   "source": [
    "import matplotlib.pyplot as plt\n",
    "from matplotlib import rc\n",
    "%matplotlib inline\n"
   ]
  },
  {
   "cell_type": "markdown",
   "metadata": {},
   "source": [
    "# Data"
   ]
  },
  {
   "cell_type": "code",
   "execution_count": 105,
   "metadata": {
    "collapsed": false
   },
   "outputs": [
    {
     "data": {
      "text/html": [
       "<div>\n",
       "<table border=\"1\" class=\"dataframe\">\n",
       "  <thead>\n",
       "    <tr style=\"text-align: right;\">\n",
       "      <th></th>\n",
       "      <th>out</th>\n",
       "      <th>dKtot</th>\n",
       "      <th>dWtot_currency</th>\n",
       "    </tr>\n",
       "    <tr>\n",
       "      <th>province</th>\n",
       "      <th>var</th>\n",
       "      <th></th>\n",
       "      <th></th>\n",
       "    </tr>\n",
       "  </thead>\n",
       "  <tbody>\n",
       "    <tr>\n",
       "      <th rowspan=\"5\" valign=\"top\">Abra</th>\n",
       "      <th>fap</th>\n",
       "      <td>2.276709e+05</td>\n",
       "      <td>1052089.708077</td>\n",
       "    </tr>\n",
       "    <tr>\n",
       "      <th>far</th>\n",
       "      <td>9.193919e+05</td>\n",
       "      <td>761511.025421</td>\n",
       "    </tr>\n",
       "    <tr>\n",
       "      <th>nat_buyout</th>\n",
       "      <td>-5.820766e-07</td>\n",
       "      <td>-446649.700235</td>\n",
       "    </tr>\n",
       "    <tr>\n",
       "      <th>pi</th>\n",
       "      <td>-2.124495e+05</td>\n",
       "      <td>-368933.100200</td>\n",
       "    </tr>\n",
       "    <tr>\n",
       "      <th>pov_head</th>\n",
       "      <td>5.528015e+04</td>\n",
       "      <td>283270.927011</td>\n",
       "    </tr>\n",
       "  </tbody>\n",
       "</table>\n",
       "</div>"
      ],
      "text/plain": [
       "out                         dKtot  dWtot_currency\n",
       "province var                                     \n",
       "Abra     fap         2.276709e+05  1052089.708077\n",
       "         far         9.193919e+05   761511.025421\n",
       "         nat_buyout -5.820766e-07  -446649.700235\n",
       "         pi         -2.124495e+05  -368933.100200\n",
       "         pov_head    5.528015e+04   283270.927011"
      ]
     },
     "execution_count": 105,
     "metadata": {},
     "output_type": "execute_result"
    }
   ],
   "source": [
    "xl = pd.ExcelFile(\"results/derivatives.xlsx\")\n",
    "\n",
    "ders=dict()\n",
    "for s in xl.sheet_names:\n",
    "    ders[s]=pd.read_excel(\"results/derivatives.xlsx\", index_col=\"province\", sheetname=s)\n",
    "ders=pd.concat(ders, names=[\"out\",\"var\"],axis=1).stack(\"var\")\n",
    "ders.head()"
   ]
  },
  {
   "cell_type": "markdown",
   "metadata": {},
   "source": [
    "# Parameters"
   ]
  },
  {
   "cell_type": "code",
   "execution_count": 106,
   "metadata": {
    "collapsed": false
   },
   "outputs": [
    {
     "data": {
      "text/plain": [
       "key\n",
       "avg_prod_k                           Productivity of capital\n",
       "axfin_p                    Access to finance for poor people\n",
       "axfin_r                Access to finance for non-poor people\n",
       "axhealth                               Access to health care\n",
       "fap           Reduce exposure of poor households by {dh:.0%}\n",
       "Name: descriptor, dtype: object"
      ]
     },
     "execution_count": 106,
     "metadata": {},
     "output_type": "execute_result"
    }
   ],
   "source": [
    "#Policy Labels (x axis)\n",
    "policy_info= pd.read_csv(\"inputs/policy_description.csv\",index_col=0)\n",
    "policy_descriptions = policy_info.descriptor.copy()\n",
    "policy_descriptions.head()"
   ]
  },
  {
   "cell_type": "code",
   "execution_count": 107,
   "metadata": {
    "collapsed": false
   },
   "outputs": [
    {
     "data": {
      "text/plain": [
       "key\n",
       "avg_prod_k    0.01\n",
       "axfin_p       0.01\n",
       "axfin_r       0.01\n",
       "axhealth      0.01\n",
       "fap           0.01\n",
       "Name: increment, dtype: float64"
      ]
     },
     "execution_count": 107,
     "metadata": {},
     "output_type": "execute_result"
    }
   ],
   "source": [
    "size = policy_info.increment\n",
    "size.head()"
   ]
  },
  {
   "cell_type": "code",
   "execution_count": 108,
   "metadata": {
    "collapsed": false
   },
   "outputs": [
    {
     "data": {
      "text/plain": [
       "key\n",
       "avg_prod_k                     Productivity of capital\n",
       "axfin_p              Access to finance for poor people\n",
       "axfin_r          Access to finance for non-poor people\n",
       "axhealth                         Access to health care\n",
       "fap           Reduce exposure of poor households by 1%\n",
       "Name: descriptor, dtype: object"
      ]
     },
     "execution_count": 108,
     "metadata": {},
     "output_type": "execute_result"
    }
   ],
   "source": [
    "#formats policy description so as to show the particular amount of change\n",
    "for k in policy_descriptions.index:\n",
    "    try:\n",
    "        policy_descriptions[k]=policy_descriptions[k].format(dh=size[k])\n",
    "    except(TypeError):\n",
    "        pass\n",
    "\n",
    "policy_descriptions.head()    "
   ]
  },
  {
   "cell_type": "code",
   "execution_count": 109,
   "metadata": {
    "collapsed": true
   },
   "outputs": [],
   "source": [
    "#unit for welfare and asset loses changes\n",
    "unit = dict(multiplier = 1e-3, string = \"million pesos\")"
   ]
  },
  {
   "cell_type": "code",
   "execution_count": 110,
   "metadata": {
    "collapsed": false
   },
   "outputs": [],
   "source": [
    "#Load the excel data file into a dataframe (table)\n",
    "# df=pd.read_excel(\"inputs/all_data_compiled.xlsx\", index_col=0, skiprows=[0, 2]  ) \n",
    "\n",
    "# base=pd.DataFrame([policy_info.concerns]*df.shape[0], index=df.index )\n",
    "# for c in base:\n",
    "#     base[c].replace(\"p\",df.pov_head, inplace=True)\n",
    "#     base[c].replace(\"all\",1, inplace=True)\n",
    "#     base[c].replace(\"r\",1-df.pov_head, inplace=True)\n",
    "# base.head()\n"
   ]
  },
  {
   "cell_type": "code",
   "execution_count": 111,
   "metadata": {
    "collapsed": false
   },
   "outputs": [
    {
     "data": {
      "text/html": [
       "<div>\n",
       "<table border=\"1\" class=\"dataframe\">\n",
       "  <thead>\n",
       "    <tr style=\"text-align: right;\">\n",
       "      <th></th>\n",
       "      <th>color</th>\n",
       "      <th>edgecolor</th>\n",
       "      <th>alpha</th>\n",
       "    </tr>\n",
       "  </thead>\n",
       "  <tbody>\n",
       "    <tr>\n",
       "      <th>dWtot_currency</th>\n",
       "      <td>#a6cee3</td>\n",
       "      <td>#1f78b4</td>\n",
       "      <td>1</td>\n",
       "    </tr>\n",
       "    <tr>\n",
       "      <th>dKtot</th>\n",
       "      <td>#cccccc</td>\n",
       "      <td>#969696</td>\n",
       "      <td>1</td>\n",
       "    </tr>\n",
       "  </tbody>\n",
       "</table>\n",
       "</div>"
      ],
      "text/plain": [
       "                  color edgecolor  alpha\n",
       "dWtot_currency  #a6cee3   #1f78b4      1\n",
       "dKtot           #cccccc   #969696      1"
      ]
     },
     "execution_count": 111,
     "metadata": {},
     "output_type": "execute_result"
    }
   ],
   "source": [
    "colors = pd.read_csv(\"inputs/colors_pol_assess.csv\", index_col=0)\n",
    "colors"
   ]
  },
  {
   "cell_type": "markdown",
   "metadata": {
    "collapsed": true
   },
   "source": [
    "# actual drawing"
   ]
  },
  {
   "cell_type": "code",
   "execution_count": 112,
   "metadata": {
    "collapsed": false
   },
   "outputs": [
    {
     "name": "stdout",
     "output_type": "stream",
     "text": [
      "Currently working on:  Maguindanao\n"
     ]
    },
    {
     "data": {
      "image/png": "[encoded data removed]",
      "text/plain": [
       "<matplotlib.figure.Figure at 0x16bbd7f0>"
      ]
     },
     "metadata": {},
     "output_type": "display_data"
    }
   ],
   "source": [
    "render_pol_cards(ders,colors,policy_descriptions,unit,size,[\"Maguindanao\", \"Bulacan\"])\n",
    "# render_pol_cards(ders,colors,policy_descriptions,unit,size)"
   ]
  },
  {
   "cell_type": "markdown",
   "metadata": {
    "collapsed": true
   },
   "source": [
    "### Merge to single pdf"
   ]
  },
  {
   "cell_type": "code",
   "execution_count": null,
   "metadata": {
    "collapsed": true
   },
   "outputs": [],
   "source": []
  },
  {
   "cell_type": "code",
   "execution_count": 113,
   "metadata": {
    "collapsed": false
   },
   "outputs": [
    {
     "name": "stdout",
     "output_type": "stream",
     "text": [
      "Merging cards....\n",
      "Merging cards done\n"
     ]
    }
   ],
   "source": [
    "province_list=ders.unstack(\"var\").index.tolist()\n",
    "merge_cardfiles(province_list,\"../all_cards.pdf\")"
   ]
  },
  {
   "cell_type": "code",
   "execution_count": null,
   "metadata": {
    "collapsed": true
   },
   "outputs": [],
   "source": []
  }
 ],
 "metadata": {
  "kernelspec": {
   "display_name": "Python 3",
   "language": "python",
   "name": "python3"
  },
  "language_info": {
   "codemirror_mode": {
    "name": "ipython",
    "version": 3
   },
   "file_extension": ".py",
   "mimetype": "text/x-python",
   "name": "python",
   "nbconvert_exporter": "python",
   "pygments_lexer": "ipython3",
   "version": "3.4.4"
  }
 },
 "nbformat": 4,
 "nbformat_minor": 0
}
