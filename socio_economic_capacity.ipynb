{
 "cells": [
  {
   "cell_type": "markdown",
   "metadata": {},
   "source": [
    "This notebook demonstrates the usage of the resilience/socio-economic capacity model."
   ]
  },
  {
   "cell_type": "markdown",
   "metadata": {},
   "source": [
    "# Loading functions"
   ]
  },
  {
   "cell_type": "markdown",
   "metadata": {},
   "source": [
    "We first import function librairies. The first ones are standard python librairies."
   ]
  },
  {
   "cell_type": "code",
   "execution_count": 203,
   "metadata": {
    "collapsed": false
   },
   "outputs": [
    {
     "name": "stdout",
     "output_type": "stream",
     "text": [
      "The autoreload extension is already loaded. To reload it, use:\n",
      "  %reload_ext autoreload\n"
     ]
    }
   ],
   "source": [
    "%load_ext autoreload\n",
    "%autoreload 2"
   ]
  },
  {
   "cell_type": "code",
   "execution_count": 204,
   "metadata": {
    "ExecuteTime": {
     "end_time": "2016-03-01T17:17:53.864183",
     "start_time": "2016-03-01T17:17:53.033410"
    },
    "collapsed": true
   },
   "outputs": [],
   "source": [
    "#The main library we use. Manipulates Excel-like tables (called dataframes) with named rows and columns\n",
    "import pandas as pd \n",
    "import numpy as np"
   ]
  },
  {
   "cell_type": "code",
   "execution_count": 205,
   "metadata": {
    "ExecuteTime": {
     "end_time": "2016-03-01T17:17:54.317508",
     "start_time": "2016-03-01T17:17:53.867185"
    },
    "code_folding": [],
    "collapsed": false
   },
   "outputs": [],
   "source": [
    "#ploting capacities\n",
    "import matplotlib.pyplot as plt \n",
    "#make plots appear in this notebook\n",
    "%matplotlib inline  \n",
    "\n",
    "#Default options for plots: this controls the font used in figures\n",
    "font = {'family' : 'sans serif',\n",
    "    'size'   : 18}\n",
    "plt.rc('font', **font)\n"
   ]
  },
  {
   "cell_type": "markdown",
   "metadata": {},
   "source": [
    "# Loading socio-economic data"
   ]
  },
  {
   "cell_type": "markdown",
   "metadata": {},
   "source": [
    "Here we read the data set we need into a pandas table (called DataFrame).\n",
    "This specific dataset was put together from a variety of different sources using another python notebook: [data_gathering_demo.ipynb](data_gathering_demo.ipynb). In the future we could build directly an excel file with all the data the model needs."
   ]
  },
  {
   "cell_type": "code",
   "execution_count": 206,
   "metadata": {
    "collapsed": false
   },
   "outputs": [
    {
     "data": {
      "text/html": [
       "<div>\n",
       "<table border=\"1\" class=\"dataframe\">\n",
       "  <thead>\n",
       "    <tr style=\"text-align: right;\">\n",
       "      <th></th>\n",
       "      <th>pop</th>\n",
       "      <th>cp</th>\n",
       "      <th>cr</th>\n",
       "      <th>pov_head</th>\n",
       "      <th>gdp_pc_pp</th>\n",
       "      <th>shewp</th>\n",
       "      <th>shewr</th>\n",
       "      <th>social_p</th>\n",
       "      <th>social_r</th>\n",
       "    </tr>\n",
       "    <tr>\n",
       "      <th>province</th>\n",
       "      <th></th>\n",
       "      <th></th>\n",
       "      <th></th>\n",
       "      <th></th>\n",
       "      <th></th>\n",
       "      <th></th>\n",
       "      <th></th>\n",
       "      <th></th>\n",
       "      <th></th>\n",
       "    </tr>\n",
       "  </thead>\n",
       "  <tbody>\n",
       "    <tr>\n",
       "      <th>Abra</th>\n",
       "      <td>51167</td>\n",
       "      <td>92.828972</td>\n",
       "      <td>203.891421</td>\n",
       "      <td>0.271937</td>\n",
       "      <td>173.689487</td>\n",
       "      <td>0.063163</td>\n",
       "      <td>0.173531</td>\n",
       "      <td>0.173531</td>\n",
       "      <td>0.203457</td>\n",
       "    </tr>\n",
       "    <tr>\n",
       "      <th>Agusan del Norte</th>\n",
       "      <td>141357</td>\n",
       "      <td>82.348426</td>\n",
       "      <td>234.816324</td>\n",
       "      <td>0.276778</td>\n",
       "      <td>192.616487</td>\n",
       "      <td>0.249100</td>\n",
       "      <td>0.147336</td>\n",
       "      <td>0.147336</td>\n",
       "      <td>0.226521</td>\n",
       "    </tr>\n",
       "    <tr>\n",
       "      <th>Agusan del Sur</th>\n",
       "      <td>141595</td>\n",
       "      <td>83.304081</td>\n",
       "      <td>216.087522</td>\n",
       "      <td>0.372958</td>\n",
       "      <td>166.564929</td>\n",
       "      <td>0.139189</td>\n",
       "      <td>0.126444</td>\n",
       "      <td>0.126444</td>\n",
       "      <td>0.113334</td>\n",
       "    </tr>\n",
       "    <tr>\n",
       "      <th>Aklan</th>\n",
       "      <td>123269</td>\n",
       "      <td>79.445859</td>\n",
       "      <td>211.619510</td>\n",
       "      <td>0.204461</td>\n",
       "      <td>184.595206</td>\n",
       "      <td>0.128517</td>\n",
       "      <td>0.184183</td>\n",
       "      <td>0.184183</td>\n",
       "      <td>0.239542</td>\n",
       "    </tr>\n",
       "    <tr>\n",
       "      <th>Albay</th>\n",
       "      <td>267030</td>\n",
       "      <td>76.582210</td>\n",
       "      <td>224.008585</td>\n",
       "      <td>0.339106</td>\n",
       "      <td>174.015387</td>\n",
       "      <td>0.172775</td>\n",
       "      <td>0.201804</td>\n",
       "      <td>0.201804</td>\n",
       "      <td>0.213554</td>\n",
       "    </tr>\n",
       "  </tbody>\n",
       "</table>\n",
       "</div>"
      ],
      "text/plain": [
       "                     pop         cp          cr  pov_head   gdp_pc_pp  \\\n",
       "province                                                                \n",
       "Abra               51167  92.828972  203.891421  0.271937  173.689487   \n",
       "Agusan del Norte  141357  82.348426  234.816324  0.276778  192.616487   \n",
       "Agusan del Sur    141595  83.304081  216.087522  0.372958  166.564929   \n",
       "Aklan             123269  79.445859  211.619510  0.204461  184.595206   \n",
       "Albay             267030  76.582210  224.008585  0.339106  174.015387   \n",
       "\n",
       "                     shewp     shewr  social_p  social_r  \n",
       "province                                                  \n",
       "Abra              0.063163  0.173531  0.173531  0.203457  \n",
       "Agusan del Norte  0.249100  0.147336  0.147336  0.226521  \n",
       "Agusan del Sur    0.139189  0.126444  0.126444  0.113334  \n",
       "Aklan             0.128517  0.184183  0.184183  0.239542  \n",
       "Albay             0.172775  0.201804  0.201804  0.213554  "
      ]
     },
     "execution_count": 206,
     "metadata": {},
     "output_type": "execute_result"
    }
   ],
   "source": [
    "#Let's first have a look at the Excel file\n",
    "df=pd.read_excel(\"inputs/PSA_compiled.xlsx\",skiprows=1, index_col=0)\n",
    "df.index.name=\"province\"\n",
    "\n",
    "#Expresses income in thousands\n",
    "df[[\"cp\",\"cr\",\"gdp_pc_pp\"]]/=1e3\n",
    "\n",
    "df.head()"
   ]
  },
  {
   "cell_type": "code",
   "execution_count": 207,
   "metadata": {
    "collapsed": false
   },
   "outputs": [
    {
     "data": {
      "text/plain": [
       "province\n",
       "Abra                236.389964\n",
       "Agusan del Norte    236.389964\n",
       "Agusan del Sur      236.389964\n",
       "Aklan               236.389964\n",
       "Albay               236.389964\n",
       "Name: gdp_pc_pp_nat, dtype: float64"
      ]
     },
     "execution_count": 207,
     "metadata": {},
     "output_type": "execute_result"
    }
   ],
   "source": [
    "df[\"gdp_pc_pp_nat\"] = np.average(df.dropna()[\"gdp_pc_pp\"],weights=df.dropna()[\"pop\"])\n",
    "df.gdp_pc_pp_nat.head()"
   ]
  },
  {
   "cell_type": "code",
   "execution_count": 208,
   "metadata": {
    "collapsed": false
   },
   "outputs": [
    {
     "data": {
      "image/png": "[encoded data removed]",
      "text/plain": [
       "<matplotlib.figure.Figure at 0xb843cf8>"
      ]
     },
     "metadata": {},
     "output_type": "display_data"
    }
   ],
   "source": [
    "df.cp.plot.hist(figsize=(7,7))\n",
    "plt.xlabel(\"Average income in the province ($\\\\times$1000 pesos)\");"
   ]
  },
  {
   "cell_type": "code",
   "execution_count": 209,
   "metadata": {
    "collapsed": false
   },
   "outputs": [
    {
     "data": {
      "image/png": "[encoded data removed]",
      "text/plain": [
       "<matplotlib.figure.Figure at 0xa2f40f0>"
      ]
     },
     "metadata": {},
     "output_type": "display_data"
    }
   ],
   "source": [
    "df.plot.scatter(x=\"gdp_pc_pp\", y=\"pov_head\", s=df[\"pop\"]/5e3, alpha=0.5, figsize=(7,7))\n",
    "plt.xlabel(\"Average income\")\n",
    "plt.ylabel(\"Poverty incidence\")\n",
    "plt.ylim(0);"
   ]
  },
  {
   "cell_type": "markdown",
   "metadata": {},
   "source": [
    "# Loading materials data"
   ]
  },
  {
   "cell_type": "code",
   "execution_count": 210,
   "metadata": {
    "collapsed": true
   },
   "outputs": [],
   "source": [
    "#Reduced vulnerability function for walls and roofs"
   ]
  },
  {
   "cell_type": "code",
   "execution_count": 211,
   "metadata": {
    "collapsed": false
   },
   "outputs": [
    {
     "data": {
      "text/plain": [
       "Wall_Strong material(galvanized,iron,al,tile,concrete,brick,stone,asbestos)    0.1\n",
       "Wall_Light material                                                            0.4\n",
       "Wall_Salvaged/makeshift materials                                              0.7\n",
       "Wall_Mixed but predominantly strong materials                                  0.1\n",
       "Wall_Mixed but predominantly light materials                                   0.4\n",
       "Wall_Mixed but predominantly salvaged materials                                0.7\n",
       "Name: 0, dtype: float64"
      ]
     },
     "execution_count": 211,
     "metadata": {},
     "output_type": "execute_result"
    }
   ],
   "source": [
    "roof_v = pd.read_csv(\"inputs/roof_types_to_vuln.csv\").squeeze()\n",
    "wall_v = pd.read_csv(\"inputs/wall_types_to_vuln.csv\").squeeze()\n",
    "wall_v"
   ]
  },
  {
   "cell_type": "code",
   "execution_count": 212,
   "metadata": {
    "collapsed": true
   },
   "outputs": [],
   "source": [
    "#asset vulnerabily as a weighted average"
   ]
  },
  {
   "cell_type": "code",
   "execution_count": 213,
   "metadata": {
    "collapsed": false
   },
   "outputs": [
    {
     "data": {
      "text/plain": [
       "<matplotlib.text.Text at 0xb9d9c50>"
      ]
     },
     "execution_count": 213,
     "metadata": {},
     "output_type": "execute_result"
    },
    {
     "data": {
      "image/png": "[encoded data removed]",
      "text/plain": [
       "<matplotlib.figure.Figure at 0xa257a20>"
      ]
     },
     "metadata": {},
     "output_type": "display_data"
    }
   ],
   "source": [
    "poorroof = pd.read_excel(\"inputs/PSA_materials.xlsx\", sheetname=\"Prop_Roof_Poor\", skiprows=[1], index_col=0)\n",
    "poorwall = pd.read_excel(\"inputs/PSA_materials.xlsx\", sheetname=\"Prop_Wall_Poor\", skiprows=[1], index_col=0)\n",
    "\n",
    "df[\"v_p\"] = (poorwall.mul(wall_v).sum(axis=1) + poorroof.mul(roof_v).sum(axis=1) )/2\n",
    "\n",
    "nonpoorroof = pd.read_excel(\"inputs/PSA_materials.xlsx\", sheetname=\"Prop_Roof_Non-poor\", skiprows=[1], index_col=0)\n",
    "nonpoorwall = pd.read_excel(\"inputs/PSA_materials.xlsx\", sheetname=\"Prop_Wall_Non-poor\", skiprows=[1], index_col=0)\n",
    "\n",
    "df[\"v_r\"] = (nonpoorwall.mul(wall_v).sum(axis=1) + poorroof.mul(roof_v).sum(axis=1) )/2\n",
    "\n",
    "ax=df[[\"v_r\"]].hist()\n",
    "ax=df[[\"v_p\"]].hist(ax=ax, alpha=0.5)\n",
    "plt.title(\"Asset vulnerability of poor and nonpoor\")"
   ]
  },
  {
   "cell_type": "markdown",
   "metadata": {},
   "source": [
    "# Data on hazard (coastal floods)"
   ]
  },
  {
   "cell_type": "markdown",
   "metadata": {},
   "source": [
    "So far, we do not ave access to hazard data. We thus use hazard estimates based on global models for illustration pusposes. \n",
    "(Estimates of socio-economic capacity are fairly independent from hazard estimates)"
   ]
  },
  {
   "cell_type": "code",
   "execution_count": 234,
   "metadata": {
    "collapsed": false
   },
   "outputs": [],
   "source": [
    "#WB unofficial estimates\n",
    "expo = pd.read_csv('inputs/exposure_to_coastal_foods.csv', index_col=0)\n",
    "df[\"fap\"] =expo[\"fap\"].clip_lower(0.5/100)\n",
    "df[\"far\"] =expo[\"far\"].clip_lower(0.5/100)\n",
    "\n",
    "#Estimates from FLOPROS\n",
    "df[\"protection\"]=pd.read_csv(\"inputs/protection_phl.csv\", index_col=0).clip_lower(1)\n",
    "\n",
    "#Fills data gaps with averages (again for illsutrative purposes)\n",
    "df[[\"fap\", \"far\", \"protection\"]] = df[[\"fap\", \"far\", \"protection\"]].fillna(df[[\"fap\", \"far\", \"protection\"]].mean())"
   ]
  },
  {
   "cell_type": "markdown",
   "metadata": {},
   "source": [
    "# Manually filling data gaps and informing parameters"
   ]
  },
  {
   "cell_type": "markdown",
   "metadata": {},
   "source": [
    "Some data is missing and has to be added manually"
   ]
  },
  {
   "cell_type": "code",
   "execution_count": 235,
   "metadata": {
    "ExecuteTime": {
     "end_time": "2016-03-01T17:08:40.645458",
     "start_time": "2016-03-01T17:08:40.635947"
    },
    "collapsed": true
   },
   "outputs": [],
   "source": [
    "#average productivity of capital\n",
    "df[\"avg_prod_k\"] = .23\n",
    "\n",
    "#Reconstruction time (an only be guessed ex-ante)\n",
    "df[\"T_rebuild_K\"] = 3\n",
    "\n",
    "# how much early warning reduces vulnerability (eg reactivity to early warnings)\n",
    "df[\"pi\"] = 0.2"
   ]
  },
  {
   "cell_type": "markdown",
   "metadata": {},
   "source": [
    "Some other inputs are normative or policy choices"
   ]
  },
  {
   "cell_type": "code",
   "execution_count": 236,
   "metadata": {
    "ExecuteTime": {
     "end_time": "2016-03-01T17:08:40.674983",
     "start_time": "2016-03-01T17:08:40.648460"
    },
    "collapsed": false
   },
   "outputs": [],
   "source": [
    "#scale up of transfers after a disaster hits\n",
    "df[\"sigma_r\"]=df[\"sigma_p\"]=0\n",
    "\n",
    "#income elasticity\n",
    "df[\"income_elast\"] = 1.5\n",
    "\n",
    "#discount rate\n",
    "df[\"rho\"]=15/100"
   ]
  },
  {
   "cell_type": "markdown",
   "metadata": {},
   "source": [
    "# Saves all data compiled"
   ]
  },
  {
   "cell_type": "code",
   "execution_count": 237,
   "metadata": {
    "collapsed": false
   },
   "outputs": [
    {
     "data": {
      "text/html": [
       "<div>\n",
       "<table border=\"1\" class=\"dataframe\">\n",
       "  <thead>\n",
       "    <tr style=\"text-align: right;\">\n",
       "      <th></th>\n",
       "      <th>province</th>\n",
       "      <th>Abra</th>\n",
       "      <th>Agusan del Norte</th>\n",
       "      <th>Agusan del Sur</th>\n",
       "      <th>Aklan</th>\n",
       "      <th>Albay</th>\n",
       "    </tr>\n",
       "    <tr>\n",
       "      <th>description</th>\n",
       "      <th>variable</th>\n",
       "      <th></th>\n",
       "      <th></th>\n",
       "      <th></th>\n",
       "      <th></th>\n",
       "      <th></th>\n",
       "    </tr>\n",
       "  </thead>\n",
       "  <tbody>\n",
       "    <tr>\n",
       "      <th>Population</th>\n",
       "      <th>pop</th>\n",
       "      <td>51167</td>\n",
       "      <td>141357</td>\n",
       "      <td>141595</td>\n",
       "      <td>123269</td>\n",
       "      <td>267030</td>\n",
       "    </tr>\n",
       "    <tr>\n",
       "      <th>Average income of poor families</th>\n",
       "      <th>cp</th>\n",
       "      <td>92.829</td>\n",
       "      <td>82.3484</td>\n",
       "      <td>83.3041</td>\n",
       "      <td>79.4459</td>\n",
       "      <td>76.5822</td>\n",
       "    </tr>\n",
       "    <tr>\n",
       "      <th>Average income of non poor families</th>\n",
       "      <th>cr</th>\n",
       "      <td>203.891</td>\n",
       "      <td>234.816</td>\n",
       "      <td>216.088</td>\n",
       "      <td>211.62</td>\n",
       "      <td>224.009</td>\n",
       "    </tr>\n",
       "    <tr>\n",
       "      <th>Poverty incidence</th>\n",
       "      <th>pov_head</th>\n",
       "      <td>0.271937</td>\n",
       "      <td>0.276778</td>\n",
       "      <td>0.372958</td>\n",
       "      <td>0.204461</td>\n",
       "      <td>0.339106</td>\n",
       "    </tr>\n",
       "    <tr>\n",
       "      <th>Average income in the province</th>\n",
       "      <th>gdp_pc_pp</th>\n",
       "      <td>173.689</td>\n",
       "      <td>192.616</td>\n",
       "      <td>166.565</td>\n",
       "      <td>184.595</td>\n",
       "      <td>174.015</td>\n",
       "    </tr>\n",
       "    <tr>\n",
       "      <th>Access to early warning for poor people</th>\n",
       "      <th>shewp</th>\n",
       "      <td>0.0631627</td>\n",
       "      <td>0.2491</td>\n",
       "      <td>0.139189</td>\n",
       "      <td>0.128517</td>\n",
       "      <td>0.172775</td>\n",
       "    </tr>\n",
       "    <tr>\n",
       "      <th>Access to early warning for nonpoor people</th>\n",
       "      <th>shewr</th>\n",
       "      <td>0.173531</td>\n",
       "      <td>0.147336</td>\n",
       "      <td>0.126444</td>\n",
       "      <td>0.184183</td>\n",
       "      <td>0.201804</td>\n",
       "    </tr>\n",
       "    <tr>\n",
       "      <th>Social protection for poor people</th>\n",
       "      <th>social_p</th>\n",
       "      <td>0.173531</td>\n",
       "      <td>0.147336</td>\n",
       "      <td>0.126444</td>\n",
       "      <td>0.184183</td>\n",
       "      <td>0.201804</td>\n",
       "    </tr>\n",
       "    <tr>\n",
       "      <th>Social protection for non-poor people</th>\n",
       "      <th>social_r</th>\n",
       "      <td>0.203457</td>\n",
       "      <td>0.226521</td>\n",
       "      <td>0.113334</td>\n",
       "      <td>0.239542</td>\n",
       "      <td>0.213554</td>\n",
       "    </tr>\n",
       "    <tr>\n",
       "      <th>National GDP per capita</th>\n",
       "      <th>gdp_pc_pp_nat</th>\n",
       "      <td>236.39</td>\n",
       "      <td>236.39</td>\n",
       "      <td>236.39</td>\n",
       "      <td>236.39</td>\n",
       "      <td>236.39</td>\n",
       "    </tr>\n",
       "    <tr>\n",
       "      <th>Asset vulnerability (poor people)</th>\n",
       "      <th>v_p</th>\n",
       "      <td>0.178191</td>\n",
       "      <td>0.2185</td>\n",
       "      <td>0.225682</td>\n",
       "      <td>0.270019</td>\n",
       "      <td>0.238147</td>\n",
       "    </tr>\n",
       "    <tr>\n",
       "      <th>Asset vulnerability (non-poor people)</th>\n",
       "      <th>v_r</th>\n",
       "      <td>0.166167</td>\n",
       "      <td>0.185733</td>\n",
       "      <td>0.195585</td>\n",
       "      <td>0.237067</td>\n",
       "      <td>0.195392</td>\n",
       "    </tr>\n",
       "    <tr>\n",
       "      <th>Exposure, poor people</th>\n",
       "      <th>fap</th>\n",
       "      <td>0.005</td>\n",
       "      <td>0.0350051</td>\n",
       "      <td>0.0350051</td>\n",
       "      <td>0.127864</td>\n",
       "      <td>0.0106901</td>\n",
       "    </tr>\n",
       "    <tr>\n",
       "      <th>Exposure, non-poor people</th>\n",
       "      <th>far</th>\n",
       "      <td>0.005</td>\n",
       "      <td>0.028028</td>\n",
       "      <td>0.028028</td>\n",
       "      <td>0.105637</td>\n",
       "      <td>0.00832843</td>\n",
       "    </tr>\n",
       "    <tr>\n",
       "      <th>Hazard (protection)</th>\n",
       "      <th>protection</th>\n",
       "      <td>10.57</td>\n",
       "      <td>9.41</td>\n",
       "      <td>8.61</td>\n",
       "      <td>1</td>\n",
       "      <td>1</td>\n",
       "    </tr>\n",
       "    <tr>\n",
       "      <th>Productivity of capital</th>\n",
       "      <th>avg_prod_k</th>\n",
       "      <td>0.23</td>\n",
       "      <td>0.23</td>\n",
       "      <td>0.23</td>\n",
       "      <td>0.23</td>\n",
       "      <td>0.23</td>\n",
       "    </tr>\n",
       "    <tr>\n",
       "      <th>Time to reconstruct</th>\n",
       "      <th>T_rebuild_K</th>\n",
       "      <td>3</td>\n",
       "      <td>3</td>\n",
       "      <td>3</td>\n",
       "      <td>3</td>\n",
       "      <td>3</td>\n",
       "    </tr>\n",
       "    <tr>\n",
       "      <th>Avoided losses with early warning</th>\n",
       "      <th>pi</th>\n",
       "      <td>0.2</td>\n",
       "      <td>0.2</td>\n",
       "      <td>0.2</td>\n",
       "      <td>0.2</td>\n",
       "      <td>0.2</td>\n",
       "    </tr>\n",
       "    <tr>\n",
       "      <th>Effective scale up for non-poor people</th>\n",
       "      <th>sigma_r</th>\n",
       "      <td>0</td>\n",
       "      <td>0</td>\n",
       "      <td>0</td>\n",
       "      <td>0</td>\n",
       "      <td>0</td>\n",
       "    </tr>\n",
       "    <tr>\n",
       "      <th>Effective scale up for poor people</th>\n",
       "      <th>sigma_p</th>\n",
       "      <td>0</td>\n",
       "      <td>0</td>\n",
       "      <td>0</td>\n",
       "      <td>0</td>\n",
       "      <td>0</td>\n",
       "    </tr>\n",
       "    <tr>\n",
       "      <th>Elasticity of utility</th>\n",
       "      <th>income_elast</th>\n",
       "      <td>1.5</td>\n",
       "      <td>1.5</td>\n",
       "      <td>1.5</td>\n",
       "      <td>1.5</td>\n",
       "      <td>1.5</td>\n",
       "    </tr>\n",
       "    <tr>\n",
       "      <th>Discount rate</th>\n",
       "      <th>rho</th>\n",
       "      <td>0.15</td>\n",
       "      <td>0.15</td>\n",
       "      <td>0.15</td>\n",
       "      <td>0.15</td>\n",
       "      <td>0.15</td>\n",
       "    </tr>\n",
       "    <tr>\n",
       "      <th>Asset vulnerability (shared losses)</th>\n",
       "      <th>v_s</th>\n",
       "      <td>0.1604</td>\n",
       "      <td>0.18026</td>\n",
       "      <td>0.190639</td>\n",
       "      <td>0.228334</td>\n",
       "      <td>0.187506</td>\n",
       "    </tr>\n",
       "    <tr>\n",
       "      <th>NaN</th>\n",
       "      <th>protectionref</th>\n",
       "      <td>10.57</td>\n",
       "      <td>9.41</td>\n",
       "      <td>8.61</td>\n",
       "      <td>0</td>\n",
       "      <td>0</td>\n",
       "    </tr>\n",
       "  </tbody>\n",
       "</table>\n",
       "</div>"
      ],
      "text/plain": [
       "province                                                       Abra  \\\n",
       "description                                variable                   \n",
       "Population                                 pop                51167   \n",
       " Average income of poor families           cp                92.829   \n",
       " Average income of non poor families       cr               203.891   \n",
       "Poverty incidence                          pov_head        0.271937   \n",
       " Average income in the province            gdp_pc_pp        173.689   \n",
       "Access to early warning for poor people    shewp          0.0631627   \n",
       "Access to early warning for nonpoor people shewr           0.173531   \n",
       "Social protection for poor people          social_p        0.173531   \n",
       "Social protection for non-poor people      social_r        0.203457   \n",
       "National GDP per capita                    gdp_pc_pp_nat     236.39   \n",
       "Asset vulnerability (poor people)          v_p             0.178191   \n",
       "Asset vulnerability (non-poor people)      v_r             0.166167   \n",
       "Exposure, poor people                      fap                0.005   \n",
       "Exposure, non-poor people                  far                0.005   \n",
       " Hazard (protection)                       protection         10.57   \n",
       "Productivity of capital                    avg_prod_k          0.23   \n",
       "Time to reconstruct                        T_rebuild_K            3   \n",
       "Avoided losses with early warning          pi                   0.2   \n",
       "Effective scale up for non-poor people     sigma_r                0   \n",
       "Effective scale up for poor people         sigma_p                0   \n",
       "Elasticity of utility                      income_elast         1.5   \n",
       "Discount rate                              rho                 0.15   \n",
       "Asset vulnerability (shared losses)        v_s               0.1604   \n",
       "NaN                                        protectionref      10.57   \n",
       "\n",
       "province                                                 Agusan del Norte  \\\n",
       "description                                variable                         \n",
       "Population                                 pop                     141357   \n",
       " Average income of poor families           cp                     82.3484   \n",
       " Average income of non poor families       cr                     234.816   \n",
       "Poverty incidence                          pov_head              0.276778   \n",
       " Average income in the province            gdp_pc_pp              192.616   \n",
       "Access to early warning for poor people    shewp                   0.2491   \n",
       "Access to early warning for nonpoor people shewr                 0.147336   \n",
       "Social protection for poor people          social_p              0.147336   \n",
       "Social protection for non-poor people      social_r              0.226521   \n",
       "National GDP per capita                    gdp_pc_pp_nat           236.39   \n",
       "Asset vulnerability (poor people)          v_p                     0.2185   \n",
       "Asset vulnerability (non-poor people)      v_r                   0.185733   \n",
       "Exposure, poor people                      fap                  0.0350051   \n",
       "Exposure, non-poor people                  far                   0.028028   \n",
       " Hazard (protection)                       protection                9.41   \n",
       "Productivity of capital                    avg_prod_k                0.23   \n",
       "Time to reconstruct                        T_rebuild_K                  3   \n",
       "Avoided losses with early warning          pi                         0.2   \n",
       "Effective scale up for non-poor people     sigma_r                      0   \n",
       "Effective scale up for poor people         sigma_p                      0   \n",
       "Elasticity of utility                      income_elast               1.5   \n",
       "Discount rate                              rho                       0.15   \n",
       "Asset vulnerability (shared losses)        v_s                    0.18026   \n",
       "NaN                                        protectionref             9.41   \n",
       "\n",
       "province                                                 Agusan del Sur  \\\n",
       "description                                variable                       \n",
       "Population                                 pop                   141595   \n",
       " Average income of poor families           cp                   83.3041   \n",
       " Average income of non poor families       cr                   216.088   \n",
       "Poverty incidence                          pov_head            0.372958   \n",
       " Average income in the province            gdp_pc_pp            166.565   \n",
       "Access to early warning for poor people    shewp               0.139189   \n",
       "Access to early warning for nonpoor people shewr               0.126444   \n",
       "Social protection for poor people          social_p            0.126444   \n",
       "Social protection for non-poor people      social_r            0.113334   \n",
       "National GDP per capita                    gdp_pc_pp_nat         236.39   \n",
       "Asset vulnerability (poor people)          v_p                 0.225682   \n",
       "Asset vulnerability (non-poor people)      v_r                 0.195585   \n",
       "Exposure, poor people                      fap                0.0350051   \n",
       "Exposure, non-poor people                  far                 0.028028   \n",
       " Hazard (protection)                       protection              8.61   \n",
       "Productivity of capital                    avg_prod_k              0.23   \n",
       "Time to reconstruct                        T_rebuild_K                3   \n",
       "Avoided losses with early warning          pi                       0.2   \n",
       "Effective scale up for non-poor people     sigma_r                    0   \n",
       "Effective scale up for poor people         sigma_p                    0   \n",
       "Elasticity of utility                      income_elast             1.5   \n",
       "Discount rate                              rho                     0.15   \n",
       "Asset vulnerability (shared losses)        v_s                 0.190639   \n",
       "NaN                                        protectionref           8.61   \n",
       "\n",
       "province                                                     Aklan       Albay  \n",
       "description                                variable                             \n",
       "Population                                 pop              123269      267030  \n",
       " Average income of poor families           cp              79.4459     76.5822  \n",
       " Average income of non poor families       cr               211.62     224.009  \n",
       "Poverty incidence                          pov_head       0.204461    0.339106  \n",
       " Average income in the province            gdp_pc_pp       184.595     174.015  \n",
       "Access to early warning for poor people    shewp          0.128517    0.172775  \n",
       "Access to early warning for nonpoor people shewr          0.184183    0.201804  \n",
       "Social protection for poor people          social_p       0.184183    0.201804  \n",
       "Social protection for non-poor people      social_r       0.239542    0.213554  \n",
       "National GDP per capita                    gdp_pc_pp_nat    236.39      236.39  \n",
       "Asset vulnerability (poor people)          v_p            0.270019    0.238147  \n",
       "Asset vulnerability (non-poor people)      v_r            0.237067    0.195392  \n",
       "Exposure, poor people                      fap            0.127864   0.0106901  \n",
       "Exposure, non-poor people                  far            0.105637  0.00832843  \n",
       " Hazard (protection)                       protection            1           1  \n",
       "Productivity of capital                    avg_prod_k         0.23        0.23  \n",
       "Time to reconstruct                        T_rebuild_K           3           3  \n",
       "Avoided losses with early warning          pi                  0.2         0.2  \n",
       "Effective scale up for non-poor people     sigma_r               0           0  \n",
       "Effective scale up for poor people         sigma_p               0           0  \n",
       "Elasticity of utility                      income_elast        1.5         1.5  \n",
       "Discount rate                              rho                0.15        0.15  \n",
       "Asset vulnerability (shared losses)        v_s            0.228334    0.187506  \n",
       "NaN                                        protectionref         0           0  "
      ]
     },
     "execution_count": 237,
     "metadata": {},
     "output_type": "execute_result"
    }
   ],
   "source": [
    "description = pd.read_csv(\"inputs/inputs_info.csv\", index_col=\"key\")[\"descriptor\"]\n",
    "description.head()\n",
    "\n",
    "data = df.copy()\n",
    "data.ix[\"description\"]= description\n",
    "data=data.T.reset_index().set_index([\"description\",\"index\"]).T\n",
    "data.columns.names = ['description', 'variable']\n",
    "\n",
    "#saves the data\n",
    "data.to_excel(\"inputs/all_data_compiled.xlsx\")\n",
    "\n",
    "data.head().T #displays the first few provinces, transposed for ease of reading."
   ]
  },
  {
   "cell_type": "markdown",
   "metadata": {},
   "source": [
    "# Computing socio-economic capacity"
   ]
  },
  {
   "cell_type": "markdown",
   "metadata": {},
   "source": [
    "Now that we have minimum familiarity with dataframes, let us use the resilience model. Let us first read the function definitions, from [res_ind_lib.py](res_ind_lib.py)"
   ]
  },
  {
   "cell_type": "markdown",
   "metadata": {},
   "source": [
    "#### Loading functions"
   ]
  },
  {
   "cell_type": "code",
   "execution_count": 238,
   "metadata": {
    "ExecuteTime": {
     "end_time": "2016-03-01T17:17:55.778645",
     "start_time": "2016-03-01T17:17:55.540473"
    },
    "collapsed": false
   },
   "outputs": [],
   "source": [
    "from res_ind_lib import *     #MAIN library: the functions used to compute risk, resilience, etc"
   ]
  },
  {
   "cell_type": "markdown",
   "metadata": {},
   "source": [
    "#### Defining reference variabes"
   ]
  },
  {
   "cell_type": "markdown",
   "metadata": {},
   "source": [
    "Before running the model, for technical reasons, we need to define \"reference\" values for some variables. The following function does it."
   ]
  },
  {
   "cell_type": "code",
   "execution_count": 239,
   "metadata": {
    "ExecuteTime": {
     "end_time": "2016-03-01T17:17:55.818672",
     "start_time": "2016-03-01T17:17:55.782648"
    },
    "collapsed": false
   },
   "outputs": [],
   "source": [
    "df = def_ref_values(df)"
   ]
  },
  {
   "cell_type": "markdown",
   "metadata": {},
   "source": [
    "#### Assessing risk to assets, capacity, and risk to welfare"
   ]
  },
  {
   "cell_type": "markdown",
   "metadata": {},
   "source": [
    "The function compute_resiliences computes risk and capacity from all the data."
   ]
  },
  {
   "cell_type": "code",
   "execution_count": 240,
   "metadata": {
    "ExecuteTime": {
     "end_time": "2016-03-01T17:17:56.074864",
     "start_time": "2016-03-01T17:17:55.921750"
    },
    "collapsed": false,
    "scrolled": true
   },
   "outputs": [
    {
     "data": {
      "text/plain": [
       "<matplotlib.axes._subplots.AxesSubplot at 0xb975b00>"
      ]
     },
     "execution_count": 240,
     "metadata": {},
     "output_type": "execute_result"
    },
    {
     "data": {
      "image/png": "[encoded data removed]",
      "text/plain": [
       "<matplotlib.figure.Figure at 0xb843d68>"
      ]
     },
     "metadata": {},
     "output_type": "display_data"
    }
   ],
   "source": [
    "df_with_results=compute_resiliences(df)\n",
    "df_with_results.resilience.hist()"
   ]
  },
  {
   "cell_type": "markdown",
   "metadata": {},
   "source": [
    "Let us look at a few inputs and outputs of that function"
   ]
  },
  {
   "cell_type": "markdown",
   "metadata": {},
   "source": [
    "Now we add a description to each column (from [inputs/inputs_info.csv](inputs/inputs_info.csv)) and save the resulting table"
   ]
  },
  {
   "cell_type": "code",
   "execution_count": 241,
   "metadata": {
    "collapsed": false
   },
   "outputs": [
    {
     "data": {
      "text/html": [
       "<div>\n",
       "<table border=\"1\" class=\"dataframe\">\n",
       "  <thead>\n",
       "    <tr style=\"text-align: right;\">\n",
       "      <th></th>\n",
       "      <th>province</th>\n",
       "      <th>Abra</th>\n",
       "      <th>Agusan del Norte</th>\n",
       "      <th>Agusan del Sur</th>\n",
       "      <th>Aklan</th>\n",
       "      <th>Albay</th>\n",
       "    </tr>\n",
       "    <tr>\n",
       "      <th>description</th>\n",
       "      <th>variable</th>\n",
       "      <th></th>\n",
       "      <th></th>\n",
       "      <th></th>\n",
       "      <th></th>\n",
       "      <th></th>\n",
       "    </tr>\n",
       "  </thead>\n",
       "  <tbody>\n",
       "    <tr>\n",
       "      <th>Population</th>\n",
       "      <th>pop</th>\n",
       "      <td>51167</td>\n",
       "      <td>141357</td>\n",
       "      <td>141595</td>\n",
       "      <td>123269</td>\n",
       "      <td>267030</td>\n",
       "    </tr>\n",
       "    <tr>\n",
       "      <th>Average income of poor families</th>\n",
       "      <th>cp</th>\n",
       "      <td>92.829</td>\n",
       "      <td>82.3484</td>\n",
       "      <td>83.3041</td>\n",
       "      <td>79.4459</td>\n",
       "      <td>76.5822</td>\n",
       "    </tr>\n",
       "    <tr>\n",
       "      <th>Average income of non poor families</th>\n",
       "      <th>cr</th>\n",
       "      <td>203.891</td>\n",
       "      <td>234.816</td>\n",
       "      <td>216.088</td>\n",
       "      <td>211.62</td>\n",
       "      <td>224.009</td>\n",
       "    </tr>\n",
       "    <tr>\n",
       "      <th>Poverty incidence</th>\n",
       "      <th>pov_head</th>\n",
       "      <td>0.271937</td>\n",
       "      <td>0.276778</td>\n",
       "      <td>0.372958</td>\n",
       "      <td>0.204461</td>\n",
       "      <td>0.339106</td>\n",
       "    </tr>\n",
       "    <tr>\n",
       "      <th>Average income in the province</th>\n",
       "      <th>gdp_pc_pp</th>\n",
       "      <td>173.689</td>\n",
       "      <td>192.616</td>\n",
       "      <td>166.565</td>\n",
       "      <td>184.595</td>\n",
       "      <td>174.015</td>\n",
       "    </tr>\n",
       "    <tr>\n",
       "      <th>Access to early warning for poor people</th>\n",
       "      <th>shewp</th>\n",
       "      <td>0.0631627</td>\n",
       "      <td>0.2491</td>\n",
       "      <td>0.139189</td>\n",
       "      <td>0.128517</td>\n",
       "      <td>0.172775</td>\n",
       "    </tr>\n",
       "    <tr>\n",
       "      <th>Access to early warning for nonpoor people</th>\n",
       "      <th>shewr</th>\n",
       "      <td>0.173531</td>\n",
       "      <td>0.147336</td>\n",
       "      <td>0.126444</td>\n",
       "      <td>0.184183</td>\n",
       "      <td>0.201804</td>\n",
       "    </tr>\n",
       "    <tr>\n",
       "      <th>Social protection for poor people</th>\n",
       "      <th>social_p</th>\n",
       "      <td>0.173531</td>\n",
       "      <td>0.147336</td>\n",
       "      <td>0.126444</td>\n",
       "      <td>0.184183</td>\n",
       "      <td>0.201804</td>\n",
       "    </tr>\n",
       "    <tr>\n",
       "      <th>Social protection for non-poor people</th>\n",
       "      <th>social_r</th>\n",
       "      <td>0.203457</td>\n",
       "      <td>0.226521</td>\n",
       "      <td>0.113334</td>\n",
       "      <td>0.239542</td>\n",
       "      <td>0.213554</td>\n",
       "    </tr>\n",
       "    <tr>\n",
       "      <th>National GDP per capita</th>\n",
       "      <th>gdp_pc_pp_nat</th>\n",
       "      <td>236.39</td>\n",
       "      <td>236.39</td>\n",
       "      <td>236.39</td>\n",
       "      <td>236.39</td>\n",
       "      <td>236.39</td>\n",
       "    </tr>\n",
       "    <tr>\n",
       "      <th>Asset vulnerability (poor people)</th>\n",
       "      <th>v_p</th>\n",
       "      <td>0.178191</td>\n",
       "      <td>0.2185</td>\n",
       "      <td>0.225682</td>\n",
       "      <td>0.270019</td>\n",
       "      <td>0.238147</td>\n",
       "    </tr>\n",
       "    <tr>\n",
       "      <th>Asset vulnerability (non-poor people)</th>\n",
       "      <th>v_r</th>\n",
       "      <td>0.166167</td>\n",
       "      <td>0.185733</td>\n",
       "      <td>0.195585</td>\n",
       "      <td>0.237067</td>\n",
       "      <td>0.195392</td>\n",
       "    </tr>\n",
       "    <tr>\n",
       "      <th>Exposure, poor people</th>\n",
       "      <th>fap</th>\n",
       "      <td>0.005</td>\n",
       "      <td>0.0350051</td>\n",
       "      <td>0.0350051</td>\n",
       "      <td>0.127864</td>\n",
       "      <td>0.0106901</td>\n",
       "    </tr>\n",
       "    <tr>\n",
       "      <th>Exposure, non-poor people</th>\n",
       "      <th>far</th>\n",
       "      <td>0.005</td>\n",
       "      <td>0.028028</td>\n",
       "      <td>0.028028</td>\n",
       "      <td>0.105637</td>\n",
       "      <td>0.00832843</td>\n",
       "    </tr>\n",
       "    <tr>\n",
       "      <th>Hazard (protection)</th>\n",
       "      <th>protection</th>\n",
       "      <td>10.57</td>\n",
       "      <td>9.41</td>\n",
       "      <td>8.61</td>\n",
       "      <td>1</td>\n",
       "      <td>1</td>\n",
       "    </tr>\n",
       "    <tr>\n",
       "      <th>Productivity of capital</th>\n",
       "      <th>avg_prod_k</th>\n",
       "      <td>0.23</td>\n",
       "      <td>0.23</td>\n",
       "      <td>0.23</td>\n",
       "      <td>0.23</td>\n",
       "      <td>0.23</td>\n",
       "    </tr>\n",
       "    <tr>\n",
       "      <th>Time to reconstruct</th>\n",
       "      <th>T_rebuild_K</th>\n",
       "      <td>3</td>\n",
       "      <td>3</td>\n",
       "      <td>3</td>\n",
       "      <td>3</td>\n",
       "      <td>3</td>\n",
       "    </tr>\n",
       "    <tr>\n",
       "      <th>Avoided losses with early warning</th>\n",
       "      <th>pi</th>\n",
       "      <td>0.2</td>\n",
       "      <td>0.2</td>\n",
       "      <td>0.2</td>\n",
       "      <td>0.2</td>\n",
       "      <td>0.2</td>\n",
       "    </tr>\n",
       "    <tr>\n",
       "      <th>Effective scale up for non-poor people</th>\n",
       "      <th>sigma_r</th>\n",
       "      <td>0</td>\n",
       "      <td>0</td>\n",
       "      <td>0</td>\n",
       "      <td>0</td>\n",
       "      <td>0</td>\n",
       "    </tr>\n",
       "    <tr>\n",
       "      <th>Effective scale up for poor people</th>\n",
       "      <th>sigma_p</th>\n",
       "      <td>0</td>\n",
       "      <td>0</td>\n",
       "      <td>0</td>\n",
       "      <td>0</td>\n",
       "      <td>0</td>\n",
       "    </tr>\n",
       "    <tr>\n",
       "      <th>Elasticity of utility</th>\n",
       "      <th>income_elast</th>\n",
       "      <td>1.5</td>\n",
       "      <td>1.5</td>\n",
       "      <td>1.5</td>\n",
       "      <td>1.5</td>\n",
       "      <td>1.5</td>\n",
       "    </tr>\n",
       "    <tr>\n",
       "      <th>Discount rate</th>\n",
       "      <th>rho</th>\n",
       "      <td>0.15</td>\n",
       "      <td>0.15</td>\n",
       "      <td>0.15</td>\n",
       "      <td>0.15</td>\n",
       "      <td>0.15</td>\n",
       "    </tr>\n",
       "    <tr>\n",
       "      <th>Asset vulnerability (shared losses)</th>\n",
       "      <th>v_s</th>\n",
       "      <td>0.1604</td>\n",
       "      <td>0.18026</td>\n",
       "      <td>0.190639</td>\n",
       "      <td>0.228334</td>\n",
       "      <td>0.187506</td>\n",
       "    </tr>\n",
       "    <tr>\n",
       "      <th>NaN</th>\n",
       "      <th>protectionref</th>\n",
       "      <td>10.57</td>\n",
       "      <td>9.41</td>\n",
       "      <td>8.61</td>\n",
       "      <td>1</td>\n",
       "      <td>1</td>\n",
       "    </tr>\n",
       "    <tr>\n",
       "      <th>Average asset losses per person in the event of a disaster</th>\n",
       "      <th>dK</th>\n",
       "      <td>0.614174</td>\n",
       "      <td>4.45067</td>\n",
       "      <td>4.18522</td>\n",
       "      <td>20.0309</td>\n",
       "      <td>1.2827</td>\n",
       "    </tr>\n",
       "    <tr>\n",
       "      <th>Average welfare losses in the event of a disaster</th>\n",
       "      <th>delta_W</th>\n",
       "      <td>1.87516e-05</td>\n",
       "      <td>0.000132511</td>\n",
       "      <td>0.000158799</td>\n",
       "      <td>0.000612451</td>\n",
       "      <td>4.68648e-05</td>\n",
       "    </tr>\n",
       "    <tr>\n",
       "      <th>Average consumption losses for poor people in the event of a disaster</th>\n",
       "      <th>dcap</th>\n",
       "      <td>58.7439</td>\n",
       "      <td>63.7143</td>\n",
       "      <td>69.7225</td>\n",
       "      <td>75.992</td>\n",
       "      <td>61.2404</td>\n",
       "    </tr>\n",
       "    <tr>\n",
       "      <th>Average consumption losses for nonpoor people in the event of a disaster</th>\n",
       "      <th>dcar</th>\n",
       "      <td>113.406</td>\n",
       "      <td>143.516</td>\n",
       "      <td>159.378</td>\n",
       "      <td>165.078</td>\n",
       "      <td>143.946</td>\n",
       "    </tr>\n",
       "    <tr>\n",
       "      <th>Average asset losses across persons in the event of a disaster</th>\n",
       "      <th>dKtot</th>\n",
       "      <td>2973.08</td>\n",
       "      <td>66857.9</td>\n",
       "      <td>68827.7</td>\n",
       "      <td>2.46919e+06</td>\n",
       "      <td>342520</td>\n",
       "    </tr>\n",
       "    <tr>\n",
       "      <th>Expected welfare losses per capita due to natural disasters</th>\n",
       "      <th>dWpc_curency</th>\n",
       "      <td>0.110987</td>\n",
       "      <td>0.880985</td>\n",
       "      <td>1.15385</td>\n",
       "      <td>38.3158</td>\n",
       "      <td>2.93193</td>\n",
       "    </tr>\n",
       "    <tr>\n",
       "      <th>Total expected welfare losses due to natural disasters</th>\n",
       "      <th>dWtot_currency</th>\n",
       "      <td>5678.85</td>\n",
       "      <td>124533</td>\n",
       "      <td>163380</td>\n",
       "      <td>4.72315e+06</td>\n",
       "      <td>782913</td>\n",
       "    </tr>\n",
       "    <tr>\n",
       "      <th>Expected welfare losses</th>\n",
       "      <th>risk</th>\n",
       "      <td>0.000638994</td>\n",
       "      <td>0.00457378</td>\n",
       "      <td>0.00692734</td>\n",
       "      <td>0.207567</td>\n",
       "      <td>0.0168487</td>\n",
       "    </tr>\n",
       "    <tr>\n",
       "      <th>Socio-economic capacity</th>\n",
       "      <th>resilience</th>\n",
       "      <td>0.523536</td>\n",
       "      <td>0.536867</td>\n",
       "      <td>0.421274</td>\n",
       "      <td>0.522785</td>\n",
       "      <td>0.437494</td>\n",
       "    </tr>\n",
       "    <tr>\n",
       "      <th>Risk to assets</th>\n",
       "      <th>risk_to_assets</th>\n",
       "      <td>0.000334536</td>\n",
       "      <td>0.00245551</td>\n",
       "      <td>0.00291831</td>\n",
       "      <td>0.108513</td>\n",
       "      <td>0.0073712</td>\n",
       "    </tr>\n",
       "  </tbody>\n",
       "</table>\n",
       "</div>"
      ],
      "text/plain": [
       "province                                                                  Abra  \\\n",
       "description                                        variable                      \n",
       "Population                                         pop                   51167   \n",
       " Average income of poor families                   cp                   92.829   \n",
       " Average income of non poor families               cr                  203.891   \n",
       "Poverty incidence                                  pov_head           0.271937   \n",
       " Average income in the province                    gdp_pc_pp           173.689   \n",
       "Access to early warning for poor people            shewp             0.0631627   \n",
       "Access to early warning for nonpoor people         shewr              0.173531   \n",
       "Social protection for poor people                  social_p           0.173531   \n",
       "Social protection for non-poor people              social_r           0.203457   \n",
       "National GDP per capita                            gdp_pc_pp_nat        236.39   \n",
       "Asset vulnerability (poor people)                  v_p                0.178191   \n",
       "Asset vulnerability (non-poor people)              v_r                0.166167   \n",
       "Exposure, poor people                              fap                   0.005   \n",
       "Exposure, non-poor people                          far                   0.005   \n",
       " Hazard (protection)                               protection            10.57   \n",
       "Productivity of capital                            avg_prod_k             0.23   \n",
       "Time to reconstruct                                T_rebuild_K               3   \n",
       "Avoided losses with early warning                  pi                      0.2   \n",
       "Effective scale up for non-poor people             sigma_r                   0   \n",
       "Effective scale up for poor people                 sigma_p                   0   \n",
       "Elasticity of utility                              income_elast            1.5   \n",
       "Discount rate                                      rho                    0.15   \n",
       "Asset vulnerability (shared losses)                v_s                  0.1604   \n",
       "NaN                                                protectionref         10.57   \n",
       "Average asset losses per person in the event of... dK                 0.614174   \n",
       "Average welfare losses in the event of a disaster  delta_W         1.87516e-05   \n",
       "Average consumption losses for poor people in t... dcap                58.7439   \n",
       "Average consumption losses for nonpoor people i... dcar                113.406   \n",
       "Average asset losses across persons in the even... dKtot               2973.08   \n",
       "Expected welfare losses per capita due to natur... dWpc_curency       0.110987   \n",
       "Total expected welfare losses due to natural di... dWtot_currency      5678.85   \n",
       "Expected welfare losses                            risk            0.000638994   \n",
       "Socio-economic capacity                            resilience         0.523536   \n",
       "Risk to assets                                     risk_to_assets  0.000334536   \n",
       "\n",
       "province                                                          Agusan del Norte  \\\n",
       "description                                        variable                          \n",
       "Population                                         pop                      141357   \n",
       " Average income of poor families                   cp                      82.3484   \n",
       " Average income of non poor families               cr                      234.816   \n",
       "Poverty incidence                                  pov_head               0.276778   \n",
       " Average income in the province                    gdp_pc_pp               192.616   \n",
       "Access to early warning for poor people            shewp                    0.2491   \n",
       "Access to early warning for nonpoor people         shewr                  0.147336   \n",
       "Social protection for poor people                  social_p               0.147336   \n",
       "Social protection for non-poor people              social_r               0.226521   \n",
       "National GDP per capita                            gdp_pc_pp_nat            236.39   \n",
       "Asset vulnerability (poor people)                  v_p                      0.2185   \n",
       "Asset vulnerability (non-poor people)              v_r                    0.185733   \n",
       "Exposure, poor people                              fap                   0.0350051   \n",
       "Exposure, non-poor people                          far                    0.028028   \n",
       " Hazard (protection)                               protection                 9.41   \n",
       "Productivity of capital                            avg_prod_k                 0.23   \n",
       "Time to reconstruct                                T_rebuild_K                   3   \n",
       "Avoided losses with early warning                  pi                          0.2   \n",
       "Effective scale up for non-poor people             sigma_r                       0   \n",
       "Effective scale up for poor people                 sigma_p                       0   \n",
       "Elasticity of utility                              income_elast                1.5   \n",
       "Discount rate                                      rho                        0.15   \n",
       "Asset vulnerability (shared losses)                v_s                     0.18026   \n",
       "NaN                                                protectionref              9.41   \n",
       "Average asset losses per person in the event of... dK                      4.45067   \n",
       "Average welfare losses in the event of a disaster  delta_W             0.000132511   \n",
       "Average consumption losses for poor people in t... dcap                    63.7143   \n",
       "Average consumption losses for nonpoor people i... dcar                    143.516   \n",
       "Average asset losses across persons in the even... dKtot                   66857.9   \n",
       "Expected welfare losses per capita due to natur... dWpc_curency           0.880985   \n",
       "Total expected welfare losses due to natural di... dWtot_currency           124533   \n",
       "Expected welfare losses                            risk                 0.00457378   \n",
       "Socio-economic capacity                            resilience             0.536867   \n",
       "Risk to assets                                     risk_to_assets       0.00245551   \n",
       "\n",
       "province                                                          Agusan del Sur  \\\n",
       "description                                        variable                        \n",
       "Population                                         pop                    141595   \n",
       " Average income of poor families                   cp                    83.3041   \n",
       " Average income of non poor families               cr                    216.088   \n",
       "Poverty incidence                                  pov_head             0.372958   \n",
       " Average income in the province                    gdp_pc_pp             166.565   \n",
       "Access to early warning for poor people            shewp                0.139189   \n",
       "Access to early warning for nonpoor people         shewr                0.126444   \n",
       "Social protection for poor people                  social_p             0.126444   \n",
       "Social protection for non-poor people              social_r             0.113334   \n",
       "National GDP per capita                            gdp_pc_pp_nat          236.39   \n",
       "Asset vulnerability (poor people)                  v_p                  0.225682   \n",
       "Asset vulnerability (non-poor people)              v_r                  0.195585   \n",
       "Exposure, poor people                              fap                 0.0350051   \n",
       "Exposure, non-poor people                          far                  0.028028   \n",
       " Hazard (protection)                               protection               8.61   \n",
       "Productivity of capital                            avg_prod_k               0.23   \n",
       "Time to reconstruct                                T_rebuild_K                 3   \n",
       "Avoided losses with early warning                  pi                        0.2   \n",
       "Effective scale up for non-poor people             sigma_r                     0   \n",
       "Effective scale up for poor people                 sigma_p                     0   \n",
       "Elasticity of utility                              income_elast              1.5   \n",
       "Discount rate                                      rho                      0.15   \n",
       "Asset vulnerability (shared losses)                v_s                  0.190639   \n",
       "NaN                                                protectionref            8.61   \n",
       "Average asset losses per person in the event of... dK                    4.18522   \n",
       "Average welfare losses in the event of a disaster  delta_W           0.000158799   \n",
       "Average consumption losses for poor people in t... dcap                  69.7225   \n",
       "Average consumption losses for nonpoor people i... dcar                  159.378   \n",
       "Average asset losses across persons in the even... dKtot                 68827.7   \n",
       "Expected welfare losses per capita due to natur... dWpc_curency          1.15385   \n",
       "Total expected welfare losses due to natural di... dWtot_currency         163380   \n",
       "Expected welfare losses                            risk               0.00692734   \n",
       "Socio-economic capacity                            resilience           0.421274   \n",
       "Risk to assets                                     risk_to_assets     0.00291831   \n",
       "\n",
       "province                                                                 Aklan  \\\n",
       "description                                        variable                      \n",
       "Population                                         pop                  123269   \n",
       " Average income of poor families                   cp                  79.4459   \n",
       " Average income of non poor families               cr                   211.62   \n",
       "Poverty incidence                                  pov_head           0.204461   \n",
       " Average income in the province                    gdp_pc_pp           184.595   \n",
       "Access to early warning for poor people            shewp              0.128517   \n",
       "Access to early warning for nonpoor people         shewr              0.184183   \n",
       "Social protection for poor people                  social_p           0.184183   \n",
       "Social protection for non-poor people              social_r           0.239542   \n",
       "National GDP per capita                            gdp_pc_pp_nat        236.39   \n",
       "Asset vulnerability (poor people)                  v_p                0.270019   \n",
       "Asset vulnerability (non-poor people)              v_r                0.237067   \n",
       "Exposure, poor people                              fap                0.127864   \n",
       "Exposure, non-poor people                          far                0.105637   \n",
       " Hazard (protection)                               protection                1   \n",
       "Productivity of capital                            avg_prod_k             0.23   \n",
       "Time to reconstruct                                T_rebuild_K               3   \n",
       "Avoided losses with early warning                  pi                      0.2   \n",
       "Effective scale up for non-poor people             sigma_r                   0   \n",
       "Effective scale up for poor people                 sigma_p                   0   \n",
       "Elasticity of utility                              income_elast            1.5   \n",
       "Discount rate                                      rho                    0.15   \n",
       "Asset vulnerability (shared losses)                v_s                0.228334   \n",
       "NaN                                                protectionref             1   \n",
       "Average asset losses per person in the event of... dK                  20.0309   \n",
       "Average welfare losses in the event of a disaster  delta_W         0.000612451   \n",
       "Average consumption losses for poor people in t... dcap                 75.992   \n",
       "Average consumption losses for nonpoor people i... dcar                165.078   \n",
       "Average asset losses across persons in the even... dKtot           2.46919e+06   \n",
       "Expected welfare losses per capita due to natur... dWpc_curency        38.3158   \n",
       "Total expected welfare losses due to natural di... dWtot_currency  4.72315e+06   \n",
       "Expected welfare losses                            risk               0.207567   \n",
       "Socio-economic capacity                            resilience         0.522785   \n",
       "Risk to assets                                     risk_to_assets     0.108513   \n",
       "\n",
       "province                                                                 Albay  \n",
       "description                                        variable                     \n",
       "Population                                         pop                  267030  \n",
       " Average income of poor families                   cp                  76.5822  \n",
       " Average income of non poor families               cr                  224.009  \n",
       "Poverty incidence                                  pov_head           0.339106  \n",
       " Average income in the province                    gdp_pc_pp           174.015  \n",
       "Access to early warning for poor people            shewp              0.172775  \n",
       "Access to early warning for nonpoor people         shewr              0.201804  \n",
       "Social protection for poor people                  social_p           0.201804  \n",
       "Social protection for non-poor people              social_r           0.213554  \n",
       "National GDP per capita                            gdp_pc_pp_nat        236.39  \n",
       "Asset vulnerability (poor people)                  v_p                0.238147  \n",
       "Asset vulnerability (non-poor people)              v_r                0.195392  \n",
       "Exposure, poor people                              fap               0.0106901  \n",
       "Exposure, non-poor people                          far              0.00832843  \n",
       " Hazard (protection)                               protection                1  \n",
       "Productivity of capital                            avg_prod_k             0.23  \n",
       "Time to reconstruct                                T_rebuild_K               3  \n",
       "Avoided losses with early warning                  pi                      0.2  \n",
       "Effective scale up for non-poor people             sigma_r                   0  \n",
       "Effective scale up for poor people                 sigma_p                   0  \n",
       "Elasticity of utility                              income_elast            1.5  \n",
       "Discount rate                                      rho                    0.15  \n",
       "Asset vulnerability (shared losses)                v_s                0.187506  \n",
       "NaN                                                protectionref             1  \n",
       "Average asset losses per person in the event of... dK                   1.2827  \n",
       "Average welfare losses in the event of a disaster  delta_W         4.68648e-05  \n",
       "Average consumption losses for poor people in t... dcap                61.2404  \n",
       "Average consumption losses for nonpoor people i... dcar                143.946  \n",
       "Average asset losses across persons in the even... dKtot                342520  \n",
       "Expected welfare losses per capita due to natur... dWpc_curency        2.93193  \n",
       "Total expected welfare losses due to natural di... dWtot_currency       782913  \n",
       "Expected welfare losses                            risk              0.0168487  \n",
       "Socio-economic capacity                            resilience         0.437494  \n",
       "Risk to assets                                     risk_to_assets    0.0073712  "
      ]
     },
     "execution_count": 241,
     "metadata": {},
     "output_type": "execute_result"
    }
   ],
   "source": [
    "#read descritpion of each variable\n",
    "description = pd.read_csv(\"inputs/inputs_info.csv\", index_col=\"key\")[\"descriptor\"]\n",
    "description.head()\n",
    "\n",
    "#copy of the results\n",
    "data = df_with_results.copy()\n",
    "\n",
    "#adds description line\n",
    "data.ix[\"description\"]= description\n",
    "\n",
    "#makes that line part of the index\n",
    "data=data.T.reset_index().set_index([\"description\",\"index\"]).T\n",
    "data.columns.names = ['description', 'variable']\n",
    "\n",
    "#exports the result to a CSV file\n",
    "data.to_csv(\"results/all_data_and_results.csv\") #we call that file _simple because it does not rely on multihazard data\n",
    "\n",
    "#displays the first few provinces, transposed for ease of reading.\n",
    "data.head().T"
   ]
  },
  {
   "cell_type": "markdown",
   "metadata": {},
   "source": [
    "#### Visualizing risk to assets, capacity and risk to welfare"
   ]
  },
  {
   "cell_type": "markdown",
   "metadata": {},
   "source": [
    "Now we visualize risk and resilience acrross provinces, with plots and maps"
   ]
  },
  {
   "cell_type": "code",
   "execution_count": 242,
   "metadata": {
    "ExecuteTime": {
     "end_time": "2016-03-01T17:17:56.570772",
     "start_time": "2016-03-01T17:17:56.078867"
    },
    "collapsed": false
   },
   "outputs": [
    {
     "name": "stdout",
     "output_type": "stream",
     "text": [
      "Socio-economic capacity averages 62% across our sample, ranging from 23% to 195%\n"
     ]
    },
    {
     "data": {
      "image/png": "[encoded data removed]",
      "text/plain": [
       "<matplotlib.figure.Figure at 0xbb59f60>"
      ]
     },
     "metadata": {},
     "output_type": "display_data"
    }
   ],
   "source": [
    "df_with_results=compute_resiliences(df)\n",
    "a=df_with_results[\"resilience\"];\n",
    "a.min()*100,a.mean()*100,a.max()*100\n",
    "print(\"Socio-economic capacity averages {mean:.0%} across our sample, ranging from {min:.0%} to {max:.0%}\".format(\n",
    "    min=a.min(),mean=a.mean(),max=a.max()))\n",
    "plt.figure(figsize=(7,7))\n",
    "ax2=(100*a).plot.hist(alpha=0.5, color=\"#08519c\");\n",
    "ax2.legend([\"Socio-economic capacity\"])\n",
    "ax2.set_xlabel('%');\n",
    "\n"
   ]
  },
  {
   "cell_type": "markdown",
   "metadata": {},
   "source": [
    "Socio-economic capacity can also be visualized in a map (see [draw_maps.ipynb](draw_maps.ipynb) for how to build these maps)"
   ]
  },
  {
   "cell_type": "markdown",
   "metadata": {},
   "source": [
    "![title](img/map_and_legend_of_se_capacity.png)"
   ]
  },
  {
   "cell_type": "code",
   "execution_count": 243,
   "metadata": {
    "collapsed": false
   },
   "outputs": [
    {
     "data": {
      "text/plain": [
       "0.0050000000000000001"
      ]
     },
     "execution_count": 243,
     "metadata": {},
     "output_type": "execute_result"
    }
   ],
   "source": [
    "df.fap.min()"
   ]
  },
  {
   "cell_type": "code",
   "execution_count": null,
   "metadata": {
    "collapsed": true
   },
   "outputs": [],
   "source": []
  },
  {
   "cell_type": "code",
   "execution_count": 244,
   "metadata": {
    "collapsed": false
   },
   "outputs": [
    {
     "name": "stdout",
     "output_type": "stream",
     "text": [
      "Socio-economic capacity averages 2% across our sample, ranging from 0% to 11%\n"
     ]
    },
    {
     "data": {
      "image/png": "[encoded data removed]",
      "text/plain": [
       "<matplotlib.figure.Figure at 0xbdfad68>"
      ]
     },
     "metadata": {},
     "output_type": "display_data"
    }
   ],
   "source": [
    "a=df_with_results[\"risk_to_assets\"];\n",
    "a.min()*100,a.mean()*100,a.max()*100\n",
    "print(\"Socio-economic capacity averages {mean:.0%} across our sample, ranging from {min:.0%} to {max:.0%}\".format(\n",
    "    min=a.min(),mean=a.mean(),max=a.max()))\n",
    "plt.figure(figsize=(7,7))\n",
    "ax2=(100*a).plot.hist(alpha=0.5, color=\"#08519c\");\n",
    "ax2.legend([\"Socio-economic capacity\"])\n",
    "ax2.set_xlabel('%');\n"
   ]
  },
  {
   "cell_type": "markdown",
   "metadata": {},
   "source": [
    "# Categorizing provinces"
   ]
  },
  {
   "cell_type": "markdown",
   "metadata": {},
   "source": [
    "Here we categorize provinces in 3 tiers (Low, mid, high) according to their ranking on socio-econic capacity and on overall risk to welfare. We use the functions `make_tiers` and `categories_to_formated_excel_file` from [res_ind_lib.py](res_ind_lib.py)"
   ]
  },
  {
   "cell_type": "code",
   "execution_count": 245,
   "metadata": {
    "collapsed": true
   },
   "outputs": [],
   "source": [
    "from categorize import *"
   ]
  },
  {
   "cell_type": "code",
   "execution_count": 246,
   "metadata": {
    "ExecuteTime": {
     "end_time": "2016-03-01T17:17:56.858481",
     "start_time": "2016-03-01T17:17:56.728388"
    },
    "collapsed": false
   },
   "outputs": [
    {
     "data": {
      "text/html": [
       "<div>\n",
       "<table border=\"1\" class=\"dataframe\">\n",
       "  <thead>\n",
       "    <tr style=\"text-align: right;\">\n",
       "      <th></th>\n",
       "      <th>Socio-economic capacity</th>\n",
       "    </tr>\n",
       "    <tr>\n",
       "      <th>province</th>\n",
       "      <th></th>\n",
       "    </tr>\n",
       "  </thead>\n",
       "  <tbody>\n",
       "    <tr>\n",
       "      <th>Lanao del Sur</th>\n",
       "      <td>Low</td>\n",
       "    </tr>\n",
       "    <tr>\n",
       "      <th>Eastern Samar</th>\n",
       "      <td>Low</td>\n",
       "    </tr>\n",
       "    <tr>\n",
       "      <th>Maguindanao</th>\n",
       "      <td>Low</td>\n",
       "    </tr>\n",
       "    <tr>\n",
       "      <th>Masbate</th>\n",
       "      <td>Low</td>\n",
       "    </tr>\n",
       "    <tr>\n",
       "      <th>Misamis Occidental</th>\n",
       "      <td>Low</td>\n",
       "    </tr>\n",
       "  </tbody>\n",
       "</table>\n",
       "</div>"
      ],
      "text/plain": [
       "                   Socio-economic capacity\n",
       "province                                  \n",
       "Lanao del Sur                          Low\n",
       "Eastern Samar                          Low\n",
       "Maguindanao                            Low\n",
       "Masbate                                Low\n",
       "Misamis Occidental                     Low"
      ]
     },
     "execution_count": 246,
     "metadata": {},
     "output_type": "execute_result"
    }
   ],
   "source": [
    "categories = pd.DataFrame([make_tiers(df_with_results.resilience)\n",
    "                           ]).T.dropna()\n",
    "\n",
    "categories.rename(columns=description).head()"
   ]
  },
  {
   "cell_type": "markdown",
   "metadata": {
    "collapsed": true
   },
   "source": [
    "# Policy experiments"
   ]
  },
  {
   "cell_type": "markdown",
   "metadata": {},
   "source": [
    "Finally, the resilience indicator model can be used to asses the impact of specific policies on asset and welfare losses. In the following we provide two examples. More policy assessment are performed in [render_policy_assessment.ipynb](render_policy_assessment.ipynb)"
   ]
  },
  {
   "cell_type": "markdown",
   "metadata": {},
   "source": [
    "#### Impact of increasing the income of poor families"
   ]
  },
  {
   "cell_type": "code",
   "execution_count": 250,
   "metadata": {
    "ExecuteTime": {
     "end_time": "2016-03-01T17:17:57.069638",
     "start_time": "2016-03-01T17:17:56.865489"
    },
    "collapsed": false
   },
   "outputs": [
    {
     "name": "stdout",
     "output_type": "stream",
     "text": [
      " Increasing the income of poor households by 5 percent in the 83 provincies would increase asset losses from 55.44 to 55.82 billions per year (0.7%), but reduce welfare losses by 1.1%\n"
     ]
    }
   ],
   "source": [
    "df_share1 = compute_resiliences( def_ref_values(df.dropna().assign(cp=df.cp*1.05) ))\n",
    "\n",
    "#welfare losses\n",
    "wa=df_with_results.dWtot_currency.sum()*1e-6\n",
    "wb=df_share1.dWtot_currency.sum()*1e-6\n",
    "\n",
    "#asset losses\n",
    "ka = (df_with_results.dKtot).sum()*1e-6\n",
    "kb = (df_share1.dKtot).sum()*1e-6\n",
    "\n",
    "nb_countries_all_results = df_with_results[\"resilience\"].dropna().shape[0]\n",
    "\n",
    "print(\" Increasing the income of poor households by 5 percent in the {nb} provincies \\\n",
    "would increase asset losses from {ka:0.2f} to {kb:0.2f} billions per year\\\n",
    " ({XX:.1%}), but reduce welfare losses by {YY:.1%}\".format(\n",
    "        XX=(kb-ka)/ka,ka=ka,kb=kb,YY=(wa-wb)/wa,nb=nb_countries_all_results)\n",
    "     )"
   ]
  },
  {
   "cell_type": "markdown",
   "metadata": {},
   "source": [
    "#### Impact of scaling up social protection"
   ]
  },
  {
   "cell_type": "code",
   "execution_count": 251,
   "metadata": {
    "ExecuteTime": {
     "end_time": "2016-03-01T17:17:57.227752",
     "start_time": "2016-03-01T17:17:57.073640"
    },
    "collapsed": false
   },
   "outputs": [
    {
     "name": "stdout",
     "output_type": "stream",
     "text": [
      "Scaling up social protection to cover one third of asset losses in the 83 provincies would left asset losses unchanged (from 55.44 to 55.44 billions per year), but reduce welfare losses by -7%\n"
     ]
    }
   ],
   "source": [
    "df_su = compute_resiliences( df.dropna().assign(sigma_p=.33,sigma_r=0.33) )\n",
    "\n",
    "#welfare losses\n",
    "wa=df_with_results.dWtot_currency.sum()*1e-6\n",
    "wb=df_su.dWtot_currency.sum()*1e-6\n",
    "\n",
    "#asset losses\n",
    "ka = (df_with_results.dKtot).sum()*1e-6\n",
    "kb = (df_su.dKtot).sum()*1e-6\n",
    "\n",
    "print(\"Scaling up social protection to cover one third of asset losses in the {nb} provincies \\\n",
    "would left asset losses unchanged (from {ka:0.2f} to {kb:0.2f} billions per year), \\\n",
    "but reduce welfare losses by {YY:.0%}\".format(\n",
    "        XX=100*(kb-ka)/ka,ka=ka,kb=kb,YY=(wb-wa)/wb,nb=nb_countries_all_results)\n",
    "     )"
   ]
  },
  {
   "cell_type": "code",
   "execution_count": 252,
   "metadata": {
    "collapsed": false
   },
   "outputs": [
    {
     "data": {
      "text/html": [
       "<div>\n",
       "<table border=\"1\" class=\"dataframe\">\n",
       "  <thead>\n",
       "    <tr style=\"text-align: right;\">\n",
       "      <th></th>\n",
       "      <th>nb_missing</th>\n",
       "      <th>missing_data</th>\n",
       "    </tr>\n",
       "    <tr>\n",
       "      <th>province</th>\n",
       "      <th></th>\n",
       "      <th></th>\n",
       "    </tr>\n",
       "  </thead>\n",
       "  <tbody>\n",
       "    <tr>\n",
       "      <th>Cotabato</th>\n",
       "      <td>2</td>\n",
       "      <td>pov_head, gdp_pc_pp</td>\n",
       "    </tr>\n",
       "    <tr>\n",
       "      <th>Davao</th>\n",
       "      <td>2</td>\n",
       "      <td>pov_head, gdp_pc_pp</td>\n",
       "    </tr>\n",
       "  </tbody>\n",
       "</table>\n",
       "</div>"
      ],
      "text/plain": [
       "          nb_missing         missing_data\n",
       "province                                 \n",
       "Cotabato           2  pov_head, gdp_pc_pp\n",
       "Davao              2  pov_head, gdp_pc_pp"
      ]
     },
     "execution_count": 252,
     "metadata": {},
     "output_type": "execute_result"
    }
   ],
   "source": [
    "def write_missing_data(s):\n",
    "    which = s[s.isnull()].index.values\n",
    "    return \", \".join(which)\n",
    "\n",
    "def count_missing_data(s):\n",
    "    return s.isnull().sum()\n",
    "\n",
    "report = pd.DataFrame()\n",
    "\n",
    "report[\"nb_missing\"]=df.apply(count_missing_data,axis=1)  \n",
    "report[\"missing_data\"]=df.apply(write_missing_data,axis=1)\n",
    "\n",
    "report  = report.ix[report[\"nb_missing\"]>0,:]\n",
    "report.sort_values(by=\"nb_missing\",inplace=True)\n",
    "report.to_csv(\"inputs/missing_data_report.csv\")\n",
    "\n",
    "report"
   ]
  },
  {
   "cell_type": "code",
   "execution_count": 253,
   "metadata": {
    "collapsed": false
   },
   "outputs": [
    {
     "data": {
      "text/plain": [
       "(85, 24)"
      ]
     },
     "execution_count": 253,
     "metadata": {},
     "output_type": "execute_result"
    }
   ],
   "source": [
    "df.shape"
   ]
  },
  {
   "cell_type": "code",
   "execution_count": null,
   "metadata": {
    "collapsed": true
   },
   "outputs": [],
   "source": []
  }
 ],
 "metadata": {
  "kernelspec": {
   "display_name": "Python 3",
   "language": "python",
   "name": "python3"
  },
  "language_info": {
   "codemirror_mode": {
    "name": "ipython",
    "version": 3
   },
   "file_extension": ".py",
   "mimetype": "text/x-python",
   "name": "python",
   "nbconvert_exporter": "python",
   "pygments_lexer": "ipython3",
   "version": "3.4.4"
  }
 },
 "nbformat": 4,
 "nbformat_minor": 0
}
