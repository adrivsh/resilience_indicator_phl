{
 "cells": [
  {
   "cell_type": "markdown",
   "metadata": {},
   "source": [
    "This notebook demonstrates the usage of the resilience/socio-economic capacity model."
   ]
  },
  {
   "cell_type": "markdown",
   "metadata": {},
   "source": [
    "# Loading functions"
   ]
  },
  {
   "cell_type": "markdown",
   "metadata": {},
   "source": [
    "We first import function librairies. The first ones are standard python librairies."
   ]
  },
  {
   "cell_type": "code",
   "execution_count": 1,
   "metadata": {
    "collapsed": false,
    "run_control": {
     "frozen": false,
     "read_only": false
    }
   },
   "outputs": [],
   "source": [
    "%load_ext autoreload\n",
    "%autoreload 2"
   ]
  },
  {
   "cell_type": "code",
   "execution_count": 2,
   "metadata": {
    "ExecuteTime": {
     "end_time": "2016-03-01T17:17:53.864183",
     "start_time": "2016-03-01T17:17:53.033410"
    },
    "collapsed": true,
    "run_control": {
     "frozen": false,
     "read_only": false
    }
   },
   "outputs": [],
   "source": [
    "#The main library we use. Manipulates Excel-like tables (called dataframes) with named rows and columns\n",
    "import pandas as pd \n",
    "import numpy as np"
   ]
  },
  {
   "cell_type": "code",
   "execution_count": 3,
   "metadata": {
    "ExecuteTime": {
     "end_time": "2016-03-01T17:17:54.317508",
     "start_time": "2016-03-01T17:17:53.867185"
    },
    "code_folding": [],
    "collapsed": false,
    "run_control": {
     "frozen": false,
     "read_only": false
    }
   },
   "outputs": [],
   "source": [
    "#ploting capacities\n",
    "import matplotlib.pyplot as plt \n",
    "#make plots appear in this notebook\n",
    "%matplotlib inline  \n",
    "\n",
    "#Default options for plots: this controls the font used in figures\n",
    "font = {'family' : 'sans serif',\n",
    "    'size'   : 18}\n",
    "plt.rc('font', **font)\n"
   ]
  },
  {
   "cell_type": "markdown",
   "metadata": {},
   "source": [
    "# Loading socio-economic data"
   ]
  },
  {
   "cell_type": "markdown",
   "metadata": {},
   "source": [
    "Here we read the data set we need into a pandas table (called DataFrame).\n",
    "This specific dataset was put together from a variety of different sources using another python notebook: [data_gathering_demo.ipynb](data_gathering_demo.ipynb). In the future we could build directly an excel file with all the data the model needs."
   ]
  },
  {
   "cell_type": "code",
   "execution_count": 4,
   "metadata": {
    "collapsed": false,
    "run_control": {
     "frozen": false,
     "read_only": false
    }
   },
   "outputs": [
    {
     "data": {
      "text/html": [
       "<div>\n",
       "<table border=\"1\" class=\"dataframe\">\n",
       "  <thead>\n",
       "    <tr style=\"text-align: right;\">\n",
       "      <th></th>\n",
       "      <th>description</th>\n",
       "      <th>Population</th>\n",
       "      <th>Average income of poor families</th>\n",
       "      <th>Average income of non poor families</th>\n",
       "      <th>Poverty incidence</th>\n",
       "      <th>Average income in the province</th>\n",
       "      <th>National GDP per capita</th>\n",
       "      <th>Social protection for poor people</th>\n",
       "      <th>Social protection for non-poor people</th>\n",
       "      <th>Asset vulnerability (poor people)</th>\n",
       "      <th>...</th>\n",
       "      <th>Exposure, poor people</th>\n",
       "      <th>Exposure, non-poor people</th>\n",
       "      <th>Hazard (protection)</th>\n",
       "      <th>Productivity of capital</th>\n",
       "      <th>Time to reconstruct</th>\n",
       "      <th>Avoided losses with early warning</th>\n",
       "      <th>Effective scale up for non-poor people</th>\n",
       "      <th>Effective scale up for poor people</th>\n",
       "      <th>Elasticity of utility</th>\n",
       "      <th>Discount rate</th>\n",
       "    </tr>\n",
       "  </thead>\n",
       "  <tbody>\n",
       "    <tr>\n",
       "      <th>0</th>\n",
       "      <td>variable</td>\n",
       "      <td>pop</td>\n",
       "      <td>cp</td>\n",
       "      <td>cr</td>\n",
       "      <td>pov_head</td>\n",
       "      <td>gdp_pc_pp</td>\n",
       "      <td>gdp_pc_pp_nat</td>\n",
       "      <td>social_p</td>\n",
       "      <td>social_r</td>\n",
       "      <td>v_p</td>\n",
       "      <td>...</td>\n",
       "      <td>fap</td>\n",
       "      <td>far</td>\n",
       "      <td>protection</td>\n",
       "      <td>avg_prod_k</td>\n",
       "      <td>T_rebuild_K</td>\n",
       "      <td>pi</td>\n",
       "      <td>sigma_r</td>\n",
       "      <td>sigma_p</td>\n",
       "      <td>income_elast</td>\n",
       "      <td>rho</td>\n",
       "    </tr>\n",
       "    <tr>\n",
       "      <th>1</th>\n",
       "      <td>province</td>\n",
       "      <td>NaN</td>\n",
       "      <td>NaN</td>\n",
       "      <td>NaN</td>\n",
       "      <td>NaN</td>\n",
       "      <td>NaN</td>\n",
       "      <td>NaN</td>\n",
       "      <td>NaN</td>\n",
       "      <td>NaN</td>\n",
       "      <td>NaN</td>\n",
       "      <td>...</td>\n",
       "      <td>NaN</td>\n",
       "      <td>NaN</td>\n",
       "      <td>NaN</td>\n",
       "      <td>NaN</td>\n",
       "      <td>NaN</td>\n",
       "      <td>NaN</td>\n",
       "      <td>NaN</td>\n",
       "      <td>NaN</td>\n",
       "      <td>NaN</td>\n",
       "      <td>NaN</td>\n",
       "    </tr>\n",
       "    <tr>\n",
       "      <th>2</th>\n",
       "      <td>Ha Noi</td>\n",
       "      <td>6698811</td>\n",
       "      <td>601.836</td>\n",
       "      <td>5268.98</td>\n",
       "      <td>0.059952</td>\n",
       "      <td>4989.18</td>\n",
       "      <td>3692.17</td>\n",
       "      <td>0.132861</td>\n",
       "      <td>0.132861</td>\n",
       "      <td>0.0333333</td>\n",
       "      <td>...</td>\n",
       "      <td>0.488716</td>\n",
       "      <td>0.442421</td>\n",
       "      <td>8.52966</td>\n",
       "      <td>0.2697</td>\n",
       "      <td>3</td>\n",
       "      <td>0.2</td>\n",
       "      <td>0</td>\n",
       "      <td>0</td>\n",
       "      <td>1.5</td>\n",
       "      <td>0.05</td>\n",
       "    </tr>\n",
       "    <tr>\n",
       "      <th>3</th>\n",
       "      <td>Ha Giang</td>\n",
       "      <td>774681</td>\n",
       "      <td>245.646</td>\n",
       "      <td>5193.76</td>\n",
       "      <td>0.638095</td>\n",
       "      <td>2036.39</td>\n",
       "      <td>3692.17</td>\n",
       "      <td>0.108244</td>\n",
       "      <td>0.108244</td>\n",
       "      <td>0.0725124</td>\n",
       "      <td>...</td>\n",
       "      <td>0.17807</td>\n",
       "      <td>0.134254</td>\n",
       "      <td>6.61381</td>\n",
       "      <td>0.2697</td>\n",
       "      <td>3</td>\n",
       "      <td>0.2</td>\n",
       "      <td>0</td>\n",
       "      <td>0</td>\n",
       "      <td>1.5</td>\n",
       "      <td>0.05</td>\n",
       "    </tr>\n",
       "    <tr>\n",
       "      <th>4</th>\n",
       "      <td>Cao Bang</td>\n",
       "      <td>540048</td>\n",
       "      <td>247.408</td>\n",
       "      <td>4246.67</td>\n",
       "      <td>0.54902</td>\n",
       "      <td>2050.99</td>\n",
       "      <td>3692.17</td>\n",
       "      <td>0.130566</td>\n",
       "      <td>0.130566</td>\n",
       "      <td>0.047619</td>\n",
       "      <td>...</td>\n",
       "      <td>0.220177</td>\n",
       "      <td>0.176701</td>\n",
       "      <td>7.62919</td>\n",
       "      <td>0.2697</td>\n",
       "      <td>3</td>\n",
       "      <td>0.2</td>\n",
       "      <td>0</td>\n",
       "      <td>0</td>\n",
       "      <td>1.5</td>\n",
       "      <td>0.05</td>\n",
       "    </tr>\n",
       "  </tbody>\n",
       "</table>\n",
       "<p>5 rows × 23 columns</p>\n",
       "</div>"
      ],
      "text/plain": [
       "  description Population  Average income of poor families  \\\n",
       "0    variable        pop                               cp   \n",
       "1    province        NaN                              NaN   \n",
       "2      Ha Noi    6698811                          601.836   \n",
       "3    Ha Giang     774681                          245.646   \n",
       "4    Cao Bang     540048                          247.408   \n",
       "\n",
       "   Average income of non poor families Poverty incidence  \\\n",
       "0                                   cr          pov_head   \n",
       "1                                  NaN               NaN   \n",
       "2                              5268.98          0.059952   \n",
       "3                              5193.76          0.638095   \n",
       "4                              4246.67           0.54902   \n",
       "\n",
       "   Average income in the province National GDP per capita  \\\n",
       "0                       gdp_pc_pp           gdp_pc_pp_nat   \n",
       "1                             NaN                     NaN   \n",
       "2                         4989.18                 3692.17   \n",
       "3                         2036.39                 3692.17   \n",
       "4                         2050.99                 3692.17   \n",
       "\n",
       "  Social protection for poor people Social protection for non-poor people  \\\n",
       "0                          social_p                              social_r   \n",
       "1                               NaN                                   NaN   \n",
       "2                          0.132861                              0.132861   \n",
       "3                          0.108244                              0.108244   \n",
       "4                          0.130566                              0.130566   \n",
       "\n",
       "  Asset vulnerability (poor people)      ...      Exposure, poor people  \\\n",
       "0                               v_p      ...                        fap   \n",
       "1                               NaN      ...                        NaN   \n",
       "2                         0.0333333      ...                   0.488716   \n",
       "3                         0.0725124      ...                    0.17807   \n",
       "4                          0.047619      ...                   0.220177   \n",
       "\n",
       "  Exposure, non-poor people  Hazard (protection) Productivity of capital  \\\n",
       "0                       far           protection              avg_prod_k   \n",
       "1                       NaN                  NaN                     NaN   \n",
       "2                  0.442421              8.52966                  0.2697   \n",
       "3                  0.134254              6.61381                  0.2697   \n",
       "4                  0.176701              7.62919                  0.2697   \n",
       "\n",
       "  Time to reconstruct Avoided losses with early warning  \\\n",
       "0         T_rebuild_K                                pi   \n",
       "1                 NaN                               NaN   \n",
       "2                   3                               0.2   \n",
       "3                   3                               0.2   \n",
       "4                   3                               0.2   \n",
       "\n",
       "  Effective scale up for non-poor people Effective scale up for poor people  \\\n",
       "0                                sigma_r                            sigma_p   \n",
       "1                                    NaN                                NaN   \n",
       "2                                      0                                  0   \n",
       "3                                      0                                  0   \n",
       "4                                      0                                  0   \n",
       "\n",
       "  Elasticity of utility Discount rate  \n",
       "0          income_elast           rho  \n",
       "1                   NaN           NaN  \n",
       "2                   1.5          0.05  \n",
       "3                   1.5          0.05  \n",
       "4                   1.5          0.05  \n",
       "\n",
       "[5 rows x 23 columns]"
      ]
     },
     "execution_count": 4,
     "metadata": {},
     "output_type": "execute_result"
    }
   ],
   "source": [
    "pd.read_excel(\"inputs/all_data_compiled.xlsx\").head()"
   ]
  },
  {
   "cell_type": "code",
   "execution_count": 5,
   "metadata": {
    "collapsed": false,
    "run_control": {
     "frozen": false,
     "read_only": false
    }
   },
   "outputs": [
    {
     "data": {
      "text/html": [
       "<div>\n",
       "<table border=\"1\" class=\"dataframe\">\n",
       "  <thead>\n",
       "    <tr style=\"text-align: right;\">\n",
       "      <th></th>\n",
       "      <th>pop</th>\n",
       "      <th>cp</th>\n",
       "      <th>cr</th>\n",
       "      <th>pov_head</th>\n",
       "      <th>gdp_pc_pp</th>\n",
       "      <th>gdp_pc_pp_nat</th>\n",
       "      <th>social_p</th>\n",
       "      <th>social_r</th>\n",
       "      <th>v_p</th>\n",
       "      <th>v_r</th>\n",
       "      <th>...</th>\n",
       "      <th>fap</th>\n",
       "      <th>far</th>\n",
       "      <th>protection</th>\n",
       "      <th>avg_prod_k</th>\n",
       "      <th>T_rebuild_K</th>\n",
       "      <th>pi</th>\n",
       "      <th>sigma_r</th>\n",
       "      <th>sigma_p</th>\n",
       "      <th>income_elast</th>\n",
       "      <th>rho</th>\n",
       "    </tr>\n",
       "    <tr>\n",
       "      <th>province</th>\n",
       "      <th></th>\n",
       "      <th></th>\n",
       "      <th></th>\n",
       "      <th></th>\n",
       "      <th></th>\n",
       "      <th></th>\n",
       "      <th></th>\n",
       "      <th></th>\n",
       "      <th></th>\n",
       "      <th></th>\n",
       "      <th></th>\n",
       "      <th></th>\n",
       "      <th></th>\n",
       "      <th></th>\n",
       "      <th></th>\n",
       "      <th></th>\n",
       "      <th></th>\n",
       "      <th></th>\n",
       "      <th></th>\n",
       "      <th></th>\n",
       "      <th></th>\n",
       "    </tr>\n",
       "  </thead>\n",
       "  <tbody>\n",
       "    <tr>\n",
       "      <th>Ha Noi</th>\n",
       "      <td>6698811</td>\n",
       "      <td>601.835765</td>\n",
       "      <td>5268.983750</td>\n",
       "      <td>0.059952</td>\n",
       "      <td>4989.178711</td>\n",
       "      <td>3692.174852</td>\n",
       "      <td>0.132861</td>\n",
       "      <td>0.132861</td>\n",
       "      <td>0.033333</td>\n",
       "      <td>0.033333</td>\n",
       "      <td>...</td>\n",
       "      <td>0.488716</td>\n",
       "      <td>0.442421</td>\n",
       "      <td>8.52966</td>\n",
       "      <td>0.2697</td>\n",
       "      <td>3</td>\n",
       "      <td>0.2</td>\n",
       "      <td>0</td>\n",
       "      <td>0</td>\n",
       "      <td>1.5</td>\n",
       "      <td>0.05</td>\n",
       "    </tr>\n",
       "    <tr>\n",
       "      <th>Ha Giang</th>\n",
       "      <td>774681</td>\n",
       "      <td>245.646228</td>\n",
       "      <td>5193.757053</td>\n",
       "      <td>0.638095</td>\n",
       "      <td>2036.390991</td>\n",
       "      <td>3692.174852</td>\n",
       "      <td>0.108244</td>\n",
       "      <td>0.108244</td>\n",
       "      <td>0.072512</td>\n",
       "      <td>0.033333</td>\n",
       "      <td>...</td>\n",
       "      <td>0.178070</td>\n",
       "      <td>0.134254</td>\n",
       "      <td>6.61381</td>\n",
       "      <td>0.2697</td>\n",
       "      <td>3</td>\n",
       "      <td>0.2</td>\n",
       "      <td>0</td>\n",
       "      <td>0</td>\n",
       "      <td>1.5</td>\n",
       "      <td>0.05</td>\n",
       "    </tr>\n",
       "    <tr>\n",
       "      <th>Cao Bang</th>\n",
       "      <td>540048</td>\n",
       "      <td>247.407868</td>\n",
       "      <td>4246.666248</td>\n",
       "      <td>0.549020</td>\n",
       "      <td>2050.994873</td>\n",
       "      <td>3692.174852</td>\n",
       "      <td>0.130566</td>\n",
       "      <td>0.130566</td>\n",
       "      <td>0.047619</td>\n",
       "      <td>0.033333</td>\n",
       "      <td>...</td>\n",
       "      <td>0.220177</td>\n",
       "      <td>0.176701</td>\n",
       "      <td>7.62919</td>\n",
       "      <td>0.2697</td>\n",
       "      <td>3</td>\n",
       "      <td>0.2</td>\n",
       "      <td>0</td>\n",
       "      <td>0</td>\n",
       "      <td>1.5</td>\n",
       "      <td>0.05</td>\n",
       "    </tr>\n",
       "    <tr>\n",
       "      <th>Bac Kan</th>\n",
       "      <td>311681</td>\n",
       "      <td>267.005596</td>\n",
       "      <td>6671.464083</td>\n",
       "      <td>0.696078</td>\n",
       "      <td>2213.458740</td>\n",
       "      <td>3692.174852</td>\n",
       "      <td>0.065313</td>\n",
       "      <td>0.065313</td>\n",
       "      <td>0.036150</td>\n",
       "      <td>0.033333</td>\n",
       "      <td>...</td>\n",
       "      <td>0.194980</td>\n",
       "      <td>0.137850</td>\n",
       "      <td>6.50645</td>\n",
       "      <td>0.2697</td>\n",
       "      <td>3</td>\n",
       "      <td>0.2</td>\n",
       "      <td>0</td>\n",
       "      <td>0</td>\n",
       "      <td>1.5</td>\n",
       "      <td>0.05</td>\n",
       "    </tr>\n",
       "    <tr>\n",
       "      <th>Tuyen Quang</th>\n",
       "      <td>772231</td>\n",
       "      <td>307.017677</td>\n",
       "      <td>4314.007739</td>\n",
       "      <td>0.441441</td>\n",
       "      <td>2545.156250</td>\n",
       "      <td>3692.174852</td>\n",
       "      <td>0.074788</td>\n",
       "      <td>0.074788</td>\n",
       "      <td>0.111589</td>\n",
       "      <td>0.033333</td>\n",
       "      <td>...</td>\n",
       "      <td>0.257135</td>\n",
       "      <td>0.216141</td>\n",
       "      <td>7.26910</td>\n",
       "      <td>0.2697</td>\n",
       "      <td>3</td>\n",
       "      <td>0.2</td>\n",
       "      <td>0</td>\n",
       "      <td>0</td>\n",
       "      <td>1.5</td>\n",
       "      <td>0.05</td>\n",
       "    </tr>\n",
       "  </tbody>\n",
       "</table>\n",
       "<p>5 rows × 22 columns</p>\n",
       "</div>"
      ],
      "text/plain": [
       "                 pop          cp           cr  pov_head    gdp_pc_pp  \\\n",
       "province                                                               \n",
       "Ha Noi       6698811  601.835765  5268.983750  0.059952  4989.178711   \n",
       "Ha Giang      774681  245.646228  5193.757053  0.638095  2036.390991   \n",
       "Cao Bang      540048  247.407868  4246.666248  0.549020  2050.994873   \n",
       "Bac Kan       311681  267.005596  6671.464083  0.696078  2213.458740   \n",
       "Tuyen Quang   772231  307.017677  4314.007739  0.441441  2545.156250   \n",
       "\n",
       "             gdp_pc_pp_nat  social_p  social_r       v_p       v_r  ...   \\\n",
       "province                                                            ...    \n",
       "Ha Noi         3692.174852  0.132861  0.132861  0.033333  0.033333  ...    \n",
       "Ha Giang       3692.174852  0.108244  0.108244  0.072512  0.033333  ...    \n",
       "Cao Bang       3692.174852  0.130566  0.130566  0.047619  0.033333  ...    \n",
       "Bac Kan        3692.174852  0.065313  0.065313  0.036150  0.033333  ...    \n",
       "Tuyen Quang    3692.174852  0.074788  0.074788  0.111589  0.033333  ...    \n",
       "\n",
       "                  fap       far  protection  avg_prod_k  T_rebuild_K   pi  \\\n",
       "province                                                                    \n",
       "Ha Noi       0.488716  0.442421     8.52966      0.2697            3  0.2   \n",
       "Ha Giang     0.178070  0.134254     6.61381      0.2697            3  0.2   \n",
       "Cao Bang     0.220177  0.176701     7.62919      0.2697            3  0.2   \n",
       "Bac Kan      0.194980  0.137850     6.50645      0.2697            3  0.2   \n",
       "Tuyen Quang  0.257135  0.216141     7.26910      0.2697            3  0.2   \n",
       "\n",
       "             sigma_r  sigma_p  income_elast   rho  \n",
       "province                                           \n",
       "Ha Noi             0        0           1.5  0.05  \n",
       "Ha Giang           0        0           1.5  0.05  \n",
       "Cao Bang           0        0           1.5  0.05  \n",
       "Bac Kan            0        0           1.5  0.05  \n",
       "Tuyen Quang        0        0           1.5  0.05  \n",
       "\n",
       "[5 rows x 22 columns]"
      ]
     },
     "execution_count": 5,
     "metadata": {},
     "output_type": "execute_result"
    }
   ],
   "source": [
    "#Let's first have a look at the Excel file\n",
    "df=pd.read_excel(\"inputs/all_data_compiled.xlsx\",skiprows=[0,2], index_col=0)\n",
    "df.index.name=\"province\"\n",
    "\n",
    "df.head()"
   ]
  },
  {
   "cell_type": "code",
   "execution_count": null,
   "metadata": {
    "collapsed": false,
    "run_control": {
     "frozen": false,
     "read_only": false
    }
   },
   "outputs": [],
   "source": []
  },
  {
   "cell_type": "markdown",
   "metadata": {},
   "source": [
    "# Computing socio-economic capacity"
   ]
  },
  {
   "cell_type": "markdown",
   "metadata": {},
   "source": [
    "Now that we have minimum familiarity with dataframes, let us use the resilience model. Let us first read the function definitions, from [res_ind_lib.py](res_ind_lib.py)"
   ]
  },
  {
   "cell_type": "markdown",
   "metadata": {},
   "source": [
    "#### Loading functions"
   ]
  },
  {
   "cell_type": "code",
   "execution_count": 6,
   "metadata": {
    "ExecuteTime": {
     "end_time": "2016-03-01T17:17:55.778645",
     "start_time": "2016-03-01T17:17:55.540473"
    },
    "collapsed": false,
    "run_control": {
     "frozen": false,
     "read_only": false
    }
   },
   "outputs": [],
   "source": [
    "from res_ind_lib import *     #MAIN library: the functions used to compute risk, resilience, etc"
   ]
  },
  {
   "cell_type": "markdown",
   "metadata": {},
   "source": [
    "#### Defining reference variabes"
   ]
  },
  {
   "cell_type": "markdown",
   "metadata": {},
   "source": [
    "Before running the model, for technical reasons, we need to define \"reference\" values for some variables. The following function does it."
   ]
  },
  {
   "cell_type": "code",
   "execution_count": 7,
   "metadata": {
    "ExecuteTime": {
     "end_time": "2016-03-01T17:17:55.818672",
     "start_time": "2016-03-01T17:17:55.782648"
    },
    "collapsed": false,
    "run_control": {
     "frozen": false,
     "read_only": false
    }
   },
   "outputs": [],
   "source": [
    "df = def_ref_values(df)"
   ]
  },
  {
   "cell_type": "markdown",
   "metadata": {},
   "source": [
    "#### Assessing risk to assets, capacity, and risk to welfare"
   ]
  },
  {
   "cell_type": "markdown",
   "metadata": {},
   "source": [
    "The function compute_resiliences computes risk and capacity from all the data."
   ]
  },
  {
   "cell_type": "code",
   "execution_count": 8,
   "metadata": {
    "collapsed": false,
    "run_control": {
     "frozen": false,
     "read_only": false
    }
   },
   "outputs": [
    {
     "data": {
      "text/plain": [
       "pop              1206649.000000\n",
       "cp                   522.968702\n",
       "cr                  4970.777222\n",
       "pov_head               0.142857\n",
       "gdp_pc_pp           4335.375977\n",
       "gdp_pc_pp_nat       3692.174852\n",
       "social_p               0.137298\n",
       "social_r               0.137298\n",
       "v_p                    0.033333\n",
       "v_r                    0.033333\n",
       "shewp                  0.857143\n",
       "shewr                  0.857143\n",
       "fap                    0.287255\n",
       "far                    0.257412\n",
       "protection             6.506450\n",
       "avg_prod_k             0.269700\n",
       "T_rebuild_K            3.000000\n",
       "pi                     0.200000\n",
       "sigma_r                0.000000\n",
       "sigma_p                0.000000\n",
       "income_elast           1.500000\n",
       "rho                    0.050000\n",
       "v_s                    0.027619\n",
       "protectionref          6.506450\n",
       "Name: Quang Ninh, dtype: float64"
      ]
     },
     "execution_count": 8,
     "metadata": {},
     "output_type": "execute_result"
    }
   ],
   "source": [
    "df.ix[\"Quang Ninh\"]"
   ]
  },
  {
   "cell_type": "code",
   "execution_count": 9,
   "metadata": {
    "ExecuteTime": {
     "end_time": "2016-03-01T17:17:56.074864",
     "start_time": "2016-03-01T17:17:55.921750"
    },
    "collapsed": false,
    "run_control": {
     "frozen": false,
     "read_only": false
    },
    "scrolled": true
   },
   "outputs": [],
   "source": [
    "df_with_results=compute_resiliences(df)"
   ]
  },
  {
   "cell_type": "markdown",
   "metadata": {},
   "source": [
    "Let us look at a few inputs and outputs of that function"
   ]
  },
  {
   "cell_type": "markdown",
   "metadata": {},
   "source": [
    "Now we add a description to each column (from [inputs/inputs_info.csv](inputs/inputs_info.csv)) and save the resulting table"
   ]
  },
  {
   "cell_type": "code",
   "execution_count": 10,
   "metadata": {
    "collapsed": false,
    "run_control": {
     "frozen": false,
     "read_only": false
    }
   },
   "outputs": [
    {
     "data": {
      "text/html": [
       "<div>\n",
       "<table border=\"1\" class=\"dataframe\">\n",
       "  <thead>\n",
       "    <tr style=\"text-align: right;\">\n",
       "      <th></th>\n",
       "      <th>province</th>\n",
       "      <th>Ha Noi</th>\n",
       "      <th>Ha Giang</th>\n",
       "      <th>Cao Bang</th>\n",
       "      <th>Bac Kan</th>\n",
       "      <th>Tuyen Quang</th>\n",
       "    </tr>\n",
       "    <tr>\n",
       "      <th>description</th>\n",
       "      <th>variable</th>\n",
       "      <th></th>\n",
       "      <th></th>\n",
       "      <th></th>\n",
       "      <th></th>\n",
       "      <th></th>\n",
       "    </tr>\n",
       "  </thead>\n",
       "  <tbody>\n",
       "    <tr>\n",
       "      <th>Population</th>\n",
       "      <th>pop</th>\n",
       "      <td>6698811</td>\n",
       "      <td>774681</td>\n",
       "      <td>540048</td>\n",
       "      <td>311681</td>\n",
       "      <td>772231</td>\n",
       "    </tr>\n",
       "    <tr>\n",
       "      <th>Average income of poor families</th>\n",
       "      <th>cp</th>\n",
       "      <td>601.836</td>\n",
       "      <td>245.646</td>\n",
       "      <td>247.408</td>\n",
       "      <td>267.006</td>\n",
       "      <td>307.018</td>\n",
       "    </tr>\n",
       "    <tr>\n",
       "      <th>Average income of non poor families</th>\n",
       "      <th>cr</th>\n",
       "      <td>5268.98</td>\n",
       "      <td>5193.76</td>\n",
       "      <td>4246.67</td>\n",
       "      <td>6671.46</td>\n",
       "      <td>4314.01</td>\n",
       "    </tr>\n",
       "    <tr>\n",
       "      <th>Poverty incidence</th>\n",
       "      <th>pov_head</th>\n",
       "      <td>0.059952</td>\n",
       "      <td>0.638095</td>\n",
       "      <td>0.54902</td>\n",
       "      <td>0.696078</td>\n",
       "      <td>0.441441</td>\n",
       "    </tr>\n",
       "    <tr>\n",
       "      <th>Average income in the province</th>\n",
       "      <th>gdp_pc_pp</th>\n",
       "      <td>4989.18</td>\n",
       "      <td>2036.39</td>\n",
       "      <td>2050.99</td>\n",
       "      <td>2213.46</td>\n",
       "      <td>2545.16</td>\n",
       "    </tr>\n",
       "    <tr>\n",
       "      <th>National GDP per capita</th>\n",
       "      <th>gdp_pc_pp_nat</th>\n",
       "      <td>3692.17</td>\n",
       "      <td>3692.17</td>\n",
       "      <td>3692.17</td>\n",
       "      <td>3692.17</td>\n",
       "      <td>3692.17</td>\n",
       "    </tr>\n",
       "    <tr>\n",
       "      <th>Social protection for poor people</th>\n",
       "      <th>social_p</th>\n",
       "      <td>0.132861</td>\n",
       "      <td>0.108244</td>\n",
       "      <td>0.130566</td>\n",
       "      <td>0.0653126</td>\n",
       "      <td>0.0747878</td>\n",
       "    </tr>\n",
       "    <tr>\n",
       "      <th>Social protection for non-poor people</th>\n",
       "      <th>social_r</th>\n",
       "      <td>0.132861</td>\n",
       "      <td>0.108244</td>\n",
       "      <td>0.130566</td>\n",
       "      <td>0.0653126</td>\n",
       "      <td>0.0747878</td>\n",
       "    </tr>\n",
       "    <tr>\n",
       "      <th>Asset vulnerability (poor people)</th>\n",
       "      <th>v_p</th>\n",
       "      <td>0.0333333</td>\n",
       "      <td>0.0725124</td>\n",
       "      <td>0.047619</td>\n",
       "      <td>0.0361502</td>\n",
       "      <td>0.111589</td>\n",
       "    </tr>\n",
       "    <tr>\n",
       "      <th>Asset vulnerability (non-poor people)</th>\n",
       "      <th>v_r</th>\n",
       "      <td>0.0333333</td>\n",
       "      <td>0.0333333</td>\n",
       "      <td>0.0333333</td>\n",
       "      <td>0.0333333</td>\n",
       "      <td>0.0333333</td>\n",
       "    </tr>\n",
       "    <tr>\n",
       "      <th>Access to early warning for poor people</th>\n",
       "      <th>shewp</th>\n",
       "      <td>0.901679</td>\n",
       "      <td>0.742857</td>\n",
       "      <td>0.891089</td>\n",
       "      <td>0.9</td>\n",
       "      <td>0.881818</td>\n",
       "    </tr>\n",
       "    <tr>\n",
       "      <th>Access to early warning for nonpoor people</th>\n",
       "      <th>shewr</th>\n",
       "      <td>0.901679</td>\n",
       "      <td>0.742857</td>\n",
       "      <td>0.891089</td>\n",
       "      <td>0.9</td>\n",
       "      <td>0.881818</td>\n",
       "    </tr>\n",
       "    <tr>\n",
       "      <th>Exposure, poor people</th>\n",
       "      <th>fap</th>\n",
       "      <td>0.488716</td>\n",
       "      <td>0.17807</td>\n",
       "      <td>0.220177</td>\n",
       "      <td>0.19498</td>\n",
       "      <td>0.257135</td>\n",
       "    </tr>\n",
       "    <tr>\n",
       "      <th>Exposure, non-poor people</th>\n",
       "      <th>far</th>\n",
       "      <td>0.442421</td>\n",
       "      <td>0.134254</td>\n",
       "      <td>0.176701</td>\n",
       "      <td>0.13785</td>\n",
       "      <td>0.216141</td>\n",
       "    </tr>\n",
       "    <tr>\n",
       "      <th>Hazard (protection)</th>\n",
       "      <th>protection</th>\n",
       "      <td>8.52966</td>\n",
       "      <td>6.61381</td>\n",
       "      <td>7.62919</td>\n",
       "      <td>6.50645</td>\n",
       "      <td>7.2691</td>\n",
       "    </tr>\n",
       "    <tr>\n",
       "      <th>Productivity of capital</th>\n",
       "      <th>avg_prod_k</th>\n",
       "      <td>0.2697</td>\n",
       "      <td>0.2697</td>\n",
       "      <td>0.2697</td>\n",
       "      <td>0.2697</td>\n",
       "      <td>0.2697</td>\n",
       "    </tr>\n",
       "    <tr>\n",
       "      <th>Time to reconstruct</th>\n",
       "      <th>T_rebuild_K</th>\n",
       "      <td>3</td>\n",
       "      <td>3</td>\n",
       "      <td>3</td>\n",
       "      <td>3</td>\n",
       "      <td>3</td>\n",
       "    </tr>\n",
       "    <tr>\n",
       "      <th>Avoided losses with early warning</th>\n",
       "      <th>pi</th>\n",
       "      <td>0.2</td>\n",
       "      <td>0.2</td>\n",
       "      <td>0.2</td>\n",
       "      <td>0.2</td>\n",
       "      <td>0.2</td>\n",
       "    </tr>\n",
       "    <tr>\n",
       "      <th>Effective scale up for non-poor people</th>\n",
       "      <th>sigma_r</th>\n",
       "      <td>0</td>\n",
       "      <td>0</td>\n",
       "      <td>0</td>\n",
       "      <td>0</td>\n",
       "      <td>0</td>\n",
       "    </tr>\n",
       "    <tr>\n",
       "      <th>Effective scale up for poor people</th>\n",
       "      <th>sigma_p</th>\n",
       "      <td>0</td>\n",
       "      <td>0</td>\n",
       "      <td>0</td>\n",
       "      <td>0</td>\n",
       "      <td>0</td>\n",
       "    </tr>\n",
       "    <tr>\n",
       "      <th>Elasticity of utility</th>\n",
       "      <th>income_elast</th>\n",
       "      <td>1.5</td>\n",
       "      <td>1.5</td>\n",
       "      <td>1.5</td>\n",
       "      <td>1.5</td>\n",
       "      <td>1.5</td>\n",
       "    </tr>\n",
       "    <tr>\n",
       "      <th>Discount rate</th>\n",
       "      <th>rho</th>\n",
       "      <td>0.05</td>\n",
       "      <td>0.05</td>\n",
       "      <td>0.05</td>\n",
       "      <td>0.05</td>\n",
       "      <td>0.05</td>\n",
       "    </tr>\n",
       "    <tr>\n",
       "      <th>Asset vulnerability (shared losses)</th>\n",
       "      <th>v_s</th>\n",
       "      <td>0.0273221</td>\n",
       "      <td>0.028381</td>\n",
       "      <td>0.0273927</td>\n",
       "      <td>0.0273333</td>\n",
       "      <td>0.0274545</td>\n",
       "    </tr>\n",
       "    <tr>\n",
       "      <th>Hazard (protection)</th>\n",
       "      <th>protectionref</th>\n",
       "      <td>8.52966</td>\n",
       "      <td>6.61381</td>\n",
       "      <td>7.62919</td>\n",
       "      <td>6.50645</td>\n",
       "      <td>7.2691</td>\n",
       "    </tr>\n",
       "    <tr>\n",
       "      <th>Average asset losses per person in the event of a disaster</th>\n",
       "      <th>dK</th>\n",
       "      <td>223.783</td>\n",
       "      <td>32.9446</td>\n",
       "      <td>38.711</td>\n",
       "      <td>32.31</td>\n",
       "      <td>64.8936</td>\n",
       "    </tr>\n",
       "    <tr>\n",
       "      <th>Average welfare losses in the event of a disaster</th>\n",
       "      <th>delta_W</th>\n",
       "      <td>9.52092e-06</td>\n",
       "      <td>2.22788e-05</td>\n",
       "      <td>1.62497e-05</td>\n",
       "      <td>1.30407e-05</td>\n",
       "      <td>3.12277e-05</td>\n",
       "    </tr>\n",
       "    <tr>\n",
       "      <th>Average consumption losses for poor people in the event of a disaster</th>\n",
       "      <th>dcap</th>\n",
       "      <td>56.8278</td>\n",
       "      <td>50.6442</td>\n",
       "      <td>31.9333</td>\n",
       "      <td>27.7749</td>\n",
       "      <td>97.4025</td>\n",
       "    </tr>\n",
       "    <tr>\n",
       "      <th>Average consumption losses for nonpoor people in the event of a disaster</th>\n",
       "      <th>dcar</th>\n",
       "      <td>494.236</td>\n",
       "      <td>495.329</td>\n",
       "      <td>384.958</td>\n",
       "      <td>638.061</td>\n",
       "      <td>413.407</td>\n",
       "    </tr>\n",
       "    <tr>\n",
       "      <th>Average asset losses across persons in the event of a disaster</th>\n",
       "      <th>dKtot</th>\n",
       "      <td>1.75749e+08</td>\n",
       "      <td>3.85883e+06</td>\n",
       "      <td>2.74024e+06</td>\n",
       "      <td>1.54776e+06</td>\n",
       "      <td>6.89396e+06</td>\n",
       "    </tr>\n",
       "    <tr>\n",
       "      <th>Expected welfare losses per capita due to natural disasters</th>\n",
       "      <th>dWpc_curency</th>\n",
       "      <td>35.1832</td>\n",
       "      <td>27.6872</td>\n",
       "      <td>17.6953</td>\n",
       "      <td>18.6683</td>\n",
       "      <td>49.337</td>\n",
       "    </tr>\n",
       "    <tr>\n",
       "      <th>Total expected welfare losses due to natural disasters</th>\n",
       "      <th>dWtot_currency</th>\n",
       "      <td>2.35686e+08</td>\n",
       "      <td>2.14487e+07</td>\n",
       "      <td>9.55633e+06</td>\n",
       "      <td>5.81856e+06</td>\n",
       "      <td>3.80996e+07</td>\n",
       "    </tr>\n",
       "    <tr>\n",
       "      <th>Expected welfare losses</th>\n",
       "      <th>risk</th>\n",
       "      <td>0.0070519</td>\n",
       "      <td>0.0135962</td>\n",
       "      <td>0.00862769</td>\n",
       "      <td>0.00843401</td>\n",
       "      <td>0.0193847</td>\n",
       "    </tr>\n",
       "    <tr>\n",
       "      <th>Socio-economic capacity</th>\n",
       "      <th>resilience</th>\n",
       "      <td>0.745692</td>\n",
       "      <td>0.17991</td>\n",
       "      <td>0.286746</td>\n",
       "      <td>0.266004</td>\n",
       "      <td>0.180946</td>\n",
       "    </tr>\n",
       "    <tr>\n",
       "      <th>Risk to assets</th>\n",
       "      <th>risk_to_assets</th>\n",
       "      <td>0.00525855</td>\n",
       "      <td>0.00244609</td>\n",
       "      <td>0.00247395</td>\n",
       "      <td>0.00224348</td>\n",
       "      <td>0.00350758</td>\n",
       "    </tr>\n",
       "  </tbody>\n",
       "</table>\n",
       "</div>"
      ],
      "text/plain": [
       "province                                                                Ha Noi  \\\n",
       "description                                        variable                      \n",
       "Population                                         pop                 6698811   \n",
       " Average income of poor families                   cp                  601.836   \n",
       " Average income of non poor families               cr                  5268.98   \n",
       "Poverty incidence                                  pov_head           0.059952   \n",
       " Average income in the province                    gdp_pc_pp           4989.18   \n",
       "National GDP per capita                            gdp_pc_pp_nat       3692.17   \n",
       "Social protection for poor people                  social_p           0.132861   \n",
       "Social protection for non-poor people              social_r           0.132861   \n",
       "Asset vulnerability (poor people)                  v_p               0.0333333   \n",
       "Asset vulnerability (non-poor people)              v_r               0.0333333   \n",
       "Access to early warning for poor people            shewp              0.901679   \n",
       "Access to early warning for nonpoor people         shewr              0.901679   \n",
       "Exposure, poor people                              fap                0.488716   \n",
       "Exposure, non-poor people                          far                0.442421   \n",
       " Hazard (protection)                               protection          8.52966   \n",
       "Productivity of capital                            avg_prod_k           0.2697   \n",
       "Time to reconstruct                                T_rebuild_K               3   \n",
       "Avoided losses with early warning                  pi                      0.2   \n",
       "Effective scale up for non-poor people             sigma_r                   0   \n",
       "Effective scale up for poor people                 sigma_p                   0   \n",
       "Elasticity of utility                              income_elast            1.5   \n",
       "Discount rate                                      rho                    0.05   \n",
       "Asset vulnerability (shared losses)                v_s               0.0273221   \n",
       " Hazard (protection)                               protectionref       8.52966   \n",
       "Average asset losses per person in the event of... dK                  223.783   \n",
       "Average welfare losses in the event of a disaster  delta_W         9.52092e-06   \n",
       "Average consumption losses for poor people in t... dcap                56.8278   \n",
       "Average consumption losses for nonpoor people i... dcar                494.236   \n",
       "Average asset losses across persons in the even... dKtot           1.75749e+08   \n",
       "Expected welfare losses per capita due to natur... dWpc_curency        35.1832   \n",
       "Total expected welfare losses due to natural di... dWtot_currency  2.35686e+08   \n",
       "Expected welfare losses                            risk              0.0070519   \n",
       "Socio-economic capacity                            resilience         0.745692   \n",
       "Risk to assets                                     risk_to_assets   0.00525855   \n",
       "\n",
       "province                                                              Ha Giang  \\\n",
       "description                                        variable                      \n",
       "Population                                         pop                  774681   \n",
       " Average income of poor families                   cp                  245.646   \n",
       " Average income of non poor families               cr                  5193.76   \n",
       "Poverty incidence                                  pov_head           0.638095   \n",
       " Average income in the province                    gdp_pc_pp           2036.39   \n",
       "National GDP per capita                            gdp_pc_pp_nat       3692.17   \n",
       "Social protection for poor people                  social_p           0.108244   \n",
       "Social protection for non-poor people              social_r           0.108244   \n",
       "Asset vulnerability (poor people)                  v_p               0.0725124   \n",
       "Asset vulnerability (non-poor people)              v_r               0.0333333   \n",
       "Access to early warning for poor people            shewp              0.742857   \n",
       "Access to early warning for nonpoor people         shewr              0.742857   \n",
       "Exposure, poor people                              fap                 0.17807   \n",
       "Exposure, non-poor people                          far                0.134254   \n",
       " Hazard (protection)                               protection          6.61381   \n",
       "Productivity of capital                            avg_prod_k           0.2697   \n",
       "Time to reconstruct                                T_rebuild_K               3   \n",
       "Avoided losses with early warning                  pi                      0.2   \n",
       "Effective scale up for non-poor people             sigma_r                   0   \n",
       "Effective scale up for poor people                 sigma_p                   0   \n",
       "Elasticity of utility                              income_elast            1.5   \n",
       "Discount rate                                      rho                    0.05   \n",
       "Asset vulnerability (shared losses)                v_s                0.028381   \n",
       " Hazard (protection)                               protectionref       6.61381   \n",
       "Average asset losses per person in the event of... dK                  32.9446   \n",
       "Average welfare losses in the event of a disaster  delta_W         2.22788e-05   \n",
       "Average consumption losses for poor people in t... dcap                50.6442   \n",
       "Average consumption losses for nonpoor people i... dcar                495.329   \n",
       "Average asset losses across persons in the even... dKtot           3.85883e+06   \n",
       "Expected welfare losses per capita due to natur... dWpc_curency        27.6872   \n",
       "Total expected welfare losses due to natural di... dWtot_currency  2.14487e+07   \n",
       "Expected welfare losses                            risk              0.0135962   \n",
       "Socio-economic capacity                            resilience          0.17991   \n",
       "Risk to assets                                     risk_to_assets   0.00244609   \n",
       "\n",
       "province                                                              Cao Bang  \\\n",
       "description                                        variable                      \n",
       "Population                                         pop                  540048   \n",
       " Average income of poor families                   cp                  247.408   \n",
       " Average income of non poor families               cr                  4246.67   \n",
       "Poverty incidence                                  pov_head            0.54902   \n",
       " Average income in the province                    gdp_pc_pp           2050.99   \n",
       "National GDP per capita                            gdp_pc_pp_nat       3692.17   \n",
       "Social protection for poor people                  social_p           0.130566   \n",
       "Social protection for non-poor people              social_r           0.130566   \n",
       "Asset vulnerability (poor people)                  v_p                0.047619   \n",
       "Asset vulnerability (non-poor people)              v_r               0.0333333   \n",
       "Access to early warning for poor people            shewp              0.891089   \n",
       "Access to early warning for nonpoor people         shewr              0.891089   \n",
       "Exposure, poor people                              fap                0.220177   \n",
       "Exposure, non-poor people                          far                0.176701   \n",
       " Hazard (protection)                               protection          7.62919   \n",
       "Productivity of capital                            avg_prod_k           0.2697   \n",
       "Time to reconstruct                                T_rebuild_K               3   \n",
       "Avoided losses with early warning                  pi                      0.2   \n",
       "Effective scale up for non-poor people             sigma_r                   0   \n",
       "Effective scale up for poor people                 sigma_p                   0   \n",
       "Elasticity of utility                              income_elast            1.5   \n",
       "Discount rate                                      rho                    0.05   \n",
       "Asset vulnerability (shared losses)                v_s               0.0273927   \n",
       " Hazard (protection)                               protectionref       7.62919   \n",
       "Average asset losses per person in the event of... dK                   38.711   \n",
       "Average welfare losses in the event of a disaster  delta_W         1.62497e-05   \n",
       "Average consumption losses for poor people in t... dcap                31.9333   \n",
       "Average consumption losses for nonpoor people i... dcar                384.958   \n",
       "Average asset losses across persons in the even... dKtot           2.74024e+06   \n",
       "Expected welfare losses per capita due to natur... dWpc_curency        17.6953   \n",
       "Total expected welfare losses due to natural di... dWtot_currency  9.55633e+06   \n",
       "Expected welfare losses                            risk             0.00862769   \n",
       "Socio-economic capacity                            resilience         0.286746   \n",
       "Risk to assets                                     risk_to_assets   0.00247395   \n",
       "\n",
       "province                                                               Bac Kan  \\\n",
       "description                                        variable                      \n",
       "Population                                         pop                  311681   \n",
       " Average income of poor families                   cp                  267.006   \n",
       " Average income of non poor families               cr                  6671.46   \n",
       "Poverty incidence                                  pov_head           0.696078   \n",
       " Average income in the province                    gdp_pc_pp           2213.46   \n",
       "National GDP per capita                            gdp_pc_pp_nat       3692.17   \n",
       "Social protection for poor people                  social_p          0.0653126   \n",
       "Social protection for non-poor people              social_r          0.0653126   \n",
       "Asset vulnerability (poor people)                  v_p               0.0361502   \n",
       "Asset vulnerability (non-poor people)              v_r               0.0333333   \n",
       "Access to early warning for poor people            shewp                   0.9   \n",
       "Access to early warning for nonpoor people         shewr                   0.9   \n",
       "Exposure, poor people                              fap                 0.19498   \n",
       "Exposure, non-poor people                          far                 0.13785   \n",
       " Hazard (protection)                               protection          6.50645   \n",
       "Productivity of capital                            avg_prod_k           0.2697   \n",
       "Time to reconstruct                                T_rebuild_K               3   \n",
       "Avoided losses with early warning                  pi                      0.2   \n",
       "Effective scale up for non-poor people             sigma_r                   0   \n",
       "Effective scale up for poor people                 sigma_p                   0   \n",
       "Elasticity of utility                              income_elast            1.5   \n",
       "Discount rate                                      rho                    0.05   \n",
       "Asset vulnerability (shared losses)                v_s               0.0273333   \n",
       " Hazard (protection)                               protectionref       6.50645   \n",
       "Average asset losses per person in the event of... dK                    32.31   \n",
       "Average welfare losses in the event of a disaster  delta_W         1.30407e-05   \n",
       "Average consumption losses for poor people in t... dcap                27.7749   \n",
       "Average consumption losses for nonpoor people i... dcar                638.061   \n",
       "Average asset losses across persons in the even... dKtot           1.54776e+06   \n",
       "Expected welfare losses per capita due to natur... dWpc_curency        18.6683   \n",
       "Total expected welfare losses due to natural di... dWtot_currency  5.81856e+06   \n",
       "Expected welfare losses                            risk             0.00843401   \n",
       "Socio-economic capacity                            resilience         0.266004   \n",
       "Risk to assets                                     risk_to_assets   0.00224348   \n",
       "\n",
       "province                                                           Tuyen Quang  \n",
       "description                                        variable                     \n",
       "Population                                         pop                  772231  \n",
       " Average income of poor families                   cp                  307.018  \n",
       " Average income of non poor families               cr                  4314.01  \n",
       "Poverty incidence                                  pov_head           0.441441  \n",
       " Average income in the province                    gdp_pc_pp           2545.16  \n",
       "National GDP per capita                            gdp_pc_pp_nat       3692.17  \n",
       "Social protection for poor people                  social_p          0.0747878  \n",
       "Social protection for non-poor people              social_r          0.0747878  \n",
       "Asset vulnerability (poor people)                  v_p                0.111589  \n",
       "Asset vulnerability (non-poor people)              v_r               0.0333333  \n",
       "Access to early warning for poor people            shewp              0.881818  \n",
       "Access to early warning for nonpoor people         shewr              0.881818  \n",
       "Exposure, poor people                              fap                0.257135  \n",
       "Exposure, non-poor people                          far                0.216141  \n",
       " Hazard (protection)                               protection           7.2691  \n",
       "Productivity of capital                            avg_prod_k           0.2697  \n",
       "Time to reconstruct                                T_rebuild_K               3  \n",
       "Avoided losses with early warning                  pi                      0.2  \n",
       "Effective scale up for non-poor people             sigma_r                   0  \n",
       "Effective scale up for poor people                 sigma_p                   0  \n",
       "Elasticity of utility                              income_elast            1.5  \n",
       "Discount rate                                      rho                    0.05  \n",
       "Asset vulnerability (shared losses)                v_s               0.0274545  \n",
       " Hazard (protection)                               protectionref        7.2691  \n",
       "Average asset losses per person in the event of... dK                  64.8936  \n",
       "Average welfare losses in the event of a disaster  delta_W         3.12277e-05  \n",
       "Average consumption losses for poor people in t... dcap                97.4025  \n",
       "Average consumption losses for nonpoor people i... dcar                413.407  \n",
       "Average asset losses across persons in the even... dKtot           6.89396e+06  \n",
       "Expected welfare losses per capita due to natur... dWpc_curency         49.337  \n",
       "Total expected welfare losses due to natural di... dWtot_currency  3.80996e+07  \n",
       "Expected welfare losses                            risk              0.0193847  \n",
       "Socio-economic capacity                            resilience         0.180946  \n",
       "Risk to assets                                     risk_to_assets   0.00350758  "
      ]
     },
     "execution_count": 10,
     "metadata": {},
     "output_type": "execute_result"
    }
   ],
   "source": [
    "#read descritpion of each variable\n",
    "description = pd.read_csv(\"inputs/inputs_info.csv\", index_col=\"key\")[\"descriptor\"]\n",
    "description.head()\n",
    "\n",
    "#copy of the results\n",
    "data = df_with_results.copy()\n",
    "\n",
    "#adds description line\n",
    "data.ix[\"description\"]= description\n",
    "\n",
    "#makes that line part of the index\n",
    "data=data.T.reset_index().set_index([\"description\",\"index\"]).T\n",
    "data.columns.names = ['description', 'variable']\n",
    "\n",
    "#exports the result to a CSV file\n",
    "data.to_csv(\"results/all_data_and_results.csv\", encoding=\"utf-8\") #we call that file _simple because it does not rely on multihazard data\n",
    "\n",
    "#displays the first few provinces, transposed for ease of reading.\n",
    "data.head().T"
   ]
  },
  {
   "cell_type": "markdown",
   "metadata": {},
   "source": [
    "#### Visualizing risk to assets, capacity and risk to welfare"
   ]
  },
  {
   "cell_type": "markdown",
   "metadata": {},
   "source": [
    "Now we visualize risk and resilience acrross provinces, with plots and maps"
   ]
  },
  {
   "cell_type": "markdown",
   "metadata": {},
   "source": [
    "Socio-economic capacity can also be visualized in a map (see [draw_maps.ipynb](draw_maps.ipynb) for how to build these maps)"
   ]
  },
  {
   "cell_type": "markdown",
   "metadata": {},
   "source": [
    "![title](img/map_and_legend_of_se_capacity.png)"
   ]
  },
  {
   "cell_type": "markdown",
   "metadata": {},
   "source": [
    "# Categorizing departments"
   ]
  },
  {
   "cell_type": "markdown",
   "metadata": {},
   "source": [
    "Here we categorize provinces in 3 tiers (Low, mid, high) according to their ranking on socio-econic capacity and on overall risk to welfare. We use the functions `make_tiers` and `categories_to_formated_excel_file` from [categorize.py](categorize.py)"
   ]
  },
  {
   "cell_type": "code",
   "execution_count": 11,
   "metadata": {
    "collapsed": true,
    "run_control": {
     "frozen": false,
     "read_only": false
    }
   },
   "outputs": [],
   "source": [
    "from categorize import *"
   ]
  },
  {
   "cell_type": "code",
   "execution_count": 12,
   "metadata": {
    "collapsed": false,
    "run_control": {
     "frozen": false,
     "read_only": false
    }
   },
   "outputs": [
    {
     "data": {
      "text/plain": [
       "<matplotlib.axes._subplots.AxesSubplot at 0x9d529b0>"
      ]
     },
     "execution_count": 12,
     "metadata": {},
     "output_type": "execute_result"
    },
    {
     "data": {
      "image/png": "[encoded data removed]",
      "text/plain": [
       "<matplotlib.figure.Figure at 0x52062b0>"
      ]
     },
     "metadata": {},
     "output_type": "display_data"
    }
   ],
   "source": [
    "(100*df_with_results.resilience).sort_values(ascending=False).plot.bar(figsize=(18,6))"
   ]
  },
  {
   "cell_type": "code",
   "execution_count": 13,
   "metadata": {
    "collapsed": false,
    "run_control": {
     "frozen": false,
     "read_only": false
    }
   },
   "outputs": [
    {
     "data": {
      "text/html": [
       "<div>\n",
       "<table border=\"1\" class=\"dataframe\">\n",
       "  <thead>\n",
       "    <tr style=\"text-align: right;\">\n",
       "      <th></th>\n",
       "      <th>Socio-economic capacity</th>\n",
       "    </tr>\n",
       "    <tr>\n",
       "      <th>province</th>\n",
       "      <th></th>\n",
       "    </tr>\n",
       "  </thead>\n",
       "  <tbody>\n",
       "    <tr>\n",
       "      <th>Ha Noi</th>\n",
       "      <td>High</td>\n",
       "    </tr>\n",
       "    <tr>\n",
       "      <th>Ha Giang</th>\n",
       "      <td>NaN</td>\n",
       "    </tr>\n",
       "    <tr>\n",
       "      <th>Cao Bang</th>\n",
       "      <td>Low</td>\n",
       "    </tr>\n",
       "    <tr>\n",
       "      <th>Bac Kan</th>\n",
       "      <td>Low</td>\n",
       "    </tr>\n",
       "    <tr>\n",
       "      <th>Tuyen Quang</th>\n",
       "      <td>Low</td>\n",
       "    </tr>\n",
       "  </tbody>\n",
       "</table>\n",
       "</div>"
      ],
      "text/plain": [
       "            Socio-economic capacity\n",
       "province                           \n",
       "Ha Noi                         High\n",
       "Ha Giang                        NaN\n",
       "Cao Bang                        Low\n",
       "Bac Kan                         Low\n",
       "Tuyen Quang                     Low"
      ]
     },
     "execution_count": 13,
     "metadata": {},
     "output_type": "execute_result"
    }
   ],
   "source": [
    "se_cateroy = pd.DataFrame(pd.cut(df_with_results[\"resilience\"],df_with_results.resilience.quantile([0,1/3,2/3,1]).tolist(), labels=[\"Low\", \"Mid\", \"High\"])).rename(\n",
    "    columns=description)\n",
    "se_cateroy.head()"
   ]
  },
  {
   "cell_type": "code",
   "execution_count": 14,
   "metadata": {
    "collapsed": false,
    "run_control": {
     "frozen": false,
     "read_only": false
    }
   },
   "outputs": [],
   "source": [
    "categories_to_formated_excel_file(se_cateroy,filename=\"results/categories.xlsx\")"
   ]
  },
  {
   "cell_type": "markdown",
   "metadata": {
    "collapsed": true
   },
   "source": [
    "# Policy experiments"
   ]
  },
  {
   "cell_type": "markdown",
   "metadata": {},
   "source": [
    "Finally, the resilience indicator model can be used to asses the impact of specific policies on asset and welfare losses. In the following we provide two examples. More policy assessment are performed in [render_policy_assessment.ipynb](render_policy_assessment.ipynb)"
   ]
  },
  {
   "cell_type": "markdown",
   "metadata": {},
   "source": [
    "#### Impact of increasing the income of poor families"
   ]
  },
  {
   "cell_type": "code",
   "execution_count": 15,
   "metadata": {
    "ExecuteTime": {
     "end_time": "2016-03-01T17:17:57.069638",
     "start_time": "2016-03-01T17:17:56.865489"
    },
    "collapsed": false,
    "run_control": {
     "frozen": false,
     "read_only": false
    }
   },
   "outputs": [
    {
     "name": "stdout",
     "output_type": "stream",
     "text": [
      " Increasing the income of poor households by 5 percent in the 64 provincies would increase asset losses from 1489.95 to 1492.92 millions per year (0.2%), but reduce welfare losses by 1.3%\n"
     ]
    }
   ],
   "source": [
    "df_share1 = compute_resiliences( def_ref_values(df.dropna().assign(cp=df.cp*1.05) ))\n",
    "\n",
    "#welfare losses\n",
    "wa=df_with_results.dWtot_currency.sum()*1e-6\n",
    "wb=df_share1.dWtot_currency.sum()*1e-6\n",
    "\n",
    "#asset losses\n",
    "ka = (df_with_results.dKtot).sum()*1e-6\n",
    "kb = (df_share1.dKtot).sum()*1e-6\n",
    "\n",
    "nb_countries_all_results = df_with_results[\"resilience\"].dropna().shape[0]\n",
    "\n",
    "print(\" Increasing the income of poor households by 5 percent in the {nb} provincies \\\n",
    "would increase asset losses from {ka:0.2f} to {kb:0.2f} millions per year\\\n",
    " ({XX:.1%}), but reduce welfare losses by {YY:.1%}\".format(\n",
    "        XX=(kb-ka)/ka,ka=ka,kb=kb,YY=(wa-wb)/wa,nb=nb_countries_all_results)\n",
    "     )"
   ]
  },
  {
   "cell_type": "markdown",
   "metadata": {},
   "source": [
    "#### Impact of scaling up social protection"
   ]
  },
  {
   "cell_type": "code",
   "execution_count": 16,
   "metadata": {
    "ExecuteTime": {
     "end_time": "2016-03-01T17:17:57.227752",
     "start_time": "2016-03-01T17:17:57.073640"
    },
    "collapsed": false,
    "run_control": {
     "frozen": false,
     "read_only": false
    }
   },
   "outputs": [
    {
     "name": "stdout",
     "output_type": "stream",
     "text": [
      "Scaling up social protection to cover one third of asset losses in the 64 provincies would left asset losses unchanged (from 1489.95 to 1489.95 millions per year), but reduce welfare losses by -7%\n"
     ]
    }
   ],
   "source": [
    "df_su = compute_resiliences( df.dropna().assign(sigma_p=.33,sigma_r=0.33) )\n",
    "\n",
    "#welfare losses\n",
    "wa=df_with_results.dWtot_currency.sum()*1e-6\n",
    "wb=df_su.dWtot_currency.sum()*1e-6\n",
    "\n",
    "#asset losses\n",
    "ka = (df_with_results.dKtot).sum()*1e-6\n",
    "kb = (df_su.dKtot).sum()*1e-6\n",
    "\n",
    "print(\"Scaling up social protection to cover one third of asset losses in the {nb} provincies \\\n",
    "would left asset losses unchanged (from {ka:0.2f} to {kb:0.2f} millions per year), \\\n",
    "but reduce welfare losses by {YY:.0%}\".format(\n",
    "        XX=100*(kb-ka)/ka,ka=ka,kb=kb,YY=(wb-wa)/wb,nb=nb_countries_all_results)\n",
    "     )"
   ]
  },
  {
   "cell_type": "code",
   "execution_count": null,
   "metadata": {
    "collapsed": false,
    "run_control": {
     "frozen": false,
     "read_only": false
    }
   },
   "outputs": [],
   "source": []
  },
  {
   "cell_type": "code",
   "execution_count": null,
   "metadata": {
    "collapsed": true,
    "run_control": {
     "frozen": false,
     "read_only": false
    }
   },
   "outputs": [],
   "source": []
  },
  {
   "cell_type": "code",
   "execution_count": null,
   "metadata": {
    "collapsed": true
   },
   "outputs": [],
   "source": []
  }
 ],
 "metadata": {
  "kernelspec": {
   "display_name": "Python 3",
   "language": "python",
   "name": "python3"
  },
  "language_info": {
   "codemirror_mode": {
    "name": "ipython",
    "version": 3
   },
   "file_extension": ".py",
   "mimetype": "text/x-python",
   "name": "python",
   "nbconvert_exporter": "python",
   "pygments_lexer": "ipython3",
   "version": "3.4.4"
  },
  "nav_menu": {},
  "toc": {
   "navigate_menu": true,
   "number_sections": true,
   "sideBar": true,
   "threshold": 6,
   "toc_cell": false,
   "toc_section_display": "block",
   "toc_window_display": true
  }
 },
 "nbformat": 4,
 "nbformat_minor": 0
}
