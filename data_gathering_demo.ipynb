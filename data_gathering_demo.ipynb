{
 "cells": [
  {
   "cell_type": "markdown",
   "metadata": {},
   "source": [
    "This notebook demonstrates how Python can be used to gather and adapt data from different sources."
   ]
  },
  {
   "cell_type": "markdown",
   "metadata": {},
   "source": [
    "#### Technical settings for this notebook (Newcommers ignore this)"
   ]
  },
  {
   "cell_type": "markdown",
   "metadata": {},
   "source": [
    "This first lines sets technical options for the python notebook. "
   ]
  },
  {
   "cell_type": "code",
   "execution_count": 1,
   "metadata": {
    "collapsed": false
   },
   "outputs": [],
   "source": [
    "#clears memory for a fresh start\n",
    "%reset-f\n",
    "\n",
    "#ask python to reload the function definitons each time before executing the functions\n",
    "%load_ext autoreload  \n",
    "%autoreload 2"
   ]
  },
  {
   "cell_type": "markdown",
   "metadata": {},
   "source": [
    "#### Loading functions"
   ]
  },
  {
   "cell_type": "markdown",
   "metadata": {},
   "source": [
    "We then import function librairies. The first ones are standard python librairies."
   ]
  },
  {
   "cell_type": "code",
   "execution_count": 2,
   "metadata": {
    "collapsed": true
   },
   "outputs": [],
   "source": [
    "import pandas as pd  #The main package we use. Manipulates Excel-like tables (called dataframes) with named rows and columns\n",
    "import numpy as np   #standard mathematical functions and capablities such as log, exp, linear interpolation, etc\n"
   ]
  },
  {
   "cell_type": "markdown",
   "metadata": {},
   "source": [
    "# Loading socio-economic data"
   ]
  },
  {
   "cell_type": "markdown",
   "metadata": {},
   "source": [
    "Now we read the excel data into a pandas table (called DataFrame).\n",
    "We start from an Excel file that contains socio-economic data. This file may for instance be populated by PSA."
   ]
  },
  {
   "cell_type": "code",
   "execution_count": 3,
   "metadata": {
    "collapsed": false
   },
   "outputs": [
    {
     "data": {
      "text/html": [
       "<div>\n",
       "<table border=\"1\" class=\"dataframe\">\n",
       "  <thead>\n",
       "    <tr style=\"text-align: right;\">\n",
       "      <th></th>\n",
       "      <th>Region</th>\n",
       "      <th>Region PSGC</th>\n",
       "      <th>Province PSGC</th>\n",
       "      <th>GRDPC 2012 (At Current Prices)</th>\n",
       "      <th>Projected Population 2012</th>\n",
       "      <th>Average Annual Family Income, 2009</th>\n",
       "      <th>Average Annual  Family Income, by Region, 2012</th>\n",
       "      <th>% Wages and salaries 2012</th>\n",
       "      <th>% Entrepreneurial  activities 2012</th>\n",
       "      <th>% Other sources of income 2012</th>\n",
       "      <th>...</th>\n",
       "      <th>% Others Deposits 2012</th>\n",
       "      <th>% Health Expenditure 2012</th>\n",
       "      <th>% of Births by Attended Skilled Health Personnel 2012</th>\n",
       "      <th>% hh with radio 2012</th>\n",
       "      <th>% hh with landlines 2012</th>\n",
       "      <th>% hh with cellular phones 2012</th>\n",
       "      <th>Public Schools, Elementary, 2012-2013</th>\n",
       "      <th>Public Schools, Secondary, 2012-2013</th>\n",
       "      <th>Estimated QRF 2012</th>\n",
       "      <th>Estimated LDRRM Fund 2012</th>\n",
       "    </tr>\n",
       "    <tr>\n",
       "      <th>Province</th>\n",
       "      <th></th>\n",
       "      <th></th>\n",
       "      <th></th>\n",
       "      <th></th>\n",
       "      <th></th>\n",
       "      <th></th>\n",
       "      <th></th>\n",
       "      <th></th>\n",
       "      <th></th>\n",
       "      <th></th>\n",
       "      <th></th>\n",
       "      <th></th>\n",
       "      <th></th>\n",
       "      <th></th>\n",
       "      <th></th>\n",
       "      <th></th>\n",
       "      <th></th>\n",
       "      <th></th>\n",
       "      <th></th>\n",
       "      <th></th>\n",
       "      <th></th>\n",
       "    </tr>\n",
       "  </thead>\n",
       "  <tbody>\n",
       "    <tr>\n",
       "      <th>Abra</th>\n",
       "      <td>CAR</td>\n",
       "      <td>14</td>\n",
       "      <td>1401</td>\n",
       "      <td>126843</td>\n",
       "      <td>240135.244121</td>\n",
       "      <td>133688</td>\n",
       "      <td>257000</td>\n",
       "      <td>0.343701</td>\n",
       "      <td>0.247626</td>\n",
       "      <td>0.297152</td>\n",
       "      <td>...</td>\n",
       "      <td>0.002270</td>\n",
       "      <td>0.031414</td>\n",
       "      <td>0.857720</td>\n",
       "      <td>0.652174</td>\n",
       "      <td>0.062112</td>\n",
       "      <td>0.953416</td>\n",
       "      <td>277</td>\n",
       "      <td>33</td>\n",
       "      <td>31746830.14320</td>\n",
       "      <td>1.058228e+08</td>\n",
       "    </tr>\n",
       "    <tr>\n",
       "      <th>Agusan Del Norte</th>\n",
       "      <td>CARAGA</td>\n",
       "      <td>16</td>\n",
       "      <td>1602</td>\n",
       "      <td>48954</td>\n",
       "      <td>661728.454375</td>\n",
       "      <td>179014</td>\n",
       "      <td>180000</td>\n",
       "      <td>0.387500</td>\n",
       "      <td>0.224497</td>\n",
       "      <td>0.298354</td>\n",
       "      <td>...</td>\n",
       "      <td>0.000045</td>\n",
       "      <td>0.034563</td>\n",
       "      <td>0.921445</td>\n",
       "      <td>0.395745</td>\n",
       "      <td>0.027660</td>\n",
       "      <td>0.821277</td>\n",
       "      <td>293</td>\n",
       "      <td>86</td>\n",
       "      <td>40128811.09725</td>\n",
       "      <td>1.337627e+08</td>\n",
       "    </tr>\n",
       "    <tr>\n",
       "      <th>Agusan Del Sur</th>\n",
       "      <td>CARAGA</td>\n",
       "      <td>16</td>\n",
       "      <td>1603</td>\n",
       "      <td>48954</td>\n",
       "      <td>677779.682154</td>\n",
       "      <td>126492</td>\n",
       "      <td>180000</td>\n",
       "      <td>0.387500</td>\n",
       "      <td>0.224497</td>\n",
       "      <td>0.298354</td>\n",
       "      <td>...</td>\n",
       "      <td>0.000552</td>\n",
       "      <td>0.034563</td>\n",
       "      <td>0.727442</td>\n",
       "      <td>0.395745</td>\n",
       "      <td>0.027660</td>\n",
       "      <td>0.821277</td>\n",
       "      <td>483</td>\n",
       "      <td>95</td>\n",
       "      <td>50795871.21195</td>\n",
       "      <td>1.693196e+08</td>\n",
       "    </tr>\n",
       "    <tr>\n",
       "      <th>Aklan</th>\n",
       "      <td>6</td>\n",
       "      <td>6</td>\n",
       "      <td>604</td>\n",
       "      <td>57801</td>\n",
       "      <td>554414.442422</td>\n",
       "      <td>119962</td>\n",
       "      <td>202000</td>\n",
       "      <td>0.371111</td>\n",
       "      <td>0.195986</td>\n",
       "      <td>0.374721</td>\n",
       "      <td>...</td>\n",
       "      <td>0.000133</td>\n",
       "      <td>0.044318</td>\n",
       "      <td>0.806176</td>\n",
       "      <td>0.548898</td>\n",
       "      <td>0.069559</td>\n",
       "      <td>0.823003</td>\n",
       "      <td>320</td>\n",
       "      <td>70</td>\n",
       "      <td>34597652.21625</td>\n",
       "      <td>1.153255e+08</td>\n",
       "    </tr>\n",
       "    <tr>\n",
       "      <th>Albay</th>\n",
       "      <td>5</td>\n",
       "      <td>5</td>\n",
       "      <td>505</td>\n",
       "      <td>38870</td>\n",
       "      <td>1264097.894966</td>\n",
       "      <td>158629</td>\n",
       "      <td>162000</td>\n",
       "      <td>0.384548</td>\n",
       "      <td>0.211663</td>\n",
       "      <td>0.335946</td>\n",
       "      <td>...</td>\n",
       "      <td>0.003677</td>\n",
       "      <td>0.032568</td>\n",
       "      <td>0.840840</td>\n",
       "      <td>0.514019</td>\n",
       "      <td>0.024299</td>\n",
       "      <td>0.800000</td>\n",
       "      <td>601</td>\n",
       "      <td>122</td>\n",
       "      <td>61822427.32725</td>\n",
       "      <td>2.060748e+08</td>\n",
       "    </tr>\n",
       "  </tbody>\n",
       "</table>\n",
       "<p>5 rows × 58 columns</p>\n",
       "</div>"
      ],
      "text/plain": [
       "                  Region  Region PSGC  Province PSGC  \\\n",
       "Province                                               \n",
       "Abra                 CAR           14           1401   \n",
       "Agusan Del Norte  CARAGA           16           1602   \n",
       "Agusan Del Sur    CARAGA           16           1603   \n",
       "Aklan                  6            6            604   \n",
       "Albay                  5            5            505   \n",
       "\n",
       "                  GRDPC 2012 (At Current Prices)  Projected Population 2012  \\\n",
       "Province                                                                      \n",
       "Abra                                      126843              240135.244121   \n",
       "Agusan Del Norte                           48954              661728.454375   \n",
       "Agusan Del Sur                             48954              677779.682154   \n",
       "Aklan                                      57801              554414.442422   \n",
       "Albay                                      38870             1264097.894966   \n",
       "\n",
       "                  Average Annual Family Income, 2009  \\\n",
       "Province                                               \n",
       "Abra                                          133688   \n",
       "Agusan Del Norte                              179014   \n",
       "Agusan Del Sur                                126492   \n",
       "Aklan                                         119962   \n",
       "Albay                                         158629   \n",
       "\n",
       "                  Average Annual  Family Income, by Region, 2012  \\\n",
       "Province                                                           \n",
       "Abra                                                      257000   \n",
       "Agusan Del Norte                                          180000   \n",
       "Agusan Del Sur                                            180000   \n",
       "Aklan                                                     202000   \n",
       "Albay                                                     162000   \n",
       "\n",
       "                  % Wages and salaries 2012  \\\n",
       "Province                                      \n",
       "Abra                               0.343701   \n",
       "Agusan Del Norte                   0.387500   \n",
       "Agusan Del Sur                     0.387500   \n",
       "Aklan                              0.371111   \n",
       "Albay                              0.384548   \n",
       "\n",
       "                  % Entrepreneurial  activities 2012  \\\n",
       "Province                                               \n",
       "Abra                                        0.247626   \n",
       "Agusan Del Norte                            0.224497   \n",
       "Agusan Del Sur                              0.224497   \n",
       "Aklan                                       0.195986   \n",
       "Albay                                       0.211663   \n",
       "\n",
       "                  % Other sources of income 2012            ...              \\\n",
       "Province                                                    ...               \n",
       "Abra                                    0.297152            ...               \n",
       "Agusan Del Norte                        0.298354            ...               \n",
       "Agusan Del Sur                          0.298354            ...               \n",
       "Aklan                                   0.374721            ...               \n",
       "Albay                                   0.335946            ...               \n",
       "\n",
       "                  % Others Deposits 2012  % Health Expenditure 2012  \\\n",
       "Province                                                              \n",
       "Abra                            0.002270                   0.031414   \n",
       "Agusan Del Norte                0.000045                   0.034563   \n",
       "Agusan Del Sur                  0.000552                   0.034563   \n",
       "Aklan                           0.000133                   0.044318   \n",
       "Albay                           0.003677                   0.032568   \n",
       "\n",
       "                  % of Births by Attended Skilled Health Personnel 2012  \\\n",
       "Province                                                                  \n",
       "Abra                                                       0.857720       \n",
       "Agusan Del Norte                                           0.921445       \n",
       "Agusan Del Sur                                             0.727442       \n",
       "Aklan                                                      0.806176       \n",
       "Albay                                                      0.840840       \n",
       "\n",
       "                  % hh with radio 2012  % hh with landlines 2012  \\\n",
       "Province                                                           \n",
       "Abra                          0.652174                  0.062112   \n",
       "Agusan Del Norte              0.395745                  0.027660   \n",
       "Agusan Del Sur                0.395745                  0.027660   \n",
       "Aklan                         0.548898                  0.069559   \n",
       "Albay                         0.514019                  0.024299   \n",
       "\n",
       "                  % hh with cellular phones 2012  \\\n",
       "Province                                           \n",
       "Abra                                    0.953416   \n",
       "Agusan Del Norte                        0.821277   \n",
       "Agusan Del Sur                          0.821277   \n",
       "Aklan                                   0.823003   \n",
       "Albay                                   0.800000   \n",
       "\n",
       "                  Public Schools, Elementary, 2012-2013   \\\n",
       "Province                                                   \n",
       "Abra                                                 277   \n",
       "Agusan Del Norte                                     293   \n",
       "Agusan Del Sur                                       483   \n",
       "Aklan                                                320   \n",
       "Albay                                                601   \n",
       "\n",
       "                  Public Schools, Secondary, 2012-2013   Estimated QRF 2012  \\\n",
       "Province                                                                      \n",
       "Abra                                                 33      31746830.14320   \n",
       "Agusan Del Norte                                     86      40128811.09725   \n",
       "Agusan Del Sur                                       95      50795871.21195   \n",
       "Aklan                                                70      34597652.21625   \n",
       "Albay                                               122      61822427.32725   \n",
       "\n",
       "                  Estimated LDRRM Fund 2012  \n",
       "Province                                     \n",
       "Abra                           1.058228e+08  \n",
       "Agusan Del Norte               1.337627e+08  \n",
       "Agusan Del Sur                 1.693196e+08  \n",
       "Aklan                          1.153255e+08  \n",
       "Albay                          2.060748e+08  \n",
       "\n",
       "[5 rows x 58 columns]"
      ]
     },
     "execution_count": 3,
     "metadata": {},
     "output_type": "execute_result"
    }
   ],
   "source": [
    "data_from_excel= pd.read_excel(\"inputs/input_data_Feb2016.xlsx\", \n",
    "                        sheetname=\"Consolidated (2012)\",\n",
    "                               index_col=\"Province\",#column to use as index\n",
    "                               header=1, #skips the first line of the excel file\n",
    "                                );\n",
    "data_from_excel.index = data_from_excel.index.str.title() #fixes the case of province names in the Excel file\n",
    "data_from_excel.head() #shows the first lines of the table"
   ]
  },
  {
   "cell_type": "markdown",
   "metadata": {},
   "source": [
    "### Matching columns in the Excel file to variables in the model"
   ]
  },
  {
   "cell_type": "markdown",
   "metadata": {
    "collapsed": true
   },
   "source": [
    "#### pov_head, \tunemp, \tplgp, \tpop, \tbashs,\tophe, \tgdp_pc_pp"
   ]
  },
  {
   "cell_type": "markdown",
   "metadata": {},
   "source": [
    "Some of the data in the Excel file match directly data in the model. We can transform this directly using a simple table matching the name in the Excel file to the name in the model"
   ]
  },
  {
   "cell_type": "code",
   "execution_count": 4,
   "metadata": {
    "collapsed": false
   },
   "outputs": [
    {
     "data": {
      "text/plain": [
       "name_in_data\n",
       "Average Annual Family Income, 2009                                          gdp_pc_pp\n",
       "Projected Population 2012                                                         pop\n",
       "Cohort Survival Rate in Public Elementary Schools, School Year 2012-2013         plgp\n",
       "Underemployment Rate 2012                                                       unemp\n",
       "% of Births by Attended Skilled Health Personnel 2012                           bashs\n",
       "Poverty Incidence among Population (%), 2012                                 pov_head\n",
       "% hh with cellular phones 2012                                                   shew\n",
       "% Health Expenditure 2012                                                        ophe\n",
       "Name: name_in_model, dtype: object"
      ]
     },
     "execution_count": 4,
     "metadata": {},
     "output_type": "execute_result"
    }
   ],
   "source": [
    "#reads the CSV file that matches names in excel ot names in the model\n",
    "data_source_matching =pd.read_csv(\"inputs/data_source_matching.csv\", index_col=\"name_in_data\", squeeze=True)\n",
    "data_source_matching"
   ]
  },
  {
   "cell_type": "code",
   "execution_count": 5,
   "metadata": {
    "collapsed": false
   },
   "outputs": [
    {
     "data": {
      "text/html": [
       "<div>\n",
       "<table border=\"1\" class=\"dataframe\">\n",
       "  <thead>\n",
       "    <tr style=\"text-align: right;\">\n",
       "      <th></th>\n",
       "      <th>gdp_pc_pp</th>\n",
       "      <th>pop</th>\n",
       "      <th>plgp</th>\n",
       "      <th>unemp</th>\n",
       "      <th>bashs</th>\n",
       "      <th>pov_head</th>\n",
       "      <th>shew</th>\n",
       "      <th>ophe</th>\n",
       "    </tr>\n",
       "    <tr>\n",
       "      <th>Province</th>\n",
       "      <th></th>\n",
       "      <th></th>\n",
       "      <th></th>\n",
       "      <th></th>\n",
       "      <th></th>\n",
       "      <th></th>\n",
       "      <th></th>\n",
       "      <th></th>\n",
       "    </tr>\n",
       "  </thead>\n",
       "  <tbody>\n",
       "    <tr>\n",
       "      <th>Abra</th>\n",
       "      <td>133688</td>\n",
       "      <td>240135.244121</td>\n",
       "      <td>0.8827</td>\n",
       "      <td>0.165</td>\n",
       "      <td>0.857720</td>\n",
       "      <td>0.373595</td>\n",
       "      <td>0.953416</td>\n",
       "      <td>0.031414</td>\n",
       "    </tr>\n",
       "    <tr>\n",
       "      <th>Agusan Del Norte</th>\n",
       "      <td>179014</td>\n",
       "      <td>661728.454375</td>\n",
       "      <td>0.7075</td>\n",
       "      <td>0.210</td>\n",
       "      <td>0.921445</td>\n",
       "      <td>0.346715</td>\n",
       "      <td>0.821277</td>\n",
       "      <td>0.034563</td>\n",
       "    </tr>\n",
       "    <tr>\n",
       "      <th>Agusan Del Sur</th>\n",
       "      <td>126492</td>\n",
       "      <td>677779.682154</td>\n",
       "      <td>0.6871</td>\n",
       "      <td>0.210</td>\n",
       "      <td>0.727442</td>\n",
       "      <td>0.480785</td>\n",
       "      <td>0.821277</td>\n",
       "      <td>0.034563</td>\n",
       "    </tr>\n",
       "    <tr>\n",
       "      <th>Aklan</th>\n",
       "      <td>119962</td>\n",
       "      <td>554414.442422</td>\n",
       "      <td>0.7210</td>\n",
       "      <td>0.188</td>\n",
       "      <td>0.806176</td>\n",
       "      <td>0.249662</td>\n",
       "      <td>0.823003</td>\n",
       "      <td>0.044318</td>\n",
       "    </tr>\n",
       "    <tr>\n",
       "      <th>Albay</th>\n",
       "      <td>158629</td>\n",
       "      <td>1264097.894966</td>\n",
       "      <td>0.7930</td>\n",
       "      <td>0.346</td>\n",
       "      <td>0.840840</td>\n",
       "      <td>0.409587</td>\n",
       "      <td>0.800000</td>\n",
       "      <td>0.032568</td>\n",
       "    </tr>\n",
       "  </tbody>\n",
       "</table>\n",
       "</div>"
      ],
      "text/plain": [
       "                  gdp_pc_pp             pop    plgp  unemp     bashs  \\\n",
       "Province                                                               \n",
       "Abra                 133688   240135.244121  0.8827  0.165  0.857720   \n",
       "Agusan Del Norte     179014   661728.454375  0.7075  0.210  0.921445   \n",
       "Agusan Del Sur       126492   677779.682154  0.6871  0.210  0.727442   \n",
       "Aklan                119962   554414.442422  0.7210  0.188  0.806176   \n",
       "Albay                158629  1264097.894966  0.7930  0.346  0.840840   \n",
       "\n",
       "                  pov_head      shew      ophe  \n",
       "Province                                        \n",
       "Abra              0.373595  0.953416  0.031414  \n",
       "Agusan Del Norte  0.346715  0.821277  0.034563  \n",
       "Agusan Del Sur    0.480785  0.821277  0.034563  \n",
       "Aklan             0.249662  0.823003  0.044318  \n",
       "Albay             0.409587  0.800000  0.032568  "
      ]
     },
     "execution_count": 5,
     "metadata": {},
     "output_type": "execute_result"
    }
   ],
   "source": [
    "#keeps only the colomns listed in data_source_matching and renames those columns to their name in the model\n",
    "df=data_from_excel[data_source_matching.index].rename(columns=data_source_matching)\n",
    "df.head()"
   ]
  },
  {
   "cell_type": "markdown",
   "metadata": {},
   "source": [
    "##### Adapting the data on income and poverty"
   ]
  },
  {
   "cell_type": "markdown",
   "metadata": {},
   "source": [
    "The model needs income information in each province to be provided relative to the average income in the Philippines.\n",
    "Witin each province, we need the income of the poor and nonpoor households relative to the average income in the province."
   ]
  },
  {
   "cell_type": "code",
   "execution_count": 6,
   "metadata": {
    "collapsed": false
   },
   "outputs": [],
   "source": [
    "#Changes the unit of GDP to thousands of pesos (technical: to reduce risk of float overflows when computing welfare)\n",
    "df[\"gdp_pc_pp\"]/=1e3\n",
    "\n",
    "#National average income (to express welfare losses in pesos)\n",
    "df[\"gdp_pc_pp_nat\"] = np.average(df.dropna().gdp_pc_pp,  weights=df.dropna()[\"pop\"]) #note that we have to manually remove the lines with missing data (.dropna()) because numpy doe snot handle missing data\n",
    "\n",
    "#Average income of poor households (from WB data)\n",
    "wp=50\n",
    "\n",
    "#Relative income of the province and poor families in those provinces\n",
    "df[\"rel_gdp_pp\"]=df[\"gdp_pc_pp\"]/df[\"gdp_pc_pp_nat\"]\n",
    "df[\"share1\"]=wp/df[\"gdp_pc_pp\"]\n"
   ]
  },
  {
   "cell_type": "markdown",
   "metadata": {},
   "source": [
    "#### Access to savings, transfers"
   ]
  },
  {
   "cell_type": "markdown",
   "metadata": {},
   "source": [
    "Some other model variables do not match directly one column in the data.\n"
   ]
  },
  {
   "cell_type": "code",
   "execution_count": 7,
   "metadata": {
    "collapsed": false
   },
   "outputs": [
    {
     "data": {
      "text/html": [
       "<div>\n",
       "<table border=\"1\" class=\"dataframe\">\n",
       "  <thead>\n",
       "    <tr style=\"text-align: right;\">\n",
       "      <th></th>\n",
       "      <th>gdp_pc_pp</th>\n",
       "      <th>pop</th>\n",
       "      <th>plgp</th>\n",
       "      <th>unemp</th>\n",
       "      <th>bashs</th>\n",
       "      <th>pov_head</th>\n",
       "      <th>shew</th>\n",
       "      <th>ophe</th>\n",
       "      <th>gdp_pc_pp_nat</th>\n",
       "      <th>rel_gdp_pp</th>\n",
       "      <th>share1</th>\n",
       "      <th>axfin_p</th>\n",
       "      <th>axfin_r</th>\n",
       "      <th>social_p</th>\n",
       "      <th>social_r</th>\n",
       "    </tr>\n",
       "    <tr>\n",
       "      <th>Province</th>\n",
       "      <th></th>\n",
       "      <th></th>\n",
       "      <th></th>\n",
       "      <th></th>\n",
       "      <th></th>\n",
       "      <th></th>\n",
       "      <th></th>\n",
       "      <th></th>\n",
       "      <th></th>\n",
       "      <th></th>\n",
       "      <th></th>\n",
       "      <th></th>\n",
       "      <th></th>\n",
       "      <th></th>\n",
       "      <th></th>\n",
       "    </tr>\n",
       "  </thead>\n",
       "  <tbody>\n",
       "    <tr>\n",
       "      <th>Abra</th>\n",
       "      <td>133.688</td>\n",
       "      <td>240135.244121</td>\n",
       "      <td>0.8827</td>\n",
       "      <td>0.165</td>\n",
       "      <td>0.857720</td>\n",
       "      <td>0.373595</td>\n",
       "      <td>0.953416</td>\n",
       "      <td>0.031414</td>\n",
       "      <td>184.136685</td>\n",
       "      <td>0.726026</td>\n",
       "      <td>0.374005</td>\n",
       "      <td>0.693233</td>\n",
       "      <td>0.693233</td>\n",
       "      <td>0.408683</td>\n",
       "      <td>0.408683</td>\n",
       "    </tr>\n",
       "    <tr>\n",
       "      <th>Agusan Del Norte</th>\n",
       "      <td>179.014</td>\n",
       "      <td>661728.454375</td>\n",
       "      <td>0.7075</td>\n",
       "      <td>0.210</td>\n",
       "      <td>0.921445</td>\n",
       "      <td>0.346715</td>\n",
       "      <td>0.821277</td>\n",
       "      <td>0.034563</td>\n",
       "      <td>184.136685</td>\n",
       "      <td>0.972180</td>\n",
       "      <td>0.279308</td>\n",
       "      <td>0.496880</td>\n",
       "      <td>0.496880</td>\n",
       "      <td>0.388003</td>\n",
       "      <td>0.388003</td>\n",
       "    </tr>\n",
       "    <tr>\n",
       "      <th>Agusan Del Sur</th>\n",
       "      <td>126.492</td>\n",
       "      <td>677779.682154</td>\n",
       "      <td>0.6871</td>\n",
       "      <td>0.210</td>\n",
       "      <td>0.727442</td>\n",
       "      <td>0.480785</td>\n",
       "      <td>0.821277</td>\n",
       "      <td>0.034563</td>\n",
       "      <td>184.136685</td>\n",
       "      <td>0.686946</td>\n",
       "      <td>0.395282</td>\n",
       "      <td>0.475969</td>\n",
       "      <td>0.475969</td>\n",
       "      <td>0.388003</td>\n",
       "      <td>0.388003</td>\n",
       "    </tr>\n",
       "    <tr>\n",
       "      <th>Aklan</th>\n",
       "      <td>119.962</td>\n",
       "      <td>554414.442422</td>\n",
       "      <td>0.7210</td>\n",
       "      <td>0.188</td>\n",
       "      <td>0.806176</td>\n",
       "      <td>0.249662</td>\n",
       "      <td>0.823003</td>\n",
       "      <td>0.044318</td>\n",
       "      <td>184.136685</td>\n",
       "      <td>0.651483</td>\n",
       "      <td>0.416799</td>\n",
       "      <td>0.660083</td>\n",
       "      <td>0.660083</td>\n",
       "      <td>0.432903</td>\n",
       "      <td>0.432903</td>\n",
       "    </tr>\n",
       "    <tr>\n",
       "      <th>Albay</th>\n",
       "      <td>158.629</td>\n",
       "      <td>1264097.894966</td>\n",
       "      <td>0.7930</td>\n",
       "      <td>0.346</td>\n",
       "      <td>0.840840</td>\n",
       "      <td>0.409587</td>\n",
       "      <td>0.800000</td>\n",
       "      <td>0.032568</td>\n",
       "      <td>184.136685</td>\n",
       "      <td>0.861474</td>\n",
       "      <td>0.315201</td>\n",
       "      <td>0.551314</td>\n",
       "      <td>0.551314</td>\n",
       "      <td>0.403794</td>\n",
       "      <td>0.403794</td>\n",
       "    </tr>\n",
       "  </tbody>\n",
       "</table>\n",
       "</div>"
      ],
      "text/plain": [
       "                  gdp_pc_pp             pop    plgp  unemp     bashs  \\\n",
       "Province                                                               \n",
       "Abra                133.688   240135.244121  0.8827  0.165  0.857720   \n",
       "Agusan Del Norte    179.014   661728.454375  0.7075  0.210  0.921445   \n",
       "Agusan Del Sur      126.492   677779.682154  0.6871  0.210  0.727442   \n",
       "Aklan               119.962   554414.442422  0.7210  0.188  0.806176   \n",
       "Albay               158.629  1264097.894966  0.7930  0.346  0.840840   \n",
       "\n",
       "                  pov_head      shew      ophe  gdp_pc_pp_nat  rel_gdp_pp  \\\n",
       "Province                                                                    \n",
       "Abra              0.373595  0.953416  0.031414     184.136685    0.726026   \n",
       "Agusan Del Norte  0.346715  0.821277  0.034563     184.136685    0.972180   \n",
       "Agusan Del Sur    0.480785  0.821277  0.034563     184.136685    0.686946   \n",
       "Aklan             0.249662  0.823003  0.044318     184.136685    0.651483   \n",
       "Albay             0.409587  0.800000  0.032568     184.136685    0.861474   \n",
       "\n",
       "                    share1   axfin_p   axfin_r  social_p  social_r  \n",
       "Province                                                            \n",
       "Abra              0.374005  0.693233  0.693233  0.408683  0.408683  \n",
       "Agusan Del Norte  0.279308  0.496880  0.496880  0.388003  0.388003  \n",
       "Agusan Del Sur    0.395282  0.475969  0.475969  0.388003  0.388003  \n",
       "Aklan             0.416799  0.660083  0.660083  0.432903  0.432903  \n",
       "Albay             0.315201  0.551314  0.551314  0.403794  0.403794  "
      ]
     },
     "execution_count": 7,
     "metadata": {},
     "output_type": "execute_result"
    }
   ],
   "source": [
    "#acess to bank accounts : we use the same value for poor and nonpoor households\n",
    "df[\"axfin_p\"]=df[\"axfin_r\"]=data_from_excel[\"%Savings Deposit 2012\"]\n",
    "\n",
    "#share of income from transfers: we use the same value for poor and nonpoor, and we sum two columns of the input data\n",
    "df[\"social_p\"]=df[\"social_r\"]=data_from_excel[[\"% Other sources of income 2012\",\"% Other receipts 2012\"]].sum(axis=1)\n",
    "\n",
    "df.head()"
   ]
  },
  {
   "cell_type": "code",
   "execution_count": 8,
   "metadata": {
    "collapsed": false
   },
   "outputs": [],
   "source": [
    "#acces to health as a reduction of health care costs\n",
    "\n",
    "f_health_cost = 0.1 #fraction of income lost when hit\n",
    "f_heath_covered=0.5 #reduction of health costs thanks to professional treatement\n",
    "\n",
    "df[\"axhealth\"]=  f_health_cost*(1-df.bashs)+df.bashs*f_health_cost*f_heath_covered*df.ophe\n"
   ]
  },
  {
   "cell_type": "markdown",
   "metadata": {},
   "source": [
    "# Loading data on exposure, hazard, and protection"
   ]
  },
  {
   "cell_type": "markdown",
   "metadata": {},
   "source": [
    "### Exposure (population in flood-prone areas)"
   ]
  },
  {
   "cell_type": "markdown",
   "metadata": {},
   "source": [
    "Exposure comes from a different file, for instance it could be provided by DOST."
   ]
  },
  {
   "cell_type": "code",
   "execution_count": 9,
   "metadata": {
    "collapsed": false
   },
   "outputs": [
    {
     "data": {
      "text/html": [
       "<div>\n",
       "<table border=\"1\" class=\"dataframe\">\n",
       "  <thead>\n",
       "    <tr style=\"text-align: right;\">\n",
       "      <th></th>\n",
       "      <th>rp10_pop</th>\n",
       "      <th>rp100_pop</th>\n",
       "    </tr>\n",
       "    <tr>\n",
       "      <th>NAME_1</th>\n",
       "      <th></th>\n",
       "      <th></th>\n",
       "    </tr>\n",
       "  </thead>\n",
       "  <tbody>\n",
       "    <tr>\n",
       "      <th>Abra</th>\n",
       "      <td>0.1641</td>\n",
       "      <td>0.2977</td>\n",
       "    </tr>\n",
       "    <tr>\n",
       "      <th>Agusan Del Norte</th>\n",
       "      <td>0.3180</td>\n",
       "      <td>0.3440</td>\n",
       "    </tr>\n",
       "    <tr>\n",
       "      <th>Agusan Del Sur</th>\n",
       "      <td>0.1146</td>\n",
       "      <td>0.1531</td>\n",
       "    </tr>\n",
       "    <tr>\n",
       "      <th>Aklan</th>\n",
       "      <td>0.0000</td>\n",
       "      <td>0.0000</td>\n",
       "    </tr>\n",
       "    <tr>\n",
       "      <th>Albay</th>\n",
       "      <td>0.0000</td>\n",
       "      <td>0.0000</td>\n",
       "    </tr>\n",
       "  </tbody>\n",
       "</table>\n",
       "</div>"
      ],
      "text/plain": [
       "                  rp10_pop  rp100_pop\n",
       "NAME_1                               \n",
       "Abra                0.1641     0.2977\n",
       "Agusan Del Norte    0.3180     0.3440\n",
       "Agusan Del Sur      0.1146     0.1531\n",
       "Aklan               0.0000     0.0000\n",
       "Albay               0.0000     0.0000"
      ]
     },
     "execution_count": 9,
     "metadata": {},
     "output_type": "execute_result"
    }
   ],
   "source": [
    "#Exposure to floods (from glofris)\n",
    "pop_exposed = pd.read_csv(\"inputs/pop_exposed.csv\",index_col=[\"NAME_1\"])\n",
    "pop_exposed.index=pop_exposed.index.str.title()\n",
    "pop_exposed.head()"
   ]
  },
  {
   "cell_type": "markdown",
   "metadata": {},
   "source": [
    "Note how for some provinces (Aklan, Albay) are not exposed to river flodds according to our data source. Also, the data we have here is for several return periods. The model can work either with on single return period or several return periods. The information on different exposed periods sorted in a different variable, called fa_ratios.\n",
    "\n",
    "First we define the exposure (Fraction of people Affected) as the one corresponding to 10 yr return period"
   ]
  },
  {
   "cell_type": "code",
   "execution_count": 10,
   "metadata": {
    "collapsed": false
   },
   "outputs": [
    {
     "data": {
      "text/html": [
       "<div>\n",
       "<table border=\"1\" class=\"dataframe\">\n",
       "  <thead>\n",
       "    <tr style=\"text-align: right;\">\n",
       "      <th></th>\n",
       "      <th>gdp_pc_pp</th>\n",
       "      <th>pop</th>\n",
       "      <th>plgp</th>\n",
       "      <th>unemp</th>\n",
       "      <th>bashs</th>\n",
       "      <th>pov_head</th>\n",
       "      <th>shew</th>\n",
       "      <th>ophe</th>\n",
       "      <th>gdp_pc_pp_nat</th>\n",
       "      <th>rel_gdp_pp</th>\n",
       "      <th>share1</th>\n",
       "      <th>axfin_p</th>\n",
       "      <th>axfin_r</th>\n",
       "      <th>social_p</th>\n",
       "      <th>social_r</th>\n",
       "      <th>axhealth</th>\n",
       "      <th>fa</th>\n",
       "    </tr>\n",
       "    <tr>\n",
       "      <th>Province</th>\n",
       "      <th></th>\n",
       "      <th></th>\n",
       "      <th></th>\n",
       "      <th></th>\n",
       "      <th></th>\n",
       "      <th></th>\n",
       "      <th></th>\n",
       "      <th></th>\n",
       "      <th></th>\n",
       "      <th></th>\n",
       "      <th></th>\n",
       "      <th></th>\n",
       "      <th></th>\n",
       "      <th></th>\n",
       "      <th></th>\n",
       "      <th></th>\n",
       "      <th></th>\n",
       "    </tr>\n",
       "  </thead>\n",
       "  <tbody>\n",
       "    <tr>\n",
       "      <th>Abra</th>\n",
       "      <td>133.688</td>\n",
       "      <td>240135.244121</td>\n",
       "      <td>0.8827</td>\n",
       "      <td>0.165</td>\n",
       "      <td>0.857720</td>\n",
       "      <td>0.373595</td>\n",
       "      <td>0.953416</td>\n",
       "      <td>0.031414</td>\n",
       "      <td>184.136685</td>\n",
       "      <td>0.726026</td>\n",
       "      <td>0.374005</td>\n",
       "      <td>0.693233</td>\n",
       "      <td>0.693233</td>\n",
       "      <td>0.408683</td>\n",
       "      <td>0.408683</td>\n",
       "      <td>0.015575</td>\n",
       "      <td>0.1641</td>\n",
       "    </tr>\n",
       "    <tr>\n",
       "      <th>Agusan Del Norte</th>\n",
       "      <td>179.014</td>\n",
       "      <td>661728.454375</td>\n",
       "      <td>0.7075</td>\n",
       "      <td>0.210</td>\n",
       "      <td>0.921445</td>\n",
       "      <td>0.346715</td>\n",
       "      <td>0.821277</td>\n",
       "      <td>0.034563</td>\n",
       "      <td>184.136685</td>\n",
       "      <td>0.972180</td>\n",
       "      <td>0.279308</td>\n",
       "      <td>0.496880</td>\n",
       "      <td>0.496880</td>\n",
       "      <td>0.388003</td>\n",
       "      <td>0.388003</td>\n",
       "      <td>0.009448</td>\n",
       "      <td>0.3180</td>\n",
       "    </tr>\n",
       "    <tr>\n",
       "      <th>Agusan Del Sur</th>\n",
       "      <td>126.492</td>\n",
       "      <td>677779.682154</td>\n",
       "      <td>0.6871</td>\n",
       "      <td>0.210</td>\n",
       "      <td>0.727442</td>\n",
       "      <td>0.480785</td>\n",
       "      <td>0.821277</td>\n",
       "      <td>0.034563</td>\n",
       "      <td>184.136685</td>\n",
       "      <td>0.686946</td>\n",
       "      <td>0.395282</td>\n",
       "      <td>0.475969</td>\n",
       "      <td>0.475969</td>\n",
       "      <td>0.388003</td>\n",
       "      <td>0.388003</td>\n",
       "      <td>0.028513</td>\n",
       "      <td>0.1146</td>\n",
       "    </tr>\n",
       "    <tr>\n",
       "      <th>Aklan</th>\n",
       "      <td>119.962</td>\n",
       "      <td>554414.442422</td>\n",
       "      <td>0.7210</td>\n",
       "      <td>0.188</td>\n",
       "      <td>0.806176</td>\n",
       "      <td>0.249662</td>\n",
       "      <td>0.823003</td>\n",
       "      <td>0.044318</td>\n",
       "      <td>184.136685</td>\n",
       "      <td>0.651483</td>\n",
       "      <td>0.416799</td>\n",
       "      <td>0.660083</td>\n",
       "      <td>0.660083</td>\n",
       "      <td>0.432903</td>\n",
       "      <td>0.432903</td>\n",
       "      <td>0.021169</td>\n",
       "      <td>0.0000</td>\n",
       "    </tr>\n",
       "    <tr>\n",
       "      <th>Albay</th>\n",
       "      <td>158.629</td>\n",
       "      <td>1264097.894966</td>\n",
       "      <td>0.7930</td>\n",
       "      <td>0.346</td>\n",
       "      <td>0.840840</td>\n",
       "      <td>0.409587</td>\n",
       "      <td>0.800000</td>\n",
       "      <td>0.032568</td>\n",
       "      <td>184.136685</td>\n",
       "      <td>0.861474</td>\n",
       "      <td>0.315201</td>\n",
       "      <td>0.551314</td>\n",
       "      <td>0.551314</td>\n",
       "      <td>0.403794</td>\n",
       "      <td>0.403794</td>\n",
       "      <td>0.017285</td>\n",
       "      <td>0.0000</td>\n",
       "    </tr>\n",
       "  </tbody>\n",
       "</table>\n",
       "</div>"
      ],
      "text/plain": [
       "                  gdp_pc_pp             pop    plgp  unemp     bashs  \\\n",
       "Province                                                               \n",
       "Abra                133.688   240135.244121  0.8827  0.165  0.857720   \n",
       "Agusan Del Norte    179.014   661728.454375  0.7075  0.210  0.921445   \n",
       "Agusan Del Sur      126.492   677779.682154  0.6871  0.210  0.727442   \n",
       "Aklan               119.962   554414.442422  0.7210  0.188  0.806176   \n",
       "Albay               158.629  1264097.894966  0.7930  0.346  0.840840   \n",
       "\n",
       "                  pov_head      shew      ophe  gdp_pc_pp_nat  rel_gdp_pp  \\\n",
       "Province                                                                    \n",
       "Abra              0.373595  0.953416  0.031414     184.136685    0.726026   \n",
       "Agusan Del Norte  0.346715  0.821277  0.034563     184.136685    0.972180   \n",
       "Agusan Del Sur    0.480785  0.821277  0.034563     184.136685    0.686946   \n",
       "Aklan             0.249662  0.823003  0.044318     184.136685    0.651483   \n",
       "Albay             0.409587  0.800000  0.032568     184.136685    0.861474   \n",
       "\n",
       "                    share1   axfin_p   axfin_r  social_p  social_r  axhealth  \\\n",
       "Province                                                                       \n",
       "Abra              0.374005  0.693233  0.693233  0.408683  0.408683  0.015575   \n",
       "Agusan Del Norte  0.279308  0.496880  0.496880  0.388003  0.388003  0.009448   \n",
       "Agusan Del Sur    0.395282  0.475969  0.475969  0.388003  0.388003  0.028513   \n",
       "Aklan             0.416799  0.660083  0.660083  0.432903  0.432903  0.021169   \n",
       "Albay             0.315201  0.551314  0.551314  0.403794  0.403794  0.017285   \n",
       "\n",
       "                      fa  \n",
       "Province                  \n",
       "Abra              0.1641  \n",
       "Agusan Del Norte  0.3180  \n",
       "Agusan Del Sur    0.1146  \n",
       "Aklan             0.0000  \n",
       "Albay             0.0000  "
      ]
     },
     "execution_count": 10,
     "metadata": {},
     "output_type": "execute_result"
    }
   ],
   "source": [
    "df[\"fa\"]=pop_exposed[\"rp10_pop\"]\n",
    "df.head()"
   ]
  },
  {
   "cell_type": "markdown",
   "metadata": {},
   "source": [
    "Then we define the exposure to other return period events relative to the exposure to the 10yr event"
   ]
  },
  {
   "cell_type": "code",
   "execution_count": 11,
   "metadata": {
    "collapsed": false
   },
   "outputs": [
    {
     "data": {
      "text/html": [
       "<div>\n",
       "<table border=\"1\" class=\"dataframe\">\n",
       "  <thead>\n",
       "    <tr style=\"text-align: right;\">\n",
       "      <th></th>\n",
       "      <th>10</th>\n",
       "      <th>100</th>\n",
       "    </tr>\n",
       "  </thead>\n",
       "  <tbody>\n",
       "    <tr>\n",
       "      <th>Abra</th>\n",
       "      <td>1</td>\n",
       "      <td>1.814138</td>\n",
       "    </tr>\n",
       "    <tr>\n",
       "      <th>Agusan Del Norte</th>\n",
       "      <td>1</td>\n",
       "      <td>1.081761</td>\n",
       "    </tr>\n",
       "    <tr>\n",
       "      <th>Agusan Del Sur</th>\n",
       "      <td>1</td>\n",
       "      <td>1.335951</td>\n",
       "    </tr>\n",
       "    <tr>\n",
       "      <th>Aklan</th>\n",
       "      <td>NaN</td>\n",
       "      <td>NaN</td>\n",
       "    </tr>\n",
       "    <tr>\n",
       "      <th>Albay</th>\n",
       "      <td>NaN</td>\n",
       "      <td>NaN</td>\n",
       "    </tr>\n",
       "  </tbody>\n",
       "</table>\n",
       "</div>"
      ],
      "text/plain": [
       "                  10        100\n",
       "Abra                1  1.814138\n",
       "Agusan Del Norte    1  1.081761\n",
       "Agusan Del Sur      1  1.335951\n",
       "Aklan             NaN       NaN\n",
       "Albay             NaN       NaN"
      ]
     },
     "execution_count": 11,
     "metadata": {},
     "output_type": "execute_result"
    }
   ],
   "source": [
    "fa_ratios =pop_exposed.div(df[\"fa\"],axis=0)\n",
    "fa_ratios.columns=[10,100]\n",
    "fa_ratios.to_csv(\"fa_ratios.csv\") \n",
    "fa_ratios.head()"
   ]
  },
  {
   "cell_type": "markdown",
   "metadata": {},
   "source": [
    "For the provinces with no exposure, we get NaN (not a number), because of the division by 0. The pandas dataframe handle missing data seamlessly.\n",
    "The method dropna() allows to drop the ines for which some data is missing."
   ]
  },
  {
   "cell_type": "code",
   "execution_count": 12,
   "metadata": {
    "collapsed": false
   },
   "outputs": [
    {
     "name": "stdout",
     "output_type": "stream",
     "text": [
      "There are 37 provinces with information on exposure in the dataset we currenty use.\n"
     ]
    },
    {
     "data": {
      "text/html": [
       "<div>\n",
       "<table border=\"1\" class=\"dataframe\">\n",
       "  <thead>\n",
       "    <tr style=\"text-align: right;\">\n",
       "      <th></th>\n",
       "      <th>10</th>\n",
       "      <th>100</th>\n",
       "    </tr>\n",
       "  </thead>\n",
       "  <tbody>\n",
       "    <tr>\n",
       "      <th>Abra</th>\n",
       "      <td>1</td>\n",
       "      <td>1.814138</td>\n",
       "    </tr>\n",
       "    <tr>\n",
       "      <th>Agusan Del Norte</th>\n",
       "      <td>1</td>\n",
       "      <td>1.081761</td>\n",
       "    </tr>\n",
       "    <tr>\n",
       "      <th>Agusan Del Sur</th>\n",
       "      <td>1</td>\n",
       "      <td>1.335951</td>\n",
       "    </tr>\n",
       "    <tr>\n",
       "      <th>Apayao</th>\n",
       "      <td>1</td>\n",
       "      <td>1.000000</td>\n",
       "    </tr>\n",
       "    <tr>\n",
       "      <th>Batangas</th>\n",
       "      <td>1</td>\n",
       "      <td>1.000000</td>\n",
       "    </tr>\n",
       "  </tbody>\n",
       "</table>\n",
       "</div>"
      ],
      "text/plain": [
       "                  10        100\n",
       "Abra                1  1.814138\n",
       "Agusan Del Norte    1  1.081761\n",
       "Agusan Del Sur      1  1.335951\n",
       "Apayao              1  1.000000\n",
       "Batangas            1  1.000000"
      ]
     },
     "execution_count": 12,
     "metadata": {},
     "output_type": "execute_result"
    }
   ],
   "source": [
    "print(\"There are {n} provinces with information on exposure in the dataset we currenty use.\".format(n=len(fa_ratios.dropna().index)))\n",
    "fa_ratios.dropna().head()"
   ]
  },
  {
   "cell_type": "markdown",
   "metadata": {},
   "source": [
    "### Vulnerability"
   ]
  },
  {
   "cell_type": "markdown",
   "metadata": {},
   "source": [
    "To assess asset vulnerability in each province, we use census data on roof and wall types in each province.\n",
    "We match these types to a given vulnerability with reduced vulnerability curve. Let us first open the files that matche types to vulnerability."
   ]
  },
  {
   "cell_type": "code",
   "execution_count": 13,
   "metadata": {
    "collapsed": false
   },
   "outputs": [
    {
     "name": "stdout",
     "output_type": "stream",
     "text": [
      "Reduced vulnerability curve for roofs\n",
      "\n",
      "Roof_% Salvaged/mixed but predominatly salvaged materials 2012    0.7\n",
      "Roof_% Light/mixed but predominantly light materials 2012         0.4\n",
      "Roof_% Strong/mixed but predominantly strong materials 2012       0.1\n",
      "Name: 0, dtype: float64\n"
     ]
    }
   ],
   "source": [
    "#matches roof and wall types to vulnerabilities\n",
    "roof_types_to_vuln =pd.read_csv(\"inputs/roof_types_to_vuln.csv\").squeeze().sort_values(ascending=False)\n",
    "wall_types_to_vuln =pd.read_csv(\"inputs/wall_types_to_vuln.csv\").squeeze().sort_values(ascending=False)\n",
    "\n",
    "print(\"Reduced vulnerability curve for roofs\\n\")\n",
    "print(roof_types_to_vuln)\n",
    "#print(\"\\nReduced vulnerability curve for walls\")\n",
    "#print(wall_types_to_vuln)"
   ]
  },
  {
   "cell_type": "markdown",
   "metadata": {},
   "source": [
    "The data for roof types in each province comes from the excel file with socio-economic data we used at the begining."
   ]
  },
  {
   "cell_type": "code",
   "execution_count": 14,
   "metadata": {
    "collapsed": false
   },
   "outputs": [
    {
     "data": {
      "text/html": [
       "<div>\n",
       "<table border=\"1\" class=\"dataframe\">\n",
       "  <thead>\n",
       "    <tr style=\"text-align: right;\">\n",
       "      <th></th>\n",
       "      <th>Roof_% Salvaged/mixed but predominatly salvaged materials 2012</th>\n",
       "      <th>Roof_% Light/mixed but predominantly light materials 2012</th>\n",
       "      <th>Roof_% Strong/mixed but predominantly strong materials 2012</th>\n",
       "    </tr>\n",
       "    <tr>\n",
       "      <th>Province</th>\n",
       "      <th></th>\n",
       "      <th></th>\n",
       "      <th></th>\n",
       "    </tr>\n",
       "  </thead>\n",
       "  <tbody>\n",
       "    <tr>\n",
       "      <th>Abra</th>\n",
       "      <td>0.002667</td>\n",
       "      <td>0.050667</td>\n",
       "      <td>0.946667</td>\n",
       "    </tr>\n",
       "    <tr>\n",
       "      <th>Agusan Del Norte</th>\n",
       "      <td>0.007519</td>\n",
       "      <td>0.327068</td>\n",
       "      <td>0.665414</td>\n",
       "    </tr>\n",
       "    <tr>\n",
       "      <th>Agusan Del Sur</th>\n",
       "      <td>0.007519</td>\n",
       "      <td>0.327068</td>\n",
       "      <td>0.665414</td>\n",
       "    </tr>\n",
       "    <tr>\n",
       "      <th>Aklan</th>\n",
       "      <td>0.013100</td>\n",
       "      <td>0.183406</td>\n",
       "      <td>0.803493</td>\n",
       "    </tr>\n",
       "    <tr>\n",
       "      <th>Albay</th>\n",
       "      <td>0.008584</td>\n",
       "      <td>0.306438</td>\n",
       "      <td>0.684979</td>\n",
       "    </tr>\n",
       "  </tbody>\n",
       "</table>\n",
       "</div>"
      ],
      "text/plain": [
       "                  Roof_% Salvaged/mixed but predominatly salvaged materials 2012  \\\n",
       "Province                                                                           \n",
       "Abra                                                       0.002667                \n",
       "Agusan Del Norte                                           0.007519                \n",
       "Agusan Del Sur                                             0.007519                \n",
       "Aklan                                                      0.013100                \n",
       "Albay                                                      0.008584                \n",
       "\n",
       "                  Roof_% Light/mixed but predominantly light materials 2012  \\\n",
       "Province                                                                      \n",
       "Abra                                                       0.050667           \n",
       "Agusan Del Norte                                           0.327068           \n",
       "Agusan Del Sur                                             0.327068           \n",
       "Aklan                                                      0.183406           \n",
       "Albay                                                      0.306438           \n",
       "\n",
       "                  Roof_% Strong/mixed but predominantly strong materials 2012  \n",
       "Province                                                                       \n",
       "Abra                                                       0.946667            \n",
       "Agusan Del Norte                                           0.665414            \n",
       "Agusan Del Sur                                             0.665414            \n",
       "Aklan                                                      0.803493            \n",
       "Albay                                                      0.684979            "
      ]
     },
     "execution_count": 14,
     "metadata": {},
     "output_type": "execute_result"
    }
   ],
   "source": [
    "share =data_from_excel[roof_types_to_vuln.index]\n",
    "share.head()"
   ]
  },
  {
   "cell_type": "markdown",
   "metadata": {},
   "source": [
    "Then we assume that the poorest households in  each province use the houses with lowest quality roofs."
   ]
  },
  {
   "cell_type": "code",
   "execution_count": 15,
   "metadata": {
    "collapsed": false
   },
   "outputs": [
    {
     "name": "stdout",
     "output_type": "stream",
     "text": [
      "Type of roofs for nonpoor households:\n"
     ]
    },
    {
     "data": {
      "text/html": [
       "<div>\n",
       "<table border=\"1\" class=\"dataframe\">\n",
       "  <thead>\n",
       "    <tr style=\"text-align: right;\">\n",
       "      <th></th>\n",
       "      <th>Roof_% Salvaged/mixed but predominatly salvaged materials 2012</th>\n",
       "      <th>Roof_% Light/mixed but predominantly light materials 2012</th>\n",
       "      <th>Roof_% Strong/mixed but predominantly strong materials 2012</th>\n",
       "    </tr>\n",
       "    <tr>\n",
       "      <th>Province</th>\n",
       "      <th></th>\n",
       "      <th></th>\n",
       "      <th></th>\n",
       "    </tr>\n",
       "  </thead>\n",
       "  <tbody>\n",
       "    <tr>\n",
       "      <th>Abra</th>\n",
       "      <td>0</td>\n",
       "      <td>0</td>\n",
       "      <td>0.626405</td>\n",
       "    </tr>\n",
       "    <tr>\n",
       "      <th>Agusan Del Norte</th>\n",
       "      <td>0</td>\n",
       "      <td>0</td>\n",
       "      <td>0.653285</td>\n",
       "    </tr>\n",
       "    <tr>\n",
       "      <th>Agusan Del Sur</th>\n",
       "      <td>0</td>\n",
       "      <td>0</td>\n",
       "      <td>0.519215</td>\n",
       "    </tr>\n",
       "    <tr>\n",
       "      <th>Aklan</th>\n",
       "      <td>0</td>\n",
       "      <td>0</td>\n",
       "      <td>0.750338</td>\n",
       "    </tr>\n",
       "    <tr>\n",
       "      <th>Albay</th>\n",
       "      <td>0</td>\n",
       "      <td>0</td>\n",
       "      <td>0.590413</td>\n",
       "    </tr>\n",
       "  </tbody>\n",
       "</table>\n",
       "</div>"
      ],
      "text/plain": [
       "                  Roof_% Salvaged/mixed but predominatly salvaged materials 2012  \\\n",
       "Province                                                                           \n",
       "Abra                                                              0                \n",
       "Agusan Del Norte                                                  0                \n",
       "Agusan Del Sur                                                    0                \n",
       "Aklan                                                             0                \n",
       "Albay                                                             0                \n",
       "\n",
       "                  Roof_% Light/mixed but predominantly light materials 2012  \\\n",
       "Province                                                                      \n",
       "Abra                                                              0           \n",
       "Agusan Del Norte                                                  0           \n",
       "Agusan Del Sur                                                    0           \n",
       "Aklan                                                             0           \n",
       "Albay                                                             0           \n",
       "\n",
       "                  Roof_% Strong/mixed but predominantly strong materials 2012  \n",
       "Province                                                                       \n",
       "Abra                                                       0.626405            \n",
       "Agusan Del Norte                                           0.653285            \n",
       "Agusan Del Sur                                             0.519215            \n",
       "Aklan                                                      0.750338            \n",
       "Albay                                                      0.590413            "
      ]
     },
     "execution_count": 15,
     "metadata": {},
     "output_type": "execute_result"
    }
   ],
   "source": [
    "#sorts roof types according to income\n",
    "p=(share.cumsum(axis=1).add(-df[\"pov_head\"],axis=0)).clip(lower=0)\n",
    "poor=(share-p).clip(lower=0)\n",
    "rich=share-poor\n",
    "\n",
    "print(\"Type of roofs for nonpoor households:\")\n",
    "rich.head()"
   ]
  },
  {
   "cell_type": "markdown",
   "metadata": {},
   "source": [
    "Finally we average vulnerability accross roof type"
   ]
  },
  {
   "cell_type": "code",
   "execution_count": 16,
   "metadata": {
    "collapsed": false
   },
   "outputs": [
    {
     "data": {
      "text/plain": [
       "Province\n",
       "Abra                0.144969\n",
       "Agusan Del Norte    0.396011\n",
       "Agusan Del Sur      0.313467\n",
       "Aklan               0.351869\n",
       "Albay               0.337023\n",
       "dtype: float64"
      ]
     },
     "execution_count": 16,
     "metadata": {},
     "output_type": "execute_result"
    }
   ],
   "source": [
    "#averages vulnerability accross roof type\n",
    "vp_roof=((poor*roof_types_to_vuln).sum(axis=1)/df[\"pov_head\"] )\n",
    "vr_roof=(rich*roof_types_to_vuln).sum(axis=1)/(1-df[\"pov_head\"])\n",
    "\n",
    "vp_roof.head()"
   ]
  },
  {
   "cell_type": "markdown",
   "metadata": {},
   "source": [
    "Then we do the same for <b>walls</b>..."
   ]
  },
  {
   "cell_type": "code",
   "execution_count": 17,
   "metadata": {
    "collapsed": false
   },
   "outputs": [],
   "source": [
    "#sorts wall types according to income\n",
    "share =data_from_excel[wall_types_to_vuln.keys()]\n",
    "p=(share.cumsum(axis=1).add(-df[\"pov_head\"],axis=0)).clip(lower=0)\n",
    "poor=(share-p).clip(lower=0)\n",
    "rich=share-poor\n",
    "\n",
    "#walls\n",
    "vp_wall=((poor*wall_types_to_vuln).sum(axis=1)/df[\"pov_head\"] )\n",
    "vr_wall=(rich*wall_types_to_vuln).sum(axis=1)/(1-df[\"pov_head\"])\n"
   ]
  },
  {
   "cell_type": "markdown",
   "metadata": {},
   "source": [
    "...and take the average value for roof and walls."
   ]
  },
  {
   "cell_type": "code",
   "execution_count": 18,
   "metadata": {
    "collapsed": false
   },
   "outputs": [],
   "source": [
    "#averages value for roofs and walls\n",
    "vp = (vp_roof+vp_wall)/2\n",
    "vr = (vr_roof+vr_wall)/2\n",
    "\n",
    "#plots\n",
    "#vp.hist(), plt.xlabel(\"vp\")\n",
    "#plt.figure()\n",
    "#vr.hist(),plt.xlabel(\"vr\")"
   ]
  },
  {
   "cell_type": "markdown",
   "metadata": {},
   "source": [
    "##### Adapting the data on exposure and vulnerability"
   ]
  },
  {
   "cell_type": "markdown",
   "metadata": {},
   "source": [
    "The model needs the information on exposure and vulnerability within each province to be provided as an <b>average</b> and <b>a bias for poor households</b>."
   ]
  },
  {
   "cell_type": "code",
   "execution_count": 19,
   "metadata": {
    "collapsed": false
   },
   "outputs": [],
   "source": [
    "#We only have average exposure, so we assume an exposure poverty bias of 20%\n",
    "#This is a data gap that will be filled later\n",
    "pe=df[\"pe\"] = .2\n",
    "\n",
    "#Expresses vulnerability as total and bias\n",
    "ph=df[\"pov_head\"]\n",
    "fa=df[\"fa\"]\n",
    "fap=fa*(1+pe)\n",
    "far=(fa-ph*fap)/(1-ph)\n",
    "\n",
    "cp=   df[\"share1\"] *df[\"gdp_pc_pp\"]\n",
    "cr=  (1 - df[\"pov_head\"]*df[\"share1\"])/(1-df[\"pov_head\"])  *df[\"gdp_pc_pp\"]\n",
    "\n",
    "v=df[\"v\"]  = (ph*vp*cp*fap + (1-ph)*vr*cr*far)/(ph*cp*fap + (1-ph)*cr*far)\n",
    "df[\"pv\"] =  vp/df.v-1\n",
    "\n",
    "#vulnerability of diversified (shared) capital\n",
    "df[\"v_s\"]=vr\n",
    "\n",
    "#df.v .hist()\n",
    "#df.pv.hist()"
   ]
  },
  {
   "cell_type": "markdown",
   "metadata": {},
   "source": [
    "### Hazard (protection)"
   ]
  },
  {
   "cell_type": "markdown",
   "metadata": {},
   "source": [
    "We capture hazard through the protection level, given in return period. Here we use data from FLOPROS as a placeholder.\n",
    "FLOPROS uses a different spelling for some province, so we correct that here."
   ]
  },
  {
   "cell_type": "code",
   "execution_count": 20,
   "metadata": {
    "collapsed": false
   },
   "outputs": [
    {
     "data": {
      "text/plain": [
       "province\n",
       "Abra                10.57\n",
       "Agusan Del Norte     9.41\n",
       "Agusan Del Sur       8.61\n",
       "Aklan                0.00\n",
       "Albay                0.00\n",
       "Name: 0, dtype: float64"
      ]
     },
     "execution_count": 20,
     "metadata": {},
     "output_type": "execute_result"
    }
   ],
   "source": [
    "protection = pd.read_csv(\"inputs/protection_phl.csv\",index_col=\"province\", squeeze=True).sort_index()\n",
    "protection.index = protection.index.str.title()\n",
    "protection.rename(index={\"Cotabato\":\"North Cotabato\",\n",
    "                         'Mindoro Occidental':\"Occidental Mindoro\",\n",
    "                         'Mindoro Oriental':\"Oriental Mindoro\",}, inplace=True) #(a better way would be to use and demonstrate the function replace_with_warning)\n",
    "protection.head()"
   ]
  },
  {
   "cell_type": "code",
   "execution_count": 21,
   "metadata": {
    "collapsed": true
   },
   "outputs": [],
   "source": [
    "df[\"protection\"]=protection"
   ]
  },
  {
   "cell_type": "markdown",
   "metadata": {},
   "source": [
    "# Manually filling data gaps and informing parameters"
   ]
  },
  {
   "cell_type": "markdown",
   "metadata": {
    "collapsed": true
   },
   "source": [
    "Some data is missing and has to be added manually"
   ]
  },
  {
   "cell_type": "code",
   "execution_count": 22,
   "metadata": {
    "collapsed": true
   },
   "outputs": [],
   "source": [
    "#average productivity of capital\n",
    "df[\"avg_prod_k\"] = .23\n",
    "\n",
    "#Reconstruction times\n",
    "df[\"T_rebuild_K\"] = 3\n",
    "\n",
    "# how much early warning reduces vulnerability (eg reactivity ot early warning)\n",
    "df[\"pi\"] = 0.2"
   ]
  },
  {
   "cell_type": "markdown",
   "metadata": {},
   "source": [
    "Some other inputs are normative or policy choices"
   ]
  },
  {
   "cell_type": "code",
   "execution_count": 23,
   "metadata": {
    "collapsed": false
   },
   "outputs": [],
   "source": [
    "#assumption on cross-provincial risk sharing\n",
    "df[\"nat_buyout\"] = 0.3\n",
    "\n",
    "#scale up of transfers after the \n",
    "df[\"sigma_r\"]=df[\"sigma_p\"]=1/3\n",
    "\n",
    "#income elasticity\n",
    "df[\"income_elast\"] = 1.5"
   ]
  },
  {
   "cell_type": "markdown",
   "metadata": {},
   "source": [
    "# Saves the table with compiled data"
   ]
  },
  {
   "cell_type": "code",
   "execution_count": 24,
   "metadata": {
    "collapsed": false
   },
   "outputs": [],
   "source": [
    "#saves orginal dataframe before adding columns with results\n",
    "df.to_excel(\"all_data_compiled.xlsx\")"
   ]
  },
  {
   "cell_type": "markdown",
   "metadata": {},
   "source": [
    "<b>That's it, we built an excel file with all our data!</b>\n",
    "To see howto use this data with the resilience model, go to [socio_economic_capacity_demo.ipynb](socio_economic_capacity_demo.ipynb)\n",
    "\n",
    "\n",
    "\n",
    " "
   ]
  },
  {
   "cell_type": "code",
   "execution_count": null,
   "metadata": {
    "collapsed": true
   },
   "outputs": [],
   "source": []
  },
  {
   "cell_type": "markdown",
   "metadata": {},
   "source": [
    "For technical reason let's also save this as a CVS file"
   ]
  },
  {
   "cell_type": "code",
   "execution_count": 25,
   "metadata": {
    "collapsed": true
   },
   "outputs": [],
   "source": [
    "df.to_csv(\"all_data_compiled.csv\")"
   ]
  },
  {
   "cell_type": "markdown",
   "metadata": {},
   "source": [
    "# Report missing data by province"
   ]
  },
  {
   "cell_type": "markdown",
   "metadata": {},
   "source": [
    "This code builds a table reporting missing data points for each province"
   ]
  },
  {
   "cell_type": "code",
   "execution_count": 26,
   "metadata": {
    "collapsed": false
   },
   "outputs": [
    {
     "data": {
      "text/html": [
       "<div>\n",
       "<table border=\"1\" class=\"dataframe\">\n",
       "  <thead>\n",
       "    <tr style=\"text-align: right;\">\n",
       "      <th></th>\n",
       "      <th>nb_missing</th>\n",
       "      <th>missing_data</th>\n",
       "    </tr>\n",
       "    <tr>\n",
       "      <th>Province</th>\n",
       "      <th></th>\n",
       "      <th></th>\n",
       "    </tr>\n",
       "  </thead>\n",
       "  <tbody>\n",
       "    <tr>\n",
       "      <th>Misamis Occidental</th>\n",
       "      <td>1</td>\n",
       "      <td>protection</td>\n",
       "    </tr>\n",
       "    <tr>\n",
       "      <th>Negros Oriental</th>\n",
       "      <td>1</td>\n",
       "      <td>protection</td>\n",
       "    </tr>\n",
       "    <tr>\n",
       "      <th>Aklan</th>\n",
       "      <td>2</td>\n",
       "      <td>v, pv</td>\n",
       "    </tr>\n",
       "    <tr>\n",
       "      <th>Marinduque</th>\n",
       "      <td>2</td>\n",
       "      <td>v, pv</td>\n",
       "    </tr>\n",
       "    <tr>\n",
       "      <th>Masbate</th>\n",
       "      <td>2</td>\n",
       "      <td>v, pv</td>\n",
       "    </tr>\n",
       "  </tbody>\n",
       "</table>\n",
       "</div>"
      ],
      "text/plain": [
       "                    nb_missing missing_data\n",
       "Province                                   \n",
       "Misamis Occidental           1   protection\n",
       "Negros Oriental              1   protection\n",
       "Aklan                        2        v, pv\n",
       "Marinduque                   2        v, pv\n",
       "Masbate                      2        v, pv"
      ]
     },
     "execution_count": 26,
     "metadata": {},
     "output_type": "execute_result"
    }
   ],
   "source": [
    "def write_missing_data(s):\n",
    "    which = s[s.isnull()].index.values\n",
    "    return \", \".join(which)\n",
    "\n",
    "def count_missing_data(s):\n",
    "    return s.isnull().sum()\n",
    "\n",
    "report = pd.DataFrame()\n",
    "\n",
    "report[\"nb_missing\"]=df.apply(count_missing_data,axis=1)  \n",
    "report[\"missing_data\"]=df.apply(write_missing_data,axis=1)\n",
    "\n",
    "report  = report.ix[report[\"nb_missing\"]>0,:]\n",
    "report.sort_values(by=\"nb_missing\",inplace=True)\n",
    "report.to_csv(\"missing_data_report.csv\")\n",
    "\n",
    "report.head()"
   ]
  },
  {
   "cell_type": "markdown",
   "metadata": {},
   "source": [
    "The output may be a bit tricky. Here the provinces are missing an exposure (fa=0), and that results in the vulnerability not being compatible"
   ]
  },
  {
   "cell_type": "code",
   "execution_count": null,
   "metadata": {
    "collapsed": true
   },
   "outputs": [],
   "source": []
  }
 ],
 "metadata": {
  "kernelspec": {
   "display_name": "Python 3",
   "language": "python",
   "name": "python3"
  },
  "language_info": {
   "codemirror_mode": {
    "name": "ipython",
    "version": 3
   },
   "file_extension": ".py",
   "mimetype": "text/x-python",
   "name": "python",
   "nbconvert_exporter": "python",
   "pygments_lexer": "ipython3",
   "version": "3.4.4"
  }
 },
 "nbformat": 4,
 "nbformat_minor": 0
}
