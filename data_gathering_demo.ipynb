{
 "cells": [
  {
   "cell_type": "markdown",
   "metadata": {},
   "source": [
    "This notebook demonstrates how Python can be used to gather and adapt data from different sources."
   ]
  },
  {
   "cell_type": "markdown",
   "metadata": {},
   "source": [
    "# Loading socio-economic data"
   ]
  },
  {
   "cell_type": "markdown",
   "metadata": {},
   "source": [
    "#### Loading functions"
   ]
  },
  {
   "cell_type": "markdown",
   "metadata": {},
   "source": [
    "First we import the [pandas](http://pandas.pydata.org/) function librairy. Pandas is a standard python librairy that alows us to manipulate Excel-like tables (called DataFrames) with named rows and columns."
   ]
  },
  {
   "cell_type": "code",
   "execution_count": 1,
   "metadata": {
    "ExecuteTime": {
     "end_time": "2016-03-01T17:08:39.676232",
     "start_time": "2016-03-01T17:08:38.764811"
    },
    "collapsed": true
   },
   "outputs": [],
   "source": [
    "import pandas as pd"
   ]
  },
  {
   "cell_type": "markdown",
   "metadata": {},
   "source": [
    "#### Reading data"
   ]
  },
  {
   "cell_type": "markdown",
   "metadata": {},
   "source": [
    "Now we read the excel data into a pandas DataFrame.\n",
    "We start from an Excel file that contains socio-economic data. In the future this file may for instance be populated by PSA."
   ]
  },
  {
   "cell_type": "code",
   "execution_count": 2,
   "metadata": {
    "ExecuteTime": {
     "end_time": "2016-03-01T17:08:39.950932",
     "start_time": "2016-03-01T17:08:39.680233"
    },
    "collapsed": false
   },
   "outputs": [
    {
     "data": {
      "text/html": [
       "<div>\n",
       "<table border=\"1\" class=\"dataframe\">\n",
       "  <thead>\n",
       "    <tr style=\"text-align: right;\">\n",
       "      <th></th>\n",
       "      <th>Region</th>\n",
       "      <th>Region PSGC</th>\n",
       "      <th>Province PSGC</th>\n",
       "      <th>GRDPC 2012 (At Current Prices)</th>\n",
       "      <th>Projected Population 2012</th>\n",
       "      <th>Average Annual Family Income, 2009</th>\n",
       "      <th>Average Annual  Family Income, by Region, 2012</th>\n",
       "      <th>% Wages and salaries 2012</th>\n",
       "      <th>% Entrepreneurial  activities 2012</th>\n",
       "      <th>% Other sources of income 2012</th>\n",
       "      <th>...</th>\n",
       "      <th>% Others Deposits 2012</th>\n",
       "      <th>% Health Expenditure 2012</th>\n",
       "      <th>% of Births by Attended Skilled Health Personnel 2012</th>\n",
       "      <th>% hh with radio 2012</th>\n",
       "      <th>% hh with landlines 2012</th>\n",
       "      <th>% hh with cellular phones 2012</th>\n",
       "      <th>Public Schools, Elementary, 2012-2013</th>\n",
       "      <th>Public Schools, Secondary, 2012-2013</th>\n",
       "      <th>Estimated QRF 2012</th>\n",
       "      <th>Estimated LDRRM Fund 2012</th>\n",
       "    </tr>\n",
       "    <tr>\n",
       "      <th>Province</th>\n",
       "      <th></th>\n",
       "      <th></th>\n",
       "      <th></th>\n",
       "      <th></th>\n",
       "      <th></th>\n",
       "      <th></th>\n",
       "      <th></th>\n",
       "      <th></th>\n",
       "      <th></th>\n",
       "      <th></th>\n",
       "      <th></th>\n",
       "      <th></th>\n",
       "      <th></th>\n",
       "      <th></th>\n",
       "      <th></th>\n",
       "      <th></th>\n",
       "      <th></th>\n",
       "      <th></th>\n",
       "      <th></th>\n",
       "      <th></th>\n",
       "      <th></th>\n",
       "    </tr>\n",
       "  </thead>\n",
       "  <tbody>\n",
       "    <tr>\n",
       "      <th>Abra</th>\n",
       "      <td>CAR</td>\n",
       "      <td>14</td>\n",
       "      <td>1401</td>\n",
       "      <td>126843</td>\n",
       "      <td>240135.244121</td>\n",
       "      <td>133688</td>\n",
       "      <td>257000</td>\n",
       "      <td>34.370101</td>\n",
       "      <td>24.762555</td>\n",
       "      <td>29.715250</td>\n",
       "      <td>...</td>\n",
       "      <td>0.227018</td>\n",
       "      <td>3.141397</td>\n",
       "      <td>85.772012</td>\n",
       "      <td>65.217391</td>\n",
       "      <td>6.211180</td>\n",
       "      <td>95.341615</td>\n",
       "      <td>277</td>\n",
       "      <td>33</td>\n",
       "      <td>31746830.14320</td>\n",
       "      <td>1.058228e+08</td>\n",
       "    </tr>\n",
       "    <tr>\n",
       "      <th>Agusan Del Norte</th>\n",
       "      <td>CARAGA</td>\n",
       "      <td>16</td>\n",
       "      <td>1602</td>\n",
       "      <td>48954</td>\n",
       "      <td>661728.454375</td>\n",
       "      <td>179014</td>\n",
       "      <td>180000</td>\n",
       "      <td>38.749952</td>\n",
       "      <td>22.449736</td>\n",
       "      <td>29.835430</td>\n",
       "      <td>...</td>\n",
       "      <td>0.004459</td>\n",
       "      <td>3.456344</td>\n",
       "      <td>92.144455</td>\n",
       "      <td>39.574468</td>\n",
       "      <td>2.765957</td>\n",
       "      <td>82.127660</td>\n",
       "      <td>293</td>\n",
       "      <td>86</td>\n",
       "      <td>40128811.09725</td>\n",
       "      <td>1.337627e+08</td>\n",
       "    </tr>\n",
       "    <tr>\n",
       "      <th>Agusan Del Sur</th>\n",
       "      <td>CARAGA</td>\n",
       "      <td>16</td>\n",
       "      <td>1603</td>\n",
       "      <td>48954</td>\n",
       "      <td>677779.682154</td>\n",
       "      <td>126492</td>\n",
       "      <td>180000</td>\n",
       "      <td>38.749952</td>\n",
       "      <td>22.449736</td>\n",
       "      <td>29.835430</td>\n",
       "      <td>...</td>\n",
       "      <td>0.055154</td>\n",
       "      <td>3.456344</td>\n",
       "      <td>72.744156</td>\n",
       "      <td>39.574468</td>\n",
       "      <td>2.765957</td>\n",
       "      <td>82.127660</td>\n",
       "      <td>483</td>\n",
       "      <td>95</td>\n",
       "      <td>50795871.21195</td>\n",
       "      <td>1.693196e+08</td>\n",
       "    </tr>\n",
       "    <tr>\n",
       "      <th>Aklan</th>\n",
       "      <td>6</td>\n",
       "      <td>6</td>\n",
       "      <td>604</td>\n",
       "      <td>57801</td>\n",
       "      <td>554414.442422</td>\n",
       "      <td>119962</td>\n",
       "      <td>202000</td>\n",
       "      <td>37.111134</td>\n",
       "      <td>19.598599</td>\n",
       "      <td>37.472133</td>\n",
       "      <td>...</td>\n",
       "      <td>0.013342</td>\n",
       "      <td>4.431841</td>\n",
       "      <td>80.617585</td>\n",
       "      <td>54.889807</td>\n",
       "      <td>6.955923</td>\n",
       "      <td>82.300275</td>\n",
       "      <td>320</td>\n",
       "      <td>70</td>\n",
       "      <td>34597652.21625</td>\n",
       "      <td>1.153255e+08</td>\n",
       "    </tr>\n",
       "    <tr>\n",
       "      <th>Albay</th>\n",
       "      <td>5</td>\n",
       "      <td>5</td>\n",
       "      <td>505</td>\n",
       "      <td>38870</td>\n",
       "      <td>1264097.894966</td>\n",
       "      <td>158629</td>\n",
       "      <td>162000</td>\n",
       "      <td>38.454830</td>\n",
       "      <td>21.166268</td>\n",
       "      <td>33.594639</td>\n",
       "      <td>...</td>\n",
       "      <td>0.367697</td>\n",
       "      <td>3.256810</td>\n",
       "      <td>84.084001</td>\n",
       "      <td>51.401869</td>\n",
       "      <td>2.429907</td>\n",
       "      <td>80.000000</td>\n",
       "      <td>601</td>\n",
       "      <td>122</td>\n",
       "      <td>61822427.32725</td>\n",
       "      <td>2.060748e+08</td>\n",
       "    </tr>\n",
       "  </tbody>\n",
       "</table>\n",
       "<p>5 rows × 58 columns</p>\n",
       "</div>"
      ],
      "text/plain": [
       "                  Region  Region PSGC  Province PSGC  \\\n",
       "Province                                               \n",
       "Abra                 CAR           14           1401   \n",
       "Agusan Del Norte  CARAGA           16           1602   \n",
       "Agusan Del Sur    CARAGA           16           1603   \n",
       "Aklan                  6            6            604   \n",
       "Albay                  5            5            505   \n",
       "\n",
       "                  GRDPC 2012 (At Current Prices)  Projected Population 2012  \\\n",
       "Province                                                                      \n",
       "Abra                                      126843              240135.244121   \n",
       "Agusan Del Norte                           48954              661728.454375   \n",
       "Agusan Del Sur                             48954              677779.682154   \n",
       "Aklan                                      57801              554414.442422   \n",
       "Albay                                      38870             1264097.894966   \n",
       "\n",
       "                  Average Annual Family Income, 2009  \\\n",
       "Province                                               \n",
       "Abra                                          133688   \n",
       "Agusan Del Norte                              179014   \n",
       "Agusan Del Sur                                126492   \n",
       "Aklan                                         119962   \n",
       "Albay                                         158629   \n",
       "\n",
       "                  Average Annual  Family Income, by Region, 2012  \\\n",
       "Province                                                           \n",
       "Abra                                                      257000   \n",
       "Agusan Del Norte                                          180000   \n",
       "Agusan Del Sur                                            180000   \n",
       "Aklan                                                     202000   \n",
       "Albay                                                     162000   \n",
       "\n",
       "                  % Wages and salaries 2012  \\\n",
       "Province                                      \n",
       "Abra                              34.370101   \n",
       "Agusan Del Norte                  38.749952   \n",
       "Agusan Del Sur                    38.749952   \n",
       "Aklan                             37.111134   \n",
       "Albay                             38.454830   \n",
       "\n",
       "                  % Entrepreneurial  activities 2012  \\\n",
       "Province                                               \n",
       "Abra                                       24.762555   \n",
       "Agusan Del Norte                           22.449736   \n",
       "Agusan Del Sur                             22.449736   \n",
       "Aklan                                      19.598599   \n",
       "Albay                                      21.166268   \n",
       "\n",
       "                  % Other sources of income 2012            ...              \\\n",
       "Province                                                    ...               \n",
       "Abra                                   29.715250            ...               \n",
       "Agusan Del Norte                       29.835430            ...               \n",
       "Agusan Del Sur                         29.835430            ...               \n",
       "Aklan                                  37.472133            ...               \n",
       "Albay                                  33.594639            ...               \n",
       "\n",
       "                  % Others Deposits 2012  % Health Expenditure 2012  \\\n",
       "Province                                                              \n",
       "Abra                            0.227018                   3.141397   \n",
       "Agusan Del Norte                0.004459                   3.456344   \n",
       "Agusan Del Sur                  0.055154                   3.456344   \n",
       "Aklan                           0.013342                   4.431841   \n",
       "Albay                           0.367697                   3.256810   \n",
       "\n",
       "                  % of Births by Attended Skilled Health Personnel 2012  \\\n",
       "Province                                                                  \n",
       "Abra                                                      85.772012       \n",
       "Agusan Del Norte                                          92.144455       \n",
       "Agusan Del Sur                                            72.744156       \n",
       "Aklan                                                     80.617585       \n",
       "Albay                                                     84.084001       \n",
       "\n",
       "                  % hh with radio 2012  % hh with landlines 2012  \\\n",
       "Province                                                           \n",
       "Abra                         65.217391                  6.211180   \n",
       "Agusan Del Norte             39.574468                  2.765957   \n",
       "Agusan Del Sur               39.574468                  2.765957   \n",
       "Aklan                        54.889807                  6.955923   \n",
       "Albay                        51.401869                  2.429907   \n",
       "\n",
       "                  % hh with cellular phones 2012  \\\n",
       "Province                                           \n",
       "Abra                                   95.341615   \n",
       "Agusan Del Norte                       82.127660   \n",
       "Agusan Del Sur                         82.127660   \n",
       "Aklan                                  82.300275   \n",
       "Albay                                  80.000000   \n",
       "\n",
       "                  Public Schools, Elementary, 2012-2013   \\\n",
       "Province                                                   \n",
       "Abra                                                 277   \n",
       "Agusan Del Norte                                     293   \n",
       "Agusan Del Sur                                       483   \n",
       "Aklan                                                320   \n",
       "Albay                                                601   \n",
       "\n",
       "                  Public Schools, Secondary, 2012-2013   Estimated QRF 2012  \\\n",
       "Province                                                                      \n",
       "Abra                                                 33      31746830.14320   \n",
       "Agusan Del Norte                                     86      40128811.09725   \n",
       "Agusan Del Sur                                       95      50795871.21195   \n",
       "Aklan                                                70      34597652.21625   \n",
       "Albay                                               122      61822427.32725   \n",
       "\n",
       "                  Estimated LDRRM Fund 2012  \n",
       "Province                                     \n",
       "Abra                           1.058228e+08  \n",
       "Agusan Del Norte               1.337627e+08  \n",
       "Agusan Del Sur                 1.693196e+08  \n",
       "Aklan                          1.153255e+08  \n",
       "Albay                          2.060748e+08  \n",
       "\n",
       "[5 rows x 58 columns]"
      ]
     },
     "execution_count": 2,
     "metadata": {},
     "output_type": "execute_result"
    }
   ],
   "source": [
    "data_from_excel= pd.read_excel(\"inputs/input_data_Feb2016.xlsx\", #the name of the file\n",
    "                        sheetname=\"Consolidated (2012)\", #the Excel tab were the data is\n",
    "                               index_col=\"Province\",#column to use as index\n",
    "                               header=1, #skips the first line of the excel file\n",
    "                                );\n",
    "data_from_excel.index = data_from_excel.index.str.title() #fixes the case of province names in the Excel file\n",
    "data_from_excel.head() #shows the first few lines of the table"
   ]
  },
  {
   "cell_type": "markdown",
   "metadata": {},
   "source": [
    "This table contains more data (more columns) that what we need to run the model. In addition, the names of the coumn are human-readable, instead of correspondig to variable names in the model. Finally, Some data is missing. We solve each one of this problems in the following."
   ]
  },
  {
   "cell_type": "markdown",
   "metadata": {},
   "source": [
    "### Matching columns in the Excel file to variables in the model"
   ]
  },
  {
   "cell_type": "markdown",
   "metadata": {
    "collapsed": true
   },
   "source": [
    "#### pov_head, pop, gdp_pc_pp"
   ]
  },
  {
   "cell_type": "markdown",
   "metadata": {},
   "source": [
    "Some of the data in the Excel file match directly data in the model. We can transform them directly using a simple dictionary, [inputs/data_source_matching.csv](inputs/data_source_matching.csv), that matches the name in the Excel file to the name in the model"
   ]
  },
  {
   "cell_type": "code",
   "execution_count": 3,
   "metadata": {
    "ExecuteTime": {
     "end_time": "2016-03-01T17:08:39.966447",
     "start_time": "2016-03-01T17:08:39.953435"
    },
    "collapsed": false
   },
   "outputs": [
    {
     "data": {
      "text/html": [
       "<div>\n",
       "<table border=\"1\" class=\"dataframe\">\n",
       "  <thead>\n",
       "    <tr style=\"text-align: right;\">\n",
       "      <th></th>\n",
       "      <th>name_in_model</th>\n",
       "    </tr>\n",
       "    <tr>\n",
       "      <th>name_in_data</th>\n",
       "      <th></th>\n",
       "    </tr>\n",
       "  </thead>\n",
       "  <tbody>\n",
       "    <tr>\n",
       "      <th>Average Annual Family Income, 2009</th>\n",
       "      <td>gdp_pc_pp</td>\n",
       "    </tr>\n",
       "    <tr>\n",
       "      <th>Projected Population 2012</th>\n",
       "      <td>pop</td>\n",
       "    </tr>\n",
       "    <tr>\n",
       "      <th>Poverty Incidence among Population (%), 2012</th>\n",
       "      <td>pov_head</td>\n",
       "    </tr>\n",
       "    <tr>\n",
       "      <th>% hh with cellular phones 2012</th>\n",
       "      <td>shew</td>\n",
       "    </tr>\n",
       "  </tbody>\n",
       "</table>\n",
       "</div>"
      ],
      "text/plain": [
       "                                             name_in_model\n",
       "name_in_data                                              \n",
       "Average Annual Family Income, 2009               gdp_pc_pp\n",
       "Projected Population 2012                              pop\n",
       "Poverty Incidence among Population (%), 2012      pov_head\n",
       "% hh with cellular phones 2012                        shew"
      ]
     },
     "execution_count": 3,
     "metadata": {},
     "output_type": "execute_result"
    }
   ],
   "source": [
    "#reads the CSV file that matches names in excel ot names in the model\n",
    "data_source_matching =pd.read_csv(\"inputs/data_source_matching.csv\",\n",
    "                                  index_col=\"name_in_data\",\n",
    "                                 )\n",
    "data_source_matching #displays the result"
   ]
  },
  {
   "cell_type": "code",
   "execution_count": 4,
   "metadata": {
    "ExecuteTime": {
     "end_time": "2016-03-01T17:08:40.035492",
     "start_time": "2016-03-01T17:08:39.970448"
    },
    "collapsed": false
   },
   "outputs": [
    {
     "data": {
      "text/html": [
       "<div>\n",
       "<table border=\"1\" class=\"dataframe\">\n",
       "  <thead>\n",
       "    <tr style=\"text-align: right;\">\n",
       "      <th></th>\n",
       "      <th>gdp_pc_pp</th>\n",
       "      <th>pop</th>\n",
       "      <th>pov_head</th>\n",
       "      <th>shew</th>\n",
       "    </tr>\n",
       "    <tr>\n",
       "      <th>Province</th>\n",
       "      <th></th>\n",
       "      <th></th>\n",
       "      <th></th>\n",
       "      <th></th>\n",
       "    </tr>\n",
       "  </thead>\n",
       "  <tbody>\n",
       "    <tr>\n",
       "      <th>Abra</th>\n",
       "      <td>133688</td>\n",
       "      <td>240135.244121</td>\n",
       "      <td>37.35946</td>\n",
       "      <td>95.341615</td>\n",
       "    </tr>\n",
       "    <tr>\n",
       "      <th>Agusan Del Norte</th>\n",
       "      <td>179014</td>\n",
       "      <td>661728.454375</td>\n",
       "      <td>34.67151</td>\n",
       "      <td>82.127660</td>\n",
       "    </tr>\n",
       "    <tr>\n",
       "      <th>Agusan Del Sur</th>\n",
       "      <td>126492</td>\n",
       "      <td>677779.682154</td>\n",
       "      <td>48.07851</td>\n",
       "      <td>82.127660</td>\n",
       "    </tr>\n",
       "    <tr>\n",
       "      <th>Aklan</th>\n",
       "      <td>119962</td>\n",
       "      <td>554414.442422</td>\n",
       "      <td>24.96618</td>\n",
       "      <td>82.300275</td>\n",
       "    </tr>\n",
       "    <tr>\n",
       "      <th>Albay</th>\n",
       "      <td>158629</td>\n",
       "      <td>1264097.894966</td>\n",
       "      <td>40.95874</td>\n",
       "      <td>80.000000</td>\n",
       "    </tr>\n",
       "  </tbody>\n",
       "</table>\n",
       "</div>"
      ],
      "text/plain": [
       "                  gdp_pc_pp             pop  pov_head       shew\n",
       "Province                                                        \n",
       "Abra                 133688   240135.244121  37.35946  95.341615\n",
       "Agusan Del Norte     179014   661728.454375  34.67151  82.127660\n",
       "Agusan Del Sur       126492   677779.682154  48.07851  82.127660\n",
       "Aklan                119962   554414.442422  24.96618  82.300275\n",
       "Albay                158629  1264097.894966  40.95874  80.000000"
      ]
     },
     "execution_count": 4,
     "metadata": {},
     "output_type": "execute_result"
    }
   ],
   "source": [
    "#keeps only the colomns listed in data_source_matching\n",
    "df=data_from_excel[data_source_matching.index]\n",
    "#renames those columns to their name in the model\n",
    "df=df.rename(columns=data_source_matching[\"name_in_model\"])\n",
    "df.head()"
   ]
  },
  {
   "cell_type": "markdown",
   "metadata": {},
   "source": [
    "##### Adapting the data on income and poverty"
   ]
  },
  {
   "cell_type": "markdown",
   "metadata": {},
   "source": [
    "The model needs income information in each province to be provided relative to the average income in the Philippines.\n",
    "Witin each province, we need the income of the poor and nonpoor households relative to the average income in the province.\n",
    "\n",
    "To compute the weighted average, we will use another standard python library, [NumPy](http://www.numpy.org/) the provides  standard mathematical functions such as log, exp, weighted average, etc."
   ]
  },
  {
   "cell_type": "code",
   "execution_count": 5,
   "metadata": {
    "ExecuteTime": {
     "end_time": "2016-03-01T17:08:40.042502",
     "start_time": "2016-03-01T17:08:40.039500"
    },
    "collapsed": true
   },
   "outputs": [],
   "source": [
    "import numpy as np"
   ]
  },
  {
   "cell_type": "code",
   "execution_count": 6,
   "metadata": {
    "ExecuteTime": {
     "end_time": "2016-03-01T17:08:40.074531",
     "start_time": "2016-03-01T17:08:40.045504"
    },
    "collapsed": false
   },
   "outputs": [],
   "source": [
    "#Changes the unit of GDP to thousands of pesos (technical: to reduce risk of float overflows when computing welfare)\n",
    "df[\"gdp_pc_pp\"]/=1e3\n",
    "\n",
    "#National average income \n",
    "df[\"gdp_pc_pp_nat\"] = np.average(df.dropna().gdp_pc_pp,  weights=df.dropna()[\"pop\"]) #note that we have to manually remove the lines with missing data (.dropna()) because numpy does not handle missing data\n",
    "\n",
    "#Average income of poor households (estimated from WB data on income distribution: http://iresearch.worldbank.org/PovcalNet/index.htm?2)\n",
    "wp=50\n",
    "\n",
    "#Relative income of the province and poor families in those provinces\n",
    "df[\"rel_gdp_pp\"]=df[\"gdp_pc_pp\"]/df[\"gdp_pc_pp_nat\"]\n",
    "df[\"share1\"]=wp/df[\"gdp_pc_pp\"]"
   ]
  },
  {
   "cell_type": "markdown",
   "metadata": {},
   "source": [
    "#### Access to savings, transfers"
   ]
  },
  {
   "cell_type": "markdown",
   "metadata": {},
   "source": [
    "Some other model variables do not match directly one column in the data.\n"
   ]
  },
  {
   "cell_type": "code",
   "execution_count": 7,
   "metadata": {
    "ExecuteTime": {
     "end_time": "2016-03-01T17:08:40.141579",
     "start_time": "2016-03-01T17:08:40.080536"
    },
    "collapsed": false
   },
   "outputs": [
    {
     "data": {
      "text/html": [
       "<div>\n",
       "<table border=\"1\" class=\"dataframe\">\n",
       "  <thead>\n",
       "    <tr style=\"text-align: right;\">\n",
       "      <th></th>\n",
       "      <th>gdp_pc_pp</th>\n",
       "      <th>pop</th>\n",
       "      <th>pov_head</th>\n",
       "      <th>shew</th>\n",
       "      <th>gdp_pc_pp_nat</th>\n",
       "      <th>rel_gdp_pp</th>\n",
       "      <th>share1</th>\n",
       "      <th>axfin_p</th>\n",
       "      <th>axfin_r</th>\n",
       "      <th>social_p</th>\n",
       "      <th>social_r</th>\n",
       "    </tr>\n",
       "    <tr>\n",
       "      <th>Province</th>\n",
       "      <th></th>\n",
       "      <th></th>\n",
       "      <th></th>\n",
       "      <th></th>\n",
       "      <th></th>\n",
       "      <th></th>\n",
       "      <th></th>\n",
       "      <th></th>\n",
       "      <th></th>\n",
       "      <th></th>\n",
       "      <th></th>\n",
       "    </tr>\n",
       "  </thead>\n",
       "  <tbody>\n",
       "    <tr>\n",
       "      <th>Abra</th>\n",
       "      <td>133.688</td>\n",
       "      <td>240135.244121</td>\n",
       "      <td>37.35946</td>\n",
       "      <td>95.341615</td>\n",
       "      <td>184.136685</td>\n",
       "      <td>0.726026</td>\n",
       "      <td>0.374005</td>\n",
       "      <td>69.323319</td>\n",
       "      <td>69.323319</td>\n",
       "      <td>40.868266</td>\n",
       "      <td>40.868266</td>\n",
       "    </tr>\n",
       "    <tr>\n",
       "      <th>Agusan Del Norte</th>\n",
       "      <td>179.014</td>\n",
       "      <td>661728.454375</td>\n",
       "      <td>34.67151</td>\n",
       "      <td>82.127660</td>\n",
       "      <td>184.136685</td>\n",
       "      <td>0.972180</td>\n",
       "      <td>0.279308</td>\n",
       "      <td>49.687990</td>\n",
       "      <td>49.687990</td>\n",
       "      <td>38.800312</td>\n",
       "      <td>38.800312</td>\n",
       "    </tr>\n",
       "    <tr>\n",
       "      <th>Agusan Del Sur</th>\n",
       "      <td>126.492</td>\n",
       "      <td>677779.682154</td>\n",
       "      <td>48.07851</td>\n",
       "      <td>82.127660</td>\n",
       "      <td>184.136685</td>\n",
       "      <td>0.686946</td>\n",
       "      <td>0.395282</td>\n",
       "      <td>47.596891</td>\n",
       "      <td>47.596891</td>\n",
       "      <td>38.800312</td>\n",
       "      <td>38.800312</td>\n",
       "    </tr>\n",
       "    <tr>\n",
       "      <th>Aklan</th>\n",
       "      <td>119.962</td>\n",
       "      <td>554414.442422</td>\n",
       "      <td>24.96618</td>\n",
       "      <td>82.300275</td>\n",
       "      <td>184.136685</td>\n",
       "      <td>0.651483</td>\n",
       "      <td>0.416799</td>\n",
       "      <td>66.008332</td>\n",
       "      <td>66.008332</td>\n",
       "      <td>43.290267</td>\n",
       "      <td>43.290267</td>\n",
       "    </tr>\n",
       "    <tr>\n",
       "      <th>Albay</th>\n",
       "      <td>158.629</td>\n",
       "      <td>1264097.894966</td>\n",
       "      <td>40.95874</td>\n",
       "      <td>80.000000</td>\n",
       "      <td>184.136685</td>\n",
       "      <td>0.861474</td>\n",
       "      <td>0.315201</td>\n",
       "      <td>55.131436</td>\n",
       "      <td>55.131436</td>\n",
       "      <td>40.379394</td>\n",
       "      <td>40.379394</td>\n",
       "    </tr>\n",
       "  </tbody>\n",
       "</table>\n",
       "</div>"
      ],
      "text/plain": [
       "                  gdp_pc_pp             pop  pov_head       shew  \\\n",
       "Province                                                           \n",
       "Abra                133.688   240135.244121  37.35946  95.341615   \n",
       "Agusan Del Norte    179.014   661728.454375  34.67151  82.127660   \n",
       "Agusan Del Sur      126.492   677779.682154  48.07851  82.127660   \n",
       "Aklan               119.962   554414.442422  24.96618  82.300275   \n",
       "Albay               158.629  1264097.894966  40.95874  80.000000   \n",
       "\n",
       "                  gdp_pc_pp_nat  rel_gdp_pp    share1    axfin_p    axfin_r  \\\n",
       "Province                                                                      \n",
       "Abra                 184.136685    0.726026  0.374005  69.323319  69.323319   \n",
       "Agusan Del Norte     184.136685    0.972180  0.279308  49.687990  49.687990   \n",
       "Agusan Del Sur       184.136685    0.686946  0.395282  47.596891  47.596891   \n",
       "Aklan                184.136685    0.651483  0.416799  66.008332  66.008332   \n",
       "Albay                184.136685    0.861474  0.315201  55.131436  55.131436   \n",
       "\n",
       "                   social_p   social_r  \n",
       "Province                                \n",
       "Abra              40.868266  40.868266  \n",
       "Agusan Del Norte  38.800312  38.800312  \n",
       "Agusan Del Sur    38.800312  38.800312  \n",
       "Aklan             43.290267  43.290267  \n",
       "Albay             40.379394  40.379394  "
      ]
     },
     "execution_count": 7,
     "metadata": {},
     "output_type": "execute_result"
    }
   ],
   "source": [
    "#acess to bank accounts : we use the same value for poor and nonpoor households\n",
    "df[\"axfin_p\"]=df[\"axfin_r\"]=data_from_excel[\"%Savings Deposit 2012\"]\n",
    "\n",
    "#share of income from transfers: we use the same value for poor and nonpoor, and we sum two columns of the input data\n",
    "df[\"social_p\"]=df[\"social_r\"]=data_from_excel[[\"% Other sources of income 2012\",\"% Other receipts 2012\"]].sum(axis=1)\n",
    "\n",
    "df.head()"
   ]
  },
  {
   "cell_type": "markdown",
   "metadata": {},
   "source": [
    "# Loading data on exposure, hazard, and protection"
   ]
  },
  {
   "cell_type": "markdown",
   "metadata": {},
   "source": [
    "### Exposure (population in flood-prone areas)"
   ]
  },
  {
   "cell_type": "markdown",
   "metadata": {},
   "source": [
    "Exposure comes from a different file, for instance it could be provided by DOST."
   ]
  },
  {
   "cell_type": "code",
   "execution_count": 8,
   "metadata": {
    "ExecuteTime": {
     "end_time": "2016-03-01T17:08:40.191616",
     "start_time": "2016-03-01T17:08:40.174604"
    },
    "collapsed": false
   },
   "outputs": [
    {
     "data": {
      "text/html": [
       "<div>\n",
       "<table border=\"1\" class=\"dataframe\">\n",
       "  <thead>\n",
       "    <tr style=\"text-align: right;\">\n",
       "      <th></th>\n",
       "      <th>rp10_pop</th>\n",
       "      <th>rp100_pop</th>\n",
       "    </tr>\n",
       "    <tr>\n",
       "      <th>NAME_1</th>\n",
       "      <th></th>\n",
       "      <th></th>\n",
       "    </tr>\n",
       "  </thead>\n",
       "  <tbody>\n",
       "    <tr>\n",
       "      <th>Abra</th>\n",
       "      <td>0.1641</td>\n",
       "      <td>0.2977</td>\n",
       "    </tr>\n",
       "    <tr>\n",
       "      <th>Agusan Del Norte</th>\n",
       "      <td>0.3180</td>\n",
       "      <td>0.3440</td>\n",
       "    </tr>\n",
       "    <tr>\n",
       "      <th>Agusan Del Sur</th>\n",
       "      <td>0.1146</td>\n",
       "      <td>0.1531</td>\n",
       "    </tr>\n",
       "    <tr>\n",
       "      <th>Aklan</th>\n",
       "      <td>0.0000</td>\n",
       "      <td>0.0000</td>\n",
       "    </tr>\n",
       "    <tr>\n",
       "      <th>Albay</th>\n",
       "      <td>0.0000</td>\n",
       "      <td>0.0000</td>\n",
       "    </tr>\n",
       "  </tbody>\n",
       "</table>\n",
       "</div>"
      ],
      "text/plain": [
       "                  rp10_pop  rp100_pop\n",
       "NAME_1                               \n",
       "Abra                0.1641     0.2977\n",
       "Agusan Del Norte    0.3180     0.3440\n",
       "Agusan Del Sur      0.1146     0.1531\n",
       "Aklan               0.0000     0.0000\n",
       "Albay               0.0000     0.0000"
      ]
     },
     "execution_count": 8,
     "metadata": {},
     "output_type": "execute_result"
    }
   ],
   "source": [
    "#Exposure to floods (from glofris)\n",
    "pop_exposed = pd.read_csv(\"inputs/pop_exposed.csv\",index_col=[\"NAME_1\"])\n",
    "pop_exposed.index=pop_exposed.index.str.title()\n",
    "pop_exposed.head()"
   ]
  },
  {
   "cell_type": "markdown",
   "metadata": {},
   "source": [
    "Note how for some provinces (Aklan, Albay) are not exposed to river flodds according to our data source. Also, the data we have here is for several return periods. The model can work either with on single return period or several return periods. The information on different exposed periods sorted in a different variable, `fa_ratios`.\n",
    "\n",
    "First we define the exposure (Fraction of people Affected) as the one corresponding to 10 yr return period"
   ]
  },
  {
   "cell_type": "code",
   "execution_count": 9,
   "metadata": {
    "ExecuteTime": {
     "end_time": "2016-03-01T17:08:40.264673",
     "start_time": "2016-03-01T17:08:40.196619"
    },
    "collapsed": false
   },
   "outputs": [
    {
     "data": {
      "text/html": [
       "<div>\n",
       "<table border=\"1\" class=\"dataframe\">\n",
       "  <thead>\n",
       "    <tr style=\"text-align: right;\">\n",
       "      <th></th>\n",
       "      <th>gdp_pc_pp</th>\n",
       "      <th>pop</th>\n",
       "      <th>pov_head</th>\n",
       "      <th>shew</th>\n",
       "      <th>gdp_pc_pp_nat</th>\n",
       "      <th>rel_gdp_pp</th>\n",
       "      <th>share1</th>\n",
       "      <th>axfin_p</th>\n",
       "      <th>axfin_r</th>\n",
       "      <th>social_p</th>\n",
       "      <th>social_r</th>\n",
       "      <th>fa</th>\n",
       "    </tr>\n",
       "    <tr>\n",
       "      <th>Province</th>\n",
       "      <th></th>\n",
       "      <th></th>\n",
       "      <th></th>\n",
       "      <th></th>\n",
       "      <th></th>\n",
       "      <th></th>\n",
       "      <th></th>\n",
       "      <th></th>\n",
       "      <th></th>\n",
       "      <th></th>\n",
       "      <th></th>\n",
       "      <th></th>\n",
       "    </tr>\n",
       "  </thead>\n",
       "  <tbody>\n",
       "    <tr>\n",
       "      <th>Abra</th>\n",
       "      <td>133.688</td>\n",
       "      <td>240135.244121</td>\n",
       "      <td>37.35946</td>\n",
       "      <td>95.341615</td>\n",
       "      <td>184.136685</td>\n",
       "      <td>0.726026</td>\n",
       "      <td>0.374005</td>\n",
       "      <td>69.323319</td>\n",
       "      <td>69.323319</td>\n",
       "      <td>40.868266</td>\n",
       "      <td>40.868266</td>\n",
       "      <td>0.1641</td>\n",
       "    </tr>\n",
       "    <tr>\n",
       "      <th>Agusan Del Norte</th>\n",
       "      <td>179.014</td>\n",
       "      <td>661728.454375</td>\n",
       "      <td>34.67151</td>\n",
       "      <td>82.127660</td>\n",
       "      <td>184.136685</td>\n",
       "      <td>0.972180</td>\n",
       "      <td>0.279308</td>\n",
       "      <td>49.687990</td>\n",
       "      <td>49.687990</td>\n",
       "      <td>38.800312</td>\n",
       "      <td>38.800312</td>\n",
       "      <td>0.3180</td>\n",
       "    </tr>\n",
       "    <tr>\n",
       "      <th>Agusan Del Sur</th>\n",
       "      <td>126.492</td>\n",
       "      <td>677779.682154</td>\n",
       "      <td>48.07851</td>\n",
       "      <td>82.127660</td>\n",
       "      <td>184.136685</td>\n",
       "      <td>0.686946</td>\n",
       "      <td>0.395282</td>\n",
       "      <td>47.596891</td>\n",
       "      <td>47.596891</td>\n",
       "      <td>38.800312</td>\n",
       "      <td>38.800312</td>\n",
       "      <td>0.1146</td>\n",
       "    </tr>\n",
       "    <tr>\n",
       "      <th>Aklan</th>\n",
       "      <td>119.962</td>\n",
       "      <td>554414.442422</td>\n",
       "      <td>24.96618</td>\n",
       "      <td>82.300275</td>\n",
       "      <td>184.136685</td>\n",
       "      <td>0.651483</td>\n",
       "      <td>0.416799</td>\n",
       "      <td>66.008332</td>\n",
       "      <td>66.008332</td>\n",
       "      <td>43.290267</td>\n",
       "      <td>43.290267</td>\n",
       "      <td>0.0000</td>\n",
       "    </tr>\n",
       "    <tr>\n",
       "      <th>Albay</th>\n",
       "      <td>158.629</td>\n",
       "      <td>1264097.894966</td>\n",
       "      <td>40.95874</td>\n",
       "      <td>80.000000</td>\n",
       "      <td>184.136685</td>\n",
       "      <td>0.861474</td>\n",
       "      <td>0.315201</td>\n",
       "      <td>55.131436</td>\n",
       "      <td>55.131436</td>\n",
       "      <td>40.379394</td>\n",
       "      <td>40.379394</td>\n",
       "      <td>0.0000</td>\n",
       "    </tr>\n",
       "  </tbody>\n",
       "</table>\n",
       "</div>"
      ],
      "text/plain": [
       "                  gdp_pc_pp             pop  pov_head       shew  \\\n",
       "Province                                                           \n",
       "Abra                133.688   240135.244121  37.35946  95.341615   \n",
       "Agusan Del Norte    179.014   661728.454375  34.67151  82.127660   \n",
       "Agusan Del Sur      126.492   677779.682154  48.07851  82.127660   \n",
       "Aklan               119.962   554414.442422  24.96618  82.300275   \n",
       "Albay               158.629  1264097.894966  40.95874  80.000000   \n",
       "\n",
       "                  gdp_pc_pp_nat  rel_gdp_pp    share1    axfin_p    axfin_r  \\\n",
       "Province                                                                      \n",
       "Abra                 184.136685    0.726026  0.374005  69.323319  69.323319   \n",
       "Agusan Del Norte     184.136685    0.972180  0.279308  49.687990  49.687990   \n",
       "Agusan Del Sur       184.136685    0.686946  0.395282  47.596891  47.596891   \n",
       "Aklan                184.136685    0.651483  0.416799  66.008332  66.008332   \n",
       "Albay                184.136685    0.861474  0.315201  55.131436  55.131436   \n",
       "\n",
       "                   social_p   social_r      fa  \n",
       "Province                                        \n",
       "Abra              40.868266  40.868266  0.1641  \n",
       "Agusan Del Norte  38.800312  38.800312  0.3180  \n",
       "Agusan Del Sur    38.800312  38.800312  0.1146  \n",
       "Aklan             43.290267  43.290267  0.0000  \n",
       "Albay             40.379394  40.379394  0.0000  "
      ]
     },
     "execution_count": 9,
     "metadata": {},
     "output_type": "execute_result"
    }
   ],
   "source": [
    "df[\"fa\"]=pop_exposed[\"rp10_pop\"]\n",
    "df.head()"
   ]
  },
  {
   "cell_type": "markdown",
   "metadata": {},
   "source": [
    "Then we define the exposure to other return period events relative to the exposure to the 10yr event"
   ]
  },
  {
   "cell_type": "code",
   "execution_count": 10,
   "metadata": {
    "ExecuteTime": {
     "end_time": "2016-03-01T17:08:40.309704",
     "start_time": "2016-03-01T17:08:40.268676"
    },
    "collapsed": false
   },
   "outputs": [
    {
     "data": {
      "text/html": [
       "<div>\n",
       "<table border=\"1\" class=\"dataframe\">\n",
       "  <thead>\n",
       "    <tr style=\"text-align: right;\">\n",
       "      <th></th>\n",
       "      <th>10</th>\n",
       "      <th>100</th>\n",
       "    </tr>\n",
       "  </thead>\n",
       "  <tbody>\n",
       "    <tr>\n",
       "      <th>Abra</th>\n",
       "      <td>1</td>\n",
       "      <td>1.814138</td>\n",
       "    </tr>\n",
       "    <tr>\n",
       "      <th>Agusan Del Norte</th>\n",
       "      <td>1</td>\n",
       "      <td>1.081761</td>\n",
       "    </tr>\n",
       "    <tr>\n",
       "      <th>Agusan Del Sur</th>\n",
       "      <td>1</td>\n",
       "      <td>1.335951</td>\n",
       "    </tr>\n",
       "    <tr>\n",
       "      <th>Aklan</th>\n",
       "      <td>NaN</td>\n",
       "      <td>NaN</td>\n",
       "    </tr>\n",
       "    <tr>\n",
       "      <th>Albay</th>\n",
       "      <td>NaN</td>\n",
       "      <td>NaN</td>\n",
       "    </tr>\n",
       "  </tbody>\n",
       "</table>\n",
       "</div>"
      ],
      "text/plain": [
       "                  10        100\n",
       "Abra                1  1.814138\n",
       "Agusan Del Norte    1  1.081761\n",
       "Agusan Del Sur      1  1.335951\n",
       "Aklan             NaN       NaN\n",
       "Albay             NaN       NaN"
      ]
     },
     "execution_count": 10,
     "metadata": {},
     "output_type": "execute_result"
    }
   ],
   "source": [
    "fa_ratios =pop_exposed.div(df[\"fa\"],axis=0)\n",
    "fa_ratios.columns=[10,100]\n",
    "fa_ratios.to_csv(\"fa_ratios.csv\") \n",
    "fa_ratios.head()"
   ]
  },
  {
   "cell_type": "markdown",
   "metadata": {},
   "source": [
    "For the provinces with no exposure, we get NaN (not a number), because of the division by 0. The pandas dataframe handle missing data seamlessly.\n",
    "The method dropna() allows to drop the ines for which some data is missing."
   ]
  },
  {
   "cell_type": "code",
   "execution_count": 11,
   "metadata": {
    "ExecuteTime": {
     "end_time": "2016-03-01T17:08:40.338723",
     "start_time": "2016-03-01T17:08:40.312705"
    },
    "collapsed": false
   },
   "outputs": [
    {
     "name": "stdout",
     "output_type": "stream",
     "text": [
      "In the dataset we currenty use, there are 37 provinces with information on exposure.\n"
     ]
    },
    {
     "data": {
      "text/html": [
       "<div>\n",
       "<table border=\"1\" class=\"dataframe\">\n",
       "  <thead>\n",
       "    <tr style=\"text-align: right;\">\n",
       "      <th></th>\n",
       "      <th>10</th>\n",
       "      <th>100</th>\n",
       "    </tr>\n",
       "  </thead>\n",
       "  <tbody>\n",
       "    <tr>\n",
       "      <th>Abra</th>\n",
       "      <td>1</td>\n",
       "      <td>1.814138</td>\n",
       "    </tr>\n",
       "    <tr>\n",
       "      <th>Agusan Del Norte</th>\n",
       "      <td>1</td>\n",
       "      <td>1.081761</td>\n",
       "    </tr>\n",
       "    <tr>\n",
       "      <th>Agusan Del Sur</th>\n",
       "      <td>1</td>\n",
       "      <td>1.335951</td>\n",
       "    </tr>\n",
       "    <tr>\n",
       "      <th>Apayao</th>\n",
       "      <td>1</td>\n",
       "      <td>1.000000</td>\n",
       "    </tr>\n",
       "    <tr>\n",
       "      <th>Batangas</th>\n",
       "      <td>1</td>\n",
       "      <td>1.000000</td>\n",
       "    </tr>\n",
       "  </tbody>\n",
       "</table>\n",
       "</div>"
      ],
      "text/plain": [
       "                  10        100\n",
       "Abra                1  1.814138\n",
       "Agusan Del Norte    1  1.081761\n",
       "Agusan Del Sur      1  1.335951\n",
       "Apayao              1  1.000000\n",
       "Batangas            1  1.000000"
      ]
     },
     "execution_count": 11,
     "metadata": {},
     "output_type": "execute_result"
    }
   ],
   "source": [
    "print(\"In the dataset we currenty use, there are {n} provinces with information on exposure.\".format(n=len(fa_ratios.dropna().index)))\n",
    "fa_ratios.dropna().head()"
   ]
  },
  {
   "cell_type": "markdown",
   "metadata": {},
   "source": [
    "### Vulnerability"
   ]
  },
  {
   "cell_type": "markdown",
   "metadata": {},
   "source": [
    "To assess asset vulnerability in each province, we use census data on roof and wall types in each province.\n",
    "We match these types to a given vulnerability with reduced vulnerability curves. Let us first open the files that matche wall and roof types to vulnerability."
   ]
  },
  {
   "cell_type": "markdown",
   "metadata": {
    "ExecuteTime": {
     "end_time": "2016-03-01T15:46:10.820589",
     "start_time": "2016-03-01T15:46:10.818588"
    }
   },
   "source": [
    "#### Reduced vulnerability curves for wall and roofs"
   ]
  },
  {
   "cell_type": "code",
   "execution_count": 12,
   "metadata": {
    "ExecuteTime": {
     "end_time": "2016-03-01T17:08:40.368752",
     "start_time": "2016-03-01T17:08:40.342730"
    },
    "collapsed": false
   },
   "outputs": [
    {
     "name": "stdout",
     "output_type": "stream",
     "text": [
      "Reduced vulnerability curve for roofs\n",
      "\n",
      "Roof_% Salvaged/mixed but predominatly salvaged materials 2012    0.7\n",
      "Roof_% Light/mixed but predominantly light materials 2012         0.4\n",
      "Roof_% Strong/mixed but predominantly strong materials 2012       0.1\n",
      "Name: 0, dtype: float64\n"
     ]
    }
   ],
   "source": [
    "#matches roof and wall types to vulnerabilities\n",
    "roof_types_to_vuln =pd.read_csv(\"inputs/roof_types_to_vuln.csv\").squeeze().sort_values(ascending=False)\n",
    "wall_types_to_vuln =pd.read_csv(\"inputs/wall_types_to_vuln.csv\").squeeze().sort_values(ascending=False)\n",
    "\n",
    "print(\"Reduced vulnerability curve for roofs\\n\")\n",
    "print(roof_types_to_vuln)\n",
    "#print(\"\\nReduced vulnerability curve for walls\")\n",
    "#print(wall_types_to_vuln)"
   ]
  },
  {
   "cell_type": "markdown",
   "metadata": {
    "ExecuteTime": {
     "end_time": "2016-03-01T15:47:04.801439",
     "start_time": "2016-03-01T15:47:04.799439"
    }
   },
   "source": [
    "#### Sorting roofs according to income"
   ]
  },
  {
   "cell_type": "markdown",
   "metadata": {},
   "source": [
    "The data for **roof** types in each province come from the excel file with socio-economic data we used at the begining."
   ]
  },
  {
   "cell_type": "code",
   "execution_count": 13,
   "metadata": {
    "ExecuteTime": {
     "end_time": "2016-03-01T17:08:40.409778",
     "start_time": "2016-03-01T17:08:40.381760"
    },
    "collapsed": false
   },
   "outputs": [
    {
     "data": {
      "text/html": [
       "<div>\n",
       "<table border=\"1\" class=\"dataframe\">\n",
       "  <thead>\n",
       "    <tr style=\"text-align: right;\">\n",
       "      <th></th>\n",
       "      <th>Roof_% Salvaged/mixed but predominatly salvaged materials 2012</th>\n",
       "      <th>Roof_% Light/mixed but predominantly light materials 2012</th>\n",
       "      <th>Roof_% Strong/mixed but predominantly strong materials 2012</th>\n",
       "    </tr>\n",
       "    <tr>\n",
       "      <th>Province</th>\n",
       "      <th></th>\n",
       "      <th></th>\n",
       "      <th></th>\n",
       "    </tr>\n",
       "  </thead>\n",
       "  <tbody>\n",
       "    <tr>\n",
       "      <th>Abra</th>\n",
       "      <td>0.266667</td>\n",
       "      <td>5.066667</td>\n",
       "      <td>94.666667</td>\n",
       "    </tr>\n",
       "    <tr>\n",
       "      <th>Agusan Del Norte</th>\n",
       "      <td>0.751880</td>\n",
       "      <td>32.706767</td>\n",
       "      <td>66.541353</td>\n",
       "    </tr>\n",
       "    <tr>\n",
       "      <th>Agusan Del Sur</th>\n",
       "      <td>0.751880</td>\n",
       "      <td>32.706767</td>\n",
       "      <td>66.541353</td>\n",
       "    </tr>\n",
       "    <tr>\n",
       "      <th>Aklan</th>\n",
       "      <td>1.310044</td>\n",
       "      <td>18.340611</td>\n",
       "      <td>80.349345</td>\n",
       "    </tr>\n",
       "    <tr>\n",
       "      <th>Albay</th>\n",
       "      <td>0.858369</td>\n",
       "      <td>30.643777</td>\n",
       "      <td>68.497854</td>\n",
       "    </tr>\n",
       "  </tbody>\n",
       "</table>\n",
       "</div>"
      ],
      "text/plain": [
       "                  Roof_% Salvaged/mixed but predominatly salvaged materials 2012  \\\n",
       "Province                                                                           \n",
       "Abra                                                       0.266667                \n",
       "Agusan Del Norte                                           0.751880                \n",
       "Agusan Del Sur                                             0.751880                \n",
       "Aklan                                                      1.310044                \n",
       "Albay                                                      0.858369                \n",
       "\n",
       "                  Roof_% Light/mixed but predominantly light materials 2012  \\\n",
       "Province                                                                      \n",
       "Abra                                                       5.066667           \n",
       "Agusan Del Norte                                          32.706767           \n",
       "Agusan Del Sur                                            32.706767           \n",
       "Aklan                                                     18.340611           \n",
       "Albay                                                     30.643777           \n",
       "\n",
       "                  Roof_% Strong/mixed but predominantly strong materials 2012  \n",
       "Province                                                                       \n",
       "Abra                                                      94.666667            \n",
       "Agusan Del Norte                                          66.541353            \n",
       "Agusan Del Sur                                            66.541353            \n",
       "Aklan                                                     80.349345            \n",
       "Albay                                                     68.497854            "
      ]
     },
     "execution_count": 13,
     "metadata": {},
     "output_type": "execute_result"
    }
   ],
   "source": [
    "share =data_from_excel[roof_types_to_vuln.index]\n",
    "share.head()"
   ]
  },
  {
   "cell_type": "markdown",
   "metadata": {},
   "source": [
    "Then we assume that the poorest households in  each province use the houses with lowest quality roofs."
   ]
  },
  {
   "cell_type": "code",
   "execution_count": 14,
   "metadata": {
    "ExecuteTime": {
     "end_time": "2016-03-01T17:08:40.447808",
     "start_time": "2016-03-01T17:08:40.416783"
    },
    "collapsed": false
   },
   "outputs": [
    {
     "name": "stdout",
     "output_type": "stream",
     "text": [
      "Type of roofs for nonpoor households:\n"
     ]
    },
    {
     "data": {
      "text/html": [
       "<div>\n",
       "<table border=\"1\" class=\"dataframe\">\n",
       "  <thead>\n",
       "    <tr style=\"text-align: right;\">\n",
       "      <th></th>\n",
       "      <th>Roof_% Salvaged/mixed but predominatly salvaged materials 2012</th>\n",
       "      <th>Roof_% Light/mixed but predominantly light materials 2012</th>\n",
       "      <th>Roof_% Strong/mixed but predominantly strong materials 2012</th>\n",
       "    </tr>\n",
       "    <tr>\n",
       "      <th>Province</th>\n",
       "      <th></th>\n",
       "      <th></th>\n",
       "      <th></th>\n",
       "    </tr>\n",
       "  </thead>\n",
       "  <tbody>\n",
       "    <tr>\n",
       "      <th>Abra</th>\n",
       "      <td>0</td>\n",
       "      <td>0</td>\n",
       "      <td>62.64054</td>\n",
       "    </tr>\n",
       "    <tr>\n",
       "      <th>Agusan Del Norte</th>\n",
       "      <td>0</td>\n",
       "      <td>0</td>\n",
       "      <td>65.32849</td>\n",
       "    </tr>\n",
       "    <tr>\n",
       "      <th>Agusan Del Sur</th>\n",
       "      <td>0</td>\n",
       "      <td>0</td>\n",
       "      <td>51.92149</td>\n",
       "    </tr>\n",
       "    <tr>\n",
       "      <th>Aklan</th>\n",
       "      <td>0</td>\n",
       "      <td>0</td>\n",
       "      <td>75.03382</td>\n",
       "    </tr>\n",
       "    <tr>\n",
       "      <th>Albay</th>\n",
       "      <td>0</td>\n",
       "      <td>0</td>\n",
       "      <td>59.04126</td>\n",
       "    </tr>\n",
       "  </tbody>\n",
       "</table>\n",
       "</div>"
      ],
      "text/plain": [
       "                  Roof_% Salvaged/mixed but predominatly salvaged materials 2012  \\\n",
       "Province                                                                           \n",
       "Abra                                                              0                \n",
       "Agusan Del Norte                                                  0                \n",
       "Agusan Del Sur                                                    0                \n",
       "Aklan                                                             0                \n",
       "Albay                                                             0                \n",
       "\n",
       "                  Roof_% Light/mixed but predominantly light materials 2012  \\\n",
       "Province                                                                      \n",
       "Abra                                                              0           \n",
       "Agusan Del Norte                                                  0           \n",
       "Agusan Del Sur                                                    0           \n",
       "Aklan                                                             0           \n",
       "Albay                                                             0           \n",
       "\n",
       "                  Roof_% Strong/mixed but predominantly strong materials 2012  \n",
       "Province                                                                       \n",
       "Abra                                                       62.64054            \n",
       "Agusan Del Norte                                           65.32849            \n",
       "Agusan Del Sur                                             51.92149            \n",
       "Aklan                                                      75.03382            \n",
       "Albay                                                      59.04126            "
      ]
     },
     "execution_count": 14,
     "metadata": {},
     "output_type": "execute_result"
    }
   ],
   "source": [
    "#sorts roof types according to income\n",
    "p=(share.cumsum(axis=1).add(-df[\"pov_head\"],axis=0)).clip(lower=0)\n",
    "poor=(share-p).clip(lower=0)\n",
    "rich=share-poor\n",
    "\n",
    "print(\"Type of roofs for nonpoor households:\")\n",
    "rich.head()"
   ]
  },
  {
   "cell_type": "markdown",
   "metadata": {},
   "source": [
    "Finally we average vulnerability accross roof types"
   ]
  },
  {
   "cell_type": "code",
   "execution_count": 15,
   "metadata": {
    "ExecuteTime": {
     "end_time": "2016-03-01T17:08:40.464824",
     "start_time": "2016-03-01T17:08:40.450810"
    },
    "collapsed": false
   },
   "outputs": [
    {
     "data": {
      "text/plain": [
       "Province\n",
       "Abra                0.144969\n",
       "Agusan Del Norte    0.396011\n",
       "Agusan Del Sur      0.313467\n",
       "Aklan               0.351869\n",
       "Albay               0.337023\n",
       "dtype: float64"
      ]
     },
     "execution_count": 15,
     "metadata": {},
     "output_type": "execute_result"
    }
   ],
   "source": [
    "#averages vulnerability accross roof type\n",
    "vp_roof=((poor*roof_types_to_vuln).sum(axis=1)/df[\"pov_head\"] )\n",
    "vr_roof=(rich*roof_types_to_vuln).sum(axis=1)/(1-df[\"pov_head\"])\n",
    "\n",
    "vp_roof.head()"
   ]
  },
  {
   "cell_type": "markdown",
   "metadata": {
    "ExecuteTime": {
     "end_time": "2016-03-01T15:47:04.801439",
     "start_time": "2016-03-01T15:47:04.799439"
    }
   },
   "source": [
    "#### Sorting walls according to income"
   ]
  },
  {
   "cell_type": "markdown",
   "metadata": {},
   "source": [
    "Then we do the same for <b>walls</b>..."
   ]
  },
  {
   "cell_type": "code",
   "execution_count": 16,
   "metadata": {
    "ExecuteTime": {
     "end_time": "2016-03-01T17:08:40.503851",
     "start_time": "2016-03-01T17:08:40.468826"
    },
    "collapsed": false
   },
   "outputs": [],
   "source": [
    "#sorts wall types according to income\n",
    "share =data_from_excel[wall_types_to_vuln.keys()]\n",
    "p=(share.cumsum(axis=1).add(-df[\"pov_head\"],axis=0)).clip(lower=0)\n",
    "poor=(share-p).clip(lower=0)\n",
    "rich=share-poor\n",
    "\n",
    "#walls\n",
    "vp_wall=((poor*wall_types_to_vuln).sum(axis=1)/df[\"pov_head\"] )\n",
    "vr_wall=(rich*wall_types_to_vuln).sum(axis=1)/(1-df[\"pov_head\"])\n"
   ]
  },
  {
   "cell_type": "markdown",
   "metadata": {},
   "source": [
    "...and take the average value for roof and walls."
   ]
  },
  {
   "cell_type": "code",
   "execution_count": 17,
   "metadata": {
    "ExecuteTime": {
     "end_time": "2016-03-01T17:08:40.516858",
     "start_time": "2016-03-01T17:08:40.507854"
    },
    "collapsed": false
   },
   "outputs": [],
   "source": [
    "#averages value for roofs and walls\n",
    "vp = (vp_roof+vp_wall)/2\n",
    "vr = (vr_roof+vr_wall)/2\n",
    "\n",
    "#plots\n",
    "#vp.hist(), plt.xlabel(\"vp\")\n",
    "#plt.figure()\n",
    "#vr.hist(),plt.xlabel(\"vr\")"
   ]
  },
  {
   "cell_type": "markdown",
   "metadata": {},
   "source": [
    "### Adapting the data on exposure and vulnerability"
   ]
  },
  {
   "cell_type": "markdown",
   "metadata": {},
   "source": [
    "The model needs the information on exposure and vulnerability within each province to be provided as an <b>average</b> and <b>a bias for poor households</b>."
   ]
  },
  {
   "cell_type": "code",
   "execution_count": 18,
   "metadata": {
    "ExecuteTime": {
     "end_time": "2016-03-01T17:08:40.556894",
     "start_time": "2016-03-01T17:08:40.520861"
    },
    "collapsed": false
   },
   "outputs": [],
   "source": [
    "#We only have average exposure, so we assume an exposure poverty bias of 20%\n",
    "#This is a data gap that could be filled later\n",
    "pe=df[\"pe\"] = .2\n",
    "\n",
    "#Expresses vulnerability as total and bias\n",
    "ph=df[\"pov_head\"]\n",
    "fa=df[\"fa\"]\n",
    "fap=fa*(1+pe)\n",
    "far=(fa-ph*fap)/(1-ph)\n",
    "\n",
    "cp=   df[\"share1\"] *df[\"gdp_pc_pp\"]/ph\n",
    "cr=(1-df[\"share1\"])*df[\"gdp_pc_pp\"]/(1-ph)\n",
    "\n",
    "v=df[\"v\"]  = (ph*vp*cp*fap + (1-ph)*vr*cr*far)/(ph*cp*fap + (1-ph)*cr*far)\n",
    "df[\"pv\"] =  vp/df.v-1\n",
    "\n",
    "#vulnerability of diversified (shared) capital\n",
    "df[\"v_s\"]=vr\n",
    "\n",
    "# %matplotlib inline\n",
    "# vp .hist(alpha=0.5)\n",
    "# vr.hist(alpha=0.5)\n",
    "# v.hist(alpha=0.5)"
   ]
  },
  {
   "cell_type": "markdown",
   "metadata": {},
   "source": [
    "### Hazard (protection)"
   ]
  },
  {
   "cell_type": "markdown",
   "metadata": {},
   "source": [
    "We capture hazard through the protection level, given in return period. Here we use data from FLOPROS as a placeholder.\n",
    "FLOPROS uses a different spelling for some province, so we correct that here."
   ]
  },
  {
   "cell_type": "code",
   "execution_count": 19,
   "metadata": {
    "ExecuteTime": {
     "end_time": "2016-03-01T17:08:40.588917",
     "start_time": "2016-03-01T17:08:40.563899"
    },
    "collapsed": false
   },
   "outputs": [
    {
     "ename": "OSError",
     "evalue": "File b'inputs/protection_phl.csv' does not exist",
     "output_type": "error",
     "traceback": [
      "\u001b[1;31m---------------------------------------------------------------------------\u001b[0m",
      "\u001b[1;31mOSError\u001b[0m                                   Traceback (most recent call last)",
      "\u001b[1;32m<ipython-input-19-4796e5cbd4d3>\u001b[0m in \u001b[0;36m<module>\u001b[1;34m()\u001b[0m\n\u001b[1;32m----> 1\u001b[1;33m \u001b[0mprotection\u001b[0m \u001b[1;33m=\u001b[0m \u001b[0mpd\u001b[0m\u001b[1;33m.\u001b[0m\u001b[0mread_csv\u001b[0m\u001b[1;33m(\u001b[0m\u001b[1;34m\"inputs/protection_phl.csv\"\u001b[0m\u001b[1;33m,\u001b[0m\u001b[0mindex_col\u001b[0m\u001b[1;33m=\u001b[0m\u001b[1;34m\"province\"\u001b[0m\u001b[1;33m,\u001b[0m \u001b[0msqueeze\u001b[0m\u001b[1;33m=\u001b[0m\u001b[1;32mTrue\u001b[0m\u001b[1;33m)\u001b[0m\u001b[1;33m.\u001b[0m\u001b[0msort_index\u001b[0m\u001b[1;33m(\u001b[0m\u001b[1;33m)\u001b[0m\u001b[1;33m\u001b[0m\u001b[0m\n\u001b[0m\u001b[0;32m      2\u001b[0m \u001b[0mprotection\u001b[0m\u001b[1;33m.\u001b[0m\u001b[0mindex\u001b[0m \u001b[1;33m=\u001b[0m \u001b[0mprotection\u001b[0m\u001b[1;33m.\u001b[0m\u001b[0mindex\u001b[0m\u001b[1;33m.\u001b[0m\u001b[0mstr\u001b[0m\u001b[1;33m.\u001b[0m\u001b[0mtitle\u001b[0m\u001b[1;33m(\u001b[0m\u001b[1;33m)\u001b[0m\u001b[1;33m\u001b[0m\u001b[0m\n\u001b[0;32m      3\u001b[0m protection.rename(index={\"Cotabato\":\"North Cotabato\",\n\u001b[0;32m      4\u001b[0m                          \u001b[1;34m'Mindoro Occidental'\u001b[0m\u001b[1;33m:\u001b[0m\u001b[1;34m\"Occidental Mindoro\"\u001b[0m\u001b[1;33m,\u001b[0m\u001b[1;33m\u001b[0m\u001b[0m\n\u001b[0;32m      5\u001b[0m                          'Mindoro Oriental':\"Oriental Mindoro\",}, inplace=True) #(an altenrative way would be to use and demonstrate the function replace_with_warning)\n",
      "\u001b[1;32mC:\\Users\\Admin\\Anaconda3\\lib\\site-packages\\pandas\\io\\parsers.py\u001b[0m in \u001b[0;36mparser_f\u001b[1;34m(filepath_or_buffer, sep, dialect, compression, doublequote, escapechar, quotechar, quoting, skipinitialspace, lineterminator, header, index_col, names, prefix, skiprows, skipfooter, skip_footer, na_values, true_values, false_values, delimiter, converters, dtype, usecols, engine, delim_whitespace, as_recarray, na_filter, compact_ints, use_unsigned, low_memory, buffer_lines, warn_bad_lines, error_bad_lines, keep_default_na, thousands, comment, decimal, parse_dates, keep_date_col, dayfirst, date_parser, memory_map, float_precision, nrows, iterator, chunksize, verbose, encoding, squeeze, mangle_dupe_cols, tupleize_cols, infer_datetime_format, skip_blank_lines)\u001b[0m\n\u001b[0;32m    496\u001b[0m                     skip_blank_lines=skip_blank_lines)\n\u001b[0;32m    497\u001b[0m \u001b[1;33m\u001b[0m\u001b[0m\n\u001b[1;32m--> 498\u001b[1;33m         \u001b[1;32mreturn\u001b[0m \u001b[0m_read\u001b[0m\u001b[1;33m(\u001b[0m\u001b[0mfilepath_or_buffer\u001b[0m\u001b[1;33m,\u001b[0m \u001b[0mkwds\u001b[0m\u001b[1;33m)\u001b[0m\u001b[1;33m\u001b[0m\u001b[0m\n\u001b[0m\u001b[0;32m    499\u001b[0m \u001b[1;33m\u001b[0m\u001b[0m\n\u001b[0;32m    500\u001b[0m     \u001b[0mparser_f\u001b[0m\u001b[1;33m.\u001b[0m\u001b[0m__name__\u001b[0m \u001b[1;33m=\u001b[0m \u001b[0mname\u001b[0m\u001b[1;33m\u001b[0m\u001b[0m\n",
      "\u001b[1;32mC:\\Users\\Admin\\Anaconda3\\lib\\site-packages\\pandas\\io\\parsers.py\u001b[0m in \u001b[0;36m_read\u001b[1;34m(filepath_or_buffer, kwds)\u001b[0m\n\u001b[0;32m    273\u001b[0m \u001b[1;33m\u001b[0m\u001b[0m\n\u001b[0;32m    274\u001b[0m     \u001b[1;31m# Create the parser.\u001b[0m\u001b[1;33m\u001b[0m\u001b[1;33m\u001b[0m\u001b[0m\n\u001b[1;32m--> 275\u001b[1;33m     \u001b[0mparser\u001b[0m \u001b[1;33m=\u001b[0m \u001b[0mTextFileReader\u001b[0m\u001b[1;33m(\u001b[0m\u001b[0mfilepath_or_buffer\u001b[0m\u001b[1;33m,\u001b[0m \u001b[1;33m**\u001b[0m\u001b[0mkwds\u001b[0m\u001b[1;33m)\u001b[0m\u001b[1;33m\u001b[0m\u001b[0m\n\u001b[0m\u001b[0;32m    276\u001b[0m \u001b[1;33m\u001b[0m\u001b[0m\n\u001b[0;32m    277\u001b[0m     \u001b[1;32mif\u001b[0m \u001b[1;33m(\u001b[0m\u001b[0mnrows\u001b[0m \u001b[1;32mis\u001b[0m \u001b[1;32mnot\u001b[0m \u001b[1;32mNone\u001b[0m\u001b[1;33m)\u001b[0m \u001b[1;32mand\u001b[0m \u001b[1;33m(\u001b[0m\u001b[0mchunksize\u001b[0m \u001b[1;32mis\u001b[0m \u001b[1;32mnot\u001b[0m \u001b[1;32mNone\u001b[0m\u001b[1;33m)\u001b[0m\u001b[1;33m:\u001b[0m\u001b[1;33m\u001b[0m\u001b[0m\n",
      "\u001b[1;32mC:\\Users\\Admin\\Anaconda3\\lib\\site-packages\\pandas\\io\\parsers.py\u001b[0m in \u001b[0;36m__init__\u001b[1;34m(self, f, engine, **kwds)\u001b[0m\n\u001b[0;32m    588\u001b[0m             \u001b[0mself\u001b[0m\u001b[1;33m.\u001b[0m\u001b[0moptions\u001b[0m\u001b[1;33m[\u001b[0m\u001b[1;34m'has_index_names'\u001b[0m\u001b[1;33m]\u001b[0m \u001b[1;33m=\u001b[0m \u001b[0mkwds\u001b[0m\u001b[1;33m[\u001b[0m\u001b[1;34m'has_index_names'\u001b[0m\u001b[1;33m]\u001b[0m\u001b[1;33m\u001b[0m\u001b[0m\n\u001b[0;32m    589\u001b[0m \u001b[1;33m\u001b[0m\u001b[0m\n\u001b[1;32m--> 590\u001b[1;33m         \u001b[0mself\u001b[0m\u001b[1;33m.\u001b[0m\u001b[0m_make_engine\u001b[0m\u001b[1;33m(\u001b[0m\u001b[0mself\u001b[0m\u001b[1;33m.\u001b[0m\u001b[0mengine\u001b[0m\u001b[1;33m)\u001b[0m\u001b[1;33m\u001b[0m\u001b[0m\n\u001b[0m\u001b[0;32m    591\u001b[0m \u001b[1;33m\u001b[0m\u001b[0m\n\u001b[0;32m    592\u001b[0m     \u001b[1;32mdef\u001b[0m \u001b[0m_get_options_with_defaults\u001b[0m\u001b[1;33m(\u001b[0m\u001b[0mself\u001b[0m\u001b[1;33m,\u001b[0m \u001b[0mengine\u001b[0m\u001b[1;33m)\u001b[0m\u001b[1;33m:\u001b[0m\u001b[1;33m\u001b[0m\u001b[0m\n",
      "\u001b[1;32mC:\\Users\\Admin\\Anaconda3\\lib\\site-packages\\pandas\\io\\parsers.py\u001b[0m in \u001b[0;36m_make_engine\u001b[1;34m(self, engine)\u001b[0m\n\u001b[0;32m    729\u001b[0m     \u001b[1;32mdef\u001b[0m \u001b[0m_make_engine\u001b[0m\u001b[1;33m(\u001b[0m\u001b[0mself\u001b[0m\u001b[1;33m,\u001b[0m \u001b[0mengine\u001b[0m\u001b[1;33m=\u001b[0m\u001b[1;34m'c'\u001b[0m\u001b[1;33m)\u001b[0m\u001b[1;33m:\u001b[0m\u001b[1;33m\u001b[0m\u001b[0m\n\u001b[0;32m    730\u001b[0m         \u001b[1;32mif\u001b[0m \u001b[0mengine\u001b[0m \u001b[1;33m==\u001b[0m \u001b[1;34m'c'\u001b[0m\u001b[1;33m:\u001b[0m\u001b[1;33m\u001b[0m\u001b[0m\n\u001b[1;32m--> 731\u001b[1;33m             \u001b[0mself\u001b[0m\u001b[1;33m.\u001b[0m\u001b[0m_engine\u001b[0m \u001b[1;33m=\u001b[0m \u001b[0mCParserWrapper\u001b[0m\u001b[1;33m(\u001b[0m\u001b[0mself\u001b[0m\u001b[1;33m.\u001b[0m\u001b[0mf\u001b[0m\u001b[1;33m,\u001b[0m \u001b[1;33m**\u001b[0m\u001b[0mself\u001b[0m\u001b[1;33m.\u001b[0m\u001b[0moptions\u001b[0m\u001b[1;33m)\u001b[0m\u001b[1;33m\u001b[0m\u001b[0m\n\u001b[0m\u001b[0;32m    732\u001b[0m         \u001b[1;32melse\u001b[0m\u001b[1;33m:\u001b[0m\u001b[1;33m\u001b[0m\u001b[0m\n\u001b[0;32m    733\u001b[0m             \u001b[1;32mif\u001b[0m \u001b[0mengine\u001b[0m \u001b[1;33m==\u001b[0m \u001b[1;34m'python'\u001b[0m\u001b[1;33m:\u001b[0m\u001b[1;33m\u001b[0m\u001b[0m\n",
      "\u001b[1;32mC:\\Users\\Admin\\Anaconda3\\lib\\site-packages\\pandas\\io\\parsers.py\u001b[0m in \u001b[0;36m__init__\u001b[1;34m(self, src, **kwds)\u001b[0m\n\u001b[0;32m   1101\u001b[0m         \u001b[0mkwds\u001b[0m\u001b[1;33m[\u001b[0m\u001b[1;34m'allow_leading_cols'\u001b[0m\u001b[1;33m]\u001b[0m \u001b[1;33m=\u001b[0m \u001b[0mself\u001b[0m\u001b[1;33m.\u001b[0m\u001b[0mindex_col\u001b[0m \u001b[1;32mis\u001b[0m \u001b[1;32mnot\u001b[0m \u001b[1;32mFalse\u001b[0m\u001b[1;33m\u001b[0m\u001b[0m\n\u001b[0;32m   1102\u001b[0m \u001b[1;33m\u001b[0m\u001b[0m\n\u001b[1;32m-> 1103\u001b[1;33m         \u001b[0mself\u001b[0m\u001b[1;33m.\u001b[0m\u001b[0m_reader\u001b[0m \u001b[1;33m=\u001b[0m \u001b[0m_parser\u001b[0m\u001b[1;33m.\u001b[0m\u001b[0mTextReader\u001b[0m\u001b[1;33m(\u001b[0m\u001b[0msrc\u001b[0m\u001b[1;33m,\u001b[0m \u001b[1;33m**\u001b[0m\u001b[0mkwds\u001b[0m\u001b[1;33m)\u001b[0m\u001b[1;33m\u001b[0m\u001b[0m\n\u001b[0m\u001b[0;32m   1104\u001b[0m \u001b[1;33m\u001b[0m\u001b[0m\n\u001b[0;32m   1105\u001b[0m         \u001b[1;31m# XXX\u001b[0m\u001b[1;33m\u001b[0m\u001b[1;33m\u001b[0m\u001b[0m\n",
      "\u001b[1;32mpandas\\parser.pyx\u001b[0m in \u001b[0;36mpandas.parser.TextReader.__cinit__ (pandas\\parser.c:3246)\u001b[1;34m()\u001b[0m\n",
      "\u001b[1;32mpandas\\parser.pyx\u001b[0m in \u001b[0;36mpandas.parser.TextReader._setup_parser_source (pandas\\parser.c:6111)\u001b[1;34m()\u001b[0m\n",
      "\u001b[1;31mOSError\u001b[0m: File b'inputs/protection_phl.csv' does not exist"
     ]
    }
   ],
   "source": [
    "protection = pd.read_csv(\"inputs/protection_phl.csv\",index_col=\"province\", squeeze=True).sort_index()\n",
    "protection.index = protection.index.str.title()\n",
    "protection.rename(index={\"Cotabato\":\"North Cotabato\",\n",
    "                         'Mindoro Occidental':\"Occidental Mindoro\",\n",
    "                         'Mindoro Oriental':\"Oriental Mindoro\",}, inplace=True) #(an altenrative way would be to use and demonstrate the function replace_with_warning)\n",
    "protection.head()"
   ]
  },
  {
   "cell_type": "code",
   "execution_count": null,
   "metadata": {
    "ExecuteTime": {
     "end_time": "2016-03-01T17:08:40.613934",
     "start_time": "2016-03-01T17:08:40.601925"
    },
    "collapsed": true
   },
   "outputs": [],
   "source": [
    "df[\"protection\"]=protection"
   ]
  },
  {
   "cell_type": "markdown",
   "metadata": {},
   "source": [
    "# Manually filling data gaps and informing parameters"
   ]
  },
  {
   "cell_type": "markdown",
   "metadata": {
    "collapsed": true
   },
   "source": [
    "Some data is missing and has to be added manually"
   ]
  },
  {
   "cell_type": "code",
   "execution_count": null,
   "metadata": {
    "ExecuteTime": {
     "end_time": "2016-03-01T17:08:40.645458",
     "start_time": "2016-03-01T17:08:40.635947"
    },
    "collapsed": true
   },
   "outputs": [],
   "source": [
    "#average productivity of capital\n",
    "df[\"avg_prod_k\"] = .23\n",
    "\n",
    "#Reconstruction time (an only be guessed ex-ante)\n",
    "df[\"T_rebuild_K\"] = 3\n",
    "\n",
    "# how much early warning reduces vulnerability (eg reactivity to early warnings)\n",
    "df[\"pi\"] = 0.2"
   ]
  },
  {
   "cell_type": "markdown",
   "metadata": {},
   "source": [
    "Some other inputs are normative or policy choices"
   ]
  },
  {
   "cell_type": "code",
   "execution_count": null,
   "metadata": {
    "ExecuteTime": {
     "end_time": "2016-03-01T17:08:40.674983",
     "start_time": "2016-03-01T17:08:40.648460"
    },
    "collapsed": false
   },
   "outputs": [],
   "source": [
    "#assumption on cross-provincial risk sharing\n",
    "df[\"nat_buyout\"] = 0.3\n",
    "\n",
    "#scale up of transfers after the \n",
    "df[\"sigma_r\"]=df[\"sigma_p\"]=1/3\n",
    "\n",
    "#income elasticity\n",
    "df[\"income_elast\"] = 1.5"
   ]
  },
  {
   "cell_type": "markdown",
   "metadata": {},
   "source": [
    "# Adds description to the variables names"
   ]
  },
  {
   "cell_type": "markdown",
   "metadata": {},
   "source": [
    "Here we add a human readable descritpion to all model variables, based on the descriptions gathered in [inputs/inputs_info.csv](inputs/inputs_info.csv)"
   ]
  },
  {
   "cell_type": "code",
   "execution_count": null,
   "metadata": {
    "ExecuteTime": {
     "end_time": "2016-03-01T17:08:40.824096",
     "start_time": "2016-03-01T17:08:40.677986"
    },
    "collapsed": false
   },
   "outputs": [],
   "source": [
    "description = pd.read_csv(\"inputs/inputs_info.csv\", index_col=\"key\")[\"descriptor\"]\n",
    "df.ix[\"description\"]= description\n",
    "data=df.T.reset_index().set_index([\"description\",\"index\"]).T\n",
    "data.columns.names = ['description', 'variable']\n",
    "data.head().T #displays the first few provinces, transposed for ease of reading."
   ]
  },
  {
   "cell_type": "markdown",
   "metadata": {},
   "source": [
    "# Saves the table with compiled data"
   ]
  },
  {
   "cell_type": "code",
   "execution_count": null,
   "metadata": {
    "ExecuteTime": {
     "end_time": "2016-03-01T17:08:41.323464",
     "start_time": "2016-03-01T17:08:40.828098"
    },
    "collapsed": false
   },
   "outputs": [],
   "source": [
    "#saves orginal dataframe before adding columns with results\n",
    "data.to_excel(\"all_data_compiled.xlsx\")"
   ]
  },
  {
   "cell_type": "markdown",
   "metadata": {},
   "source": [
    "**That's it, we have built an excel file with all our data!**\n",
    "To see how to use this data with the resilience model, go to [socio_economic_capacity_demo.ipynb](socio_economic_capacity_demo.ipynb)\n",
    "\n",
    "\n",
    "\n",
    " "
   ]
  },
  {
   "cell_type": "markdown",
   "metadata": {},
   "source": [
    "# Report missing data by province"
   ]
  },
  {
   "cell_type": "markdown",
   "metadata": {},
   "source": [
    "This code builds a table reporting missing data points for each province"
   ]
  },
  {
   "cell_type": "code",
   "execution_count": null,
   "metadata": {
    "ExecuteTime": {
     "end_time": "2016-03-01T17:08:41.324464",
     "start_time": "2016-03-01T22:08:38.906Z"
    },
    "collapsed": false
   },
   "outputs": [],
   "source": [
    "def write_missing_data(s):\n",
    "    which = s[s.isnull()].index.values\n",
    "    return \", \".join(which)\n",
    "\n",
    "def count_missing_data(s):\n",
    "    return s.isnull().sum()\n",
    "\n",
    "report = pd.DataFrame()\n",
    "\n",
    "report[\"nb_missing\"]=df.apply(count_missing_data,axis=1)  \n",
    "report[\"missing_data\"]=df.apply(write_missing_data,axis=1)\n",
    "\n",
    "report  = report.ix[report[\"nb_missing\"]>0,:]\n",
    "report.sort_values(by=\"nb_missing\",inplace=True)\n",
    "report.to_csv(\"missing_data_report.csv\")\n",
    "\n",
    "report.head()"
   ]
  },
  {
   "cell_type": "markdown",
   "metadata": {},
   "source": [
    "We see that for two provinces, we have no data on protection. Let us inspect the data on protection."
   ]
  },
  {
   "cell_type": "code",
   "execution_count": null,
   "metadata": {
    "ExecuteTime": {
     "end_time": "2016-03-01T17:08:41.325468",
     "start_time": "2016-03-01T22:08:38.910Z"
    },
    "collapsed": false
   },
   "outputs": [],
   "source": [
    "protection.ix[[\"Misamis Occidental\", \"Negros Oriental\"]]"
   ]
  },
  {
   "cell_type": "markdown",
   "metadata": {
    "ExecuteTime": {
     "end_time": "2016-03-01T15:55:15.357382",
     "start_time": "2016-03-01T15:55:15.351381"
    }
   },
   "source": [
    "In our data on protection, these two provinces have a missing value (nan). This probelm should be investigated going back to the source used for protection (here, FLOPROS as a placeholder, but that could be relaced by a domestic source, for instance DOST)\n",
    "The output may be a bit tricky.\n",
    "Note that the missing data report can be a bit tricky. Here some provinces are missing an exposure (fa=0), and that results in the vulnerability and vulnerability bias missing (as one divides by fa when computng them)"
   ]
  }
 ],
 "metadata": {
  "kernelspec": {
   "display_name": "Python 3",
   "language": "python",
   "name": "python3"
  },
  "language_info": {
   "codemirror_mode": {
    "name": "ipython",
    "version": 3
   },
   "file_extension": ".py",
   "mimetype": "text/x-python",
   "name": "python",
   "nbconvert_exporter": "python",
   "pygments_lexer": "ipython3",
   "version": "3.4.4"
  }
 },
 "nbformat": 4,
 "nbformat_minor": 0
}
