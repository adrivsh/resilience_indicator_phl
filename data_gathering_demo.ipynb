{
 "cells": [
  {
   "cell_type": "markdown",
   "metadata": {},
   "source": [
    "**THIS FILE IS OUT OF DATE**.\n",
    "It is left there only for reference. The new PSA format for sharing data makes this notebook useless.  "
   ]
  },
  {
   "cell_type": "markdown",
   "metadata": {},
   "source": [
    "# Loading socio-economic data"
   ]
  },
  {
   "cell_type": "markdown",
   "metadata": {},
   "source": [
    "#### Loading functions"
   ]
  },
  {
   "cell_type": "markdown",
   "metadata": {},
   "source": [
    "First we import the [pandas](http://pandas.pydata.org/) function librairy. Pandas is a standard python librairy that alows us to manipulate Excel-like tables (called DataFrames) with named rows and columns."
   ]
  },
  {
   "cell_type": "code",
   "execution_count": 1,
   "metadata": {
    "ExecuteTime": {
     "end_time": "2016-03-01T17:08:39.676232",
     "start_time": "2016-03-01T17:08:38.764811"
    },
    "collapsed": true
   },
   "outputs": [],
   "source": [
    "import pandas as pd"
   ]
  },
  {
   "cell_type": "markdown",
   "metadata": {},
   "source": [
    "#### Reading data"
   ]
  },
  {
   "cell_type": "markdown",
   "metadata": {},
   "source": [
    "Now we read the excel data into a pandas DataFrame.\n",
    "We start from an Excel file that contains socio-economic data. In the future this file may for instance be populated by PSA."
   ]
  },
  {
   "cell_type": "code",
   "execution_count": 2,
   "metadata": {
    "ExecuteTime": {
     "end_time": "2016-03-01T17:08:39.950932",
     "start_time": "2016-03-01T17:08:39.680233"
    },
    "collapsed": false
   },
   "outputs": [
    {
     "data": {
      "text/html": [
       "<div>\n",
       "<table border=\"1\" class=\"dataframe\">\n",
       "  <thead>\n",
       "    <tr style=\"text-align: right;\">\n",
       "      <th></th>\n",
       "      <th>Region</th>\n",
       "      <th>Region PSGC</th>\n",
       "      <th>Province PSGC</th>\n",
       "      <th>GRDPC 2012 (At Current Prices)</th>\n",
       "      <th>Projected Population 2012</th>\n",
       "      <th>Average Annual Family Income, 2009</th>\n",
       "      <th>Average Annual  Family Income, by Region, 2012</th>\n",
       "      <th>% Wages and salaries 2012</th>\n",
       "      <th>% Entrepreneurial  activities 2012</th>\n",
       "      <th>% Other sources of income 2012</th>\n",
       "      <th>...</th>\n",
       "      <th>% Others Deposits 2012</th>\n",
       "      <th>% Health Expenditure 2012</th>\n",
       "      <th>% of Births by Attended Skilled Health Personnel 2012</th>\n",
       "      <th>% hh with radio 2012</th>\n",
       "      <th>% hh with landlines 2012</th>\n",
       "      <th>% hh with cellular phones 2012</th>\n",
       "      <th>Public Schools, Elementary, 2012-2013</th>\n",
       "      <th>Public Schools, Secondary, 2012-2013</th>\n",
       "      <th>Estimated QRF 2012</th>\n",
       "      <th>Estimated LDRRM Fund 2012</th>\n",
       "    </tr>\n",
       "    <tr>\n",
       "      <th>province</th>\n",
       "      <th></th>\n",
       "      <th></th>\n",
       "      <th></th>\n",
       "      <th></th>\n",
       "      <th></th>\n",
       "      <th></th>\n",
       "      <th></th>\n",
       "      <th></th>\n",
       "      <th></th>\n",
       "      <th></th>\n",
       "      <th></th>\n",
       "      <th></th>\n",
       "      <th></th>\n",
       "      <th></th>\n",
       "      <th></th>\n",
       "      <th></th>\n",
       "      <th></th>\n",
       "      <th></th>\n",
       "      <th></th>\n",
       "      <th></th>\n",
       "      <th></th>\n",
       "    </tr>\n",
       "  </thead>\n",
       "  <tbody>\n",
       "    <tr>\n",
       "      <th>Abra</th>\n",
       "      <td>CAR</td>\n",
       "      <td>14</td>\n",
       "      <td>1401</td>\n",
       "      <td>126843</td>\n",
       "      <td>240135.244121</td>\n",
       "      <td>133688</td>\n",
       "      <td>257000</td>\n",
       "      <td>0.343701</td>\n",
       "      <td>0.247626</td>\n",
       "      <td>0.297152</td>\n",
       "      <td>...</td>\n",
       "      <td>0.002270</td>\n",
       "      <td>0.031414</td>\n",
       "      <td>0.857720</td>\n",
       "      <td>0.652174</td>\n",
       "      <td>0.062112</td>\n",
       "      <td>0.953416</td>\n",
       "      <td>277</td>\n",
       "      <td>33</td>\n",
       "      <td>31746830.14320</td>\n",
       "      <td>1.058228e+08</td>\n",
       "    </tr>\n",
       "    <tr>\n",
       "      <th>Agusan Del Norte</th>\n",
       "      <td>CARAGA</td>\n",
       "      <td>16</td>\n",
       "      <td>1602</td>\n",
       "      <td>48954</td>\n",
       "      <td>661728.454375</td>\n",
       "      <td>179014</td>\n",
       "      <td>180000</td>\n",
       "      <td>0.387500</td>\n",
       "      <td>0.224497</td>\n",
       "      <td>0.298354</td>\n",
       "      <td>...</td>\n",
       "      <td>0.000045</td>\n",
       "      <td>0.034563</td>\n",
       "      <td>0.921445</td>\n",
       "      <td>0.395745</td>\n",
       "      <td>0.027660</td>\n",
       "      <td>0.821277</td>\n",
       "      <td>293</td>\n",
       "      <td>86</td>\n",
       "      <td>40128811.09725</td>\n",
       "      <td>1.337627e+08</td>\n",
       "    </tr>\n",
       "    <tr>\n",
       "      <th>Agusan Del Sur</th>\n",
       "      <td>CARAGA</td>\n",
       "      <td>16</td>\n",
       "      <td>1603</td>\n",
       "      <td>48954</td>\n",
       "      <td>677779.682154</td>\n",
       "      <td>126492</td>\n",
       "      <td>180000</td>\n",
       "      <td>0.387500</td>\n",
       "      <td>0.224497</td>\n",
       "      <td>0.298354</td>\n",
       "      <td>...</td>\n",
       "      <td>0.000552</td>\n",
       "      <td>0.034563</td>\n",
       "      <td>0.727442</td>\n",
       "      <td>0.395745</td>\n",
       "      <td>0.027660</td>\n",
       "      <td>0.821277</td>\n",
       "      <td>483</td>\n",
       "      <td>95</td>\n",
       "      <td>50795871.21195</td>\n",
       "      <td>1.693196e+08</td>\n",
       "    </tr>\n",
       "    <tr>\n",
       "      <th>Aklan</th>\n",
       "      <td>6</td>\n",
       "      <td>6</td>\n",
       "      <td>604</td>\n",
       "      <td>57801</td>\n",
       "      <td>554414.442422</td>\n",
       "      <td>119962</td>\n",
       "      <td>202000</td>\n",
       "      <td>0.371111</td>\n",
       "      <td>0.195986</td>\n",
       "      <td>0.374721</td>\n",
       "      <td>...</td>\n",
       "      <td>0.000133</td>\n",
       "      <td>0.044318</td>\n",
       "      <td>0.806176</td>\n",
       "      <td>0.548898</td>\n",
       "      <td>0.069559</td>\n",
       "      <td>0.823003</td>\n",
       "      <td>320</td>\n",
       "      <td>70</td>\n",
       "      <td>34597652.21625</td>\n",
       "      <td>1.153255e+08</td>\n",
       "    </tr>\n",
       "    <tr>\n",
       "      <th>Albay</th>\n",
       "      <td>5</td>\n",
       "      <td>5</td>\n",
       "      <td>505</td>\n",
       "      <td>38870</td>\n",
       "      <td>1264097.894966</td>\n",
       "      <td>158629</td>\n",
       "      <td>162000</td>\n",
       "      <td>0.384548</td>\n",
       "      <td>0.211663</td>\n",
       "      <td>0.335946</td>\n",
       "      <td>...</td>\n",
       "      <td>0.003677</td>\n",
       "      <td>0.032568</td>\n",
       "      <td>0.840840</td>\n",
       "      <td>0.514019</td>\n",
       "      <td>0.024299</td>\n",
       "      <td>0.800000</td>\n",
       "      <td>601</td>\n",
       "      <td>122</td>\n",
       "      <td>61822427.32725</td>\n",
       "      <td>2.060748e+08</td>\n",
       "    </tr>\n",
       "  </tbody>\n",
       "</table>\n",
       "<p>5 rows × 58 columns</p>\n",
       "</div>"
      ],
      "text/plain": [
       "                  Region  Region PSGC  Province PSGC  \\\n",
       "province                                               \n",
       "Abra                 CAR           14           1401   \n",
       "Agusan Del Norte  CARAGA           16           1602   \n",
       "Agusan Del Sur    CARAGA           16           1603   \n",
       "Aklan                  6            6            604   \n",
       "Albay                  5            5            505   \n",
       "\n",
       "                  GRDPC 2012 (At Current Prices)  Projected Population 2012  \\\n",
       "province                                                                      \n",
       "Abra                                      126843              240135.244121   \n",
       "Agusan Del Norte                           48954              661728.454375   \n",
       "Agusan Del Sur                             48954              677779.682154   \n",
       "Aklan                                      57801              554414.442422   \n",
       "Albay                                      38870             1264097.894966   \n",
       "\n",
       "                  Average Annual Family Income, 2009  \\\n",
       "province                                               \n",
       "Abra                                          133688   \n",
       "Agusan Del Norte                              179014   \n",
       "Agusan Del Sur                                126492   \n",
       "Aklan                                         119962   \n",
       "Albay                                         158629   \n",
       "\n",
       "                  Average Annual  Family Income, by Region, 2012  \\\n",
       "province                                                           \n",
       "Abra                                                      257000   \n",
       "Agusan Del Norte                                          180000   \n",
       "Agusan Del Sur                                            180000   \n",
       "Aklan                                                     202000   \n",
       "Albay                                                     162000   \n",
       "\n",
       "                  % Wages and salaries 2012  \\\n",
       "province                                      \n",
       "Abra                               0.343701   \n",
       "Agusan Del Norte                   0.387500   \n",
       "Agusan Del Sur                     0.387500   \n",
       "Aklan                              0.371111   \n",
       "Albay                              0.384548   \n",
       "\n",
       "                  % Entrepreneurial  activities 2012  \\\n",
       "province                                               \n",
       "Abra                                        0.247626   \n",
       "Agusan Del Norte                            0.224497   \n",
       "Agusan Del Sur                              0.224497   \n",
       "Aklan                                       0.195986   \n",
       "Albay                                       0.211663   \n",
       "\n",
       "                  % Other sources of income 2012            ...              \\\n",
       "province                                                    ...               \n",
       "Abra                                    0.297152            ...               \n",
       "Agusan Del Norte                        0.298354            ...               \n",
       "Agusan Del Sur                          0.298354            ...               \n",
       "Aklan                                   0.374721            ...               \n",
       "Albay                                   0.335946            ...               \n",
       "\n",
       "                  % Others Deposits 2012  % Health Expenditure 2012  \\\n",
       "province                                                              \n",
       "Abra                            0.002270                   0.031414   \n",
       "Agusan Del Norte                0.000045                   0.034563   \n",
       "Agusan Del Sur                  0.000552                   0.034563   \n",
       "Aklan                           0.000133                   0.044318   \n",
       "Albay                           0.003677                   0.032568   \n",
       "\n",
       "                  % of Births by Attended Skilled Health Personnel 2012  \\\n",
       "province                                                                  \n",
       "Abra                                                       0.857720       \n",
       "Agusan Del Norte                                           0.921445       \n",
       "Agusan Del Sur                                             0.727442       \n",
       "Aklan                                                      0.806176       \n",
       "Albay                                                      0.840840       \n",
       "\n",
       "                  % hh with radio 2012  % hh with landlines 2012  \\\n",
       "province                                                           \n",
       "Abra                          0.652174                  0.062112   \n",
       "Agusan Del Norte              0.395745                  0.027660   \n",
       "Agusan Del Sur                0.395745                  0.027660   \n",
       "Aklan                         0.548898                  0.069559   \n",
       "Albay                         0.514019                  0.024299   \n",
       "\n",
       "                  % hh with cellular phones 2012  \\\n",
       "province                                           \n",
       "Abra                                    0.953416   \n",
       "Agusan Del Norte                        0.821277   \n",
       "Agusan Del Sur                          0.821277   \n",
       "Aklan                                   0.823003   \n",
       "Albay                                   0.800000   \n",
       "\n",
       "                  Public Schools, Elementary, 2012-2013   \\\n",
       "province                                                   \n",
       "Abra                                                 277   \n",
       "Agusan Del Norte                                     293   \n",
       "Agusan Del Sur                                       483   \n",
       "Aklan                                                320   \n",
       "Albay                                                601   \n",
       "\n",
       "                  Public Schools, Secondary, 2012-2013   Estimated QRF 2012  \\\n",
       "province                                                                      \n",
       "Abra                                                 33      31746830.14320   \n",
       "Agusan Del Norte                                     86      40128811.09725   \n",
       "Agusan Del Sur                                       95      50795871.21195   \n",
       "Aklan                                                70      34597652.21625   \n",
       "Albay                                               122      61822427.32725   \n",
       "\n",
       "                  Estimated LDRRM Fund 2012  \n",
       "province                                     \n",
       "Abra                           1.058228e+08  \n",
       "Agusan Del Norte               1.337627e+08  \n",
       "Agusan Del Sur                 1.693196e+08  \n",
       "Aklan                          1.153255e+08  \n",
       "Albay                          2.060748e+08  \n",
       "\n",
       "[5 rows x 58 columns]"
      ]
     },
     "execution_count": 2,
     "metadata": {},
     "output_type": "execute_result"
    }
   ],
   "source": [
    "data_from_excel= pd.read_excel(\"inputs/input_data_Feb2016.xlsx\", #the name of the file\n",
    "                        sheetname=\"Consolidated (2012)\", #the Excel tab were the data is\n",
    "                               index_col=\"province\",#column to use as index\n",
    "                               header=1, #skips the first line of the excel file\n",
    "                                );\n",
    "data_from_excel.index = data_from_excel.index.str.title() #fixes the case of province names in the Excel file\n",
    "data_from_excel.head() #shows the first few lines of the table"
   ]
  },
  {
   "cell_type": "markdown",
   "metadata": {},
   "source": [
    "This table contains more data (more columns) that what we need to run the model. In addition, the names of the coumn are human-readable, instead of correspondig to variable names in the model. Finally, Some data is missing. We solve each one of this problems in the following."
   ]
  },
  {
   "cell_type": "markdown",
   "metadata": {},
   "source": [
    "### Matching columns in the Excel file to variables in the model"
   ]
  },
  {
   "cell_type": "markdown",
   "metadata": {
    "collapsed": true
   },
   "source": [
    "#### pov_head, pop,shew"
   ]
  },
  {
   "cell_type": "markdown",
   "metadata": {},
   "source": [
    "Some of the data in the Excel file match directly data in the model. We can transform them directly using a simple dictionary, [inputs/data_source_matching.csv](inputs/data_source_matching.csv), that matches the name in the Excel file to the name in the model"
   ]
  },
  {
   "cell_type": "code",
   "execution_count": null,
   "metadata": {
    "ExecuteTime": {
     "end_time": "2016-03-01T17:08:39.966447",
     "start_time": "2016-03-01T17:08:39.953435"
    },
    "collapsed": false
   },
   "outputs": [],
   "source": [
    "#reads the CSV file that matches names in excel ot names in the model\n",
    "data_source_matching =pd.read_csv(\"inputs/data_source_matching.csv\",\n",
    "                                  index_col=\"name_in_data\",\n",
    "                                 )\n",
    "data_source_matching #displays the result"
   ]
  },
  {
   "cell_type": "code",
   "execution_count": null,
   "metadata": {
    "ExecuteTime": {
     "end_time": "2016-03-01T17:08:40.035492",
     "start_time": "2016-03-01T17:08:39.970448"
    },
    "collapsed": false
   },
   "outputs": [],
   "source": [
    "#keeps only the colomns listed in data_source_matching\n",
    "df=data_from_excel[data_source_matching.index]\n",
    "#renames those columns to their name in the model\n",
    "df=df.rename(columns=data_source_matching[\"name_in_model\"])\n",
    "df.head()"
   ]
  },
  {
   "cell_type": "markdown",
   "metadata": {},
   "source": [
    "Some other model variables do not match directly one column in the data.\n"
   ]
  },
  {
   "cell_type": "markdown",
   "metadata": {},
   "source": [
    "#### Provincincial GDP extrapolated from regional gdp growth"
   ]
  },
  {
   "cell_type": "markdown",
   "metadata": {},
   "source": [
    "We have income at the provincial level in 2009 and at the regional level only in 2012. Here we approximate regional income in 2009 averaging provincial income in 2009 (weighted by population in 2012), then we assume all provinces grew homogenously at their regional growth rate between 2009 and 2012.\n",
    "\n",
    "(We do this for demonstration purposes, since provincial income for a recent date is probably available otherwise)"
   ]
  },
  {
   "cell_type": "markdown",
   "metadata": {},
   "source": [
    "To compute the weighted average, we use another standard python library, [NumPy](http://www.numpy.org/) the provides  standard mathematical functions such as log, exp, weighted average, etc."
   ]
  },
  {
   "cell_type": "code",
   "execution_count": null,
   "metadata": {
    "ExecuteTime": {
     "end_time": "2016-03-01T17:08:40.042502",
     "start_time": "2016-03-01T17:08:40.039500"
    },
    "collapsed": true
   },
   "outputs": [],
   "source": [
    "import numpy as np"
   ]
  },
  {
   "cell_type": "code",
   "execution_count": null,
   "metadata": {
    "collapsed": false
   },
   "outputs": [],
   "source": [
    "#renames a few useful columns for convinience\n",
    "h=data_from_excel[[\"Region\", \"Projected Population 2012\", \"Average Annual Family Income, 2009\",\n",
    "                   \"Average Annual  Family Income, by Region, 2012\"\n",
    "                  ]].rename(columns={\"Projected Population 2012\":\"pop\",\n",
    "                                     \"Average Annual Family Income, 2009\": \"gp9\",\n",
    "                                     \"Average Annual  Family Income, by Region, 2012\":\"gr12\"\n",
    "                                    }).dropna()\n",
    "\n",
    "# in each region, multiplies provincial income in 2009 by average regional growth between 2009 and 2012\n",
    "df[\"gdp_pc_pp\"]=h.groupby(\"Region\").apply(lambda x: x[\"gp9\"]*x[\"gr12\"]/(np.average(x[\"gp9\"], weights=x[\"pop\"]))\n",
    "                                         ).reset_index(\"Region\",drop=True) / 5  #5 is the average family size\n",
    "\n",
    "#Changes the unit of GDP to thousands of pesos (technical: to reduce risk of float overflows when computing welfare)\n",
    "df[\"gdp_pc_pp\"]/=1e3\n"
   ]
  },
  {
   "cell_type": "markdown",
   "metadata": {},
   "source": [
    "The model needs income information in each province to be provided relative to the average income in the Philippines.\n",
    "Witin each province, we need the income of the poor and nonpoor households relative to the average income in the province.\n"
   ]
  },
  {
   "cell_type": "code",
   "execution_count": null,
   "metadata": {
    "ExecuteTime": {
     "end_time": "2016-03-01T17:08:40.074531",
     "start_time": "2016-03-01T17:08:40.045504"
    },
    "collapsed": false
   },
   "outputs": [],
   "source": [
    "#National average income \n",
    "df[\"gdp_pc_pp_nat\"] = np.average(df.dropna().gdp_pc_pp,  weights=df.dropna()[\"pop\"]) #note that we have to manually remove the lines with missing data (.dropna()) because numpy does not handle missing data\n",
    "\n",
    "#Average income of poor households (estimated from Rio as avg income of the poorest quitile)\n",
    "wp=80.5/5\n",
    "\n",
    "df[\"cp\"] = wp\n",
    "df[\"cr\"]= (df[\"gdp_pc_pp\"] - df[\"pov_head\"]*df[\"cp\"])/(1-df[\"pov_head\"]) \n",
    "\n",
    "df.head()"
   ]
  },
  {
   "cell_type": "markdown",
   "metadata": {},
   "source": [
    "#### Access to savings, transfers"
   ]
  },
  {
   "cell_type": "code",
   "execution_count": null,
   "metadata": {
    "ExecuteTime": {
     "end_time": "2016-03-01T17:08:40.141579",
     "start_time": "2016-03-01T17:08:40.080536"
    },
    "collapsed": false
   },
   "outputs": [],
   "source": [
    "#share of income from transfers: we use the same value for poor and nonpoor, and we sum two columns of the input data\n",
    "df[\"social_p\"]=df[\"social_r\"]=data_from_excel[[\"% Other sources of income 2012\",\"% Other receipts 2012\"]].sum(axis=1)\n",
    "\n",
    "df.head()"
   ]
  },
  {
   "cell_type": "markdown",
   "metadata": {},
   "source": [
    "# Loading data on exposure, hazard, and protection"
   ]
  },
  {
   "cell_type": "markdown",
   "metadata": {},
   "source": [
    "### Exposure (population in flood-prone areas)"
   ]
  },
  {
   "cell_type": "markdown",
   "metadata": {},
   "source": [
    "Exposure comes from different files, for instance they could be provided by DOST."
   ]
  },
  {
   "cell_type": "markdown",
   "metadata": {},
   "source": [
    "#### River floods"
   ]
  },
  {
   "cell_type": "code",
   "execution_count": null,
   "metadata": {
    "ExecuteTime": {
     "end_time": "2016-03-01T17:08:40.191616",
     "start_time": "2016-03-01T17:08:40.174604"
    },
    "collapsed": false
   },
   "outputs": [],
   "source": [
    "#Exposure to RIVER floods (at present from GLOFRIS)\n",
    "pop_exposed = pd.read_csv(\"inputs/pop_exposed.csv\",index_col=[\"NAME_1\"])\n",
    "pop_exposed.index=pop_exposed.index.str.title()\n",
    "pop_exposed.head()"
   ]
  },
  {
   "cell_type": "markdown",
   "metadata": {},
   "source": [
    "Note how for some provinces (Aklan, Albay) are not exposed to river floods according to our data source. Also, the data we have here is for several return periods. The model can work either with on single return period or several return periods. The information on different exposed periods sorted in a different variable, `fa_ratios`.\n",
    "\n",
    "First we define the exposure (Fraction of people Affected) as the one corresponding to 10 yr return period."
   ]
  },
  {
   "cell_type": "code",
   "execution_count": null,
   "metadata": {
    "ExecuteTime": {
     "end_time": "2016-03-01T17:08:40.264673",
     "start_time": "2016-03-01T17:08:40.196619"
    },
    "collapsed": false
   },
   "outputs": [],
   "source": [
    "expo_river = pop_exposed[[\"rp10_pop\"]]\n",
    "expo_river.columns=[\"fa\"]\n",
    "expo_river.head()"
   ]
  },
  {
   "cell_type": "markdown",
   "metadata": {},
   "source": [
    "Then we define the exposure to other return period events relative to the exposure to the 10yr event"
   ]
  },
  {
   "cell_type": "code",
   "execution_count": null,
   "metadata": {
    "ExecuteTime": {
     "end_time": "2016-03-01T17:08:40.309704",
     "start_time": "2016-03-01T17:08:40.268676"
    },
    "collapsed": false
   },
   "outputs": [],
   "source": [
    "fa_ratios_river = pop_exposed.div(expo_river.squeeze(),axis=0)\n",
    "fa_ratios_river.columns=[10,100]\n",
    "fa_ratios_river.columns.name=\"rp\"\n",
    "fa_ratios_river.index.name=\"province\"\n",
    "fa_ratios_river.head()"
   ]
  },
  {
   "cell_type": "markdown",
   "metadata": {},
   "source": [
    "#### Coastal floods"
   ]
  },
  {
   "cell_type": "markdown",
   "metadata": {},
   "source": [
    "Now coastal floods"
   ]
  },
  {
   "cell_type": "code",
   "execution_count": null,
   "metadata": {
    "collapsed": false
   },
   "outputs": [],
   "source": [
    "pd.read_csv(\"inputs/exposure_to_coastal_foods.csv\").head() #inspecting the raw data"
   ]
  },
  {
   "cell_type": "code",
   "execution_count": null,
   "metadata": {
    "collapsed": false
   },
   "outputs": [],
   "source": [
    "expo_coast = pd.read_csv(\"inputs/exposure_to_coastal_foods.csv\", usecols=[\"fa_coast\", \"id_1\"],index_col=\"id_1\", )\n",
    "expo_coast.index = expo_coast.index.str.title() #matches case\n",
    "expo_coast.columns=[\"fa\"]\n",
    "expo_coast.head()"
   ]
  },
  {
   "cell_type": "markdown",
   "metadata": {},
   "source": [
    "For coastal flood the data we have has only one return period."
   ]
  },
  {
   "cell_type": "code",
   "execution_count": null,
   "metadata": {
    "collapsed": false
   },
   "outputs": [],
   "source": [
    "fa_ratios_coast = pd.DataFrame(1,index=expo_coast.index, columns=[10])\n",
    "fa_ratios_coast.index.name = \"province\"\n",
    "fa_ratios_coast.columns.name=\"rp\"\n",
    "fa_ratios_coast.head(3)"
   ]
  },
  {
   "cell_type": "markdown",
   "metadata": {},
   "source": [
    "#### Combining hazard and differentiating poor and nonpoor"
   ]
  },
  {
   "cell_type": "markdown",
   "metadata": {},
   "source": [
    "Finally we combine the data on table with province, hzard, return period. We store multi-hazard data on a different dataframe.\n"
   ]
  },
  {
   "cell_type": "code",
   "execution_count": null,
   "metadata": {
    "collapsed": false
   },
   "outputs": [],
   "source": [
    "df_multihazard = pd.concat( [expo_coast,expo_river],keys=[\"coast\", \"river\"],names=[\"hazard\", \"param\"],axis=1)\n",
    "df_multihazard.index.name = \"province\"\n",
    "df_multihazard=df_multihazard.stack(\"hazard\")\n",
    "df_multihazard.head()"
   ]
  },
  {
   "cell_type": "markdown",
   "metadata": {},
   "source": [
    "The model uses exposure for poor and nonpoor people separatedly.\n",
    "Based on international cas estudies, poor people are about 15% more exposed to floods than nonpoor people. "
   ]
  },
  {
   "cell_type": "code",
   "execution_count": null,
   "metadata": {
    "code_folding": [],
    "collapsed": false
   },
   "outputs": [],
   "source": [
    "dfm = pd.merge(\n",
    "    df_multihazard.reset_index(), df[\"pov_head\"].reset_index(), on=\"province\")\n",
    "\n",
    "pe=15/100\n",
    "fa= dfm[\"fa\"]\n",
    "ph = dfm[\"pov_head\"]\n",
    "\n",
    "fap = fa*(1+pe)\n",
    "far= (fa-ph*fap)/(1-ph)\n",
    "\n",
    "dfm[\"fap\"]=fap\n",
    "dfm[\"far\"]=far\n",
    "\n",
    "dfm = dfm.set_index([\"province\",\"hazard\"]).drop([\"fa\",\"pov_head\"],axis=1)\n",
    "# dfm.replace(0,np.nan,inplace=True) #treat no exposure as no data\n",
    "# dfm=dfm.dropna(how=\"all\")\n",
    "dfm.head()"
   ]
  },
  {
   "cell_type": "markdown",
   "metadata": {},
   "source": [
    "We store the the fa_ratios separatedly"
   ]
  },
  {
   "cell_type": "code",
   "execution_count": null,
   "metadata": {
    "collapsed": false
   },
   "outputs": [],
   "source": [
    "fa_ratios = pd.concat([fa_ratios_river, fa_ratios_coast], keys=[\"river\",\"coast\"], names=[\"hazard\"], axis=1).stack(\"hazard\").fillna(method=\"pad\",axis=1)\n",
    "fa_ratios.head()"
   ]
  },
  {
   "cell_type": "code",
   "execution_count": null,
   "metadata": {
    "collapsed": false
   },
   "outputs": [],
   "source": [
    "fa_ratios.to_csv(\"inputs/fa_ratios.csv\")"
   ]
  },
  {
   "cell_type": "markdown",
   "metadata": {},
   "source": [
    "#### Files for single-hazard version of the model"
   ]
  },
  {
   "cell_type": "code",
   "execution_count": null,
   "metadata": {
    "collapsed": true
   },
   "outputs": [],
   "source": [
    "fa_ratios_river.to_csv(\"inputs/fa_ratios_river.csv\") #this one stored to have an example of single hzard multiple return periods."
   ]
  },
  {
   "cell_type": "code",
   "execution_count": null,
   "metadata": {
    "collapsed": false
   },
   "outputs": [],
   "source": [
    "# df[\"fa\"] = expo_river[\"fa\"] #just so that we can run the model with single hazard\n",
    "dfmriver = dfm.query(\"hazard=='river'\").reset_index(\"hazard\")[[\"fap\",\"far\"]]\n",
    "df[\"fap\"]=dfmriver[\"fap\"]\n",
    "df[\"far\"]=dfmriver[\"far\"]\n",
    "\n",
    "df.head()"
   ]
  },
  {
   "cell_type": "markdown",
   "metadata": {},
   "source": [
    "### Vulnerability"
   ]
  },
  {
   "cell_type": "markdown",
   "metadata": {},
   "source": [
    "To assess asset vulnerability in each province, we use census data on roof and wall types in each province.\n",
    "We match these types to a given vulnerability with reduced vulnerability curves. Let us first open the files that matche wall and roof types to vulnerability."
   ]
  },
  {
   "cell_type": "markdown",
   "metadata": {
    "ExecuteTime": {
     "end_time": "2016-03-01T15:46:10.820589",
     "start_time": "2016-03-01T15:46:10.818588"
    }
   },
   "source": [
    "#### Reduced vulnerability curves for wall and roofs"
   ]
  },
  {
   "cell_type": "code",
   "execution_count": null,
   "metadata": {
    "ExecuteTime": {
     "end_time": "2016-03-01T17:08:40.368752",
     "start_time": "2016-03-01T17:08:40.342730"
    },
    "collapsed": false
   },
   "outputs": [],
   "source": [
    "#matches roof and wall types to vulnerabilities\n",
    "roof_types_to_vuln =pd.read_csv(\"inputs/roof_types_to_vuln.csv\").squeeze().sort_values(ascending=False)\n",
    "wall_types_to_vuln =pd.read_csv(\"inputs/wall_types_to_vuln.csv\").squeeze().sort_values(ascending=False)\n",
    "\n",
    "print(\"Reduced vulnerability curve for roofs\\n\")\n",
    "print(roof_types_to_vuln)\n",
    "#print(\"\\nReduced vulnerability curve for walls\")\n",
    "#print(wall_types_to_vuln)"
   ]
  },
  {
   "cell_type": "markdown",
   "metadata": {
    "ExecuteTime": {
     "end_time": "2016-03-01T15:47:04.801439",
     "start_time": "2016-03-01T15:47:04.799439"
    }
   },
   "source": [
    "#### Sorting roofs according to income"
   ]
  },
  {
   "cell_type": "markdown",
   "metadata": {},
   "source": [
    "The data for **roof** types in each province come from the excel file with socio-economic data we used at the begining."
   ]
  },
  {
   "cell_type": "code",
   "execution_count": null,
   "metadata": {
    "ExecuteTime": {
     "end_time": "2016-03-01T17:08:40.409778",
     "start_time": "2016-03-01T17:08:40.381760"
    },
    "collapsed": false
   },
   "outputs": [],
   "source": [
    "share =data_from_excel[roof_types_to_vuln.index]\n",
    "share.head()"
   ]
  },
  {
   "cell_type": "markdown",
   "metadata": {},
   "source": [
    "Then we assume that the poorest households in  each province use the houses with lowest quality roofs."
   ]
  },
  {
   "cell_type": "code",
   "execution_count": null,
   "metadata": {
    "ExecuteTime": {
     "end_time": "2016-03-01T17:08:40.447808",
     "start_time": "2016-03-01T17:08:40.416783"
    },
    "collapsed": false
   },
   "outputs": [],
   "source": [
    "#sorts roof types according to income\n",
    "p=(share.cumsum(axis=1).add(-df[\"pov_head\"],axis=0)).clip(lower=0)\n",
    "poor=(share-p).clip(lower=0)\n",
    "rich=share-poor\n",
    "\n",
    "print(\"Type of roofs for nonpoor households:\")\n",
    "rich.head()"
   ]
  },
  {
   "cell_type": "markdown",
   "metadata": {},
   "source": [
    "Finally we average vulnerability accross roof types"
   ]
  },
  {
   "cell_type": "code",
   "execution_count": null,
   "metadata": {
    "ExecuteTime": {
     "end_time": "2016-03-01T17:08:40.464824",
     "start_time": "2016-03-01T17:08:40.450810"
    },
    "collapsed": false
   },
   "outputs": [],
   "source": [
    "#averages vulnerability accross roof type\n",
    "vp_roof=((poor*roof_types_to_vuln).sum(axis=1)/df[\"pov_head\"] )\n",
    "vr_roof=(rich*roof_types_to_vuln).sum(axis=1)/(1-df[\"pov_head\"])\n",
    "\n",
    "vp_roof.head()"
   ]
  },
  {
   "cell_type": "markdown",
   "metadata": {
    "ExecuteTime": {
     "end_time": "2016-03-01T15:47:04.801439",
     "start_time": "2016-03-01T15:47:04.799439"
    }
   },
   "source": [
    "#### Sorting walls according to income"
   ]
  },
  {
   "cell_type": "markdown",
   "metadata": {},
   "source": [
    "Then we do the same for <b>walls</b>..."
   ]
  },
  {
   "cell_type": "code",
   "execution_count": null,
   "metadata": {
    "ExecuteTime": {
     "end_time": "2016-03-01T17:08:40.503851",
     "start_time": "2016-03-01T17:08:40.468826"
    },
    "collapsed": false
   },
   "outputs": [],
   "source": [
    "#sorts wall types according to income\n",
    "share =data_from_excel[wall_types_to_vuln.keys()]\n",
    "p=(share.cumsum(axis=1).add(-df[\"pov_head\"],axis=0)).clip(lower=0)\n",
    "poor=(share-p).clip(lower=0)\n",
    "rich=share-poor\n",
    "\n",
    "#walls\n",
    "vp_wall=((poor*wall_types_to_vuln).sum(axis=1)/df[\"pov_head\"] )\n",
    "vr_wall=(rich*wall_types_to_vuln).sum(axis=1)/(1-df[\"pov_head\"])\n"
   ]
  },
  {
   "cell_type": "markdown",
   "metadata": {},
   "source": [
    "...and take the average value for roof and walls."
   ]
  },
  {
   "cell_type": "code",
   "execution_count": null,
   "metadata": {
    "ExecuteTime": {
     "end_time": "2016-03-01T17:08:40.516858",
     "start_time": "2016-03-01T17:08:40.507854"
    },
    "collapsed": false
   },
   "outputs": [],
   "source": [
    "#averages value for roofs and walls\n",
    "vp = (vp_roof+vp_wall)/2\n",
    "vr = (vr_roof+vr_wall)/2\n",
    "\n",
    "df[\"v_p\"]=vp\n",
    "df[\"v_r\"]=vr\n",
    "\n",
    "#plots\n",
    "# import matplotlib.pyplot as plt\n",
    "# %matplotlib inline\n",
    "# vp.hist(), plt.xlabel(\"vp\")\n",
    "# vr.hist(color=\"red\",alpha=0.5),plt.xlabel(\"vr\")\n"
   ]
  },
  {
   "cell_type": "markdown",
   "metadata": {},
   "source": [
    "### Hazard (protection)"
   ]
  },
  {
   "cell_type": "markdown",
   "metadata": {},
   "source": [
    "We capture hazard through the protection level, given in return period. Here we use data from FLOPROS as a placeholder.\n",
    "FLOPROS uses a different spelling for some province, so we correct that here."
   ]
  },
  {
   "cell_type": "code",
   "execution_count": null,
   "metadata": {
    "ExecuteTime": {
     "end_time": "2016-03-01T17:08:40.588917",
     "start_time": "2016-03-01T17:08:40.563899"
    },
    "collapsed": false
   },
   "outputs": [],
   "source": [
    "protection = pd.read_csv(\"inputs/protection_phl.csv\",index_col=\"province\", squeeze=True).sort_index()\n",
    "protection.index = protection.index.str.title()\n",
    "protection.rename(index={\"Cotabato\":\"North Cotabato\",\n",
    "                         'Mindoro Occidental':\"Occidental Mindoro\",\n",
    "                         'Mindoro Oriental':\"Oriental Mindoro\",}, inplace=True) #(an altenrative way would be to use and demonstrate the function replace_with_warning)\n",
    "protection.head()"
   ]
  },
  {
   "cell_type": "code",
   "execution_count": null,
   "metadata": {
    "ExecuteTime": {
     "end_time": "2016-03-01T17:08:40.613934",
     "start_time": "2016-03-01T17:08:40.601925"
    },
    "collapsed": false
   },
   "outputs": [],
   "source": [
    "df[\"protection\"]=protection.clip_lower(2) #assumes at least 2yr protection\n",
    "df[\"protection\"].head()"
   ]
  },
  {
   "cell_type": "markdown",
   "metadata": {},
   "source": [
    "# Manually filling data gaps and informing parameters"
   ]
  },
  {
   "cell_type": "markdown",
   "metadata": {
    "collapsed": true
   },
   "source": [
    "Some data is missing and has to be added manually"
   ]
  },
  {
   "cell_type": "code",
   "execution_count": null,
   "metadata": {
    "ExecuteTime": {
     "end_time": "2016-03-01T17:08:40.645458",
     "start_time": "2016-03-01T17:08:40.635947"
    },
    "collapsed": true
   },
   "outputs": [],
   "source": [
    "#average productivity of capital\n",
    "df[\"avg_prod_k\"] = .23\n",
    "\n",
    "#Reconstruction time (an only be guessed ex-ante)\n",
    "df[\"T_rebuild_K\"] = 3\n",
    "\n",
    "# how much early warning reduces vulnerability (eg reactivity to early warnings)\n",
    "df[\"pi\"] = 0.2"
   ]
  },
  {
   "cell_type": "markdown",
   "metadata": {},
   "source": [
    "Some other inputs are normative or policy choices"
   ]
  },
  {
   "cell_type": "code",
   "execution_count": null,
   "metadata": {
    "ExecuteTime": {
     "end_time": "2016-03-01T17:08:40.674983",
     "start_time": "2016-03-01T17:08:40.648460"
    },
    "collapsed": false
   },
   "outputs": [],
   "source": [
    "#assumption on cross-provincial risk sharing\n",
    "df[\"nat_buyout\"] = 0.3\n",
    "\n",
    "#scale up of transfers after a disaster hits\n",
    "df[\"sigma_r\"]=df[\"sigma_p\"]=0\n",
    "\n",
    "#income elasticity\n",
    "df[\"income_elast\"] = 1.5\n",
    "\n",
    "#discount rate\n",
    "df[\"rho\"]=5/100"
   ]
  },
  {
   "cell_type": "markdown",
   "metadata": {},
   "source": [
    "# Adds description to the variables names"
   ]
  },
  {
   "cell_type": "markdown",
   "metadata": {},
   "source": [
    "Here we add a human readable descritpion to all model variables, based on the descriptions gathered in [inputs/inputs_info.csv](inputs/inputs_info.csv)"
   ]
  },
  {
   "cell_type": "code",
   "execution_count": null,
   "metadata": {
    "collapsed": false
   },
   "outputs": [],
   "source": [
    "description = pd.read_csv(\"inputs/inputs_info.csv\", index_col=\"key\")[\"descriptor\"]\n",
    "description.head()"
   ]
  },
  {
   "cell_type": "code",
   "execution_count": null,
   "metadata": {
    "ExecuteTime": {
     "end_time": "2016-03-01T17:08:40.824096",
     "start_time": "2016-03-01T17:08:40.677986"
    },
    "collapsed": false
   },
   "outputs": [],
   "source": [
    "df.ix[\"description\"]= description\n",
    "data=df.T.reset_index().set_index([\"description\",\"index\"]).T\n",
    "data.columns.names = ['description', 'variable']\n",
    "data.head().T #displays the first few provinces, transposed for ease of reading."
   ]
  },
  {
   "cell_type": "markdown",
   "metadata": {},
   "source": [
    "# Saves the data"
   ]
  },
  {
   "cell_type": "code",
   "execution_count": null,
   "metadata": {
    "ExecuteTime": {
     "end_time": "2016-03-01T17:08:41.323464",
     "start_time": "2016-03-01T17:08:40.828098"
    },
    "collapsed": false
   },
   "outputs": [],
   "source": [
    "#saves the data\n",
    "data.to_excel(\"inputs/all_data_compiled.xlsx\")"
   ]
  },
  {
   "cell_type": "markdown",
   "metadata": {},
   "source": [
    "**That's it, we have built an excel file with all our data!**\n",
    "To see how to use this data with the resilience model, go to [socio_economic_capacity_demo.ipynb](socio_economic_capacity_demo.ipynb)\n",
    "\n",
    "\n",
    "\n",
    " "
   ]
  },
  {
   "cell_type": "markdown",
   "metadata": {},
   "source": [
    "## Multi-hazard data"
   ]
  },
  {
   "cell_type": "code",
   "execution_count": null,
   "metadata": {
    "collapsed": false
   },
   "outputs": [],
   "source": [
    "dfm.to_csv(\"inputs/multi_hazard_data.csv\")"
   ]
  },
  {
   "cell_type": "markdown",
   "metadata": {},
   "source": [
    "# Report missing data by province"
   ]
  },
  {
   "cell_type": "markdown",
   "metadata": {},
   "source": [
    "This code builds a table reporting missing data points for each province"
   ]
  },
  {
   "cell_type": "code",
   "execution_count": null,
   "metadata": {
    "ExecuteTime": {
     "end_time": "2016-03-01T17:08:41.324464",
     "start_time": "2016-03-01T22:08:38.906Z"
    },
    "collapsed": false
   },
   "outputs": [],
   "source": [
    "def write_missing_data(s):\n",
    "    which = s[s.isnull()].index.values\n",
    "    return \", \".join(which)\n",
    "\n",
    "def count_missing_data(s):\n",
    "    return s.isnull().sum()\n",
    "\n",
    "report = pd.DataFrame()\n",
    "\n",
    "report[\"nb_missing\"]=df.apply(count_missing_data,axis=1)  \n",
    "report[\"missing_data\"]=df.apply(write_missing_data,axis=1)\n",
    "\n",
    "report  = report.ix[report[\"nb_missing\"]>0,:]\n",
    "report.sort_values(by=\"nb_missing\",inplace=True)\n",
    "report.to_csv(\"inputs/missing_data_report.csv\")\n",
    "\n",
    "report"
   ]
  },
  {
   "cell_type": "markdown",
   "metadata": {},
   "source": [
    "We see that for a few provinces, we have no data on protection. Let us inspect the data on protection."
   ]
  },
  {
   "cell_type": "code",
   "execution_count": null,
   "metadata": {
    "ExecuteTime": {
     "end_time": "2016-03-01T17:08:41.325468",
     "start_time": "2016-03-01T22:08:38.910Z"
    },
    "collapsed": false
   },
   "outputs": [],
   "source": [
    "protection.ix[report.index]"
   ]
  },
  {
   "cell_type": "markdown",
   "metadata": {
    "ExecuteTime": {
     "end_time": "2016-03-01T15:55:15.357382",
     "start_time": "2016-03-01T15:55:15.351381"
    }
   },
   "source": [
    "In our data on protection, these provinces have a missing value (nan). This probelm should be investigated going back to the source used for protection (here, FLOPROS as a placeholder, but that could be relaced by a domestic source, for instance DOST)\n"
   ]
  },
  {
   "cell_type": "code",
   "execution_count": null,
   "metadata": {
    "collapsed": true
   },
   "outputs": [],
   "source": []
  },
  {
   "cell_type": "code",
   "execution_count": null,
   "metadata": {
    "collapsed": true
   },
   "outputs": [],
   "source": []
  }
 ],
 "metadata": {
  "kernelspec": {
   "display_name": "Python 3",
   "language": "python",
   "name": "python3"
  },
  "language_info": {
   "codemirror_mode": {
    "name": "ipython",
    "version": 3
   },
   "file_extension": ".py",
   "mimetype": "text/x-python",
   "name": "python",
   "nbconvert_exporter": "python",
   "pygments_lexer": "ipython3",
   "version": "3.4.4"
  }
 },
 "nbformat": 4,
 "nbformat_minor": 0
}
