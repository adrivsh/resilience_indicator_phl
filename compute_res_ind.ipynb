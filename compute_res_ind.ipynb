{
 "cells": [
  {
   "cell_type": "code",
   "execution_count": 23,
   "metadata": {
    "collapsed": false
   },
   "outputs": [
    {
     "name": "stdout",
     "output_type": "stream",
     "text": [
      "The autoreload extension is already loaded. To reload it, use:\n",
      "  %reload_ext autoreload\n"
     ]
    }
   ],
   "source": [
    "%reset-f\n",
    "%load_ext autoreload\n",
    "%autoreload 2\n",
    "%matplotlib inline"
   ]
  },
  {
   "cell_type": "code",
   "execution_count": 24,
   "metadata": {
    "collapsed": false
   },
   "outputs": [],
   "source": [
    "import pandas as pd\n",
    "import numpy as np\n",
    "import matplotlib.pyplot as plt\n",
    "\n",
    "import os, time\n",
    "import warnings\n",
    "warnings.filterwarnings(\"always\",category=UserWarning)\n",
    "\n",
    "from sorted_nicely import *\n",
    "from res_ind_lib import *\n",
    "from wb_api_wraper import *\n",
    "from replace_with_warning import *"
   ]
  },
  {
   "cell_type": "code",
   "execution_count": 25,
   "metadata": {
    "collapsed": false
   },
   "outputs": [],
   "source": [
    "def make_tiers(series,labels=[\"Low\",\"Mid\",\"High\"]):\n",
    "    return pd.cut(series,[series.min()-1e3]+series.quantile([1/3,2/3]).tolist()+[series.max()+1e3],labels=labels).sort_values() #This magically orders the in the \"Low\", \"Mid\", \"High\" order, i wonder why\n",
    "    "
   ]
  },
  {
   "cell_type": "code",
   "execution_count": 26,
   "metadata": {
    "collapsed": true
   },
   "outputs": [],
   "source": [
    "#Pandas display options\n",
    "pd.set_option('display.max_colwidth', 200)\n",
    "pd.set_option('display.width', 200)\n",
    "pd.set_option('display.precision', 10)\n",
    "pd.set_option('display.max_rows', 500)\n"
   ]
  },
  {
   "cell_type": "markdown",
   "metadata": {},
   "source": [
    "# Data"
   ]
  },
  {
   "cell_type": "code",
   "execution_count": 27,
   "metadata": {
    "collapsed": false
   },
   "outputs": [
    {
     "data": {
      "text/html": [
       "<div>\n",
       "<table border=\"1\" class=\"dataframe\">\n",
       "  <thead>\n",
       "    <tr style=\"text-align: right;\">\n",
       "      <th></th>\n",
       "      <th>Region</th>\n",
       "      <th>Region PSGC</th>\n",
       "      <th>Province PSGC</th>\n",
       "      <th>GRDPC 2012 (At Current Prices)</th>\n",
       "      <th>Projected Population 2012</th>\n",
       "      <th>Average Annual Family Income, 2009</th>\n",
       "      <th>Average Annual  Family Income, by Region, 2012</th>\n",
       "      <th>% Wages and salaries 2012</th>\n",
       "      <th>% Entrepreneurial  activities 2012</th>\n",
       "      <th>% Other sources of income 2012</th>\n",
       "      <th>...</th>\n",
       "      <th>% Others Deposits 2012</th>\n",
       "      <th>% Health Expenditure 2012</th>\n",
       "      <th>% of Births by Attended Skilled Health Personnel 2012</th>\n",
       "      <th>% hh with radio 2012</th>\n",
       "      <th>% hh with landlines 2012</th>\n",
       "      <th>% hh with cellular phones 2012</th>\n",
       "      <th>Public Schools, Elementary, 2012-2013</th>\n",
       "      <th>Public Schools, Secondary, 2012-2013</th>\n",
       "      <th>Estimated QRF 2012</th>\n",
       "      <th>Estimated LDRRM Fund 2012</th>\n",
       "    </tr>\n",
       "    <tr>\n",
       "      <th>Province</th>\n",
       "      <th></th>\n",
       "      <th></th>\n",
       "      <th></th>\n",
       "      <th></th>\n",
       "      <th></th>\n",
       "      <th></th>\n",
       "      <th></th>\n",
       "      <th></th>\n",
       "      <th></th>\n",
       "      <th></th>\n",
       "      <th></th>\n",
       "      <th></th>\n",
       "      <th></th>\n",
       "      <th></th>\n",
       "      <th></th>\n",
       "      <th></th>\n",
       "      <th></th>\n",
       "      <th></th>\n",
       "      <th></th>\n",
       "      <th></th>\n",
       "      <th></th>\n",
       "    </tr>\n",
       "  </thead>\n",
       "  <tbody>\n",
       "    <tr>\n",
       "      <th>Abra</th>\n",
       "      <td>CAR</td>\n",
       "      <td>14</td>\n",
       "      <td>1401</td>\n",
       "      <td>126843</td>\n",
       "      <td>240135.2441214244</td>\n",
       "      <td>133688</td>\n",
       "      <td>257000</td>\n",
       "      <td>34.3701012485</td>\n",
       "      <td>24.7625546355</td>\n",
       "      <td>29.7152499862</td>\n",
       "      <td>...</td>\n",
       "      <td>0.2270179376</td>\n",
       "      <td>3.1413969336</td>\n",
       "      <td>85.7720119098</td>\n",
       "      <td>65.2173913043</td>\n",
       "      <td>6.2111801242</td>\n",
       "      <td>95.3416149068</td>\n",
       "      <td>277</td>\n",
       "      <td>33</td>\n",
       "      <td>31746830.1432000026</td>\n",
       "      <td>1.0582276714e+08</td>\n",
       "    </tr>\n",
       "    <tr>\n",
       "      <th>Agusan Del Norte</th>\n",
       "      <td>CARAGA</td>\n",
       "      <td>16</td>\n",
       "      <td>1602</td>\n",
       "      <td>48954</td>\n",
       "      <td>661728.4543751733</td>\n",
       "      <td>179014</td>\n",
       "      <td>180000</td>\n",
       "      <td>38.7499524914</td>\n",
       "      <td>22.4497358519</td>\n",
       "      <td>29.8354300483</td>\n",
       "      <td>...</td>\n",
       "      <td>0.0044594934</td>\n",
       "      <td>3.4563444311</td>\n",
       "      <td>92.1444550975</td>\n",
       "      <td>39.5744680851</td>\n",
       "      <td>2.7659574468</td>\n",
       "      <td>82.1276595745</td>\n",
       "      <td>293</td>\n",
       "      <td>86</td>\n",
       "      <td>40128811.0972499996</td>\n",
       "      <td>1.3376270366e+08</td>\n",
       "    </tr>\n",
       "    <tr>\n",
       "      <th>Agusan Del Sur</th>\n",
       "      <td>CARAGA</td>\n",
       "      <td>16</td>\n",
       "      <td>1603</td>\n",
       "      <td>48954</td>\n",
       "      <td>677779.6821543596</td>\n",
       "      <td>126492</td>\n",
       "      <td>180000</td>\n",
       "      <td>38.7499524914</td>\n",
       "      <td>22.4497358519</td>\n",
       "      <td>29.8354300483</td>\n",
       "      <td>...</td>\n",
       "      <td>0.0551543859</td>\n",
       "      <td>3.4563444311</td>\n",
       "      <td>72.7441562600</td>\n",
       "      <td>39.5744680851</td>\n",
       "      <td>2.7659574468</td>\n",
       "      <td>82.1276595745</td>\n",
       "      <td>483</td>\n",
       "      <td>95</td>\n",
       "      <td>50795871.2119500041</td>\n",
       "      <td>1.6931957071e+08</td>\n",
       "    </tr>\n",
       "    <tr>\n",
       "      <th>Aklan</th>\n",
       "      <td>6</td>\n",
       "      <td>6</td>\n",
       "      <td>604</td>\n",
       "      <td>57801</td>\n",
       "      <td>554414.4424224466</td>\n",
       "      <td>119962</td>\n",
       "      <td>202000</td>\n",
       "      <td>37.1111337180</td>\n",
       "      <td>19.5985990205</td>\n",
       "      <td>37.4721330059</td>\n",
       "      <td>...</td>\n",
       "      <td>0.0133418425</td>\n",
       "      <td>4.4318407759</td>\n",
       "      <td>80.6175854850</td>\n",
       "      <td>54.8898071625</td>\n",
       "      <td>6.9559228650</td>\n",
       "      <td>82.3002754821</td>\n",
       "      <td>320</td>\n",
       "      <td>70</td>\n",
       "      <td>34597652.2162500024</td>\n",
       "      <td>1.1532550739e+08</td>\n",
       "    </tr>\n",
       "    <tr>\n",
       "      <th>Albay</th>\n",
       "      <td>5</td>\n",
       "      <td>5</td>\n",
       "      <td>505</td>\n",
       "      <td>38870</td>\n",
       "      <td>1264097.8949656591</td>\n",
       "      <td>158629</td>\n",
       "      <td>162000</td>\n",
       "      <td>38.4548298884</td>\n",
       "      <td>21.1662683846</td>\n",
       "      <td>33.5946392057</td>\n",
       "      <td>...</td>\n",
       "      <td>0.3676968374</td>\n",
       "      <td>3.2568098140</td>\n",
       "      <td>84.0840011053</td>\n",
       "      <td>51.4018691589</td>\n",
       "      <td>2.4299065421</td>\n",
       "      <td>80.0000000000</td>\n",
       "      <td>601</td>\n",
       "      <td>122</td>\n",
       "      <td>61822427.3272500038</td>\n",
       "      <td>2.0607475776e+08</td>\n",
       "    </tr>\n",
       "  </tbody>\n",
       "</table>\n",
       "<p>5 rows × 58 columns</p>\n",
       "</div>"
      ],
      "text/plain": [
       "                  Region  Region PSGC  Province PSGC  GRDPC 2012 (At Current Prices)  Projected Population 2012  Average Annual Family Income, 2009  Average Annual  Family Income, by Region, 2012  \\\n",
       "Province                                                                                                                                                                                              \n",
       "Abra                 CAR           14           1401                          126843          240135.2441214244                              133688                                          257000   \n",
       "Agusan Del Norte  CARAGA           16           1602                           48954          661728.4543751733                              179014                                          180000   \n",
       "Agusan Del Sur    CARAGA           16           1603                           48954          677779.6821543596                              126492                                          180000   \n",
       "Aklan                  6            6            604                           57801          554414.4424224466                              119962                                          202000   \n",
       "Albay                  5            5            505                           38870         1264097.8949656591                              158629                                          162000   \n",
       "\n",
       "                  % Wages and salaries 2012  % Entrepreneurial  activities 2012  % Other sources of income 2012            ...              % Others Deposits 2012  % Health Expenditure 2012  \\\n",
       "Province                                                                                                                   ...                                                                  \n",
       "Abra                          34.3701012485                       24.7625546355                   29.7152499862            ...                        0.2270179376               3.1413969336   \n",
       "Agusan Del Norte              38.7499524914                       22.4497358519                   29.8354300483            ...                        0.0044594934               3.4563444311   \n",
       "Agusan Del Sur                38.7499524914                       22.4497358519                   29.8354300483            ...                        0.0551543859               3.4563444311   \n",
       "Aklan                         37.1111337180                       19.5985990205                   37.4721330059            ...                        0.0133418425               4.4318407759   \n",
       "Albay                         38.4548298884                       21.1662683846                   33.5946392057            ...                        0.3676968374               3.2568098140   \n",
       "\n",
       "                  % of Births by Attended Skilled Health Personnel 2012  % hh with radio 2012  % hh with landlines 2012  % hh with cellular phones 2012  Public Schools, Elementary, 2012-2013   \\\n",
       "Province                                                                                                                                                                                          \n",
       "Abra                                                      85.7720119098         65.2173913043              6.2111801242                   95.3416149068                                     277   \n",
       "Agusan Del Norte                                          92.1444550975         39.5744680851              2.7659574468                   82.1276595745                                     293   \n",
       "Agusan Del Sur                                            72.7441562600         39.5744680851              2.7659574468                   82.1276595745                                     483   \n",
       "Aklan                                                     80.6175854850         54.8898071625              6.9559228650                   82.3002754821                                     320   \n",
       "Albay                                                     84.0840011053         51.4018691589              2.4299065421                   80.0000000000                                     601   \n",
       "\n",
       "                  Public Schools, Secondary, 2012-2013    Estimated QRF 2012  Estimated LDRRM Fund 2012  \n",
       "Province                                                                                                 \n",
       "Abra                                                 33  31746830.1432000026           1.0582276714e+08  \n",
       "Agusan Del Norte                                     86  40128811.0972499996           1.3376270366e+08  \n",
       "Agusan Del Sur                                       95  50795871.2119500041           1.6931957071e+08  \n",
       "Aklan                                                70  34597652.2162500024           1.1532550739e+08  \n",
       "Albay                                               122  61822427.3272500038           2.0607475776e+08  \n",
       "\n",
       "[5 rows x 58 columns]"
      ]
     },
     "execution_count": 27,
     "metadata": {},
     "output_type": "execute_result"
    }
   ],
   "source": [
    "data_rio= pd.read_excel(\"inputs/Resilience Indicator_June 22.xlsx\", sheetname=\"Consolidated (2012)\",header=1, index_col=\"Province\" );\n",
    "data_rio.index = data_rio.index.str.title()\n",
    "\n",
    "data_rio.head()"
   ]
  },
  {
   "cell_type": "markdown",
   "metadata": {
    "collapsed": true
   },
   "source": [
    "#### pov_head, \tunemp, \tplgp, \tpop, \tbashs,\tophe, \tgdp_pc_pp"
   ]
  },
  {
   "cell_type": "code",
   "execution_count": 28,
   "metadata": {
    "collapsed": false
   },
   "outputs": [],
   "source": [
    "#Data immeditaly transformable\n",
    "data_source_matching =pd.read_csv(\"inputs/data_source_matching.csv\").dropna().set_index(\"rio_name\").squeeze().to_dict()\n",
    "df=data_rio[list(data_source_matching.keys())].rename(columns=data_source_matching)\n",
    "#transofmring percentages into fractions\n",
    "df[[\"pov_head\",\"unemp\",\"plgp\",\"bashs\",\"ophe\",\"shew\"]]/=100\n",
    "df.head()\n",
    "\n",
    "#Changing the unit of GDP to reduce float overflows\n",
    "df[\"gdp_pc_pp\"]/=1e3\n",
    "\n",
    "#Value for computing W'\n",
    "df[\"gdp_pc_pp_nat\"] = np.average(df.dropna().gdp_pc_pp,weights=df.dropna()[\"pop\"])\n",
    "\n",
    "df[\"gdp_pc_pp_ref\"] = df[\"gdp_pc_pp\"]\n",
    "df[\"pov_head_ref\"] = df[\"pov_head\"]\n"
   ]
  },
  {
   "cell_type": "code",
   "execution_count": 29,
   "metadata": {
    "collapsed": false
   },
   "outputs": [],
   "source": [
    "#acces to health as an average\n",
    "df[\"axhealth\"]=(df.bashs+(1-df.ophe))/2"
   ]
  },
  {
   "cell_type": "markdown",
   "metadata": {},
   "source": [
    "### Access to finance"
   ]
  },
  {
   "cell_type": "code",
   "execution_count": 30,
   "metadata": {
    "collapsed": true
   },
   "outputs": [],
   "source": [
    "df.drop([\"Laguna\", \"Lanao Del Norte\"],inplace=True) #provinces with bad data"
   ]
  },
  {
   "cell_type": "code",
   "execution_count": 31,
   "metadata": {
    "collapsed": true
   },
   "outputs": [],
   "source": [
    "df[\"axfin_p\"]=df[\"axfin_r\"]=data_rio[\"%Savings Deposit 2012\"]/100"
   ]
  },
  {
   "cell_type": "markdown",
   "metadata": {},
   "source": [
    "### Livelihoods"
   ]
  },
  {
   "cell_type": "code",
   "execution_count": 32,
   "metadata": {
    "collapsed": false
   },
   "outputs": [],
   "source": [
    "df[\"social_p\"]=df[\"social_r\"]=data_rio[[\"% Other sources of income 2012\",\"% Other receipts 2012\"]].sum(axis=1)/100"
   ]
  },
  {
   "cell_type": "markdown",
   "metadata": {},
   "source": [
    "### Income"
   ]
  },
  {
   "cell_type": "code",
   "execution_count": 33,
   "metadata": {
    "collapsed": false
   },
   "outputs": [
    {
     "data": {
      "text/plain": [
       "0.2879227248212722"
      ]
     },
     "execution_count": 33,
     "metadata": {},
     "output_type": "execute_result"
    },
    {
     "data": {
      "image/png": "[encoded data removed]",
      "text/plain": [
       "<matplotlib.figure.Figure at 0x8e27d30>"
      ]
     },
     "metadata": {},
     "output_type": "display_data"
    }
   ],
   "source": [
    "nat_pov_head = (df[\"pov_head\"]*df['pop']/df[\"pop\"].sum()).sum()\n",
    "df.pov_head.hist(bins=20)\n",
    "nat_pov_head"
   ]
  },
  {
   "cell_type": "code",
   "execution_count": 34,
   "metadata": {
    "collapsed": false
   },
   "outputs": [
    {
     "data": {
      "text/plain": [
       "(49.41085352233378, 181.76135402858498)"
      ]
     },
     "execution_count": 34,
     "metadata": {},
     "output_type": "execute_result"
    },
    {
     "data": {
      "image/png": "[encoded data removed]",
      "text/plain": [
       "<matplotlib.figure.Figure at 0x8e27320>"
      ]
     },
     "metadata": {},
     "output_type": "display_data"
    }
   ],
   "source": [
    "wnat =  (df[\"gdp_pc_pp\"]*df['pop']/df[\"pop\"].sum()).sum() #national income in that currency\n",
    "wp = 28/103 * wnat #relative income of the 28% poorest compared to national average according to povcalnet\n",
    "df.gdp_pc_pp.hist(bins=50)\n",
    "wp, wnat"
   ]
  },
  {
   "cell_type": "code",
   "execution_count": 35,
   "metadata": {
    "collapsed": false
   },
   "outputs": [],
   "source": [
    "#Relative income of the province and poor families in those provinces\n",
    "df[\"rel_gdp_pp\"]=df[\"gdp_pc_pp\"]/df[\"gdp_pc_pp_nat\"]\n",
    "df[\"share1\"]=wp/df[\"gdp_pc_pp\"]\n"
   ]
  },
  {
   "cell_type": "code",
   "execution_count": 36,
   "metadata": {
    "collapsed": true
   },
   "outputs": [],
   "source": [
    "#assumption on the scale up target\n",
    "df[\"scale_up_target\"]=0.5"
   ]
  },
  {
   "cell_type": "markdown",
   "metadata": {},
   "source": [
    "### Financial and institutional preparedness from HFA and soveriegn debt ratings"
   ]
  },
  {
   "cell_type": "markdown",
   "metadata": {},
   "source": [
    "#### HFA"
   ]
  },
  {
   "cell_type": "code",
   "execution_count": 37,
   "metadata": {
    "collapsed": false
   },
   "outputs": [],
   "source": [
    "#Names to WB names\n",
    "any_to_wb = pd.read_csv(\"inputs/any_name_to_wb_name.csv\",index_col=\"any\",squeeze=True)\n",
    "\n",
    "# READ THE LAST HFA DATA\n",
    "hfa_newest =   pd.read_csv(\"inputs/HFA_all_2011_2013.csv\")\n",
    "hfa_newest[\"country\"]=replace_with_warning(hfa_newest[\"Country name\"],any_to_wb)\n",
    "\n",
    "# READ THE PREVIOUS HFA DATA\n",
    "hfa_previous = pd.read_csv(\"inputs/HFA_all_2009_2011.csv\")\n",
    "hfa_previous[\"country\"]=replace_with_warning(hfa_previous[\"Country name\"],any_to_wb)\n",
    "\n",
    "#most recent values... if no 2011-2013 reporting, we use 2009-2011\n",
    "hfa_oldnew=pd.concat([hfa_newest.set_index(\"country\"), hfa_previous.set_index(\"country\")], axis=1,keys=['new', 'old'])\n",
    "hfa = hfa_oldnew[\"new\"].fillna(hfa_oldnew[\"old\"]);\n",
    "\n",
    "# ability to scale up = average of priority for action 5 of the HFA\n",
    "hfa[\"prepare_scaleup\"]=(hfa[\"P4-C2\"]+hfa[\"P5-C2\"]+hfa[\"P4-C5\"])/3/5 # between zero and 1\n",
    "hfa[\"finance_pre\"] = hfa[\"P5-C3\"]/5 #betwenn 0 and 1\n",
    "\n",
    "\n",
    "df=df.assign(**hfa.ix[\"Philippines\",[\"prepare_scaleup\",\"finance_pre\"]])"
   ]
  },
  {
   "cell_type": "markdown",
   "metadata": {},
   "source": [
    "#### Country Ratings"
   ]
  },
  {
   "cell_type": "code",
   "execution_count": 38,
   "metadata": {
    "collapsed": false
   },
   "outputs": [],
   "source": [
    "any_to_wb=pd.read_csv(\"inputs/any_name_to_wb_name.csv\",index_col=\"any\",squeeze=True)"
   ]
  },
  {
   "cell_type": "code",
   "execution_count": 39,
   "metadata": {
    "collapsed": false
   },
   "outputs": [
    {
     "name": "stderr",
     "output_type": "stream",
     "text": [
      "C:\\Users\\Admin\\Box Sync\\PYTHON - RESILIENCE\\resilience_indicator_phl\\replace_with_warning.py:7: UserWarning: bad country names:European Union\n",
      "  warnings.warn(\"bad country names:\" +\",\".join(bads))\n"
     ]
    }
   ],
   "source": [
    "#Reads the data and check its not too old\n",
    "the_credit_rating_file =\"inputs/cred_rat.csv\"\n",
    "nb_weeks = (time.time()-os.stat(the_credit_rating_file).st_mtime )/(3600*24*7)\n",
    "if nb_weeks>3: \n",
    "    warnings.warn(\"Credit ratings are \"+str(int(nb_weeks))+\" weeks old. Get new ones at http://www.tradingeconomics.com/country-list/rating\")\n",
    "ratings_raw  =pd.read_csv(the_credit_rating_file,dtype=\"str\").dropna(how=\"all\")\n",
    "ratings_raw=ratings_raw.rename(columns={\"Unnamed: 0\": \"country_in_ratings\"})[[\"country_in_ratings\",\"S&P\",\"Moody's\",\"Fitch\"]]\n",
    "\n",
    "#The creidt rating sources calls DR Congo just Congo\n",
    "ratings_raw.country_in_ratings= ratings_raw.country_in_ratings.str.strip().replace([\"Congo\"],[\"Congo, Dem. Rep.\"])\n",
    "\n",
    "ratings_raw[\"country\"]= replace_with_warning(ratings_raw.country_in_ratings.apply(str.strip),any_to_wb)\n",
    "\n",
    "ratings_raw=ratings_raw.set_index(\"country\")\n",
    "\n",
    "def mystriper(string):\n",
    "    \"\"\"strip blanks and converts everythng to lower case\"\"\"\n",
    "    if type(string)==str:\n",
    "        return str.strip(string).lower()\n",
    "    else:\n",
    "        return string\n",
    "        \n",
    "#to lower case and strips blanks\n",
    "ratings_raw=ratings_raw.applymap(mystriper)    \n",
    "\n",
    "#Transforms ratings letters into 1-100 numbers\n",
    "rat_disc = pd.read_csv(\"inputs/cred_rat_dict.csv\")\n",
    "ratings=ratings_raw\n",
    "ratings[\"S&P\"].replace(rat_disc[\"s&p\"].values,rat_disc[\"s&p_score\"].values,inplace=True)\n",
    "ratings[\"Moody's\"].replace(rat_disc[\"moodys\"].values,rat_disc[\"moodys_score\"].values,inplace=True)\n",
    "ratings[\"Fitch\"].replace(rat_disc[\"fitch\"].values,rat_disc[\"fitch_score\"].values,inplace=True)\n",
    "ratings[\"rating\"]=ratings.mean(axis=1)/100\n",
    "\n",
    "phil_rating = ratings.ix[\"Philippines\",\"rating\"]\n",
    "df[\"rating\"]=phil_rating"
   ]
  },
  {
   "cell_type": "markdown",
   "metadata": {},
   "source": [
    "#### Combining"
   ]
  },
  {
   "cell_type": "code",
   "execution_count": 40,
   "metadata": {
    "collapsed": false
   },
   "outputs": [],
   "source": [
    "df[\"borrow_abi\"]=(df[\"rating\"]+df[\"finance_pre\"])/2 \n",
    "df[\"sigma_p\"]=df[\"sigma_r\"]=df[\"scale_up_target\"]*(df[\"borrow_abi\"]+df[\"prepare_scaleup\"])/2"
   ]
  },
  {
   "cell_type": "markdown",
   "metadata": {},
   "source": [
    "### Capital data from Penn tables"
   ]
  },
  {
   "cell_type": "code",
   "execution_count": 41,
   "metadata": {
    "collapsed": false
   },
   "outputs": [],
   "source": [
    "#data arranged from Penn tables\n",
    "k_data=pd.read_csv(\"inputs/capital_data.csv\")[[\"code\",\"cgdpo\",\"ck\"]].replace({\"ROM\":\"ROU\",\"ZAR\":\"COD\"}).rename(columns={\"cgdpo\":\"prod_from_k\",\"ck\":\"k\"})#Zair is congo\n",
    "\n",
    "#matches names in the dataset with world bank country names\n",
    "iso_country = pd.read_csv(\"inputs/iso3_to_wb_name.csv\").set_index(\"iso3\")\n",
    "k_data.set_index(\"code\",inplace=True)\n",
    "k_data[\"country\"]=iso_country[\"country\"]\n",
    "cond = k_data[\"country\"].isnull()\n",
    "if cond.sum()>0:\n",
    "     warnings.warn(\"this countries appear to be missing from iso3_to_wb_name.csv: \"+\" , \".join(k_data.index[cond].values))\n",
    "k_data=k_data.reset_index().set_index(\"country\")\n",
    "\n",
    "# average productivity of capital\n",
    "df[\"avg_prod_k\"]=(k_data[\"prod_from_k\"]/k_data[\"k\"]).ix[\"Philippines\"]\n"
   ]
  },
  {
   "cell_type": "markdown",
   "metadata": {},
   "source": [
    "### Exposure (population in flood-prone areas)"
   ]
  },
  {
   "cell_type": "code",
   "execution_count": 42,
   "metadata": {
    "collapsed": false
   },
   "outputs": [],
   "source": [
    "#Data from Glofris\n",
    "pop_exposed = pd.read_csv(\"inputs/pop_exposed.csv\",index_col=[\"NAME_1\"])\n",
    "pop_exposed.index=pop_exposed.index.str.title()\n",
    "\n",
    "df[\"faref\"]=df[\"fa\"]=pop_exposed[\"rp10_pop\"]\n",
    "\n",
    "fa_ratios =pop_exposed.div(df[\"fa\"],axis=0)\n",
    "fa_ratios.columns=[\"fa_ratio_10\",\"fa_ratio_100\"]\n",
    "\n",
    "\n",
    "fa_ratios[\"fa_ratio_5\"]=fa_ratios[\"fa_ratio_10\"] #assumes flat exposure before 5 yr rp\n",
    "fa_ratios.dropna().shape\n",
    "fa_ratios = fa_ratios.reindex_axis(sorted_nicely(fa_ratios.columns), axis=1)\n",
    "df[fa_ratios.columns]=fa_ratios"
   ]
  },
  {
   "cell_type": "markdown",
   "metadata": {},
   "source": [
    "### Vulnerability"
   ]
  },
  {
   "cell_type": "code",
   "execution_count": 43,
   "metadata": {
    "collapsed": false
   },
   "outputs": [
    {
     "data": {
      "text/plain": [
       "(Roof_% Salvaged/mixed but predominatly salvaged materials 2012    0.7\n",
       " Roof_% Light/mixed but predominantly light materials 2012         0.4\n",
       " Roof_% Strong/mixed but predominantly strong materials 2012       0.1\n",
       " Name: 0, dtype: float64,\n",
       " Walls_% alvaged/mixed but predominatly salvaged materials 2012    0.7\n",
       " Walls_% Light/mixed but predominantly light materials 2012        0.4\n",
       " Walls_% Strong/mixed but predominantly strong materials 2012      0.1\n",
       " Name: 0, dtype: float64)"
      ]
     },
     "execution_count": 43,
     "metadata": {},
     "output_type": "execute_result"
    }
   ],
   "source": [
    "#matches roof and wall types to vulnerabilities\n",
    "roof_types_to_vuln =pd.read_csv(\"inputs/roof_types_to_vuln.csv\").squeeze().sort_values(ascending=False)\n",
    "wall_types_to_vuln =pd.read_csv(\"inputs/wall_types_to_vuln.csv\").squeeze().sort_values(ascending=False)\n",
    "\n",
    "roof_types_to_vuln, wall_types_to_vuln"
   ]
  },
  {
   "cell_type": "code",
   "execution_count": 44,
   "metadata": {
    "collapsed": false
   },
   "outputs": [
    {
     "data": {
      "text/plain": [
       "(<matplotlib.axes._subplots.AxesSubplot at 0x8e98a20>,\n",
       " <matplotlib.text.Text at 0xa2ee668>)"
      ]
     },
     "execution_count": 44,
     "metadata": {},
     "output_type": "execute_result"
    },
    {
     "data": {
      "image/png": "[encoded data removed]",
      "text/plain": [
       "<matplotlib.figure.Figure at 0xa55ecc0>"
      ]
     },
     "metadata": {},
     "output_type": "display_data"
    },
    {
     "data": {
      "image/png": "[encoded data removed]",
      "text/plain": [
       "<matplotlib.figure.Figure at 0xa55e7b8>"
      ]
     },
     "metadata": {},
     "output_type": "display_data"
    }
   ],
   "source": [
    "#sorts roof types according to income\n",
    "share =data_rio[roof_types_to_vuln.keys()]/100\n",
    "p=(share.cumsum(axis=1).add(-df[\"pov_head\"],axis=0)).clip(lower=0)\n",
    "poor=(share-p).clip(lower=0)\n",
    "rich=share-poor\n",
    "\n",
    "#rooves\n",
    "vp=0.5* (poor*roof_types_to_vuln).sum(axis=1)/df[\"pov_head\"]\n",
    "vr=0.5* (rich*roof_types_to_vuln).sum(axis=1)/(1-df[\"pov_head\"])\n",
    "\n",
    "\n",
    "#sorts wall types according to income\n",
    "share =data_rio[wall_types_to_vuln.keys()]/100\n",
    "p=(share.cumsum(axis=1).add(-df[\"pov_head\"],axis=0)).clip(lower=0)\n",
    "poor=(share-p).clip(lower=0)\n",
    "rich=share-poor\n",
    "\n",
    "#walls\n",
    "vp+=0.5*((poor*wall_types_to_vuln).sum(axis=1)/df[\"pov_head\"] )\n",
    "vr+=0.5* (rich*wall_types_to_vuln).sum(axis=1)/(1-df[\"pov_head\"])\n",
    "\n",
    "\n",
    "#plots\n",
    "vp.hist(), plt.xlabel(\"vp\")\n",
    "plt.figure()\n",
    "vr.hist(),plt.xlabel(\"vr\")"
   ]
  },
  {
   "cell_type": "code",
   "execution_count": 45,
   "metadata": {
    "collapsed": false
   },
   "outputs": [],
   "source": [
    "#Expresses vulnerability as total and bias\n",
    "\n",
    "ph=df[\"pov_head\"]\n",
    "\n",
    "fa=df[\"fa\"]\n",
    "pe=df[\"peref\"] =df[\"pe\"] = .2\n",
    "fap=fa*(1+pe)\n",
    "far=(fa-ph*fap)/(1-ph)\n",
    "\n",
    "df[\"share1_ref\"]=df[\"share1\"]\n",
    "cp=   df[\"share1\"] *df[\"gdp_pc_pp\"]\n",
    "cr=(1-df[\"share1\"])*df[\"gdp_pc_pp\"]\n",
    "\n",
    "v=df[\"v\"]  = (ph*vp*cp*fap + (1-ph)*vr*cr*far)/(ph*cp*fap + (1-ph)*cr*far)\n",
    "df[\"pv\"] =  vp/df.v-1\n",
    "\n",
    "#vulnerability of diversified (shared) capital\n",
    "df[\"v_s\"]=vr\n",
    "\n",
    "#df.v .hist()\n",
    "#df.pv.hist()"
   ]
  },
  {
   "cell_type": "markdown",
   "metadata": {},
   "source": [
    "# National buyout"
   ]
  },
  {
   "cell_type": "code",
   "execution_count": 46,
   "metadata": {
    "collapsed": true
   },
   "outputs": [],
   "source": [
    "#assumption on cross-provincial risk sharing\n",
    "df[\"nat_buyout\"] = 0.3"
   ]
  },
  {
   "cell_type": "markdown",
   "metadata": {},
   "source": [
    "### Hazard (protection)"
   ]
  },
  {
   "cell_type": "code",
   "execution_count": 47,
   "metadata": {
    "collapsed": false
   },
   "outputs": [],
   "source": [
    "#rough assumption\n",
    "df[\"protection\"]=5\n"
   ]
  },
  {
   "cell_type": "markdown",
   "metadata": {},
   "source": [
    "\n",
    "\n",
    "### Homogenity of losses"
   ]
  },
  {
   "cell_type": "code",
   "execution_count": 48,
   "metadata": {
    "collapsed": false
   },
   "outputs": [],
   "source": [
    "#resds loss distribution in mumbai\n",
    "hop=pd.read_csv(\"inputs/losses_distribution_mumbai.csv\",index_col=0)[\"losses/asset_cost\"]\n",
    "# standard deviation of the underlying normal distribution\n",
    "s = np.log(hop).std() \n",
    "\n",
    "df[\"H\"]= np.exp (-s**2/2)\n"
   ]
  },
  {
   "cell_type": "markdown",
   "metadata": {},
   "source": [
    "## Report missing data by province"
   ]
  },
  {
   "cell_type": "code",
   "execution_count": 49,
   "metadata": {
    "collapsed": false
   },
   "outputs": [
    {
     "data": {
      "text/html": [
       "<div>\n",
       "<table border=\"1\" class=\"dataframe\">\n",
       "  <thead>\n",
       "    <tr style=\"text-align: right;\">\n",
       "      <th></th>\n",
       "      <th>nb_missing</th>\n",
       "      <th>missing_data</th>\n",
       "    </tr>\n",
       "    <tr>\n",
       "      <th>Province</th>\n",
       "      <th></th>\n",
       "      <th></th>\n",
       "    </tr>\n",
       "  </thead>\n",
       "  <tbody>\n",
       "    <tr>\n",
       "      <th>Aklan</th>\n",
       "      <td>5</td>\n",
       "      <td>fa_ratio_5, fa_ratio_10, fa_ratio_100, v, pv</td>\n",
       "    </tr>\n",
       "    <tr>\n",
       "      <th>Marinduque</th>\n",
       "      <td>5</td>\n",
       "      <td>fa_ratio_5, fa_ratio_10, fa_ratio_100, v, pv</td>\n",
       "    </tr>\n",
       "    <tr>\n",
       "      <th>Masbate</th>\n",
       "      <td>5</td>\n",
       "      <td>fa_ratio_5, fa_ratio_10, fa_ratio_100, v, pv</td>\n",
       "    </tr>\n",
       "    <tr>\n",
       "      <th>Misamis Oriental</th>\n",
       "      <td>5</td>\n",
       "      <td>fa_ratio_5, fa_ratio_10, fa_ratio_100, v, pv</td>\n",
       "    </tr>\n",
       "    <tr>\n",
       "      <th>Mountain Province</th>\n",
       "      <td>5</td>\n",
       "      <td>fa_ratio_5, fa_ratio_10, fa_ratio_100, v, pv</td>\n",
       "    </tr>\n",
       "  </tbody>\n",
       "</table>\n",
       "</div>"
      ],
      "text/plain": [
       "                   nb_missing                                  missing_data\n",
       "Province                                                                   \n",
       "Aklan                       5  fa_ratio_5, fa_ratio_10, fa_ratio_100, v, pv\n",
       "Marinduque                  5  fa_ratio_5, fa_ratio_10, fa_ratio_100, v, pv\n",
       "Masbate                     5  fa_ratio_5, fa_ratio_10, fa_ratio_100, v, pv\n",
       "Misamis Oriental            5  fa_ratio_5, fa_ratio_10, fa_ratio_100, v, pv\n",
       "Mountain Province           5  fa_ratio_5, fa_ratio_10, fa_ratio_100, v, pv"
      ]
     },
     "execution_count": 49,
     "metadata": {},
     "output_type": "execute_result"
    }
   ],
   "source": [
    "def write_missing_data(s):\n",
    "    which = s[s.isnull()].index.values\n",
    "    return \", \".join(which)\n",
    "\n",
    "def count_missing_data(s):\n",
    "    return s.isnull().sum()\n",
    "\n",
    "report = pd.DataFrame()\n",
    "\n",
    "report[\"nb_missing\"]=df.apply(count_missing_data,axis=1)  \n",
    "report[\"missing_data\"]=df.apply(write_missing_data,axis=1)\n",
    "\n",
    "report  = report.ix[report[\"nb_missing\"]>0,:]\n",
    "report.sort_values(by=\"nb_missing\",inplace=True)\n",
    "report.to_csv(\"missing_data_report.csv\")\n",
    "\n",
    "report.head()"
   ]
  },
  {
   "cell_type": "markdown",
   "metadata": {},
   "source": [
    "## manual parametrization"
   ]
  },
  {
   "cell_type": "code",
   "execution_count": 50,
   "metadata": {
    "collapsed": false
   },
   "outputs": [],
   "source": [
    "# no ripple effects\n",
    "df[\"alpha\"] =1 \n",
    "\n",
    "#Reconstruction times\n",
    "df[\"T_rebuild_K\"] = 3\n",
    "df[\"T_rebuild_L\"] = 40\n",
    "\n",
    "# how much early warning reduces vulnerability\n",
    "df[\"pi\"] = 0.2\n",
    "\n",
    "#income elasticity\n",
    "df[\"income_elast\"] = 1.5"
   ]
  },
  {
   "cell_type": "markdown",
   "metadata": {},
   "source": [
    "# Computes and saves provincial resilience"
   ]
  },
  {
   "cell_type": "markdown",
   "metadata": {},
   "source": [
    "#### Central cases"
   ]
  },
  {
   "cell_type": "code",
   "execution_count": 51,
   "metadata": {
    "collapsed": false
   },
   "outputs": [],
   "source": [
    "df[\"original_country\"]=df.index;\n",
    "#saves orginal dataframe before adding columns with results\n",
    "df.to_csv(\"df_original.csv\")"
   ]
  },
  {
   "cell_type": "code",
   "execution_count": 52,
   "metadata": {
    "collapsed": false
   },
   "outputs": [
    {
     "name": "stdout",
     "output_type": "stream",
     "text": [
      "nb Provinces with all data :35\n",
      "nb Provinces with all data and results :35\n"
     ]
    }
   ],
   "source": [
    "df_with_results=compute_resiliences(df)\n",
    "print(\"nb Provinces with all data :\"+str(df.dropna().shape[0]))\n",
    "\n",
    "nb_countries_all_results = df_with_results[\"resilience\"].dropna().shape[0]\n",
    "print(\"nb Provinces with all data and results :\"+str(nb_countries_all_results))\n",
    "\n",
    "df_with_results.to_csv(\"df.csv\")\n"
   ]
  },
  {
   "cell_type": "markdown",
   "metadata": {},
   "source": [
    "#### Impact of increasing effective scale up"
   ]
  },
  {
   "cell_type": "code",
   "execution_count": 53,
   "metadata": {
    "collapsed": false
   },
   "outputs": [
    {
     "name": "stdout",
     "output_type": "stream",
     "text": [
      " Increasing effective scale up to 100% in the 35 provincies would increase asset losses from USD 0 to 0 billions per year (+0.0 percent), but reduce welfare losses by 2.7e+01 percent\n"
     ]
    }
   ],
   "source": [
    "df_su = compute_resiliences( df.dropna().assign(sigma_p=1) )\n",
    "\n",
    "#welfare losses\n",
    "wa=df_with_results.total_equivalent_cost.sum()*1e-9\n",
    "wb=df_su.total_equivalent_cost.sum()*1e-9\n",
    "\n",
    "#asset losses\n",
    "ka = (df_with_results.dKtot/df.protection).sum()*1e-9\n",
    "kb = (df_su.dKtot/df_su.protection).sum()*1e-9\n",
    "\n",
    "print(\" Increasing effective scale up to 100% in the {nb} provincies \\\n",
    "would increase asset losses from USD {ka:0.0f} to {kb:0.0f} billions per year \\\n",
    "(+{XX:.1f} percent), but reduce welfare losses by {YY:.2} percent\".format(\n",
    "        XX=100*(kb-ka)/ka,ka=ka,kb=kb,YY=100*(wa-wb)/wa,nb=nb_countries_all_results)\n",
    "     )"
   ]
  },
  {
   "cell_type": "markdown",
   "metadata": {},
   "source": [
    "#### Impact of decreasing poverty insurance"
   ]
  },
  {
   "cell_type": "code",
   "execution_count": 54,
   "metadata": {
    "collapsed": false
   },
   "outputs": [
    {
     "name": "stdout",
     "output_type": "stream",
     "text": [
      " Decreasing poverty incidence by 1 percent in the 35 provincies would increase asset losses from USD 0 to 0 billions per year (+-0.2 percent), but reduce welfare losses by 1.2 percent\n"
     ]
    }
   ],
   "source": [
    "df_share1 = compute_resiliences( df.dropna().assign(pov_head=df.pov_head-1/100) )\n",
    "\n",
    "#welfare losses\n",
    "wa=df_with_results.total_equivalent_cost.sum()*1e-9\n",
    "wb=df_share1.total_equivalent_cost.sum()*1e-9\n",
    "\n",
    "#asset losses\n",
    "ka = (df_with_results.dKtot/df.protection).sum()*1e-9\n",
    "kb = (df_share1.dKtot/df_share1.protection).sum()*1e-9\n",
    "\n",
    "print(\" Decreasing poverty incidence by 1 percent in the {nb} provincies \\\n",
    "would increase asset losses from USD {ka:0.0f} to {kb:0.0f} billions per year \\\n",
    "(+{XX:.1f} percent), but reduce welfare losses by {YY:.2} percent\".format(\n",
    "        XX=100*(kb-ka)/ka,ka=ka,kb=kb,YY=100*(wa-wb)/wa,nb=nb_countries_all_results)\n",
    "     )"
   ]
  },
  {
   "cell_type": "markdown",
   "metadata": {},
   "source": [
    "#### Basic reporting"
   ]
  },
  {
   "cell_type": "code",
   "execution_count": 55,
   "metadata": {
    "collapsed": false
   },
   "outputs": [
    {
     "data": {
      "text/plain": [
       "'Resilience averages 45% across our sample, ranging from 22% to 135%'"
      ]
     },
     "execution_count": 55,
     "metadata": {},
     "output_type": "execute_result"
    }
   ],
   "source": [
    "#Some stats\n",
    "a=df_with_results.resilience;\n",
    "a.min()*100,a.mean()*100,a.max()*100\n",
    "\"Resilience averages {mean:.0%} across our sample, ranging from {min:.0%} to {max:.0%}\".format(\n",
    "    min=a.min(),mean=a.mean(),max=a.max())"
   ]
  },
  {
   "cell_type": "code",
   "execution_count": 56,
   "metadata": {
    "collapsed": false
   },
   "outputs": [],
   "source": [
    "#Outputs table with main results\n",
    "to_output = ['gdp_pc_pp', 'pop',\"protection\",\"fa\",\"v\",\"resilience\",\"risk\"]\n",
    "a=df_with_results[to_output].copy()\n",
    "a.loc[:,[\"fa\",\"v\",\"resilience\",\"risk\"]]=100*a[[\"fa\",\"v\",\"resilience\",\"risk\"]]\n",
    "desc=pd.read_csv(\"inputs/inputs_info.csv\").set_index('key')[\"descriptor\"]\n",
    "a.rename(columns=desc).dropna().to_excel(\"results.xlsx\")"
   ]
  },
  {
   "cell_type": "markdown",
   "metadata": {},
   "source": [
    "# Resilience tiers"
   ]
  },
  {
   "cell_type": "code",
   "execution_count": 57,
   "metadata": {
    "collapsed": false
   },
   "outputs": [
    {
     "data": {
      "text/html": [
       "<div>\n",
       "<table border=\"1\" class=\"dataframe\">\n",
       "  <thead>\n",
       "    <tr style=\"text-align: right;\">\n",
       "      <th></th>\n",
       "      <th>resilience</th>\n",
       "      <th>risk</th>\n",
       "    </tr>\n",
       "  </thead>\n",
       "  <tbody>\n",
       "    <tr>\n",
       "      <th>Abra</th>\n",
       "      <td>Low</td>\n",
       "      <td>High</td>\n",
       "    </tr>\n",
       "    <tr>\n",
       "      <th>Agusan Del Norte</th>\n",
       "      <td>Mid</td>\n",
       "      <td>High</td>\n",
       "    </tr>\n",
       "    <tr>\n",
       "      <th>Agusan Del Sur</th>\n",
       "      <td>Low</td>\n",
       "      <td>High</td>\n",
       "    </tr>\n",
       "    <tr>\n",
       "      <th>Apayao</th>\n",
       "      <td>Low</td>\n",
       "      <td>Low</td>\n",
       "    </tr>\n",
       "    <tr>\n",
       "      <th>Batangas</th>\n",
       "      <td>High</td>\n",
       "      <td>Low</td>\n",
       "    </tr>\n",
       "    <tr>\n",
       "      <th>Bukidnon</th>\n",
       "      <td>Low</td>\n",
       "      <td>Mid</td>\n",
       "    </tr>\n",
       "    <tr>\n",
       "      <th>Bulacan</th>\n",
       "      <td>High</td>\n",
       "      <td>Low</td>\n",
       "    </tr>\n",
       "    <tr>\n",
       "      <th>Cagayan</th>\n",
       "      <td>High</td>\n",
       "      <td>Mid</td>\n",
       "    </tr>\n",
       "    <tr>\n",
       "      <th>Camarines Sur</th>\n",
       "      <td>Mid</td>\n",
       "      <td>High</td>\n",
       "    </tr>\n",
       "    <tr>\n",
       "      <th>Capiz</th>\n",
       "      <td>Mid</td>\n",
       "      <td>High</td>\n",
       "    </tr>\n",
       "    <tr>\n",
       "      <th>Davao Del Norte</th>\n",
       "      <td>Mid</td>\n",
       "      <td>Low</td>\n",
       "    </tr>\n",
       "    <tr>\n",
       "      <th>Ifugao</th>\n",
       "      <td>Mid</td>\n",
       "      <td>Mid</td>\n",
       "    </tr>\n",
       "    <tr>\n",
       "      <th>Ilocos Norte</th>\n",
       "      <td>High</td>\n",
       "      <td>Mid</td>\n",
       "    </tr>\n",
       "    <tr>\n",
       "      <th>Ilocos Sur</th>\n",
       "      <td>High</td>\n",
       "      <td>Low</td>\n",
       "    </tr>\n",
       "    <tr>\n",
       "      <th>Isabela</th>\n",
       "      <td>Mid</td>\n",
       "      <td>Mid</td>\n",
       "    </tr>\n",
       "    <tr>\n",
       "      <th>Kalinga</th>\n",
       "      <td>Mid</td>\n",
       "      <td>Mid</td>\n",
       "    </tr>\n",
       "    <tr>\n",
       "      <th>La Union</th>\n",
       "      <td>High</td>\n",
       "      <td>Low</td>\n",
       "    </tr>\n",
       "    <tr>\n",
       "      <th>Lanao Del Sur</th>\n",
       "      <td>Low</td>\n",
       "      <td>Mid</td>\n",
       "    </tr>\n",
       "    <tr>\n",
       "      <th>Maguindanao</th>\n",
       "      <td>Low</td>\n",
       "      <td>High</td>\n",
       "    </tr>\n",
       "    <tr>\n",
       "      <th>Misamis Occidental</th>\n",
       "      <td>Low</td>\n",
       "      <td>Low</td>\n",
       "    </tr>\n",
       "    <tr>\n",
       "      <th>Negros Occidental</th>\n",
       "      <td>Mid</td>\n",
       "      <td>Mid</td>\n",
       "    </tr>\n",
       "    <tr>\n",
       "      <th>Negros Oriental</th>\n",
       "      <td>Low</td>\n",
       "      <td>Low</td>\n",
       "    </tr>\n",
       "    <tr>\n",
       "      <th>North Cotabato</th>\n",
       "      <td>Low</td>\n",
       "      <td>High</td>\n",
       "    </tr>\n",
       "    <tr>\n",
       "      <th>Nueva Ecija</th>\n",
       "      <td>Mid</td>\n",
       "      <td>High</td>\n",
       "    </tr>\n",
       "    <tr>\n",
       "      <th>Nueva Vizcaya</th>\n",
       "      <td>High</td>\n",
       "      <td>High</td>\n",
       "    </tr>\n",
       "    <tr>\n",
       "      <th>Pampanga</th>\n",
       "      <td>High</td>\n",
       "      <td>Mid</td>\n",
       "    </tr>\n",
       "    <tr>\n",
       "      <th>Pangasinan</th>\n",
       "      <td>High</td>\n",
       "      <td>High</td>\n",
       "    </tr>\n",
       "    <tr>\n",
       "      <th>Quezon</th>\n",
       "      <td>High</td>\n",
       "      <td>Low</td>\n",
       "    </tr>\n",
       "    <tr>\n",
       "      <th>Rizal</th>\n",
       "      <td>High</td>\n",
       "      <td>Low</td>\n",
       "    </tr>\n",
       "    <tr>\n",
       "      <th>Samar</th>\n",
       "      <td>Low</td>\n",
       "      <td>High</td>\n",
       "    </tr>\n",
       "    <tr>\n",
       "      <th>Sarangani</th>\n",
       "      <td>Low</td>\n",
       "      <td>Low</td>\n",
       "    </tr>\n",
       "    <tr>\n",
       "      <th>South Cotabato</th>\n",
       "      <td>Mid</td>\n",
       "      <td>Low</td>\n",
       "    </tr>\n",
       "    <tr>\n",
       "      <th>Sultan Kudarat</th>\n",
       "      <td>Low</td>\n",
       "      <td>High</td>\n",
       "    </tr>\n",
       "    <tr>\n",
       "      <th>Tarlac</th>\n",
       "      <td>High</td>\n",
       "      <td>Mid</td>\n",
       "    </tr>\n",
       "    <tr>\n",
       "      <th>Zamboanga Del Sur</th>\n",
       "      <td>Mid</td>\n",
       "      <td>Mid</td>\n",
       "    </tr>\n",
       "  </tbody>\n",
       "</table>\n",
       "</div>"
      ],
      "text/plain": [
       "                   resilience  risk\n",
       "Abra                      Low  High\n",
       "Agusan Del Norte          Mid  High\n",
       "Agusan Del Sur            Low  High\n",
       "Apayao                    Low   Low\n",
       "Batangas                 High   Low\n",
       "Bukidnon                  Low   Mid\n",
       "Bulacan                  High   Low\n",
       "Cagayan                  High   Mid\n",
       "Camarines Sur             Mid  High\n",
       "Capiz                     Mid  High\n",
       "Davao Del Norte           Mid   Low\n",
       "Ifugao                    Mid   Mid\n",
       "Ilocos Norte             High   Mid\n",
       "Ilocos Sur               High   Low\n",
       "Isabela                   Mid   Mid\n",
       "Kalinga                   Mid   Mid\n",
       "La Union                 High   Low\n",
       "Lanao Del Sur             Low   Mid\n",
       "Maguindanao               Low  High\n",
       "Misamis Occidental        Low   Low\n",
       "Negros Occidental         Mid   Mid\n",
       "Negros Oriental           Low   Low\n",
       "North Cotabato            Low  High\n",
       "Nueva Ecija               Mid  High\n",
       "Nueva Vizcaya            High  High\n",
       "Pampanga                 High   Mid\n",
       "Pangasinan               High  High\n",
       "Quezon                   High   Low\n",
       "Rizal                    High   Low\n",
       "Samar                     Low  High\n",
       "Sarangani                 Low   Low\n",
       "South Cotabato            Mid   Low\n",
       "Sultan Kudarat            Low  High\n",
       "Tarlac                   High   Mid\n",
       "Zamboanga Del Sur         Mid   Mid"
      ]
     },
     "execution_count": 57,
     "metadata": {},
     "output_type": "execute_result"
    }
   ],
   "source": [
    "pd.DataFrame([make_tiers(df_with_results.resilience), make_tiers(df_with_results.risk)]).T.dropna()"
   ]
  },
  {
   "cell_type": "code",
   "execution_count": 58,
   "metadata": {
    "collapsed": false
   },
   "outputs": [],
   "source": [
    "#Outputs resilience tiers to excel\n",
    "with pd.ExcelWriter(\"tiers.xlsx\", engine='xlsxwriter') as writer:\n",
    "    workbook=writer.book\n",
    "    # Add a format. Light red fill with dark red text.\n",
    "    red = workbook.add_format({#'bg_color': '#f4a582',\n",
    "                                   'font_color': '#ca0020'})\n",
    "    orange = workbook.add_format({#'bg_color': '#f7f7f7',\n",
    "                                   'font_color': '#000000'})\n",
    "\n",
    "    blue = workbook.add_format({#'bg_color': '#92c5de',\n",
    "                                   'font_color': '#0571b0'})\n",
    "    pd.DataFrame([make_tiers(df_with_results.resilience), make_tiers(df_with_results.risk)]).T.sort_values(by=\"risk\").to_excel(writer,sheet_name=\"tiers\")\n",
    "    worksheet=writer.sheets[\"tiers\"]\n",
    "    worksheet.conditional_format('B2:B600', {'type':     'text',\n",
    "                                   'criteria': 'containing',\n",
    "                                'value':    \"Low\",\n",
    "                                'format':   red})\n",
    "    writer.sheets[\"tiers\"].conditional_format('B2:B600', {'type':     'text',\n",
    "                                'criteria': 'containing',\n",
    "                                'value':    \"High\",\n",
    "                                'format':   blue})\n",
    "    writer.sheets[\"tiers\"].conditional_format('C2:C600', {'type':     'text',\n",
    "                                   'criteria': 'containing',\n",
    "                                'value':    \"Low\",\n",
    "                                'format':   blue})\n",
    "    writer.sheets[\"tiers\"].conditional_format('C2:C600', {'type':     'text',\n",
    "                                'criteria': 'containing',\n",
    "                                'value':    \"High\",\n",
    "                                'format':   red})\n",
    "    writer.sheets[\"tiers\"].conditional_format('B2:C600', {'type':     'text',\n",
    "                                'criteria': 'containing',\n",
    "                                'value':    \"Mid\",\n",
    "                                'format':   orange}) \n",
    "    worksheet.autofilter('A1:C1')\n",
    "    worksheet.set_column(0, 0, 20)\n",
    "    worksheet.set_column(1, 1, 14)\n",
    "    worksheet.set_column(2, 2, 8)\n",
    "    writer.sheets[\"tiers\"].freeze_panes(1, 1)"
   ]
  },
  {
   "cell_type": "markdown",
   "metadata": {},
   "source": [
    "## sensitivity anlysis"
   ]
  },
  {
   "cell_type": "code",
   "execution_count": 59,
   "metadata": {
    "collapsed": false
   },
   "outputs": [],
   "source": [
    "####Sensitivity analysis folling instructions in alt_params.csv\n",
    "\n",
    "#reads paramters to be varied\n",
    "alt_params=pd.read_csv(\"inputs/alt_params.csv\")\n",
    "\n",
    "df_sensit = pd.DataFrame(columns=df.columns)\n",
    "\n",
    "#for c in country_sens_list:\n",
    "for c in df.dropna().index[0:5]: #senstitivity for all countries  (actually very long)\n",
    "    for p in alt_params.index.tolist():\n",
    "        param = alt_params.ix[p,\"param\"]\n",
    "        \n",
    "        new_value = alt_params.ix[p,\"value\"]\n",
    "        if new_value[0] in \"/*\":\n",
    "            new_value = str(df.ix[c,param])+new_value         \n",
    "        new_value = eval(new_value)\n",
    "        \n",
    "        d = c+\" $({name}={nv:2.0f}\\%)$\".format(name=alt_params.ix[p,\"formated_name\"],nv=100*new_value)\n",
    "        df_sensit.ix[d] = df.ix[c]\n",
    "        df_sensit.ix[d,param] =new_value\n",
    "        df_sensit.ix[d,\"original_country\"]=c\n",
    "        \n",
    "        #sets reference values \n",
    "        df_sensit =def_ref_values(df_sensit)\n",
    "        \n",
    "    \n",
    "    #special treatment for fa\n",
    "    df_sensit.ix[d,param] =new_value\n",
    "    \n",
    "    for param in [\"income_elast\"]:\n",
    "        for new_value in [1, 2]:\n",
    "            d = c+\" $(\\eta=\"+str(new_value)+\")$\"\n",
    "            df_sensit.ix[d] = df.ix[c]\n",
    "            df_sensit.ix[d,param] =new_value\n",
    "            df_sensit.ix[d,\"original_country\"]=c\n",
    "\n",
    "df_sensit.index.name=\"Province\"; #after adding indices pandas forgets their \n",
    "df_sensit.to_csv(\"df_sensit_input.csv\")\n",
    "compute_resiliences(df_sensit).to_csv(\"df_sensit_results.csv\")"
   ]
  },
  {
   "cell_type": "code",
   "execution_count": null,
   "metadata": {
    "collapsed": true
   },
   "outputs": [],
   "source": []
  },
  {
   "cell_type": "code",
   "execution_count": null,
   "metadata": {
    "collapsed": true
   },
   "outputs": [],
   "source": []
  }
 ],
 "metadata": {
  "kernelspec": {
   "display_name": "Python 3",
   "language": "python",
   "name": "python3"
  },
  "language_info": {
   "codemirror_mode": {
    "name": "ipython",
    "version": 3
   },
   "file_extension": ".py",
   "mimetype": "text/x-python",
   "name": "python",
   "nbconvert_exporter": "python",
   "pygments_lexer": "ipython3",
   "version": "3.4.3"
  }
 },
 "nbformat": 4,
 "nbformat_minor": 0
}
