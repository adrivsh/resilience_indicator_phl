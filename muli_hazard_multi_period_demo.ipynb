{
 "cells": [
  {
   "cell_type": "code",
   "execution_count": 25,
   "metadata": {
    "collapsed": false
   },
   "outputs": [
    {
     "name": "stdout",
     "output_type": "stream",
     "text": [
      "The autoreload extension is already loaded. To reload it, use:\n",
      "  %reload_ext autoreload\n"
     ]
    }
   ],
   "source": [
    "%reset-f\n",
    "%load_ext autoreload\n",
    "%autoreload 2"
   ]
  },
  {
   "cell_type": "markdown",
   "metadata": {},
   "source": [
    "This notebook demonstrates the usage of the resilience/socio-economic capacity model with multi hazard and multi return period data. First look at the simple case in [socio_economic_capacity_demo](socio_economic_capacity_demo.ipynb)"
   ]
  },
  {
   "cell_type": "markdown",
   "metadata": {},
   "source": [
    "# Loading functions"
   ]
  },
  {
   "cell_type": "markdown",
   "metadata": {},
   "source": [
    "We first import function librairies. The first ones are standard python librairies."
   ]
  },
  {
   "cell_type": "code",
   "execution_count": 26,
   "metadata": {
    "ExecuteTime": {
     "end_time": "2016-03-01T17:17:53.864183",
     "start_time": "2016-03-01T17:17:53.033410"
    },
    "collapsed": true
   },
   "outputs": [],
   "source": [
    "#The main library we use. Manipulates Excel-like tables (called dataframes) with named rows and columns\n",
    "import pandas as pd "
   ]
  },
  {
   "cell_type": "code",
   "execution_count": 27,
   "metadata": {
    "ExecuteTime": {
     "end_time": "2016-03-01T17:17:54.317508",
     "start_time": "2016-03-01T17:17:53.867185"
    },
    "code_folding": [],
    "collapsed": false
   },
   "outputs": [],
   "source": [
    "#ploting capacities\n",
    "import matplotlib.pyplot as plt \n",
    "#make plots appear in this notebook\n",
    "%matplotlib inline  \n",
    "\n",
    "#Default options for plots: this controls the font used in figures\n",
    "font = {'family' : 'sans serif',\n",
    "    'size'   : 18}\n",
    "plt.rc('font', **font)\n"
   ]
  },
  {
   "cell_type": "markdown",
   "metadata": {},
   "source": [
    "# Loading and exploring the data"
   ]
  },
  {
   "cell_type": "markdown",
   "metadata": {},
   "source": [
    "Here we read the data set we need into a pandas table (called DataFrame).\n",
    "This specific dataset was put together from a variety of different sources using another python notebook: [data_gathering_demo.ipynb](data_gathering_demo.ipynb). In the future we could build directly an excel file with all the data the model needs."
   ]
  },
  {
   "cell_type": "markdown",
   "metadata": {},
   "source": [
    "## General data"
   ]
  },
  {
   "cell_type": "code",
   "execution_count": 28,
   "metadata": {
    "ExecuteTime": {
     "end_time": "2016-03-01T17:17:54.448613",
     "start_time": "2016-03-01T17:17:54.319509"
    },
    "collapsed": false
   },
   "outputs": [
    {
     "data": {
      "text/html": [
       "<div>\n",
       "<table border=\"1\" class=\"dataframe\">\n",
       "  <thead>\n",
       "    <tr style=\"text-align: right;\">\n",
       "      <th></th>\n",
       "      <th>pop</th>\n",
       "      <th>cp</th>\n",
       "      <th>cr</th>\n",
       "      <th>pov_head</th>\n",
       "      <th>gdp_pc_pp</th>\n",
       "      <th>shewp</th>\n",
       "      <th>shewr</th>\n",
       "      <th>social_p</th>\n",
       "      <th>social_r</th>\n",
       "      <th>gdp_pc_pp_nat</th>\n",
       "      <th>...</th>\n",
       "      <th>avg_prod_k</th>\n",
       "      <th>T_rebuild_K</th>\n",
       "      <th>pi</th>\n",
       "      <th>fap</th>\n",
       "      <th>far</th>\n",
       "      <th>protection</th>\n",
       "      <th>sigma_r</th>\n",
       "      <th>sigma_p</th>\n",
       "      <th>income_elast</th>\n",
       "      <th>rho</th>\n",
       "    </tr>\n",
       "    <tr>\n",
       "      <th>province</th>\n",
       "      <th></th>\n",
       "      <th></th>\n",
       "      <th></th>\n",
       "      <th></th>\n",
       "      <th></th>\n",
       "      <th></th>\n",
       "      <th></th>\n",
       "      <th></th>\n",
       "      <th></th>\n",
       "      <th></th>\n",
       "      <th></th>\n",
       "      <th></th>\n",
       "      <th></th>\n",
       "      <th></th>\n",
       "      <th></th>\n",
       "      <th></th>\n",
       "      <th></th>\n",
       "      <th></th>\n",
       "      <th></th>\n",
       "      <th></th>\n",
       "      <th></th>\n",
       "    </tr>\n",
       "  </thead>\n",
       "  <tbody>\n",
       "    <tr>\n",
       "      <th>Abra</th>\n",
       "      <td>51167</td>\n",
       "      <td>92.828972</td>\n",
       "      <td>203.891421</td>\n",
       "      <td>0.271937</td>\n",
       "      <td>173.689487</td>\n",
       "      <td>0.063163</td>\n",
       "      <td>0.173531</td>\n",
       "      <td>0.173531</td>\n",
       "      <td>0.203457</td>\n",
       "      <td>236.389964</td>\n",
       "      <td>...</td>\n",
       "      <td>0.23</td>\n",
       "      <td>3</td>\n",
       "      <td>0.2</td>\n",
       "      <td>0.05</td>\n",
       "      <td>0.05</td>\n",
       "      <td>5</td>\n",
       "      <td>0</td>\n",
       "      <td>0</td>\n",
       "      <td>1.5</td>\n",
       "      <td>0.15</td>\n",
       "    </tr>\n",
       "    <tr>\n",
       "      <th>Agusan del Norte</th>\n",
       "      <td>141357</td>\n",
       "      <td>82.348426</td>\n",
       "      <td>234.816324</td>\n",
       "      <td>0.276778</td>\n",
       "      <td>192.616487</td>\n",
       "      <td>0.249100</td>\n",
       "      <td>0.147336</td>\n",
       "      <td>0.147336</td>\n",
       "      <td>0.226521</td>\n",
       "      <td>236.389964</td>\n",
       "      <td>...</td>\n",
       "      <td>0.23</td>\n",
       "      <td>3</td>\n",
       "      <td>0.2</td>\n",
       "      <td>0.05</td>\n",
       "      <td>0.05</td>\n",
       "      <td>5</td>\n",
       "      <td>0</td>\n",
       "      <td>0</td>\n",
       "      <td>1.5</td>\n",
       "      <td>0.15</td>\n",
       "    </tr>\n",
       "    <tr>\n",
       "      <th>Agusan del Sur</th>\n",
       "      <td>141595</td>\n",
       "      <td>83.304081</td>\n",
       "      <td>216.087522</td>\n",
       "      <td>0.372958</td>\n",
       "      <td>166.564929</td>\n",
       "      <td>0.139189</td>\n",
       "      <td>0.126444</td>\n",
       "      <td>0.126444</td>\n",
       "      <td>0.113334</td>\n",
       "      <td>236.389964</td>\n",
       "      <td>...</td>\n",
       "      <td>0.23</td>\n",
       "      <td>3</td>\n",
       "      <td>0.2</td>\n",
       "      <td>0.05</td>\n",
       "      <td>0.05</td>\n",
       "      <td>5</td>\n",
       "      <td>0</td>\n",
       "      <td>0</td>\n",
       "      <td>1.5</td>\n",
       "      <td>0.15</td>\n",
       "    </tr>\n",
       "    <tr>\n",
       "      <th>Aklan</th>\n",
       "      <td>123269</td>\n",
       "      <td>79.445859</td>\n",
       "      <td>211.619510</td>\n",
       "      <td>0.204461</td>\n",
       "      <td>184.595206</td>\n",
       "      <td>0.128517</td>\n",
       "      <td>0.184183</td>\n",
       "      <td>0.184183</td>\n",
       "      <td>0.239542</td>\n",
       "      <td>236.389964</td>\n",
       "      <td>...</td>\n",
       "      <td>0.23</td>\n",
       "      <td>3</td>\n",
       "      <td>0.2</td>\n",
       "      <td>0.05</td>\n",
       "      <td>0.05</td>\n",
       "      <td>5</td>\n",
       "      <td>0</td>\n",
       "      <td>0</td>\n",
       "      <td>1.5</td>\n",
       "      <td>0.15</td>\n",
       "    </tr>\n",
       "    <tr>\n",
       "      <th>Albay</th>\n",
       "      <td>267030</td>\n",
       "      <td>76.582210</td>\n",
       "      <td>224.008585</td>\n",
       "      <td>0.339106</td>\n",
       "      <td>174.015387</td>\n",
       "      <td>0.172775</td>\n",
       "      <td>0.201804</td>\n",
       "      <td>0.201804</td>\n",
       "      <td>0.213554</td>\n",
       "      <td>236.389964</td>\n",
       "      <td>...</td>\n",
       "      <td>0.23</td>\n",
       "      <td>3</td>\n",
       "      <td>0.2</td>\n",
       "      <td>0.05</td>\n",
       "      <td>0.05</td>\n",
       "      <td>5</td>\n",
       "      <td>0</td>\n",
       "      <td>0</td>\n",
       "      <td>1.5</td>\n",
       "      <td>0.15</td>\n",
       "    </tr>\n",
       "  </tbody>\n",
       "</table>\n",
       "<p>5 rows × 22 columns</p>\n",
       "</div>"
      ],
      "text/plain": [
       "                     pop         cp          cr  pov_head   gdp_pc_pp  \\\n",
       "province                                                                \n",
       "Abra               51167  92.828972  203.891421  0.271937  173.689487   \n",
       "Agusan del Norte  141357  82.348426  234.816324  0.276778  192.616487   \n",
       "Agusan del Sur    141595  83.304081  216.087522  0.372958  166.564929   \n",
       "Aklan             123269  79.445859  211.619510  0.204461  184.595206   \n",
       "Albay             267030  76.582210  224.008585  0.339106  174.015387   \n",
       "\n",
       "                     shewp     shewr  social_p  social_r  gdp_pc_pp_nat  ...   \\\n",
       "province                                                                 ...    \n",
       "Abra              0.063163  0.173531  0.173531  0.203457     236.389964  ...    \n",
       "Agusan del Norte  0.249100  0.147336  0.147336  0.226521     236.389964  ...    \n",
       "Agusan del Sur    0.139189  0.126444  0.126444  0.113334     236.389964  ...    \n",
       "Aklan             0.128517  0.184183  0.184183  0.239542     236.389964  ...    \n",
       "Albay             0.172775  0.201804  0.201804  0.213554     236.389964  ...    \n",
       "\n",
       "                  avg_prod_k  T_rebuild_K   pi   fap   far  protection  \\\n",
       "province                                                                 \n",
       "Abra                    0.23            3  0.2  0.05  0.05           5   \n",
       "Agusan del Norte        0.23            3  0.2  0.05  0.05           5   \n",
       "Agusan del Sur          0.23            3  0.2  0.05  0.05           5   \n",
       "Aklan                   0.23            3  0.2  0.05  0.05           5   \n",
       "Albay                   0.23            3  0.2  0.05  0.05           5   \n",
       "\n",
       "                  sigma_r  sigma_p  income_elast   rho  \n",
       "province                                                \n",
       "Abra                    0        0           1.5  0.15  \n",
       "Agusan del Norte        0        0           1.5  0.15  \n",
       "Agusan del Sur          0        0           1.5  0.15  \n",
       "Aklan                   0        0           1.5  0.15  \n",
       "Albay                   0        0           1.5  0.15  \n",
       "\n",
       "[5 rows x 22 columns]"
      ]
     },
     "execution_count": 28,
     "metadata": {},
     "output_type": "execute_result"
    }
   ],
   "source": [
    "#Load the excel data file into a dataframe (table)\n",
    "df=pd.read_excel(\"inputs/all_data_compiled.xlsx\", \n",
    "                 index_col=0, #tells Pandas to use the first column (Provinces) as the index of the table\n",
    "                 skiprows=[0, 2] #The first (0) row is a description of the variables and the 3rd (2) row is empty. We skip them\n",
    "                ) \n",
    "df.index.name=\"province\" #rename the index to \"province\" for clarity\n",
    "#Displays the first rows of that dataframe\n",
    "df.head()"
   ]
  },
  {
   "cell_type": "markdown",
   "metadata": {},
   "source": [
    "The columns names correspond to variables in the resilience assessment model, so they are not all self-explanatory. For a description of the variables, see above, or clic on [inputs/inputs_info.csv](inputs/inputs_info.csv)"
   ]
  },
  {
   "cell_type": "markdown",
   "metadata": {},
   "source": [
    "## Multi hazard data"
   ]
  },
  {
   "cell_type": "markdown",
   "metadata": {},
   "source": [
    "The model can also handle data for different hazards. Here we have estimates of exposure of poor and nonpoor people to hazard and river floods in some provinces of the Philippines. "
   ]
  },
  {
   "cell_type": "code",
   "execution_count": 29,
   "metadata": {
    "collapsed": false
   },
   "outputs": [
    {
     "data": {
      "text/html": [
       "<div>\n",
       "<table border=\"1\" class=\"dataframe\">\n",
       "  <thead>\n",
       "    <tr style=\"text-align: right;\">\n",
       "      <th></th>\n",
       "      <th></th>\n",
       "      <th>fap</th>\n",
       "      <th>far</th>\n",
       "    </tr>\n",
       "    <tr>\n",
       "      <th>province</th>\n",
       "      <th>hazard</th>\n",
       "      <th></th>\n",
       "      <th></th>\n",
       "    </tr>\n",
       "  </thead>\n",
       "  <tbody>\n",
       "    <tr>\n",
       "      <th rowspan=\"2\" valign=\"top\">Abra</th>\n",
       "      <th>coast</th>\n",
       "      <td>0.000000</td>\n",
       "      <td>0.000000</td>\n",
       "    </tr>\n",
       "    <tr>\n",
       "      <th>river</th>\n",
       "      <td>0.188715</td>\n",
       "      <td>0.149419</td>\n",
       "    </tr>\n",
       "    <tr>\n",
       "      <th rowspan=\"2\" valign=\"top\">Agusan Del Norte</th>\n",
       "      <th>coast</th>\n",
       "      <td>0.114415</td>\n",
       "      <td>0.091571</td>\n",
       "    </tr>\n",
       "    <tr>\n",
       "      <th>river</th>\n",
       "      <td>0.365700</td>\n",
       "      <td>0.292684</td>\n",
       "    </tr>\n",
       "    <tr>\n",
       "      <th>Agusan Del Sur</th>\n",
       "      <th>coast</th>\n",
       "      <td>0.011681</td>\n",
       "      <td>0.008747</td>\n",
       "    </tr>\n",
       "  </tbody>\n",
       "</table>\n",
       "</div>"
      ],
      "text/plain": [
       "                              fap       far\n",
       "province         hazard                    \n",
       "Abra             coast   0.000000  0.000000\n",
       "                 river   0.188715  0.149419\n",
       "Agusan Del Norte coast   0.114415  0.091571\n",
       "                 river   0.365700  0.292684\n",
       "Agusan Del Sur   coast   0.011681  0.008747"
      ]
     },
     "execution_count": 29,
     "metadata": {},
     "output_type": "execute_result"
    }
   ],
   "source": [
    "multihazard_info = pd.read_csv(\"inputs/multi_hazard_data.csv\", index_col=[\"province\",\"hazard\"])\n",
    "multihazard_info.head()"
   ]
  },
  {
   "cell_type": "markdown",
   "metadata": {},
   "source": [
    "In the future, we can add hazard-dependent data on protection, asset vulnerability, and early warnings to this table. We can also add data on other types of hazard.\n",
    "\n",
    "For a given hazad, exposure depends on the return period. More poeple tend to be exposed to less frequent (more extreme) events. This information is given to the model in a third table."
   ]
  },
  {
   "cell_type": "code",
   "execution_count": 62,
   "metadata": {
    "collapsed": false
   },
   "outputs": [],
   "source": [
    "multihazard_info.columns.name=\"var\"\n",
    "expo_to_coastal_floods = multihazard_info.unstack(\"hazard\").swaplevel(\"hazard\",\"var\",axis=1)[\"coast\"]\n",
    "expo_to_coastal_floods.to_csv(\"inputs/exposure_to_coastal_foods.csv\")"
   ]
  },
  {
   "cell_type": "markdown",
   "metadata": {},
   "source": [
    "## Multi return period data"
   ]
  },
  {
   "cell_type": "code",
   "execution_count": 30,
   "metadata": {
    "collapsed": false
   },
   "outputs": [
    {
     "data": {
      "text/html": [
       "<div>\n",
       "<table border=\"1\" class=\"dataframe\">\n",
       "  <thead>\n",
       "    <tr style=\"text-align: right;\">\n",
       "      <th></th>\n",
       "      <th>rp</th>\n",
       "      <th>10.0</th>\n",
       "      <th>100.0</th>\n",
       "    </tr>\n",
       "    <tr>\n",
       "      <th>province</th>\n",
       "      <th>hazard</th>\n",
       "      <th></th>\n",
       "      <th></th>\n",
       "    </tr>\n",
       "  </thead>\n",
       "  <tbody>\n",
       "    <tr>\n",
       "      <th rowspan=\"2\" valign=\"top\">Abra</th>\n",
       "      <th>coast</th>\n",
       "      <td>1</td>\n",
       "      <td>1.000000</td>\n",
       "    </tr>\n",
       "    <tr>\n",
       "      <th>river</th>\n",
       "      <td>1</td>\n",
       "      <td>1.814138</td>\n",
       "    </tr>\n",
       "    <tr>\n",
       "      <th rowspan=\"2\" valign=\"top\">Agusan Del Norte</th>\n",
       "      <th>coast</th>\n",
       "      <td>1</td>\n",
       "      <td>1.000000</td>\n",
       "    </tr>\n",
       "    <tr>\n",
       "      <th>river</th>\n",
       "      <td>1</td>\n",
       "      <td>1.081761</td>\n",
       "    </tr>\n",
       "    <tr>\n",
       "      <th>Agusan Del Sur</th>\n",
       "      <th>coast</th>\n",
       "      <td>1</td>\n",
       "      <td>1.000000</td>\n",
       "    </tr>\n",
       "  </tbody>\n",
       "</table>\n",
       "</div>"
      ],
      "text/plain": [
       "rp                       10        100\n",
       "province         hazard               \n",
       "Abra             coast     1  1.000000\n",
       "                 river     1  1.814138\n",
       "Agusan Del Norte coast     1  1.000000\n",
       "                 river     1  1.081761\n",
       "Agusan Del Sur   coast     1  1.000000"
      ]
     },
     "execution_count": 30,
     "metadata": {},
     "output_type": "execute_result"
    }
   ],
   "source": [
    "fa_ratios  = pd.read_csv(\"inputs/fa_ratios.csv\", index_col=[\"province\",\"hazard\"]).sortlevel()\n",
    "fa_ratios.columns=fa_ratios.columns.map(float)\n",
    "fa_ratios.head()\n",
    "fa_ratios = fa_ratios\n",
    "fa_ratios.columns.name=\"rp\"\n",
    "fa_ratios.head()"
   ]
  },
  {
   "cell_type": "markdown",
   "metadata": {},
   "source": [
    "# Computing socio-economic capacity"
   ]
  },
  {
   "cell_type": "markdown",
   "metadata": {},
   "source": [
    "Now let us use the resilience model with multi hazard and multi return period data. Let us first read the function definitions, from [res_ind_lib.py](res_ind_lib.py)"
   ]
  },
  {
   "cell_type": "markdown",
   "metadata": {},
   "source": [
    "#### Loading functions"
   ]
  },
  {
   "cell_type": "code",
   "execution_count": 31,
   "metadata": {
    "ExecuteTime": {
     "end_time": "2016-03-01T17:17:55.778645",
     "start_time": "2016-03-01T17:17:55.540473"
    },
    "collapsed": false
   },
   "outputs": [],
   "source": [
    "from res_ind_lib import *     #MAIN library: the functions used to compute risk, resilience, etc"
   ]
  },
  {
   "cell_type": "markdown",
   "metadata": {},
   "source": [
    "#### Defining reference variabes"
   ]
  },
  {
   "cell_type": "markdown",
   "metadata": {},
   "source": [
    "Before running the model, for technical reasons, we need to define \"reference\" values for some variables. The following function does it."
   ]
  },
  {
   "cell_type": "code",
   "execution_count": 40,
   "metadata": {
    "ExecuteTime": {
     "end_time": "2016-03-01T17:17:55.818672",
     "start_time": "2016-03-01T17:17:55.782648"
    },
    "collapsed": false
   },
   "outputs": [],
   "source": [
    "df = def_ref_values(df).dropna()\n"
   ]
  },
  {
   "cell_type": "markdown",
   "metadata": {},
   "source": [
    "#### Comparing risk to assets, capacity, and risk to welfare"
   ]
  },
  {
   "cell_type": "markdown",
   "metadata": {},
   "source": [
    "The function compute_resiliences computes risk and capacity from all the data."
   ]
  },
  {
   "cell_type": "code",
   "execution_count": 41,
   "metadata": {
    "collapsed": false
   },
   "outputs": [
    {
     "name": "stdout",
     "output_type": "stream",
     "text": [
      "('fap', 'coast')\n",
      "('fap', 'river')\n",
      "('far', 'coast')\n",
      "('far', 'river')\n"
     ]
    }
   ],
   "source": [
    "for c in multihazard_info.unstack(\"hazard\").head():\n",
    "    print(c)"
   ]
  },
  {
   "cell_type": "code",
   "execution_count": 42,
   "metadata": {
    "collapsed": false
   },
   "outputs": [
    {
     "data": {
      "text/html": [
       "<div>\n",
       "<table border=\"1\" class=\"dataframe\">\n",
       "  <thead>\n",
       "    <tr style=\"text-align: right;\">\n",
       "      <th></th>\n",
       "      <th></th>\n",
       "      <th>fap</th>\n",
       "      <th>far</th>\n",
       "    </tr>\n",
       "    <tr>\n",
       "      <th>province</th>\n",
       "      <th>hazard</th>\n",
       "      <th></th>\n",
       "      <th></th>\n",
       "    </tr>\n",
       "  </thead>\n",
       "  <tbody>\n",
       "    <tr>\n",
       "      <th rowspan=\"2\" valign=\"top\">Abra</th>\n",
       "      <th>coast</th>\n",
       "      <td>10.000000</td>\n",
       "      <td>0.000000</td>\n",
       "    </tr>\n",
       "    <tr>\n",
       "      <th>river</th>\n",
       "      <td>0.188715</td>\n",
       "      <td>0.149419</td>\n",
       "    </tr>\n",
       "    <tr>\n",
       "      <th rowspan=\"2\" valign=\"top\">Agusan Del Norte</th>\n",
       "      <th>coast</th>\n",
       "      <td>10.114415</td>\n",
       "      <td>0.091571</td>\n",
       "    </tr>\n",
       "    <tr>\n",
       "      <th>river</th>\n",
       "      <td>0.365700</td>\n",
       "      <td>0.292684</td>\n",
       "    </tr>\n",
       "    <tr>\n",
       "      <th>Agusan Del Sur</th>\n",
       "      <th>coast</th>\n",
       "      <td>10.011681</td>\n",
       "      <td>0.008747</td>\n",
       "    </tr>\n",
       "  </tbody>\n",
       "</table>\n",
       "</div>"
      ],
      "text/plain": [
       "                               fap       far\n",
       "province         hazard                     \n",
       "Abra             coast   10.000000  0.000000\n",
       "                 river    0.188715  0.149419\n",
       "Agusan Del Norte coast   10.114415  0.091571\n",
       "                 river    0.365700  0.292684\n",
       "Agusan Del Sur   coast   10.011681  0.008747"
      ]
     },
     "execution_count": 42,
     "metadata": {},
     "output_type": "execute_result"
    }
   ],
   "source": [
    "hop=multihazard_info.unstack(\"hazard\")\n",
    "hop[\"fap\",\"coast\"]+=10\n",
    "hop.stack(\"hazard\").head()"
   ]
  },
  {
   "cell_type": "code",
   "execution_count": 43,
   "metadata": {
    "collapsed": false
   },
   "outputs": [
    {
     "data": {
      "text/html": [
       "<div>\n",
       "<table border=\"1\" class=\"dataframe\">\n",
       "  <thead>\n",
       "    <tr style=\"text-align: right;\">\n",
       "      <th></th>\n",
       "      <th></th>\n",
       "      <th>fap</th>\n",
       "      <th>far</th>\n",
       "    </tr>\n",
       "    <tr>\n",
       "      <th>province</th>\n",
       "      <th>hazard</th>\n",
       "      <th></th>\n",
       "      <th></th>\n",
       "    </tr>\n",
       "  </thead>\n",
       "  <tbody>\n",
       "    <tr>\n",
       "      <th rowspan=\"2\" valign=\"top\">Abra</th>\n",
       "      <th>coast</th>\n",
       "      <td>0.000000</td>\n",
       "      <td>0.000000</td>\n",
       "    </tr>\n",
       "    <tr>\n",
       "      <th>river</th>\n",
       "      <td>0.188715</td>\n",
       "      <td>0.149419</td>\n",
       "    </tr>\n",
       "    <tr>\n",
       "      <th rowspan=\"2\" valign=\"top\">Agusan Del Norte</th>\n",
       "      <th>coast</th>\n",
       "      <td>0.114415</td>\n",
       "      <td>0.091571</td>\n",
       "    </tr>\n",
       "    <tr>\n",
       "      <th>river</th>\n",
       "      <td>0.365700</td>\n",
       "      <td>0.292684</td>\n",
       "    </tr>\n",
       "    <tr>\n",
       "      <th>Agusan Del Sur</th>\n",
       "      <th>coast</th>\n",
       "      <td>0.011681</td>\n",
       "      <td>0.008747</td>\n",
       "    </tr>\n",
       "  </tbody>\n",
       "</table>\n",
       "</div>"
      ],
      "text/plain": [
       "                              fap       far\n",
       "province         hazard                    \n",
       "Abra             coast   0.000000  0.000000\n",
       "                 river   0.188715  0.149419\n",
       "Agusan Del Norte coast   0.114415  0.091571\n",
       "                 river   0.365700  0.292684\n",
       "Agusan Del Sur   coast   0.011681  0.008747"
      ]
     },
     "execution_count": 43,
     "metadata": {},
     "output_type": "execute_result"
    }
   ],
   "source": [
    "multihazard_info.head()"
   ]
  },
  {
   "cell_type": "code",
   "execution_count": 44,
   "metadata": {
    "ExecuteTime": {
     "end_time": "2016-03-01T17:17:56.074864",
     "start_time": "2016-03-01T17:17:55.921750"
    },
    "collapsed": false,
    "scrolled": true
   },
   "outputs": [],
   "source": [
    "df_with_results=compute_resiliences(df, fa_ratios=fa_ratios,  multihazard_data=multihazard_info)"
   ]
  },
  {
   "cell_type": "markdown",
   "metadata": {},
   "source": [
    "Outputs of that function are identical to the ones we get without multihazard or multi return period data. Let us see how estimates of risk to assets, socio-economic capacity and expected welfare losses change with multihazard and return periods data."
   ]
  },
  {
   "cell_type": "code",
   "execution_count": 45,
   "metadata": {
    "collapsed": false
   },
   "outputs": [],
   "source": [
    "out    = compute_resiliences(df)\n",
    "out_m  = compute_resiliences(df, multihazard_data=multihazard_info)\n",
    "out_mr = compute_resiliences(df, fa_ratios=fa_ratios,  multihazard_data=multihazard_info)"
   ]
  },
  {
   "cell_type": "code",
   "execution_count": 46,
   "metadata": {
    "collapsed": false
   },
   "outputs": [
    {
     "data": {
      "text/plain": [
       "(0.018654841697157455, 0.016027128595071452)"
      ]
     },
     "execution_count": 46,
     "metadata": {},
     "output_type": "execute_result"
    },
    {
     "data": {
      "image/png": "[encoded data removed]",
      "text/plain": [
       "<matplotlib.figure.Figure at 0x34266a0>"
      ]
     },
     "metadata": {},
     "output_type": "display_data"
    }
   ],
   "source": [
    "#addiging multihazard data slightly increases the estimates of risk. \n",
    "#This is because in this example the data in df is about river floads only, while multihazard_info has coastatal floods in addition.\n",
    "out.risk.plot.hist(alpha=0.3,color=\"blue\")\n",
    "out_m.risk.plot.hist(alpha=0.3, color=\"green\")\n",
    "\n",
    "out_m.risk.mean(), out.risk.mean()"
   ]
  },
  {
   "cell_type": "code",
   "execution_count": 47,
   "metadata": {
    "collapsed": false
   },
   "outputs": [
    {
     "data": {
      "text/plain": [
       "(0.018654841697157455, 0.019314316446934838)"
      ]
     },
     "execution_count": 47,
     "metadata": {},
     "output_type": "execute_result"
    },
    {
     "data": {
      "image/png": "[encoded data removed]",
      "text/plain": [
       "<matplotlib.figure.Figure at 0xa0139b0>"
      ]
     },
     "metadata": {},
     "output_type": "display_data"
    }
   ],
   "source": [
    "#it turns out that addiging multi return period data does not change risk to welfare as much\n",
    "out_m.risk.plot.hist(alpha=0.3, color=\"green\")\n",
    "out_mr.risk.plot.hist(alpha=0.3, color=\"red\")\n",
    "\n",
    "out_m.risk.mean(), out_mr.risk.mean()"
   ]
  },
  {
   "cell_type": "markdown",
   "metadata": {},
   "source": [
    "# Export main results"
   ]
  },
  {
   "cell_type": "markdown",
   "metadata": {},
   "source": [
    "Now we add a description to each column (from [inputs/inputs_info.csv](inputs/inputs_info.csv)) and save the resulting table"
   ]
  },
  {
   "cell_type": "code",
   "execution_count": 48,
   "metadata": {
    "ExecuteTime": {
     "end_time": "2016-03-01T17:17:56.722379",
     "start_time": "2016-03-01T17:17:56.574774"
    },
    "collapsed": false
   },
   "outputs": [
    {
     "data": {
      "text/html": [
       "<div>\n",
       "<table border=\"1\" class=\"dataframe\">\n",
       "  <thead>\n",
       "    <tr style=\"text-align: right;\">\n",
       "      <th></th>\n",
       "      <th>province</th>\n",
       "      <th>Abra</th>\n",
       "      <th>Agusan del Norte</th>\n",
       "      <th>Agusan del Sur</th>\n",
       "      <th>Aklan</th>\n",
       "      <th>Albay</th>\n",
       "    </tr>\n",
       "    <tr>\n",
       "      <th>description</th>\n",
       "      <th>variable</th>\n",
       "      <th></th>\n",
       "      <th></th>\n",
       "      <th></th>\n",
       "      <th></th>\n",
       "      <th></th>\n",
       "    </tr>\n",
       "  </thead>\n",
       "  <tbody>\n",
       "    <tr>\n",
       "      <th>Population</th>\n",
       "      <th>pop</th>\n",
       "      <td>51167</td>\n",
       "      <td>141357</td>\n",
       "      <td>141595</td>\n",
       "      <td>123269</td>\n",
       "      <td>267030</td>\n",
       "    </tr>\n",
       "    <tr>\n",
       "      <th>Average income of poor families</th>\n",
       "      <th>cp</th>\n",
       "      <td>92.829</td>\n",
       "      <td>82.3484</td>\n",
       "      <td>83.3041</td>\n",
       "      <td>79.4459</td>\n",
       "      <td>76.5822</td>\n",
       "    </tr>\n",
       "    <tr>\n",
       "      <th>Average income of non poor families</th>\n",
       "      <th>cr</th>\n",
       "      <td>203.891</td>\n",
       "      <td>234.816</td>\n",
       "      <td>216.088</td>\n",
       "      <td>211.62</td>\n",
       "      <td>224.009</td>\n",
       "    </tr>\n",
       "    <tr>\n",
       "      <th>Poverty incidence</th>\n",
       "      <th>pov_head</th>\n",
       "      <td>0.271937</td>\n",
       "      <td>0.276778</td>\n",
       "      <td>0.372958</td>\n",
       "      <td>0.204461</td>\n",
       "      <td>0.339106</td>\n",
       "    </tr>\n",
       "    <tr>\n",
       "      <th>Average income in the province</th>\n",
       "      <th>gdp_pc_pp</th>\n",
       "      <td>173.689</td>\n",
       "      <td>192.616</td>\n",
       "      <td>166.565</td>\n",
       "      <td>184.595</td>\n",
       "      <td>174.015</td>\n",
       "    </tr>\n",
       "    <tr>\n",
       "      <th>Access to early warning for poor people</th>\n",
       "      <th>shewp</th>\n",
       "      <td>0.0631627</td>\n",
       "      <td>0.2491</td>\n",
       "      <td>0.139189</td>\n",
       "      <td>0.128517</td>\n",
       "      <td>0.172775</td>\n",
       "    </tr>\n",
       "    <tr>\n",
       "      <th>Access to early warning for nonpoor people</th>\n",
       "      <th>shewr</th>\n",
       "      <td>0.173531</td>\n",
       "      <td>0.147336</td>\n",
       "      <td>0.126444</td>\n",
       "      <td>0.184183</td>\n",
       "      <td>0.201804</td>\n",
       "    </tr>\n",
       "    <tr>\n",
       "      <th>Social protection for poor people</th>\n",
       "      <th>social_p</th>\n",
       "      <td>0.173531</td>\n",
       "      <td>0.147336</td>\n",
       "      <td>0.126444</td>\n",
       "      <td>0.184183</td>\n",
       "      <td>0.201804</td>\n",
       "    </tr>\n",
       "    <tr>\n",
       "      <th>Social protection for non-poor people</th>\n",
       "      <th>social_r</th>\n",
       "      <td>0.203457</td>\n",
       "      <td>0.226521</td>\n",
       "      <td>0.113334</td>\n",
       "      <td>0.239542</td>\n",
       "      <td>0.213554</td>\n",
       "    </tr>\n",
       "    <tr>\n",
       "      <th>National GDP per capita</th>\n",
       "      <th>gdp_pc_pp_nat</th>\n",
       "      <td>236.39</td>\n",
       "      <td>236.39</td>\n",
       "      <td>236.39</td>\n",
       "      <td>236.39</td>\n",
       "      <td>236.39</td>\n",
       "    </tr>\n",
       "    <tr>\n",
       "      <th>Asset vulnerability (poor people)</th>\n",
       "      <th>v_p</th>\n",
       "      <td>0.178191</td>\n",
       "      <td>0.2185</td>\n",
       "      <td>0.225682</td>\n",
       "      <td>0.270019</td>\n",
       "      <td>0.238147</td>\n",
       "    </tr>\n",
       "    <tr>\n",
       "      <th>Asset vulnerability (non-poor people)</th>\n",
       "      <th>v_r</th>\n",
       "      <td>0.166167</td>\n",
       "      <td>0.185733</td>\n",
       "      <td>0.195585</td>\n",
       "      <td>0.237067</td>\n",
       "      <td>0.195392</td>\n",
       "    </tr>\n",
       "    <tr>\n",
       "      <th>Productivity of capital</th>\n",
       "      <th>avg_prod_k</th>\n",
       "      <td>0.23</td>\n",
       "      <td>0.23</td>\n",
       "      <td>0.23</td>\n",
       "      <td>0.23</td>\n",
       "      <td>0.23</td>\n",
       "    </tr>\n",
       "    <tr>\n",
       "      <th>Time to reconstruct</th>\n",
       "      <th>T_rebuild_K</th>\n",
       "      <td>3</td>\n",
       "      <td>3</td>\n",
       "      <td>3</td>\n",
       "      <td>3</td>\n",
       "      <td>3</td>\n",
       "    </tr>\n",
       "    <tr>\n",
       "      <th>Avoided losses with early warning</th>\n",
       "      <th>pi</th>\n",
       "      <td>0.2</td>\n",
       "      <td>0.2</td>\n",
       "      <td>0.2</td>\n",
       "      <td>0.2</td>\n",
       "      <td>0.2</td>\n",
       "    </tr>\n",
       "    <tr>\n",
       "      <th>Exposure, poor people</th>\n",
       "      <th>fap</th>\n",
       "      <td>0.05</td>\n",
       "      <td>0.05</td>\n",
       "      <td>0.05</td>\n",
       "      <td>0.05</td>\n",
       "      <td>0.05</td>\n",
       "    </tr>\n",
       "    <tr>\n",
       "      <th>Exposure, non-poor people</th>\n",
       "      <th>far</th>\n",
       "      <td>0.05</td>\n",
       "      <td>0.05</td>\n",
       "      <td>0.05</td>\n",
       "      <td>0.05</td>\n",
       "      <td>0.05</td>\n",
       "    </tr>\n",
       "    <tr>\n",
       "      <th>Hazard (protection)</th>\n",
       "      <th>protection</th>\n",
       "      <td>5</td>\n",
       "      <td>5</td>\n",
       "      <td>5</td>\n",
       "      <td>5</td>\n",
       "      <td>5</td>\n",
       "    </tr>\n",
       "    <tr>\n",
       "      <th>Effective scale up for non-poor people</th>\n",
       "      <th>sigma_r</th>\n",
       "      <td>0</td>\n",
       "      <td>0</td>\n",
       "      <td>0</td>\n",
       "      <td>0</td>\n",
       "      <td>0</td>\n",
       "    </tr>\n",
       "    <tr>\n",
       "      <th>Effective scale up for poor people</th>\n",
       "      <th>sigma_p</th>\n",
       "      <td>0</td>\n",
       "      <td>0</td>\n",
       "      <td>0</td>\n",
       "      <td>0</td>\n",
       "      <td>0</td>\n",
       "    </tr>\n",
       "    <tr>\n",
       "      <th>Elasticity of utility</th>\n",
       "      <th>income_elast</th>\n",
       "      <td>1.5</td>\n",
       "      <td>1.5</td>\n",
       "      <td>1.5</td>\n",
       "      <td>1.5</td>\n",
       "      <td>1.5</td>\n",
       "    </tr>\n",
       "    <tr>\n",
       "      <th>Discount rate</th>\n",
       "      <th>rho</th>\n",
       "      <td>0.15</td>\n",
       "      <td>0.15</td>\n",
       "      <td>0.15</td>\n",
       "      <td>0.15</td>\n",
       "      <td>0.15</td>\n",
       "    </tr>\n",
       "    <tr>\n",
       "      <th>Asset vulnerability (shared losses)</th>\n",
       "      <th>v_s</th>\n",
       "      <td>0.1604</td>\n",
       "      <td>0.18026</td>\n",
       "      <td>0.190639</td>\n",
       "      <td>0.228334</td>\n",
       "      <td>0.187506</td>\n",
       "    </tr>\n",
       "    <tr>\n",
       "      <th>NaN</th>\n",
       "      <th>protectionref</th>\n",
       "      <td>5</td>\n",
       "      <td>5</td>\n",
       "      <td>5</td>\n",
       "      <td>5</td>\n",
       "      <td>5</td>\n",
       "    </tr>\n",
       "    <tr>\n",
       "      <th>Average asset losses per person in the event of a disaster</th>\n",
       "      <th>dK</th>\n",
       "      <td>19.4585</td>\n",
       "      <td>NaN</td>\n",
       "      <td>NaN</td>\n",
       "      <td>20.0309</td>\n",
       "      <td>1.2827</td>\n",
       "    </tr>\n",
       "    <tr>\n",
       "      <th>Average welfare losses in the event of a disaster</th>\n",
       "      <th>delta_W</th>\n",
       "      <td>0.000630297</td>\n",
       "      <td>NaN</td>\n",
       "      <td>NaN</td>\n",
       "      <td>0.000612451</td>\n",
       "      <td>4.68648e-05</td>\n",
       "    </tr>\n",
       "    <tr>\n",
       "      <th>Average consumption losses for poor people in the event of a disaster</th>\n",
       "      <th>dcap</th>\n",
       "      <td>119.534</td>\n",
       "      <td>NaN</td>\n",
       "      <td>NaN</td>\n",
       "      <td>75.992</td>\n",
       "      <td>61.2404</td>\n",
       "    </tr>\n",
       "    <tr>\n",
       "      <th>Average consumption losses for nonpoor people in the event of a disaster</th>\n",
       "      <th>dcar</th>\n",
       "      <td>230.924</td>\n",
       "      <td>NaN</td>\n",
       "      <td>NaN</td>\n",
       "      <td>165.078</td>\n",
       "      <td>143.946</td>\n",
       "    </tr>\n",
       "    <tr>\n",
       "      <th>Average asset losses across persons in the event of a disaster</th>\n",
       "      <th>dKtot</th>\n",
       "      <td>199127</td>\n",
       "      <td>NaN</td>\n",
       "      <td>NaN</td>\n",
       "      <td>493839</td>\n",
       "      <td>68504</td>\n",
       "    </tr>\n",
       "    <tr>\n",
       "      <th>Expected welfare losses per capita due to natural disasters</th>\n",
       "      <th>dWpc_curency</th>\n",
       "      <td>7.88645</td>\n",
       "      <td>NaN</td>\n",
       "      <td>NaN</td>\n",
       "      <td>7.66317</td>\n",
       "      <td>0.586386</td>\n",
       "    </tr>\n",
       "    <tr>\n",
       "      <th>Total expected welfare losses due to natural disasters</th>\n",
       "      <th>dWtot_currency</th>\n",
       "      <td>403526</td>\n",
       "      <td>NaN</td>\n",
       "      <td>NaN</td>\n",
       "      <td>944631</td>\n",
       "      <td>156583</td>\n",
       "    </tr>\n",
       "    <tr>\n",
       "      <th>Expected welfare losses</th>\n",
       "      <th>risk</th>\n",
       "      <td>0.0454055</td>\n",
       "      <td>NaN</td>\n",
       "      <td>NaN</td>\n",
       "      <td>0.0415134</td>\n",
       "      <td>0.00336974</td>\n",
       "    </tr>\n",
       "    <tr>\n",
       "      <th>Socio-economic capacity</th>\n",
       "      <th>resilience</th>\n",
       "      <td>0.493466</td>\n",
       "      <td>NaN</td>\n",
       "      <td>NaN</td>\n",
       "      <td>0.522785</td>\n",
       "      <td>0.437494</td>\n",
       "    </tr>\n",
       "    <tr>\n",
       "      <th>Risk to assets</th>\n",
       "      <th>risk_to_assets</th>\n",
       "      <td>0.0224061</td>\n",
       "      <td>NaN</td>\n",
       "      <td>NaN</td>\n",
       "      <td>0.0217025</td>\n",
       "      <td>0.00147424</td>\n",
       "    </tr>\n",
       "  </tbody>\n",
       "</table>\n",
       "</div>"
      ],
      "text/plain": [
       "province                                                                  Abra  \\\n",
       "description                                        variable                      \n",
       "Population                                         pop                   51167   \n",
       " Average income of poor families                   cp                   92.829   \n",
       " Average income of non poor families               cr                  203.891   \n",
       "Poverty incidence                                  pov_head           0.271937   \n",
       " Average income in the province                    gdp_pc_pp           173.689   \n",
       "Access to early warning for poor people            shewp             0.0631627   \n",
       "Access to early warning for nonpoor people         shewr              0.173531   \n",
       "Social protection for poor people                  social_p           0.173531   \n",
       "Social protection for non-poor people              social_r           0.203457   \n",
       "National GDP per capita                            gdp_pc_pp_nat        236.39   \n",
       "Asset vulnerability (poor people)                  v_p                0.178191   \n",
       "Asset vulnerability (non-poor people)              v_r                0.166167   \n",
       "Productivity of capital                            avg_prod_k             0.23   \n",
       "Time to reconstruct                                T_rebuild_K               3   \n",
       "Avoided losses with early warning                  pi                      0.2   \n",
       "Exposure, poor people                              fap                    0.05   \n",
       "Exposure, non-poor people                          far                    0.05   \n",
       " Hazard (protection)                               protection                5   \n",
       "Effective scale up for non-poor people             sigma_r                   0   \n",
       "Effective scale up for poor people                 sigma_p                   0   \n",
       "Elasticity of utility                              income_elast            1.5   \n",
       "Discount rate                                      rho                    0.15   \n",
       "Asset vulnerability (shared losses)                v_s                  0.1604   \n",
       "NaN                                                protectionref             5   \n",
       "Average asset losses per person in the event of... dK                  19.4585   \n",
       "Average welfare losses in the event of a disaster  delta_W         0.000630297   \n",
       "Average consumption losses for poor people in t... dcap                119.534   \n",
       "Average consumption losses for nonpoor people i... dcar                230.924   \n",
       "Average asset losses across persons in the even... dKtot                199127   \n",
       "Expected welfare losses per capita due to natur... dWpc_curency        7.88645   \n",
       "Total expected welfare losses due to natural di... dWtot_currency       403526   \n",
       "Expected welfare losses                            risk              0.0454055   \n",
       "Socio-economic capacity                            resilience         0.493466   \n",
       "Risk to assets                                     risk_to_assets    0.0224061   \n",
       "\n",
       "province                                                          Agusan del Norte  \\\n",
       "description                                        variable                          \n",
       "Population                                         pop                      141357   \n",
       " Average income of poor families                   cp                      82.3484   \n",
       " Average income of non poor families               cr                      234.816   \n",
       "Poverty incidence                                  pov_head               0.276778   \n",
       " Average income in the province                    gdp_pc_pp               192.616   \n",
       "Access to early warning for poor people            shewp                    0.2491   \n",
       "Access to early warning for nonpoor people         shewr                  0.147336   \n",
       "Social protection for poor people                  social_p               0.147336   \n",
       "Social protection for non-poor people              social_r               0.226521   \n",
       "National GDP per capita                            gdp_pc_pp_nat            236.39   \n",
       "Asset vulnerability (poor people)                  v_p                      0.2185   \n",
       "Asset vulnerability (non-poor people)              v_r                    0.185733   \n",
       "Productivity of capital                            avg_prod_k                 0.23   \n",
       "Time to reconstruct                                T_rebuild_K                   3   \n",
       "Avoided losses with early warning                  pi                          0.2   \n",
       "Exposure, poor people                              fap                        0.05   \n",
       "Exposure, non-poor people                          far                        0.05   \n",
       " Hazard (protection)                               protection                    5   \n",
       "Effective scale up for non-poor people             sigma_r                       0   \n",
       "Effective scale up for poor people                 sigma_p                       0   \n",
       "Elasticity of utility                              income_elast                1.5   \n",
       "Discount rate                                      rho                        0.15   \n",
       "Asset vulnerability (shared losses)                v_s                     0.18026   \n",
       "NaN                                                protectionref                 5   \n",
       "Average asset losses per person in the event of... dK                          NaN   \n",
       "Average welfare losses in the event of a disaster  delta_W                     NaN   \n",
       "Average consumption losses for poor people in t... dcap                        NaN   \n",
       "Average consumption losses for nonpoor people i... dcar                        NaN   \n",
       "Average asset losses across persons in the even... dKtot                       NaN   \n",
       "Expected welfare losses per capita due to natur... dWpc_curency                NaN   \n",
       "Total expected welfare losses due to natural di... dWtot_currency              NaN   \n",
       "Expected welfare losses                            risk                        NaN   \n",
       "Socio-economic capacity                            resilience                  NaN   \n",
       "Risk to assets                                     risk_to_assets              NaN   \n",
       "\n",
       "province                                                          Agusan del Sur  \\\n",
       "description                                        variable                        \n",
       "Population                                         pop                    141595   \n",
       " Average income of poor families                   cp                    83.3041   \n",
       " Average income of non poor families               cr                    216.088   \n",
       "Poverty incidence                                  pov_head             0.372958   \n",
       " Average income in the province                    gdp_pc_pp             166.565   \n",
       "Access to early warning for poor people            shewp                0.139189   \n",
       "Access to early warning for nonpoor people         shewr                0.126444   \n",
       "Social protection for poor people                  social_p             0.126444   \n",
       "Social protection for non-poor people              social_r             0.113334   \n",
       "National GDP per capita                            gdp_pc_pp_nat          236.39   \n",
       "Asset vulnerability (poor people)                  v_p                  0.225682   \n",
       "Asset vulnerability (non-poor people)              v_r                  0.195585   \n",
       "Productivity of capital                            avg_prod_k               0.23   \n",
       "Time to reconstruct                                T_rebuild_K                 3   \n",
       "Avoided losses with early warning                  pi                        0.2   \n",
       "Exposure, poor people                              fap                      0.05   \n",
       "Exposure, non-poor people                          far                      0.05   \n",
       " Hazard (protection)                               protection                  5   \n",
       "Effective scale up for non-poor people             sigma_r                     0   \n",
       "Effective scale up for poor people                 sigma_p                     0   \n",
       "Elasticity of utility                              income_elast              1.5   \n",
       "Discount rate                                      rho                      0.15   \n",
       "Asset vulnerability (shared losses)                v_s                  0.190639   \n",
       "NaN                                                protectionref               5   \n",
       "Average asset losses per person in the event of... dK                        NaN   \n",
       "Average welfare losses in the event of a disaster  delta_W                   NaN   \n",
       "Average consumption losses for poor people in t... dcap                      NaN   \n",
       "Average consumption losses for nonpoor people i... dcar                      NaN   \n",
       "Average asset losses across persons in the even... dKtot                     NaN   \n",
       "Expected welfare losses per capita due to natur... dWpc_curency              NaN   \n",
       "Total expected welfare losses due to natural di... dWtot_currency            NaN   \n",
       "Expected welfare losses                            risk                      NaN   \n",
       "Socio-economic capacity                            resilience                NaN   \n",
       "Risk to assets                                     risk_to_assets            NaN   \n",
       "\n",
       "province                                                                 Aklan  \\\n",
       "description                                        variable                      \n",
       "Population                                         pop                  123269   \n",
       " Average income of poor families                   cp                  79.4459   \n",
       " Average income of non poor families               cr                   211.62   \n",
       "Poverty incidence                                  pov_head           0.204461   \n",
       " Average income in the province                    gdp_pc_pp           184.595   \n",
       "Access to early warning for poor people            shewp              0.128517   \n",
       "Access to early warning for nonpoor people         shewr              0.184183   \n",
       "Social protection for poor people                  social_p           0.184183   \n",
       "Social protection for non-poor people              social_r           0.239542   \n",
       "National GDP per capita                            gdp_pc_pp_nat        236.39   \n",
       "Asset vulnerability (poor people)                  v_p                0.270019   \n",
       "Asset vulnerability (non-poor people)              v_r                0.237067   \n",
       "Productivity of capital                            avg_prod_k             0.23   \n",
       "Time to reconstruct                                T_rebuild_K               3   \n",
       "Avoided losses with early warning                  pi                      0.2   \n",
       "Exposure, poor people                              fap                    0.05   \n",
       "Exposure, non-poor people                          far                    0.05   \n",
       " Hazard (protection)                               protection                5   \n",
       "Effective scale up for non-poor people             sigma_r                   0   \n",
       "Effective scale up for poor people                 sigma_p                   0   \n",
       "Elasticity of utility                              income_elast            1.5   \n",
       "Discount rate                                      rho                    0.15   \n",
       "Asset vulnerability (shared losses)                v_s                0.228334   \n",
       "NaN                                                protectionref             5   \n",
       "Average asset losses per person in the event of... dK                  20.0309   \n",
       "Average welfare losses in the event of a disaster  delta_W         0.000612451   \n",
       "Average consumption losses for poor people in t... dcap                 75.992   \n",
       "Average consumption losses for nonpoor people i... dcar                165.078   \n",
       "Average asset losses across persons in the even... dKtot                493839   \n",
       "Expected welfare losses per capita due to natur... dWpc_curency        7.66317   \n",
       "Total expected welfare losses due to natural di... dWtot_currency       944631   \n",
       "Expected welfare losses                            risk              0.0415134   \n",
       "Socio-economic capacity                            resilience         0.522785   \n",
       "Risk to assets                                     risk_to_assets    0.0217025   \n",
       "\n",
       "province                                                                 Albay  \n",
       "description                                        variable                     \n",
       "Population                                         pop                  267030  \n",
       " Average income of poor families                   cp                  76.5822  \n",
       " Average income of non poor families               cr                  224.009  \n",
       "Poverty incidence                                  pov_head           0.339106  \n",
       " Average income in the province                    gdp_pc_pp           174.015  \n",
       "Access to early warning for poor people            shewp              0.172775  \n",
       "Access to early warning for nonpoor people         shewr              0.201804  \n",
       "Social protection for poor people                  social_p           0.201804  \n",
       "Social protection for non-poor people              social_r           0.213554  \n",
       "National GDP per capita                            gdp_pc_pp_nat        236.39  \n",
       "Asset vulnerability (poor people)                  v_p                0.238147  \n",
       "Asset vulnerability (non-poor people)              v_r                0.195392  \n",
       "Productivity of capital                            avg_prod_k             0.23  \n",
       "Time to reconstruct                                T_rebuild_K               3  \n",
       "Avoided losses with early warning                  pi                      0.2  \n",
       "Exposure, poor people                              fap                    0.05  \n",
       "Exposure, non-poor people                          far                    0.05  \n",
       " Hazard (protection)                               protection                5  \n",
       "Effective scale up for non-poor people             sigma_r                   0  \n",
       "Effective scale up for poor people                 sigma_p                   0  \n",
       "Elasticity of utility                              income_elast            1.5  \n",
       "Discount rate                                      rho                    0.15  \n",
       "Asset vulnerability (shared losses)                v_s                0.187506  \n",
       "NaN                                                protectionref             5  \n",
       "Average asset losses per person in the event of... dK                   1.2827  \n",
       "Average welfare losses in the event of a disaster  delta_W         4.68648e-05  \n",
       "Average consumption losses for poor people in t... dcap                61.2404  \n",
       "Average consumption losses for nonpoor people i... dcar                143.946  \n",
       "Average asset losses across persons in the even... dKtot                 68504  \n",
       "Expected welfare losses per capita due to natur... dWpc_curency       0.586386  \n",
       "Total expected welfare losses due to natural di... dWtot_currency       156583  \n",
       "Expected welfare losses                            risk             0.00336974  \n",
       "Socio-economic capacity                            resilience         0.437494  \n",
       "Risk to assets                                     risk_to_assets   0.00147424  "
      ]
     },
     "execution_count": 48,
     "metadata": {},
     "output_type": "execute_result"
    }
   ],
   "source": [
    "#read descritpion of each variable\n",
    "description = pd.read_csv(\"inputs/inputs_info.csv\", index_col=\"key\")[\"descriptor\"]\n",
    "description.head()\n",
    "\n",
    "#copy of the results\n",
    "data = df_with_results.copy()\n",
    "\n",
    "#adds description line\n",
    "data.ix[\"description\"]= description\n",
    "\n",
    "#makes that line part of the index\n",
    "data=data.T.reset_index().set_index([\"description\",\"index\"]).T\n",
    "data.columns.names = ['description', 'variable']\n",
    "\n",
    "#exports the result to a CSV file\n",
    "data.to_csv(\"results/all_data_and_results.csv\")\n",
    "\n",
    "#displays the first few provinces, transposed for ease of reading.\n",
    "data.head().T"
   ]
  },
  {
   "cell_type": "markdown",
   "metadata": {},
   "source": [
    "# Categorizing provinces"
   ]
  },
  {
   "cell_type": "markdown",
   "metadata": {},
   "source": [
    "Here we categorize provinces in 3 tiers (Low, mid, high) according to their ranking on socio-econic capacity and on overall risk to welfare. We use the functions `make_tiers` and `categories_to_formated_excel_file` from [res_ind_lib.py](res_ind_lib.py)"
   ]
  },
  {
   "cell_type": "code",
   "execution_count": 49,
   "metadata": {
    "collapsed": true
   },
   "outputs": [],
   "source": [
    "from categorize import *"
   ]
  },
  {
   "cell_type": "code",
   "execution_count": 50,
   "metadata": {
    "ExecuteTime": {
     "end_time": "2016-03-01T17:17:56.858481",
     "start_time": "2016-03-01T17:17:56.728388"
    },
    "collapsed": false
   },
   "outputs": [
    {
     "data": {
      "text/html": [
       "<div>\n",
       "<table border=\"1\" class=\"dataframe\">\n",
       "  <thead>\n",
       "    <tr style=\"text-align: right;\">\n",
       "      <th></th>\n",
       "      <th>Risk to assets</th>\n",
       "      <th>Socio-economic capacity</th>\n",
       "      <th>Expected welfare losses</th>\n",
       "    </tr>\n",
       "  </thead>\n",
       "  <tbody>\n",
       "    <tr>\n",
       "      <th>Abra</th>\n",
       "      <td>High</td>\n",
       "      <td>Mid</td>\n",
       "      <td>High</td>\n",
       "    </tr>\n",
       "    <tr>\n",
       "      <th>Aklan</th>\n",
       "      <td>High</td>\n",
       "      <td>Mid</td>\n",
       "      <td>High</td>\n",
       "    </tr>\n",
       "    <tr>\n",
       "      <th>Albay</th>\n",
       "      <td>Low</td>\n",
       "      <td>Low</td>\n",
       "      <td>Low</td>\n",
       "    </tr>\n",
       "    <tr>\n",
       "      <th>Antique</th>\n",
       "      <td>Mid</td>\n",
       "      <td>Mid</td>\n",
       "      <td>High</td>\n",
       "    </tr>\n",
       "    <tr>\n",
       "      <th>Apayao</th>\n",
       "      <td>Low</td>\n",
       "      <td>Low</td>\n",
       "      <td>Low</td>\n",
       "    </tr>\n",
       "  </tbody>\n",
       "</table>\n",
       "</div>"
      ],
      "text/plain": [
       "        Risk to assets Socio-economic capacity Expected welfare losses\n",
       "Abra              High                     Mid                    High\n",
       "Aklan             High                     Mid                    High\n",
       "Albay              Low                     Low                     Low\n",
       "Antique            Mid                     Mid                    High\n",
       "Apayao             Low                     Low                     Low"
      ]
     },
     "execution_count": 50,
     "metadata": {},
     "output_type": "execute_result"
    }
   ],
   "source": [
    "categories = pd.DataFrame([make_tiers(df_with_results.risk_to_assets),\n",
    "                           make_tiers(df_with_results.resilience),\n",
    "                           make_tiers(df_with_results.risk), \n",
    "                           ]).T.dropna()\n",
    "categories_to_formated_excel_file(categories,\"results/categories.xlsx\")\n",
    "categories.rename(columns=description).head()"
   ]
  },
  {
   "cell_type": "code",
   "execution_count": null,
   "metadata": {
    "collapsed": true
   },
   "outputs": [],
   "source": []
  },
  {
   "cell_type": "code",
   "execution_count": null,
   "metadata": {
    "collapsed": true
   },
   "outputs": [],
   "source": []
  },
  {
   "cell_type": "code",
   "execution_count": null,
   "metadata": {
    "collapsed": true
   },
   "outputs": [],
   "source": []
  }
 ],
 "metadata": {
  "kernelspec": {
   "display_name": "Python 3",
   "language": "python",
   "name": "python3"
  },
  "language_info": {
   "codemirror_mode": {
    "name": "ipython",
    "version": 3
   },
   "file_extension": ".py",
   "mimetype": "text/x-python",
   "name": "python",
   "nbconvert_exporter": "python",
   "pygments_lexer": "ipython3",
   "version": "3.4.4"
  }
 },
 "nbformat": 4,
 "nbformat_minor": 0
}
