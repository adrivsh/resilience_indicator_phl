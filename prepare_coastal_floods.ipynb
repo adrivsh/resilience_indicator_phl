{
 "cells": [
  {
   "cell_type": "code",
   "execution_count": 1,
   "metadata": {
    "collapsed": true
   },
   "outputs": [],
   "source": [
    "import simpledbf"
   ]
  },
  {
   "cell_type": "code",
   "execution_count": 2,
   "metadata": {
    "collapsed": false
   },
   "outputs": [],
   "source": [
    "id_to_name =simpledbf.Dbf5(\"inputs/PHL_adm1.dbf\").to_dataframe().set_index(\"ID_1\")[\"NAME_1\"]"
   ]
  },
  {
   "cell_type": "code",
   "execution_count": 3,
   "metadata": {
    "collapsed": false
   },
   "outputs": [
    {
     "data": {
      "text/plain": [
       "ID_1\n",
       "1                Abra\n",
       "2    Agusan del Norte\n",
       "3      Agusan del Sur\n",
       "4               Aklan\n",
       "5               Albay\n",
       "Name: NAME_1, dtype: object"
      ]
     },
     "execution_count": 3,
     "metadata": {},
     "output_type": "execute_result"
    }
   ],
   "source": [
    "id_to_name.head()"
   ]
  },
  {
   "cell_type": "code",
   "execution_count": 4,
   "metadata": {
    "collapsed": true
   },
   "outputs": [],
   "source": [
    "import pandas as pd"
   ]
  },
  {
   "cell_type": "code",
   "execution_count": 11,
   "metadata": {
    "collapsed": false
   },
   "outputs": [],
   "source": [
    "coastflood_data = pd.read_csv(\"inputs/phl_pop_flooded_0301.csv\")\n",
    "coastflood_data = coastflood_data.set_index(coastflood_data.id_1.replace(id_to_name))\n",
    "coastflood_data = coastflood_data.rename(columns=dict(pop_sum_adm=\"pop_landscan\", pop_flooded_adm=\"pop_flooded\", per_pop_flooded=\"fa_coast\"))\n",
    "coastflood_data.drop(\"id_1\",axis=1).to_csv(\"inputs/exposure_to_coastal_foods.csv\")"
   ]
  },
  {
   "cell_type": "code",
   "execution_count": null,
   "metadata": {
    "collapsed": true
   },
   "outputs": [],
   "source": []
  }
 ],
 "metadata": {
  "kernelspec": {
   "display_name": "Python 3",
   "language": "python",
   "name": "python3"
  },
  "language_info": {
   "codemirror_mode": {
    "name": "ipython",
    "version": 3
   },
   "file_extension": ".py",
   "mimetype": "text/x-python",
   "name": "python",
   "nbconvert_exporter": "python",
   "pygments_lexer": "ipython3",
   "version": "3.4.4"
  }
 },
 "nbformat": 4,
 "nbformat_minor": 0
}
