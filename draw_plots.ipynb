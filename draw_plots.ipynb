{
 "cells": [
  {
   "cell_type": "code",
   "execution_count": 1,
   "metadata": {
    "ExecuteTime": {
     "end_time": "2016-02-29T19:21:05.076569",
     "start_time": "2016-02-29T19:21:04.082457"
    },
    "collapsed": true
   },
   "outputs": [],
   "source": [
    "#The main library we use. Manipulates Excel-like tables (called dataframes) with named rows and columns\n",
    "import pandas as pd \n",
    "import numpy as np"
   ]
  },
  {
   "cell_type": "code",
   "execution_count": 3,
   "metadata": {
    "collapsed": true
   },
   "outputs": [],
   "source": [
    "#ploting capacities\n",
    "import matplotlib.pyplot as plt \n",
    "#make plots appear in this notebook\n",
    "%matplotlib inline  \n",
    "\n",
    "#Default options for plots: this controls the font used in figures\n",
    "font = {'family' : 'sans serif',\n",
    "    'size'   : 18}\n",
    "plt.rc('font', **font)\n",
    "\n",
    "from res_ind_lib import *     #MAIN library: the functions used to compute risk, resilience, etc"
   ]
  },
  {
   "cell_type": "markdown",
   "metadata": {
    "ExecuteTime": {
     "end_time": "2016-02-29T18:04:54.937989",
     "start_time": "2016-02-29T18:04:54.935989"
    }
   },
   "source": [
    "## Get the Data"
   ]
  },
  {
   "cell_type": "code",
   "execution_count": 6,
   "metadata": {
    "ExecuteTime": {
     "end_time": "2016-02-29T19:21:05.301229",
     "start_time": "2016-02-29T19:21:05.079777"
    },
    "collapsed": false
   },
   "outputs": [
    {
     "data": {
      "text/html": [
       "<div>\n",
       "<table border=\"1\" class=\"dataframe\">\n",
       "  <thead>\n",
       "    <tr style=\"text-align: right;\">\n",
       "      <th></th>\n",
       "      <th>pop</th>\n",
       "      <th>cp</th>\n",
       "      <th>cr</th>\n",
       "      <th>pov_head</th>\n",
       "      <th>gdp_pc_pp</th>\n",
       "      <th>shewp</th>\n",
       "      <th>shewr</th>\n",
       "      <th>social_p</th>\n",
       "      <th>social_r</th>\n",
       "      <th>gdp_pc_pp_nat</th>\n",
       "      <th>...</th>\n",
       "      <th>dK</th>\n",
       "      <th>delta_W</th>\n",
       "      <th>dcap</th>\n",
       "      <th>dcar</th>\n",
       "      <th>dKtot</th>\n",
       "      <th>dWpc_curency</th>\n",
       "      <th>dWtot_currency</th>\n",
       "      <th>risk</th>\n",
       "      <th>resilience</th>\n",
       "      <th>risk_to_assets</th>\n",
       "    </tr>\n",
       "    <tr>\n",
       "      <th>variable</th>\n",
       "      <th></th>\n",
       "      <th></th>\n",
       "      <th></th>\n",
       "      <th></th>\n",
       "      <th></th>\n",
       "      <th></th>\n",
       "      <th></th>\n",
       "      <th></th>\n",
       "      <th></th>\n",
       "      <th></th>\n",
       "      <th></th>\n",
       "      <th></th>\n",
       "      <th></th>\n",
       "      <th></th>\n",
       "      <th></th>\n",
       "      <th></th>\n",
       "      <th></th>\n",
       "      <th></th>\n",
       "      <th></th>\n",
       "      <th></th>\n",
       "      <th></th>\n",
       "    </tr>\n",
       "  </thead>\n",
       "  <tbody>\n",
       "    <tr>\n",
       "      <th>Abra</th>\n",
       "      <td>51167</td>\n",
       "      <td>92.828972</td>\n",
       "      <td>203.891421</td>\n",
       "      <td>0.271936</td>\n",
       "      <td>173.689487</td>\n",
       "      <td>0.063163</td>\n",
       "      <td>0.173531</td>\n",
       "      <td>0.173531</td>\n",
       "      <td>0.203457</td>\n",
       "      <td>234.602577</td>\n",
       "      <td>...</td>\n",
       "      <td>22.551005</td>\n",
       "      <td>0.000731</td>\n",
       "      <td>119.876795</td>\n",
       "      <td>231.623811</td>\n",
       "      <td>109164.360292</td>\n",
       "      <td>4.278381</td>\n",
       "      <td>218911.931458</td>\n",
       "      <td>0.024632</td>\n",
       "      <td>0.498668</td>\n",
       "      <td>0.012283</td>\n",
       "    </tr>\n",
       "    <tr>\n",
       "      <th>Agusan del Norte</th>\n",
       "      <td>141357</td>\n",
       "      <td>82.348426</td>\n",
       "      <td>234.816324</td>\n",
       "      <td>0.276778</td>\n",
       "      <td>192.616487</td>\n",
       "      <td>0.249100</td>\n",
       "      <td>0.147336</td>\n",
       "      <td>0.147336</td>\n",
       "      <td>0.226521</td>\n",
       "      <td>234.602577</td>\n",
       "      <td>...</td>\n",
       "      <td>NaN</td>\n",
       "      <td>NaN</td>\n",
       "      <td>NaN</td>\n",
       "      <td>NaN</td>\n",
       "      <td>NaN</td>\n",
       "      <td>NaN</td>\n",
       "      <td>NaN</td>\n",
       "      <td>NaN</td>\n",
       "      <td>NaN</td>\n",
       "      <td>NaN</td>\n",
       "    </tr>\n",
       "    <tr>\n",
       "      <th>Agusan del Sur</th>\n",
       "      <td>141595</td>\n",
       "      <td>83.304081</td>\n",
       "      <td>216.087522</td>\n",
       "      <td>0.372958</td>\n",
       "      <td>166.564929</td>\n",
       "      <td>0.139189</td>\n",
       "      <td>0.126444</td>\n",
       "      <td>0.126444</td>\n",
       "      <td>0.113334</td>\n",
       "      <td>234.602577</td>\n",
       "      <td>...</td>\n",
       "      <td>NaN</td>\n",
       "      <td>NaN</td>\n",
       "      <td>NaN</td>\n",
       "      <td>NaN</td>\n",
       "      <td>NaN</td>\n",
       "      <td>NaN</td>\n",
       "      <td>NaN</td>\n",
       "      <td>NaN</td>\n",
       "      <td>NaN</td>\n",
       "      <td>NaN</td>\n",
       "    </tr>\n",
       "    <tr>\n",
       "      <th>Aklan</th>\n",
       "      <td>123269</td>\n",
       "      <td>79.445859</td>\n",
       "      <td>211.619510</td>\n",
       "      <td>0.204461</td>\n",
       "      <td>184.595206</td>\n",
       "      <td>0.128517</td>\n",
       "      <td>0.184183</td>\n",
       "      <td>0.184183</td>\n",
       "      <td>0.239542</td>\n",
       "      <td>234.602577</td>\n",
       "      <td>...</td>\n",
       "      <td>20.030933</td>\n",
       "      <td>0.000612</td>\n",
       "      <td>75.992018</td>\n",
       "      <td>165.078167</td>\n",
       "      <td>2469193.051555</td>\n",
       "      <td>37.882087</td>\n",
       "      <td>4669686.938954</td>\n",
       "      <td>0.205217</td>\n",
       "      <td>0.528771</td>\n",
       "      <td>0.108513</td>\n",
       "    </tr>\n",
       "    <tr>\n",
       "      <th>Albay</th>\n",
       "      <td>267030</td>\n",
       "      <td>76.582210</td>\n",
       "      <td>224.008585</td>\n",
       "      <td>0.339106</td>\n",
       "      <td>174.015387</td>\n",
       "      <td>0.172775</td>\n",
       "      <td>0.201804</td>\n",
       "      <td>0.201804</td>\n",
       "      <td>0.213554</td>\n",
       "      <td>234.602577</td>\n",
       "      <td>...</td>\n",
       "      <td>1.282702</td>\n",
       "      <td>0.000047</td>\n",
       "      <td>61.240437</td>\n",
       "      <td>143.946460</td>\n",
       "      <td>342519.944089</td>\n",
       "      <td>2.898739</td>\n",
       "      <td>774050.339427</td>\n",
       "      <td>0.016658</td>\n",
       "      <td>0.442503</td>\n",
       "      <td>0.007371</td>\n",
       "    </tr>\n",
       "  </tbody>\n",
       "</table>\n",
       "<p>5 rows × 34 columns</p>\n",
       "</div>"
      ],
      "text/plain": [
       "                     pop         cp          cr  pov_head   gdp_pc_pp  \\\n",
       "variable                                                                \n",
       "Abra               51167  92.828972  203.891421  0.271936  173.689487   \n",
       "Agusan del Norte  141357  82.348426  234.816324  0.276778  192.616487   \n",
       "Agusan del Sur    141595  83.304081  216.087522  0.372958  166.564929   \n",
       "Aklan             123269  79.445859  211.619510  0.204461  184.595206   \n",
       "Albay             267030  76.582210  224.008585  0.339106  174.015387   \n",
       "\n",
       "                     shewp     shewr  social_p  social_r  gdp_pc_pp_nat  \\\n",
       "variable                                                                  \n",
       "Abra              0.063163  0.173531  0.173531  0.203457     234.602577   \n",
       "Agusan del Norte  0.249100  0.147336  0.147336  0.226521     234.602577   \n",
       "Agusan del Sur    0.139189  0.126444  0.126444  0.113334     234.602577   \n",
       "Aklan             0.128517  0.184183  0.184183  0.239542     234.602577   \n",
       "Albay             0.172775  0.201804  0.201804  0.213554     234.602577   \n",
       "\n",
       "                       ...               dK   delta_W        dcap        dcar  \\\n",
       "variable               ...                                                      \n",
       "Abra                   ...        22.551005  0.000731  119.876795  231.623811   \n",
       "Agusan del Norte       ...              NaN       NaN         NaN         NaN   \n",
       "Agusan del Sur         ...              NaN       NaN         NaN         NaN   \n",
       "Aklan                  ...        20.030933  0.000612   75.992018  165.078167   \n",
       "Albay                  ...         1.282702  0.000047   61.240437  143.946460   \n",
       "\n",
       "                           dKtot  dWpc_curency  dWtot_currency      risk  \\\n",
       "variable                                                                   \n",
       "Abra               109164.360292      4.278381   218911.931458  0.024632   \n",
       "Agusan del Norte             NaN           NaN             NaN       NaN   \n",
       "Agusan del Sur               NaN           NaN             NaN       NaN   \n",
       "Aklan             2469193.051555     37.882087  4669686.938954  0.205217   \n",
       "Albay              342519.944089      2.898739   774050.339427  0.016658   \n",
       "\n",
       "                  resilience  risk_to_assets  \n",
       "variable                                      \n",
       "Abra                0.498668        0.012283  \n",
       "Agusan del Norte         NaN             NaN  \n",
       "Agusan del Sur           NaN             NaN  \n",
       "Aklan               0.528771        0.108513  \n",
       "Albay               0.442503        0.007371  \n",
       "\n",
       "[5 rows x 34 columns]"
      ]
     },
     "execution_count": 6,
     "metadata": {},
     "output_type": "execute_result"
    }
   ],
   "source": [
    "df = pd.read_csv(\"results/all_data_and_results.csv\", index_col=0, skiprows=[0,2])\n",
    "df.head()"
   ]
  },
  {
   "cell_type": "markdown",
   "metadata": {
    "ExecuteTime": {
     "end_time": "2016-02-29T18:05:05.445021",
     "start_time": "2016-02-29T18:05:05.443023"
    }
   },
   "source": [
    "## Map the data"
   ]
  },
  {
   "cell_type": "code",
   "execution_count": 8,
   "metadata": {
    "collapsed": false
   },
   "outputs": [
    {
     "data": {
      "image/png": "[encoded data removed]",
      "text/plain": [
       "<matplotlib.figure.Figure at 0xa60550>"
      ]
     },
     "metadata": {},
     "output_type": "display_data"
    }
   ],
   "source": [
    "df.plot.scatter(x=\"gdp_pc_pp\", y=\"pov_head\", s=df[\"pop\"]/5e3, alpha=0.5, figsize=(7,7))\n",
    "plt.xlabel(\"Average income\")\n",
    "plt.ylabel(\"Poverty incidence\")\n",
    "plt.ylim(0);\n",
    "\n",
    "plt.savefig(\"img/poverty_vs_income.png\")"
   ]
  },
  {
   "cell_type": "code",
   "execution_count": null,
   "metadata": {
    "collapsed": true
   },
   "outputs": [],
   "source": []
  }
 ],
 "metadata": {
  "kernelspec": {
   "display_name": "Python 3",
   "language": "python",
   "name": "python3"
  },
  "language_info": {
   "codemirror_mode": {
    "name": "ipython",
    "version": 3
   },
   "file_extension": ".py",
   "mimetype": "text/x-python",
   "name": "python",
   "nbconvert_exporter": "python",
   "pygments_lexer": "ipython3",
   "version": "3.4.4"
  },
  "notify_time": "5"
 },
 "nbformat": 4,
 "nbformat_minor": 0
}
