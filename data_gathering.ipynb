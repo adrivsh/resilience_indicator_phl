{
 "cells": [
  {
   "cell_type": "markdown",
   "metadata": {},
   "source": [
    "# Options"
   ]
  },
  {
   "cell_type": "code",
   "execution_count": null,
   "metadata": {
    "collapsed": true,
    "run_control": {
     "frozen": false,
     "read_only": false
    }
   },
   "outputs": [],
   "source": []
  },
  {
   "cell_type": "markdown",
   "metadata": {},
   "source": [
    "# Loading functions"
   ]
  },
  {
   "cell_type": "markdown",
   "metadata": {},
   "source": [
    "First we import the [pandas](http://pandas.pydata.org/) function librairy. Pandas is a standard python librairy that alows us to manipulate Excel-like tables (called DataFrames) with named rows and columns."
   ]
  },
  {
   "cell_type": "code",
   "execution_count": 1,
   "metadata": {
    "ExecuteTime": {
     "end_time": "2016-03-01T17:08:39.676232",
     "start_time": "2016-03-01T17:08:38.764811"
    },
    "collapsed": true,
    "run_control": {
     "frozen": false,
     "read_only": false
    }
   },
   "outputs": [],
   "source": [
    "import pandas as pd\n",
    "import numpy as np"
   ]
  },
  {
   "cell_type": "markdown",
   "metadata": {},
   "source": [
    "# Loading socio-economic data"
   ]
  },
  {
   "cell_type": "code",
   "execution_count": 2,
   "metadata": {
    "collapsed": false,
    "run_control": {
     "frozen": false,
     "read_only": false
    }
   },
   "outputs": [
    {
     "data": {
      "text/html": [
       "<div>\n",
       "<table border=\"1\" class=\"dataframe\">\n",
       "  <thead>\n",
       "    <tr style=\"text-align: right;\">\n",
       "      <th></th>\n",
       "      <th>region</th>\n",
       "      <th>regid</th>\n",
       "      <th>pcinc_ppp2010</th>\n",
       "      <th>povline2010</th>\n",
       "      <th>poor2010</th>\n",
       "      <th>transfers2010</th>\n",
       "      <th>sp_scheme2010</th>\n",
       "      <th>sp_remit2010</th>\n",
       "      <th>info_radio2010</th>\n",
       "      <th>info_cell2010</th>\n",
       "      <th>...</th>\n",
       "      <th>hs_roof52014</th>\n",
       "      <th>pop_landscan</th>\n",
       "      <th>rp025_tot_pro_pop_flo</th>\n",
       "      <th>rp050_tot_pro_pop_flo</th>\n",
       "      <th>rp100_tot_pro_pop_flo</th>\n",
       "      <th>rp200_tot_pro_pop_flo</th>\n",
       "      <th>rp025_per_pro_pop_flo</th>\n",
       "      <th>rp050_per_pro_pop_flo</th>\n",
       "      <th>rp100_per_pro_pop_flo</th>\n",
       "      <th>rp200_per_pro_pop_flo</th>\n",
       "    </tr>\n",
       "    <tr>\n",
       "      <th>province</th>\n",
       "      <th></th>\n",
       "      <th></th>\n",
       "      <th></th>\n",
       "      <th></th>\n",
       "      <th></th>\n",
       "      <th></th>\n",
       "      <th></th>\n",
       "      <th></th>\n",
       "      <th></th>\n",
       "      <th></th>\n",
       "      <th></th>\n",
       "      <th></th>\n",
       "      <th></th>\n",
       "      <th></th>\n",
       "      <th></th>\n",
       "      <th></th>\n",
       "      <th></th>\n",
       "      <th></th>\n",
       "      <th></th>\n",
       "      <th></th>\n",
       "      <th></th>\n",
       "    </tr>\n",
       "  </thead>\n",
       "  <tbody>\n",
       "    <tr>\n",
       "      <th>1</th>\n",
       "      <td>Red River</td>\n",
       "      <td>3</td>\n",
       "      <td>4666.479492</td>\n",
       "      <td>1273.849976</td>\n",
       "      <td>0.030952</td>\n",
       "      <td>0.128292</td>\n",
       "      <td>0.097619</td>\n",
       "      <td>0.019048</td>\n",
       "      <td>0.033333</td>\n",
       "      <td>0.771429</td>\n",
       "      <td>...</td>\n",
       "      <td>0.000000</td>\n",
       "      <td>6698811</td>\n",
       "      <td>2705193.500000</td>\n",
       "      <td>2982285.500000</td>\n",
       "      <td>3275391.750000</td>\n",
       "      <td>3419891.750000</td>\n",
       "      <td>0.403832</td>\n",
       "      <td>0.445196</td>\n",
       "      <td>0.488951</td>\n",
       "      <td>0.510522</td>\n",
       "    </tr>\n",
       "    <tr>\n",
       "      <th>2</th>\n",
       "      <td>North East</td>\n",
       "      <td>1</td>\n",
       "      <td>1543.773193</td>\n",
       "      <td>1273.849976</td>\n",
       "      <td>0.723810</td>\n",
       "      <td>0.073584</td>\n",
       "      <td>0.771429</td>\n",
       "      <td>0.000000</td>\n",
       "      <td>0.009524</td>\n",
       "      <td>0.371429</td>\n",
       "      <td>...</td>\n",
       "      <td>0.000000</td>\n",
       "      <td>774681</td>\n",
       "      <td>93114.375000</td>\n",
       "      <td>125662.929688</td>\n",
       "      <td>141728.218750</td>\n",
       "      <td>152027.937500</td>\n",
       "      <td>0.120197</td>\n",
       "      <td>0.162212</td>\n",
       "      <td>0.182950</td>\n",
       "      <td>0.196246</td>\n",
       "    </tr>\n",
       "    <tr>\n",
       "      <th>4</th>\n",
       "      <td>North East</td>\n",
       "      <td>1</td>\n",
       "      <td>1984.919556</td>\n",
       "      <td>1273.849976</td>\n",
       "      <td>0.509804</td>\n",
       "      <td>0.115198</td>\n",
       "      <td>0.588235</td>\n",
       "      <td>0.029412</td>\n",
       "      <td>0.009804</td>\n",
       "      <td>0.607843</td>\n",
       "      <td>...</td>\n",
       "      <td>0.000000</td>\n",
       "      <td>540048</td>\n",
       "      <td>83279.125000</td>\n",
       "      <td>108317.593750</td>\n",
       "      <td>117728.171875</td>\n",
       "      <td>124823.031250</td>\n",
       "      <td>0.154207</td>\n",
       "      <td>0.200570</td>\n",
       "      <td>0.217996</td>\n",
       "      <td>0.231133</td>\n",
       "    </tr>\n",
       "    <tr>\n",
       "      <th>6</th>\n",
       "      <td>North East</td>\n",
       "      <td>1</td>\n",
       "      <td>1892.141357</td>\n",
       "      <td>1273.849976</td>\n",
       "      <td>0.352941</td>\n",
       "      <td>0.132159</td>\n",
       "      <td>0.647059</td>\n",
       "      <td>0.019608</td>\n",
       "      <td>0.019608</td>\n",
       "      <td>0.656863</td>\n",
       "      <td>...</td>\n",
       "      <td>0.000000</td>\n",
       "      <td>311681</td>\n",
       "      <td>37537.519531</td>\n",
       "      <td>55359.738281</td>\n",
       "      <td>61938.093750</td>\n",
       "      <td>66296.101562</td>\n",
       "      <td>0.120436</td>\n",
       "      <td>0.177617</td>\n",
       "      <td>0.198723</td>\n",
       "      <td>0.212705</td>\n",
       "    </tr>\n",
       "    <tr>\n",
       "      <th>8</th>\n",
       "      <td>North East</td>\n",
       "      <td>1</td>\n",
       "      <td>1950.835205</td>\n",
       "      <td>1273.849976</td>\n",
       "      <td>0.289474</td>\n",
       "      <td>0.093207</td>\n",
       "      <td>0.482456</td>\n",
       "      <td>0.026316</td>\n",
       "      <td>0.026316</td>\n",
       "      <td>0.719298</td>\n",
       "      <td>...</td>\n",
       "      <td>0.009091</td>\n",
       "      <td>772231</td>\n",
       "      <td>133871.453125</td>\n",
       "      <td>180885.281250</td>\n",
       "      <td>208887.250000</td>\n",
       "      <td>223297.312500</td>\n",
       "      <td>0.173357</td>\n",
       "      <td>0.234237</td>\n",
       "      <td>0.270498</td>\n",
       "      <td>0.289159</td>\n",
       "    </tr>\n",
       "  </tbody>\n",
       "</table>\n",
       "<p>5 rows × 86 columns</p>\n",
       "</div>"
      ],
      "text/plain": [
       "              region  regid  pcinc_ppp2010  povline2010  poor2010  \\\n",
       "province                                                            \n",
       "1          Red River      3    4666.479492  1273.849976  0.030952   \n",
       "2         North East      1    1543.773193  1273.849976  0.723810   \n",
       "4         North East      1    1984.919556  1273.849976  0.509804   \n",
       "6         North East      1    1892.141357  1273.849976  0.352941   \n",
       "8         North East      1    1950.835205  1273.849976  0.289474   \n",
       "\n",
       "          transfers2010  sp_scheme2010  sp_remit2010  info_radio2010  \\\n",
       "province                                                               \n",
       "1              0.128292       0.097619      0.019048        0.033333   \n",
       "2              0.073584       0.771429      0.000000        0.009524   \n",
       "4              0.115198       0.588235      0.029412        0.009804   \n",
       "6              0.132159       0.647059      0.019608        0.019608   \n",
       "8              0.093207       0.482456      0.026316        0.026316   \n",
       "\n",
       "          info_cell2010          ...            hs_roof52014  pop_landscan  \\\n",
       "province                         ...                                         \n",
       "1              0.771429          ...                0.000000       6698811   \n",
       "2              0.371429          ...                0.000000        774681   \n",
       "4              0.607843          ...                0.000000        540048   \n",
       "6              0.656863          ...                0.000000        311681   \n",
       "8              0.719298          ...                0.009091        772231   \n",
       "\n",
       "          rp025_tot_pro_pop_flo  rp050_tot_pro_pop_flo  rp100_tot_pro_pop_flo  \\\n",
       "province                                                                        \n",
       "1                2705193.500000         2982285.500000         3275391.750000   \n",
       "2                  93114.375000          125662.929688          141728.218750   \n",
       "4                  83279.125000          108317.593750          117728.171875   \n",
       "6                  37537.519531           55359.738281           61938.093750   \n",
       "8                 133871.453125          180885.281250          208887.250000   \n",
       "\n",
       "          rp200_tot_pro_pop_flo  rp025_per_pro_pop_flo  rp050_per_pro_pop_flo  \\\n",
       "province                                                                        \n",
       "1                3419891.750000               0.403832               0.445196   \n",
       "2                 152027.937500               0.120197               0.162212   \n",
       "4                 124823.031250               0.154207               0.200570   \n",
       "6                  66296.101562               0.120436               0.177617   \n",
       "8                 223297.312500               0.173357               0.234237   \n",
       "\n",
       "          rp100_per_pro_pop_flo  rp200_per_pro_pop_flo  \n",
       "province                                                \n",
       "1                      0.488951               0.510522  \n",
       "2                      0.182950               0.196246  \n",
       "4                      0.217996               0.231133  \n",
       "6                      0.198723               0.212705  \n",
       "8                      0.270498               0.289159  \n",
       "\n",
       "[5 rows x 86 columns]"
      ]
     },
     "execution_count": 2,
     "metadata": {},
     "output_type": "execute_result"
    }
   ],
   "source": [
    "raw_data = pd.read_excel(\"inputs/VN_NationaRiskTool_Data_160621.xlsx\", index_col=\"province\")\n",
    "raw_data.head()"
   ]
  },
  {
   "cell_type": "markdown",
   "metadata": {},
   "source": [
    "### provinces code to prov name"
   ]
  },
  {
   "cell_type": "code",
   "execution_count": 3,
   "metadata": {
    "collapsed": false,
    "run_control": {
     "frozen": false,
     "read_only": false
    }
   },
   "outputs": [],
   "source": [
    "province_matching=pd.read_csv(\"inputs/province_region.csv\", index_col=\"province_id\")\n",
    "\n",
    "raw_data =  raw_data.rename(index=province_matching.province_name)"
   ]
  },
  {
   "cell_type": "code",
   "execution_count": 4,
   "metadata": {
    "collapsed": false,
    "run_control": {
     "frozen": false,
     "read_only": false
    }
   },
   "outputs": [
    {
     "data": {
      "text/html": [
       "<div>\n",
       "<table border=\"1\" class=\"dataframe\">\n",
       "  <thead>\n",
       "    <tr style=\"text-align: right;\">\n",
       "      <th></th>\n",
       "      <th>region</th>\n",
       "      <th>regid</th>\n",
       "      <th>pcinc_ppp2010</th>\n",
       "      <th>povline2010</th>\n",
       "      <th>poor2010</th>\n",
       "      <th>transfers2010</th>\n",
       "      <th>sp_scheme2010</th>\n",
       "      <th>sp_remit2010</th>\n",
       "      <th>info_radio2010</th>\n",
       "      <th>info_cell2010</th>\n",
       "      <th>...</th>\n",
       "      <th>hs_roof52014</th>\n",
       "      <th>pop_landscan</th>\n",
       "      <th>rp025_tot_pro_pop_flo</th>\n",
       "      <th>rp050_tot_pro_pop_flo</th>\n",
       "      <th>rp100_tot_pro_pop_flo</th>\n",
       "      <th>rp200_tot_pro_pop_flo</th>\n",
       "      <th>rp025_per_pro_pop_flo</th>\n",
       "      <th>rp050_per_pro_pop_flo</th>\n",
       "      <th>rp100_per_pro_pop_flo</th>\n",
       "      <th>rp200_per_pro_pop_flo</th>\n",
       "    </tr>\n",
       "    <tr>\n",
       "      <th>province</th>\n",
       "      <th></th>\n",
       "      <th></th>\n",
       "      <th></th>\n",
       "      <th></th>\n",
       "      <th></th>\n",
       "      <th></th>\n",
       "      <th></th>\n",
       "      <th></th>\n",
       "      <th></th>\n",
       "      <th></th>\n",
       "      <th></th>\n",
       "      <th></th>\n",
       "      <th></th>\n",
       "      <th></th>\n",
       "      <th></th>\n",
       "      <th></th>\n",
       "      <th></th>\n",
       "      <th></th>\n",
       "      <th></th>\n",
       "      <th></th>\n",
       "      <th></th>\n",
       "    </tr>\n",
       "  </thead>\n",
       "  <tbody>\n",
       "    <tr>\n",
       "      <th>Ha Noi</th>\n",
       "      <td>Red River</td>\n",
       "      <td>3</td>\n",
       "      <td>4666.479492</td>\n",
       "      <td>1273.849976</td>\n",
       "      <td>0.030952</td>\n",
       "      <td>0.128292</td>\n",
       "      <td>0.097619</td>\n",
       "      <td>0.019048</td>\n",
       "      <td>0.033333</td>\n",
       "      <td>0.771429</td>\n",
       "      <td>...</td>\n",
       "      <td>0.000000</td>\n",
       "      <td>6698811</td>\n",
       "      <td>2705193.500000</td>\n",
       "      <td>2982285.500000</td>\n",
       "      <td>3275391.750000</td>\n",
       "      <td>3419891.750000</td>\n",
       "      <td>0.403832</td>\n",
       "      <td>0.445196</td>\n",
       "      <td>0.488951</td>\n",
       "      <td>0.510522</td>\n",
       "    </tr>\n",
       "    <tr>\n",
       "      <th>Ha Giang</th>\n",
       "      <td>North East</td>\n",
       "      <td>1</td>\n",
       "      <td>1543.773193</td>\n",
       "      <td>1273.849976</td>\n",
       "      <td>0.723810</td>\n",
       "      <td>0.073584</td>\n",
       "      <td>0.771429</td>\n",
       "      <td>0.000000</td>\n",
       "      <td>0.009524</td>\n",
       "      <td>0.371429</td>\n",
       "      <td>...</td>\n",
       "      <td>0.000000</td>\n",
       "      <td>774681</td>\n",
       "      <td>93114.375000</td>\n",
       "      <td>125662.929688</td>\n",
       "      <td>141728.218750</td>\n",
       "      <td>152027.937500</td>\n",
       "      <td>0.120197</td>\n",
       "      <td>0.162212</td>\n",
       "      <td>0.182950</td>\n",
       "      <td>0.196246</td>\n",
       "    </tr>\n",
       "    <tr>\n",
       "      <th>Cao Bang</th>\n",
       "      <td>North East</td>\n",
       "      <td>1</td>\n",
       "      <td>1984.919556</td>\n",
       "      <td>1273.849976</td>\n",
       "      <td>0.509804</td>\n",
       "      <td>0.115198</td>\n",
       "      <td>0.588235</td>\n",
       "      <td>0.029412</td>\n",
       "      <td>0.009804</td>\n",
       "      <td>0.607843</td>\n",
       "      <td>...</td>\n",
       "      <td>0.000000</td>\n",
       "      <td>540048</td>\n",
       "      <td>83279.125000</td>\n",
       "      <td>108317.593750</td>\n",
       "      <td>117728.171875</td>\n",
       "      <td>124823.031250</td>\n",
       "      <td>0.154207</td>\n",
       "      <td>0.200570</td>\n",
       "      <td>0.217996</td>\n",
       "      <td>0.231133</td>\n",
       "    </tr>\n",
       "    <tr>\n",
       "      <th>Bac Kan</th>\n",
       "      <td>North East</td>\n",
       "      <td>1</td>\n",
       "      <td>1892.141357</td>\n",
       "      <td>1273.849976</td>\n",
       "      <td>0.352941</td>\n",
       "      <td>0.132159</td>\n",
       "      <td>0.647059</td>\n",
       "      <td>0.019608</td>\n",
       "      <td>0.019608</td>\n",
       "      <td>0.656863</td>\n",
       "      <td>...</td>\n",
       "      <td>0.000000</td>\n",
       "      <td>311681</td>\n",
       "      <td>37537.519531</td>\n",
       "      <td>55359.738281</td>\n",
       "      <td>61938.093750</td>\n",
       "      <td>66296.101562</td>\n",
       "      <td>0.120436</td>\n",
       "      <td>0.177617</td>\n",
       "      <td>0.198723</td>\n",
       "      <td>0.212705</td>\n",
       "    </tr>\n",
       "    <tr>\n",
       "      <th>Tuyen Quang</th>\n",
       "      <td>North East</td>\n",
       "      <td>1</td>\n",
       "      <td>1950.835205</td>\n",
       "      <td>1273.849976</td>\n",
       "      <td>0.289474</td>\n",
       "      <td>0.093207</td>\n",
       "      <td>0.482456</td>\n",
       "      <td>0.026316</td>\n",
       "      <td>0.026316</td>\n",
       "      <td>0.719298</td>\n",
       "      <td>...</td>\n",
       "      <td>0.009091</td>\n",
       "      <td>772231</td>\n",
       "      <td>133871.453125</td>\n",
       "      <td>180885.281250</td>\n",
       "      <td>208887.250000</td>\n",
       "      <td>223297.312500</td>\n",
       "      <td>0.173357</td>\n",
       "      <td>0.234237</td>\n",
       "      <td>0.270498</td>\n",
       "      <td>0.289159</td>\n",
       "    </tr>\n",
       "  </tbody>\n",
       "</table>\n",
       "<p>5 rows × 86 columns</p>\n",
       "</div>"
      ],
      "text/plain": [
       "                 region  regid  pcinc_ppp2010  povline2010  poor2010  \\\n",
       "province                                                               \n",
       "Ha Noi        Red River      3    4666.479492  1273.849976  0.030952   \n",
       "Ha Giang     North East      1    1543.773193  1273.849976  0.723810   \n",
       "Cao Bang     North East      1    1984.919556  1273.849976  0.509804   \n",
       "Bac Kan      North East      1    1892.141357  1273.849976  0.352941   \n",
       "Tuyen Quang  North East      1    1950.835205  1273.849976  0.289474   \n",
       "\n",
       "             transfers2010  sp_scheme2010  sp_remit2010  info_radio2010  \\\n",
       "province                                                                  \n",
       "Ha Noi            0.128292       0.097619      0.019048        0.033333   \n",
       "Ha Giang          0.073584       0.771429      0.000000        0.009524   \n",
       "Cao Bang          0.115198       0.588235      0.029412        0.009804   \n",
       "Bac Kan           0.132159       0.647059      0.019608        0.019608   \n",
       "Tuyen Quang       0.093207       0.482456      0.026316        0.026316   \n",
       "\n",
       "             info_cell2010          ...            hs_roof52014  pop_landscan  \\\n",
       "province                            ...                                         \n",
       "Ha Noi            0.771429          ...                0.000000       6698811   \n",
       "Ha Giang          0.371429          ...                0.000000        774681   \n",
       "Cao Bang          0.607843          ...                0.000000        540048   \n",
       "Bac Kan           0.656863          ...                0.000000        311681   \n",
       "Tuyen Quang       0.719298          ...                0.009091        772231   \n",
       "\n",
       "             rp025_tot_pro_pop_flo  rp050_tot_pro_pop_flo  \\\n",
       "province                                                    \n",
       "Ha Noi              2705193.500000         2982285.500000   \n",
       "Ha Giang              93114.375000          125662.929688   \n",
       "Cao Bang              83279.125000          108317.593750   \n",
       "Bac Kan               37537.519531           55359.738281   \n",
       "Tuyen Quang          133871.453125          180885.281250   \n",
       "\n",
       "             rp100_tot_pro_pop_flo  rp200_tot_pro_pop_flo  \\\n",
       "province                                                    \n",
       "Ha Noi              3275391.750000         3419891.750000   \n",
       "Ha Giang             141728.218750          152027.937500   \n",
       "Cao Bang             117728.171875          124823.031250   \n",
       "Bac Kan               61938.093750           66296.101562   \n",
       "Tuyen Quang          208887.250000          223297.312500   \n",
       "\n",
       "             rp025_per_pro_pop_flo  rp050_per_pro_pop_flo  \\\n",
       "province                                                    \n",
       "Ha Noi                    0.403832               0.445196   \n",
       "Ha Giang                  0.120197               0.162212   \n",
       "Cao Bang                  0.154207               0.200570   \n",
       "Bac Kan                   0.120436               0.177617   \n",
       "Tuyen Quang               0.173357               0.234237   \n",
       "\n",
       "             rp100_per_pro_pop_flo  rp200_per_pro_pop_flo  \n",
       "province                                                   \n",
       "Ha Noi                    0.488951               0.510522  \n",
       "Ha Giang                  0.182950               0.196246  \n",
       "Cao Bang                  0.217996               0.231133  \n",
       "Bac Kan                   0.198723               0.212705  \n",
       "Tuyen Quang               0.270498               0.289159  \n",
       "\n",
       "[5 rows x 86 columns]"
      ]
     },
     "execution_count": 4,
     "metadata": {},
     "output_type": "execute_result"
    }
   ],
   "source": [
    "raw_data.head()"
   ]
  },
  {
   "cell_type": "markdown",
   "metadata": {},
   "source": [
    "# New data frame"
   ]
  },
  {
   "cell_type": "code",
   "execution_count": 5,
   "metadata": {
    "collapsed": false,
    "run_control": {
     "frozen": false,
     "read_only": false
    }
   },
   "outputs": [
    {
     "data": {
      "text/html": [
       "<div>\n",
       "<table border=\"1\" class=\"dataframe\">\n",
       "  <thead>\n",
       "    <tr style=\"text-align: right;\">\n",
       "      <th></th>\n",
       "    </tr>\n",
       "    <tr>\n",
       "      <th>province</th>\n",
       "    </tr>\n",
       "  </thead>\n",
       "  <tbody>\n",
       "    <tr>\n",
       "      <th>Ha Noi</th>\n",
       "    </tr>\n",
       "    <tr>\n",
       "      <th>Ha Giang</th>\n",
       "    </tr>\n",
       "    <tr>\n",
       "      <th>Cao Bang</th>\n",
       "    </tr>\n",
       "    <tr>\n",
       "      <th>Bac Kan</th>\n",
       "    </tr>\n",
       "    <tr>\n",
       "      <th>Tuyen Quang</th>\n",
       "    </tr>\n",
       "  </tbody>\n",
       "</table>\n",
       "</div>"
      ],
      "text/plain": [
       "Empty DataFrame\n",
       "Columns: []\n",
       "Index: [Ha Noi, Ha Giang, Cao Bang, Bac Kan, Tuyen Quang]"
      ]
     },
     "execution_count": 5,
     "metadata": {},
     "output_type": "execute_result"
    }
   ],
   "source": [
    "df=pd.DataFrame(index=raw_data.index)\n",
    "df.head()"
   ]
  },
  {
   "cell_type": "markdown",
   "metadata": {
    "collapsed": true
   },
   "source": [
    "## population"
   ]
  },
  {
   "cell_type": "code",
   "execution_count": 6,
   "metadata": {
    "collapsed": false,
    "run_control": {
     "frozen": false,
     "read_only": false
    }
   },
   "outputs": [
    {
     "data": {
      "text/plain": [
       "province\n",
       "Ha Noi         6698811\n",
       "Ha Giang        774681\n",
       "Cao Bang        540048\n",
       "Bac Kan         311681\n",
       "Tuyen Quang     772231\n",
       "Name: pop_landscan, dtype: int64"
      ]
     },
     "execution_count": 6,
     "metadata": {},
     "output_type": "execute_result"
    }
   ],
   "source": [
    "pop=raw_data.pop_landscan;\n",
    "pop.head()"
   ]
  },
  {
   "cell_type": "code",
   "execution_count": 7,
   "metadata": {
    "collapsed": false,
    "run_control": {
     "frozen": false,
     "read_only": false
    }
   },
   "outputs": [
    {
     "data": {
      "text/html": [
       "<div>\n",
       "<table border=\"1\" class=\"dataframe\">\n",
       "  <thead>\n",
       "    <tr style=\"text-align: right;\">\n",
       "      <th></th>\n",
       "      <th>pop</th>\n",
       "    </tr>\n",
       "    <tr>\n",
       "      <th>province</th>\n",
       "      <th></th>\n",
       "    </tr>\n",
       "  </thead>\n",
       "  <tbody>\n",
       "    <tr>\n",
       "      <th>Ha Noi</th>\n",
       "      <td>6698811</td>\n",
       "    </tr>\n",
       "    <tr>\n",
       "      <th>Ha Giang</th>\n",
       "      <td>774681</td>\n",
       "    </tr>\n",
       "    <tr>\n",
       "      <th>Cao Bang</th>\n",
       "      <td>540048</td>\n",
       "    </tr>\n",
       "    <tr>\n",
       "      <th>Bac Kan</th>\n",
       "      <td>311681</td>\n",
       "    </tr>\n",
       "    <tr>\n",
       "      <th>Tuyen Quang</th>\n",
       "      <td>772231</td>\n",
       "    </tr>\n",
       "  </tbody>\n",
       "</table>\n",
       "</div>"
      ],
      "text/plain": [
       "                 pop\n",
       "province            \n",
       "Ha Noi       6698811\n",
       "Ha Giang      774681\n",
       "Cao Bang      540048\n",
       "Bac Kan       311681\n",
       "Tuyen Quang   772231"
      ]
     },
     "execution_count": 7,
     "metadata": {},
     "output_type": "execute_result"
    }
   ],
   "source": [
    "df[\"pop\"] = pop\n",
    "df.head()\n"
   ]
  },
  {
   "cell_type": "markdown",
   "metadata": {},
   "source": [
    "## poverty incidence, income, "
   ]
  },
  {
   "cell_type": "code",
   "execution_count": 8,
   "metadata": {
    "collapsed": false,
    "run_control": {
     "frozen": false,
     "read_only": false
    }
   },
   "outputs": [
    {
     "data": {
      "text/plain": [
       "0.2147092881379823"
      ]
     },
     "execution_count": 8,
     "metadata": {},
     "output_type": "execute_result"
    }
   ],
   "source": [
    "#poverty incidence\n",
    "ph = raw_data.poor2014;\n",
    "\n",
    "nat_pov = (ph*pop).sum() / pop.sum()\n",
    "nat_pov"
   ]
  },
  {
   "cell_type": "code",
   "execution_count": 9,
   "metadata": {
    "collapsed": true,
    "run_control": {
     "frozen": false,
     "read_only": false
    }
   },
   "outputs": [],
   "source": [
    "#POVCALNET\n",
    "share_income_poor = 2.59/100 #share of income that goes to bottom decile (~0.104, nat_pov_head) according to "
   ]
  },
  {
   "cell_type": "code",
   "execution_count": 10,
   "metadata": {
    "collapsed": true,
    "run_control": {
     "frozen": false,
     "read_only": false
    }
   },
   "outputs": [],
   "source": [
    "#average per capita income per province\n",
    "c = raw_data.pcinc_ppp2014"
   ]
  },
  {
   "cell_type": "code",
   "execution_count": 11,
   "metadata": {
    "collapsed": false,
    "run_control": {
     "frozen": false,
     "read_only": false
    }
   },
   "outputs": [],
   "source": [
    "#income of poor people\n",
    "cp = share_income_poor * c / nat_pov"
   ]
  },
  {
   "cell_type": "code",
   "execution_count": 12,
   "metadata": {
    "collapsed": false,
    "run_control": {
     "frozen": false,
     "read_only": false
    }
   },
   "outputs": [],
   "source": [
    "#income of nonpoor\n",
    "cr =(c- ph*cp)/(1-ph)"
   ]
  },
  {
   "cell_type": "code",
   "execution_count": 13,
   "metadata": {
    "collapsed": false,
    "run_control": {
     "frozen": false,
     "read_only": false
    }
   },
   "outputs": [
    {
     "data": {
      "text/plain": [
       "<matplotlib.axes._subplots.AxesSubplot at 0x63e19b0>"
      ]
     },
     "execution_count": 13,
     "metadata": {},
     "output_type": "execute_result"
    },
    {
     "data": {
      "image/png": "[encoded data removed]",
      "text/plain": [
       "<matplotlib.figure.Figure at 0x8952828>"
      ]
     },
     "metadata": {},
     "output_type": "display_data"
    }
   ],
   "source": [
    "%matplotlib inline\n",
    "(cr/cp).hist()"
   ]
  },
  {
   "cell_type": "code",
   "execution_count": 14,
   "metadata": {
    "collapsed": true,
    "run_control": {
     "frozen": false,
     "read_only": false
    }
   },
   "outputs": [],
   "source": [
    "df[\"cp\"]= cp\n",
    "df[\"cr\"]= cr\n",
    "df[\"pov_head\"] = ph\n",
    "df[\"gdp_pc_pp\"] = c\n",
    "\n",
    "#national income\n",
    "df[\"gdp_pc_pp_nat\"] = (c*pop).sum()/pop.sum()"
   ]
  },
  {
   "cell_type": "markdown",
   "metadata": {},
   "source": [
    "## diversification"
   ]
  },
  {
   "cell_type": "code",
   "execution_count": 15,
   "metadata": {
    "collapsed": false,
    "run_control": {
     "frozen": false,
     "read_only": false
    }
   },
   "outputs": [],
   "source": [
    "df[\"social_p\"] = df[\"social_r\"] = raw_data.transfers2014 + raw_data.sp_remit2014"
   ]
  },
  {
   "cell_type": "markdown",
   "metadata": {},
   "source": [
    "## vulnerability"
   ]
  },
  {
   "cell_type": "code",
   "execution_count": 16,
   "metadata": {
    "collapsed": false,
    "run_control": {
     "frozen": false,
     "read_only": false
    }
   },
   "outputs": [
    {
     "data": {
      "text/plain": [
       "['pole', 'wall', 'roof']"
      ]
     },
     "execution_count": 16,
     "metadata": {},
     "output_type": "execute_result"
    }
   ],
   "source": [
    "xl_file = pd.ExcelFile(\"inputs/vulnerability_curves.xlsx\")\n",
    "xl_file.sheet_names\n"
   ]
  },
  {
   "cell_type": "code",
   "execution_count": 17,
   "metadata": {
    "collapsed": false,
    "run_control": {
     "frozen": false,
     "read_only": false
    }
   },
   "outputs": [],
   "source": [
    "vp = vr = 0\n",
    "\n",
    "xl_file = pd.ExcelFile(\"inputs/vulnerability_curves.xlsx\")\n",
    "\n",
    "#loop over building parts\n",
    "for sheet in xl_file.sheet_names:\n",
    "        #vulnerability of current building part\n",
    "        vul_curve = pd.read_excel(xl_file, sheetname=sheet, index_col=\"key\")[\"v\"]\n",
    "        vul_curve\n",
    "\n",
    "        #inventory\n",
    "        building_types_per_department = raw_data[vul_curve.index].T\n",
    "        building_types_per_department;\n",
    "\n",
    "        #assumes poor pepleuse mor efragile parts\n",
    "        share = (building_types_per_department/building_types_per_department.sum()).T[vul_curve.sort_values(ascending=False).index]\n",
    "        p=(share.cumsum(axis=1).add(-df[\"pov_head\"],axis=0)).clip(lower=0)\n",
    "        poor=(share-p).clip(lower=0)\n",
    "        rich=share-poor\n",
    "\n",
    "        #contribution of the current part to vulnearbility\n",
    "        vp+=(poor*vul_curve).sum(axis=1)/df[\"pov_head\"]\n",
    "        vr+=(rich*vul_curve).sum(axis=1)/(1-df[\"pov_head\"])\n",
    "\n",
    "vp/= len(xl_file.sheet_names)\n",
    "vr/= len(xl_file.sheet_names)"
   ]
  },
  {
   "cell_type": "code",
   "execution_count": 18,
   "metadata": {
    "collapsed": false,
    "run_control": {
     "frozen": false,
     "read_only": false
    }
   },
   "outputs": [
    {
     "data": {
      "text/plain": [
       "<matplotlib.axes._subplots.AxesSubplot at 0x8d54c18>"
      ]
     },
     "execution_count": 18,
     "metadata": {},
     "output_type": "execute_result"
    },
    {
     "data": {
      "image/png": "[encoded data removed]",
      "text/plain": [
       "<matplotlib.figure.Figure at 0x8d00828>"
      ]
     },
     "metadata": {},
     "output_type": "display_data"
    }
   ],
   "source": [
    "vr.hist()\n",
    "vp.hist(color=\"red\")"
   ]
  },
  {
   "cell_type": "code",
   "execution_count": 19,
   "metadata": {
    "collapsed": true,
    "run_control": {
     "frozen": false,
     "read_only": false
    }
   },
   "outputs": [],
   "source": [
    "#Update Dataframe\n",
    "df[\"v_p\"] = vp\n",
    "df[\"v_r\"] = vr"
   ]
  },
  {
   "cell_type": "code",
   "execution_count": 20,
   "metadata": {
    "collapsed": false,
    "run_control": {
     "frozen": false,
     "read_only": false
    }
   },
   "outputs": [
    {
     "data": {
      "text/html": [
       "<div>\n",
       "<table border=\"1\" class=\"dataframe\">\n",
       "  <thead>\n",
       "    <tr style=\"text-align: right;\">\n",
       "      <th></th>\n",
       "      <th>pop</th>\n",
       "      <th>cp</th>\n",
       "      <th>cr</th>\n",
       "      <th>pov_head</th>\n",
       "      <th>gdp_pc_pp</th>\n",
       "      <th>gdp_pc_pp_nat</th>\n",
       "      <th>social_p</th>\n",
       "      <th>social_r</th>\n",
       "      <th>v_p</th>\n",
       "      <th>v_r</th>\n",
       "    </tr>\n",
       "    <tr>\n",
       "      <th>province</th>\n",
       "      <th></th>\n",
       "      <th></th>\n",
       "      <th></th>\n",
       "      <th></th>\n",
       "      <th></th>\n",
       "      <th></th>\n",
       "      <th></th>\n",
       "      <th></th>\n",
       "      <th></th>\n",
       "      <th></th>\n",
       "    </tr>\n",
       "  </thead>\n",
       "  <tbody>\n",
       "    <tr>\n",
       "      <th>Ha Noi</th>\n",
       "      <td>6698811</td>\n",
       "      <td>601.835765</td>\n",
       "      <td>5268.983750</td>\n",
       "      <td>0.059952</td>\n",
       "      <td>4989.178711</td>\n",
       "      <td>3692.174852</td>\n",
       "      <td>0.132861</td>\n",
       "      <td>0.132861</td>\n",
       "      <td>0.033333</td>\n",
       "      <td>0.033333</td>\n",
       "    </tr>\n",
       "    <tr>\n",
       "      <th>Ha Giang</th>\n",
       "      <td>774681</td>\n",
       "      <td>245.646228</td>\n",
       "      <td>5193.757053</td>\n",
       "      <td>0.638095</td>\n",
       "      <td>2036.390991</td>\n",
       "      <td>3692.174852</td>\n",
       "      <td>0.108244</td>\n",
       "      <td>0.108244</td>\n",
       "      <td>0.072512</td>\n",
       "      <td>0.033333</td>\n",
       "    </tr>\n",
       "    <tr>\n",
       "      <th>Cao Bang</th>\n",
       "      <td>540048</td>\n",
       "      <td>247.407868</td>\n",
       "      <td>4246.666248</td>\n",
       "      <td>0.549020</td>\n",
       "      <td>2050.994873</td>\n",
       "      <td>3692.174852</td>\n",
       "      <td>0.130566</td>\n",
       "      <td>0.130566</td>\n",
       "      <td>0.047619</td>\n",
       "      <td>0.033333</td>\n",
       "    </tr>\n",
       "    <tr>\n",
       "      <th>Bac Kan</th>\n",
       "      <td>311681</td>\n",
       "      <td>267.005596</td>\n",
       "      <td>6671.464083</td>\n",
       "      <td>0.696078</td>\n",
       "      <td>2213.458740</td>\n",
       "      <td>3692.174852</td>\n",
       "      <td>0.065313</td>\n",
       "      <td>0.065313</td>\n",
       "      <td>0.036150</td>\n",
       "      <td>0.033333</td>\n",
       "    </tr>\n",
       "    <tr>\n",
       "      <th>Tuyen Quang</th>\n",
       "      <td>772231</td>\n",
       "      <td>307.017677</td>\n",
       "      <td>4314.007739</td>\n",
       "      <td>0.441441</td>\n",
       "      <td>2545.156250</td>\n",
       "      <td>3692.174852</td>\n",
       "      <td>0.074788</td>\n",
       "      <td>0.074788</td>\n",
       "      <td>0.111589</td>\n",
       "      <td>0.033333</td>\n",
       "    </tr>\n",
       "  </tbody>\n",
       "</table>\n",
       "</div>"
      ],
      "text/plain": [
       "                 pop          cp           cr  pov_head    gdp_pc_pp  \\\n",
       "province                                                               \n",
       "Ha Noi       6698811  601.835765  5268.983750  0.059952  4989.178711   \n",
       "Ha Giang      774681  245.646228  5193.757053  0.638095  2036.390991   \n",
       "Cao Bang      540048  247.407868  4246.666248  0.549020  2050.994873   \n",
       "Bac Kan       311681  267.005596  6671.464083  0.696078  2213.458740   \n",
       "Tuyen Quang   772231  307.017677  4314.007739  0.441441  2545.156250   \n",
       "\n",
       "             gdp_pc_pp_nat  social_p  social_r       v_p       v_r  \n",
       "province                                                            \n",
       "Ha Noi         3692.174852  0.132861  0.132861  0.033333  0.033333  \n",
       "Ha Giang       3692.174852  0.108244  0.108244  0.072512  0.033333  \n",
       "Cao Bang       3692.174852  0.130566  0.130566  0.047619  0.033333  \n",
       "Bac Kan        3692.174852  0.065313  0.065313  0.036150  0.033333  \n",
       "Tuyen Quang    3692.174852  0.074788  0.074788  0.111589  0.033333  "
      ]
     },
     "execution_count": 20,
     "metadata": {},
     "output_type": "execute_result"
    }
   ],
   "source": [
    "df.head()"
   ]
  },
  {
   "cell_type": "markdown",
   "metadata": {},
   "source": [
    "## Early warnings"
   ]
  },
  {
   "cell_type": "code",
   "execution_count": 21,
   "metadata": {
    "collapsed": false,
    "run_control": {
     "frozen": false,
     "read_only": false
    }
   },
   "outputs": [],
   "source": [
    "df[\"shewp\"] = df[\"shewr\"]=  raw_data.info_cell2014"
   ]
  },
  {
   "cell_type": "markdown",
   "metadata": {},
   "source": [
    "# hazard data"
   ]
  },
  {
   "cell_type": "markdown",
   "metadata": {},
   "source": [
    "## exposure"
   ]
  },
  {
   "cell_type": "code",
   "execution_count": 22,
   "metadata": {
    "collapsed": false,
    "run_control": {
     "frozen": false,
     "read_only": false
    }
   },
   "outputs": [],
   "source": [
    "#fraction of people affected\n",
    "fa = raw_data.rp050_per_pro_pop_flo\n",
    "fa.head()\n",
    "\n",
    "#assuming quite arbitrary exposure bias\n",
    "peb =pd.read_csv(\"inputs/PEB_wb_deltares.csv\", index_col=0, skiprows=[0,1,2])[\"Nation-wide\"]\n",
    "pe = peb.mean()\n",
    "\n",
    "df[\"fap\"] = fap=fa* (1+pe)\n",
    "df[\"far\"] = (fa- fap*ph)/(1-ph)"
   ]
  },
  {
   "cell_type": "code",
   "execution_count": 23,
   "metadata": {
    "collapsed": false,
    "run_control": {
     "frozen": false,
     "read_only": false
    }
   },
   "outputs": [
    {
     "data": {
      "text/html": [
       "<div>\n",
       "<table border=\"1\" class=\"dataframe\">\n",
       "  <thead>\n",
       "    <tr style=\"text-align: right;\">\n",
       "      <th></th>\n",
       "      <th>pop</th>\n",
       "      <th>cp</th>\n",
       "      <th>cr</th>\n",
       "      <th>pov_head</th>\n",
       "      <th>gdp_pc_pp</th>\n",
       "      <th>gdp_pc_pp_nat</th>\n",
       "      <th>social_p</th>\n",
       "      <th>social_r</th>\n",
       "      <th>v_p</th>\n",
       "      <th>v_r</th>\n",
       "      <th>shewp</th>\n",
       "      <th>shewr</th>\n",
       "      <th>fap</th>\n",
       "      <th>far</th>\n",
       "    </tr>\n",
       "    <tr>\n",
       "      <th>province</th>\n",
       "      <th></th>\n",
       "      <th></th>\n",
       "      <th></th>\n",
       "      <th></th>\n",
       "      <th></th>\n",
       "      <th></th>\n",
       "      <th></th>\n",
       "      <th></th>\n",
       "      <th></th>\n",
       "      <th></th>\n",
       "      <th></th>\n",
       "      <th></th>\n",
       "      <th></th>\n",
       "      <th></th>\n",
       "    </tr>\n",
       "  </thead>\n",
       "  <tbody>\n",
       "    <tr>\n",
       "      <th>Ha Noi</th>\n",
       "      <td>6698811</td>\n",
       "      <td>601.835765</td>\n",
       "      <td>5268.983750</td>\n",
       "      <td>0.059952</td>\n",
       "      <td>4989.178711</td>\n",
       "      <td>3692.174852</td>\n",
       "      <td>0.132861</td>\n",
       "      <td>0.132861</td>\n",
       "      <td>0.033333</td>\n",
       "      <td>0.033333</td>\n",
       "      <td>0.901679</td>\n",
       "      <td>0.901679</td>\n",
       "      <td>0.488716</td>\n",
       "      <td>0.442421</td>\n",
       "    </tr>\n",
       "    <tr>\n",
       "      <th>Ha Giang</th>\n",
       "      <td>774681</td>\n",
       "      <td>245.646228</td>\n",
       "      <td>5193.757053</td>\n",
       "      <td>0.638095</td>\n",
       "      <td>2036.390991</td>\n",
       "      <td>3692.174852</td>\n",
       "      <td>0.108244</td>\n",
       "      <td>0.108244</td>\n",
       "      <td>0.072512</td>\n",
       "      <td>0.033333</td>\n",
       "      <td>0.742857</td>\n",
       "      <td>0.742857</td>\n",
       "      <td>0.178070</td>\n",
       "      <td>0.134254</td>\n",
       "    </tr>\n",
       "    <tr>\n",
       "      <th>Cao Bang</th>\n",
       "      <td>540048</td>\n",
       "      <td>247.407868</td>\n",
       "      <td>4246.666248</td>\n",
       "      <td>0.549020</td>\n",
       "      <td>2050.994873</td>\n",
       "      <td>3692.174852</td>\n",
       "      <td>0.130566</td>\n",
       "      <td>0.130566</td>\n",
       "      <td>0.047619</td>\n",
       "      <td>0.033333</td>\n",
       "      <td>0.891089</td>\n",
       "      <td>0.891089</td>\n",
       "      <td>0.220177</td>\n",
       "      <td>0.176701</td>\n",
       "    </tr>\n",
       "    <tr>\n",
       "      <th>Bac Kan</th>\n",
       "      <td>311681</td>\n",
       "      <td>267.005596</td>\n",
       "      <td>6671.464083</td>\n",
       "      <td>0.696078</td>\n",
       "      <td>2213.458740</td>\n",
       "      <td>3692.174852</td>\n",
       "      <td>0.065313</td>\n",
       "      <td>0.065313</td>\n",
       "      <td>0.036150</td>\n",
       "      <td>0.033333</td>\n",
       "      <td>0.900000</td>\n",
       "      <td>0.900000</td>\n",
       "      <td>0.194980</td>\n",
       "      <td>0.137850</td>\n",
       "    </tr>\n",
       "    <tr>\n",
       "      <th>Tuyen Quang</th>\n",
       "      <td>772231</td>\n",
       "      <td>307.017677</td>\n",
       "      <td>4314.007739</td>\n",
       "      <td>0.441441</td>\n",
       "      <td>2545.156250</td>\n",
       "      <td>3692.174852</td>\n",
       "      <td>0.074788</td>\n",
       "      <td>0.074788</td>\n",
       "      <td>0.111589</td>\n",
       "      <td>0.033333</td>\n",
       "      <td>0.881818</td>\n",
       "      <td>0.881818</td>\n",
       "      <td>0.257135</td>\n",
       "      <td>0.216141</td>\n",
       "    </tr>\n",
       "  </tbody>\n",
       "</table>\n",
       "</div>"
      ],
      "text/plain": [
       "                 pop          cp           cr  pov_head    gdp_pc_pp  \\\n",
       "province                                                               \n",
       "Ha Noi       6698811  601.835765  5268.983750  0.059952  4989.178711   \n",
       "Ha Giang      774681  245.646228  5193.757053  0.638095  2036.390991   \n",
       "Cao Bang      540048  247.407868  4246.666248  0.549020  2050.994873   \n",
       "Bac Kan       311681  267.005596  6671.464083  0.696078  2213.458740   \n",
       "Tuyen Quang   772231  307.017677  4314.007739  0.441441  2545.156250   \n",
       "\n",
       "             gdp_pc_pp_nat  social_p  social_r       v_p       v_r     shewp  \\\n",
       "province                                                                       \n",
       "Ha Noi         3692.174852  0.132861  0.132861  0.033333  0.033333  0.901679   \n",
       "Ha Giang       3692.174852  0.108244  0.108244  0.072512  0.033333  0.742857   \n",
       "Cao Bang       3692.174852  0.130566  0.130566  0.047619  0.033333  0.891089   \n",
       "Bac Kan        3692.174852  0.065313  0.065313  0.036150  0.033333  0.900000   \n",
       "Tuyen Quang    3692.174852  0.074788  0.074788  0.111589  0.033333  0.881818   \n",
       "\n",
       "                shewr       fap       far  \n",
       "province                                   \n",
       "Ha Noi       0.901679  0.488716  0.442421  \n",
       "Ha Giang     0.742857  0.178070  0.134254  \n",
       "Cao Bang     0.891089  0.220177  0.176701  \n",
       "Bac Kan      0.900000  0.194980  0.137850  \n",
       "Tuyen Quang  0.881818  0.257135  0.216141  "
      ]
     },
     "execution_count": 23,
     "metadata": {},
     "output_type": "execute_result"
    }
   ],
   "source": [
    "df.head()"
   ]
  },
  {
   "cell_type": "markdown",
   "metadata": {},
   "source": [
    "## protection"
   ]
  },
  {
   "cell_type": "code",
   "execution_count": 24,
   "metadata": {
    "collapsed": true,
    "run_control": {
     "frozen": false,
     "read_only": false
    }
   },
   "outputs": [],
   "source": [
    "import simpledbf as sdbf"
   ]
  },
  {
   "cell_type": "code",
   "execution_count": 25,
   "metadata": {
    "collapsed": false,
    "run_control": {
     "frozen": false,
     "read_only": false
    }
   },
   "outputs": [],
   "source": [
    "old_shp = False"
   ]
  },
  {
   "cell_type": "code",
   "execution_count": 26,
   "metadata": {
    "collapsed": false,
    "run_control": {
     "frozen": false,
     "read_only": false
    }
   },
   "outputs": [
    {
     "data": {
      "text/html": [
       "<div>\n",
       "<table border=\"1\" class=\"dataframe\">\n",
       "  <thead>\n",
       "    <tr style=\"text-align: right;\">\n",
       "      <th></th>\n",
       "      <th>OBJECTID</th>\n",
       "      <th>name</th>\n",
       "      <th>type_en</th>\n",
       "      <th>geonunit</th>\n",
       "      <th>Shape_Area</th>\n",
       "      <th>DL_Min_Co</th>\n",
       "      <th>DL_Max_Co</th>\n",
       "      <th>PL_Min_Co</th>\n",
       "      <th>PL_Max_Co</th>\n",
       "      <th>MerL_Riv</th>\n",
       "      <th>DL_Min_Riv</th>\n",
       "      <th>DL_Max_Riv</th>\n",
       "      <th>PL_Min_Riv</th>\n",
       "      <th>PL_Max_Riv</th>\n",
       "      <th>ModL_Riv</th>\n",
       "    </tr>\n",
       "  </thead>\n",
       "  <tbody>\n",
       "    <tr>\n",
       "      <th>4510</th>\n",
       "      <td>4511</td>\n",
       "      <td>NaN</td>\n",
       "      <td>NaN</td>\n",
       "      <td>Vietnam</td>\n",
       "      <td>0.005737</td>\n",
       "      <td>0</td>\n",
       "      <td>0</td>\n",
       "      <td>0</td>\n",
       "      <td>0</td>\n",
       "      <td>0.00000</td>\n",
       "      <td>0</td>\n",
       "      <td>0</td>\n",
       "      <td>0</td>\n",
       "      <td>0</td>\n",
       "      <td>0.00000</td>\n",
       "    </tr>\n",
       "    <tr>\n",
       "      <th>4511</th>\n",
       "      <td>4512</td>\n",
       "      <td>Qu?ng Ninh</td>\n",
       "      <td>Province</td>\n",
       "      <td>Vietnam</td>\n",
       "      <td>0.477267</td>\n",
       "      <td>0</td>\n",
       "      <td>0</td>\n",
       "      <td>0</td>\n",
       "      <td>0</td>\n",
       "      <td>0.00000</td>\n",
       "      <td>0</td>\n",
       "      <td>0</td>\n",
       "      <td>0</td>\n",
       "      <td>0</td>\n",
       "      <td>0.00000</td>\n",
       "    </tr>\n",
       "    <tr>\n",
       "      <th>4512</th>\n",
       "      <td>4513</td>\n",
       "      <td>Tây Ninh</td>\n",
       "      <td>Province</td>\n",
       "      <td>Vietnam</td>\n",
       "      <td>0.350281</td>\n",
       "      <td>0</td>\n",
       "      <td>0</td>\n",
       "      <td>0</td>\n",
       "      <td>0</td>\n",
       "      <td>8.35565</td>\n",
       "      <td>0</td>\n",
       "      <td>0</td>\n",
       "      <td>0</td>\n",
       "      <td>0</td>\n",
       "      <td>8.35565</td>\n",
       "    </tr>\n",
       "    <tr>\n",
       "      <th>4513</th>\n",
       "      <td>4514</td>\n",
       "      <td>Ði?n Biên</td>\n",
       "      <td>Province</td>\n",
       "      <td>Vietnam</td>\n",
       "      <td>1.027522</td>\n",
       "      <td>0</td>\n",
       "      <td>0</td>\n",
       "      <td>0</td>\n",
       "      <td>0</td>\n",
       "      <td>6.63163</td>\n",
       "      <td>0</td>\n",
       "      <td>0</td>\n",
       "      <td>0</td>\n",
       "      <td>0</td>\n",
       "      <td>6.63163</td>\n",
       "    </tr>\n",
       "    <tr>\n",
       "      <th>4514</th>\n",
       "      <td>4515</td>\n",
       "      <td>Ðông B?c</td>\n",
       "      <td>Region</td>\n",
       "      <td>Vietnam</td>\n",
       "      <td>0.415741</td>\n",
       "      <td>0</td>\n",
       "      <td>0</td>\n",
       "      <td>0</td>\n",
       "      <td>0</td>\n",
       "      <td>6.50645</td>\n",
       "      <td>0</td>\n",
       "      <td>0</td>\n",
       "      <td>0</td>\n",
       "      <td>0</td>\n",
       "      <td>6.50645</td>\n",
       "    </tr>\n",
       "  </tbody>\n",
       "</table>\n",
       "</div>"
      ],
      "text/plain": [
       "      OBJECTID        name   type_en geonunit  Shape_Area  DL_Min_Co  \\\n",
       "4510      4511         NaN       NaN  Vietnam    0.005737          0   \n",
       "4511      4512  Qu?ng Ninh  Province  Vietnam    0.477267          0   \n",
       "4512      4513    Tây Ninh  Province  Vietnam    0.350281          0   \n",
       "4513      4514   Ði?n Biên  Province  Vietnam    1.027522          0   \n",
       "4514      4515    Ðông B?c    Region  Vietnam    0.415741          0   \n",
       "\n",
       "      DL_Max_Co  PL_Min_Co  PL_Max_Co  MerL_Riv  DL_Min_Riv  DL_Max_Riv  \\\n",
       "4510          0          0          0   0.00000           0           0   \n",
       "4511          0          0          0   0.00000           0           0   \n",
       "4512          0          0          0   8.35565           0           0   \n",
       "4513          0          0          0   6.63163           0           0   \n",
       "4514          0          0          0   6.50645           0           0   \n",
       "\n",
       "      PL_Min_Riv  PL_Max_Riv  ModL_Riv  \n",
       "4510           0           0   0.00000  \n",
       "4511           0           0   0.00000  \n",
       "4512           0           0   8.35565  \n",
       "4513           0           0   6.63163  \n",
       "4514           0           0   6.50645  "
      ]
     },
     "execution_count": 26,
     "metadata": {},
     "output_type": "execute_result"
    }
   ],
   "source": [
    "# thedbf = \n",
    "newdbf = sdbf.Dbf5(\"inputs/FLOPROS_shp_V1.dbf\", codec=\"latin-1\").to_dataframe().query(\"geonunit=='Vietnam'\")\n",
    "newdbf.head()"
   ]
  },
  {
   "cell_type": "code",
   "execution_count": 28,
   "metadata": {
    "collapsed": false,
    "run_control": {
     "frozen": false,
     "read_only": false
    }
   },
   "outputs": [],
   "source": [
    "olddbf = sdbf.Dbf5(\"inputs/FLOPROS_layers_Shapefile.dbf\", codec=\"latin-1\").to_dataframe().query(\"admin=='Vietnam'\")\n",
    "olddbf[\"simple_name\"] = olddbf.gn_name.str.replace(\"Tinh \",\"\").str.replace(\"Thanh pho\",\"\").str.replace(\"Huyen \",\"\").str.replace(\"Thanh Pho \",\"\").unique()\n",
    "# protection  =thedbf.dropna().set_index(\"simple_name\")[\"MerL_Riv\"].clip(lower=2)"
   ]
  },
  {
   "cell_type": "code",
   "execution_count": 29,
   "metadata": {
    "collapsed": false,
    "run_control": {
     "frozen": false,
     "read_only": false
    }
   },
   "outputs": [],
   "source": [
    "newdbf.set_index(newdbf.name.replace(olddbf.set_index(\"name\").simple_name));"
   ]
  },
  {
   "cell_type": "code",
   "execution_count": 30,
   "metadata": {
    "collapsed": false,
    "run_control": {
     "frozen": false,
     "read_only": false
    }
   },
   "outputs": [],
   "source": [
    "\n",
    "#new merged\n",
    "# protection  =newdbf.set_index(newdbf.name.replace(olddbf.set_index(\"name\").simple_name))[\"MerL_Riv\"]\n",
    "\n",
    "#old model\n",
    "protection = olddbf.set_index(\"simple_name\")[\"Mod_lay_la\"];\n",
    "\n",
    "protection = protection.rename(index={'Thua Thien-Hue':'Thua Thien Hue',\n",
    "                         'Da Nang':\"Da Nang city\",\n",
    "                         'Ba Ria-Vung Tau':\"Ba Ria - Vung Tau\",\n",
    "                         ' Ho Chi Minh':\"Ho Chi Minh city\",\n",
    "                         \"Hai Phong\":'Hai Phong city',\n",
    "                                     'Can Tho':\"Can Tho city\"  \n",
    "                                 })\n",
    "\n",
    "\n",
    "#fills 0 with lowest non zero value\n",
    "df[\"protection\"] = protection\n",
    "df[\"protection\"] = df[\"protection\"].clip(lower=df[\"protection\"].replace(0,np.nan).min())\n"
   ]
  },
  {
   "cell_type": "code",
   "execution_count": 31,
   "metadata": {
    "collapsed": false,
    "run_control": {
     "frozen": false,
     "read_only": false
    }
   },
   "outputs": [
    {
     "data": {
      "text/plain": [
       "[]"
      ]
     },
     "execution_count": 31,
     "metadata": {},
     "output_type": "execute_result"
    }
   ],
   "source": [
    "[i for i in df.index if i not in protection.index]"
   ]
  },
  {
   "cell_type": "code",
   "execution_count": 32,
   "metadata": {
    "collapsed": false,
    "run_control": {
     "frozen": false,
     "read_only": false
    }
   },
   "outputs": [
    {
     "data": {
      "text/plain": [
       "[nan]"
      ]
     },
     "execution_count": 32,
     "metadata": {},
     "output_type": "execute_result"
    }
   ],
   "source": [
    "[i for i in protection.index if i not in df.index]"
   ]
  },
  {
   "cell_type": "code",
   "execution_count": 35,
   "metadata": {
    "collapsed": false,
    "run_control": {
     "frozen": false,
     "read_only": false
    }
   },
   "outputs": [
    {
     "data": {
      "text/plain": [
       "province\n",
       "Ha Noi         8.52966\n",
       "Ha Giang       6.61381\n",
       "Cao Bang       7.62919\n",
       "Bac Kan        6.50645\n",
       "Tuyen Quang    7.26910\n",
       "Name: protection, dtype: float64"
      ]
     },
     "execution_count": 35,
     "metadata": {},
     "output_type": "execute_result"
    }
   ],
   "source": [
    "df.protection.to_csv(\"inputs/protection.csv\")\n",
    "df.protection.head()"
   ]
  },
  {
   "cell_type": "markdown",
   "metadata": {},
   "source": [
    "## Arbitrarily fills protection"
   ]
  },
  {
   "cell_type": "code",
   "execution_count": 36,
   "metadata": {
    "collapsed": false,
    "run_control": {
     "frozen": false,
     "read_only": false
    }
   },
   "outputs": [
    {
     "name": "stdout",
     "output_type": "stream",
     "text": [
      "filling 0 provinces\n"
     ]
    }
   ],
   "source": [
    "print(\"filling {n} provinces\".format(n=df.protection.isnull().sum()))\n",
    "df.protection = df.protection.fillna(df.protection.median())"
   ]
  },
  {
   "cell_type": "markdown",
   "metadata": {},
   "source": [
    "# Manually filling data gaps and informing parameters"
   ]
  },
  {
   "cell_type": "markdown",
   "metadata": {
    "collapsed": true
   },
   "source": [
    "Some data is missing and has to be added manually"
   ]
  },
  {
   "cell_type": "code",
   "execution_count": 37,
   "metadata": {
    "ExecuteTime": {
     "end_time": "2016-03-01T17:08:40.645458",
     "start_time": "2016-03-01T17:08:40.635947"
    },
    "collapsed": true,
    "run_control": {
     "frozen": false,
     "read_only": false
    }
   },
   "outputs": [],
   "source": [
    "#average productivity of capital\n",
    "df[\"avg_prod_k\"] = 0.2697  #Penn tables\n",
    "\n",
    "#Reconstruction time (an only be guessed ex-ante)\n",
    "df[\"T_rebuild_K\"] = 3\n",
    "\n",
    "# how much early warning reduces vulnerability (eg reactivity to early warnings)\n",
    "df[\"pi\"] = 0.2"
   ]
  },
  {
   "cell_type": "markdown",
   "metadata": {},
   "source": [
    "Some other inputs are normative or policy choices"
   ]
  },
  {
   "cell_type": "code",
   "execution_count": 38,
   "metadata": {
    "ExecuteTime": {
     "end_time": "2016-03-01T17:08:40.674983",
     "start_time": "2016-03-01T17:08:40.648460"
    },
    "collapsed": false,
    "run_control": {
     "frozen": false,
     "read_only": false
    }
   },
   "outputs": [],
   "source": [
    "#scale up of transfers after a disaster hits\n",
    "df[\"sigma_r\"]=df[\"sigma_p\"]=0\n",
    "\n",
    "#income elasticity\n",
    "df[\"income_elast\"] = 1.5\n",
    "\n",
    "#discount rate\n",
    "df[\"rho\"]=5/100"
   ]
  },
  {
   "cell_type": "markdown",
   "metadata": {},
   "source": [
    "# Adds description to the variables names"
   ]
  },
  {
   "cell_type": "markdown",
   "metadata": {},
   "source": [
    "Here we add a human readable descritpion to all model variables, based on the descriptions gathered in [inputs/inputs_info.csv](inputs/inputs_info.csv)"
   ]
  },
  {
   "cell_type": "code",
   "execution_count": 39,
   "metadata": {
    "collapsed": false,
    "run_control": {
     "frozen": false,
     "read_only": false
    }
   },
   "outputs": [
    {
     "data": {
      "text/plain": [
       "key\n",
       "avg_prod_k                              Productivity of capital\n",
       "dcap          Average consumption losses for poor people in ...\n",
       "dcar          Average consumption losses for nonpoor people ...\n",
       "delta_W       Average welfare losses in the event of a disaster\n",
       "dK            Average asset losses per person in the event o...\n",
       "Name: descriptor, dtype: object"
      ]
     },
     "execution_count": 39,
     "metadata": {},
     "output_type": "execute_result"
    }
   ],
   "source": [
    "description = pd.read_csv(\"inputs/inputs_info.csv\", index_col=\"key\")[\"descriptor\"]\n",
    "description.head()"
   ]
  },
  {
   "cell_type": "code",
   "execution_count": 40,
   "metadata": {
    "ExecuteTime": {
     "end_time": "2016-03-01T17:08:40.824096",
     "start_time": "2016-03-01T17:08:40.677986"
    },
    "collapsed": false,
    "run_control": {
     "frozen": false,
     "read_only": false
    }
   },
   "outputs": [
    {
     "data": {
      "text/html": [
       "<div>\n",
       "<table border=\"1\" class=\"dataframe\">\n",
       "  <thead>\n",
       "    <tr style=\"text-align: right;\">\n",
       "      <th></th>\n",
       "      <th>province</th>\n",
       "      <th>Ha Noi</th>\n",
       "      <th>Ha Giang</th>\n",
       "      <th>Cao Bang</th>\n",
       "      <th>Bac Kan</th>\n",
       "      <th>Tuyen Quang</th>\n",
       "    </tr>\n",
       "    <tr>\n",
       "      <th>description</th>\n",
       "      <th>variable</th>\n",
       "      <th></th>\n",
       "      <th></th>\n",
       "      <th></th>\n",
       "      <th></th>\n",
       "      <th></th>\n",
       "    </tr>\n",
       "  </thead>\n",
       "  <tbody>\n",
       "    <tr>\n",
       "      <th>Population</th>\n",
       "      <th>pop</th>\n",
       "      <td>6698811</td>\n",
       "      <td>774681</td>\n",
       "      <td>540048</td>\n",
       "      <td>311681</td>\n",
       "      <td>772231</td>\n",
       "    </tr>\n",
       "    <tr>\n",
       "      <th>Average income of poor families</th>\n",
       "      <th>cp</th>\n",
       "      <td>601.836</td>\n",
       "      <td>245.646</td>\n",
       "      <td>247.408</td>\n",
       "      <td>267.006</td>\n",
       "      <td>307.018</td>\n",
       "    </tr>\n",
       "    <tr>\n",
       "      <th>Average income of non poor families</th>\n",
       "      <th>cr</th>\n",
       "      <td>5268.98</td>\n",
       "      <td>5193.76</td>\n",
       "      <td>4246.67</td>\n",
       "      <td>6671.46</td>\n",
       "      <td>4314.01</td>\n",
       "    </tr>\n",
       "    <tr>\n",
       "      <th>Poverty incidence</th>\n",
       "      <th>pov_head</th>\n",
       "      <td>0.059952</td>\n",
       "      <td>0.638095</td>\n",
       "      <td>0.54902</td>\n",
       "      <td>0.696078</td>\n",
       "      <td>0.441441</td>\n",
       "    </tr>\n",
       "    <tr>\n",
       "      <th>Average income in the province</th>\n",
       "      <th>gdp_pc_pp</th>\n",
       "      <td>4989.18</td>\n",
       "      <td>2036.39</td>\n",
       "      <td>2050.99</td>\n",
       "      <td>2213.46</td>\n",
       "      <td>2545.16</td>\n",
       "    </tr>\n",
       "    <tr>\n",
       "      <th>National GDP per capita</th>\n",
       "      <th>gdp_pc_pp_nat</th>\n",
       "      <td>3692.17</td>\n",
       "      <td>3692.17</td>\n",
       "      <td>3692.17</td>\n",
       "      <td>3692.17</td>\n",
       "      <td>3692.17</td>\n",
       "    </tr>\n",
       "    <tr>\n",
       "      <th>Social protection for poor people</th>\n",
       "      <th>social_p</th>\n",
       "      <td>0.132861</td>\n",
       "      <td>0.108244</td>\n",
       "      <td>0.130566</td>\n",
       "      <td>0.0653126</td>\n",
       "      <td>0.0747878</td>\n",
       "    </tr>\n",
       "    <tr>\n",
       "      <th>Social protection for non-poor people</th>\n",
       "      <th>social_r</th>\n",
       "      <td>0.132861</td>\n",
       "      <td>0.108244</td>\n",
       "      <td>0.130566</td>\n",
       "      <td>0.0653126</td>\n",
       "      <td>0.0747878</td>\n",
       "    </tr>\n",
       "    <tr>\n",
       "      <th>Asset vulnerability (poor people)</th>\n",
       "      <th>v_p</th>\n",
       "      <td>0.0333333</td>\n",
       "      <td>0.0725124</td>\n",
       "      <td>0.047619</td>\n",
       "      <td>0.0361502</td>\n",
       "      <td>0.111589</td>\n",
       "    </tr>\n",
       "    <tr>\n",
       "      <th>Asset vulnerability (non-poor people)</th>\n",
       "      <th>v_r</th>\n",
       "      <td>0.0333333</td>\n",
       "      <td>0.0333333</td>\n",
       "      <td>0.0333333</td>\n",
       "      <td>0.0333333</td>\n",
       "      <td>0.0333333</td>\n",
       "    </tr>\n",
       "    <tr>\n",
       "      <th>Access to early warning for poor people</th>\n",
       "      <th>shewp</th>\n",
       "      <td>0.901679</td>\n",
       "      <td>0.742857</td>\n",
       "      <td>0.891089</td>\n",
       "      <td>0.9</td>\n",
       "      <td>0.881818</td>\n",
       "    </tr>\n",
       "    <tr>\n",
       "      <th>Access to early warning for nonpoor people</th>\n",
       "      <th>shewr</th>\n",
       "      <td>0.901679</td>\n",
       "      <td>0.742857</td>\n",
       "      <td>0.891089</td>\n",
       "      <td>0.9</td>\n",
       "      <td>0.881818</td>\n",
       "    </tr>\n",
       "    <tr>\n",
       "      <th>Exposure, poor people</th>\n",
       "      <th>fap</th>\n",
       "      <td>0.488716</td>\n",
       "      <td>0.17807</td>\n",
       "      <td>0.220177</td>\n",
       "      <td>0.19498</td>\n",
       "      <td>0.257135</td>\n",
       "    </tr>\n",
       "    <tr>\n",
       "      <th>Exposure, non-poor people</th>\n",
       "      <th>far</th>\n",
       "      <td>0.442421</td>\n",
       "      <td>0.134254</td>\n",
       "      <td>0.176701</td>\n",
       "      <td>0.13785</td>\n",
       "      <td>0.216141</td>\n",
       "    </tr>\n",
       "    <tr>\n",
       "      <th>Hazard (protection)</th>\n",
       "      <th>protection</th>\n",
       "      <td>8.52966</td>\n",
       "      <td>6.61381</td>\n",
       "      <td>7.62919</td>\n",
       "      <td>6.50645</td>\n",
       "      <td>7.2691</td>\n",
       "    </tr>\n",
       "    <tr>\n",
       "      <th>Productivity of capital</th>\n",
       "      <th>avg_prod_k</th>\n",
       "      <td>0.2697</td>\n",
       "      <td>0.2697</td>\n",
       "      <td>0.2697</td>\n",
       "      <td>0.2697</td>\n",
       "      <td>0.2697</td>\n",
       "    </tr>\n",
       "    <tr>\n",
       "      <th>Time to reconstruct</th>\n",
       "      <th>T_rebuild_K</th>\n",
       "      <td>3</td>\n",
       "      <td>3</td>\n",
       "      <td>3</td>\n",
       "      <td>3</td>\n",
       "      <td>3</td>\n",
       "    </tr>\n",
       "    <tr>\n",
       "      <th>Avoided losses with early warning</th>\n",
       "      <th>pi</th>\n",
       "      <td>0.2</td>\n",
       "      <td>0.2</td>\n",
       "      <td>0.2</td>\n",
       "      <td>0.2</td>\n",
       "      <td>0.2</td>\n",
       "    </tr>\n",
       "    <tr>\n",
       "      <th>Effective scale up for non-poor people</th>\n",
       "      <th>sigma_r</th>\n",
       "      <td>0</td>\n",
       "      <td>0</td>\n",
       "      <td>0</td>\n",
       "      <td>0</td>\n",
       "      <td>0</td>\n",
       "    </tr>\n",
       "    <tr>\n",
       "      <th>Effective scale up for poor people</th>\n",
       "      <th>sigma_p</th>\n",
       "      <td>0</td>\n",
       "      <td>0</td>\n",
       "      <td>0</td>\n",
       "      <td>0</td>\n",
       "      <td>0</td>\n",
       "    </tr>\n",
       "    <tr>\n",
       "      <th>Elasticity of utility</th>\n",
       "      <th>income_elast</th>\n",
       "      <td>1.5</td>\n",
       "      <td>1.5</td>\n",
       "      <td>1.5</td>\n",
       "      <td>1.5</td>\n",
       "      <td>1.5</td>\n",
       "    </tr>\n",
       "    <tr>\n",
       "      <th>Discount rate</th>\n",
       "      <th>rho</th>\n",
       "      <td>0.05</td>\n",
       "      <td>0.05</td>\n",
       "      <td>0.05</td>\n",
       "      <td>0.05</td>\n",
       "      <td>0.05</td>\n",
       "    </tr>\n",
       "  </tbody>\n",
       "</table>\n",
       "</div>"
      ],
      "text/plain": [
       "province                                                     Ha Noi  \\\n",
       "description                                variable                   \n",
       "Population                                 pop              6698811   \n",
       " Average income of poor families           cp               601.836   \n",
       " Average income of non poor families       cr               5268.98   \n",
       "Poverty incidence                          pov_head        0.059952   \n",
       " Average income in the province            gdp_pc_pp        4989.18   \n",
       "National GDP per capita                    gdp_pc_pp_nat    3692.17   \n",
       "Social protection for poor people          social_p        0.132861   \n",
       "Social protection for non-poor people      social_r        0.132861   \n",
       "Asset vulnerability (poor people)          v_p            0.0333333   \n",
       "Asset vulnerability (non-poor people)      v_r            0.0333333   \n",
       "Access to early warning for poor people    shewp           0.901679   \n",
       "Access to early warning for nonpoor people shewr           0.901679   \n",
       "Exposure, poor people                      fap             0.488716   \n",
       "Exposure, non-poor people                  far             0.442421   \n",
       " Hazard (protection)                       protection       8.52966   \n",
       "Productivity of capital                    avg_prod_k        0.2697   \n",
       "Time to reconstruct                        T_rebuild_K            3   \n",
       "Avoided losses with early warning          pi                   0.2   \n",
       "Effective scale up for non-poor people     sigma_r                0   \n",
       "Effective scale up for poor people         sigma_p                0   \n",
       "Elasticity of utility                      income_elast         1.5   \n",
       "Discount rate                              rho                 0.05   \n",
       "\n",
       "province                                                   Ha Giang  \\\n",
       "description                                variable                   \n",
       "Population                                 pop               774681   \n",
       " Average income of poor families           cp               245.646   \n",
       " Average income of non poor families       cr               5193.76   \n",
       "Poverty incidence                          pov_head        0.638095   \n",
       " Average income in the province            gdp_pc_pp        2036.39   \n",
       "National GDP per capita                    gdp_pc_pp_nat    3692.17   \n",
       "Social protection for poor people          social_p        0.108244   \n",
       "Social protection for non-poor people      social_r        0.108244   \n",
       "Asset vulnerability (poor people)          v_p            0.0725124   \n",
       "Asset vulnerability (non-poor people)      v_r            0.0333333   \n",
       "Access to early warning for poor people    shewp           0.742857   \n",
       "Access to early warning for nonpoor people shewr           0.742857   \n",
       "Exposure, poor people                      fap              0.17807   \n",
       "Exposure, non-poor people                  far             0.134254   \n",
       " Hazard (protection)                       protection       6.61381   \n",
       "Productivity of capital                    avg_prod_k        0.2697   \n",
       "Time to reconstruct                        T_rebuild_K            3   \n",
       "Avoided losses with early warning          pi                   0.2   \n",
       "Effective scale up for non-poor people     sigma_r                0   \n",
       "Effective scale up for poor people         sigma_p                0   \n",
       "Elasticity of utility                      income_elast         1.5   \n",
       "Discount rate                              rho                 0.05   \n",
       "\n",
       "province                                                   Cao Bang  \\\n",
       "description                                variable                   \n",
       "Population                                 pop               540048   \n",
       " Average income of poor families           cp               247.408   \n",
       " Average income of non poor families       cr               4246.67   \n",
       "Poverty incidence                          pov_head         0.54902   \n",
       " Average income in the province            gdp_pc_pp        2050.99   \n",
       "National GDP per capita                    gdp_pc_pp_nat    3692.17   \n",
       "Social protection for poor people          social_p        0.130566   \n",
       "Social protection for non-poor people      social_r        0.130566   \n",
       "Asset vulnerability (poor people)          v_p             0.047619   \n",
       "Asset vulnerability (non-poor people)      v_r            0.0333333   \n",
       "Access to early warning for poor people    shewp           0.891089   \n",
       "Access to early warning for nonpoor people shewr           0.891089   \n",
       "Exposure, poor people                      fap             0.220177   \n",
       "Exposure, non-poor people                  far             0.176701   \n",
       " Hazard (protection)                       protection       7.62919   \n",
       "Productivity of capital                    avg_prod_k        0.2697   \n",
       "Time to reconstruct                        T_rebuild_K            3   \n",
       "Avoided losses with early warning          pi                   0.2   \n",
       "Effective scale up for non-poor people     sigma_r                0   \n",
       "Effective scale up for poor people         sigma_p                0   \n",
       "Elasticity of utility                      income_elast         1.5   \n",
       "Discount rate                              rho                 0.05   \n",
       "\n",
       "province                                                    Bac Kan  \\\n",
       "description                                variable                   \n",
       "Population                                 pop               311681   \n",
       " Average income of poor families           cp               267.006   \n",
       " Average income of non poor families       cr               6671.46   \n",
       "Poverty incidence                          pov_head        0.696078   \n",
       " Average income in the province            gdp_pc_pp        2213.46   \n",
       "National GDP per capita                    gdp_pc_pp_nat    3692.17   \n",
       "Social protection for poor people          social_p       0.0653126   \n",
       "Social protection for non-poor people      social_r       0.0653126   \n",
       "Asset vulnerability (poor people)          v_p            0.0361502   \n",
       "Asset vulnerability (non-poor people)      v_r            0.0333333   \n",
       "Access to early warning for poor people    shewp                0.9   \n",
       "Access to early warning for nonpoor people shewr                0.9   \n",
       "Exposure, poor people                      fap              0.19498   \n",
       "Exposure, non-poor people                  far              0.13785   \n",
       " Hazard (protection)                       protection       6.50645   \n",
       "Productivity of capital                    avg_prod_k        0.2697   \n",
       "Time to reconstruct                        T_rebuild_K            3   \n",
       "Avoided losses with early warning          pi                   0.2   \n",
       "Effective scale up for non-poor people     sigma_r                0   \n",
       "Effective scale up for poor people         sigma_p                0   \n",
       "Elasticity of utility                      income_elast         1.5   \n",
       "Discount rate                              rho                 0.05   \n",
       "\n",
       "province                                                 Tuyen Quang  \n",
       "description                                variable                   \n",
       "Population                                 pop                772231  \n",
       " Average income of poor families           cp                307.018  \n",
       " Average income of non poor families       cr                4314.01  \n",
       "Poverty incidence                          pov_head         0.441441  \n",
       " Average income in the province            gdp_pc_pp         2545.16  \n",
       "National GDP per capita                    gdp_pc_pp_nat     3692.17  \n",
       "Social protection for poor people          social_p        0.0747878  \n",
       "Social protection for non-poor people      social_r        0.0747878  \n",
       "Asset vulnerability (poor people)          v_p              0.111589  \n",
       "Asset vulnerability (non-poor people)      v_r             0.0333333  \n",
       "Access to early warning for poor people    shewp            0.881818  \n",
       "Access to early warning for nonpoor people shewr            0.881818  \n",
       "Exposure, poor people                      fap              0.257135  \n",
       "Exposure, non-poor people                  far              0.216141  \n",
       " Hazard (protection)                       protection         7.2691  \n",
       "Productivity of capital                    avg_prod_k         0.2697  \n",
       "Time to reconstruct                        T_rebuild_K             3  \n",
       "Avoided losses with early warning          pi                    0.2  \n",
       "Effective scale up for non-poor people     sigma_r                 0  \n",
       "Effective scale up for poor people         sigma_p                 0  \n",
       "Elasticity of utility                      income_elast          1.5  \n",
       "Discount rate                              rho                  0.05  "
      ]
     },
     "execution_count": 40,
     "metadata": {},
     "output_type": "execute_result"
    }
   ],
   "source": [
    "df_to_export = df.copy()\n",
    "df_to_export.ix[\"description\"]= description\n",
    "data=df_to_export.T.reset_index().set_index([\"description\",\"index\"]).T\n",
    "data.columns.names = ['description', 'variable']\n",
    "data.head().T #displays the first few provinces, transposed for ease of reading."
   ]
  },
  {
   "cell_type": "markdown",
   "metadata": {},
   "source": [
    "# Saves the data"
   ]
  },
  {
   "cell_type": "code",
   "execution_count": 41,
   "metadata": {
    "ExecuteTime": {
     "end_time": "2016-03-01T17:08:41.323464",
     "start_time": "2016-03-01T17:08:40.828098"
    },
    "collapsed": false,
    "run_control": {
     "frozen": false,
     "read_only": false
    }
   },
   "outputs": [],
   "source": [
    "#saves the data\n",
    "data.to_excel(\"inputs/all_data_compiled.xlsx\")"
   ]
  },
  {
   "cell_type": "markdown",
   "metadata": {},
   "source": [
    "**That's it, we have built an excel file with all our data!**\n",
    "To see how to use this data with the resilience model, go to [socio_economic_capacity_demo.ipynb](socio_economic_capacity_demo.ipynb)\n",
    "\n",
    "\n",
    "\n",
    " "
   ]
  },
  {
   "cell_type": "markdown",
   "metadata": {},
   "source": [
    "## Multi-hazard data"
   ]
  },
  {
   "cell_type": "code",
   "execution_count": 42,
   "metadata": {
    "collapsed": false,
    "run_control": {
     "frozen": false,
     "read_only": false
    }
   },
   "outputs": [],
   "source": [
    "# dfm.to_csv(\"inputs/multi_hazard_data.csv\")"
   ]
  },
  {
   "cell_type": "markdown",
   "metadata": {},
   "source": [
    "# Report missing data by province"
   ]
  },
  {
   "cell_type": "markdown",
   "metadata": {},
   "source": [
    "This code builds a table reporting missing data points for each province"
   ]
  },
  {
   "cell_type": "code",
   "execution_count": 43,
   "metadata": {
    "ExecuteTime": {
     "end_time": "2016-03-01T17:08:41.324464",
     "start_time": "2016-03-01T22:08:38.906Z"
    },
    "collapsed": false,
    "run_control": {
     "frozen": false,
     "read_only": false
    }
   },
   "outputs": [
    {
     "data": {
      "text/html": [
       "<div>\n",
       "<table border=\"1\" class=\"dataframe\">\n",
       "  <thead>\n",
       "    <tr style=\"text-align: right;\">\n",
       "      <th></th>\n",
       "      <th>nb_missing</th>\n",
       "      <th>missing_data</th>\n",
       "    </tr>\n",
       "    <tr>\n",
       "      <th>province</th>\n",
       "      <th></th>\n",
       "      <th></th>\n",
       "    </tr>\n",
       "  </thead>\n",
       "  <tbody>\n",
       "  </tbody>\n",
       "</table>\n",
       "</div>"
      ],
      "text/plain": [
       "Empty DataFrame\n",
       "Columns: [nb_missing, missing_data]\n",
       "Index: []"
      ]
     },
     "execution_count": 43,
     "metadata": {},
     "output_type": "execute_result"
    }
   ],
   "source": [
    "def write_missing_data(s):\n",
    "    which = s[s.isnull()].index.values\n",
    "    return \", \".join(which)\n",
    "\n",
    "def count_missing_data(s):\n",
    "    return s.isnull().sum()\n",
    "\n",
    "report = pd.DataFrame()\n",
    "\n",
    "report[\"nb_missing\"]=df.apply(count_missing_data,axis=1)  \n",
    "report[\"missing_data\"]=df.apply(write_missing_data,axis=1)\n",
    "\n",
    "report  = report.ix[report[\"nb_missing\"]>0,:]\n",
    "report.sort_values(by=\"nb_missing\",inplace=True)\n",
    "report.to_csv(\"inputs/missing_data_report.csv\")\n",
    "\n",
    "report"
   ]
  },
  {
   "cell_type": "code",
   "execution_count": 44,
   "metadata": {
    "collapsed": false,
    "run_control": {
     "frozen": false,
     "read_only": false
    }
   },
   "outputs": [
    {
     "data": {
      "text/plain": [
       "<matplotlib.axes._subplots.AxesSubplot at 0x9af6320>"
      ]
     },
     "execution_count": 44,
     "metadata": {},
     "output_type": "execute_result"
    },
    {
     "data": {
      "image/png": "[encoded data removed]",
      "text/plain": [
       "<matplotlib.figure.Figure at 0x100a9e8>"
      ]
     },
     "metadata": {},
     "output_type": "display_data"
    }
   ],
   "source": [
    "df.plot.scatter(x=\"gdp_pc_pp\",y=\"protection\")"
   ]
  },
  {
   "cell_type": "code",
   "execution_count": 45,
   "metadata": {
    "collapsed": false,
    "run_control": {
     "frozen": false,
     "read_only": false
    }
   },
   "outputs": [],
   "source": [
    "df.protection.sort_values(ascending=False);"
   ]
  },
  {
   "cell_type": "code",
   "execution_count": null,
   "metadata": {
    "collapsed": true,
    "run_control": {
     "frozen": false,
     "read_only": false
    }
   },
   "outputs": [],
   "source": []
  },
  {
   "cell_type": "code",
   "execution_count": null,
   "metadata": {
    "collapsed": true,
    "run_control": {
     "frozen": false,
     "read_only": false
    }
   },
   "outputs": [],
   "source": []
  },
  {
   "cell_type": "code",
   "execution_count": null,
   "metadata": {
    "collapsed": true
   },
   "outputs": [],
   "source": []
  }
 ],
 "metadata": {
  "kernelspec": {
   "display_name": "Python 3",
   "language": "python",
   "name": "python3"
  },
  "language_info": {
   "codemirror_mode": {
    "name": "ipython",
    "version": 3
   },
   "file_extension": ".py",
   "mimetype": "text/x-python",
   "name": "python",
   "nbconvert_exporter": "python",
   "pygments_lexer": "ipython3",
   "version": "3.4.4"
  },
  "nav_menu": {},
  "toc": {
   "navigate_menu": true,
   "number_sections": true,
   "sideBar": true,
   "threshold": 6,
   "toc_cell": false,
   "toc_section_display": "block",
   "toc_window_display": true
  },
  "toc_position": {
   "height": "626px",
   "left": "0px",
   "right": "1388px",
   "top": "107px",
   "width": "212px"
  }
 },
 "nbformat": 4,
 "nbformat_minor": 0
}
