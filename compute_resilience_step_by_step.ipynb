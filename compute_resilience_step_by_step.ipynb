{
 "cells": [
  {
   "cell_type": "markdown",
   "metadata": {},
   "source": [
    "**THIS FILE IS OUT OF DATE**. It will be updated shortly."
   ]
  },
  {
   "cell_type": "code",
   "execution_count": null,
   "metadata": {
    "collapsed": true
   },
   "outputs": [],
   "source": []
  },
  {
   "cell_type": "code",
   "execution_count": 1,
   "metadata": {
    "collapsed": true
   },
   "outputs": [],
   "source": [
    "import numpy as np\n",
    "import pandas as pd"
   ]
  },
  {
   "cell_type": "code",
   "execution_count": 2,
   "metadata": {
    "collapsed": false
   },
   "outputs": [],
   "source": [
    "from res_ind_lib import *"
   ]
  },
  {
   "cell_type": "markdown",
   "metadata": {},
   "source": [
    "# Load the data"
   ]
  },
  {
   "cell_type": "code",
   "execution_count": 3,
   "metadata": {
    "collapsed": false,
    "scrolled": true
   },
   "outputs": [
    {
     "data": {
      "text/html": [
       "<div>\n",
       "<table border=\"1\" class=\"dataframe\">\n",
       "  <thead>\n",
       "    <tr style=\"text-align: right;\">\n",
       "      <th></th>\n",
       "      <th>gdp_pc_pp</th>\n",
       "      <th>pop</th>\n",
       "      <th>pov_head</th>\n",
       "      <th>shew</th>\n",
       "      <th>gdp_pc_pp_nat</th>\n",
       "      <th>rel_gdp_pp</th>\n",
       "      <th>share1</th>\n",
       "      <th>national_pop</th>\n",
       "      <th>axfin_p</th>\n",
       "      <th>axfin_r</th>\n",
       "      <th>...</th>\n",
       "      <th>T_rebuild_K</th>\n",
       "      <th>pi</th>\n",
       "      <th>nat_buyout</th>\n",
       "      <th>sigma_r</th>\n",
       "      <th>sigma_p</th>\n",
       "      <th>income_elast</th>\n",
       "      <th>rho</th>\n",
       "      <th>protectionref</th>\n",
       "      <th>gdp_pc_pp_ref</th>\n",
       "      <th>v_s</th>\n",
       "    </tr>\n",
       "    <tr>\n",
       "      <th>province</th>\n",
       "      <th></th>\n",
       "      <th></th>\n",
       "      <th></th>\n",
       "      <th></th>\n",
       "      <th></th>\n",
       "      <th></th>\n",
       "      <th></th>\n",
       "      <th></th>\n",
       "      <th></th>\n",
       "      <th></th>\n",
       "      <th></th>\n",
       "      <th></th>\n",
       "      <th></th>\n",
       "      <th></th>\n",
       "      <th></th>\n",
       "      <th></th>\n",
       "      <th></th>\n",
       "      <th></th>\n",
       "      <th></th>\n",
       "      <th></th>\n",
       "      <th></th>\n",
       "    </tr>\n",
       "  </thead>\n",
       "  <tbody>\n",
       "    <tr>\n",
       "      <th>Abra</th>\n",
       "      <td>31.622466</td>\n",
       "      <td>240135.244121</td>\n",
       "      <td>0.373595</td>\n",
       "      <td>0.953416</td>\n",
       "      <td>42.034627</td>\n",
       "      <td>0.752296</td>\n",
       "      <td>0.509132</td>\n",
       "      <td>83650215.459496</td>\n",
       "      <td>0.693233</td>\n",
       "      <td>0.693233</td>\n",
       "      <td>...</td>\n",
       "      <td>3</td>\n",
       "      <td>0.2</td>\n",
       "      <td>0.3</td>\n",
       "      <td>0</td>\n",
       "      <td>0</td>\n",
       "      <td>1.5</td>\n",
       "      <td>0.05</td>\n",
       "      <td>10.57</td>\n",
       "      <td>31.622466</td>\n",
       "      <td>0.100000</td>\n",
       "    </tr>\n",
       "    <tr>\n",
       "      <th>Agusan Del Norte</th>\n",
       "      <td>43.726667</td>\n",
       "      <td>661728.454375</td>\n",
       "      <td>0.346715</td>\n",
       "      <td>0.821277</td>\n",
       "      <td>42.034627</td>\n",
       "      <td>1.040253</td>\n",
       "      <td>0.368196</td>\n",
       "      <td>83650215.459496</td>\n",
       "      <td>0.496880</td>\n",
       "      <td>0.496880</td>\n",
       "      <td>...</td>\n",
       "      <td>3</td>\n",
       "      <td>0.2</td>\n",
       "      <td>0.3</td>\n",
       "      <td>0</td>\n",
       "      <td>0</td>\n",
       "      <td>1.5</td>\n",
       "      <td>0.05</td>\n",
       "      <td>9.41</td>\n",
       "      <td>43.726667</td>\n",
       "      <td>0.100000</td>\n",
       "    </tr>\n",
       "    <tr>\n",
       "      <th>Agusan Del Sur</th>\n",
       "      <td>30.897436</td>\n",
       "      <td>677779.682154</td>\n",
       "      <td>0.480785</td>\n",
       "      <td>0.821277</td>\n",
       "      <td>42.034627</td>\n",
       "      <td>0.735047</td>\n",
       "      <td>0.521079</td>\n",
       "      <td>83650215.459496</td>\n",
       "      <td>0.475969</td>\n",
       "      <td>0.475969</td>\n",
       "      <td>...</td>\n",
       "      <td>3</td>\n",
       "      <td>0.2</td>\n",
       "      <td>0.3</td>\n",
       "      <td>0</td>\n",
       "      <td>0</td>\n",
       "      <td>1.5</td>\n",
       "      <td>0.05</td>\n",
       "      <td>8.61</td>\n",
       "      <td>30.897436</td>\n",
       "      <td>0.100000</td>\n",
       "    </tr>\n",
       "    <tr>\n",
       "      <th>Aklan</th>\n",
       "      <td>30.515652</td>\n",
       "      <td>554414.442422</td>\n",
       "      <td>0.249662</td>\n",
       "      <td>0.823003</td>\n",
       "      <td>42.034627</td>\n",
       "      <td>0.725965</td>\n",
       "      <td>0.527598</td>\n",
       "      <td>83650215.459496</td>\n",
       "      <td>0.660083</td>\n",
       "      <td>0.660083</td>\n",
       "      <td>...</td>\n",
       "      <td>3</td>\n",
       "      <td>0.2</td>\n",
       "      <td>0.3</td>\n",
       "      <td>0</td>\n",
       "      <td>0</td>\n",
       "      <td>1.5</td>\n",
       "      <td>0.05</td>\n",
       "      <td>2.00</td>\n",
       "      <td>30.515652</td>\n",
       "      <td>0.135089</td>\n",
       "    </tr>\n",
       "    <tr>\n",
       "      <th>Albay</th>\n",
       "      <td>33.793313</td>\n",
       "      <td>1264097.894966</td>\n",
       "      <td>0.409587</td>\n",
       "      <td>0.800000</td>\n",
       "      <td>42.034627</td>\n",
       "      <td>0.803940</td>\n",
       "      <td>0.476426</td>\n",
       "      <td>83650215.459496</td>\n",
       "      <td>0.551314</td>\n",
       "      <td>0.551314</td>\n",
       "      <td>...</td>\n",
       "      <td>3</td>\n",
       "      <td>0.2</td>\n",
       "      <td>0.3</td>\n",
       "      <td>0</td>\n",
       "      <td>0</td>\n",
       "      <td>1.5</td>\n",
       "      <td>0.05</td>\n",
       "      <td>2.00</td>\n",
       "      <td>33.793313</td>\n",
       "      <td>0.100000</td>\n",
       "    </tr>\n",
       "  </tbody>\n",
       "</table>\n",
       "<p>5 rows × 28 columns</p>\n",
       "</div>"
      ],
      "text/plain": [
       "                  gdp_pc_pp             pop  pov_head      shew  \\\n",
       "province                                                          \n",
       "Abra              31.622466   240135.244121  0.373595  0.953416   \n",
       "Agusan Del Norte  43.726667   661728.454375  0.346715  0.821277   \n",
       "Agusan Del Sur    30.897436   677779.682154  0.480785  0.821277   \n",
       "Aklan             30.515652   554414.442422  0.249662  0.823003   \n",
       "Albay             33.793313  1264097.894966  0.409587  0.800000   \n",
       "\n",
       "                  gdp_pc_pp_nat  rel_gdp_pp    share1     national_pop  \\\n",
       "province                                                                 \n",
       "Abra                  42.034627    0.752296  0.509132  83650215.459496   \n",
       "Agusan Del Norte      42.034627    1.040253  0.368196  83650215.459496   \n",
       "Agusan Del Sur        42.034627    0.735047  0.521079  83650215.459496   \n",
       "Aklan                 42.034627    0.725965  0.527598  83650215.459496   \n",
       "Albay                 42.034627    0.803940  0.476426  83650215.459496   \n",
       "\n",
       "                   axfin_p   axfin_r    ...     T_rebuild_K   pi  nat_buyout  \\\n",
       "province                                ...                                    \n",
       "Abra              0.693233  0.693233    ...               3  0.2         0.3   \n",
       "Agusan Del Norte  0.496880  0.496880    ...               3  0.2         0.3   \n",
       "Agusan Del Sur    0.475969  0.475969    ...               3  0.2         0.3   \n",
       "Aklan             0.660083  0.660083    ...               3  0.2         0.3   \n",
       "Albay             0.551314  0.551314    ...               3  0.2         0.3   \n",
       "\n",
       "                  sigma_r  sigma_p  income_elast   rho  protectionref  \\\n",
       "province                                                                \n",
       "Abra                    0        0           1.5  0.05          10.57   \n",
       "Agusan Del Norte        0        0           1.5  0.05           9.41   \n",
       "Agusan Del Sur          0        0           1.5  0.05           8.61   \n",
       "Aklan                   0        0           1.5  0.05           2.00   \n",
       "Albay                   0        0           1.5  0.05           2.00   \n",
       "\n",
       "                  gdp_pc_pp_ref       v_s  \n",
       "province                                   \n",
       "Abra                  31.622466  0.100000  \n",
       "Agusan Del Norte      43.726667  0.100000  \n",
       "Agusan Del Sur        30.897436  0.100000  \n",
       "Aklan                 30.515652  0.135089  \n",
       "Albay                 33.793313  0.100000  \n",
       "\n",
       "[5 rows x 28 columns]"
      ]
     },
     "execution_count": 3,
     "metadata": {},
     "output_type": "execute_result"
    }
   ],
   "source": [
    "#Load the excel data file into a dataframe (table)\n",
    "df=pd.read_excel(\"inputs/all_data_compiled.xlsx\", \n",
    "                 index_col=0, #tells Pandas to use the first column (Provinces) as the index of the table\n",
    "                 skiprows=[0, 2] #The first (0) row is a description of the variables and the 3rd (2) row is empty. We skip them\n",
    "                ) \n",
    "df.index.name=\"province\" #rename the index to \"province\" for clarity\n",
    "\n",
    "df = def_ref_values(df).dropna()\n",
    "\n",
    "#Displays the first rows of that dataframe\n",
    "df.head()"
   ]
  },
  {
   "cell_type": "markdown",
   "metadata": {},
   "source": [
    " # Define all parameters and variables"
   ]
  },
  {
   "cell_type": "markdown",
   "metadata": {},
   "source": [
    "## Description of inequalities"
   ]
  },
  {
   "cell_type": "code",
   "execution_count": 4,
   "metadata": {
    "collapsed": false
   },
   "outputs": [],
   "source": [
    "#proportion of poor people (poverty incidence)\n",
    "ph = df[\"pov_head\"]\n",
    "\n",
    "#income in the province\n",
    "gdp_pc_pp = df[\"rel_gdp_pp\"] * df[\"gdp_pc_pp_nat\"] \n",
    "gdp_pc_pp.head()\n",
    "\n",
    "#consumption levels for poor and non-poor\n",
    "cp=   df[\"share1\"] *gdp_pc_pp\n",
    "cr=  (1 - df[\"pov_head\"]*df[\"share1\"])/(1-df[\"pov_head\"]) *gdp_pc_pp"
   ]
  },
  {
   "cell_type": "markdown",
   "metadata": {
    "collapsed": true
   },
   "source": [
    "## Exposure"
   ]
  },
  {
   "cell_type": "code",
   "execution_count": 5,
   "metadata": {
    "collapsed": false
   },
   "outputs": [],
   "source": [
    "#exposure for poor and nonpoor\n",
    "fap =df[\"fap\"]\n",
    "far =df[\"far\"]"
   ]
  },
  {
   "cell_type": "markdown",
   "metadata": {
    "collapsed": false
   },
   "source": [
    "## Vulnerability"
   ]
  },
  {
   "cell_type": "code",
   "execution_count": 6,
   "metadata": {
    "collapsed": false
   },
   "outputs": [],
   "source": [
    "#early-warning-adjusted vulnerability: access to early warning and reactivity to early warnings reduce the effective vulnerability\n",
    "vp = df[\"v_p\"]*(1-df[\"pi\"]*df[\"shew\"])\n",
    "vr = df[\"v_r\"]*(1-df[\"pi\"]*df[\"shew\"])"
   ]
  },
  {
   "cell_type": "code",
   "execution_count": 7,
   "metadata": {
    "collapsed": false
   },
   "outputs": [],
   "source": [
    "#losses shared within the province: this value is used to scale down transfers\n",
    "v_shared = df[\"v_s\"] *(1-df[\"pi\"]*df[\"shew\"]) "
   ]
  },
  {
   "cell_type": "markdown",
   "metadata": {},
   "source": [
    "## Ex-post support"
   ]
  },
  {
   "cell_type": "markdown",
   "metadata": {},
   "source": [
    "![](img/scale_up.png)"
   ]
  },
  {
   "cell_type": "code",
   "execution_count": 8,
   "metadata": {
    "collapsed": false
   },
   "outputs": [],
   "source": [
    "#fraction of losses shared taking into account diversification lambda and scaleup of diversified income sigma\n",
    "tot_p=1-(1-df[\"social_p\"])*(1-df[\"sigma_p\"])\n",
    "tot_r=1-(1-df[\"social_r\"])*(1-df[\"sigma_r\"])\n"
   ]
  },
  {
   "cell_type": "markdown",
   "metadata": {},
   "source": [
    "## Link between asset losses and discounted consumption losses"
   ]
  },
  {
   "cell_type": "markdown",
   "metadata": {},
   "source": [
    "We define $\\Gamma$, the ratio of discounted consumption losses to asset to losses.\n",
    "The calculus of $\\Gamma$ depends on the given a discount rate $\\rho$ and the time $N$ it taks to rebuild 95% of asset losses, and takes into account that some consumption  has to be diverted for reconstruction."
   ]
  },
  {
   "cell_type": "markdown",
   "metadata": {},
   "source": [
    "![](img/reconstruction.png)"
   ]
  },
  {
   "cell_type": "markdown",
   "metadata": {},
   "source": [
    "Note the two extreme cases:\n",
    "- As $N$ tends toward zero, $\\Gamma$ tends to 1: consumption losses equal asset losses.\n",
    "- As $N$ tends toward the infinity (no reconstruction), $\\Gamma$ tends to $\\mu/\\rho$.\n"
   ]
  },
  {
   "cell_type": "code",
   "execution_count": 9,
   "metadata": {
    "collapsed": false
   },
   "outputs": [
    {
     "data": {
      "text/plain": [
       "province\n",
       "Abra                1.171429\n",
       "Agusan Del Norte    1.171429\n",
       "Agusan Del Sur      1.171429\n",
       "Aklan               1.171429\n",
       "Albay               1.171429\n",
       "dtype: float64"
      ]
     },
     "execution_count": 9,
     "metadata": {},
     "output_type": "execute_result"
    }
   ],
   "source": [
    "#time it takes to rebuild the damaged asset\n",
    "N= df[\"T_rebuild_K\"]\n",
    "\n",
    "#discount rate\n",
    "rho = df[\"rho\"]\n",
    "\n",
    "#productivity of capital\n",
    "mu= df[\"avg_prod_k\"]\n",
    "\n",
    "# Link between immediate and discounted losses\n",
    "gamma =(mu +3/N)/(rho+3/N) \n",
    "gamma.head()"
   ]
  },
  {
   "cell_type": "markdown",
   "metadata": {},
   "source": [
    "## From consumption losses to welfare losses"
   ]
  },
  {
   "cell_type": "markdown",
   "metadata": {},
   "source": [
    "This parameter determines the concavity of the utility function"
   ]
  },
  {
   "cell_type": "code",
   "execution_count": 10,
   "metadata": {
    "collapsed": false
   },
   "outputs": [
    {
     "data": {
      "text/plain": [
       "province\n",
       "Abra                1.5\n",
       "Agusan Del Norte    1.5\n",
       "Agusan Del Sur      1.5\n",
       "Aklan               1.5\n",
       "Albay               1.5\n",
       "Name: income_elast, dtype: float64"
      ]
     },
     "execution_count": 10,
     "metadata": {},
     "output_type": "execute_result"
    }
   ],
   "source": [
    "#Eta\n",
    "elast=  df[\"income_elast\"]\n",
    "elast.head()"
   ]
  },
  {
   "cell_type": "markdown",
   "metadata": {},
   "source": [
    "# Compute asset losses dK and welfare losses dW\n",
    "The following function computes the average asset losses per person in the event of a disaster (dK), and the average welfare losses in the event of a disaster (dW). "
   ]
  },
  {
   "cell_type": "code",
   "execution_count": 11,
   "metadata": {
    "collapsed": false
   },
   "outputs": [],
   "source": [
    "#Welfare losses \n",
    "delta_W,dK,dcap,dcar =calc_delta_welfare(ph,fap,far,vp,vr,v_shared,cp,cr,tot_p,tot_r,mu,gamma,rho,elast)\n",
    "\n"
   ]
  },
  {
   "cell_type": "markdown",
   "metadata": {},
   "source": [
    "In the following we look at how this function works, step by step."
   ]
  },
  {
   "cell_type": "markdown",
   "metadata": {},
   "source": [
    "# calc_delta_welfare"
   ]
  },
  {
   "cell_type": "code",
   "execution_count": 12,
   "metadata": {
    "collapsed": false
   },
   "outputs": [],
   "source": [
    "# fractions of people non-poor/poor affected/non affected over total pop\n",
    "\n",
    "#poor\n",
    "nap= ph*fap #directly affected\n",
    "nnp=ph*(1-fap ) #not directly affected\n",
    "\n",
    "#nonpoor\n",
    "nar=(1-ph)*far\n",
    "nnr=(1-ph)*(1-far)"
   ]
  },
  {
   "cell_type": "code",
   "execution_count": 13,
   "metadata": {
    "collapsed": false
   },
   "outputs": [],
   "source": [
    "#capital estimate from consumption and productivity\n",
    "kp = cp/mu\n",
    "kr = cr/mu"
   ]
  },
  {
   "cell_type": "code",
   "execution_count": 14,
   "metadata": {
    "collapsed": false
   },
   "outputs": [],
   "source": [
    "#total capital losses\n",
    "dK = kp*vp*fap*ph+\\\n",
    "     kr*vr*far*(1-ph)"
   ]
  },
  {
   "cell_type": "code",
   "execution_count": 15,
   "metadata": {
    "collapsed": false
   },
   "outputs": [],
   "source": [
    "# current consumption losses per category of population\n",
    "d_cur_cnp=fap*v_shared *tot_p *kp    #among population not directly affected by the disaster\n",
    "d_cur_cnr=far*v_shared *tot_r *kr\n",
    "d_cur_cap=vp*(1-tot_p)*kp + d_cur_cnp # among population directly affected by the disaster \n",
    "d_cur_car=vr*(1-tot_r)*kr + d_cur_cnr"
   ]
  },
  {
   "cell_type": "code",
   "execution_count": 16,
   "metadata": {
    "collapsed": true
   },
   "outputs": [],
   "source": [
    "#losses in NPV after reconstruction \n",
    "d_npv_cnp= gamma*d_cur_cnp    #among population not directly affected by the disaster\n",
    "d_npv_cnr= gamma*d_cur_cnr\n",
    "d_npv_cap= gamma*d_cur_cap    #among population directly affected by the disaster \n",
    "d_npv_car= gamma*d_cur_car"
   ]
  },
  {
   "cell_type": "code",
   "execution_count": 17,
   "metadata": {
    "collapsed": false
   },
   "outputs": [],
   "source": [
    "#welfare before the disaster. We assume wefare depends on discounted  consumption flux\n",
    "Wpre =ph* welf(cp/rho,elast) + (1-ph)*welf(cr/rho,elast)\n",
    "\n",
    "# welfare after the disaster\n",
    "Wpost=  nap*welf(cp/rho-d_npv_cap,elast) + \\\n",
    "        nnp*welf(cp/rho-d_npv_cnp,elast) + \\\n",
    "        nar*welf(cr/rho-d_npv_car,elast) + \\\n",
    "        nnr*welf(cr/rho-d_npv_cnr,elast)\n",
    "\n",
    "#welfare losses\n",
    "delta_W =Wpre -Wpost \n",
    "\n"
   ]
  },
  {
   "cell_type": "code",
   "execution_count": 19,
   "metadata": {
    "collapsed": true
   },
   "outputs": [],
   "source": [
    "df[\"delta_W\"]=delta_W\n",
    "df[\"dK\"]=dK"
   ]
  },
  {
   "cell_type": "markdown",
   "metadata": {},
   "source": [
    "# calc_risk_and_resilience_from_k_w"
   ]
  },
  {
   "cell_type": "code",
   "execution_count": 21,
   "metadata": {
    "collapsed": false
   },
   "outputs": [
    {
     "data": {
      "text/html": [
       "<div>\n",
       "<table border=\"1\" class=\"dataframe\">\n",
       "  <thead>\n",
       "    <tr style=\"text-align: right;\">\n",
       "      <th></th>\n",
       "      <th>risk</th>\n",
       "      <th>resilience</th>\n",
       "    </tr>\n",
       "    <tr>\n",
       "      <th>province</th>\n",
       "      <th></th>\n",
       "      <th></th>\n",
       "    </tr>\n",
       "  </thead>\n",
       "  <tbody>\n",
       "    <tr>\n",
       "      <th>Abra</th>\n",
       "      <td>0.012783</td>\n",
       "      <td>0.457644</td>\n",
       "    </tr>\n",
       "    <tr>\n",
       "      <th>Agusan Del Norte</th>\n",
       "      <td>0.031242</td>\n",
       "      <td>0.525445</td>\n",
       "    </tr>\n",
       "    <tr>\n",
       "      <th>Agusan Del Sur</th>\n",
       "      <td>0.018650</td>\n",
       "      <td>0.384153</td>\n",
       "    </tr>\n",
       "    <tr>\n",
       "      <th>Aklan</th>\n",
       "      <td>0.000000</td>\n",
       "      <td>NaN</td>\n",
       "    </tr>\n",
       "    <tr>\n",
       "      <th>Albay</th>\n",
       "      <td>0.000000</td>\n",
       "      <td>NaN</td>\n",
       "    </tr>\n",
       "  </tbody>\n",
       "</table>\n",
       "</div>"
      ],
      "text/plain": [
       "                      risk  resilience\n",
       "province                              \n",
       "Abra              0.012783    0.457644\n",
       "Agusan Del Norte  0.031242    0.525445\n",
       "Agusan Del Sur    0.018650    0.384153\n",
       "Aklan             0.000000         NaN\n",
       "Albay             0.000000         NaN"
      ]
     },
     "execution_count": 21,
     "metadata": {},
     "output_type": "execute_result"
    }
   ],
   "source": [
    "calc_risk_and_resilience_from_k_w(df)[[\"risk\",\"resilience\"]].head()"
   ]
  },
  {
   "cell_type": "code",
   "execution_count": 29,
   "metadata": {
    "collapsed": false
   },
   "outputs": [],
   "source": [
    "#To express welfare losses in currenncy, we use the W'(c)\n",
    "h=1e-4\n",
    "wprime =(welf(df[\"gdp_pc_pp_nat\"]/rho+h,df[\"income_elast\"])-welf(df[\"gdp_pc_pp_nat\"]/rho-h,df[\"income_elast\"]))/(2*h)\n",
    "\n",
    "#reference losses\n",
    "dWref   = wprime*df[\"dK\"]"
   ]
  },
  {
   "cell_type": "code",
   "execution_count": 30,
   "metadata": {
    "collapsed": false
   },
   "outputs": [
    {
     "data": {
      "text/plain": [
       "province\n",
       "Abra                0.404221\n",
       "Agusan Del Norte    1.366094\n",
       "Agusan Del Sur      0.576242\n",
       "Aklan               0.000000\n",
       "Albay               0.000000\n",
       "Name: dWpc_curency, dtype: float64"
      ]
     },
     "execution_count": 30,
     "metadata": {},
     "output_type": "execute_result"
    }
   ],
   "source": [
    "#expected welfare losses per capita, epxressed in currency\n",
    "df[\"dWpc_curency\"] =  (dW)/wprime /df[\"protection\"]\n",
    "df[\"dWpc_curency\"].head()"
   ]
  },
  {
   "cell_type": "code",
   "execution_count": 31,
   "metadata": {
    "collapsed": false
   },
   "outputs": [
    {
     "data": {
      "text/plain": [
       "province\n",
       "Abra                0.012783\n",
       "Agusan Del Norte    0.031242\n",
       "Agusan Del Sur      0.018650\n",
       "Aklan               0.000000\n",
       "Albay               0.000000\n",
       "Name: risk, dtype: float64"
      ]
     },
     "execution_count": 31,
     "metadata": {},
     "output_type": "execute_result"
    }
   ],
   "source": [
    "#risk to wellbeing as a fraction of GDP\n",
    "df[\"risk\"]= df[\"dWpc_curency\"]/(df[\"gdp_pc_pp_ref\"])  \n",
    "df[\"risk\"].head()"
   ]
  },
  {
   "cell_type": "code",
   "execution_count": 32,
   "metadata": {
    "collapsed": false
   },
   "outputs": [
    {
     "data": {
      "text/plain": [
       "province\n",
       "Abra                 97067.669262\n",
       "Agusan Del Norte    903982.977995\n",
       "Agusan Del Sur      390565.404291\n",
       "Aklan                    0.000000\n",
       "Albay                    0.000000\n",
       "Name: dWtot_currency, dtype: float64"
      ]
     },
     "execution_count": 32,
     "metadata": {},
     "output_type": "execute_result"
    }
   ],
   "source": [
    "#total expected welfare losses due to disaster\n",
    "df[\"dWtot_currency\"]=df[\"dWpc_curency\"]*df[\"pop\"] \n",
    "df[\"dWtot_currency\"].head()"
   ]
  },
  {
   "cell_type": "code",
   "execution_count": 35,
   "metadata": {
    "collapsed": false
   },
   "outputs": [
    {
     "data": {
      "text/plain": [
       "province\n",
       "Abra                0.457644\n",
       "Agusan Del Norte    0.525445\n",
       "Agusan Del Sur      0.384153\n",
       "Aklan                    NaN\n",
       "Albay                    NaN\n",
       "Name: resilience, dtype: float64"
      ]
     },
     "execution_count": 35,
     "metadata": {},
     "output_type": "execute_result"
    }
   ],
   "source": [
    "#SOCIO-ECONOMIC CAPACITY (Resilience)\n",
    "df[\"resilience\"]=dWref/(df[\"delta_W\"] );\n",
    "df[\"resilience\"].head()"
   ]
  },
  {
   "cell_type": "code",
   "execution_count": 36,
   "metadata": {
    "collapsed": false
   },
   "outputs": [
    {
     "data": {
      "text/plain": [
       "province\n",
       "Abra                0.005850\n",
       "Agusan Del Norte    0.016416\n",
       "Agusan Del Sur      0.007165\n",
       "Aklan                    NaN\n",
       "Albay                    NaN\n",
       "Name: risk_to_assets, dtype: float64"
      ]
     },
     "execution_count": 36,
     "metadata": {},
     "output_type": "execute_result"
    }
   ],
   "source": [
    "#RISK TO ASSETS\n",
    "df[\"risk_to_assets\"]  =df.resilience* df.risk\n",
    "df[\"risk_to_assets\"].head()"
   ]
  },
  {
   "cell_type": "code",
   "execution_count": null,
   "metadata": {
    "collapsed": true
   },
   "outputs": [],
   "source": []
  },
  {
   "cell_type": "code",
   "execution_count": null,
   "metadata": {
    "collapsed": true
   },
   "outputs": [],
   "source": []
  }
 ],
 "metadata": {
  "kernelspec": {
   "display_name": "Python 3",
   "language": "python",
   "name": "python3"
  },
  "language_info": {
   "codemirror_mode": {
    "name": "ipython",
    "version": 3
   },
   "file_extension": ".py",
   "mimetype": "text/x-python",
   "name": "python",
   "nbconvert_exporter": "python",
   "pygments_lexer": "ipython3",
   "version": "3.4.4"
  },
  "toc": {
   "toc_cell": false,
   "toc_number_sections": true,
   "toc_threshold": 6,
   "toc_window_display": false
  }
 },
 "nbformat": 4,
 "nbformat_minor": 0
}
