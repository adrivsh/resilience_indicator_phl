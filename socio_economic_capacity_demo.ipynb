{
 "cells": [
  {
   "cell_type": "code",
   "execution_count": 1,
   "metadata": {
    "collapsed": false
   },
   "outputs": [],
   "source": [
    "%reset-f\n",
    "%load_ext autoreload\n",
    "%autoreload 2"
   ]
  },
  {
   "cell_type": "markdown",
   "metadata": {},
   "source": [
    "This notebook demonstrates the usage of the resilience/socio-economic capacity model."
   ]
  },
  {
   "cell_type": "markdown",
   "metadata": {},
   "source": [
    "# Loading functions"
   ]
  },
  {
   "cell_type": "markdown",
   "metadata": {},
   "source": [
    "We first import function librairies. The first ones are standard python librairies."
   ]
  },
  {
   "cell_type": "code",
   "execution_count": 2,
   "metadata": {
    "ExecuteTime": {
     "end_time": "2016-03-01T17:17:53.864183",
     "start_time": "2016-03-01T17:17:53.033410"
    },
    "collapsed": true
   },
   "outputs": [],
   "source": [
    "#The main library we use. Manipulates Excel-like tables (called dataframes) with named rows and columns\n",
    "import pandas as pd "
   ]
  },
  {
   "cell_type": "code",
   "execution_count": 3,
   "metadata": {
    "ExecuteTime": {
     "end_time": "2016-03-01T17:17:54.317508",
     "start_time": "2016-03-01T17:17:53.867185"
    },
    "code_folding": [],
    "collapsed": false
   },
   "outputs": [],
   "source": [
    "#ploting capacities\n",
    "import matplotlib.pyplot as plt \n",
    "#make plots appear in this notebook\n",
    "%matplotlib inline  \n",
    "\n",
    "#Default options for plots: this controls the font used in figures\n",
    "font = {'family' : 'sans serif',\n",
    "    'size'   : 18}\n",
    "plt.rc('font', **font)\n"
   ]
  },
  {
   "cell_type": "markdown",
   "metadata": {},
   "source": [
    "# Loading and exploring the data"
   ]
  },
  {
   "cell_type": "markdown",
   "metadata": {},
   "source": [
    "Here we read the data set we need into a pandas table (called DataFrame).\n",
    "This specific dataset was put together from a variety of different sources using another python notebook: [data_gathering_demo.ipynb](data_gathering_demo.ipynb). In the future we could build directly an excel file with all the data the model needs."
   ]
  },
  {
   "cell_type": "markdown",
   "metadata": {},
   "source": [
    "## General data"
   ]
  },
  {
   "cell_type": "code",
   "execution_count": 4,
   "metadata": {
    "collapsed": false
   },
   "outputs": [
    {
     "data": {
      "text/html": [
       "<div>\n",
       "<table border=\"1\" class=\"dataframe\">\n",
       "  <thead>\n",
       "    <tr style=\"text-align: right;\">\n",
       "      <th></th>\n",
       "      <th>description</th>\n",
       "      <th>Average income in the province</th>\n",
       "      <th>Population</th>\n",
       "      <th>Poverty incidence</th>\n",
       "      <th>Access to early warning</th>\n",
       "      <th>National GDP per capita</th>\n",
       "      <th>Average income of the province</th>\n",
       "      <th>Relative income of poor families</th>\n",
       "      <th>Access to finance for poor people</th>\n",
       "      <th>Access to finance for non-poor people</th>\n",
       "      <th>...</th>\n",
       "      <th>Asset vulnerability (non-poor people)</th>\n",
       "      <th>Hazard (protection)</th>\n",
       "      <th>Productivity of capital</th>\n",
       "      <th>Time to reconstruct</th>\n",
       "      <th>Avoided losses with early warning</th>\n",
       "      <th>Risk transferred nationally</th>\n",
       "      <th>Effective scale up for non-poor people</th>\n",
       "      <th>Effective scale up for poor people</th>\n",
       "      <th>Elasticity of utility</th>\n",
       "      <th>Discount rate</th>\n",
       "    </tr>\n",
       "  </thead>\n",
       "  <tbody>\n",
       "    <tr>\n",
       "      <th>0</th>\n",
       "      <td>variable</td>\n",
       "      <td>gdp_pc_pp</td>\n",
       "      <td>pop</td>\n",
       "      <td>pov_head</td>\n",
       "      <td>shew</td>\n",
       "      <td>gdp_pc_pp_nat</td>\n",
       "      <td>rel_gdp_pp</td>\n",
       "      <td>share1</td>\n",
       "      <td>axfin_p</td>\n",
       "      <td>axfin_r</td>\n",
       "      <td>...</td>\n",
       "      <td>v_r</td>\n",
       "      <td>protection</td>\n",
       "      <td>avg_prod_k</td>\n",
       "      <td>T_rebuild_K</td>\n",
       "      <td>pi</td>\n",
       "      <td>nat_buyout</td>\n",
       "      <td>sigma_r</td>\n",
       "      <td>sigma_p</td>\n",
       "      <td>income_elast</td>\n",
       "      <td>rho</td>\n",
       "    </tr>\n",
       "    <tr>\n",
       "      <th>1</th>\n",
       "      <td>province</td>\n",
       "      <td>NaN</td>\n",
       "      <td>NaN</td>\n",
       "      <td>NaN</td>\n",
       "      <td>NaN</td>\n",
       "      <td>NaN</td>\n",
       "      <td>NaN</td>\n",
       "      <td>NaN</td>\n",
       "      <td>NaN</td>\n",
       "      <td>NaN</td>\n",
       "      <td>...</td>\n",
       "      <td>NaN</td>\n",
       "      <td>NaN</td>\n",
       "      <td>NaN</td>\n",
       "      <td>NaN</td>\n",
       "      <td>NaN</td>\n",
       "      <td>NaN</td>\n",
       "      <td>NaN</td>\n",
       "      <td>NaN</td>\n",
       "      <td>NaN</td>\n",
       "      <td>NaN</td>\n",
       "    </tr>\n",
       "    <tr>\n",
       "      <th>2</th>\n",
       "      <td>Abra</td>\n",
       "      <td>133.688</td>\n",
       "      <td>240135</td>\n",
       "      <td>0.373595</td>\n",
       "      <td>0.953416</td>\n",
       "      <td>184.137</td>\n",
       "      <td>0.726026</td>\n",
       "      <td>0.374005</td>\n",
       "      <td>0.693233</td>\n",
       "      <td>0.693233</td>\n",
       "      <td>...</td>\n",
       "      <td>0.1</td>\n",
       "      <td>10.57</td>\n",
       "      <td>0.23</td>\n",
       "      <td>3</td>\n",
       "      <td>0.2</td>\n",
       "      <td>0.3</td>\n",
       "      <td>0.333333</td>\n",
       "      <td>0.333333</td>\n",
       "      <td>1.5</td>\n",
       "      <td>0.05</td>\n",
       "    </tr>\n",
       "    <tr>\n",
       "      <th>3</th>\n",
       "      <td>Agusan Del Norte</td>\n",
       "      <td>179.014</td>\n",
       "      <td>661728</td>\n",
       "      <td>0.346715</td>\n",
       "      <td>0.821277</td>\n",
       "      <td>184.137</td>\n",
       "      <td>0.97218</td>\n",
       "      <td>0.279308</td>\n",
       "      <td>0.49688</td>\n",
       "      <td>0.49688</td>\n",
       "      <td>...</td>\n",
       "      <td>0.1</td>\n",
       "      <td>9.41</td>\n",
       "      <td>0.23</td>\n",
       "      <td>3</td>\n",
       "      <td>0.2</td>\n",
       "      <td>0.3</td>\n",
       "      <td>0.333333</td>\n",
       "      <td>0.333333</td>\n",
       "      <td>1.5</td>\n",
       "      <td>0.05</td>\n",
       "    </tr>\n",
       "    <tr>\n",
       "      <th>4</th>\n",
       "      <td>Agusan Del Sur</td>\n",
       "      <td>126.492</td>\n",
       "      <td>677780</td>\n",
       "      <td>0.480785</td>\n",
       "      <td>0.821277</td>\n",
       "      <td>184.137</td>\n",
       "      <td>0.686946</td>\n",
       "      <td>0.395282</td>\n",
       "      <td>0.475969</td>\n",
       "      <td>0.475969</td>\n",
       "      <td>...</td>\n",
       "      <td>0.1</td>\n",
       "      <td>8.61</td>\n",
       "      <td>0.23</td>\n",
       "      <td>3</td>\n",
       "      <td>0.2</td>\n",
       "      <td>0.3</td>\n",
       "      <td>0.333333</td>\n",
       "      <td>0.333333</td>\n",
       "      <td>1.5</td>\n",
       "      <td>0.05</td>\n",
       "    </tr>\n",
       "  </tbody>\n",
       "</table>\n",
       "<p>5 rows × 25 columns</p>\n",
       "</div>"
      ],
      "text/plain": [
       "        description  Average income in the province Population  \\\n",
       "0          variable                       gdp_pc_pp        pop   \n",
       "1          province                             NaN        NaN   \n",
       "2              Abra                         133.688     240135   \n",
       "3  Agusan Del Norte                         179.014     661728   \n",
       "4    Agusan Del Sur                         126.492     677780   \n",
       "\n",
       "  Poverty incidence Access to early warning National GDP per capita  \\\n",
       "0          pov_head                    shew           gdp_pc_pp_nat   \n",
       "1               NaN                     NaN                     NaN   \n",
       "2          0.373595                0.953416                 184.137   \n",
       "3          0.346715                0.821277                 184.137   \n",
       "4          0.480785                0.821277                 184.137   \n",
       "\n",
       "   Average income of the province Relative income of poor families  \\\n",
       "0                      rel_gdp_pp                           share1   \n",
       "1                             NaN                              NaN   \n",
       "2                        0.726026                         0.374005   \n",
       "3                         0.97218                         0.279308   \n",
       "4                        0.686946                         0.395282   \n",
       "\n",
       "  Access to finance for poor people Access to finance for non-poor people  \\\n",
       "0                           axfin_p                               axfin_r   \n",
       "1                               NaN                                   NaN   \n",
       "2                          0.693233                              0.693233   \n",
       "3                           0.49688                               0.49688   \n",
       "4                          0.475969                              0.475969   \n",
       "\n",
       "       ...      Asset vulnerability (non-poor people)  Hazard (protection)  \\\n",
       "0      ...                                        v_r           protection   \n",
       "1      ...                                        NaN                  NaN   \n",
       "2      ...                                        0.1                10.57   \n",
       "3      ...                                        0.1                 9.41   \n",
       "4      ...                                        0.1                 8.61   \n",
       "\n",
       "  Productivity of capital Time to reconstruct  \\\n",
       "0              avg_prod_k         T_rebuild_K   \n",
       "1                     NaN                 NaN   \n",
       "2                    0.23                   3   \n",
       "3                    0.23                   3   \n",
       "4                    0.23                   3   \n",
       "\n",
       "  Avoided losses with early warning Risk transferred nationally  \\\n",
       "0                                pi                  nat_buyout   \n",
       "1                               NaN                         NaN   \n",
       "2                               0.2                         0.3   \n",
       "3                               0.2                         0.3   \n",
       "4                               0.2                         0.3   \n",
       "\n",
       "  Effective scale up for non-poor people Effective scale up for poor people  \\\n",
       "0                                sigma_r                            sigma_p   \n",
       "1                                    NaN                                NaN   \n",
       "2                               0.333333                           0.333333   \n",
       "3                               0.333333                           0.333333   \n",
       "4                               0.333333                           0.333333   \n",
       "\n",
       "  Elasticity of utility Discount rate  \n",
       "0          income_elast           rho  \n",
       "1                   NaN           NaN  \n",
       "2                   1.5          0.05  \n",
       "3                   1.5          0.05  \n",
       "4                   1.5          0.05  \n",
       "\n",
       "[5 rows x 25 columns]"
      ]
     },
     "execution_count": 4,
     "metadata": {},
     "output_type": "execute_result"
    }
   ],
   "source": [
    " #Let's first have a look at the Excel file\n",
    "pd.read_excel(\"inputs/all_data_compiled.xlsx\").head()"
   ]
  },
  {
   "cell_type": "markdown",
   "metadata": {},
   "source": [
    "We see that the Excel files starts with one line of description, the second line is that actual variable name in the model, and the third line is empty. We also see that the first column is the name of each province, which we will use to index the data."
   ]
  },
  {
   "cell_type": "code",
   "execution_count": 5,
   "metadata": {
    "ExecuteTime": {
     "end_time": "2016-03-01T17:17:54.448613",
     "start_time": "2016-03-01T17:17:54.319509"
    },
    "collapsed": false
   },
   "outputs": [
    {
     "data": {
      "text/html": [
       "<div>\n",
       "<table border=\"1\" class=\"dataframe\">\n",
       "  <thead>\n",
       "    <tr style=\"text-align: right;\">\n",
       "      <th></th>\n",
       "      <th>gdp_pc_pp</th>\n",
       "      <th>pop</th>\n",
       "      <th>pov_head</th>\n",
       "      <th>shew</th>\n",
       "      <th>gdp_pc_pp_nat</th>\n",
       "      <th>rel_gdp_pp</th>\n",
       "      <th>share1</th>\n",
       "      <th>axfin_p</th>\n",
       "      <th>axfin_r</th>\n",
       "      <th>social_p</th>\n",
       "      <th>...</th>\n",
       "      <th>v_r</th>\n",
       "      <th>protection</th>\n",
       "      <th>avg_prod_k</th>\n",
       "      <th>T_rebuild_K</th>\n",
       "      <th>pi</th>\n",
       "      <th>nat_buyout</th>\n",
       "      <th>sigma_r</th>\n",
       "      <th>sigma_p</th>\n",
       "      <th>income_elast</th>\n",
       "      <th>rho</th>\n",
       "    </tr>\n",
       "    <tr>\n",
       "      <th>province</th>\n",
       "      <th></th>\n",
       "      <th></th>\n",
       "      <th></th>\n",
       "      <th></th>\n",
       "      <th></th>\n",
       "      <th></th>\n",
       "      <th></th>\n",
       "      <th></th>\n",
       "      <th></th>\n",
       "      <th></th>\n",
       "      <th></th>\n",
       "      <th></th>\n",
       "      <th></th>\n",
       "      <th></th>\n",
       "      <th></th>\n",
       "      <th></th>\n",
       "      <th></th>\n",
       "      <th></th>\n",
       "      <th></th>\n",
       "      <th></th>\n",
       "      <th></th>\n",
       "    </tr>\n",
       "  </thead>\n",
       "  <tbody>\n",
       "    <tr>\n",
       "      <th>Abra</th>\n",
       "      <td>133.688</td>\n",
       "      <td>240135.244121</td>\n",
       "      <td>0.373595</td>\n",
       "      <td>0.953416</td>\n",
       "      <td>184.136685</td>\n",
       "      <td>0.726026</td>\n",
       "      <td>0.374005</td>\n",
       "      <td>0.693233</td>\n",
       "      <td>0.693233</td>\n",
       "      <td>0.408683</td>\n",
       "      <td>...</td>\n",
       "      <td>0.100000</td>\n",
       "      <td>10.57</td>\n",
       "      <td>0.23</td>\n",
       "      <td>3</td>\n",
       "      <td>0.2</td>\n",
       "      <td>0.3</td>\n",
       "      <td>0.333333</td>\n",
       "      <td>0.333333</td>\n",
       "      <td>1.5</td>\n",
       "      <td>0.05</td>\n",
       "    </tr>\n",
       "    <tr>\n",
       "      <th>Agusan Del Norte</th>\n",
       "      <td>179.014</td>\n",
       "      <td>661728.454375</td>\n",
       "      <td>0.346715</td>\n",
       "      <td>0.821277</td>\n",
       "      <td>184.136685</td>\n",
       "      <td>0.972180</td>\n",
       "      <td>0.279308</td>\n",
       "      <td>0.496880</td>\n",
       "      <td>0.496880</td>\n",
       "      <td>0.388003</td>\n",
       "      <td>...</td>\n",
       "      <td>0.100000</td>\n",
       "      <td>9.41</td>\n",
       "      <td>0.23</td>\n",
       "      <td>3</td>\n",
       "      <td>0.2</td>\n",
       "      <td>0.3</td>\n",
       "      <td>0.333333</td>\n",
       "      <td>0.333333</td>\n",
       "      <td>1.5</td>\n",
       "      <td>0.05</td>\n",
       "    </tr>\n",
       "    <tr>\n",
       "      <th>Agusan Del Sur</th>\n",
       "      <td>126.492</td>\n",
       "      <td>677779.682154</td>\n",
       "      <td>0.480785</td>\n",
       "      <td>0.821277</td>\n",
       "      <td>184.136685</td>\n",
       "      <td>0.686946</td>\n",
       "      <td>0.395282</td>\n",
       "      <td>0.475969</td>\n",
       "      <td>0.475969</td>\n",
       "      <td>0.388003</td>\n",
       "      <td>...</td>\n",
       "      <td>0.100000</td>\n",
       "      <td>8.61</td>\n",
       "      <td>0.23</td>\n",
       "      <td>3</td>\n",
       "      <td>0.2</td>\n",
       "      <td>0.3</td>\n",
       "      <td>0.333333</td>\n",
       "      <td>0.333333</td>\n",
       "      <td>1.5</td>\n",
       "      <td>0.05</td>\n",
       "    </tr>\n",
       "    <tr>\n",
       "      <th>Aklan</th>\n",
       "      <td>119.962</td>\n",
       "      <td>554414.442422</td>\n",
       "      <td>0.249662</td>\n",
       "      <td>0.823003</td>\n",
       "      <td>184.136685</td>\n",
       "      <td>0.651483</td>\n",
       "      <td>0.416799</td>\n",
       "      <td>0.660083</td>\n",
       "      <td>0.660083</td>\n",
       "      <td>0.432903</td>\n",
       "      <td>...</td>\n",
       "      <td>0.135089</td>\n",
       "      <td>2.00</td>\n",
       "      <td>0.23</td>\n",
       "      <td>3</td>\n",
       "      <td>0.2</td>\n",
       "      <td>0.3</td>\n",
       "      <td>0.333333</td>\n",
       "      <td>0.333333</td>\n",
       "      <td>1.5</td>\n",
       "      <td>0.05</td>\n",
       "    </tr>\n",
       "    <tr>\n",
       "      <th>Albay</th>\n",
       "      <td>158.629</td>\n",
       "      <td>1264097.894966</td>\n",
       "      <td>0.409587</td>\n",
       "      <td>0.800000</td>\n",
       "      <td>184.136685</td>\n",
       "      <td>0.861474</td>\n",
       "      <td>0.315201</td>\n",
       "      <td>0.551314</td>\n",
       "      <td>0.551314</td>\n",
       "      <td>0.403794</td>\n",
       "      <td>...</td>\n",
       "      <td>0.100000</td>\n",
       "      <td>2.00</td>\n",
       "      <td>0.23</td>\n",
       "      <td>3</td>\n",
       "      <td>0.2</td>\n",
       "      <td>0.3</td>\n",
       "      <td>0.333333</td>\n",
       "      <td>0.333333</td>\n",
       "      <td>1.5</td>\n",
       "      <td>0.05</td>\n",
       "    </tr>\n",
       "  </tbody>\n",
       "</table>\n",
       "<p>5 rows × 24 columns</p>\n",
       "</div>"
      ],
      "text/plain": [
       "                  gdp_pc_pp             pop  pov_head      shew  \\\n",
       "province                                                          \n",
       "Abra                133.688   240135.244121  0.373595  0.953416   \n",
       "Agusan Del Norte    179.014   661728.454375  0.346715  0.821277   \n",
       "Agusan Del Sur      126.492   677779.682154  0.480785  0.821277   \n",
       "Aklan               119.962   554414.442422  0.249662  0.823003   \n",
       "Albay               158.629  1264097.894966  0.409587  0.800000   \n",
       "\n",
       "                  gdp_pc_pp_nat  rel_gdp_pp    share1   axfin_p   axfin_r  \\\n",
       "province                                                                    \n",
       "Abra                 184.136685    0.726026  0.374005  0.693233  0.693233   \n",
       "Agusan Del Norte     184.136685    0.972180  0.279308  0.496880  0.496880   \n",
       "Agusan Del Sur       184.136685    0.686946  0.395282  0.475969  0.475969   \n",
       "Aklan                184.136685    0.651483  0.416799  0.660083  0.660083   \n",
       "Albay                184.136685    0.861474  0.315201  0.551314  0.551314   \n",
       "\n",
       "                  social_p  ...        v_r  protection  avg_prod_k  \\\n",
       "province                    ...                                      \n",
       "Abra              0.408683  ...   0.100000       10.57        0.23   \n",
       "Agusan Del Norte  0.388003  ...   0.100000        9.41        0.23   \n",
       "Agusan Del Sur    0.388003  ...   0.100000        8.61        0.23   \n",
       "Aklan             0.432903  ...   0.135089        2.00        0.23   \n",
       "Albay             0.403794  ...   0.100000        2.00        0.23   \n",
       "\n",
       "                  T_rebuild_K   pi  nat_buyout   sigma_r   sigma_p  \\\n",
       "province                                                             \n",
       "Abra                        3  0.2         0.3  0.333333  0.333333   \n",
       "Agusan Del Norte            3  0.2         0.3  0.333333  0.333333   \n",
       "Agusan Del Sur              3  0.2         0.3  0.333333  0.333333   \n",
       "Aklan                       3  0.2         0.3  0.333333  0.333333   \n",
       "Albay                       3  0.2         0.3  0.333333  0.333333   \n",
       "\n",
       "                  income_elast   rho  \n",
       "province                              \n",
       "Abra                       1.5  0.05  \n",
       "Agusan Del Norte           1.5  0.05  \n",
       "Agusan Del Sur             1.5  0.05  \n",
       "Aklan                      1.5  0.05  \n",
       "Albay                      1.5  0.05  \n",
       "\n",
       "[5 rows x 24 columns]"
      ]
     },
     "execution_count": 5,
     "metadata": {},
     "output_type": "execute_result"
    }
   ],
   "source": [
    "#Load the excel data file into a dataframe (table)\n",
    "df=pd.read_excel(\"inputs/all_data_compiled.xlsx\", \n",
    "                 index_col=0, #tells Pandas to use the first column (Provinces) as the index of the table\n",
    "                 skiprows=[0, 2] #The first (0) row is a description of the variables and the 3rd (2) row is empty. We skip them\n",
    "                ) \n",
    "df.index.name=\"province\" #rename the index to \"province\" for clarity\n",
    "#Displays the first rows of that dataframe\n",
    "df.head()"
   ]
  },
  {
   "cell_type": "markdown",
   "metadata": {},
   "source": [
    "The columns names correspond to variables in the resilience assessment model, so they are not all self-explanatory. For a description of the variables, see above, or clic on [inputs/inputs_info.csv](inputs/inputs_info.csv)"
   ]
  },
  {
   "cell_type": "markdown",
   "metadata": {},
   "source": [
    "Let's get familiar with Dataframes. Here is how to look at specific rows or columns."
   ]
  },
  {
   "cell_type": "code",
   "execution_count": 6,
   "metadata": {
    "ExecuteTime": {
     "end_time": "2016-03-01T17:17:54.458620",
     "start_time": "2016-03-01T17:17:54.451615"
    },
    "collapsed": false
   },
   "outputs": [
    {
     "data": {
      "text/plain": [
       "gdp_pc_pp           133.688000\n",
       "pop              240135.244121\n",
       "pov_head              0.373595\n",
       "shew                  0.953416\n",
       "gdp_pc_pp_nat       184.136685\n",
       "Name: Abra, dtype: float64"
      ]
     },
     "execution_count": 6,
     "metadata": {},
     "output_type": "execute_result"
    }
   ],
   "source": [
    "df.ix[\"Abra\"].head() #all the data we have on Abra. The head() method returns only the first few lines for saving space"
   ]
  },
  {
   "cell_type": "code",
   "execution_count": 7,
   "metadata": {
    "ExecuteTime": {
     "end_time": "2016-03-01T17:17:54.470629",
     "start_time": "2016-03-01T17:17:54.460621"
    },
    "collapsed": false
   },
   "outputs": [
    {
     "data": {
      "text/plain": [
       "province\n",
       "Abra                 240135.244121\n",
       "Agusan Del Norte     661728.454375\n",
       "Agusan Del Sur       677779.682154\n",
       "Aklan                554414.442422\n",
       "Albay               1264097.894966\n",
       "Name: pop, dtype: float64"
      ]
     },
     "execution_count": 7,
     "metadata": {},
     "output_type": "execute_result"
    }
   ],
   "source": [
    "df[\"pop\"].head() #population in all provinces"
   ]
  },
  {
   "cell_type": "markdown",
   "metadata": {},
   "source": [
    "Rather than displaying the numbers, we can plot them in a few ways. Here is the distribution of income accross provinces"
   ]
  },
  {
   "cell_type": "code",
   "execution_count": 8,
   "metadata": {
    "ExecuteTime": {
     "end_time": "2016-03-01T17:17:55.205164",
     "start_time": "2016-03-01T17:17:54.473631"
    },
    "collapsed": false
   },
   "outputs": [
    {
     "data": {
      "image/png": "[encoded data removed]",
      "text/plain": [
       "<matplotlib.figure.Figure at 0x8d7f160>"
      ]
     },
     "metadata": {},
     "output_type": "display_data"
    }
   ],
   "source": [
    "df.gdp_pc_pp.plot.hist(figsize=(7,7))\n",
    "plt.xlabel(\"Average income in the province ($\\\\times$1000 pesos)\");"
   ]
  },
  {
   "cell_type": "markdown",
   "metadata": {},
   "source": [
    "And below is a scatter plot showing average income, poverty incidence, and size (population) of each province"
   ]
  },
  {
   "cell_type": "code",
   "execution_count": 9,
   "metadata": {
    "ExecuteTime": {
     "end_time": "2016-03-01T17:17:55.537467",
     "start_time": "2016-03-01T17:17:55.209167"
    },
    "collapsed": false
   },
   "outputs": [
    {
     "data": {
      "image/png": "[encoded data removed]",
      "text/plain": [
       "<matplotlib.figure.Figure at 0x8edfe10>"
      ]
     },
     "metadata": {},
     "output_type": "display_data"
    }
   ],
   "source": [
    "df.plot.scatter(x=\"gdp_pc_pp\", y=\"pov_head\", s=df[\"pop\"]/1e4, alpha=0.5, figsize=(7,7))\n",
    "plt.xlabel(\"Average income\")\n",
    "plt.ylabel(\"Poverty incidence\")\n",
    "plt.ylim(0);"
   ]
  },
  {
   "cell_type": "markdown",
   "metadata": {},
   "source": [
    "## Multi hazard data"
   ]
  },
  {
   "cell_type": "markdown",
   "metadata": {},
   "source": [
    "The model can also handle data for different hazards. Here we have estimates of exposure of poor and nonpoor people to hazard and river floods in some provinces of the Philippines. "
   ]
  },
  {
   "cell_type": "code",
   "execution_count": 10,
   "metadata": {
    "collapsed": false
   },
   "outputs": [
    {
     "data": {
      "text/html": [
       "<div>\n",
       "<table border=\"1\" class=\"dataframe\">\n",
       "  <thead>\n",
       "    <tr style=\"text-align: right;\">\n",
       "      <th></th>\n",
       "      <th></th>\n",
       "      <th>fap</th>\n",
       "      <th>far</th>\n",
       "    </tr>\n",
       "    <tr>\n",
       "      <th>province</th>\n",
       "      <th>hazard</th>\n",
       "      <th></th>\n",
       "      <th></th>\n",
       "    </tr>\n",
       "  </thead>\n",
       "  <tbody>\n",
       "    <tr>\n",
       "      <th rowspan=\"2\" valign=\"top\">Abra</th>\n",
       "      <th>coast</th>\n",
       "      <td>0.000000</td>\n",
       "      <td>0.000000</td>\n",
       "    </tr>\n",
       "    <tr>\n",
       "      <th>river</th>\n",
       "      <td>0.188715</td>\n",
       "      <td>0.149419</td>\n",
       "    </tr>\n",
       "    <tr>\n",
       "      <th rowspan=\"2\" valign=\"top\">Agusan Del Norte</th>\n",
       "      <th>coast</th>\n",
       "      <td>0.114415</td>\n",
       "      <td>0.091571</td>\n",
       "    </tr>\n",
       "    <tr>\n",
       "      <th>river</th>\n",
       "      <td>0.365700</td>\n",
       "      <td>0.292684</td>\n",
       "    </tr>\n",
       "    <tr>\n",
       "      <th>Agusan Del Sur</th>\n",
       "      <th>coast</th>\n",
       "      <td>0.011681</td>\n",
       "      <td>0.008747</td>\n",
       "    </tr>\n",
       "  </tbody>\n",
       "</table>\n",
       "</div>"
      ],
      "text/plain": [
       "                              fap       far\n",
       "province         hazard                    \n",
       "Abra             coast   0.000000  0.000000\n",
       "                 river   0.188715  0.149419\n",
       "Agusan Del Norte coast   0.114415  0.091571\n",
       "                 river   0.365700  0.292684\n",
       "Agusan Del Sur   coast   0.011681  0.008747"
      ]
     },
     "execution_count": 10,
     "metadata": {},
     "output_type": "execute_result"
    }
   ],
   "source": [
    "multihazard_info = pd.read_csv(\"inputs/multi_hazard_data.csv\", index_col=[\"province\",\"hazard\"])\n",
    "multihazard_info.head()"
   ]
  },
  {
   "cell_type": "markdown",
   "metadata": {},
   "source": [
    "In the future, we can add hazard-dependent data on protection, asset vulnerability, and early warnings to this table. We can also add data on different types of hazard.\n",
    "\n",
    "For a given hazad, exposure depends on the return period. More poeple tend to be exposed to less frequent (more extreme) events. This information is given to the model in a third table."
   ]
  },
  {
   "cell_type": "markdown",
   "metadata": {},
   "source": [
    "## Multi return period data"
   ]
  },
  {
   "cell_type": "code",
   "execution_count": 11,
   "metadata": {
    "collapsed": false
   },
   "outputs": [
    {
     "data": {
      "text/html": [
       "<div>\n",
       "<table border=\"1\" class=\"dataframe\">\n",
       "  <thead>\n",
       "    <tr style=\"text-align: right;\">\n",
       "      <th></th>\n",
       "      <th>rp</th>\n",
       "      <th>10.0</th>\n",
       "      <th>100.0</th>\n",
       "    </tr>\n",
       "    <tr>\n",
       "      <th>province</th>\n",
       "      <th>hazard</th>\n",
       "      <th></th>\n",
       "      <th></th>\n",
       "    </tr>\n",
       "  </thead>\n",
       "  <tbody>\n",
       "    <tr>\n",
       "      <th rowspan=\"2\" valign=\"top\">Abra</th>\n",
       "      <th>coast</th>\n",
       "      <td>1</td>\n",
       "      <td>1.000000</td>\n",
       "    </tr>\n",
       "    <tr>\n",
       "      <th>river</th>\n",
       "      <td>1</td>\n",
       "      <td>1.814138</td>\n",
       "    </tr>\n",
       "    <tr>\n",
       "      <th rowspan=\"2\" valign=\"top\">Agusan Del Norte</th>\n",
       "      <th>coast</th>\n",
       "      <td>1</td>\n",
       "      <td>1.000000</td>\n",
       "    </tr>\n",
       "    <tr>\n",
       "      <th>river</th>\n",
       "      <td>1</td>\n",
       "      <td>1.081761</td>\n",
       "    </tr>\n",
       "    <tr>\n",
       "      <th>Agusan Del Sur</th>\n",
       "      <th>coast</th>\n",
       "      <td>1</td>\n",
       "      <td>1.000000</td>\n",
       "    </tr>\n",
       "  </tbody>\n",
       "</table>\n",
       "</div>"
      ],
      "text/plain": [
       "rp                       10        100\n",
       "province         hazard               \n",
       "Abra             coast     1  1.000000\n",
       "                 river     1  1.814138\n",
       "Agusan Del Norte coast     1  1.000000\n",
       "                 river     1  1.081761\n",
       "Agusan Del Sur   coast     1  1.000000"
      ]
     },
     "execution_count": 11,
     "metadata": {},
     "output_type": "execute_result"
    }
   ],
   "source": [
    "fa_ratios  = pd.read_csv(\"inputs/fa_ratios.csv\", index_col=[\"province\",\"hazard\"]).sortlevel()\n",
    "fa_ratios.columns=fa_ratios.columns.map(float)\n",
    "fa_ratios.head()\n",
    "fa_ratios = fa_ratios\n",
    "fa_ratios.columns.name=\"rp\"\n",
    "fa_ratios.head()"
   ]
  },
  {
   "cell_type": "markdown",
   "metadata": {},
   "source": [
    "# Computing socio-economic capacity"
   ]
  },
  {
   "cell_type": "markdown",
   "metadata": {},
   "source": [
    "Now that we have minimum familiarity with dataframes, let us use the resilience model. Let us first read the function definitions, from [res_ind_lib.py](res_ind_lib.py)"
   ]
  },
  {
   "cell_type": "markdown",
   "metadata": {},
   "source": [
    "#### Loading functions"
   ]
  },
  {
   "cell_type": "code",
   "execution_count": 12,
   "metadata": {
    "ExecuteTime": {
     "end_time": "2016-03-01T17:17:55.778645",
     "start_time": "2016-03-01T17:17:55.540473"
    },
    "collapsed": false
   },
   "outputs": [],
   "source": [
    "from res_ind_lib import *     #MAIN library: the functions used to compute risk, resilience, etc"
   ]
  },
  {
   "cell_type": "markdown",
   "metadata": {},
   "source": [
    "#### Defining reference variabes"
   ]
  },
  {
   "cell_type": "markdown",
   "metadata": {},
   "source": [
    "Before running the model, for technical reasons, we need to define \"reference\" values for some variables. The following function does it."
   ]
  },
  {
   "cell_type": "code",
   "execution_count": 13,
   "metadata": {
    "ExecuteTime": {
     "end_time": "2016-03-01T17:17:55.818672",
     "start_time": "2016-03-01T17:17:55.782648"
    },
    "collapsed": false
   },
   "outputs": [
    {
     "data": {
      "text/html": [
       "<div>\n",
       "<table border=\"1\" class=\"dataframe\">\n",
       "  <thead>\n",
       "    <tr style=\"text-align: right;\">\n",
       "      <th></th>\n",
       "      <th>protection</th>\n",
       "      <th>protectionref</th>\n",
       "    </tr>\n",
       "    <tr>\n",
       "      <th>province</th>\n",
       "      <th></th>\n",
       "      <th></th>\n",
       "    </tr>\n",
       "  </thead>\n",
       "  <tbody>\n",
       "    <tr>\n",
       "      <th>Abra</th>\n",
       "      <td>10.57</td>\n",
       "      <td>10.57</td>\n",
       "    </tr>\n",
       "    <tr>\n",
       "      <th>Agusan Del Norte</th>\n",
       "      <td>9.41</td>\n",
       "      <td>9.41</td>\n",
       "    </tr>\n",
       "    <tr>\n",
       "      <th>Agusan Del Sur</th>\n",
       "      <td>8.61</td>\n",
       "      <td>8.61</td>\n",
       "    </tr>\n",
       "    <tr>\n",
       "      <th>Aklan</th>\n",
       "      <td>2.00</td>\n",
       "      <td>2.00</td>\n",
       "    </tr>\n",
       "    <tr>\n",
       "      <th>Albay</th>\n",
       "      <td>2.00</td>\n",
       "      <td>2.00</td>\n",
       "    </tr>\n",
       "  </tbody>\n",
       "</table>\n",
       "</div>"
      ],
      "text/plain": [
       "                  protection  protectionref\n",
       "province                                   \n",
       "Abra                   10.57          10.57\n",
       "Agusan Del Norte        9.41           9.41\n",
       "Agusan Del Sur          8.61           8.61\n",
       "Aklan                   2.00           2.00\n",
       "Albay                   2.00           2.00"
      ]
     },
     "execution_count": 13,
     "metadata": {},
     "output_type": "execute_result"
    }
   ],
   "source": [
    "df = def_ref_values(df).dropna()\n",
    "df[[\"protection\", \"protectionref\"]].head()"
   ]
  },
  {
   "cell_type": "markdown",
   "metadata": {},
   "source": [
    "#### Assessing risk to assets, capacity, and risk to welfare"
   ]
  },
  {
   "cell_type": "markdown",
   "metadata": {},
   "source": [
    "The model can use information on different return periods, different hazards, or both. This is controled with the following option."
   ]
  },
  {
   "cell_type": "code",
   "execution_count": 14,
   "metadata": {
    "collapsed": false
   },
   "outputs": [],
   "source": [
    "options = dict(fa_ratios=fa_ratios,  multihazard_data=multihazard_info)\n",
    "# options = dict()\n",
    "# options = dict(fa_ratios=fa_ratios.query(\"hazard=='river'\").reset_index(\"hazard\",drop=True))\n",
    "# options = dict(  multihazard_data=multihazard_info)"
   ]
  },
  {
   "cell_type": "markdown",
   "metadata": {},
   "source": [
    "The function compute_resiliences computes risk and capacity from all the data."
   ]
  },
  {
   "cell_type": "code",
   "execution_count": 15,
   "metadata": {
    "ExecuteTime": {
     "end_time": "2016-03-01T17:17:56.074864",
     "start_time": "2016-03-01T17:17:55.921750"
    },
    "collapsed": false,
    "scrolled": true
   },
   "outputs": [],
   "source": [
    "df_with_results=compute_resiliences(df, **options)"
   ]
  },
  {
   "cell_type": "markdown",
   "metadata": {},
   "source": [
    "Let us look at a few inputs and outputs of that function"
   ]
  },
  {
   "cell_type": "code",
   "execution_count": 16,
   "metadata": {
    "ExecuteTime": {
     "end_time": "2016-03-01T17:17:56.722379",
     "start_time": "2016-03-01T17:17:56.574774"
    },
    "collapsed": false
   },
   "outputs": [
    {
     "data": {
      "text/html": [
       "<div>\n",
       "<table border=\"1\" class=\"dataframe\">\n",
       "  <thead>\n",
       "    <tr style=\"text-align: right;\">\n",
       "      <th></th>\n",
       "      <th>Average income in the province</th>\n",
       "      <th>Population</th>\n",
       "      <th>Hazard (protection)</th>\n",
       "      <th>Exposure, poor people</th>\n",
       "      <th>Exposure, non-poor people</th>\n",
       "      <th>Asset vulnerability (poor people)</th>\n",
       "      <th>Asset vulnerability (non-poor people)</th>\n",
       "      <th>Socio-economic capacity</th>\n",
       "      <th>Risk to well-being</th>\n",
       "    </tr>\n",
       "    <tr>\n",
       "      <th>province</th>\n",
       "      <th></th>\n",
       "      <th></th>\n",
       "      <th></th>\n",
       "      <th></th>\n",
       "      <th></th>\n",
       "      <th></th>\n",
       "      <th></th>\n",
       "      <th></th>\n",
       "      <th></th>\n",
       "    </tr>\n",
       "  </thead>\n",
       "  <tbody>\n",
       "    <tr>\n",
       "      <th>Abra</th>\n",
       "      <td>133.688</td>\n",
       "      <td>240135.244121</td>\n",
       "      <td>10.57</td>\n",
       "      <td>18.8715</td>\n",
       "      <td>14.941936</td>\n",
       "      <td>15.246329</td>\n",
       "      <td>10.000000</td>\n",
       "      <td>57.814251</td>\n",
       "      <td>1.146675</td>\n",
       "    </tr>\n",
       "    <tr>\n",
       "      <th>Agusan Del Norte</th>\n",
       "      <td>179.014</td>\n",
       "      <td>661728.454375</td>\n",
       "      <td>9.41</td>\n",
       "      <td>36.5700</td>\n",
       "      <td>29.268438</td>\n",
       "      <td>36.370003</td>\n",
       "      <td>10.000000</td>\n",
       "      <td>68.550357</td>\n",
       "      <td>2.943115</td>\n",
       "    </tr>\n",
       "    <tr>\n",
       "      <th>Agusan Del Sur</th>\n",
       "      <td>126.492</td>\n",
       "      <td>677779.682154</td>\n",
       "      <td>8.61</td>\n",
       "      <td>13.1790</td>\n",
       "      <td>9.868232</td>\n",
       "      <td>29.016559</td>\n",
       "      <td>10.000000</td>\n",
       "      <td>47.667088</td>\n",
       "      <td>1.552060</td>\n",
       "    </tr>\n",
       "    <tr>\n",
       "      <th>Aklan</th>\n",
       "      <td>119.962</td>\n",
       "      <td>554414.442422</td>\n",
       "      <td>2.00</td>\n",
       "      <td>0.0000</td>\n",
       "      <td>0.000000</td>\n",
       "      <td>38.941913</td>\n",
       "      <td>13.508922</td>\n",
       "      <td>53.736686</td>\n",
       "      <td>6.072046</td>\n",
       "    </tr>\n",
       "    <tr>\n",
       "      <th>Albay</th>\n",
       "      <td>158.629</td>\n",
       "      <td>1264097.894966</td>\n",
       "      <td>2.00</td>\n",
       "      <td>0.0000</td>\n",
       "      <td>0.000000</td>\n",
       "      <td>33.985197</td>\n",
       "      <td>10.000000</td>\n",
       "      <td>59.683890</td>\n",
       "      <td>0.365425</td>\n",
       "    </tr>\n",
       "  </tbody>\n",
       "</table>\n",
       "</div>"
      ],
      "text/plain": [
       "                   Average income in the province      Population  \\\n",
       "province                                                            \n",
       "Abra                                      133.688   240135.244121   \n",
       "Agusan Del Norte                          179.014   661728.454375   \n",
       "Agusan Del Sur                            126.492   677779.682154   \n",
       "Aklan                                     119.962   554414.442422   \n",
       "Albay                                     158.629  1264097.894966   \n",
       "\n",
       "                   Hazard (protection)  Exposure, poor people  \\\n",
       "province                                                        \n",
       "Abra                             10.57                18.8715   \n",
       "Agusan Del Norte                  9.41                36.5700   \n",
       "Agusan Del Sur                    8.61                13.1790   \n",
       "Aklan                             2.00                 0.0000   \n",
       "Albay                             2.00                 0.0000   \n",
       "\n",
       "                  Exposure, non-poor people  \\\n",
       "province                                      \n",
       "Abra                              14.941936   \n",
       "Agusan Del Norte                  29.268438   \n",
       "Agusan Del Sur                     9.868232   \n",
       "Aklan                              0.000000   \n",
       "Albay                              0.000000   \n",
       "\n",
       "                  Asset vulnerability (poor people)  \\\n",
       "province                                              \n",
       "Abra                                      15.246329   \n",
       "Agusan Del Norte                          36.370003   \n",
       "Agusan Del Sur                            29.016559   \n",
       "Aklan                                     38.941913   \n",
       "Albay                                     33.985197   \n",
       "\n",
       "                  Asset vulnerability (non-poor people)  \\\n",
       "province                                                  \n",
       "Abra                                          10.000000   \n",
       "Agusan Del Norte                              10.000000   \n",
       "Agusan Del Sur                                10.000000   \n",
       "Aklan                                         13.508922   \n",
       "Albay                                         10.000000   \n",
       "\n",
       "                  Socio-economic capacity  Risk to well-being  \n",
       "province                                                       \n",
       "Abra                            57.814251            1.146675  \n",
       "Agusan Del Norte                68.550357            2.943115  \n",
       "Agusan Del Sur                  47.667088            1.552060  \n",
       "Aklan                           53.736686            6.072046  \n",
       "Albay                           59.683890            0.365425  "
      ]
     },
     "execution_count": 16,
     "metadata": {},
     "output_type": "execute_result"
    }
   ],
   "source": [
    "#set of variable we want to inspect\n",
    "to_output = ['gdp_pc_pp', 'pop',\"protection\",\"fap\",\"far\",\"v_p\",\"v_r\",\"resilience\",\"risk\"] \n",
    "a=df_with_results[to_output].copy().dropna()\n",
    "\n",
    "#expresses fractions in %\n",
    "a.loc[:,[\"fap\",\"far\",\"v_p\",\"v_r\",\"resilience\",\"risk\"]]*=100 \n",
    "\n",
    "#replaces column names (model variables) by their meaning (human-readable description)\n",
    "desc=pd.read_csv(\"inputs/inputs_info.csv\").set_index('key')[\"descriptor\"]\n",
    "a=a.rename(columns=desc)\n",
    "\n",
    "#exports the result to an Excel file\n",
    "a.to_excel(\"results/main results.xlsx\")\n",
    "\n",
    "#displays the first few lines\n",
    "a.head()"
   ]
  },
  {
   "cell_type": "markdown",
   "metadata": {},
   "source": [
    "Now we add a description to each column (from [inputs/inputs_info.csv](inputs/inputs_info.csv)) and save the resulting table"
   ]
  },
  {
   "cell_type": "code",
   "execution_count": 17,
   "metadata": {
    "collapsed": false
   },
   "outputs": [
    {
     "data": {
      "text/html": [
       "<div>\n",
       "<table border=\"1\" class=\"dataframe\">\n",
       "  <thead>\n",
       "    <tr style=\"text-align: right;\">\n",
       "      <th></th>\n",
       "      <th>province</th>\n",
       "      <th>Abra</th>\n",
       "      <th>Agusan Del Norte</th>\n",
       "      <th>Agusan Del Sur</th>\n",
       "      <th>Aklan</th>\n",
       "      <th>Albay</th>\n",
       "    </tr>\n",
       "    <tr>\n",
       "      <th>description</th>\n",
       "      <th>variable</th>\n",
       "      <th></th>\n",
       "      <th></th>\n",
       "      <th></th>\n",
       "      <th></th>\n",
       "      <th></th>\n",
       "    </tr>\n",
       "  </thead>\n",
       "  <tbody>\n",
       "    <tr>\n",
       "      <th>Average income in the province</th>\n",
       "      <th>gdp_pc_pp</th>\n",
       "      <td>133.688</td>\n",
       "      <td>179.014</td>\n",
       "      <td>126.492</td>\n",
       "      <td>119.962</td>\n",
       "      <td>158.629</td>\n",
       "    </tr>\n",
       "    <tr>\n",
       "      <th>Population</th>\n",
       "      <th>pop</th>\n",
       "      <td>240135</td>\n",
       "      <td>661728</td>\n",
       "      <td>677780</td>\n",
       "      <td>554414</td>\n",
       "      <td>1.2641e+06</td>\n",
       "    </tr>\n",
       "    <tr>\n",
       "      <th>Poverty incidence</th>\n",
       "      <th>pov_head</th>\n",
       "      <td>0.373595</td>\n",
       "      <td>0.346715</td>\n",
       "      <td>0.480785</td>\n",
       "      <td>0.249662</td>\n",
       "      <td>0.409587</td>\n",
       "    </tr>\n",
       "    <tr>\n",
       "      <th>Access to early warning</th>\n",
       "      <th>shew</th>\n",
       "      <td>0.953416</td>\n",
       "      <td>0.821277</td>\n",
       "      <td>0.821277</td>\n",
       "      <td>0.823003</td>\n",
       "      <td>0.8</td>\n",
       "    </tr>\n",
       "    <tr>\n",
       "      <th>National GDP per capita</th>\n",
       "      <th>gdp_pc_pp_nat</th>\n",
       "      <td>184.137</td>\n",
       "      <td>184.137</td>\n",
       "      <td>184.137</td>\n",
       "      <td>184.137</td>\n",
       "      <td>184.137</td>\n",
       "    </tr>\n",
       "    <tr>\n",
       "      <th>Average income of the province</th>\n",
       "      <th>rel_gdp_pp</th>\n",
       "      <td>0.726026</td>\n",
       "      <td>0.97218</td>\n",
       "      <td>0.686946</td>\n",
       "      <td>0.651483</td>\n",
       "      <td>0.861474</td>\n",
       "    </tr>\n",
       "    <tr>\n",
       "      <th>Relative income of poor families</th>\n",
       "      <th>share1</th>\n",
       "      <td>0.374005</td>\n",
       "      <td>0.279308</td>\n",
       "      <td>0.395282</td>\n",
       "      <td>0.416799</td>\n",
       "      <td>0.315201</td>\n",
       "    </tr>\n",
       "    <tr>\n",
       "      <th>Access to finance for poor people</th>\n",
       "      <th>axfin_p</th>\n",
       "      <td>0.693233</td>\n",
       "      <td>0.49688</td>\n",
       "      <td>0.475969</td>\n",
       "      <td>0.660083</td>\n",
       "      <td>0.551314</td>\n",
       "    </tr>\n",
       "    <tr>\n",
       "      <th>Access to finance for non-poor people</th>\n",
       "      <th>axfin_r</th>\n",
       "      <td>0.693233</td>\n",
       "      <td>0.49688</td>\n",
       "      <td>0.475969</td>\n",
       "      <td>0.660083</td>\n",
       "      <td>0.551314</td>\n",
       "    </tr>\n",
       "    <tr>\n",
       "      <th>Social protection for poor people</th>\n",
       "      <th>social_p</th>\n",
       "      <td>0.408683</td>\n",
       "      <td>0.388003</td>\n",
       "      <td>0.388003</td>\n",
       "      <td>0.432903</td>\n",
       "      <td>0.403794</td>\n",
       "    </tr>\n",
       "    <tr>\n",
       "      <th>Social protection for non-poor people</th>\n",
       "      <th>social_r</th>\n",
       "      <td>0.408683</td>\n",
       "      <td>0.388003</td>\n",
       "      <td>0.388003</td>\n",
       "      <td>0.432903</td>\n",
       "      <td>0.403794</td>\n",
       "    </tr>\n",
       "    <tr>\n",
       "      <th>Exposure, poor people</th>\n",
       "      <th>fap</th>\n",
       "      <td>0.188715</td>\n",
       "      <td>0.3657</td>\n",
       "      <td>0.13179</td>\n",
       "      <td>0</td>\n",
       "      <td>0</td>\n",
       "    </tr>\n",
       "    <tr>\n",
       "      <th>Exposure, non-poor people</th>\n",
       "      <th>far</th>\n",
       "      <td>0.149419</td>\n",
       "      <td>0.292684</td>\n",
       "      <td>0.0986823</td>\n",
       "      <td>0</td>\n",
       "      <td>0</td>\n",
       "    </tr>\n",
       "    <tr>\n",
       "      <th>Asset vulnerability (poor people)</th>\n",
       "      <th>v_p</th>\n",
       "      <td>0.152463</td>\n",
       "      <td>0.3637</td>\n",
       "      <td>0.290166</td>\n",
       "      <td>0.389419</td>\n",
       "      <td>0.339852</td>\n",
       "    </tr>\n",
       "    <tr>\n",
       "      <th>Asset vulnerability (non-poor people)</th>\n",
       "      <th>v_r</th>\n",
       "      <td>0.1</td>\n",
       "      <td>0.1</td>\n",
       "      <td>0.1</td>\n",
       "      <td>0.135089</td>\n",
       "      <td>0.1</td>\n",
       "    </tr>\n",
       "    <tr>\n",
       "      <th>Hazard (protection)</th>\n",
       "      <th>protection</th>\n",
       "      <td>10.57</td>\n",
       "      <td>9.41</td>\n",
       "      <td>8.61</td>\n",
       "      <td>2</td>\n",
       "      <td>2</td>\n",
       "    </tr>\n",
       "    <tr>\n",
       "      <th>Productivity of capital</th>\n",
       "      <th>avg_prod_k</th>\n",
       "      <td>0.23</td>\n",
       "      <td>0.23</td>\n",
       "      <td>0.23</td>\n",
       "      <td>0.23</td>\n",
       "      <td>0.23</td>\n",
       "    </tr>\n",
       "    <tr>\n",
       "      <th>Time to reconstruct</th>\n",
       "      <th>T_rebuild_K</th>\n",
       "      <td>3</td>\n",
       "      <td>3</td>\n",
       "      <td>3</td>\n",
       "      <td>3</td>\n",
       "      <td>3</td>\n",
       "    </tr>\n",
       "    <tr>\n",
       "      <th>Avoided losses with early warning</th>\n",
       "      <th>pi</th>\n",
       "      <td>0.2</td>\n",
       "      <td>0.2</td>\n",
       "      <td>0.2</td>\n",
       "      <td>0.2</td>\n",
       "      <td>0.2</td>\n",
       "    </tr>\n",
       "    <tr>\n",
       "      <th>Risk transferred nationally</th>\n",
       "      <th>nat_buyout</th>\n",
       "      <td>0.3</td>\n",
       "      <td>0.3</td>\n",
       "      <td>0.3</td>\n",
       "      <td>0.3</td>\n",
       "      <td>0.3</td>\n",
       "    </tr>\n",
       "    <tr>\n",
       "      <th>Effective scale up for non-poor people</th>\n",
       "      <th>sigma_r</th>\n",
       "      <td>0.333333</td>\n",
       "      <td>0.333333</td>\n",
       "      <td>0.333333</td>\n",
       "      <td>0.333333</td>\n",
       "      <td>0.333333</td>\n",
       "    </tr>\n",
       "    <tr>\n",
       "      <th>Effective scale up for poor people</th>\n",
       "      <th>sigma_p</th>\n",
       "      <td>0.333333</td>\n",
       "      <td>0.333333</td>\n",
       "      <td>0.333333</td>\n",
       "      <td>0.333333</td>\n",
       "      <td>0.333333</td>\n",
       "    </tr>\n",
       "    <tr>\n",
       "      <th>Elasticity of utility</th>\n",
       "      <th>income_elast</th>\n",
       "      <td>1.5</td>\n",
       "      <td>1.5</td>\n",
       "      <td>1.5</td>\n",
       "      <td>1.5</td>\n",
       "      <td>1.5</td>\n",
       "    </tr>\n",
       "    <tr>\n",
       "      <th>Discount rate</th>\n",
       "      <th>rho</th>\n",
       "      <td>0.05</td>\n",
       "      <td>0.05</td>\n",
       "      <td>0.05</td>\n",
       "      <td>0.05</td>\n",
       "      <td>0.05</td>\n",
       "    </tr>\n",
       "    <tr>\n",
       "      <th>Hazard (protection) (ref)</th>\n",
       "      <th>protectionref</th>\n",
       "      <td>10.57</td>\n",
       "      <td>9.41</td>\n",
       "      <td>8.61</td>\n",
       "      <td>2</td>\n",
       "      <td>2</td>\n",
       "    </tr>\n",
       "    <tr>\n",
       "      <th>Average income in the province</th>\n",
       "      <th>gdp_pc_pp_ref</th>\n",
       "      <td>133.688</td>\n",
       "      <td>179.014</td>\n",
       "      <td>126.492</td>\n",
       "      <td>119.962</td>\n",
       "      <td>158.629</td>\n",
       "    </tr>\n",
       "    <tr>\n",
       "      <th>Asset vulnerability (shared sector)</th>\n",
       "      <th>v_s</th>\n",
       "      <td>0.1</td>\n",
       "      <td>0.1</td>\n",
       "      <td>0.1</td>\n",
       "      <td>0.135089</td>\n",
       "      <td>0.1</td>\n",
       "    </tr>\n",
       "    <tr>\n",
       "      <th>Average asset losses per person in the event of a disaster</th>\n",
       "      <th>dK</th>\n",
       "      <td>9.36791</td>\n",
       "      <td>33.9855</td>\n",
       "      <td>8.05737</td>\n",
       "      <td>7.82852</td>\n",
       "      <td>0.691939</td>\n",
       "    </tr>\n",
       "    <tr>\n",
       "      <th>Average welfare losses in the event of a disaster</th>\n",
       "      <th>delta_W</th>\n",
       "      <td>0.724651</td>\n",
       "      <td>2.21461</td>\n",
       "      <td>0.755438</td>\n",
       "      <td>0.651139</td>\n",
       "      <td>0.0517296</td>\n",
       "    </tr>\n",
       "    <tr>\n",
       "      <th>Average consumption losses for poor people in the event of a disaster</th>\n",
       "      <th>dcap</th>\n",
       "      <td>16.4657</td>\n",
       "      <td>41.4028</td>\n",
       "      <td>31.2524</td>\n",
       "      <td>20.0819</td>\n",
       "      <td>17.3492</td>\n",
       "    </tr>\n",
       "    <tr>\n",
       "      <th>Average consumption losses for nonpoor people in the event of a disaster</th>\n",
       "      <th>dcar</th>\n",
       "      <td>40.4859</td>\n",
       "      <td>65.8618</td>\n",
       "      <td>44.3234</td>\n",
       "      <td>21.8325</td>\n",
       "      <td>24.0767</td>\n",
       "    </tr>\n",
       "    <tr>\n",
       "      <th>Average asset losses across persons in the event of a disaster</th>\n",
       "      <th>dKtot</th>\n",
       "      <td>212825</td>\n",
       "      <td>2.38992e+06</td>\n",
       "      <td>634277</td>\n",
       "      <td>2.17012e+06</td>\n",
       "      <td>437339</td>\n",
       "    </tr>\n",
       "    <tr>\n",
       "      <th>Welfare losses in the other provinces (due to risk sharing) in the event of a disaster</th>\n",
       "      <th>deltaW_nat</th>\n",
       "      <td>0.000373128</td>\n",
       "      <td>0.0037302</td>\n",
       "      <td>0.000905818</td>\n",
       "      <td>0.000719902</td>\n",
       "      <td>0.00014508</td>\n",
       "    </tr>\n",
       "    <tr>\n",
       "      <th>Expected welfare losses per capita due to natural disasters</th>\n",
       "      <th>dWpc_curency</th>\n",
       "      <td>1.53297</td>\n",
       "      <td>5.26859</td>\n",
       "      <td>1.96323</td>\n",
       "      <td>7.28415</td>\n",
       "      <td>0.57967</td>\n",
       "    </tr>\n",
       "    <tr>\n",
       "      <th>Risk to well-being</th>\n",
       "      <th>risk</th>\n",
       "      <td>0.0114668</td>\n",
       "      <td>0.0294312</td>\n",
       "      <td>0.0155206</td>\n",
       "      <td>0.0607205</td>\n",
       "      <td>0.00365425</td>\n",
       "    </tr>\n",
       "    <tr>\n",
       "      <th>Total expected welfare losses due to natural disasters</th>\n",
       "      <th>dWtot_currency</th>\n",
       "      <td>368119</td>\n",
       "      <td>3.48637e+06</td>\n",
       "      <td>1.33064e+06</td>\n",
       "      <td>4.03844e+06</td>\n",
       "      <td>732760</td>\n",
       "    </tr>\n",
       "    <tr>\n",
       "      <th>Socio-economic capacity</th>\n",
       "      <th>resilience</th>\n",
       "      <td>0.578143</td>\n",
       "      <td>0.685504</td>\n",
       "      <td>0.476671</td>\n",
       "      <td>0.537367</td>\n",
       "      <td>0.596839</td>\n",
       "    </tr>\n",
       "    <tr>\n",
       "      <th>Total expected assest losses due to natural disasters as a fraction of local GDP</th>\n",
       "      <th>risk_to_assets</th>\n",
       "      <td>0.00662942</td>\n",
       "      <td>0.0201752</td>\n",
       "      <td>0.00739822</td>\n",
       "      <td>0.0326292</td>\n",
       "      <td>0.002181</td>\n",
       "    </tr>\n",
       "  </tbody>\n",
       "</table>\n",
       "</div>"
      ],
      "text/plain": [
       "province                                                                  Abra  \\\n",
       "description                                        variable                      \n",
       " Average income in the province                    gdp_pc_pp           133.688   \n",
       "Population                                         pop                  240135   \n",
       "Poverty incidence                                  pov_head           0.373595   \n",
       "Access to early warning                            shew               0.953416   \n",
       "National GDP per capita                            gdp_pc_pp_nat       184.137   \n",
       " Average income of the province                    rel_gdp_pp         0.726026   \n",
       "Relative income of poor families                   share1             0.374005   \n",
       "Access to finance for poor people                  axfin_p            0.693233   \n",
       "Access to finance for non-poor people              axfin_r            0.693233   \n",
       "Social protection for poor people                  social_p           0.408683   \n",
       "Social protection for non-poor people              social_r           0.408683   \n",
       "Exposure, poor people                              fap                0.188715   \n",
       "Exposure, non-poor people                          far                0.149419   \n",
       "Asset vulnerability (poor people)                  v_p                0.152463   \n",
       "Asset vulnerability (non-poor people)              v_r                     0.1   \n",
       " Hazard (protection)                               protection            10.57   \n",
       "Productivity of capital                            avg_prod_k             0.23   \n",
       "Time to reconstruct                                T_rebuild_K               3   \n",
       "Avoided losses with early warning                  pi                      0.2   \n",
       "Risk transferred nationally                        nat_buyout              0.3   \n",
       "Effective scale up for non-poor people             sigma_r            0.333333   \n",
       "Effective scale up for poor people                 sigma_p            0.333333   \n",
       "Elasticity of utility                              income_elast            1.5   \n",
       "Discount rate                                      rho                    0.05   \n",
       " Hazard (protection) (ref)                         protectionref         10.57   \n",
       " Average income in the province                    gdp_pc_pp_ref       133.688   \n",
       "Asset vulnerability (shared sector)                v_s                     0.1   \n",
       "Average asset losses per person in the event of... dK                  9.36791   \n",
       "Average welfare losses in the event of a disaster  delta_W            0.724651   \n",
       "Average consumption losses for poor people in t... dcap                16.4657   \n",
       "Average consumption losses for nonpoor people i... dcar                40.4859   \n",
       "Average asset losses across persons in the even... dKtot                212825   \n",
       "Welfare losses in the other provinces (due to r... deltaW_nat      0.000373128   \n",
       "Expected welfare losses per capita due to natur... dWpc_curency        1.53297   \n",
       "Risk to well-being                                 risk              0.0114668   \n",
       "Total expected welfare losses due to natural di... dWtot_currency       368119   \n",
       "Socio-economic capacity                            resilience         0.578143   \n",
       "Total expected assest losses due to natural dis... risk_to_assets   0.00662942   \n",
       "\n",
       "province                                                          Agusan Del Norte  \\\n",
       "description                                        variable                          \n",
       " Average income in the province                    gdp_pc_pp               179.014   \n",
       "Population                                         pop                      661728   \n",
       "Poverty incidence                                  pov_head               0.346715   \n",
       "Access to early warning                            shew                   0.821277   \n",
       "National GDP per capita                            gdp_pc_pp_nat           184.137   \n",
       " Average income of the province                    rel_gdp_pp              0.97218   \n",
       "Relative income of poor families                   share1                 0.279308   \n",
       "Access to finance for poor people                  axfin_p                 0.49688   \n",
       "Access to finance for non-poor people              axfin_r                 0.49688   \n",
       "Social protection for poor people                  social_p               0.388003   \n",
       "Social protection for non-poor people              social_r               0.388003   \n",
       "Exposure, poor people                              fap                      0.3657   \n",
       "Exposure, non-poor people                          far                    0.292684   \n",
       "Asset vulnerability (poor people)                  v_p                      0.3637   \n",
       "Asset vulnerability (non-poor people)              v_r                         0.1   \n",
       " Hazard (protection)                               protection                 9.41   \n",
       "Productivity of capital                            avg_prod_k                 0.23   \n",
       "Time to reconstruct                                T_rebuild_K                   3   \n",
       "Avoided losses with early warning                  pi                          0.2   \n",
       "Risk transferred nationally                        nat_buyout                  0.3   \n",
       "Effective scale up for non-poor people             sigma_r                0.333333   \n",
       "Effective scale up for poor people                 sigma_p                0.333333   \n",
       "Elasticity of utility                              income_elast                1.5   \n",
       "Discount rate                                      rho                        0.05   \n",
       " Hazard (protection) (ref)                         protectionref              9.41   \n",
       " Average income in the province                    gdp_pc_pp_ref           179.014   \n",
       "Asset vulnerability (shared sector)                v_s                         0.1   \n",
       "Average asset losses per person in the event of... dK                      33.9855   \n",
       "Average welfare losses in the event of a disaster  delta_W                 2.21461   \n",
       "Average consumption losses for poor people in t... dcap                    41.4028   \n",
       "Average consumption losses for nonpoor people i... dcar                    65.8618   \n",
       "Average asset losses across persons in the even... dKtot               2.38992e+06   \n",
       "Welfare losses in the other provinces (due to r... deltaW_nat            0.0037302   \n",
       "Expected welfare losses per capita due to natur... dWpc_curency            5.26859   \n",
       "Risk to well-being                                 risk                  0.0294312   \n",
       "Total expected welfare losses due to natural di... dWtot_currency      3.48637e+06   \n",
       "Socio-economic capacity                            resilience             0.685504   \n",
       "Total expected assest losses due to natural dis... risk_to_assets        0.0201752   \n",
       "\n",
       "province                                                          Agusan Del Sur  \\\n",
       "description                                        variable                        \n",
       " Average income in the province                    gdp_pc_pp             126.492   \n",
       "Population                                         pop                    677780   \n",
       "Poverty incidence                                  pov_head             0.480785   \n",
       "Access to early warning                            shew                 0.821277   \n",
       "National GDP per capita                            gdp_pc_pp_nat         184.137   \n",
       " Average income of the province                    rel_gdp_pp           0.686946   \n",
       "Relative income of poor families                   share1               0.395282   \n",
       "Access to finance for poor people                  axfin_p              0.475969   \n",
       "Access to finance for non-poor people              axfin_r              0.475969   \n",
       "Social protection for poor people                  social_p             0.388003   \n",
       "Social protection for non-poor people              social_r             0.388003   \n",
       "Exposure, poor people                              fap                   0.13179   \n",
       "Exposure, non-poor people                          far                 0.0986823   \n",
       "Asset vulnerability (poor people)                  v_p                  0.290166   \n",
       "Asset vulnerability (non-poor people)              v_r                       0.1   \n",
       " Hazard (protection)                               protection               8.61   \n",
       "Productivity of capital                            avg_prod_k               0.23   \n",
       "Time to reconstruct                                T_rebuild_K                 3   \n",
       "Avoided losses with early warning                  pi                        0.2   \n",
       "Risk transferred nationally                        nat_buyout                0.3   \n",
       "Effective scale up for non-poor people             sigma_r              0.333333   \n",
       "Effective scale up for poor people                 sigma_p              0.333333   \n",
       "Elasticity of utility                              income_elast              1.5   \n",
       "Discount rate                                      rho                      0.05   \n",
       " Hazard (protection) (ref)                         protectionref            8.61   \n",
       " Average income in the province                    gdp_pc_pp_ref         126.492   \n",
       "Asset vulnerability (shared sector)                v_s                       0.1   \n",
       "Average asset losses per person in the event of... dK                    8.05737   \n",
       "Average welfare losses in the event of a disaster  delta_W              0.755438   \n",
       "Average consumption losses for poor people in t... dcap                  31.2524   \n",
       "Average consumption losses for nonpoor people i... dcar                  44.3234   \n",
       "Average asset losses across persons in the even... dKtot                  634277   \n",
       "Welfare losses in the other provinces (due to r... deltaW_nat        0.000905818   \n",
       "Expected welfare losses per capita due to natur... dWpc_curency          1.96323   \n",
       "Risk to well-being                                 risk                0.0155206   \n",
       "Total expected welfare losses due to natural di... dWtot_currency    1.33064e+06   \n",
       "Socio-economic capacity                            resilience           0.476671   \n",
       "Total expected assest losses due to natural dis... risk_to_assets     0.00739822   \n",
       "\n",
       "province                                                                 Aklan  \\\n",
       "description                                        variable                      \n",
       " Average income in the province                    gdp_pc_pp           119.962   \n",
       "Population                                         pop                  554414   \n",
       "Poverty incidence                                  pov_head           0.249662   \n",
       "Access to early warning                            shew               0.823003   \n",
       "National GDP per capita                            gdp_pc_pp_nat       184.137   \n",
       " Average income of the province                    rel_gdp_pp         0.651483   \n",
       "Relative income of poor families                   share1             0.416799   \n",
       "Access to finance for poor people                  axfin_p            0.660083   \n",
       "Access to finance for non-poor people              axfin_r            0.660083   \n",
       "Social protection for poor people                  social_p           0.432903   \n",
       "Social protection for non-poor people              social_r           0.432903   \n",
       "Exposure, poor people                              fap                       0   \n",
       "Exposure, non-poor people                          far                       0   \n",
       "Asset vulnerability (poor people)                  v_p                0.389419   \n",
       "Asset vulnerability (non-poor people)              v_r                0.135089   \n",
       " Hazard (protection)                               protection                2   \n",
       "Productivity of capital                            avg_prod_k             0.23   \n",
       "Time to reconstruct                                T_rebuild_K               3   \n",
       "Avoided losses with early warning                  pi                      0.2   \n",
       "Risk transferred nationally                        nat_buyout              0.3   \n",
       "Effective scale up for non-poor people             sigma_r            0.333333   \n",
       "Effective scale up for poor people                 sigma_p            0.333333   \n",
       "Elasticity of utility                              income_elast            1.5   \n",
       "Discount rate                                      rho                    0.05   \n",
       " Hazard (protection) (ref)                         protectionref             2   \n",
       " Average income in the province                    gdp_pc_pp_ref       119.962   \n",
       "Asset vulnerability (shared sector)                v_s                0.135089   \n",
       "Average asset losses per person in the event of... dK                  7.82852   \n",
       "Average welfare losses in the event of a disaster  delta_W            0.651139   \n",
       "Average consumption losses for poor people in t... dcap                20.0819   \n",
       "Average consumption losses for nonpoor people i... dcar                21.8325   \n",
       "Average asset losses across persons in the even... dKtot           2.17012e+06   \n",
       "Welfare losses in the other provinces (due to r... deltaW_nat      0.000719902   \n",
       "Expected welfare losses per capita due to natur... dWpc_curency        7.28415   \n",
       "Risk to well-being                                 risk              0.0607205   \n",
       "Total expected welfare losses due to natural di... dWtot_currency  4.03844e+06   \n",
       "Socio-economic capacity                            resilience         0.537367   \n",
       "Total expected assest losses due to natural dis... risk_to_assets    0.0326292   \n",
       "\n",
       "province                                                                Albay  \n",
       "description                                        variable                    \n",
       " Average income in the province                    gdp_pc_pp          158.629  \n",
       "Population                                         pop             1.2641e+06  \n",
       "Poverty incidence                                  pov_head          0.409587  \n",
       "Access to early warning                            shew                   0.8  \n",
       "National GDP per capita                            gdp_pc_pp_nat      184.137  \n",
       " Average income of the province                    rel_gdp_pp        0.861474  \n",
       "Relative income of poor families                   share1            0.315201  \n",
       "Access to finance for poor people                  axfin_p           0.551314  \n",
       "Access to finance for non-poor people              axfin_r           0.551314  \n",
       "Social protection for poor people                  social_p          0.403794  \n",
       "Social protection for non-poor people              social_r          0.403794  \n",
       "Exposure, poor people                              fap                      0  \n",
       "Exposure, non-poor people                          far                      0  \n",
       "Asset vulnerability (poor people)                  v_p               0.339852  \n",
       "Asset vulnerability (non-poor people)              v_r                    0.1  \n",
       " Hazard (protection)                               protection               2  \n",
       "Productivity of capital                            avg_prod_k            0.23  \n",
       "Time to reconstruct                                T_rebuild_K              3  \n",
       "Avoided losses with early warning                  pi                     0.2  \n",
       "Risk transferred nationally                        nat_buyout             0.3  \n",
       "Effective scale up for non-poor people             sigma_r           0.333333  \n",
       "Effective scale up for poor people                 sigma_p           0.333333  \n",
       "Elasticity of utility                              income_elast           1.5  \n",
       "Discount rate                                      rho                   0.05  \n",
       " Hazard (protection) (ref)                         protectionref            2  \n",
       " Average income in the province                    gdp_pc_pp_ref      158.629  \n",
       "Asset vulnerability (shared sector)                v_s                    0.1  \n",
       "Average asset losses per person in the event of... dK                0.691939  \n",
       "Average welfare losses in the event of a disaster  delta_W          0.0517296  \n",
       "Average consumption losses for poor people in t... dcap               17.3492  \n",
       "Average consumption losses for nonpoor people i... dcar               24.0767  \n",
       "Average asset losses across persons in the even... dKtot               437339  \n",
       "Welfare losses in the other provinces (due to r... deltaW_nat      0.00014508  \n",
       "Expected welfare losses per capita due to natur... dWpc_curency       0.57967  \n",
       "Risk to well-being                                 risk            0.00365425  \n",
       "Total expected welfare losses due to natural di... dWtot_currency      732760  \n",
       "Socio-economic capacity                            resilience        0.596839  \n",
       "Total expected assest losses due to natural dis... risk_to_assets    0.002181  "
      ]
     },
     "execution_count": 17,
     "metadata": {},
     "output_type": "execute_result"
    }
   ],
   "source": [
    "description = pd.read_csv(\"inputs/inputs_info.csv\", index_col=\"key\")[\"descriptor\"]\n",
    "description.head()\n",
    "\n",
    "df_with_results.ix[\"description\"]= description\n",
    "data=df_with_results.T.reset_index().set_index([\"description\",\"index\"]).T\n",
    "data.columns.names = ['description', 'variable']\n",
    "#exports the result to a CSV file\n",
    "data.to_csv(\"results/all_data_and_results.csv\")\n",
    "\n",
    "data.head().T #displays the first few provinces, transposed for ease of reading."
   ]
  },
  {
   "cell_type": "markdown",
   "metadata": {},
   "source": [
    "#### Visualizing risk to assets, capacity and risk to welfare"
   ]
  },
  {
   "cell_type": "markdown",
   "metadata": {},
   "source": [
    "Now we visualize risk and resilience acrross provinces, with plots and maps"
   ]
  },
  {
   "cell_type": "code",
   "execution_count": 18,
   "metadata": {
    "ExecuteTime": {
     "end_time": "2016-03-01T17:17:56.570772",
     "start_time": "2016-03-01T17:17:56.078867"
    },
    "collapsed": false
   },
   "outputs": [
    {
     "name": "stdout",
     "output_type": "stream",
     "text": [
      "Risk to assets averages 1% across the 74 provinces in our sample, ranging from 0.0196% to 3%\n",
      "Socio-economic capacity averages 76% across our sample, ranging from 35.4401% to 196.9028%\n",
      "Risk to welfare averages 1% across our sample, ranging from 0.0000% to 6.072%\n"
     ]
    },
    {
     "data": {
      "image/png": "[encoded data removed]",
      "text/plain": [
       "<matplotlib.figure.Figure at 0xa6fa4e0>"
      ]
     },
     "metadata": {},
     "output_type": "display_data"
    },
    {
     "data": {
      "image/png": "[encoded data removed]",
      "text/plain": [
       "<matplotlib.figure.Figure at 0xa6faeb8>"
      ]
     },
     "metadata": {},
     "output_type": "display_data"
    }
   ],
   "source": [
    "df_with_results=compute_resiliences(df.dropna(), **options)\n",
    "\n",
    "a=df_with_results[\"risk_to_assets\"];\n",
    "a.min()*100,a.mean()*100,a.max()*100\n",
    "print(\"Risk to assets averages {mean:.0%} across the {nb:.0f} provinces in our sample, ranging from {min:.4%} to {max:.0%}\".format(\n",
    "    min=a.min(), nb=a.shape[0],mean=a.mean(),max=a.max()))\n",
    "ax=(100*a).plot.hist(figsize=(7,7), color=\"#fc8d59\");\n",
    "\n",
    "a=df_with_results[\"resilience\"];\n",
    "a.min()*100,a.mean()*100,a.max()*100\n",
    "print(\"Socio-economic capacity averages {mean:.0%} across our sample, ranging from {min:.4%} to {max:.4%}\".format(\n",
    "    min=a.min(),mean=a.mean(),max=a.max()))\n",
    "plt.figure(figsize=(7,7))\n",
    "ax2=(100*a).plot.hist(alpha=0.5, color=\"#08519c\");\n",
    "ax2.legend([\"Socio-economic capacity\"])\n",
    "ax2.set_xlabel('%');\n",
    "\n",
    "\n",
    "a=df_with_results[\"risk\"];\n",
    "a.min()*100,a.mean()*100,a.max()*100\n",
    "print(\"Risk to welfare averages {mean:.0%} across our sample, ranging from {min:.4%} to {max:.3%}\".format(\n",
    "    min=a.min(),mean=a.mean(),max=a.max()))\n",
    "(100*a).plot.hist(alpha=0.5, ax=ax, color=\"#3f007d\");\n",
    "\n",
    "ax.legend([\"Annual assets losses\",\"Annual welfare losses\"])\n",
    "ax.set_xlabel('% of local GDP');"
   ]
  },
  {
   "cell_type": "markdown",
   "metadata": {},
   "source": [
    "Risk to assets, socio-economic capacity, and total welfare risk can also be visualized in maps (see [draw_maps.ipynb](draw_maps.ipynb) for how to build these maps)"
   ]
  },
  {
   "cell_type": "markdown",
   "metadata": {},
   "source": [
    " <table border=\"0\" style=\"border:none\">\n",
    "  <tr>\n",
    "  <td>**Risk to assets**</td>\n",
    "    <td>**Socio-economic capacity**</td>\n",
    "    <td>**Risk to welfare**</td>\n",
    "  </tr>\n",
    "  <tr>\n",
    "    <td>![title](img/map_and_legend_of_asset_risk.png)</td>\n",
    "    <td>![title](img/map_and_legend_of_se_capacity.png)</td>\n",
    "    <td>![title](img/map_and_legend_of_welfare_risk.png)</td>\n",
    "  </tr>\n",
    "</table> \n"
   ]
  },
  {
   "cell_type": "markdown",
   "metadata": {},
   "source": [
    "# Categorizing provinces"
   ]
  },
  {
   "cell_type": "markdown",
   "metadata": {},
   "source": [
    "Here we categorize provinces in 3 tiers (Low, mid, high) according to their ranking on socio-econic capacity and on overall risk to welfare. We use the functions `make_tiers` and `categories_to_formated_excel_file` from [res_ind_lib.py](res_ind_lib.py)"
   ]
  },
  {
   "cell_type": "code",
   "execution_count": 19,
   "metadata": {
    "ExecuteTime": {
     "end_time": "2016-03-01T17:17:56.858481",
     "start_time": "2016-03-01T17:17:56.728388"
    },
    "collapsed": false
   },
   "outputs": [
    {
     "data": {
      "text/html": [
       "<div>\n",
       "<table border=\"1\" class=\"dataframe\">\n",
       "  <thead>\n",
       "    <tr style=\"text-align: right;\">\n",
       "      <th></th>\n",
       "      <th>Socio-economic capacity</th>\n",
       "      <th>Risk to well-being</th>\n",
       "    </tr>\n",
       "  </thead>\n",
       "  <tbody>\n",
       "    <tr>\n",
       "      <th>Abra</th>\n",
       "      <td>Mid</td>\n",
       "      <td>Mid</td>\n",
       "    </tr>\n",
       "    <tr>\n",
       "      <th>Agusan Del Norte</th>\n",
       "      <td>Mid</td>\n",
       "      <td>High</td>\n",
       "    </tr>\n",
       "    <tr>\n",
       "      <th>Agusan Del Sur</th>\n",
       "      <td>Low</td>\n",
       "      <td>High</td>\n",
       "    </tr>\n",
       "    <tr>\n",
       "      <th>Aklan</th>\n",
       "      <td>Low</td>\n",
       "      <td>High</td>\n",
       "    </tr>\n",
       "    <tr>\n",
       "      <th>Albay</th>\n",
       "      <td>Mid</td>\n",
       "      <td>Low</td>\n",
       "    </tr>\n",
       "  </tbody>\n",
       "</table>\n",
       "</div>"
      ],
      "text/plain": [
       "                 Socio-economic capacity Risk to well-being\n",
       "Abra                                 Mid                Mid\n",
       "Agusan Del Norte                     Mid               High\n",
       "Agusan Del Sur                       Low               High\n",
       "Aklan                                Low               High\n",
       "Albay                                Mid                Low"
      ]
     },
     "execution_count": 19,
     "metadata": {},
     "output_type": "execute_result"
    }
   ],
   "source": [
    "categories = pd.DataFrame([make_tiers(df_with_results.resilience), make_tiers(df_with_results.risk)]).T.dropna()\n",
    "categories_to_formated_excel_file(categories,\"results/categories.xlsx\")\n",
    "categories.rename(columns=desc).head()"
   ]
  },
  {
   "cell_type": "markdown",
   "metadata": {
    "collapsed": true
   },
   "source": [
    "# Policy experiments"
   ]
  },
  {
   "cell_type": "markdown",
   "metadata": {},
   "source": [
    "Finally, the resilience indicator model can be used to asses the impact of specific policies on asset and welfare losses. In the following we provide two examples. More policy assessment are performed in [render_policy_assessment.ipynb](render_policy_assessment.ipynb)"
   ]
  },
  {
   "cell_type": "markdown",
   "metadata": {},
   "source": [
    "#### Impact of increasing the income of poor families"
   ]
  },
  {
   "cell_type": "code",
   "execution_count": 20,
   "metadata": {
    "ExecuteTime": {
     "end_time": "2016-03-01T17:17:57.069638",
     "start_time": "2016-03-01T17:17:56.865489"
    },
    "collapsed": false
   },
   "outputs": [
    {
     "name": "stdout",
     "output_type": "stream",
     "text": [
      " Increasing the income of poor households by 5 percent in the 68 provincies would increase asset losses from 81.92 to 84.43 billions per year(3.1%), but reduce welfare losses by 4.5%\n"
     ]
    }
   ],
   "source": [
    "df_share1 = compute_resiliences( def_ref_values(df.dropna().assign(share1=df.share1+5/100) ), **options)\n",
    "\n",
    "#welfare losses\n",
    "wa=df_with_results.dWtot_currency.sum()*1e-6\n",
    "wb=df_share1.dWtot_currency.sum()*1e-6\n",
    "\n",
    "#asset losses\n",
    "ka = (df_with_results.dKtot).sum()*1e-6\n",
    "kb = (df_share1.dKtot).sum()*1e-6\n",
    "\n",
    "nb_countries_all_results = df_with_results[\"resilience\"].dropna().shape[0]\n",
    "\n",
    "print(\" Increasing the income of poor households by 5 percent in the {nb} provincies \\\n",
    "would increase asset losses from {ka:0.2f} to {kb:0.2f} billions per year\\\n",
    "({XX:.1%}), but reduce welfare losses by {YY:.1%}\".format(\n",
    "        XX=(kb-ka)/ka,ka=ka,kb=kb,YY=(wa-wb)/wa,nb=nb_countries_all_results)\n",
    "     )"
   ]
  },
  {
   "cell_type": "markdown",
   "metadata": {},
   "source": [
    "#### Impact of scaling up social protection"
   ]
  },
  {
   "cell_type": "code",
   "execution_count": 21,
   "metadata": {
    "ExecuteTime": {
     "end_time": "2016-03-01T17:17:57.227752",
     "start_time": "2016-03-01T17:17:57.073640"
    },
    "collapsed": false
   },
   "outputs": [
    {
     "name": "stdout",
     "output_type": "stream",
     "text": [
      "Scaling up social protection to cover one third of asset losses in the 68 provincies would left asset losses unchanged (from 81.92 to 81.92 billions per year), but reduce welfare losses by 14%\n"
     ]
    }
   ],
   "source": [
    "df_nosu = compute_resiliences( df.dropna().assign(sigma_p=0,sigma_r=0), **options )\n",
    "\n",
    "#welfare losses\n",
    "wa=df_with_results.dWtot_currency.sum()*1e-6\n",
    "wb=df_nosu.dWtot_currency.sum()*1e-6\n",
    "\n",
    "#asset losses\n",
    "ka = (df_with_results.dKtot).sum()*1e-6\n",
    "kb = (df_nosu.dKtot).sum()*1e-6\n",
    "\n",
    "print(\"Scaling up social protection to cover one third of asset losses in the {nb} provincies \\\n",
    "would left asset losses unchanged (from {ka:0.2f} to {kb:0.2f} billions per year), \\\n",
    "but reduce welfare losses by {YY:.0%}\".format(\n",
    "        XX=100*(kb-ka)/ka,ka=ka,kb=kb,YY=(wb-wa)/wb,nb=nb_countries_all_results)\n",
    "     )"
   ]
  },
  {
   "cell_type": "code",
   "execution_count": null,
   "metadata": {
    "collapsed": true
   },
   "outputs": [],
   "source": []
  }
 ],
 "metadata": {
  "kernelspec": {
   "display_name": "Python 3",
   "language": "python",
   "name": "python3"
  },
  "language_info": {
   "codemirror_mode": {
    "name": "ipython",
    "version": 3
   },
   "file_extension": ".py",
   "mimetype": "text/x-python",
   "name": "python",
   "nbconvert_exporter": "python",
   "pygments_lexer": "ipython3",
   "version": "3.4.4"
  }
 },
 "nbformat": 4,
 "nbformat_minor": 0
}
