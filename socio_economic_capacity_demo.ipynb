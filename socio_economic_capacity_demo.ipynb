{
 "cells": [
  {
   "cell_type": "markdown",
   "metadata": {},
   "source": [
    "This notebook demonstrates the usage of the resilience/socio-economic capacity model."
   ]
  },
  {
   "cell_type": "markdown",
   "metadata": {},
   "source": [
    "#### Technical settings for this notebook (newcommers ignore this)"
   ]
  },
  {
   "cell_type": "markdown",
   "metadata": {},
   "source": [
    "This first lines sets technical options for the python notebook. "
   ]
  },
  {
   "cell_type": "code",
   "execution_count": 41,
   "metadata": {
    "ExecuteTime": {
     "end_time": "2016-02-29T19:12:38.021458",
     "start_time": "2016-02-29T19:12:37.767766"
    },
    "collapsed": false
   },
   "outputs": [
    {
     "name": "stdout",
     "output_type": "stream",
     "text": [
      "The autoreload extension is already loaded. To reload it, use:\n",
      "  %reload_ext autoreload\n"
     ]
    }
   ],
   "source": [
    "#clears memory for a fresh start\n",
    "%reset-f\n",
    "\n",
    "#ask python to reload the function definitons each time before executing the functions\n",
    "%load_ext autoreload  \n",
    "%autoreload 2"
   ]
  },
  {
   "cell_type": "markdown",
   "metadata": {},
   "source": [
    "#### Loading functions"
   ]
  },
  {
   "cell_type": "markdown",
   "metadata": {},
   "source": [
    "We then import function librairies. The first ones are standard python librairies."
   ]
  },
  {
   "cell_type": "code",
   "execution_count": 42,
   "metadata": {
    "ExecuteTime": {
     "end_time": "2016-02-29T19:12:38.152081",
     "start_time": "2016-02-29T19:12:38.023460"
    },
    "collapsed": true
   },
   "outputs": [],
   "source": [
    "import pandas as pd  #The main package we use. Manipulates Excel-like tables (called dataframes) with named rows and columns\n",
    "import numpy as np   #standard mathematical functions and capablities such as log, exp, linear interpolation, etc"
   ]
  },
  {
   "cell_type": "code",
   "execution_count": 43,
   "metadata": {
    "ExecuteTime": {
     "end_time": "2016-02-29T19:12:38.281674",
     "start_time": "2016-02-29T19:12:38.154083"
    },
    "collapsed": false
   },
   "outputs": [],
   "source": [
    "#ploting capacities\n",
    "import matplotlib.pyplot as plt \n",
    "#make plots appear in this notebook\n",
    "%matplotlib inline  \n",
    "\n",
    "#Default options for plots: \n",
    "#this controls the font used in figures\n",
    "font = {'family' : 'sans serif',\n",
    "    'size'   : 22}\n",
    "plt.rc('font', **font)\n"
   ]
  },
  {
   "cell_type": "markdown",
   "metadata": {},
   "source": [
    "# Loading and exploring all the data"
   ]
  },
  {
   "cell_type": "markdown",
   "metadata": {},
   "source": [
    "Here we read the whole data set we need into a pandas table (called DataFrame).\n",
    "This specific dataset was put together from a variety of different sources using another python notebook: [data_gathering_demo.ipynb](data_gathering_demo.ipynb). In the future we could build directly an excel file with all the data the model needs."
   ]
  },
  {
   "cell_type": "code",
   "execution_count": 44,
   "metadata": {
    "ExecuteTime": {
     "end_time": "2016-02-29T19:12:38.502838",
     "start_time": "2016-02-29T19:12:38.283676"
    },
    "collapsed": false
   },
   "outputs": [
    {
     "data": {
      "text/html": [
       "<div>\n",
       "<table border=\"1\" class=\"dataframe\">\n",
       "  <thead>\n",
       "    <tr style=\"text-align: right;\">\n",
       "      <th></th>\n",
       "      <th>gdp_pc_pp</th>\n",
       "      <th>pop</th>\n",
       "      <th>plgp</th>\n",
       "      <th>unemp</th>\n",
       "      <th>bashs</th>\n",
       "      <th>pov_head</th>\n",
       "      <th>shew</th>\n",
       "      <th>ophe</th>\n",
       "      <th>gdp_pc_pp_nat</th>\n",
       "      <th>rel_gdp_pp</th>\n",
       "      <th>...</th>\n",
       "      <th>pv</th>\n",
       "      <th>v_s</th>\n",
       "      <th>protection</th>\n",
       "      <th>avg_prod_k</th>\n",
       "      <th>T_rebuild_K</th>\n",
       "      <th>pi</th>\n",
       "      <th>nat_buyout</th>\n",
       "      <th>sigma_r</th>\n",
       "      <th>sigma_p</th>\n",
       "      <th>income_elast</th>\n",
       "    </tr>\n",
       "    <tr>\n",
       "      <th>Province</th>\n",
       "      <th></th>\n",
       "      <th></th>\n",
       "      <th></th>\n",
       "      <th></th>\n",
       "      <th></th>\n",
       "      <th></th>\n",
       "      <th></th>\n",
       "      <th></th>\n",
       "      <th></th>\n",
       "      <th></th>\n",
       "      <th></th>\n",
       "      <th></th>\n",
       "      <th></th>\n",
       "      <th></th>\n",
       "      <th></th>\n",
       "      <th></th>\n",
       "      <th></th>\n",
       "      <th></th>\n",
       "      <th></th>\n",
       "      <th></th>\n",
       "      <th></th>\n",
       "    </tr>\n",
       "  </thead>\n",
       "  <tbody>\n",
       "    <tr>\n",
       "      <th>Abra</th>\n",
       "      <td>133.688</td>\n",
       "      <td>240135.244121</td>\n",
       "      <td>0.8827</td>\n",
       "      <td>0.165</td>\n",
       "      <td>0.857720</td>\n",
       "      <td>0.373595</td>\n",
       "      <td>0.953416</td>\n",
       "      <td>0.031414</td>\n",
       "      <td>184.136685</td>\n",
       "      <td>0.726026</td>\n",
       "      <td>...</td>\n",
       "      <td>0.392277</td>\n",
       "      <td>0.100000</td>\n",
       "      <td>10.57</td>\n",
       "      <td>0.23</td>\n",
       "      <td>3</td>\n",
       "      <td>0.2</td>\n",
       "      <td>0.3</td>\n",
       "      <td>0.333333</td>\n",
       "      <td>0.333333</td>\n",
       "      <td>1.5</td>\n",
       "    </tr>\n",
       "    <tr>\n",
       "      <th>Agusan Del Norte</th>\n",
       "      <td>179.014</td>\n",
       "      <td>661728.454375</td>\n",
       "      <td>0.7075</td>\n",
       "      <td>0.210</td>\n",
       "      <td>0.921445</td>\n",
       "      <td>0.346715</td>\n",
       "      <td>0.821277</td>\n",
       "      <td>0.034563</td>\n",
       "      <td>184.136685</td>\n",
       "      <td>0.972180</td>\n",
       "      <td>...</td>\n",
       "      <td>1.730839</td>\n",
       "      <td>0.100000</td>\n",
       "      <td>9.41</td>\n",
       "      <td>0.23</td>\n",
       "      <td>3</td>\n",
       "      <td>0.2</td>\n",
       "      <td>0.3</td>\n",
       "      <td>0.333333</td>\n",
       "      <td>0.333333</td>\n",
       "      <td>1.5</td>\n",
       "    </tr>\n",
       "    <tr>\n",
       "      <th>Agusan Del Sur</th>\n",
       "      <td>126.492</td>\n",
       "      <td>677779.682154</td>\n",
       "      <td>0.6871</td>\n",
       "      <td>0.210</td>\n",
       "      <td>0.727442</td>\n",
       "      <td>0.480785</td>\n",
       "      <td>0.821277</td>\n",
       "      <td>0.034563</td>\n",
       "      <td>184.136685</td>\n",
       "      <td>0.686946</td>\n",
       "      <td>...</td>\n",
       "      <td>0.949545</td>\n",
       "      <td>0.100000</td>\n",
       "      <td>8.61</td>\n",
       "      <td>0.23</td>\n",
       "      <td>3</td>\n",
       "      <td>0.2</td>\n",
       "      <td>0.3</td>\n",
       "      <td>0.333333</td>\n",
       "      <td>0.333333</td>\n",
       "      <td>1.5</td>\n",
       "    </tr>\n",
       "    <tr>\n",
       "      <th>Aklan</th>\n",
       "      <td>119.962</td>\n",
       "      <td>554414.442422</td>\n",
       "      <td>0.7210</td>\n",
       "      <td>0.188</td>\n",
       "      <td>0.806176</td>\n",
       "      <td>0.249662</td>\n",
       "      <td>0.823003</td>\n",
       "      <td>0.044318</td>\n",
       "      <td>184.136685</td>\n",
       "      <td>0.651483</td>\n",
       "      <td>...</td>\n",
       "      <td>NaN</td>\n",
       "      <td>0.135089</td>\n",
       "      <td>0.00</td>\n",
       "      <td>0.23</td>\n",
       "      <td>3</td>\n",
       "      <td>0.2</td>\n",
       "      <td>0.3</td>\n",
       "      <td>0.333333</td>\n",
       "      <td>0.333333</td>\n",
       "      <td>1.5</td>\n",
       "    </tr>\n",
       "    <tr>\n",
       "      <th>Albay</th>\n",
       "      <td>158.629</td>\n",
       "      <td>1264097.894966</td>\n",
       "      <td>0.7930</td>\n",
       "      <td>0.346</td>\n",
       "      <td>0.840840</td>\n",
       "      <td>0.409587</td>\n",
       "      <td>0.800000</td>\n",
       "      <td>0.032568</td>\n",
       "      <td>184.136685</td>\n",
       "      <td>0.861474</td>\n",
       "      <td>...</td>\n",
       "      <td>NaN</td>\n",
       "      <td>0.100000</td>\n",
       "      <td>0.00</td>\n",
       "      <td>0.23</td>\n",
       "      <td>3</td>\n",
       "      <td>0.2</td>\n",
       "      <td>0.3</td>\n",
       "      <td>0.333333</td>\n",
       "      <td>0.333333</td>\n",
       "      <td>1.5</td>\n",
       "    </tr>\n",
       "  </tbody>\n",
       "</table>\n",
       "<p>5 rows × 29 columns</p>\n",
       "</div>"
      ],
      "text/plain": [
       "                  gdp_pc_pp             pop    plgp  unemp     bashs  \\\n",
       "Province                                                               \n",
       "Abra                133.688   240135.244121  0.8827  0.165  0.857720   \n",
       "Agusan Del Norte    179.014   661728.454375  0.7075  0.210  0.921445   \n",
       "Agusan Del Sur      126.492   677779.682154  0.6871  0.210  0.727442   \n",
       "Aklan               119.962   554414.442422  0.7210  0.188  0.806176   \n",
       "Albay               158.629  1264097.894966  0.7930  0.346  0.840840   \n",
       "\n",
       "                  pov_head      shew      ophe  gdp_pc_pp_nat  rel_gdp_pp  \\\n",
       "Province                                                                    \n",
       "Abra              0.373595  0.953416  0.031414     184.136685    0.726026   \n",
       "Agusan Del Norte  0.346715  0.821277  0.034563     184.136685    0.972180   \n",
       "Agusan Del Sur    0.480785  0.821277  0.034563     184.136685    0.686946   \n",
       "Aklan             0.249662  0.823003  0.044318     184.136685    0.651483   \n",
       "Albay             0.409587  0.800000  0.032568     184.136685    0.861474   \n",
       "\n",
       "                      ...             pv       v_s  protection  avg_prod_k  \\\n",
       "Province              ...                                                    \n",
       "Abra                  ...       0.392277  0.100000       10.57        0.23   \n",
       "Agusan Del Norte      ...       1.730839  0.100000        9.41        0.23   \n",
       "Agusan Del Sur        ...       0.949545  0.100000        8.61        0.23   \n",
       "Aklan                 ...            NaN  0.135089        0.00        0.23   \n",
       "Albay                 ...            NaN  0.100000        0.00        0.23   \n",
       "\n",
       "                  T_rebuild_K   pi  nat_buyout   sigma_r   sigma_p  \\\n",
       "Province                                                             \n",
       "Abra                        3  0.2         0.3  0.333333  0.333333   \n",
       "Agusan Del Norte            3  0.2         0.3  0.333333  0.333333   \n",
       "Agusan Del Sur              3  0.2         0.3  0.333333  0.333333   \n",
       "Aklan                       3  0.2         0.3  0.333333  0.333333   \n",
       "Albay                       3  0.2         0.3  0.333333  0.333333   \n",
       "\n",
       "                  income_elast  \n",
       "Province                        \n",
       "Abra                       1.5  \n",
       "Agusan Del Norte           1.5  \n",
       "Agusan Del Sur             1.5  \n",
       "Aklan                      1.5  \n",
       "Albay                      1.5  \n",
       "\n",
       "[5 rows x 29 columns]"
      ]
     },
     "execution_count": 44,
     "metadata": {},
     "output_type": "execute_result"
    }
   ],
   "source": [
    "#Load the excel data file into a dataframe (table)\n",
    "df=pd.read_excel(\"all_data_compiled.xlsx\", index_col=\"Province\") #tells Panda to use the column \"Province\" as the index of the table\n",
    "\n",
    "#Displays the first rows of that table\n",
    "df.head()"
   ]
  },
  {
   "cell_type": "markdown",
   "metadata": {},
   "source": [
    "The columns names correspond to variable in a model, so they are not all self-explanatory. For a description of the variables, see [inputs/inputs_info.csv](inputs/inputs_info.csv)"
   ]
  },
  {
   "cell_type": "markdown",
   "metadata": {},
   "source": [
    "Let's get familiar with Dataframes. Here is how to look at specific rows or columns."
   ]
  },
  {
   "cell_type": "code",
   "execution_count": 45,
   "metadata": {
    "ExecuteTime": {
     "end_time": "2016-02-29T19:12:38.633937",
     "start_time": "2016-02-29T19:12:38.505841"
    },
    "collapsed": false
   },
   "outputs": [
    {
     "data": {
      "text/plain": [
       "gdp_pc_pp       133.688000\n",
       "pop          240135.244121\n",
       "plgp              0.882700\n",
       "unemp             0.165000\n",
       "bashs             0.857720\n",
       "Name: Abra, dtype: float64"
      ]
     },
     "execution_count": 45,
     "metadata": {},
     "output_type": "execute_result"
    }
   ],
   "source": [
    "df.ix[\"Abra\"].head() #all the data we have on Abra. The head() method returns only the first few lines for saving space"
   ]
  },
  {
   "cell_type": "code",
   "execution_count": 46,
   "metadata": {
    "ExecuteTime": {
     "end_time": "2016-02-29T19:12:38.767638",
     "start_time": "2016-02-29T19:12:38.636939"
    },
    "collapsed": false
   },
   "outputs": [
    {
     "data": {
      "text/plain": [
       "Province\n",
       "Abra                 240135.244121\n",
       "Agusan Del Norte     661728.454375\n",
       "Agusan Del Sur       677779.682154\n",
       "Aklan                554414.442422\n",
       "Albay               1264097.894966\n",
       "Name: pop, dtype: float64"
      ]
     },
     "execution_count": 46,
     "metadata": {},
     "output_type": "execute_result"
    }
   ],
   "source": [
    "df[\"pop\"].head() #population in all provinces"
   ]
  },
  {
   "cell_type": "markdown",
   "metadata": {},
   "source": [
    "Rather than displaying the actual numbers, we can plot it in a few ways. Here is the distribution of income accross provinces"
   ]
  },
  {
   "cell_type": "code",
   "execution_count": 47,
   "metadata": {
    "ExecuteTime": {
     "end_time": "2016-02-29T19:12:39.257291",
     "start_time": "2016-02-29T19:12:38.770638"
    },
    "collapsed": false
   },
   "outputs": [
    {
     "data": {
      "image/png": "[encoded data removed]",
      "text/plain": [
       "<matplotlib.figure.Figure at 0x91ad1d0>"
      ]
     },
     "metadata": {},
     "output_type": "display_data"
    }
   ],
   "source": [
    "df.gdp_pc_pp.plot.hist(figsize=(7,7))\n",
    "plt.xlabel(\"Average income in the province ($\\\\times$1000 pesos)\");"
   ]
  },
  {
   "cell_type": "code",
   "execution_count": null,
   "metadata": {
    "collapsed": false
   },
   "outputs": [],
   "source": []
  },
  {
   "cell_type": "markdown",
   "metadata": {},
   "source": [
    "And below is a scatter plot showing average income, poverty incidence, and size (population) of each province"
   ]
  },
  {
   "cell_type": "code",
   "execution_count": 48,
   "metadata": {
    "ExecuteTime": {
     "end_time": "2016-02-29T19:12:39.679600",
     "start_time": "2016-02-29T19:12:39.260292"
    },
    "collapsed": false
   },
   "outputs": [
    {
     "data": {
      "image/png": "[encoded data removed]",
      "text/plain": [
       "<matplotlib.figure.Figure at 0x6090048>"
      ]
     },
     "metadata": {},
     "output_type": "display_data"
    }
   ],
   "source": [
    "df.plot.scatter(x=\"gdp_pc_pp\", y=\"pov_head\", s=df[\"pop\"]/1e4, alpha=0.5, figsize=(7,7))\n",
    "plt.xlabel(\"Average income\")\n",
    "plt.ylabel(\"Poverty incidence\")\n",
    "plt.ylim(0);"
   ]
  },
  {
   "cell_type": "markdown",
   "metadata": {},
   "source": [
    "# Computing socio-economic capacity"
   ]
  },
  {
   "cell_type": "markdown",
   "metadata": {},
   "source": [
    "Now that we have minimum familiarity with dataframes, let us use the resilience model. Let us first read the function definitions, from [res_ind_lib.py](res_ind_lib.py)"
   ]
  },
  {
   "cell_type": "code",
   "execution_count": 49,
   "metadata": {
    "ExecuteTime": {
     "end_time": "2016-02-29T19:12:39.816321",
     "start_time": "2016-02-29T19:12:39.682602"
    },
    "collapsed": true
   },
   "outputs": [],
   "source": [
    "from res_ind_lib import *     #MAIN library: the functions used to compute risk, resilience, etc"
   ]
  },
  {
   "cell_type": "markdown",
   "metadata": {},
   "source": [
    "Before running the model, for technical reason, we need to define \"reference\" values for some variables. The following function does it."
   ]
  },
  {
   "cell_type": "code",
   "execution_count": 50,
   "metadata": {
    "ExecuteTime": {
     "end_time": "2016-02-29T19:12:39.959952",
     "start_time": "2016-02-29T19:12:39.818322"
    },
    "collapsed": false
   },
   "outputs": [
    {
     "data": {
      "text/html": [
       "<div>\n",
       "<table border=\"1\" class=\"dataframe\">\n",
       "  <thead>\n",
       "    <tr style=\"text-align: right;\">\n",
       "      <th></th>\n",
       "      <th>fa</th>\n",
       "      <th>faref</th>\n",
       "    </tr>\n",
       "    <tr>\n",
       "      <th>Province</th>\n",
       "      <th></th>\n",
       "      <th></th>\n",
       "    </tr>\n",
       "  </thead>\n",
       "  <tbody>\n",
       "    <tr>\n",
       "      <th>Abra</th>\n",
       "      <td>0.1641</td>\n",
       "      <td>0.1641</td>\n",
       "    </tr>\n",
       "    <tr>\n",
       "      <th>Agusan Del Norte</th>\n",
       "      <td>0.3180</td>\n",
       "      <td>0.3180</td>\n",
       "    </tr>\n",
       "    <tr>\n",
       "      <th>Agusan Del Sur</th>\n",
       "      <td>0.1146</td>\n",
       "      <td>0.1146</td>\n",
       "    </tr>\n",
       "    <tr>\n",
       "      <th>Apayao</th>\n",
       "      <td>0.0040</td>\n",
       "      <td>0.0040</td>\n",
       "    </tr>\n",
       "    <tr>\n",
       "      <th>Batangas</th>\n",
       "      <td>0.0023</td>\n",
       "      <td>0.0023</td>\n",
       "    </tr>\n",
       "  </tbody>\n",
       "</table>\n",
       "</div>"
      ],
      "text/plain": [
       "                      fa   faref\n",
       "Province                        \n",
       "Abra              0.1641  0.1641\n",
       "Agusan Del Norte  0.3180  0.3180\n",
       "Agusan Del Sur    0.1146  0.1146\n",
       "Apayao            0.0040  0.0040\n",
       "Batangas          0.0023  0.0023"
      ]
     },
     "execution_count": 50,
     "metadata": {},
     "output_type": "execute_result"
    }
   ],
   "source": [
    "df = def_ref_values(df).dropna()\n",
    "df[[\"fa\", \"faref\"]].head()"
   ]
  },
  {
   "cell_type": "markdown",
   "metadata": {},
   "source": [
    "#### Central cases"
   ]
  },
  {
   "cell_type": "code",
   "execution_count": 51,
   "metadata": {
    "ExecuteTime": {
     "end_time": "2016-02-29T19:12:40.199655",
     "start_time": "2016-02-29T19:12:39.962953"
    },
    "collapsed": false
   },
   "outputs": [
    {
     "name": "stdout",
     "output_type": "stream",
     "text": [
      "nb Provinces with all data :35\n",
      "nb Provinces with all data and results :35\n"
     ]
    }
   ],
   "source": [
    "df_with_results=compute_resiliences(df)\n",
    "\n",
    "\n",
    "print(\"nb Provinces with all data :\"+str(df.dropna().shape[0]))\n",
    "nb_countries_all_results = df_with_results[\"resilience\"].dropna().shape[0]\n",
    "print(\"nb Provinces with all data and results :\"+str(nb_countries_all_results))\n",
    "\n",
    "df_with_results.to_csv(\"all_data_and_results.csv\")\n"
   ]
  },
  {
   "cell_type": "markdown",
   "metadata": {},
   "source": [
    "#### Basic reporting"
   ]
  },
  {
   "cell_type": "code",
   "execution_count": 52,
   "metadata": {
    "ExecuteTime": {
     "end_time": "2016-02-29T19:12:40.861707",
     "start_time": "2016-02-29T19:12:40.202657"
    },
    "collapsed": false
   },
   "outputs": [
    {
     "name": "stdout",
     "output_type": "stream",
     "text": [
      "Resilience averages 76% across our sample, ranging from 32% to 187%\n"
     ]
    },
    {
     "data": {
      "image/png": "[encoded data removed]",
      "text/plain": [
       "<matplotlib.figure.Figure at 0x609d5c0>"
      ]
     },
     "metadata": {},
     "output_type": "display_data"
    }
   ],
   "source": [
    "#Some stats\n",
    "a=df_with_results.resilience;\n",
    "a.min()*100,a.mean()*100,a.max()*100\n",
    "print(\"Resilience averages {mean:.0%} across our sample, ranging from {min:.0%} to {max:.0%}\".format(\n",
    "    min=a.min(),mean=a.mean(),max=a.max()))\n",
    "(100*a).plot.hist(figsize=(7,7));"
   ]
  },
  {
   "cell_type": "code",
   "execution_count": 53,
   "metadata": {
    "ExecuteTime": {
     "end_time": "2016-02-29T19:12:41.150883",
     "start_time": "2016-02-29T19:12:40.864708"
    },
    "collapsed": false
   },
   "outputs": [
    {
     "data": {
      "text/html": [
       "<div>\n",
       "<table border=\"1\" class=\"dataframe\">\n",
       "  <thead>\n",
       "    <tr style=\"text-align: right;\">\n",
       "      <th></th>\n",
       "      <th>Average income in the province</th>\n",
       "      <th>Population</th>\n",
       "      <th>Hazard (protection)</th>\n",
       "      <th>Exposure</th>\n",
       "      <th>Vulnerability without early warning</th>\n",
       "      <th>Socio-economic capacity</th>\n",
       "      <th>Risk to well-being</th>\n",
       "    </tr>\n",
       "    <tr>\n",
       "      <th>Province</th>\n",
       "      <th></th>\n",
       "      <th></th>\n",
       "      <th></th>\n",
       "      <th></th>\n",
       "      <th></th>\n",
       "      <th></th>\n",
       "      <th></th>\n",
       "    </tr>\n",
       "  </thead>\n",
       "  <tbody>\n",
       "    <tr>\n",
       "      <th>Abra</th>\n",
       "      <td>133.688</td>\n",
       "      <td>240135.244121</td>\n",
       "      <td>10.57</td>\n",
       "      <td>16.41</td>\n",
       "      <td>10.950645</td>\n",
       "      <td>55.592348</td>\n",
       "      <td>0.911239</td>\n",
       "    </tr>\n",
       "    <tr>\n",
       "      <th>Agusan Del Norte</th>\n",
       "      <td>179.014</td>\n",
       "      <td>661728.454375</td>\n",
       "      <td>9.41</td>\n",
       "      <td>31.80</td>\n",
       "      <td>13.318252</td>\n",
       "      <td>61.561230</td>\n",
       "      <td>1.962686</td>\n",
       "    </tr>\n",
       "    <tr>\n",
       "      <th>Agusan Del Sur</th>\n",
       "      <td>126.492</td>\n",
       "      <td>677779.682154</td>\n",
       "      <td>8.61</td>\n",
       "      <td>11.46</td>\n",
       "      <td>14.883759</td>\n",
       "      <td>43.207125</td>\n",
       "      <td>0.909553</td>\n",
       "    </tr>\n",
       "    <tr>\n",
       "      <th>Apayao</th>\n",
       "      <td>158.732</td>\n",
       "      <td>116022.676390</td>\n",
       "      <td>6.51</td>\n",
       "      <td>0.40</td>\n",
       "      <td>10.946942</td>\n",
       "      <td>49.606849</td>\n",
       "      <td>0.032675</td>\n",
       "    </tr>\n",
       "    <tr>\n",
       "      <th>Batangas</th>\n",
       "      <td>219.272</td>\n",
       "      <td>2485002.055465</td>\n",
       "      <td>7.73</td>\n",
       "      <td>0.23</td>\n",
       "      <td>10.704553</td>\n",
       "      <td>109.183420</td>\n",
       "      <td>0.009178</td>\n",
       "    </tr>\n",
       "  </tbody>\n",
       "</table>\n",
       "</div>"
      ],
      "text/plain": [
       "                   Average income in the province      Population  \\\n",
       "Province                                                            \n",
       "Abra                                      133.688   240135.244121   \n",
       "Agusan Del Norte                          179.014   661728.454375   \n",
       "Agusan Del Sur                            126.492   677779.682154   \n",
       "Apayao                                    158.732   116022.676390   \n",
       "Batangas                                  219.272  2485002.055465   \n",
       "\n",
       "                   Hazard (protection)  Exposure  \\\n",
       "Province                                           \n",
       "Abra                             10.57     16.41   \n",
       "Agusan Del Norte                  9.41     31.80   \n",
       "Agusan Del Sur                    8.61     11.46   \n",
       "Apayao                            6.51      0.40   \n",
       "Batangas                          7.73      0.23   \n",
       "\n",
       "                  Vulnerability without early warning  \\\n",
       "Province                                                \n",
       "Abra                                        10.950645   \n",
       "Agusan Del Norte                            13.318252   \n",
       "Agusan Del Sur                              14.883759   \n",
       "Apayao                                      10.946942   \n",
       "Batangas                                    10.704553   \n",
       "\n",
       "                  Socio-economic capacity  Risk to well-being  \n",
       "Province                                                       \n",
       "Abra                            55.592348            0.911239  \n",
       "Agusan Del Norte                61.561230            1.962686  \n",
       "Agusan Del Sur                  43.207125            0.909553  \n",
       "Apayao                          49.606849            0.032675  \n",
       "Batangas                       109.183420            0.009178  "
      ]
     },
     "execution_count": 53,
     "metadata": {},
     "output_type": "execute_result"
    }
   ],
   "source": [
    "#Outputs table with main results\n",
    "to_output = ['gdp_pc_pp', 'pop',\"protection\",\"fa\",\"v\",\"resilience\",\"risk\"]\n",
    "a=df_with_results[to_output].copy()\n",
    "a.loc[:,[\"fa\",\"v\",\"resilience\",\"risk\"]]=100*a[[\"fa\",\"v\",\"resilience\",\"risk\"]]\n",
    "desc=pd.read_csv(\"inputs/inputs_info.csv\").set_index('key')[\"descriptor\"]\n",
    "a=a.rename(columns=desc).dropna()\n",
    "a.to_excel(\"main results.xlsx\")\n",
    "a.head()"
   ]
  },
  {
   "cell_type": "markdown",
   "metadata": {},
   "source": [
    "# Categorizing provinces"
   ]
  },
  {
   "cell_type": "code",
   "execution_count": 54,
   "metadata": {
    "ExecuteTime": {
     "end_time": "2016-02-29T19:12:41.478142",
     "start_time": "2016-02-29T19:12:41.158888"
    },
    "collapsed": false
   },
   "outputs": [
    {
     "data": {
      "text/html": [
       "<div>\n",
       "<table border=\"1\" class=\"dataframe\">\n",
       "  <thead>\n",
       "    <tr style=\"text-align: right;\">\n",
       "      <th></th>\n",
       "      <th>resilience</th>\n",
       "      <th>risk</th>\n",
       "    </tr>\n",
       "  </thead>\n",
       "  <tbody>\n",
       "    <tr>\n",
       "      <th>Abra</th>\n",
       "      <td>Low</td>\n",
       "      <td>High</td>\n",
       "    </tr>\n",
       "    <tr>\n",
       "      <th>Agusan Del Norte</th>\n",
       "      <td>Mid</td>\n",
       "      <td>High</td>\n",
       "    </tr>\n",
       "    <tr>\n",
       "      <th>Agusan Del Sur</th>\n",
       "      <td>Low</td>\n",
       "      <td>High</td>\n",
       "    </tr>\n",
       "    <tr>\n",
       "      <th>Apayao</th>\n",
       "      <td>Low</td>\n",
       "      <td>Low</td>\n",
       "    </tr>\n",
       "    <tr>\n",
       "      <th>Batangas</th>\n",
       "      <td>High</td>\n",
       "      <td>Low</td>\n",
       "    </tr>\n",
       "  </tbody>\n",
       "</table>\n",
       "</div>"
      ],
      "text/plain": [
       "                 resilience  risk\n",
       "Abra                    Low  High\n",
       "Agusan Del Norte        Mid  High\n",
       "Agusan Del Sur          Low  High\n",
       "Apayao                  Low   Low\n",
       "Batangas               High   Low"
      ]
     },
     "execution_count": 54,
     "metadata": {},
     "output_type": "execute_result"
    }
   ],
   "source": [
    "categories = pd.DataFrame([make_tiers(df_with_results.resilience), make_tiers(df_with_results.risk)]).T.dropna()\n",
    "categories_to_formated_excel_file(categories,\"categories.xlsx\")\n",
    "categories.head()"
   ]
  },
  {
   "cell_type": "markdown",
   "metadata": {},
   "source": [
    "Risk to assets, socio-economic capacity, and total welfare risk can also be visualized in maps (see [draw_maps.ipynb](draw_maps.ipynb) for how to build these maps)"
   ]
  },
  {
   "cell_type": "markdown",
   "metadata": {},
   "source": [
    "#### Mapping the results"
   ]
  },
  {
   "cell_type": "markdown",
   "metadata": {},
   "source": [
    " <table border=\"0\" style=\"border:none\">\n",
    "  <tr>\n",
    "    <td>![title](img/map_and_legend_of_asset_risk.png)</td>\n",
    "    <td>![title](img/map_and_legend_of_se_capacity.png)</td>\n",
    "    <td>![title](img/map_and_legend_of_welfare_risk.png)</td>\n",
    "  </tr>\n",
    "</table> \n"
   ]
  },
  {
   "cell_type": "markdown",
   "metadata": {
    "collapsed": true
   },
   "source": [
    "# Policy experiments"
   ]
  },
  {
   "cell_type": "markdown",
   "metadata": {},
   "source": [
    "#### Impact of decreasing poverty incidence"
   ]
  },
  {
   "cell_type": "code",
   "execution_count": 55,
   "metadata": {
    "ExecuteTime": {
     "end_time": "2016-02-29T19:12:41.776894",
     "start_time": "2016-02-29T19:12:41.482144"
    },
    "collapsed": false
   },
   "outputs": [
    {
     "name": "stdout",
     "output_type": "stream",
     "text": [
      " Decreasing poverty incidence by 1 percent in the 35 provincies would increase asset losses from USD 0 to 0 billions per year (+-0.7 percent), but reduce welfare losses by 1.9 percent\n"
     ]
    }
   ],
   "source": [
    "df_share1 = compute_resiliences( df.dropna().assign(pov_head=df.pov_head-1/100) )\n",
    "\n",
    "#welfare losses\n",
    "wa=df_with_results.total_equivalent_cost.sum()*1e-9\n",
    "wb=df_share1.total_equivalent_cost.sum()*1e-9\n",
    "\n",
    "#asset losses\n",
    "ka = (df_with_results.dKtot/df.protection).sum()*1e-9\n",
    "kb = (df_share1.dKtot/df_share1.protection).sum()*1e-9\n",
    "\n",
    "print(\" Decreasing poverty incidence by 1 percent in the {nb} provincies \\\n",
    "would increase asset losses from USD {ka:0.0f} to {kb:0.0f} billions per year \\\n",
    "(+{XX:.1f} percent), but reduce welfare losses by {YY:.2} percent\".format(\n",
    "        XX=100*(kb-ka)/ka,ka=ka,kb=kb,YY=100*(wa-wb)/wa,nb=nb_countries_all_results)\n",
    "     )"
   ]
  },
  {
   "cell_type": "markdown",
   "metadata": {},
   "source": [
    "#### Impact of increasing effective scale up"
   ]
  },
  {
   "cell_type": "code",
   "execution_count": 56,
   "metadata": {
    "ExecuteTime": {
     "end_time": "2016-02-29T19:12:41.997552",
     "start_time": "2016-02-29T19:12:41.779896"
    },
    "collapsed": false
   },
   "outputs": [
    {
     "name": "stdout",
     "output_type": "stream",
     "text": [
      " Increasing effective scale up to 100% in the 35 provincies would increase asset losses from 16.48 to 16.48 billions per year (+0.0 percent), but reduce welfare losses by 4.8e+01 percent\n"
     ]
    }
   ],
   "source": [
    "df_su = compute_resiliences( df.dropna().assign(sigma_p=1) )\n",
    "\n",
    "#welfare losses\n",
    "wa=df_with_results.total_equivalent_cost.sum()*1e-6\n",
    "wb=df_su.total_equivalent_cost.sum()*1e-6\n",
    "\n",
    "#asset losses\n",
    "ka = (df_with_results.dKtot/df.protection).sum()*1e-6\n",
    "kb = (df_su.dKtot/df_su.protection).sum()*1e-6\n",
    "\n",
    "print(\" Increasing effective scale up to 100% in the {nb} provincies \\\n",
    "would increase asset losses from {ka:0.2f} to {kb:0.2f} billions per year \\\n",
    "(+{XX:.1f} percent), but reduce welfare losses by {YY:.2} percent\".format(\n",
    "        XX=100*(kb-ka)/ka,ka=ka,kb=kb,YY=100*(wa-wb)/wa,nb=nb_countries_all_results)\n",
    "     )"
   ]
  }
 ],
 "metadata": {
  "kernelspec": {
   "display_name": "Python 3",
   "language": "python",
   "name": "python3"
  },
  "language_info": {
   "codemirror_mode": {
    "name": "ipython",
    "version": 3
   },
   "file_extension": ".py",
   "mimetype": "text/x-python",
   "name": "python",
   "nbconvert_exporter": "python",
   "pygments_lexer": "ipython3",
   "version": "3.4.4"
  }
 },
 "nbformat": 4,
 "nbformat_minor": 0
}
