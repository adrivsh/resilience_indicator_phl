{
 "cells": [
  {
   "cell_type": "code",
   "execution_count": 185,
   "metadata": {
    "collapsed": false
   },
   "outputs": [
    {
     "name": "stdout",
     "output_type": "stream",
     "text": [
      "The autoreload extension is already loaded. To reload it, use:\n",
      "  %reload_ext autoreload\n"
     ]
    }
   ],
   "source": [
    "%reset-f\n",
    "%load_ext autoreload\n",
    "%autoreload 2"
   ]
  },
  {
   "cell_type": "markdown",
   "metadata": {},
   "source": [
    "This notebook demonstrates the usage of the resilience/socio-economic capacity model."
   ]
  },
  {
   "cell_type": "markdown",
   "metadata": {},
   "source": [
    "# Loading functions"
   ]
  },
  {
   "cell_type": "markdown",
   "metadata": {},
   "source": [
    "We first import function librairies. The first ones are standard python librairies."
   ]
  },
  {
   "cell_type": "code",
   "execution_count": 186,
   "metadata": {
    "ExecuteTime": {
     "end_time": "2016-03-01T17:17:53.864183",
     "start_time": "2016-03-01T17:17:53.033410"
    },
    "collapsed": true
   },
   "outputs": [],
   "source": [
    "#The main library we use. Manipulates Excel-like tables (called dataframes) with named rows and columns\n",
    "import pandas as pd "
   ]
  },
  {
   "cell_type": "code",
   "execution_count": 187,
   "metadata": {
    "ExecuteTime": {
     "end_time": "2016-03-01T17:17:54.317508",
     "start_time": "2016-03-01T17:17:53.867185"
    },
    "code_folding": [],
    "collapsed": false
   },
   "outputs": [],
   "source": [
    "#ploting capacities\n",
    "import matplotlib.pyplot as plt \n",
    "#make plots appear in this notebook\n",
    "%matplotlib inline  \n",
    "\n",
    "#Default options for plots: this controls the font used in figures\n",
    "font = {'family' : 'sans serif',\n",
    "    'size'   : 18}\n",
    "plt.rc('font', **font)\n"
   ]
  },
  {
   "cell_type": "markdown",
   "metadata": {},
   "source": [
    "# Loading and exploring all the data"
   ]
  },
  {
   "cell_type": "markdown",
   "metadata": {},
   "source": [
    "Here we read the whole data set we need into a pandas table (called DataFrame).\n",
    "This specific dataset was put together from a variety of different sources using another python notebook: [data_gathering_demo.ipynb](data_gathering_demo.ipynb). In the future we could build directly an excel file with all the data the model needs."
   ]
  },
  {
   "cell_type": "code",
   "execution_count": 188,
   "metadata": {
    "collapsed": false
   },
   "outputs": [],
   "source": [
    " #Let's first have a look at the Excel file\n",
    "pd.read_excel(\"all_data_compiled.xlsx\").head();"
   ]
  },
  {
   "cell_type": "markdown",
   "metadata": {},
   "source": [
    "We see that the Escel files srtat with one line of description, the second line is that actual variable name in the model, and the thirs line is empty. We also see that the first column is the name of each Province, which we will use to index the data."
   ]
  },
  {
   "cell_type": "code",
   "execution_count": 189,
   "metadata": {
    "ExecuteTime": {
     "end_time": "2016-03-01T17:17:54.448613",
     "start_time": "2016-03-01T17:17:54.319509"
    },
    "collapsed": false
   },
   "outputs": [
    {
     "data": {
      "text/html": [
       "<div>\n",
       "<table border=\"1\" class=\"dataframe\">\n",
       "  <thead>\n",
       "    <tr style=\"text-align: right;\">\n",
       "      <th></th>\n",
       "      <th>gdp_pc_pp</th>\n",
       "      <th>pop</th>\n",
       "      <th>pov_head</th>\n",
       "      <th>shew</th>\n",
       "      <th>gdp_pc_pp_nat</th>\n",
       "      <th>rel_gdp_pp</th>\n",
       "      <th>share1</th>\n",
       "      <th>axfin_p</th>\n",
       "      <th>axfin_r</th>\n",
       "      <th>social_p</th>\n",
       "      <th>...</th>\n",
       "      <th>v_p</th>\n",
       "      <th>v_r</th>\n",
       "      <th>protection</th>\n",
       "      <th>avg_prod_k</th>\n",
       "      <th>T_rebuild_K</th>\n",
       "      <th>pi</th>\n",
       "      <th>nat_buyout</th>\n",
       "      <th>sigma_r</th>\n",
       "      <th>sigma_p</th>\n",
       "      <th>income_elast</th>\n",
       "    </tr>\n",
       "    <tr>\n",
       "      <th>province</th>\n",
       "      <th></th>\n",
       "      <th></th>\n",
       "      <th></th>\n",
       "      <th></th>\n",
       "      <th></th>\n",
       "      <th></th>\n",
       "      <th></th>\n",
       "      <th></th>\n",
       "      <th></th>\n",
       "      <th></th>\n",
       "      <th></th>\n",
       "      <th></th>\n",
       "      <th></th>\n",
       "      <th></th>\n",
       "      <th></th>\n",
       "      <th></th>\n",
       "      <th></th>\n",
       "      <th></th>\n",
       "      <th></th>\n",
       "      <th></th>\n",
       "      <th></th>\n",
       "    </tr>\n",
       "  </thead>\n",
       "  <tbody>\n",
       "    <tr>\n",
       "      <th>Abra</th>\n",
       "      <td>133.688</td>\n",
       "      <td>240135.244121</td>\n",
       "      <td>0.373595</td>\n",
       "      <td>0.953416</td>\n",
       "      <td>184.136685</td>\n",
       "      <td>0.726026</td>\n",
       "      <td>0.374005</td>\n",
       "      <td>0.693233</td>\n",
       "      <td>0.693233</td>\n",
       "      <td>0.408683</td>\n",
       "      <td>...</td>\n",
       "      <td>0.152463</td>\n",
       "      <td>0.100000</td>\n",
       "      <td>10.57</td>\n",
       "      <td>0.23</td>\n",
       "      <td>3</td>\n",
       "      <td>0.2</td>\n",
       "      <td>0.3</td>\n",
       "      <td>0.333333</td>\n",
       "      <td>0.333333</td>\n",
       "      <td>1.5</td>\n",
       "    </tr>\n",
       "    <tr>\n",
       "      <th>Agusan Del Norte</th>\n",
       "      <td>179.014</td>\n",
       "      <td>661728.454375</td>\n",
       "      <td>0.346715</td>\n",
       "      <td>0.821277</td>\n",
       "      <td>184.136685</td>\n",
       "      <td>0.972180</td>\n",
       "      <td>0.279308</td>\n",
       "      <td>0.496880</td>\n",
       "      <td>0.496880</td>\n",
       "      <td>0.388003</td>\n",
       "      <td>...</td>\n",
       "      <td>0.363700</td>\n",
       "      <td>0.100000</td>\n",
       "      <td>9.41</td>\n",
       "      <td>0.23</td>\n",
       "      <td>3</td>\n",
       "      <td>0.2</td>\n",
       "      <td>0.3</td>\n",
       "      <td>0.333333</td>\n",
       "      <td>0.333333</td>\n",
       "      <td>1.5</td>\n",
       "    </tr>\n",
       "    <tr>\n",
       "      <th>Agusan Del Sur</th>\n",
       "      <td>126.492</td>\n",
       "      <td>677779.682154</td>\n",
       "      <td>0.480785</td>\n",
       "      <td>0.821277</td>\n",
       "      <td>184.136685</td>\n",
       "      <td>0.686946</td>\n",
       "      <td>0.395282</td>\n",
       "      <td>0.475969</td>\n",
       "      <td>0.475969</td>\n",
       "      <td>0.388003</td>\n",
       "      <td>...</td>\n",
       "      <td>0.290166</td>\n",
       "      <td>0.100000</td>\n",
       "      <td>8.61</td>\n",
       "      <td>0.23</td>\n",
       "      <td>3</td>\n",
       "      <td>0.2</td>\n",
       "      <td>0.3</td>\n",
       "      <td>0.333333</td>\n",
       "      <td>0.333333</td>\n",
       "      <td>1.5</td>\n",
       "    </tr>\n",
       "    <tr>\n",
       "      <th>Aklan</th>\n",
       "      <td>119.962</td>\n",
       "      <td>554414.442422</td>\n",
       "      <td>0.249662</td>\n",
       "      <td>0.823003</td>\n",
       "      <td>184.136685</td>\n",
       "      <td>0.651483</td>\n",
       "      <td>0.416799</td>\n",
       "      <td>0.660083</td>\n",
       "      <td>0.660083</td>\n",
       "      <td>0.432903</td>\n",
       "      <td>...</td>\n",
       "      <td>0.389419</td>\n",
       "      <td>0.135089</td>\n",
       "      <td>0.00</td>\n",
       "      <td>0.23</td>\n",
       "      <td>3</td>\n",
       "      <td>0.2</td>\n",
       "      <td>0.3</td>\n",
       "      <td>0.333333</td>\n",
       "      <td>0.333333</td>\n",
       "      <td>1.5</td>\n",
       "    </tr>\n",
       "    <tr>\n",
       "      <th>Albay</th>\n",
       "      <td>158.629</td>\n",
       "      <td>1264097.894966</td>\n",
       "      <td>0.409587</td>\n",
       "      <td>0.800000</td>\n",
       "      <td>184.136685</td>\n",
       "      <td>0.861474</td>\n",
       "      <td>0.315201</td>\n",
       "      <td>0.551314</td>\n",
       "      <td>0.551314</td>\n",
       "      <td>0.403794</td>\n",
       "      <td>...</td>\n",
       "      <td>0.339852</td>\n",
       "      <td>0.100000</td>\n",
       "      <td>0.00</td>\n",
       "      <td>0.23</td>\n",
       "      <td>3</td>\n",
       "      <td>0.2</td>\n",
       "      <td>0.3</td>\n",
       "      <td>0.333333</td>\n",
       "      <td>0.333333</td>\n",
       "      <td>1.5</td>\n",
       "    </tr>\n",
       "  </tbody>\n",
       "</table>\n",
       "<p>5 rows × 23 columns</p>\n",
       "</div>"
      ],
      "text/plain": [
       "                  gdp_pc_pp             pop  pov_head      shew  \\\n",
       "province                                                          \n",
       "Abra                133.688   240135.244121  0.373595  0.953416   \n",
       "Agusan Del Norte    179.014   661728.454375  0.346715  0.821277   \n",
       "Agusan Del Sur      126.492   677779.682154  0.480785  0.821277   \n",
       "Aklan               119.962   554414.442422  0.249662  0.823003   \n",
       "Albay               158.629  1264097.894966  0.409587  0.800000   \n",
       "\n",
       "                  gdp_pc_pp_nat  rel_gdp_pp    share1   axfin_p   axfin_r  \\\n",
       "province                                                                    \n",
       "Abra                 184.136685    0.726026  0.374005  0.693233  0.693233   \n",
       "Agusan Del Norte     184.136685    0.972180  0.279308  0.496880  0.496880   \n",
       "Agusan Del Sur       184.136685    0.686946  0.395282  0.475969  0.475969   \n",
       "Aklan                184.136685    0.651483  0.416799  0.660083  0.660083   \n",
       "Albay                184.136685    0.861474  0.315201  0.551314  0.551314   \n",
       "\n",
       "                  social_p      ...            v_p       v_r  protection  \\\n",
       "province                        ...                                        \n",
       "Abra              0.408683      ...       0.152463  0.100000       10.57   \n",
       "Agusan Del Norte  0.388003      ...       0.363700  0.100000        9.41   \n",
       "Agusan Del Sur    0.388003      ...       0.290166  0.100000        8.61   \n",
       "Aklan             0.432903      ...       0.389419  0.135089        0.00   \n",
       "Albay             0.403794      ...       0.339852  0.100000        0.00   \n",
       "\n",
       "                  avg_prod_k  T_rebuild_K   pi  nat_buyout   sigma_r  \\\n",
       "province                                                               \n",
       "Abra                    0.23            3  0.2         0.3  0.333333   \n",
       "Agusan Del Norte        0.23            3  0.2         0.3  0.333333   \n",
       "Agusan Del Sur          0.23            3  0.2         0.3  0.333333   \n",
       "Aklan                   0.23            3  0.2         0.3  0.333333   \n",
       "Albay                   0.23            3  0.2         0.3  0.333333   \n",
       "\n",
       "                   sigma_p  income_elast  \n",
       "province                                  \n",
       "Abra              0.333333           1.5  \n",
       "Agusan Del Norte  0.333333           1.5  \n",
       "Agusan Del Sur    0.333333           1.5  \n",
       "Aklan             0.333333           1.5  \n",
       "Albay             0.333333           1.5  \n",
       "\n",
       "[5 rows x 23 columns]"
      ]
     },
     "execution_count": 189,
     "metadata": {},
     "output_type": "execute_result"
    }
   ],
   "source": [
    "#Load the excel data file into a dataframe (table)\n",
    "df=pd.read_excel(\"all_data_compiled.xlsx\", \n",
    "                 index_col=0, #tells Pandas to use the first column (Provinces) as the index of the table\n",
    "                 skiprows=[0, 2] #The first (0) row is a description of the variables and the 3rd (2) row is empty. We skip them\n",
    "                ) \n",
    "df.index.name=\"province\"\n",
    "#Displays the first rows of that dataframe\n",
    "df.head()"
   ]
  },
  {
   "cell_type": "markdown",
   "metadata": {},
   "source": [
    "The columns names correspond to variable in a model, so they are not all self-explanatory. For a description of the variables, see above, or [inputs/inputs_info.csv](inputs/inputs_info.csv)"
   ]
  },
  {
   "cell_type": "markdown",
   "metadata": {},
   "source": [
    "Let's get familiar with Dataframes. Here is how to look at specific rows or columns."
   ]
  },
  {
   "cell_type": "code",
   "execution_count": 190,
   "metadata": {
    "ExecuteTime": {
     "end_time": "2016-03-01T17:17:54.458620",
     "start_time": "2016-03-01T17:17:54.451615"
    },
    "collapsed": false
   },
   "outputs": [
    {
     "data": {
      "text/plain": [
       "gdp_pc_pp           133.688000\n",
       "pop              240135.244121\n",
       "pov_head              0.373595\n",
       "shew                  0.953416\n",
       "gdp_pc_pp_nat       184.136685\n",
       "Name: Abra, dtype: float64"
      ]
     },
     "execution_count": 190,
     "metadata": {},
     "output_type": "execute_result"
    }
   ],
   "source": [
    "df.ix[\"Abra\"].head() #all the data we have on Abra. The head() method returns only the first few lines for saving space"
   ]
  },
  {
   "cell_type": "code",
   "execution_count": 191,
   "metadata": {
    "ExecuteTime": {
     "end_time": "2016-03-01T17:17:54.470629",
     "start_time": "2016-03-01T17:17:54.460621"
    },
    "collapsed": false
   },
   "outputs": [
    {
     "data": {
      "text/plain": [
       "province\n",
       "Abra                 240135.244121\n",
       "Agusan Del Norte     661728.454375\n",
       "Agusan Del Sur       677779.682154\n",
       "Aklan                554414.442422\n",
       "Albay               1264097.894966\n",
       "Name: pop, dtype: float64"
      ]
     },
     "execution_count": 191,
     "metadata": {},
     "output_type": "execute_result"
    }
   ],
   "source": [
    "df[\"pop\"].head() #population in all provinces"
   ]
  },
  {
   "cell_type": "markdown",
   "metadata": {},
   "source": [
    "Rather than displaying the numbers, we can plot them in a few ways. Here is the distribution of income accross provinces"
   ]
  },
  {
   "cell_type": "code",
   "execution_count": 192,
   "metadata": {
    "ExecuteTime": {
     "end_time": "2016-03-01T17:17:55.205164",
     "start_time": "2016-03-01T17:17:54.473631"
    },
    "collapsed": false
   },
   "outputs": [
    {
     "data": {
      "image/png": "[encoded data removed]",
      "text/plain": [
       "<matplotlib.figure.Figure at 0xbb2b00>"
      ]
     },
     "metadata": {},
     "output_type": "display_data"
    }
   ],
   "source": [
    "df.gdp_pc_pp.plot.hist(figsize=(7,7))\n",
    "plt.xlabel(\"Average income in the province ($\\\\times$1000 pesos)\");"
   ]
  },
  {
   "cell_type": "markdown",
   "metadata": {},
   "source": [
    "And below is a scatter plot showing average income, poverty incidence, and size (population) of each province"
   ]
  },
  {
   "cell_type": "code",
   "execution_count": 193,
   "metadata": {
    "ExecuteTime": {
     "end_time": "2016-03-01T17:17:55.537467",
     "start_time": "2016-03-01T17:17:55.209167"
    },
    "collapsed": false
   },
   "outputs": [
    {
     "data": {
      "image/png": "[encoded data removed]",
      "text/plain": [
       "<matplotlib.figure.Figure at 0x8969eb8>"
      ]
     },
     "metadata": {},
     "output_type": "display_data"
    }
   ],
   "source": [
    "df.plot.scatter(x=\"gdp_pc_pp\", y=\"pov_head\", s=df[\"pop\"]/1e4, alpha=0.5, figsize=(7,7))\n",
    "plt.xlabel(\"Average income\")\n",
    "plt.ylabel(\"Poverty incidence\")\n",
    "plt.ylim(0);"
   ]
  },
  {
   "cell_type": "markdown",
   "metadata": {},
   "source": [
    "# Computing socio-economic capacity"
   ]
  },
  {
   "cell_type": "markdown",
   "metadata": {},
   "source": [
    "Now that we have minimum familiarity with dataframes, let us use the resilience model. Let us first read the function definitions, from [res_ind_lib.py](res_ind_lib.py)"
   ]
  },
  {
   "cell_type": "markdown",
   "metadata": {},
   "source": [
    "#### Loading functions"
   ]
  },
  {
   "cell_type": "code",
   "execution_count": 194,
   "metadata": {
    "ExecuteTime": {
     "end_time": "2016-03-01T17:17:55.778645",
     "start_time": "2016-03-01T17:17:55.540473"
    },
    "collapsed": false
   },
   "outputs": [],
   "source": [
    "from res_ind_lib import *     #MAIN library: the functions used to compute risk, resilience, etc\n"
   ]
  },
  {
   "cell_type": "markdown",
   "metadata": {},
   "source": [
    "#### Defining reference variabes"
   ]
  },
  {
   "cell_type": "markdown",
   "metadata": {},
   "source": [
    "Before running the model, for technical reasons, we need to define \"reference\" values for some variables. The following function does it.\n",
    "\n",
    "<small>(The technical reason is that within the function that computes resilience, some variables -- exposure fa, exposure bias pe, and poverty headcount pov_head -- are used to compute the vulnerabilities of poor and nonpoor people (vp, vr) from average vulnerability and vulnerability bias (v, pv). Making copies of this variables now, faref=fa, peref=pe, etc., ensures that policy experiments that modify these variables, for instance exposure bias, leaves vp and vr unchanged).</small>"
   ]
  },
  {
   "cell_type": "code",
   "execution_count": 195,
   "metadata": {
    "ExecuteTime": {
     "end_time": "2016-03-01T17:17:55.818672",
     "start_time": "2016-03-01T17:17:55.782648"
    },
    "collapsed": false
   },
   "outputs": [
    {
     "data": {
      "text/html": [
       "<div>\n",
       "<table border=\"1\" class=\"dataframe\">\n",
       "  <thead>\n",
       "    <tr style=\"text-align: right;\">\n",
       "      <th></th>\n",
       "    </tr>\n",
       "    <tr>\n",
       "      <th>province</th>\n",
       "    </tr>\n",
       "  </thead>\n",
       "  <tbody>\n",
       "    <tr>\n",
       "      <th>Abra</th>\n",
       "    </tr>\n",
       "    <tr>\n",
       "      <th>Agusan Del Norte</th>\n",
       "    </tr>\n",
       "    <tr>\n",
       "      <th>Agusan Del Sur</th>\n",
       "    </tr>\n",
       "    <tr>\n",
       "      <th>Aklan</th>\n",
       "    </tr>\n",
       "    <tr>\n",
       "      <th>Albay</th>\n",
       "    </tr>\n",
       "  </tbody>\n",
       "</table>\n",
       "</div>"
      ],
      "text/plain": [
       "Empty DataFrame\n",
       "Columns: []\n",
       "Index: [Abra, Agusan Del Norte, Agusan Del Sur, Aklan, Albay]"
      ]
     },
     "execution_count": 195,
     "metadata": {},
     "output_type": "execute_result"
    }
   ],
   "source": [
    "df = def_ref_values(df).dropna()\n",
    "df[[]].head()"
   ]
  },
  {
   "cell_type": "markdown",
   "metadata": {},
   "source": [
    "#### Assessing risk to assets, capacity and risk to welfare"
   ]
  },
  {
   "cell_type": "markdown",
   "metadata": {},
   "source": [
    "The function compute_resiliences computes risk and capacity from all the data."
   ]
  },
  {
   "cell_type": "code",
   "execution_count": 196,
   "metadata": {
    "collapsed": false
   },
   "outputs": [
    {
     "data": {
      "text/html": [
       "<div>\n",
       "<table border=\"1\" class=\"dataframe\">\n",
       "  <thead>\n",
       "    <tr style=\"text-align: right;\">\n",
       "      <th></th>\n",
       "      <th>10.0</th>\n",
       "      <th>100.0</th>\n",
       "    </tr>\n",
       "    <tr>\n",
       "      <th>Province</th>\n",
       "      <th></th>\n",
       "      <th></th>\n",
       "    </tr>\n",
       "  </thead>\n",
       "  <tbody>\n",
       "    <tr>\n",
       "      <th>Abra</th>\n",
       "      <td>1</td>\n",
       "      <td>1.814138</td>\n",
       "    </tr>\n",
       "    <tr>\n",
       "      <th>Agusan Del Norte</th>\n",
       "      <td>1</td>\n",
       "      <td>1.081761</td>\n",
       "    </tr>\n",
       "    <tr>\n",
       "      <th>Agusan Del Sur</th>\n",
       "      <td>1</td>\n",
       "      <td>1.335951</td>\n",
       "    </tr>\n",
       "    <tr>\n",
       "      <th>Apayao</th>\n",
       "      <td>1</td>\n",
       "      <td>1.000000</td>\n",
       "    </tr>\n",
       "    <tr>\n",
       "      <th>Batangas</th>\n",
       "      <td>1</td>\n",
       "      <td>1.000000</td>\n",
       "    </tr>\n",
       "  </tbody>\n",
       "</table>\n",
       "</div>"
      ],
      "text/plain": [
       "                  10        100\n",
       "Province                       \n",
       "Abra                1  1.814138\n",
       "Agusan Del Norte    1  1.081761\n",
       "Agusan Del Sur      1  1.335951\n",
       "Apayao              1  1.000000\n",
       "Batangas            1  1.000000"
      ]
     },
     "execution_count": 196,
     "metadata": {},
     "output_type": "execute_result"
    }
   ],
   "source": [
    "fa_ratios  = pd.read_csv(\"fa_ratios_river.csv\", index_col=\"Province\")\n",
    "fa_ratios.columns=fa_ratios.columns.map(float)\n",
    "fa_ratios.dropna().head()"
   ]
  },
  {
   "cell_type": "code",
   "execution_count": 197,
   "metadata": {
    "collapsed": true
   },
   "outputs": [],
   "source": [
    "df[\"rho\"]=5/100"
   ]
  },
  {
   "cell_type": "code",
   "execution_count": 198,
   "metadata": {
    "ExecuteTime": {
     "end_time": "2016-03-01T17:17:56.074864",
     "start_time": "2016-03-01T17:17:55.921750"
    },
    "collapsed": false,
    "scrolled": true
   },
   "outputs": [],
   "source": [
    "df_with_results=compute_resiliences(df, fa_ratios=fa_ratios)\n",
    "\n",
    "#exports the result to a CSV file\n",
    "df_with_results.to_csv(\"all_data_and_results.csv\")"
   ]
  },
  {
   "cell_type": "markdown",
   "metadata": {},
   "source": [
    "Let us look at a few inputs and outputs of that function"
   ]
  },
  {
   "cell_type": "code",
   "execution_count": 199,
   "metadata": {
    "ExecuteTime": {
     "end_time": "2016-03-01T17:17:56.722379",
     "start_time": "2016-03-01T17:17:56.574774"
    },
    "collapsed": false
   },
   "outputs": [
    {
     "data": {
      "text/html": [
       "<div>\n",
       "<table border=\"1\" class=\"dataframe\">\n",
       "  <thead>\n",
       "    <tr style=\"text-align: right;\">\n",
       "      <th>var</th>\n",
       "      <th>Average income in the province</th>\n",
       "      <th>Population</th>\n",
       "      <th>Hazard (protection)</th>\n",
       "      <th>Exposure, poor people</th>\n",
       "      <th>Exposure, non-poor people</th>\n",
       "      <th>Asset vulnerability (poor people)</th>\n",
       "      <th>Asset vulnerability (non-poor people)</th>\n",
       "      <th>Socio-economic capacity</th>\n",
       "      <th>Risk to well-being</th>\n",
       "    </tr>\n",
       "    <tr>\n",
       "      <th>province</th>\n",
       "      <th></th>\n",
       "      <th></th>\n",
       "      <th></th>\n",
       "      <th></th>\n",
       "      <th></th>\n",
       "      <th></th>\n",
       "      <th></th>\n",
       "      <th></th>\n",
       "      <th></th>\n",
       "    </tr>\n",
       "  </thead>\n",
       "  <tbody>\n",
       "    <tr>\n",
       "      <th>Abra</th>\n",
       "      <td>133.688</td>\n",
       "      <td>240135.244121</td>\n",
       "      <td>10.57</td>\n",
       "      <td>22.270928</td>\n",
       "      <td>17.633510</td>\n",
       "      <td>15.246329</td>\n",
       "      <td>10</td>\n",
       "      <td>75.182992</td>\n",
       "      <td>1.556464</td>\n",
       "    </tr>\n",
       "    <tr>\n",
       "      <th>Agusan Del Norte</th>\n",
       "      <td>179.014</td>\n",
       "      <td>661728.454375</td>\n",
       "      <td>9.41</td>\n",
       "      <td>37.158332</td>\n",
       "      <td>29.739304</td>\n",
       "      <td>36.370003</td>\n",
       "      <td>10</td>\n",
       "      <td>79.735350</td>\n",
       "      <td>3.306858</td>\n",
       "    </tr>\n",
       "    <tr>\n",
       "      <th>Agusan Del Sur</th>\n",
       "      <td>126.492</td>\n",
       "      <td>677779.682154</td>\n",
       "      <td>8.61</td>\n",
       "      <td>13.971044</td>\n",
       "      <td>10.461302</td>\n",
       "      <td>29.016559</td>\n",
       "      <td>10</td>\n",
       "      <td>56.163039</td>\n",
       "      <td>2.077930</td>\n",
       "    </tr>\n",
       "    <tr>\n",
       "      <th>Apayao</th>\n",
       "      <td>158.732</td>\n",
       "      <td>116022.676390</td>\n",
       "      <td>6.51</td>\n",
       "      <td>0.460000</td>\n",
       "      <td>0.304694</td>\n",
       "      <td>13.193916</td>\n",
       "      <td>10</td>\n",
       "      <td>71.249673</td>\n",
       "      <td>0.048624</td>\n",
       "    </tr>\n",
       "    <tr>\n",
       "      <th>Batangas</th>\n",
       "      <td>219.272</td>\n",
       "      <td>2485002.055465</td>\n",
       "      <td>7.73</td>\n",
       "      <td>0.264500</td>\n",
       "      <td>0.221889</td>\n",
       "      <td>23.035679</td>\n",
       "      <td>10</td>\n",
       "      <td>143.221300</td>\n",
       "      <td>0.013392</td>\n",
       "    </tr>\n",
       "  </tbody>\n",
       "</table>\n",
       "</div>"
      ],
      "text/plain": [
       "var                Average income in the province      Population  \\\n",
       "province                                                            \n",
       "Abra                                      133.688   240135.244121   \n",
       "Agusan Del Norte                          179.014   661728.454375   \n",
       "Agusan Del Sur                            126.492   677779.682154   \n",
       "Apayao                                    158.732   116022.676390   \n",
       "Batangas                                  219.272  2485002.055465   \n",
       "\n",
       "var                Hazard (protection)  Exposure, poor people  \\\n",
       "province                                                        \n",
       "Abra                             10.57              22.270928   \n",
       "Agusan Del Norte                  9.41              37.158332   \n",
       "Agusan Del Sur                    8.61              13.971044   \n",
       "Apayao                            6.51               0.460000   \n",
       "Batangas                          7.73               0.264500   \n",
       "\n",
       "var               Exposure, non-poor people  \\\n",
       "province                                      \n",
       "Abra                              17.633510   \n",
       "Agusan Del Norte                  29.739304   \n",
       "Agusan Del Sur                    10.461302   \n",
       "Apayao                             0.304694   \n",
       "Batangas                           0.221889   \n",
       "\n",
       "var               Asset vulnerability (poor people)  \\\n",
       "province                                              \n",
       "Abra                                      15.246329   \n",
       "Agusan Del Norte                          36.370003   \n",
       "Agusan Del Sur                            29.016559   \n",
       "Apayao                                    13.193916   \n",
       "Batangas                                  23.035679   \n",
       "\n",
       "var               Asset vulnerability (non-poor people)  \\\n",
       "province                                                  \n",
       "Abra                                                 10   \n",
       "Agusan Del Norte                                     10   \n",
       "Agusan Del Sur                                       10   \n",
       "Apayao                                               10   \n",
       "Batangas                                             10   \n",
       "\n",
       "var               Socio-economic capacity  Risk to well-being  \n",
       "province                                                       \n",
       "Abra                            75.182992            1.556464  \n",
       "Agusan Del Norte                79.735350            3.306858  \n",
       "Agusan Del Sur                  56.163039            2.077930  \n",
       "Apayao                          71.249673            0.048624  \n",
       "Batangas                       143.221300            0.013392  "
      ]
     },
     "execution_count": 199,
     "metadata": {},
     "output_type": "execute_result"
    }
   ],
   "source": [
    "#set of variable we want to inspect\n",
    "to_output = ['gdp_pc_pp', 'pop',\"protection\",\"fap\",\"far\",\"v_p\",\"v_r\",\"resilience\",\"risk\"] \n",
    "a=df_with_results[to_output].copy().dropna()\n",
    "\n",
    "#expresses fractions in %\n",
    "a.loc[:,[\"fap\",\"far\",\"v_p\",\"v_r\",\"resilience\",\"risk\"]]*=100 \n",
    "\n",
    "#replaces column names (model variables) by their meaning (human-readable description)\n",
    "desc=pd.read_csv(\"inputs/inputs_info.csv\").set_index('key')[\"descriptor\"]\n",
    "a=a.rename(columns=desc)\n",
    "\n",
    "#exports the result to an Excel file\n",
    "a.to_excel(\"results/main results.xlsx\")\n",
    "\n",
    "#displays the first few lines\n",
    "a.head()"
   ]
  },
  {
   "cell_type": "markdown",
   "metadata": {},
   "source": [
    "#### Visualizing risk to assets, capacity and risk to welfare"
   ]
  },
  {
   "cell_type": "markdown",
   "metadata": {},
   "source": [
    "Now we visualize risk and resilience acrross provinces, with plots and maps"
   ]
  },
  {
   "cell_type": "code",
   "execution_count": 200,
   "metadata": {
    "ExecuteTime": {
     "end_time": "2016-03-01T17:17:56.570772",
     "start_time": "2016-03-01T17:17:56.078867"
    },
    "collapsed": false
   },
   "outputs": [
    {
     "name": "stdout",
     "output_type": "stream",
     "text": [
      "Risk to assets averages 1% across the 74 provinces in our sample, ranging from 0.00186% to 3%\n",
      "Socio-economic capacity averages 99% across our sample, ranging from 39.66435% to 243.89869%\n",
      "Risk to welfare averages 1% across our sample, ranging from 0.00397% to 3.30686%\n"
     ]
    },
    {
     "data": {
      "image/png": "[encoded data removed]",
      "text/plain": [
       "<matplotlib.figure.Figure at 0xc06ef0>"
      ]
     },
     "metadata": {},
     "output_type": "display_data"
    },
    {
     "data": {
      "image/png": "[encoded data removed]",
      "text/plain": [
       "<matplotlib.figure.Figure at 0xbc6320>"
      ]
     },
     "metadata": {},
     "output_type": "display_data"
    }
   ],
   "source": [
    "a=df_with_results[\"risk_to_assets\"];\n",
    "a.min()*100,a.mean()*100,a.max()*100\n",
    "print(\"Risk to assets averages {mean:.0%} across the {nb:.0f} provinces in our sample, ranging from {min:.5%} to {max:.0%}\".format(\n",
    "    min=a.min(), nb=a.shape[0],mean=a.mean(),max=a.max()))\n",
    "ax=(100*a).plot.hist(figsize=(7,7), color=\"#fc8d59\");\n",
    "\n",
    "a=df_with_results[\"resilience\"];\n",
    "a.min()*100,a.mean()*100,a.max()*100\n",
    "print(\"Socio-economic capacity averages {mean:.0%} across our sample, ranging from {min:.5%} to {max:.5%}\".format(\n",
    "    min=a.min(),mean=a.mean(),max=a.max()))\n",
    "plt.figure(figsize=(7,7))\n",
    "ax2=(100*a).plot.hist(alpha=0.5, color=\"#08519c\");\n",
    "ax2.legend([\"Socio-economic capacity\"])\n",
    "ax2.set_xlabel('%');\n",
    "\n",
    "\n",
    "a=df_with_results[\"risk\"];\n",
    "a.min()*100,a.mean()*100,a.max()*100\n",
    "print(\"Risk to welfare averages {mean:.0%} across our sample, ranging from {min:.5%} to {max:.5%}\".format(\n",
    "    min=a.min(),mean=a.mean(),max=a.max()))\n",
    "(100*a).plot.hist(alpha=0.5, ax=ax, color=\"#3f007d\");\n",
    "\n",
    "ax.legend([\"Annual assets losses\",\"Annual welfare losses\"])\n",
    "ax.set_xlabel('% of local GDP');"
   ]
  },
  {
   "cell_type": "markdown",
   "metadata": {},
   "source": [
    "Risk to assets, socio-economic capacity, and total welfare risk can also be visualized in maps (see [draw_maps.ipynb](draw_maps.ipynb) for how to build these maps)"
   ]
  },
  {
   "cell_type": "markdown",
   "metadata": {},
   "source": [
    " <table border=\"0\" style=\"border:none\">\n",
    "  <tr>\n",
    "  <td>**Risk to assets**</td>\n",
    "    <td>**Socio-economic capacity**</td>\n",
    "    <td>**Risk to welfare**</td>\n",
    "  </tr>\n",
    "  <tr>\n",
    "    <td>![title](img/map_and_legend_of_asset_risk.png)</td>\n",
    "    <td>![title](img/map_and_legend_of_se_capacity.png)</td>\n",
    "    <td>![title](img/map_and_legend_of_welfare_risk.png)</td>\n",
    "  </tr>\n",
    "</table> \n"
   ]
  },
  {
   "cell_type": "markdown",
   "metadata": {},
   "source": [
    "# Categorizing provinces"
   ]
  },
  {
   "cell_type": "markdown",
   "metadata": {},
   "source": [
    "Here we categorize provinces in 3 tiers (Low, mid, high) according to their ranking on socio-econic capacity and on overall risk to welfare. We use the functions `make_tiers` and `categories_to_formated_excel_file` from [res_ind_lib.py](res_ind_lib.py)"
   ]
  },
  {
   "cell_type": "code",
   "execution_count": 201,
   "metadata": {
    "ExecuteTime": {
     "end_time": "2016-03-01T17:17:56.858481",
     "start_time": "2016-03-01T17:17:56.728388"
    },
    "collapsed": false
   },
   "outputs": [
    {
     "data": {
      "text/html": [
       "<div>\n",
       "<table border=\"1\" class=\"dataframe\">\n",
       "  <thead>\n",
       "    <tr style=\"text-align: right;\">\n",
       "      <th></th>\n",
       "      <th>Socio-economic capacity</th>\n",
       "      <th>Risk to well-being</th>\n",
       "    </tr>\n",
       "  </thead>\n",
       "  <tbody>\n",
       "    <tr>\n",
       "      <th>Abra</th>\n",
       "      <td>Mid</td>\n",
       "      <td>High</td>\n",
       "    </tr>\n",
       "    <tr>\n",
       "      <th>Agusan Del Norte</th>\n",
       "      <td>Mid</td>\n",
       "      <td>High</td>\n",
       "    </tr>\n",
       "    <tr>\n",
       "      <th>Agusan Del Sur</th>\n",
       "      <td>Low</td>\n",
       "      <td>High</td>\n",
       "    </tr>\n",
       "    <tr>\n",
       "      <th>Apayao</th>\n",
       "      <td>Low</td>\n",
       "      <td>Low</td>\n",
       "    </tr>\n",
       "    <tr>\n",
       "      <th>Batangas</th>\n",
       "      <td>High</td>\n",
       "      <td>Low</td>\n",
       "    </tr>\n",
       "  </tbody>\n",
       "</table>\n",
       "</div>"
      ],
      "text/plain": [
       "                 Socio-economic capacity Risk to well-being\n",
       "Abra                                 Mid               High\n",
       "Agusan Del Norte                     Mid               High\n",
       "Agusan Del Sur                       Low               High\n",
       "Apayao                               Low                Low\n",
       "Batangas                            High                Low"
      ]
     },
     "execution_count": 201,
     "metadata": {},
     "output_type": "execute_result"
    }
   ],
   "source": [
    "categories = pd.DataFrame([make_tiers(df_with_results.resilience), make_tiers(df_with_results.risk)]).T.dropna()\n",
    "categories_to_formated_excel_file(categories,\"categories.xlsx\")\n",
    "categories.rename(columns=desc).head()"
   ]
  },
  {
   "cell_type": "markdown",
   "metadata": {
    "collapsed": true
   },
   "source": [
    "# Policy experiments"
   ]
  },
  {
   "cell_type": "markdown",
   "metadata": {},
   "source": [
    "Finally, the resilience indicator model can be used to asses the impact of specific policies on asset and welfare losses. In the following we provide two examples."
   ]
  },
  {
   "cell_type": "markdown",
   "metadata": {},
   "source": [
    "#### Impact of decreasing poverty incidence"
   ]
  },
  {
   "cell_type": "code",
   "execution_count": 202,
   "metadata": {
    "ExecuteTime": {
     "end_time": "2016-03-01T17:17:57.069638",
     "start_time": "2016-03-01T17:17:56.865489"
    },
    "collapsed": false
   },
   "outputs": [
    {
     "name": "stdout",
     "output_type": "stream",
     "text": [
      " Decreasing poverty incidence by 1 percent in the 35 provincies would increase asset losses from USD 37.80 to 33.25 billions per year(-12.0%), but reduce welfare losses by 16.0%\n"
     ]
    }
   ],
   "source": [
    "df_share1 = compute_resiliences( def_ref_values(df.dropna().assign(pov_head=df.pov_head-5/100) ))\n",
    "\n",
    "#welfare losses\n",
    "wa=df_with_results.total_equivalent_cost.sum()*1e-6\n",
    "wb=df_share1.total_equivalent_cost.sum()*1e-6\n",
    "\n",
    "#asset losses\n",
    "ka = (df_with_results.dKtot/df.protection).sum()*1e-6\n",
    "kb = (df_share1.dKtot/df_share1.protection).sum()*1e-6\n",
    "\n",
    "nb_countries_all_results = df_with_results[\"resilience\"].dropna().shape[0]\n",
    "\n",
    "print(\" Decreasing poverty incidence by 1 percent in the {nb} provincies \\\n",
    "would increase asset losses from USD {ka:0.2f} to {kb:0.2f} billions per year\\\n",
    "({XX:.1%}), but reduce welfare losses by {YY:.1%}\".format(\n",
    "        XX=(kb-ka)/ka,ka=ka,kb=kb,YY=(wa-wb)/wa,nb=nb_countries_all_results)\n",
    "     )"
   ]
  },
  {
   "cell_type": "markdown",
   "metadata": {},
   "source": [
    "#### Impact of increasing effective scale up"
   ]
  },
  {
   "cell_type": "code",
   "execution_count": 203,
   "metadata": {
    "ExecuteTime": {
     "end_time": "2016-03-01T17:17:57.227752",
     "start_time": "2016-03-01T17:17:57.073640"
    },
    "collapsed": false
   },
   "outputs": [
    {
     "name": "stdout",
     "output_type": "stream",
     "text": [
      " Increasing effective scale up to 100% in the 35 provincies would left asset losses unchanged (from 37.80 to 34.31 billions per year), but reduce welfare losses by 48%\n"
     ]
    }
   ],
   "source": [
    "df_su = compute_resiliences( df.dropna().assign(sigma_p=1) )\n",
    "\n",
    "#welfare losses\n",
    "wa=df_with_results.total_equivalent_cost.sum()*1e-6\n",
    "wb=df_su.total_equivalent_cost.sum()*1e-6\n",
    "\n",
    "#asset losses\n",
    "ka = (df_with_results.dKtot/df.protection).sum()*1e-6\n",
    "kb = (df_su.dKtot/df_su.protection).sum()*1e-6\n",
    "\n",
    "print(\" Increasing effective scale up to 100% in the {nb} provincies \\\n",
    "would left asset losses unchanged (from {ka:0.2f} to {kb:0.2f} billions per year), \\\n",
    "but reduce welfare losses by {YY:.0%}\".format(\n",
    "        XX=100*(kb-ka)/ka,ka=ka,kb=kb,YY=(wa-wb)/wa,nb=nb_countries_all_results)\n",
    "     )"
   ]
  },
  {
   "cell_type": "code",
   "execution_count": null,
   "metadata": {
    "collapsed": true
   },
   "outputs": [],
   "source": []
  },
  {
   "cell_type": "code",
   "execution_count": null,
   "metadata": {
    "collapsed": true
   },
   "outputs": [],
   "source": []
  }
 ],
 "metadata": {
  "kernelspec": {
   "display_name": "Python 3",
   "language": "python",
   "name": "python3"
  },
  "language_info": {
   "codemirror_mode": {
    "name": "ipython",
    "version": 3
   },
   "file_extension": ".py",
   "mimetype": "text/x-python",
   "name": "python",
   "nbconvert_exporter": "python",
   "pygments_lexer": "ipython3",
   "version": "3.4.4"
  }
 },
 "nbformat": 4,
 "nbformat_minor": 0
}
