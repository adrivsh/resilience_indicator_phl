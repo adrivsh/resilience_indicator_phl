{
 "cells": [
  {
   "cell_type": "markdown",
   "metadata": {},
   "source": [
    "This notebook demonstrates the usage of the resilience/socio-economic capacity model."
   ]
  },
  {
   "cell_type": "markdown",
   "metadata": {},
   "source": [
    "# Loading functions"
   ]
  },
  {
   "cell_type": "markdown",
   "metadata": {},
   "source": [
    "We first import function librairies. The first ones are standard python librairies."
   ]
  },
  {
   "cell_type": "code",
   "execution_count": 1,
   "metadata": {
    "ExecuteTime": {
     "end_time": "2016-03-01T17:17:53.864183",
     "start_time": "2016-03-01T17:17:53.033410"
    },
    "collapsed": true
   },
   "outputs": [],
   "source": [
    "#The main library we use. Manipulates Excel-like tables (called dataframes) with named rows and columns\n",
    "import pandas as pd "
   ]
  },
  {
   "cell_type": "code",
   "execution_count": 2,
   "metadata": {
    "ExecuteTime": {
     "end_time": "2016-03-01T17:17:54.317508",
     "start_time": "2016-03-01T17:17:53.867185"
    },
    "code_folding": [],
    "collapsed": false
   },
   "outputs": [],
   "source": [
    "#ploting capacities\n",
    "import matplotlib.pyplot as plt \n",
    "#make plots appear in this notebook\n",
    "%matplotlib inline  \n",
    "\n",
    "#Default options for plots: this controls the font used in figures\n",
    "font = {'family' : 'sans serif',\n",
    "    'size'   : 18}\n",
    "plt.rc('font', **font)\n"
   ]
  },
  {
   "cell_type": "markdown",
   "metadata": {},
   "source": [
    "# Loading and exploring the data"
   ]
  },
  {
   "cell_type": "markdown",
   "metadata": {},
   "source": [
    "Here we read the data set we need into a pandas table (called DataFrame).\n",
    "This specific dataset was put together from a variety of different sources using another python notebook: [data_gathering_demo.ipynb](data_gathering_demo.ipynb). In the future we could build directly an excel file with all the data the model needs."
   ]
  },
  {
   "cell_type": "code",
   "execution_count": 13,
   "metadata": {
    "collapsed": false
   },
   "outputs": [
    {
     "data": {
      "text/html": [
       "<div>\n",
       "<table border=\"1\" class=\"dataframe\">\n",
       "  <thead>\n",
       "    <tr style=\"text-align: right;\">\n",
       "      <th></th>\n",
       "      <th>description</th>\n",
       "      <th>Average income in the province</th>\n",
       "      <th>Population</th>\n",
       "      <th>Poverty incidence</th>\n",
       "      <th>Access to early warning</th>\n",
       "      <th>National GDP per capita</th>\n",
       "      <th>Time to reconstruct</th>\n",
       "      <th>Unnamed: 7</th>\n",
       "      <th>Unnamed: 8</th>\n",
       "      <th>Unnamed: 9</th>\n",
       "      <th>...</th>\n",
       "      <th>Asset vulnerability (non-poor people)</th>\n",
       "      <th>Hazard (protection)</th>\n",
       "      <th>Productivity of capital</th>\n",
       "      <th>Time to reconstruct.1</th>\n",
       "      <th>Avoided losses with early warning</th>\n",
       "      <th>Time to reconstruct.2</th>\n",
       "      <th>Effective scale up for non-poor people</th>\n",
       "      <th>Effective scale up for poor people</th>\n",
       "      <th>Elasticity of utility</th>\n",
       "      <th>Discount rate</th>\n",
       "    </tr>\n",
       "  </thead>\n",
       "  <tbody>\n",
       "    <tr>\n",
       "      <th>0</th>\n",
       "      <td>variable</td>\n",
       "      <td>gdp_pc_pp</td>\n",
       "      <td>pop</td>\n",
       "      <td>pov_head</td>\n",
       "      <td>shew</td>\n",
       "      <td>gdp_pc_pp_nat</td>\n",
       "      <td>cp</td>\n",
       "      <td>cr</td>\n",
       "      <td>national_pop</td>\n",
       "      <td>axfin_p</td>\n",
       "      <td>...</td>\n",
       "      <td>v_r</td>\n",
       "      <td>protection</td>\n",
       "      <td>avg_prod_k</td>\n",
       "      <td>T_rebuild_K</td>\n",
       "      <td>pi</td>\n",
       "      <td>nat_buyout</td>\n",
       "      <td>sigma_r</td>\n",
       "      <td>sigma_p</td>\n",
       "      <td>income_elast</td>\n",
       "      <td>rho</td>\n",
       "    </tr>\n",
       "    <tr>\n",
       "      <th>1</th>\n",
       "      <td>province</td>\n",
       "      <td>NaN</td>\n",
       "      <td>NaN</td>\n",
       "      <td>NaN</td>\n",
       "      <td>NaN</td>\n",
       "      <td>NaN</td>\n",
       "      <td>NaN</td>\n",
       "      <td>NaN</td>\n",
       "      <td>NaN</td>\n",
       "      <td>NaN</td>\n",
       "      <td>...</td>\n",
       "      <td>NaN</td>\n",
       "      <td>NaN</td>\n",
       "      <td>NaN</td>\n",
       "      <td>NaN</td>\n",
       "      <td>NaN</td>\n",
       "      <td>NaN</td>\n",
       "      <td>NaN</td>\n",
       "      <td>NaN</td>\n",
       "      <td>NaN</td>\n",
       "      <td>NaN</td>\n",
       "    </tr>\n",
       "    <tr>\n",
       "      <th>2</th>\n",
       "      <td>Abra</td>\n",
       "      <td>31.6225</td>\n",
       "      <td>240135</td>\n",
       "      <td>0.373595</td>\n",
       "      <td>0.953416</td>\n",
       "      <td>42.0346</td>\n",
       "      <td>16.1</td>\n",
       "      <td>40.8802</td>\n",
       "      <td>8.36502e+07</td>\n",
       "      <td>0.693233</td>\n",
       "      <td>...</td>\n",
       "      <td>0.1</td>\n",
       "      <td>10.57</td>\n",
       "      <td>0.23</td>\n",
       "      <td>3</td>\n",
       "      <td>0.2</td>\n",
       "      <td>0.3</td>\n",
       "      <td>0</td>\n",
       "      <td>0</td>\n",
       "      <td>1.5</td>\n",
       "      <td>0.05</td>\n",
       "    </tr>\n",
       "    <tr>\n",
       "      <th>3</th>\n",
       "      <td>Agusan Del Norte</td>\n",
       "      <td>43.7267</td>\n",
       "      <td>661728</td>\n",
       "      <td>0.346715</td>\n",
       "      <td>0.821277</td>\n",
       "      <td>42.0346</td>\n",
       "      <td>16.1</td>\n",
       "      <td>58.3888</td>\n",
       "      <td>8.36502e+07</td>\n",
       "      <td>0.49688</td>\n",
       "      <td>...</td>\n",
       "      <td>0.1</td>\n",
       "      <td>9.41</td>\n",
       "      <td>0.23</td>\n",
       "      <td>3</td>\n",
       "      <td>0.2</td>\n",
       "      <td>0.3</td>\n",
       "      <td>0</td>\n",
       "      <td>0</td>\n",
       "      <td>1.5</td>\n",
       "      <td>0.05</td>\n",
       "    </tr>\n",
       "    <tr>\n",
       "      <th>4</th>\n",
       "      <td>Agusan Del Sur</td>\n",
       "      <td>30.8974</td>\n",
       "      <td>677780</td>\n",
       "      <td>0.480785</td>\n",
       "      <td>0.821277</td>\n",
       "      <td>42.0346</td>\n",
       "      <td>16.1</td>\n",
       "      <td>44.5996</td>\n",
       "      <td>8.36502e+07</td>\n",
       "      <td>0.475969</td>\n",
       "      <td>...</td>\n",
       "      <td>0.1</td>\n",
       "      <td>8.61</td>\n",
       "      <td>0.23</td>\n",
       "      <td>3</td>\n",
       "      <td>0.2</td>\n",
       "      <td>0.3</td>\n",
       "      <td>0</td>\n",
       "      <td>0</td>\n",
       "      <td>1.5</td>\n",
       "      <td>0.05</td>\n",
       "    </tr>\n",
       "  </tbody>\n",
       "</table>\n",
       "<p>5 rows × 26 columns</p>\n",
       "</div>"
      ],
      "text/plain": [
       "        description  Average income in the province Population  \\\n",
       "0          variable                       gdp_pc_pp        pop   \n",
       "1          province                             NaN        NaN   \n",
       "2              Abra                         31.6225     240135   \n",
       "3  Agusan Del Norte                         43.7267     661728   \n",
       "4    Agusan Del Sur                         30.8974     677780   \n",
       "\n",
       "  Poverty incidence Access to early warning National GDP per capita  \\\n",
       "0          pov_head                    shew           gdp_pc_pp_nat   \n",
       "1               NaN                     NaN                     NaN   \n",
       "2          0.373595                0.953416                 42.0346   \n",
       "3          0.346715                0.821277                 42.0346   \n",
       "4          0.480785                0.821277                 42.0346   \n",
       "\n",
       "  Time to reconstruct Unnamed: 7    Unnamed: 8 Unnamed: 9      ...       \\\n",
       "0                  cp         cr  national_pop    axfin_p      ...        \n",
       "1                 NaN        NaN           NaN        NaN      ...        \n",
       "2                16.1    40.8802   8.36502e+07   0.693233      ...        \n",
       "3                16.1    58.3888   8.36502e+07    0.49688      ...        \n",
       "4                16.1    44.5996   8.36502e+07   0.475969      ...        \n",
       "\n",
       "  Asset vulnerability (non-poor people)  Hazard (protection)  \\\n",
       "0                                   v_r           protection   \n",
       "1                                   NaN                  NaN   \n",
       "2                                   0.1                10.57   \n",
       "3                                   0.1                 9.41   \n",
       "4                                   0.1                 8.61   \n",
       "\n",
       "  Productivity of capital Time to reconstruct.1  \\\n",
       "0              avg_prod_k           T_rebuild_K   \n",
       "1                     NaN                   NaN   \n",
       "2                    0.23                     3   \n",
       "3                    0.23                     3   \n",
       "4                    0.23                     3   \n",
       "\n",
       "  Avoided losses with early warning Time to reconstruct.2  \\\n",
       "0                                pi            nat_buyout   \n",
       "1                               NaN                   NaN   \n",
       "2                               0.2                   0.3   \n",
       "3                               0.2                   0.3   \n",
       "4                               0.2                   0.3   \n",
       "\n",
       "  Effective scale up for non-poor people Effective scale up for poor people  \\\n",
       "0                                sigma_r                            sigma_p   \n",
       "1                                    NaN                                NaN   \n",
       "2                                      0                                  0   \n",
       "3                                      0                                  0   \n",
       "4                                      0                                  0   \n",
       "\n",
       "  Elasticity of utility Discount rate  \n",
       "0          income_elast           rho  \n",
       "1                   NaN           NaN  \n",
       "2                   1.5          0.05  \n",
       "3                   1.5          0.05  \n",
       "4                   1.5          0.05  \n",
       "\n",
       "[5 rows x 26 columns]"
      ]
     },
     "execution_count": 13,
     "metadata": {},
     "output_type": "execute_result"
    }
   ],
   "source": [
    " #Let's first have a look at the Excel file\n",
    "pd.read_excel(\"inputs/all_data_compiled.xlsx\").head()"
   ]
  },
  {
   "cell_type": "markdown",
   "metadata": {},
   "source": [
    "We see that the Excel files starts with one line of description, the second line is that actual variable name in the model, and the third line is empty. We also see that the first column is the name of each province, which we will use to index the data."
   ]
  },
  {
   "cell_type": "code",
   "execution_count": 14,
   "metadata": {
    "ExecuteTime": {
     "end_time": "2016-03-01T17:17:54.448613",
     "start_time": "2016-03-01T17:17:54.319509"
    },
    "collapsed": false
   },
   "outputs": [
    {
     "data": {
      "text/html": [
       "<div>\n",
       "<table border=\"1\" class=\"dataframe\">\n",
       "  <thead>\n",
       "    <tr style=\"text-align: right;\">\n",
       "      <th></th>\n",
       "      <th>gdp_pc_pp</th>\n",
       "      <th>pop</th>\n",
       "      <th>pov_head</th>\n",
       "      <th>shew</th>\n",
       "      <th>gdp_pc_pp_nat</th>\n",
       "      <th>cp</th>\n",
       "      <th>cr</th>\n",
       "      <th>national_pop</th>\n",
       "      <th>axfin_p</th>\n",
       "      <th>axfin_r</th>\n",
       "      <th>...</th>\n",
       "      <th>v_r</th>\n",
       "      <th>protection</th>\n",
       "      <th>avg_prod_k</th>\n",
       "      <th>T_rebuild_K</th>\n",
       "      <th>pi</th>\n",
       "      <th>nat_buyout</th>\n",
       "      <th>sigma_r</th>\n",
       "      <th>sigma_p</th>\n",
       "      <th>income_elast</th>\n",
       "      <th>rho</th>\n",
       "    </tr>\n",
       "    <tr>\n",
       "      <th>province</th>\n",
       "      <th></th>\n",
       "      <th></th>\n",
       "      <th></th>\n",
       "      <th></th>\n",
       "      <th></th>\n",
       "      <th></th>\n",
       "      <th></th>\n",
       "      <th></th>\n",
       "      <th></th>\n",
       "      <th></th>\n",
       "      <th></th>\n",
       "      <th></th>\n",
       "      <th></th>\n",
       "      <th></th>\n",
       "      <th></th>\n",
       "      <th></th>\n",
       "      <th></th>\n",
       "      <th></th>\n",
       "      <th></th>\n",
       "      <th></th>\n",
       "      <th></th>\n",
       "    </tr>\n",
       "  </thead>\n",
       "  <tbody>\n",
       "    <tr>\n",
       "      <th>Abra</th>\n",
       "      <td>31.622466</td>\n",
       "      <td>240135.244121</td>\n",
       "      <td>0.373595</td>\n",
       "      <td>0.953416</td>\n",
       "      <td>42.034627</td>\n",
       "      <td>16.1</td>\n",
       "      <td>40.880224</td>\n",
       "      <td>83650215.459496</td>\n",
       "      <td>0.693233</td>\n",
       "      <td>0.693233</td>\n",
       "      <td>...</td>\n",
       "      <td>0.100000</td>\n",
       "      <td>10.57</td>\n",
       "      <td>0.23</td>\n",
       "      <td>3</td>\n",
       "      <td>0.2</td>\n",
       "      <td>0.3</td>\n",
       "      <td>0</td>\n",
       "      <td>0</td>\n",
       "      <td>1.5</td>\n",
       "      <td>0.05</td>\n",
       "    </tr>\n",
       "    <tr>\n",
       "      <th>Agusan Del Norte</th>\n",
       "      <td>43.726667</td>\n",
       "      <td>661728.454375</td>\n",
       "      <td>0.346715</td>\n",
       "      <td>0.821277</td>\n",
       "      <td>42.034627</td>\n",
       "      <td>16.1</td>\n",
       "      <td>58.388849</td>\n",
       "      <td>83650215.459496</td>\n",
       "      <td>0.496880</td>\n",
       "      <td>0.496880</td>\n",
       "      <td>...</td>\n",
       "      <td>0.100000</td>\n",
       "      <td>9.41</td>\n",
       "      <td>0.23</td>\n",
       "      <td>3</td>\n",
       "      <td>0.2</td>\n",
       "      <td>0.3</td>\n",
       "      <td>0</td>\n",
       "      <td>0</td>\n",
       "      <td>1.5</td>\n",
       "      <td>0.05</td>\n",
       "    </tr>\n",
       "    <tr>\n",
       "      <th>Agusan Del Sur</th>\n",
       "      <td>30.897436</td>\n",
       "      <td>677779.682154</td>\n",
       "      <td>0.480785</td>\n",
       "      <td>0.821277</td>\n",
       "      <td>42.034627</td>\n",
       "      <td>16.1</td>\n",
       "      <td>44.599636</td>\n",
       "      <td>83650215.459496</td>\n",
       "      <td>0.475969</td>\n",
       "      <td>0.475969</td>\n",
       "      <td>...</td>\n",
       "      <td>0.100000</td>\n",
       "      <td>8.61</td>\n",
       "      <td>0.23</td>\n",
       "      <td>3</td>\n",
       "      <td>0.2</td>\n",
       "      <td>0.3</td>\n",
       "      <td>0</td>\n",
       "      <td>0</td>\n",
       "      <td>1.5</td>\n",
       "      <td>0.05</td>\n",
       "    </tr>\n",
       "    <tr>\n",
       "      <th>Aklan</th>\n",
       "      <td>30.515652</td>\n",
       "      <td>554414.442422</td>\n",
       "      <td>0.249662</td>\n",
       "      <td>0.823003</td>\n",
       "      <td>42.034627</td>\n",
       "      <td>16.1</td>\n",
       "      <td>35.312206</td>\n",
       "      <td>83650215.459496</td>\n",
       "      <td>0.660083</td>\n",
       "      <td>0.660083</td>\n",
       "      <td>...</td>\n",
       "      <td>0.135089</td>\n",
       "      <td>2.00</td>\n",
       "      <td>0.23</td>\n",
       "      <td>3</td>\n",
       "      <td>0.2</td>\n",
       "      <td>0.3</td>\n",
       "      <td>0</td>\n",
       "      <td>0</td>\n",
       "      <td>1.5</td>\n",
       "      <td>0.05</td>\n",
       "    </tr>\n",
       "    <tr>\n",
       "      <th>Albay</th>\n",
       "      <td>33.793313</td>\n",
       "      <td>1264097.894966</td>\n",
       "      <td>0.409587</td>\n",
       "      <td>0.800000</td>\n",
       "      <td>42.034627</td>\n",
       "      <td>16.1</td>\n",
       "      <td>46.067708</td>\n",
       "      <td>83650215.459496</td>\n",
       "      <td>0.551314</td>\n",
       "      <td>0.551314</td>\n",
       "      <td>...</td>\n",
       "      <td>0.100000</td>\n",
       "      <td>2.00</td>\n",
       "      <td>0.23</td>\n",
       "      <td>3</td>\n",
       "      <td>0.2</td>\n",
       "      <td>0.3</td>\n",
       "      <td>0</td>\n",
       "      <td>0</td>\n",
       "      <td>1.5</td>\n",
       "      <td>0.05</td>\n",
       "    </tr>\n",
       "  </tbody>\n",
       "</table>\n",
       "<p>5 rows × 25 columns</p>\n",
       "</div>"
      ],
      "text/plain": [
       "                  gdp_pc_pp             pop  pov_head      shew  \\\n",
       "province                                                          \n",
       "Abra              31.622466   240135.244121  0.373595  0.953416   \n",
       "Agusan Del Norte  43.726667   661728.454375  0.346715  0.821277   \n",
       "Agusan Del Sur    30.897436   677779.682154  0.480785  0.821277   \n",
       "Aklan             30.515652   554414.442422  0.249662  0.823003   \n",
       "Albay             33.793313  1264097.894966  0.409587  0.800000   \n",
       "\n",
       "                  gdp_pc_pp_nat    cp         cr     national_pop   axfin_p  \\\n",
       "province                                                                      \n",
       "Abra                  42.034627  16.1  40.880224  83650215.459496  0.693233   \n",
       "Agusan Del Norte      42.034627  16.1  58.388849  83650215.459496  0.496880   \n",
       "Agusan Del Sur        42.034627  16.1  44.599636  83650215.459496  0.475969   \n",
       "Aklan                 42.034627  16.1  35.312206  83650215.459496  0.660083   \n",
       "Albay                 42.034627  16.1  46.067708  83650215.459496  0.551314   \n",
       "\n",
       "                   axfin_r  ...        v_r  protection  avg_prod_k  \\\n",
       "province                    ...                                      \n",
       "Abra              0.693233  ...   0.100000       10.57        0.23   \n",
       "Agusan Del Norte  0.496880  ...   0.100000        9.41        0.23   \n",
       "Agusan Del Sur    0.475969  ...   0.100000        8.61        0.23   \n",
       "Aklan             0.660083  ...   0.135089        2.00        0.23   \n",
       "Albay             0.551314  ...   0.100000        2.00        0.23   \n",
       "\n",
       "                  T_rebuild_K   pi  nat_buyout  sigma_r  sigma_p  \\\n",
       "province                                                           \n",
       "Abra                        3  0.2         0.3        0        0   \n",
       "Agusan Del Norte            3  0.2         0.3        0        0   \n",
       "Agusan Del Sur              3  0.2         0.3        0        0   \n",
       "Aklan                       3  0.2         0.3        0        0   \n",
       "Albay                       3  0.2         0.3        0        0   \n",
       "\n",
       "                  income_elast   rho  \n",
       "province                              \n",
       "Abra                       1.5  0.05  \n",
       "Agusan Del Norte           1.5  0.05  \n",
       "Agusan Del Sur             1.5  0.05  \n",
       "Aklan                      1.5  0.05  \n",
       "Albay                      1.5  0.05  \n",
       "\n",
       "[5 rows x 25 columns]"
      ]
     },
     "execution_count": 14,
     "metadata": {},
     "output_type": "execute_result"
    }
   ],
   "source": [
    "#Load the excel data file into a dataframe (table)\n",
    "df=pd.read_excel(\"inputs/all_data_compiled.xlsx\", \n",
    "                 index_col=0, #tells Pandas to use the first column (Provinces) as the index of the table\n",
    "                 skiprows=[0, 2] #The first (0) row is a description of the variables and the 3rd (2) row is empty. We skip them\n",
    "                ) \n",
    "df.index.name=\"province\" #rename the index to \"province\" for clarity\n",
    "#Displays the first rows of that dataframe\n",
    "df.head()"
   ]
  },
  {
   "cell_type": "markdown",
   "metadata": {},
   "source": [
    "The columns names correspond to variables in the resilience assessment model, so they are not all self-explanatory. For a description of the variables, see [above](#Loading-and-exploring-the-data), or clic on [inputs/inputs_info.csv](inputs/inputs_info.csv)"
   ]
  },
  {
   "cell_type": "markdown",
   "metadata": {},
   "source": [
    "Let's get familiar with Dataframes. Here is how to look at specific rows or columns."
   ]
  },
  {
   "cell_type": "code",
   "execution_count": 5,
   "metadata": {
    "ExecuteTime": {
     "end_time": "2016-03-01T17:17:54.458620",
     "start_time": "2016-03-01T17:17:54.451615"
    },
    "collapsed": false
   },
   "outputs": [
    {
     "data": {
      "text/plain": [
       "gdp_pc_pp            31.622466\n",
       "pop              240135.244121\n",
       "pov_head              0.373595\n",
       "shew                  0.953416\n",
       "gdp_pc_pp_nat        42.034627\n",
       "Name: Abra, dtype: float64"
      ]
     },
     "execution_count": 5,
     "metadata": {},
     "output_type": "execute_result"
    }
   ],
   "source": [
    "df.ix[\"Abra\"].head() #all the data we have on Abra. The head() method returns only the first few lines for saving space"
   ]
  },
  {
   "cell_type": "code",
   "execution_count": 6,
   "metadata": {
    "ExecuteTime": {
     "end_time": "2016-03-01T17:17:54.470629",
     "start_time": "2016-03-01T17:17:54.460621"
    },
    "collapsed": false
   },
   "outputs": [
    {
     "data": {
      "text/plain": [
       "province\n",
       "Abra                 240135.244121\n",
       "Agusan Del Norte     661728.454375\n",
       "Agusan Del Sur       677779.682154\n",
       "Aklan                554414.442422\n",
       "Albay               1264097.894966\n",
       "Name: pop, dtype: float64"
      ]
     },
     "execution_count": 6,
     "metadata": {},
     "output_type": "execute_result"
    }
   ],
   "source": [
    "df[\"pop\"].head() #population in all provinces"
   ]
  },
  {
   "cell_type": "markdown",
   "metadata": {},
   "source": [
    "Rather than displaying the numbers, we can plot them in a few ways. Here is the distribution of income accross provinces"
   ]
  },
  {
   "cell_type": "code",
   "execution_count": 7,
   "metadata": {
    "ExecuteTime": {
     "end_time": "2016-03-01T17:17:55.205164",
     "start_time": "2016-03-01T17:17:54.473631"
    },
    "collapsed": false
   },
   "outputs": [
    {
     "data": {
      "image/png": "[encoded data removed]",
      "text/plain": [
       "<matplotlib.figure.Figure at 0x8868048>"
      ]
     },
     "metadata": {},
     "output_type": "display_data"
    }
   ],
   "source": [
    "df.gdp_pc_pp.plot.hist(figsize=(7,7))\n",
    "plt.xlabel(\"Average income in the province ($\\\\times$1000 pesos)\");"
   ]
  },
  {
   "cell_type": "markdown",
   "metadata": {},
   "source": [
    "And below is a scatter plot showing average income, poverty incidence, and size (population) of each province"
   ]
  },
  {
   "cell_type": "code",
   "execution_count": 8,
   "metadata": {
    "ExecuteTime": {
     "end_time": "2016-03-01T17:17:55.537467",
     "start_time": "2016-03-01T17:17:55.209167"
    },
    "collapsed": false
   },
   "outputs": [
    {
     "data": {
      "image/png": "[encoded data removed]",
      "text/plain": [
       "<matplotlib.figure.Figure at 0x88b4898>"
      ]
     },
     "metadata": {},
     "output_type": "display_data"
    }
   ],
   "source": [
    "df.plot.scatter(x=\"gdp_pc_pp\", y=\"pov_head\", s=df[\"pop\"]/1e4, alpha=0.5, figsize=(7,7))\n",
    "plt.xlabel(\"Average income\")\n",
    "plt.ylabel(\"Poverty incidence\")\n",
    "plt.ylim(0);"
   ]
  },
  {
   "cell_type": "markdown",
   "metadata": {},
   "source": [
    "# Computing socio-economic capacity"
   ]
  },
  {
   "cell_type": "markdown",
   "metadata": {},
   "source": [
    "Now that we have minimum familiarity with dataframes, let us use the resilience model. Let us first read the function definitions, from [res_ind_lib.py](res_ind_lib.py)"
   ]
  },
  {
   "cell_type": "markdown",
   "metadata": {},
   "source": [
    "#### Loading functions"
   ]
  },
  {
   "cell_type": "code",
   "execution_count": 9,
   "metadata": {
    "ExecuteTime": {
     "end_time": "2016-03-01T17:17:55.778645",
     "start_time": "2016-03-01T17:17:55.540473"
    },
    "collapsed": false
   },
   "outputs": [],
   "source": [
    "from res_ind_lib import *     #MAIN library: the functions used to compute risk, resilience, etc"
   ]
  },
  {
   "cell_type": "markdown",
   "metadata": {},
   "source": [
    "#### Defining reference variabes"
   ]
  },
  {
   "cell_type": "markdown",
   "metadata": {},
   "source": [
    "Before running the model, for technical reasons, we need to define \"reference\" values for some variables. The following function does it."
   ]
  },
  {
   "cell_type": "code",
   "execution_count": 11,
   "metadata": {
    "ExecuteTime": {
     "end_time": "2016-03-01T17:17:55.818672",
     "start_time": "2016-03-01T17:17:55.782648"
    },
    "collapsed": false
   },
   "outputs": [],
   "source": [
    "df = def_ref_values(df).dropna()\n"
   ]
  },
  {
   "cell_type": "markdown",
   "metadata": {},
   "source": [
    "#### Assessing risk to assets, capacity, and risk to welfare"
   ]
  },
  {
   "cell_type": "markdown",
   "metadata": {},
   "source": [
    "The function compute_resiliences computes risk and capacity from all the data."
   ]
  },
  {
   "cell_type": "code",
   "execution_count": 12,
   "metadata": {
    "ExecuteTime": {
     "end_time": "2016-03-01T17:17:56.074864",
     "start_time": "2016-03-01T17:17:55.921750"
    },
    "collapsed": false,
    "scrolled": true
   },
   "outputs": [
    {
     "ename": "KeyError",
     "evalue": "'cp'",
     "output_type": "error",
     "traceback": [
      "\u001b[1;31m---------------------------------------------------------------------------\u001b[0m",
      "\u001b[1;31mKeyError\u001b[0m                                  Traceback (most recent call last)",
      "\u001b[1;32m<ipython-input-12-b814d477314a>\u001b[0m in \u001b[0;36m<module>\u001b[1;34m()\u001b[0m\n\u001b[1;32m----> 1\u001b[1;33m \u001b[0mdf_with_results\u001b[0m\u001b[1;33m=\u001b[0m\u001b[0mcompute_resiliences\u001b[0m\u001b[1;33m(\u001b[0m\u001b[0mdf\u001b[0m\u001b[1;33m)\u001b[0m\u001b[1;33m\u001b[0m\u001b[0m\n\u001b[0m",
      "\u001b[1;32mC:\\Users\\Admin\\Box Sync\\PYTHON - RESILIENCE\\resilience_indicator_phl\\res_ind_lib.py\u001b[0m in \u001b[0;36mcompute_resiliences\u001b[1;34m(df_in, fa_ratios, multihazard_data)\u001b[0m\n\u001b[0;32m      8\u001b[0m \u001b[1;33m\u001b[0m\u001b[0m\n\u001b[0;32m      9\u001b[0m     \u001b[1;31m#computes dk_{hazard, return} and dW_{hazard, return}\u001b[0m\u001b[1;33m\u001b[0m\u001b[1;33m\u001b[0m\u001b[0m\n\u001b[1;32m---> 10\u001b[1;33m     \u001b[0mdkdw\u001b[0m\u001b[1;33m=\u001b[0m\u001b[0mcompute_dK_dW\u001b[0m\u001b[1;33m(\u001b[0m\u001b[0mdf\u001b[0m\u001b[1;33m)\u001b[0m\u001b[1;33m\u001b[0m\u001b[0m\n\u001b[0m\u001b[0;32m     11\u001b[0m     \u001b[0mdf\u001b[0m\u001b[1;33m[\u001b[0m\u001b[0mdkdw\u001b[0m\u001b[1;33m.\u001b[0m\u001b[0mcolumns\u001b[0m\u001b[1;33m]\u001b[0m\u001b[1;33m=\u001b[0m\u001b[0mdkdw\u001b[0m     \u001b[1;31m#adds dk and dw-like columns to df\u001b[0m\u001b[1;33m\u001b[0m\u001b[0m\n\u001b[0;32m     12\u001b[0m \u001b[1;33m\u001b[0m\u001b[0m\n",
      "\u001b[1;32mC:\\Users\\Admin\\Box Sync\\PYTHON - RESILIENCE\\resilience_indicator_phl\\res_ind_lib.py\u001b[0m in \u001b[0;36mcompute_dK_dW\u001b[1;34m(df)\u001b[0m\n\u001b[0;32m     29\u001b[0m     \u001b[0mgdp_pc_pp\u001b[0m \u001b[1;33m=\u001b[0m \u001b[0mdf\u001b[0m\u001b[1;33m[\u001b[0m\u001b[1;34m\"gdp_pc_pp\"\u001b[0m\u001b[1;33m]\u001b[0m\u001b[1;33m\u001b[0m\u001b[0m\n\u001b[0;32m     30\u001b[0m \u001b[1;33m\u001b[0m\u001b[0m\n\u001b[1;32m---> 31\u001b[1;33m     \u001b[0mcp\u001b[0m\u001b[1;33m=\u001b[0m   \u001b[0mdf\u001b[0m\u001b[1;33m[\u001b[0m\u001b[1;34m\"cp\"\u001b[0m\u001b[1;33m]\u001b[0m\u001b[1;33m\u001b[0m\u001b[0m\n\u001b[0m\u001b[0;32m     32\u001b[0m     \u001b[0mcr\u001b[0m \u001b[1;33m=\u001b[0m \u001b[0mdf\u001b[0m\u001b[1;33m[\u001b[0m\u001b[1;34m\"cr\"\u001b[0m\u001b[1;33m]\u001b[0m\u001b[1;33m\u001b[0m\u001b[0m\n\u001b[0;32m     33\u001b[0m \u001b[1;33m\u001b[0m\u001b[0m\n",
      "\u001b[1;32mC:\\Users\\Admin\\Anaconda3\\lib\\site-packages\\pandas\\core\\frame.py\u001b[0m in \u001b[0;36m__getitem__\u001b[1;34m(self, key)\u001b[0m\n\u001b[0;32m   1967\u001b[0m             \u001b[1;32mreturn\u001b[0m \u001b[0mself\u001b[0m\u001b[1;33m.\u001b[0m\u001b[0m_getitem_multilevel\u001b[0m\u001b[1;33m(\u001b[0m\u001b[0mkey\u001b[0m\u001b[1;33m)\u001b[0m\u001b[1;33m\u001b[0m\u001b[0m\n\u001b[0;32m   1968\u001b[0m         \u001b[1;32melse\u001b[0m\u001b[1;33m:\u001b[0m\u001b[1;33m\u001b[0m\u001b[0m\n\u001b[1;32m-> 1969\u001b[1;33m             \u001b[1;32mreturn\u001b[0m \u001b[0mself\u001b[0m\u001b[1;33m.\u001b[0m\u001b[0m_getitem_column\u001b[0m\u001b[1;33m(\u001b[0m\u001b[0mkey\u001b[0m\u001b[1;33m)\u001b[0m\u001b[1;33m\u001b[0m\u001b[0m\n\u001b[0m\u001b[0;32m   1970\u001b[0m \u001b[1;33m\u001b[0m\u001b[0m\n\u001b[0;32m   1971\u001b[0m     \u001b[1;32mdef\u001b[0m \u001b[0m_getitem_column\u001b[0m\u001b[1;33m(\u001b[0m\u001b[0mself\u001b[0m\u001b[1;33m,\u001b[0m \u001b[0mkey\u001b[0m\u001b[1;33m)\u001b[0m\u001b[1;33m:\u001b[0m\u001b[1;33m\u001b[0m\u001b[0m\n",
      "\u001b[1;32mC:\\Users\\Admin\\Anaconda3\\lib\\site-packages\\pandas\\core\\frame.py\u001b[0m in \u001b[0;36m_getitem_column\u001b[1;34m(self, key)\u001b[0m\n\u001b[0;32m   1974\u001b[0m         \u001b[1;31m# get column\u001b[0m\u001b[1;33m\u001b[0m\u001b[1;33m\u001b[0m\u001b[0m\n\u001b[0;32m   1975\u001b[0m         \u001b[1;32mif\u001b[0m \u001b[0mself\u001b[0m\u001b[1;33m.\u001b[0m\u001b[0mcolumns\u001b[0m\u001b[1;33m.\u001b[0m\u001b[0mis_unique\u001b[0m\u001b[1;33m:\u001b[0m\u001b[1;33m\u001b[0m\u001b[0m\n\u001b[1;32m-> 1976\u001b[1;33m             \u001b[1;32mreturn\u001b[0m \u001b[0mself\u001b[0m\u001b[1;33m.\u001b[0m\u001b[0m_get_item_cache\u001b[0m\u001b[1;33m(\u001b[0m\u001b[0mkey\u001b[0m\u001b[1;33m)\u001b[0m\u001b[1;33m\u001b[0m\u001b[0m\n\u001b[0m\u001b[0;32m   1977\u001b[0m \u001b[1;33m\u001b[0m\u001b[0m\n\u001b[0;32m   1978\u001b[0m         \u001b[1;31m# duplicate columns & possible reduce dimensionality\u001b[0m\u001b[1;33m\u001b[0m\u001b[1;33m\u001b[0m\u001b[0m\n",
      "\u001b[1;32mC:\\Users\\Admin\\Anaconda3\\lib\\site-packages\\pandas\\core\\generic.py\u001b[0m in \u001b[0;36m_get_item_cache\u001b[1;34m(self, item)\u001b[0m\n\u001b[0;32m   1089\u001b[0m         \u001b[0mres\u001b[0m \u001b[1;33m=\u001b[0m \u001b[0mcache\u001b[0m\u001b[1;33m.\u001b[0m\u001b[0mget\u001b[0m\u001b[1;33m(\u001b[0m\u001b[0mitem\u001b[0m\u001b[1;33m)\u001b[0m\u001b[1;33m\u001b[0m\u001b[0m\n\u001b[0;32m   1090\u001b[0m         \u001b[1;32mif\u001b[0m \u001b[0mres\u001b[0m \u001b[1;32mis\u001b[0m \u001b[1;32mNone\u001b[0m\u001b[1;33m:\u001b[0m\u001b[1;33m\u001b[0m\u001b[0m\n\u001b[1;32m-> 1091\u001b[1;33m             \u001b[0mvalues\u001b[0m \u001b[1;33m=\u001b[0m \u001b[0mself\u001b[0m\u001b[1;33m.\u001b[0m\u001b[0m_data\u001b[0m\u001b[1;33m.\u001b[0m\u001b[0mget\u001b[0m\u001b[1;33m(\u001b[0m\u001b[0mitem\u001b[0m\u001b[1;33m)\u001b[0m\u001b[1;33m\u001b[0m\u001b[0m\n\u001b[0m\u001b[0;32m   1092\u001b[0m             \u001b[0mres\u001b[0m \u001b[1;33m=\u001b[0m \u001b[0mself\u001b[0m\u001b[1;33m.\u001b[0m\u001b[0m_box_item_values\u001b[0m\u001b[1;33m(\u001b[0m\u001b[0mitem\u001b[0m\u001b[1;33m,\u001b[0m \u001b[0mvalues\u001b[0m\u001b[1;33m)\u001b[0m\u001b[1;33m\u001b[0m\u001b[0m\n\u001b[0;32m   1093\u001b[0m             \u001b[0mcache\u001b[0m\u001b[1;33m[\u001b[0m\u001b[0mitem\u001b[0m\u001b[1;33m]\u001b[0m \u001b[1;33m=\u001b[0m \u001b[0mres\u001b[0m\u001b[1;33m\u001b[0m\u001b[0m\n",
      "\u001b[1;32mC:\\Users\\Admin\\Anaconda3\\lib\\site-packages\\pandas\\core\\internals.py\u001b[0m in \u001b[0;36mget\u001b[1;34m(self, item, fastpath)\u001b[0m\n\u001b[0;32m   3209\u001b[0m \u001b[1;33m\u001b[0m\u001b[0m\n\u001b[0;32m   3210\u001b[0m             \u001b[1;32mif\u001b[0m \u001b[1;32mnot\u001b[0m \u001b[0misnull\u001b[0m\u001b[1;33m(\u001b[0m\u001b[0mitem\u001b[0m\u001b[1;33m)\u001b[0m\u001b[1;33m:\u001b[0m\u001b[1;33m\u001b[0m\u001b[0m\n\u001b[1;32m-> 3211\u001b[1;33m                 \u001b[0mloc\u001b[0m \u001b[1;33m=\u001b[0m \u001b[0mself\u001b[0m\u001b[1;33m.\u001b[0m\u001b[0mitems\u001b[0m\u001b[1;33m.\u001b[0m\u001b[0mget_loc\u001b[0m\u001b[1;33m(\u001b[0m\u001b[0mitem\u001b[0m\u001b[1;33m)\u001b[0m\u001b[1;33m\u001b[0m\u001b[0m\n\u001b[0m\u001b[0;32m   3212\u001b[0m             \u001b[1;32melse\u001b[0m\u001b[1;33m:\u001b[0m\u001b[1;33m\u001b[0m\u001b[0m\n\u001b[0;32m   3213\u001b[0m                 \u001b[0mindexer\u001b[0m \u001b[1;33m=\u001b[0m \u001b[0mnp\u001b[0m\u001b[1;33m.\u001b[0m\u001b[0marange\u001b[0m\u001b[1;33m(\u001b[0m\u001b[0mlen\u001b[0m\u001b[1;33m(\u001b[0m\u001b[0mself\u001b[0m\u001b[1;33m.\u001b[0m\u001b[0mitems\u001b[0m\u001b[1;33m)\u001b[0m\u001b[1;33m)\u001b[0m\u001b[1;33m[\u001b[0m\u001b[0misnull\u001b[0m\u001b[1;33m(\u001b[0m\u001b[0mself\u001b[0m\u001b[1;33m.\u001b[0m\u001b[0mitems\u001b[0m\u001b[1;33m)\u001b[0m\u001b[1;33m]\u001b[0m\u001b[1;33m\u001b[0m\u001b[0m\n",
      "\u001b[1;32mC:\\Users\\Admin\\Anaconda3\\lib\\site-packages\\pandas\\core\\index.py\u001b[0m in \u001b[0;36mget_loc\u001b[1;34m(self, key, method, tolerance)\u001b[0m\n\u001b[0;32m   1757\u001b[0m                                  'backfill or nearest lookups')\n\u001b[0;32m   1758\u001b[0m             \u001b[0mkey\u001b[0m \u001b[1;33m=\u001b[0m \u001b[0m_values_from_object\u001b[0m\u001b[1;33m(\u001b[0m\u001b[0mkey\u001b[0m\u001b[1;33m)\u001b[0m\u001b[1;33m\u001b[0m\u001b[0m\n\u001b[1;32m-> 1759\u001b[1;33m             \u001b[1;32mreturn\u001b[0m \u001b[0mself\u001b[0m\u001b[1;33m.\u001b[0m\u001b[0m_engine\u001b[0m\u001b[1;33m.\u001b[0m\u001b[0mget_loc\u001b[0m\u001b[1;33m(\u001b[0m\u001b[0mkey\u001b[0m\u001b[1;33m)\u001b[0m\u001b[1;33m\u001b[0m\u001b[0m\n\u001b[0m\u001b[0;32m   1760\u001b[0m \u001b[1;33m\u001b[0m\u001b[0m\n\u001b[0;32m   1761\u001b[0m         indexer = self.get_indexer([key], method=method,\n",
      "\u001b[1;32mpandas\\index.pyx\u001b[0m in \u001b[0;36mpandas.index.IndexEngine.get_loc (pandas\\index.c:3979)\u001b[1;34m()\u001b[0m\n",
      "\u001b[1;32mpandas\\index.pyx\u001b[0m in \u001b[0;36mpandas.index.IndexEngine.get_loc (pandas\\index.c:3843)\u001b[1;34m()\u001b[0m\n",
      "\u001b[1;32mpandas\\hashtable.pyx\u001b[0m in \u001b[0;36mpandas.hashtable.PyObjectHashTable.get_item (pandas\\hashtable.c:12265)\u001b[1;34m()\u001b[0m\n",
      "\u001b[1;32mpandas\\hashtable.pyx\u001b[0m in \u001b[0;36mpandas.hashtable.PyObjectHashTable.get_item (pandas\\hashtable.c:12216)\u001b[1;34m()\u001b[0m\n",
      "\u001b[1;31mKeyError\u001b[0m: 'cp'"
     ]
    }
   ],
   "source": [
    "df_with_results=compute_resiliences(df)"
   ]
  },
  {
   "cell_type": "markdown",
   "metadata": {},
   "source": [
    "Let us look at a few inputs and outputs of that function"
   ]
  },
  {
   "cell_type": "code",
   "execution_count": null,
   "metadata": {
    "ExecuteTime": {
     "end_time": "2016-03-01T17:17:56.722379",
     "start_time": "2016-03-01T17:17:56.574774"
    },
    "collapsed": false
   },
   "outputs": [],
   "source": [
    "#set of variable we want to inspect\n",
    "to_output = ['gdp_pc_pp', 'pop',\"protection\",\"fap\",\"far\",\"v_p\",\"v_r\",\"resilience\",\"risk\"] \n",
    "a=df_with_results[to_output].copy().dropna()\n",
    "\n",
    "#expresses fractions in %\n",
    "a.loc[:,[\"fap\",\"far\",\"v_p\",\"v_r\",\"resilience\",\"risk\"]]*=100 \n",
    "\n",
    "#replaces column names (model variables) by their meaning (human-readable description)\n",
    "desc=pd.read_csv(\"inputs/inputs_info.csv\").set_index('key')[\"descriptor\"]\n",
    "a=a.rename(columns=desc)\n",
    "\n",
    "#exports the result to an Excel file\n",
    "a.to_excel(\"results/main results_simple.xlsx\")\n",
    "\n",
    "#displays the first few lines\n",
    "a.head()"
   ]
  },
  {
   "cell_type": "markdown",
   "metadata": {},
   "source": [
    "Now we add a description to each column (from [inputs/inputs_info.csv](inputs/inputs_info.csv)) and save the resulting table"
   ]
  },
  {
   "cell_type": "code",
   "execution_count": null,
   "metadata": {
    "collapsed": false
   },
   "outputs": [],
   "source": [
    "#read descritpion of each variable\n",
    "description = pd.read_csv(\"inputs/inputs_info.csv\", index_col=\"key\")[\"descriptor\"]\n",
    "description.head()\n",
    "\n",
    "#copy of the results\n",
    "data = df_with_results.copy()\n",
    "\n",
    "#adds description line\n",
    "data.ix[\"description\"]= description\n",
    "\n",
    "#makes that line part of the index\n",
    "data=data.T.reset_index().set_index([\"description\",\"index\"]).T\n",
    "data.columns.names = ['description', 'variable']\n",
    "\n",
    "#exports the result to a CSV file\n",
    "data.to_csv(\"results/all_data_and_results_simple.csv\") #we call that file _simple because it does not rely on multihazard data\n",
    "\n",
    "#displays the first few provinces, transposed for ease of reading.\n",
    "data.head().T"
   ]
  },
  {
   "cell_type": "markdown",
   "metadata": {},
   "source": [
    "#### Visualizing risk to assets, capacity and risk to welfare"
   ]
  },
  {
   "cell_type": "markdown",
   "metadata": {},
   "source": [
    "Now we visualize risk and resilience acrross provinces, with plots and maps"
   ]
  },
  {
   "cell_type": "code",
   "execution_count": null,
   "metadata": {
    "ExecuteTime": {
     "end_time": "2016-03-01T17:17:56.570772",
     "start_time": "2016-03-01T17:17:56.078867"
    },
    "collapsed": false
   },
   "outputs": [],
   "source": [
    "a=df_with_results[\"risk_to_assets\"];\n",
    "a.min()*100,a.mean()*100,a.max()*100\n",
    "print(\"Risk to assets averages {mean:.0%} across the {nb:.0f} provinces in our sample, ranging from {min:.4%} to {max:.0%}\".format(\n",
    "    min=a.min(), nb=a.shape[0],mean=a.mean(),max=a.max()))\n",
    "ax=(100*a).plot.hist(figsize=(7,7), color=\"#fc8d59\");\n",
    "\n",
    "a=df_with_results[\"resilience\"];\n",
    "a.min()*100,a.mean()*100,a.max()*100\n",
    "print(\"Socio-economic capacity averages {mean:.0%} across our sample, ranging from {min:.4%} to {max:.4%}\".format(\n",
    "    min=a.min(),mean=a.mean(),max=a.max()))\n",
    "plt.figure(figsize=(7,7))\n",
    "ax2=(100*a).plot.hist(alpha=0.5, color=\"#08519c\");\n",
    "ax2.legend([\"Socio-economic capacity\"])\n",
    "ax2.set_xlabel('%');\n",
    "\n",
    "\n",
    "a=df_with_results[\"risk\"];\n",
    "a.min()*100,a.mean()*100,a.max()*100\n",
    "print(\"Risk to welfare averages {mean:.0%} across our sample, ranging from {min:.4%} to {max:.3%}\".format(\n",
    "    min=a.min(),mean=a.mean(),max=a.max()))\n",
    "(100*a).plot.hist(alpha=0.5, ax=ax, color=\"#3f007d\");\n",
    "\n",
    "ax.legend([\"Annual assets losses\",\"Annual welfare losses\"])\n",
    "ax.set_xlabel('% of local GDP');"
   ]
  },
  {
   "cell_type": "markdown",
   "metadata": {},
   "source": [
    "Risk to assets, socio-economic capacity, and total welfare risk can also be visualized in maps (see [draw_maps.ipynb](draw_maps.ipynb) for how to build these maps)"
   ]
  },
  {
   "cell_type": "markdown",
   "metadata": {},
   "source": [
    " <table border=\"0\" style=\"border:none\">\n",
    "  <tr>\n",
    "  <td>**Risk to assets**</td>\n",
    "    <td>**Socio-economic capacity**</td>\n",
    "    <td>**Risk to welfare**</td>\n",
    "  </tr>\n",
    "  <tr>\n",
    "    <td>![title](img/map_and_legend_of_asset_risk.png)</td>\n",
    "    <td>![title](img/map_and_legend_of_se_capacity.png)</td>\n",
    "    <td>![title](img/map_and_legend_of_welfare_risk.png)</td>\n",
    "  </tr>\n",
    "</table> \n"
   ]
  },
  {
   "cell_type": "markdown",
   "metadata": {},
   "source": [
    "# Categorizing provinces"
   ]
  },
  {
   "cell_type": "markdown",
   "metadata": {},
   "source": [
    "Here we categorize provinces in 3 tiers (Low, mid, high) according to their ranking on socio-econic capacity and on overall risk to welfare. We use the functions `make_tiers` and `categories_to_formated_excel_file` from [res_ind_lib.py](res_ind_lib.py)"
   ]
  },
  {
   "cell_type": "code",
   "execution_count": null,
   "metadata": {
    "ExecuteTime": {
     "end_time": "2016-03-01T17:17:56.858481",
     "start_time": "2016-03-01T17:17:56.728388"
    },
    "collapsed": false
   },
   "outputs": [],
   "source": [
    "categories = pd.DataFrame([make_tiers(df_with_results.risk_to_assets),\n",
    "                           make_tiers(df_with_results.resilience),\n",
    "                           make_tiers(df_with_results.risk), \n",
    "                           ]).T.dropna()\n",
    "\n",
    "categories.rename(columns=description).head()"
   ]
  },
  {
   "cell_type": "markdown",
   "metadata": {
    "collapsed": true
   },
   "source": [
    "# Policy experiments"
   ]
  },
  {
   "cell_type": "markdown",
   "metadata": {},
   "source": [
    "Finally, the resilience indicator model can be used to asses the impact of specific policies on asset and welfare losses. In the following we provide two examples. More policy assessment are performed in [render_policy_assessment.ipynb](render_policy_assessment.ipynb)"
   ]
  },
  {
   "cell_type": "markdown",
   "metadata": {},
   "source": [
    "#### Impact of increasing the income of poor families"
   ]
  },
  {
   "cell_type": "code",
   "execution_count": null,
   "metadata": {
    "ExecuteTime": {
     "end_time": "2016-03-01T17:17:57.069638",
     "start_time": "2016-03-01T17:17:56.865489"
    },
    "collapsed": false
   },
   "outputs": [],
   "source": [
    "df_share1 = compute_resiliences( def_ref_values(df.dropna().assign(share1=df.share1+5/100) ))\n",
    "\n",
    "#welfare losses\n",
    "wa=df_with_results.dWtot_currency.sum()*1e-6\n",
    "wb=df_share1.dWtot_currency.sum()*1e-6\n",
    "\n",
    "#asset losses\n",
    "ka = (df_with_results.dKtot).sum()*1e-6\n",
    "kb = (df_share1.dKtot).sum()*1e-6\n",
    "\n",
    "nb_countries_all_results = df_with_results[\"resilience\"].dropna().shape[0]\n",
    "\n",
    "print(\" Increasing the income of poor households by 5 percent in the {nb} provincies \\\n",
    "would increase asset losses from {ka:0.2f} to {kb:0.2f} billions per year\\\n",
    "({XX:.1%}), but reduce welfare losses by {YY:.1%}\".format(\n",
    "        XX=(kb-ka)/ka,ka=ka,kb=kb,YY=(wa-wb)/wa,nb=nb_countries_all_results)\n",
    "     )"
   ]
  },
  {
   "cell_type": "markdown",
   "metadata": {},
   "source": [
    "#### Impact of scaling up social protection"
   ]
  },
  {
   "cell_type": "code",
   "execution_count": null,
   "metadata": {
    "ExecuteTime": {
     "end_time": "2016-03-01T17:17:57.227752",
     "start_time": "2016-03-01T17:17:57.073640"
    },
    "collapsed": false
   },
   "outputs": [],
   "source": [
    "df_su = compute_resiliences( df.dropna().assign(sigma_p=.33,sigma_r=0.33) )\n",
    "\n",
    "#welfare losses\n",
    "wa=df_with_results.dWtot_currency.sum()*1e-6\n",
    "wb=df_su.dWtot_currency.sum()*1e-6\n",
    "\n",
    "#asset losses\n",
    "ka = (df_with_results.dKtot).sum()*1e-6\n",
    "kb = (df_su.dKtot).sum()*1e-6\n",
    "\n",
    "print(\"Scaling up social protection to cover one third of asset losses in the {nb} provincies \\\n",
    "would left asset losses unchanged (from {ka:0.2f} to {kb:0.2f} billions per year), \\\n",
    "but reduce welfare losses by {YY:.0%}\".format(\n",
    "        XX=100*(kb-ka)/ka,ka=ka,kb=kb,YY=(wb-wa)/wb,nb=nb_countries_all_results)\n",
    "     )"
   ]
  },
  {
   "cell_type": "code",
   "execution_count": null,
   "metadata": {
    "collapsed": false
   },
   "outputs": [],
   "source": [
    "compute_resiliences(df)"
   ]
  },
  {
   "cell_type": "code",
   "execution_count": null,
   "metadata": {
    "collapsed": true
   },
   "outputs": [],
   "source": []
  }
 ],
 "metadata": {
  "kernelspec": {
   "display_name": "Python 3",
   "language": "python",
   "name": "python3"
  },
  "language_info": {
   "codemirror_mode": {
    "name": "ipython",
    "version": 3
   },
   "file_extension": ".py",
   "mimetype": "text/x-python",
   "name": "python",
   "nbconvert_exporter": "python",
   "pygments_lexer": "ipython3",
   "version": "3.4.4"
  }
 },
 "nbformat": 4,
 "nbformat_minor": 0
}
