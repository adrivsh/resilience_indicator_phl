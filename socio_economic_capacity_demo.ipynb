{
 "cells": [
  {
   "cell_type": "markdown",
   "metadata": {},
   "source": [
    "This notebook demonstrates the usage of the resilience/socio-economic capacity model."
   ]
  },
  {
   "cell_type": "markdown",
   "metadata": {},
   "source": [
    "# Loading functions"
   ]
  },
  {
   "cell_type": "markdown",
   "metadata": {},
   "source": [
    "We first import function librairies. The first ones are standard python librairies."
   ]
  },
  {
   "cell_type": "code",
   "execution_count": 40,
   "metadata": {
    "ExecuteTime": {
     "end_time": "2016-03-01T16:51:27.126346",
     "start_time": "2016-03-01T16:51:27.005758"
    },
    "collapsed": true
   },
   "outputs": [],
   "source": [
    "#The main package we use. Manipulates Excel-like tables (called dataframes) with named rows and columns\n",
    "import pandas as pd "
   ]
  },
  {
   "cell_type": "code",
   "execution_count": 41,
   "metadata": {
    "ExecuteTime": {
     "end_time": "2016-03-01T16:51:27.473589",
     "start_time": "2016-03-01T16:51:27.343493"
    },
    "code_folding": [],
    "collapsed": false
   },
   "outputs": [],
   "source": [
    "#ploting capacities\n",
    "import matplotlib.pyplot as plt \n",
    "#make plots appear in this notebook\n",
    "%matplotlib inline  \n",
    "\n",
    "#Default options for plots: this controls the font used in figures\n",
    "font = {'family' : 'sans serif',\n",
    "    'size'   : 22}\n",
    "plt.rc('font', **font)\n"
   ]
  },
  {
   "cell_type": "markdown",
   "metadata": {},
   "source": [
    "# Loading and exploring all the data"
   ]
  },
  {
   "cell_type": "markdown",
   "metadata": {},
   "source": [
    "Here we read the whole data set we need into a pandas table (called DataFrame).\n",
    "This specific dataset was put together from a variety of different sources using another python notebook: [data_gathering_demo.ipynb](data_gathering_demo.ipynb). In the future we could build directly an excel file with all the data the model needs."
   ]
  },
  {
   "cell_type": "code",
   "execution_count": 55,
   "metadata": {
    "ExecuteTime": {
     "end_time": "2016-03-01T17:07:36.611661",
     "start_time": "2016-03-01T17:07:36.403509"
    },
    "collapsed": false
   },
   "outputs": [
    {
     "data": {
      "text/html": [
       "<div>\n",
       "<table border=\"1\" class=\"dataframe\">\n",
       "  <thead>\n",
       "    <tr style=\"text-align: right;\">\n",
       "      <th></th>\n",
       "      <th>gdp_pc_pp</th>\n",
       "      <th>pop</th>\n",
       "      <th>plgp</th>\n",
       "      <th>unemp</th>\n",
       "      <th>bashs</th>\n",
       "      <th>pov_head</th>\n",
       "      <th>shew</th>\n",
       "      <th>ophe</th>\n",
       "      <th>gdp_pc_pp_nat</th>\n",
       "      <th>rel_gdp_pp</th>\n",
       "      <th>...</th>\n",
       "      <th>pv</th>\n",
       "      <th>v_s</th>\n",
       "      <th>protection</th>\n",
       "      <th>avg_prod_k</th>\n",
       "      <th>T_rebuild_K</th>\n",
       "      <th>pi</th>\n",
       "      <th>nat_buyout</th>\n",
       "      <th>sigma_r</th>\n",
       "      <th>sigma_p</th>\n",
       "      <th>income_elast</th>\n",
       "    </tr>\n",
       "  </thead>\n",
       "  <tbody>\n",
       "    <tr>\n",
       "      <th>Abra</th>\n",
       "      <td>133.688</td>\n",
       "      <td>240135.244121</td>\n",
       "      <td>0.8827</td>\n",
       "      <td>0.165</td>\n",
       "      <td>0.857720</td>\n",
       "      <td>0.373595</td>\n",
       "      <td>0.953416</td>\n",
       "      <td>0.031414</td>\n",
       "      <td>184.136685</td>\n",
       "      <td>0.726026</td>\n",
       "      <td>...</td>\n",
       "      <td>0.234093</td>\n",
       "      <td>0.100000</td>\n",
       "      <td>10.57</td>\n",
       "      <td>0.23</td>\n",
       "      <td>3</td>\n",
       "      <td>0.2</td>\n",
       "      <td>0.3</td>\n",
       "      <td>0.333333</td>\n",
       "      <td>0.333333</td>\n",
       "      <td>1.5</td>\n",
       "    </tr>\n",
       "    <tr>\n",
       "      <th>Agusan Del Norte</th>\n",
       "      <td>179.014</td>\n",
       "      <td>661728.454375</td>\n",
       "      <td>0.7075</td>\n",
       "      <td>0.210</td>\n",
       "      <td>0.921445</td>\n",
       "      <td>0.346715</td>\n",
       "      <td>0.821277</td>\n",
       "      <td>0.034563</td>\n",
       "      <td>184.136685</td>\n",
       "      <td>0.972180</td>\n",
       "      <td>...</td>\n",
       "      <td>0.911730</td>\n",
       "      <td>0.100000</td>\n",
       "      <td>9.41</td>\n",
       "      <td>0.23</td>\n",
       "      <td>3</td>\n",
       "      <td>0.2</td>\n",
       "      <td>0.3</td>\n",
       "      <td>0.333333</td>\n",
       "      <td>0.333333</td>\n",
       "      <td>1.5</td>\n",
       "    </tr>\n",
       "    <tr>\n",
       "      <th>Agusan Del Sur</th>\n",
       "      <td>126.492</td>\n",
       "      <td>677779.682154</td>\n",
       "      <td>0.6871</td>\n",
       "      <td>0.210</td>\n",
       "      <td>0.727442</td>\n",
       "      <td>0.480785</td>\n",
       "      <td>0.821277</td>\n",
       "      <td>0.034563</td>\n",
       "      <td>184.136685</td>\n",
       "      <td>0.686946</td>\n",
       "      <td>...</td>\n",
       "      <td>0.501310</td>\n",
       "      <td>0.100000</td>\n",
       "      <td>8.61</td>\n",
       "      <td>0.23</td>\n",
       "      <td>3</td>\n",
       "      <td>0.2</td>\n",
       "      <td>0.3</td>\n",
       "      <td>0.333333</td>\n",
       "      <td>0.333333</td>\n",
       "      <td>1.5</td>\n",
       "    </tr>\n",
       "    <tr>\n",
       "      <th>Aklan</th>\n",
       "      <td>119.962</td>\n",
       "      <td>554414.442422</td>\n",
       "      <td>0.7210</td>\n",
       "      <td>0.188</td>\n",
       "      <td>0.806176</td>\n",
       "      <td>0.249662</td>\n",
       "      <td>0.823003</td>\n",
       "      <td>0.044318</td>\n",
       "      <td>184.136685</td>\n",
       "      <td>0.651483</td>\n",
       "      <td>...</td>\n",
       "      <td>NaN</td>\n",
       "      <td>0.135089</td>\n",
       "      <td>0.00</td>\n",
       "      <td>0.23</td>\n",
       "      <td>3</td>\n",
       "      <td>0.2</td>\n",
       "      <td>0.3</td>\n",
       "      <td>0.333333</td>\n",
       "      <td>0.333333</td>\n",
       "      <td>1.5</td>\n",
       "    </tr>\n",
       "    <tr>\n",
       "      <th>Albay</th>\n",
       "      <td>158.629</td>\n",
       "      <td>1264097.894966</td>\n",
       "      <td>0.7930</td>\n",
       "      <td>0.346</td>\n",
       "      <td>0.840840</td>\n",
       "      <td>0.409587</td>\n",
       "      <td>0.800000</td>\n",
       "      <td>0.032568</td>\n",
       "      <td>184.136685</td>\n",
       "      <td>0.861474</td>\n",
       "      <td>...</td>\n",
       "      <td>NaN</td>\n",
       "      <td>0.100000</td>\n",
       "      <td>0.00</td>\n",
       "      <td>0.23</td>\n",
       "      <td>3</td>\n",
       "      <td>0.2</td>\n",
       "      <td>0.3</td>\n",
       "      <td>0.333333</td>\n",
       "      <td>0.333333</td>\n",
       "      <td>1.5</td>\n",
       "    </tr>\n",
       "  </tbody>\n",
       "</table>\n",
       "<p>5 rows × 29 columns</p>\n",
       "</div>"
      ],
      "text/plain": [
       "                  gdp_pc_pp             pop    plgp  unemp     bashs  \\\n",
       "Abra                133.688   240135.244121  0.8827  0.165  0.857720   \n",
       "Agusan Del Norte    179.014   661728.454375  0.7075  0.210  0.921445   \n",
       "Agusan Del Sur      126.492   677779.682154  0.6871  0.210  0.727442   \n",
       "Aklan               119.962   554414.442422  0.7210  0.188  0.806176   \n",
       "Albay               158.629  1264097.894966  0.7930  0.346  0.840840   \n",
       "\n",
       "                  pov_head      shew      ophe  gdp_pc_pp_nat  rel_gdp_pp  \\\n",
       "Abra              0.373595  0.953416  0.031414     184.136685    0.726026   \n",
       "Agusan Del Norte  0.346715  0.821277  0.034563     184.136685    0.972180   \n",
       "Agusan Del Sur    0.480785  0.821277  0.034563     184.136685    0.686946   \n",
       "Aklan             0.249662  0.823003  0.044318     184.136685    0.651483   \n",
       "Albay             0.409587  0.800000  0.032568     184.136685    0.861474   \n",
       "\n",
       "                      ...             pv       v_s  protection  avg_prod_k  \\\n",
       "Abra                  ...       0.234093  0.100000       10.57        0.23   \n",
       "Agusan Del Norte      ...       0.911730  0.100000        9.41        0.23   \n",
       "Agusan Del Sur        ...       0.501310  0.100000        8.61        0.23   \n",
       "Aklan                 ...            NaN  0.135089        0.00        0.23   \n",
       "Albay                 ...            NaN  0.100000        0.00        0.23   \n",
       "\n",
       "                  T_rebuild_K   pi  nat_buyout   sigma_r   sigma_p  \\\n",
       "Abra                        3  0.2         0.3  0.333333  0.333333   \n",
       "Agusan Del Norte            3  0.2         0.3  0.333333  0.333333   \n",
       "Agusan Del Sur              3  0.2         0.3  0.333333  0.333333   \n",
       "Aklan                       3  0.2         0.3  0.333333  0.333333   \n",
       "Albay                       3  0.2         0.3  0.333333  0.333333   \n",
       "\n",
       "                  income_elast  \n",
       "Abra                       1.5  \n",
       "Agusan Del Norte           1.5  \n",
       "Agusan Del Sur             1.5  \n",
       "Aklan                      1.5  \n",
       "Albay                      1.5  \n",
       "\n",
       "[5 rows x 29 columns]"
      ]
     },
     "execution_count": 55,
     "metadata": {},
     "output_type": "execute_result"
    }
   ],
   "source": [
    "#Load the excel data file into a dataframe (table)\n",
    "df=pd.read_excel(\"all_data_compiled.xlsx\", \n",
    "                 index_col=0, #tells Pandas to use the column \"Province\" as the index of the table\n",
    "                 skiprows=[0, 2] #The first (0) row is a description of the variable so we skip it, and the 3 (2) row is empty\n",
    "                ) \n",
    "\n",
    "#Displays the first rows of that dataframe\n",
    "df.head()"
   ]
  },
  {
   "cell_type": "markdown",
   "metadata": {},
   "source": [
    "The columns names correspond to variable in a model, so they are not all self-explanatory. For a description of the variables, see [inputs/inputs_info.csv](inputs/inputs_info.csv)"
   ]
  },
  {
   "cell_type": "markdown",
   "metadata": {},
   "source": [
    "Let's get familiar with Dataframes. Here is how to look at specific rows or columns."
   ]
  },
  {
   "cell_type": "code",
   "execution_count": null,
   "metadata": {
    "ExecuteTime": {
     "end_time": "2016-03-01T16:50:22.347982",
     "start_time": "2016-03-01T21:50:20.908Z"
    },
    "collapsed": false
   },
   "outputs": [],
   "source": [
    "df.ix[\"Abra\"].head() #all the data we have on Abra. The head() method returns only the first few lines for saving space"
   ]
  },
  {
   "cell_type": "code",
   "execution_count": null,
   "metadata": {
    "ExecuteTime": {
     "end_time": "2016-03-01T16:50:22.348982",
     "start_time": "2016-03-01T21:50:20.911Z"
    },
    "collapsed": false
   },
   "outputs": [],
   "source": [
    "df[\"pop\"].head() #population in all provinces"
   ]
  },
  {
   "cell_type": "markdown",
   "metadata": {},
   "source": [
    "Rather than displaying the actual numbers, we can plot it in a few ways. Here is the distribution of income accross provinces"
   ]
  },
  {
   "cell_type": "code",
   "execution_count": null,
   "metadata": {
    "ExecuteTime": {
     "end_time": "2016-03-01T16:50:22.348982",
     "start_time": "2016-03-01T21:50:20.919Z"
    },
    "collapsed": false
   },
   "outputs": [],
   "source": [
    "df.gdp_pc_pp.plot.hist(figsize=(7,7))\n",
    "plt.xlabel(\"Average income in the province ($\\\\times$1000 pesos)\");"
   ]
  },
  {
   "cell_type": "code",
   "execution_count": null,
   "metadata": {
    "collapsed": false
   },
   "outputs": [],
   "source": []
  },
  {
   "cell_type": "markdown",
   "metadata": {},
   "source": [
    "And below is a scatter plot showing average income, poverty incidence, and size (population) of each province"
   ]
  },
  {
   "cell_type": "code",
   "execution_count": null,
   "metadata": {
    "ExecuteTime": {
     "end_time": "2016-03-01T16:50:22.350984",
     "start_time": "2016-03-01T21:50:20.923Z"
    },
    "collapsed": false
   },
   "outputs": [],
   "source": [
    "df.plot.scatter(x=\"gdp_pc_pp\", y=\"pov_head\", s=df[\"pop\"]/1e4, alpha=0.5, figsize=(7,7))\n",
    "plt.xlabel(\"Average income\")\n",
    "plt.ylabel(\"Poverty incidence\")\n",
    "plt.ylim(0);"
   ]
  },
  {
   "cell_type": "markdown",
   "metadata": {},
   "source": [
    "# Computing socio-economic capacity"
   ]
  },
  {
   "cell_type": "markdown",
   "metadata": {},
   "source": [
    "Now that we have minimum familiarity with dataframes, let us use the resilience model. Let us first read the function definitions, from [res_ind_lib.py](res_ind_lib.py)"
   ]
  },
  {
   "cell_type": "code",
   "execution_count": null,
   "metadata": {
    "ExecuteTime": {
     "end_time": "2016-03-01T16:50:22.350984",
     "start_time": "2016-03-01T21:50:20.928Z"
    },
    "collapsed": true
   },
   "outputs": [],
   "source": [
    "from res_ind_lib import *     #MAIN library: the functions used to compute risk, resilience, etc"
   ]
  },
  {
   "cell_type": "markdown",
   "metadata": {},
   "source": [
    "Before running the model, for technical reasons, we need to define \"reference\" values for some variables. The following function does it.\n",
    "\n",
    "<small>(The technical reason is that within the function that computes resilience, some variables -- exposure fa, exposure bias pe, and poverty headcount pov_head -- are used to compute the vulnerabilities of poor and nonpoor people (vp, vr) from average vulnerability and vulnerability bias (v, pv). Making copies of this variables now, faref=fa, peref=pe, etc., ensures that policy experiments that modify these variables, for instance exposure bias, leaves vp and vr unchanged).</small>"
   ]
  },
  {
   "cell_type": "code",
   "execution_count": null,
   "metadata": {
    "ExecuteTime": {
     "end_time": "2016-03-01T16:50:22.351985",
     "start_time": "2016-03-01T21:50:20.933Z"
    },
    "collapsed": false
   },
   "outputs": [],
   "source": [
    "df = def_ref_values(df).dropna()\n",
    "df[[\"fa\", \"faref\"]].head()"
   ]
  },
  {
   "cell_type": "code",
   "execution_count": null,
   "metadata": {
    "ExecuteTime": {
     "end_time": "2016-03-01T16:50:22.352986",
     "start_time": "2016-03-01T21:50:20.940Z"
    },
    "collapsed": false
   },
   "outputs": [],
   "source": [
    "df = def_ref_values(df).dropna()\n",
    "df[[\"fa\", \"faref\"]].head()"
   ]
  },
  {
   "cell_type": "markdown",
   "metadata": {},
   "source": [
    "#### Central cases"
   ]
  },
  {
   "cell_type": "code",
   "execution_count": null,
   "metadata": {
    "ExecuteTime": {
     "end_time": "2016-03-01T16:50:22.352986",
     "start_time": "2016-03-01T21:50:20.944Z"
    },
    "collapsed": false
   },
   "outputs": [],
   "source": [
    "df_with_results=compute_resiliences(df)\n",
    "\n",
    "\n",
    "print(\"nb Provinces with all data :\"+str(df.dropna().shape[0]))\n",
    "nb_countries_all_results = df_with_results[\"resilience\"].dropna().shape[0]\n",
    "print(\"nb Provinces with all data and results :\"+str(nb_countries_all_results))\n",
    "\n",
    "df_with_results.to_csv(\"all_data_and_results.csv\")\n"
   ]
  },
  {
   "cell_type": "markdown",
   "metadata": {},
   "source": [
    "#### Basic reporting"
   ]
  },
  {
   "cell_type": "code",
   "execution_count": null,
   "metadata": {
    "ExecuteTime": {
     "end_time": "2016-03-01T16:50:22.353986",
     "start_time": "2016-03-01T21:50:20.950Z"
    },
    "collapsed": false
   },
   "outputs": [],
   "source": [
    "#Some stats\n",
    "a=df_with_results.resilience;\n",
    "a.min()*100,a.mean()*100,a.max()*100\n",
    "print(\"Resilience averages {mean:.0%} across our sample, ranging from {min:.0%} to {max:.0%}\".format(\n",
    "    min=a.min(),mean=a.mean(),max=a.max()))\n",
    "(100*a).plot.hist(figsize=(7,7));"
   ]
  },
  {
   "cell_type": "code",
   "execution_count": null,
   "metadata": {
    "ExecuteTime": {
     "end_time": "2016-03-01T16:50:22.353986",
     "start_time": "2016-03-01T21:50:20.962Z"
    },
    "collapsed": false
   },
   "outputs": [],
   "source": [
    "#Outputs table with main results\n",
    "to_output = ['gdp_pc_pp', 'pop',\"protection\",\"fa\",\"v\",\"resilience\",\"risk\"]\n",
    "a=df_with_results[to_output].copy()\n",
    "a.loc[:,[\"fa\",\"v\",\"resilience\",\"risk\"]]=100*a[[\"fa\",\"v\",\"resilience\",\"risk\"]]\n",
    "desc=pd.read_csv(\"inputs/inputs_info.csv\").set_index('key')[\"descriptor\"]\n",
    "a=a.rename(columns=desc).dropna()\n",
    "a.to_excel(\"main results.xlsx\")\n",
    "a.head()"
   ]
  },
  {
   "cell_type": "markdown",
   "metadata": {},
   "source": [
    "# Categorizing provinces"
   ]
  },
  {
   "cell_type": "code",
   "execution_count": null,
   "metadata": {
    "ExecuteTime": {
     "end_time": "2016-03-01T16:50:22.354986",
     "start_time": "2016-03-01T21:50:20.974Z"
    },
    "collapsed": false
   },
   "outputs": [],
   "source": [
    "categories = pd.DataFrame([make_tiers(df_with_results.resilience), make_tiers(df_with_results.risk)]).T.dropna()\n",
    "categories_to_formated_excel_file(categories,\"categories.xlsx\")\n",
    "categories.head()"
   ]
  },
  {
   "cell_type": "markdown",
   "metadata": {},
   "source": [
    "Risk to assets, socio-economic capacity, and total welfare risk can also be visualized in maps (see [draw_maps.ipynb](draw_maps.ipynb) for how to build these maps)"
   ]
  },
  {
   "cell_type": "markdown",
   "metadata": {},
   "source": [
    "#### Mapping the results"
   ]
  },
  {
   "cell_type": "markdown",
   "metadata": {},
   "source": [
    " <table border=\"0\" style=\"border:none\">\n",
    "  <tr>\n",
    "    <td>![title](img/map_and_legend_of_asset_risk.png)</td>\n",
    "    <td>![title](img/map_and_legend_of_se_capacity.png)</td>\n",
    "    <td>![title](img/map_and_legend_of_welfare_risk.png)</td>\n",
    "  </tr>\n",
    "</table> \n"
   ]
  },
  {
   "cell_type": "markdown",
   "metadata": {
    "collapsed": true
   },
   "source": [
    "# Policy experiments"
   ]
  },
  {
   "cell_type": "markdown",
   "metadata": {},
   "source": [
    "#### Impact of decreasing poverty incidence"
   ]
  },
  {
   "cell_type": "code",
   "execution_count": null,
   "metadata": {
    "ExecuteTime": {
     "end_time": "2016-03-01T16:50:22.354986",
     "start_time": "2016-03-01T21:50:20.980Z"
    },
    "collapsed": false
   },
   "outputs": [],
   "source": [
    "df_share1 = compute_resiliences( df.dropna().assign(pov_head=df.pov_head-1/100) )\n",
    "\n",
    "#welfare losses\n",
    "wa=df_with_results.total_equivalent_cost.sum()*1e-9\n",
    "wb=df_share1.total_equivalent_cost.sum()*1e-9\n",
    "\n",
    "#asset losses\n",
    "ka = (df_with_results.dKtot/df.protection).sum()*1e-9\n",
    "kb = (df_share1.dKtot/df_share1.protection).sum()*1e-9\n",
    "\n",
    "print(\" Decreasing poverty incidence by 1 percent in the {nb} provincies \\\n",
    "would increase asset losses from USD {ka:0.0f} to {kb:0.0f} billions per year \\\n",
    "(+{XX:.1f} percent), but reduce welfare losses by {YY:.2} percent\".format(\n",
    "        XX=100*(kb-ka)/ka,ka=ka,kb=kb,YY=100*(wa-wb)/wa,nb=nb_countries_all_results)\n",
    "     )"
   ]
  },
  {
   "cell_type": "markdown",
   "metadata": {},
   "source": [
    "#### Impact of increasing effective scale up"
   ]
  },
  {
   "cell_type": "code",
   "execution_count": null,
   "metadata": {
    "ExecuteTime": {
     "end_time": "2016-03-01T16:50:22.355987",
     "start_time": "2016-03-01T21:50:20.986Z"
    },
    "collapsed": false
   },
   "outputs": [],
   "source": [
    "df_su = compute_resiliences( df.dropna().assign(sigma_p=1) )\n",
    "\n",
    "#welfare losses\n",
    "wa=df_with_results.total_equivalent_cost.sum()*1e-6\n",
    "wb=df_su.total_equivalent_cost.sum()*1e-6\n",
    "\n",
    "#asset losses\n",
    "ka = (df_with_results.dKtot/df.protection).sum()*1e-6\n",
    "kb = (df_su.dKtot/df_su.protection).sum()*1e-6\n",
    "\n",
    "print(\" Increasing effective scale up to 100% in the {nb} provincies \\\n",
    "would increase asset losses from {ka:0.2f} to {kb:0.2f} billions per year \\\n",
    "(+{XX:.1f} percent), but reduce welfare losses by {YY:.2} percent\".format(\n",
    "        XX=100*(kb-ka)/ka,ka=ka,kb=kb,YY=100*(wa-wb)/wa,nb=nb_countries_all_results)\n",
    "     )"
   ]
  }
 ],
 "metadata": {
  "kernelspec": {
   "display_name": "Python 3",
   "language": "python",
   "name": "python3"
  },
  "language_info": {
   "codemirror_mode": {
    "name": "ipython",
    "version": 3
   },
   "file_extension": ".py",
   "mimetype": "text/x-python",
   "name": "python",
   "nbconvert_exporter": "python",
   "pygments_lexer": "ipython3",
   "version": "3.4.4"
  }
 },
 "nbformat": 4,
 "nbformat_minor": 0
}
