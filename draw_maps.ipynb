{
 "cells": [
  {
   "cell_type": "markdown",
   "metadata": {
    "ExecuteTime": {
     "end_time": "2016-02-29T18:00:41.559304",
     "start_time": "2016-02-29T18:00:41.553300"
    }
   },
   "source": [
    "In this notebook we use Python to draw [colorpleth maps](https://en.wikipedia.org/wiki/Choropleth_map) that report risk to assets, capacity, and resulting risk to welfare on a simpliied map of the Philippines.\n"
   ]
  },
  {
   "cell_type": "markdown",
   "metadata": {
    "ExecuteTime": {
     "end_time": "2016-02-29T18:04:54.937989",
     "start_time": "2016-02-29T18:04:54.935989"
    }
   },
   "source": [
    "## Get the Data"
   ]
  },
  {
   "cell_type": "code",
   "execution_count": 1,
   "metadata": {
    "collapsed": true
   },
   "outputs": [],
   "source": [
    "%load_ext autoreload\n",
    "%autoreload 2"
   ]
  },
  {
   "cell_type": "code",
   "execution_count": 2,
   "metadata": {
    "ExecuteTime": {
     "end_time": "2016-02-29T19:21:05.076569",
     "start_time": "2016-02-29T19:21:04.082457"
    },
    "collapsed": true
   },
   "outputs": [],
   "source": [
    "#The main library we use. Manipulates Excel-like tables (called dataframes) with named rows and columns\n",
    "import pandas as pd"
   ]
  },
  {
   "cell_type": "code",
   "execution_count": 3,
   "metadata": {
    "ExecuteTime": {
     "end_time": "2016-02-29T19:21:05.301229",
     "start_time": "2016-02-29T19:21:05.079777"
    },
    "collapsed": false
   },
   "outputs": [
    {
     "data": {
      "text/html": [
       "<div>\n",
       "<table border=\"1\" class=\"dataframe\">\n",
       "  <thead>\n",
       "    <tr style=\"text-align: right;\">\n",
       "      <th></th>\n",
       "      <th>pop</th>\n",
       "      <th>cp</th>\n",
       "      <th>cr</th>\n",
       "      <th>pov_head</th>\n",
       "      <th>gdp_pc_pp</th>\n",
       "      <th>shewp</th>\n",
       "      <th>shewr</th>\n",
       "      <th>social_p</th>\n",
       "      <th>social_r</th>\n",
       "      <th>gdp_pc_pp_nat</th>\n",
       "      <th>...</th>\n",
       "      <th>dK</th>\n",
       "      <th>delta_W</th>\n",
       "      <th>dcap</th>\n",
       "      <th>dcar</th>\n",
       "      <th>dKtot</th>\n",
       "      <th>dWpc_curency</th>\n",
       "      <th>dWtot_currency</th>\n",
       "      <th>risk</th>\n",
       "      <th>resilience</th>\n",
       "      <th>risk_to_assets</th>\n",
       "    </tr>\n",
       "    <tr>\n",
       "      <th>variable</th>\n",
       "      <th></th>\n",
       "      <th></th>\n",
       "      <th></th>\n",
       "      <th></th>\n",
       "      <th></th>\n",
       "      <th></th>\n",
       "      <th></th>\n",
       "      <th></th>\n",
       "      <th></th>\n",
       "      <th></th>\n",
       "      <th></th>\n",
       "      <th></th>\n",
       "      <th></th>\n",
       "      <th></th>\n",
       "      <th></th>\n",
       "      <th></th>\n",
       "      <th></th>\n",
       "      <th></th>\n",
       "      <th></th>\n",
       "      <th></th>\n",
       "      <th></th>\n",
       "    </tr>\n",
       "  </thead>\n",
       "  <tbody>\n",
       "    <tr>\n",
       "      <th>Abra</th>\n",
       "      <td>51167</td>\n",
       "      <td>92.828972</td>\n",
       "      <td>203.891421</td>\n",
       "      <td>0.271936</td>\n",
       "      <td>173.689487</td>\n",
       "      <td>0.063163</td>\n",
       "      <td>0.173531</td>\n",
       "      <td>0.173531</td>\n",
       "      <td>0.203457</td>\n",
       "      <td>234.602577</td>\n",
       "      <td>...</td>\n",
       "      <td>0.614174</td>\n",
       "      <td>0.000019</td>\n",
       "      <td>58.743861</td>\n",
       "      <td>113.406393</td>\n",
       "      <td>2973.078799</td>\n",
       "      <td>0.109730</td>\n",
       "      <td>5614.561571</td>\n",
       "      <td>0.000632</td>\n",
       "      <td>0.529530</td>\n",
       "      <td>0.000335</td>\n",
       "    </tr>\n",
       "    <tr>\n",
       "      <th>Agusan del Norte</th>\n",
       "      <td>141357</td>\n",
       "      <td>82.348426</td>\n",
       "      <td>234.816324</td>\n",
       "      <td>0.276778</td>\n",
       "      <td>192.616487</td>\n",
       "      <td>0.249100</td>\n",
       "      <td>0.147336</td>\n",
       "      <td>0.147336</td>\n",
       "      <td>0.226521</td>\n",
       "      <td>234.602577</td>\n",
       "      <td>...</td>\n",
       "      <td>4.450667</td>\n",
       "      <td>0.000133</td>\n",
       "      <td>63.714329</td>\n",
       "      <td>143.515689</td>\n",
       "      <td>66857.906674</td>\n",
       "      <td>0.871012</td>\n",
       "      <td>123123.615602</td>\n",
       "      <td>0.004522</td>\n",
       "      <td>0.543014</td>\n",
       "      <td>0.002456</td>\n",
       "    </tr>\n",
       "    <tr>\n",
       "      <th>Agusan del Sur</th>\n",
       "      <td>141595</td>\n",
       "      <td>83.304081</td>\n",
       "      <td>216.087522</td>\n",
       "      <td>0.372958</td>\n",
       "      <td>166.564929</td>\n",
       "      <td>0.139189</td>\n",
       "      <td>0.126444</td>\n",
       "      <td>0.126444</td>\n",
       "      <td>0.113334</td>\n",
       "      <td>234.602577</td>\n",
       "      <td>...</td>\n",
       "      <td>4.185219</td>\n",
       "      <td>0.000159</td>\n",
       "      <td>69.722530</td>\n",
       "      <td>159.377601</td>\n",
       "      <td>68827.651156</td>\n",
       "      <td>1.140791</td>\n",
       "      <td>161530.238947</td>\n",
       "      <td>0.006849</td>\n",
       "      <td>0.426098</td>\n",
       "      <td>0.002918</td>\n",
       "    </tr>\n",
       "    <tr>\n",
       "      <th>Aklan</th>\n",
       "      <td>123269</td>\n",
       "      <td>79.445859</td>\n",
       "      <td>211.619510</td>\n",
       "      <td>0.204461</td>\n",
       "      <td>184.595206</td>\n",
       "      <td>0.128517</td>\n",
       "      <td>0.184183</td>\n",
       "      <td>0.184183</td>\n",
       "      <td>0.239542</td>\n",
       "      <td>234.602577</td>\n",
       "      <td>...</td>\n",
       "      <td>20.030933</td>\n",
       "      <td>0.000612</td>\n",
       "      <td>75.992018</td>\n",
       "      <td>165.078167</td>\n",
       "      <td>2469193.051555</td>\n",
       "      <td>37.882087</td>\n",
       "      <td>4669686.938954</td>\n",
       "      <td>0.205217</td>\n",
       "      <td>0.528771</td>\n",
       "      <td>0.108513</td>\n",
       "    </tr>\n",
       "    <tr>\n",
       "      <th>Albay</th>\n",
       "      <td>267030</td>\n",
       "      <td>76.582210</td>\n",
       "      <td>224.008585</td>\n",
       "      <td>0.339106</td>\n",
       "      <td>174.015387</td>\n",
       "      <td>0.172775</td>\n",
       "      <td>0.201804</td>\n",
       "      <td>0.201804</td>\n",
       "      <td>0.213554</td>\n",
       "      <td>234.602577</td>\n",
       "      <td>...</td>\n",
       "      <td>1.282702</td>\n",
       "      <td>0.000047</td>\n",
       "      <td>61.240437</td>\n",
       "      <td>143.946460</td>\n",
       "      <td>342519.944089</td>\n",
       "      <td>2.898739</td>\n",
       "      <td>774050.339427</td>\n",
       "      <td>0.016658</td>\n",
       "      <td>0.442503</td>\n",
       "      <td>0.007371</td>\n",
       "    </tr>\n",
       "  </tbody>\n",
       "</table>\n",
       "<p>5 rows × 34 columns</p>\n",
       "</div>"
      ],
      "text/plain": [
       "                     pop         cp          cr  pov_head   gdp_pc_pp  \\\n",
       "variable                                                                \n",
       "Abra               51167  92.828972  203.891421  0.271936  173.689487   \n",
       "Agusan del Norte  141357  82.348426  234.816324  0.276778  192.616487   \n",
       "Agusan del Sur    141595  83.304081  216.087522  0.372958  166.564929   \n",
       "Aklan             123269  79.445859  211.619510  0.204461  184.595206   \n",
       "Albay             267030  76.582210  224.008585  0.339106  174.015387   \n",
       "\n",
       "                     shewp     shewr  social_p  social_r  gdp_pc_pp_nat  \\\n",
       "variable                                                                  \n",
       "Abra              0.063163  0.173531  0.173531  0.203457     234.602577   \n",
       "Agusan del Norte  0.249100  0.147336  0.147336  0.226521     234.602577   \n",
       "Agusan del Sur    0.139189  0.126444  0.126444  0.113334     234.602577   \n",
       "Aklan             0.128517  0.184183  0.184183  0.239542     234.602577   \n",
       "Albay             0.172775  0.201804  0.201804  0.213554     234.602577   \n",
       "\n",
       "                       ...               dK   delta_W       dcap        dcar  \\\n",
       "variable               ...                                                     \n",
       "Abra                   ...         0.614174  0.000019  58.743861  113.406393   \n",
       "Agusan del Norte       ...         4.450667  0.000133  63.714329  143.515689   \n",
       "Agusan del Sur         ...         4.185219  0.000159  69.722530  159.377601   \n",
       "Aklan                  ...        20.030933  0.000612  75.992018  165.078167   \n",
       "Albay                  ...         1.282702  0.000047  61.240437  143.946460   \n",
       "\n",
       "                           dKtot  dWpc_curency  dWtot_currency      risk  \\\n",
       "variable                                                                   \n",
       "Abra                 2973.078799      0.109730     5614.561571  0.000632   \n",
       "Agusan del Norte    66857.906674      0.871012   123123.615602  0.004522   \n",
       "Agusan del Sur      68827.651156      1.140791   161530.238947  0.006849   \n",
       "Aklan             2469193.051555     37.882087  4669686.938954  0.205217   \n",
       "Albay              342519.944089      2.898739   774050.339427  0.016658   \n",
       "\n",
       "                  resilience  risk_to_assets  \n",
       "variable                                      \n",
       "Abra                0.529530        0.000335  \n",
       "Agusan del Norte    0.543014        0.002456  \n",
       "Agusan del Sur      0.426098        0.002918  \n",
       "Aklan               0.528771        0.108513  \n",
       "Albay               0.442503        0.007371  \n",
       "\n",
       "[5 rows x 34 columns]"
      ]
     },
     "execution_count": 3,
     "metadata": {},
     "output_type": "execute_result"
    }
   ],
   "source": [
    "df_with_results = pd.read_csv(\"results/all_data_and_results.csv\", index_col=0, skiprows=[0,2])\n",
    "df_with_results.head()"
   ]
  },
  {
   "cell_type": "markdown",
   "metadata": {
    "ExecuteTime": {
     "end_time": "2016-02-29T18:05:05.445021",
     "start_time": "2016-02-29T18:05:05.443023"
    }
   },
   "source": [
    "## Map the data"
   ]
  },
  {
   "cell_type": "markdown",
   "metadata": {},
   "source": [
    "The following library, coded for this project, allows to plot maps. It produces [SVG](https://en.wikipedia.org/wiki/Scalable_Vector_Graphics) maps, that can be visualized in a browser, out of the box. \n",
    "\n",
    "It can also automatically transform those SVG maps into [png](https://en.wikipedia.org/wiki/Portable_Network_Graphics) maps, but for that it requires that the free softaware [Inkspace](https://inkscape.org/en/download/) is installed on your computer. \n",
    "Finally, to automatically merge the map and the legend in a single file, it requires [ImageMagick](http://www.imagemagick.org/script/index.php)."
   ]
  },
  {
   "cell_type": "code",
   "execution_count": 4,
   "metadata": {
    "ExecuteTime": {
     "end_time": "2016-02-29T19:21:06.028383",
     "start_time": "2016-02-29T19:21:05.304232"
    },
    "collapsed": false
   },
   "outputs": [],
   "source": [
    "#this library contains ad hoc functions, coded for this project, that allow to produce maps \n",
    "from maps_lib import * "
   ]
  },
  {
   "cell_type": "code",
   "execution_count": 5,
   "metadata": {
    "ExecuteTime": {
     "end_time": "2016-02-29T19:21:06.212223",
     "start_time": "2016-02-29T19:21:06.032384"
    },
    "collapsed": true
   },
   "outputs": [],
   "source": [
    "#ploting capacities\n",
    "import matplotlib.pyplot as plt \n",
    "#make plots appear in this notebook\n",
    "%matplotlib inline  \n",
    "\n",
    "#Default options for plots: \n",
    "#this controls the font used in the legend\n",
    "font = {'family' : 'sans serif',\n",
    "    'size'   : 22}\n",
    "plt.rc('font', **font)"
   ]
  },
  {
   "cell_type": "markdown",
   "metadata": {},
   "source": [
    "The [blank map of the Philippines](map/PHL_adm1.svg) we use here is an SVG.\n",
    "(It was built starting from a [shapefile](https://en.wikipedia.org/wiki/Shapefile) from [GADM.org](http://gadm.org), that was simplified with  [mapshaper.org](http://mapshaper.org) then converted to SVG with [Kartograph](http://kartograph.org/))"
   ]
  },
  {
   "cell_type": "code",
   "execution_count": 6,
   "metadata": {
    "ExecuteTime": {
     "end_time": "2016-02-29T19:21:06.359831",
     "start_time": "2016-02-29T19:21:06.216227"
    },
    "collapsed": true
   },
   "outputs": [],
   "source": [
    "# path to the blank map \n",
    "svg_file_path = \"map/BlankSimpleMap.svg\""
   ]
  },
  {
   "cell_type": "markdown",
   "metadata": {},
   "source": [
    "#### First block: risk to assets "
   ]
  },
  {
   "cell_type": "code",
   "execution_count": 7,
   "metadata": {
    "ExecuteTime": {
     "end_time": "2016-02-29T19:21:09.988021",
     "start_time": "2016-02-29T19:21:06.361832"
    },
    "collapsed": false,
    "scrolled": true
   },
   "outputs": [
    {
     "ename": "AttributeError",
     "evalue": "'Index' object has no attribute 'replace'",
     "output_type": "error",
     "traceback": [
      "\u001b[1;31m---------------------------------------------------------------------------\u001b[0m",
      "\u001b[1;31mAttributeError\u001b[0m                            Traceback (most recent call last)",
      "\u001b[1;32m<ipython-input-7-4349056180e7>\u001b[0m in \u001b[0;36m<module>\u001b[1;34m()\u001b[0m\n\u001b[0;32m      5\u001b[0m         \u001b[0mcolor_maper\u001b[0m\u001b[1;33m=\u001b[0m\u001b[0mplt\u001b[0m\u001b[1;33m.\u001b[0m\u001b[0mcm\u001b[0m\u001b[1;33m.\u001b[0m\u001b[0mget_cmap\u001b[0m\u001b[1;33m(\u001b[0m\u001b[1;34m\"Reds\"\u001b[0m\u001b[1;33m)\u001b[0m\u001b[1;33m,\u001b[0m \u001b[1;31m#color scheme (from matplotlib. Chose them from http://colorbrewer2.org/)\u001b[0m\u001b[1;33m\u001b[0m\u001b[0m\n\u001b[0;32m      6\u001b[0m         \u001b[0mlabel\u001b[0m\u001b[1;33m=\u001b[0m\u001b[1;34m\"Annual asset losses (% of GDP)\"\u001b[0m\u001b[1;33m,\u001b[0m\u001b[1;33m\u001b[0m\u001b[0m\n\u001b[1;32m----> 7\u001b[1;33m         \u001b[0mnew_title\u001b[0m\u001b[1;33m=\u001b[0m\u001b[1;34m\"Map of asset risk in the Philippines\"\u001b[0m  \u001b[1;31m#title for the colored SVG\u001b[0m\u001b[1;33m\u001b[0m\u001b[0m\n\u001b[0m\u001b[0;32m      8\u001b[0m )\n",
      "\u001b[1;32mC:\\Users\\Admin\\Box Sync\\PYTHON - RESILIENCE\\resilience_indicator_phl\\maps_lib.py\u001b[0m in \u001b[0;36mmake_map_from_svg\u001b[1;34m(series_in, svg_file_path, outname, color_maper, label, outfolder, new_title, verbose)\u001b[0m\n\u001b[0;32m     22\u001b[0m \u001b[1;33m\u001b[0m\u001b[0m\n\u001b[0;32m     23\u001b[0m     \u001b[1;31m#simplifies the index to lower case without space\u001b[0m\u001b[1;33m\u001b[0m\u001b[1;33m\u001b[0m\u001b[0m\n\u001b[1;32m---> 24\u001b[1;33m     \u001b[0mseries_in\u001b[0m\u001b[1;33m.\u001b[0m\u001b[0mindex\u001b[0m \u001b[1;33m=\u001b[0m \u001b[0mseries_in\u001b[0m\u001b[1;33m.\u001b[0m\u001b[0mindex\u001b[0m\u001b[1;33m.\u001b[0m\u001b[0mstr\u001b[0m\u001b[1;33m.\u001b[0m\u001b[0mlower\u001b[0m\u001b[1;33m(\u001b[0m\u001b[1;33m)\u001b[0m\u001b[1;33m.\u001b[0m\u001b[0mstr\u001b[0m\u001b[1;33m.\u001b[0m\u001b[0mreplace\u001b[0m\u001b[1;33m(\u001b[0m\u001b[1;34m\" \"\u001b[0m\u001b[1;33m,\u001b[0m\u001b[1;34m\"_\"\u001b[0m\u001b[1;33m)\u001b[0m\u001b[1;33m.\u001b[0m\u001b[0mreplace\u001b[0m\u001b[1;33m(\u001b[0m\u001b[1;34m\"-\"\u001b[0m\u001b[1;33m,\u001b[0m\u001b[1;34m\"_\"\u001b[0m\u001b[1;33m)\u001b[0m\u001b[1;33m\u001b[0m\u001b[0m\n\u001b[0m\u001b[0;32m     25\u001b[0m \u001b[1;33m\u001b[0m\u001b[0m\n\u001b[0;32m     26\u001b[0m     \u001b[1;31m#compute the colors\u001b[0m\u001b[1;33m\u001b[0m\u001b[1;33m\u001b[0m\u001b[0m\n",
      "\u001b[1;31mAttributeError\u001b[0m: 'Index' object has no attribute 'replace'"
     ]
    }
   ],
   "source": [
    "make_map_from_svg(\n",
    "        df_with_results.risk_to_assets, #data \n",
    "        svg_file_path,                  #path to blank map\n",
    "        outname=\"asset_risk\",           #base name for output  (will vreate img/map_of_asset_risk.png, img/legend_of_asset_risk.png, etc.)\n",
    "        color_maper=plt.cm.get_cmap(\"Reds\"), #color scheme (from matplotlib. Chose them from http://colorbrewer2.org/)\n",
    "        label=\"Annual asset losses (% of GDP)\",\n",
    "        new_title=\"Map of asset risk in the Philippines\"  #title for the colored SVG\n",
    ")"
   ]
  },
  {
   "cell_type": "markdown",
   "metadata": {},
   "source": [
    "#### Second block: socio-economic capacity "
   ]
  },
  {
   "cell_type": "code",
   "execution_count": null,
   "metadata": {
    "ExecuteTime": {
     "end_time": "2016-02-29T19:21:14.016030",
     "start_time": "2016-02-29T19:21:09.999029"
    },
    "code_folding": [],
    "collapsed": false
   },
   "outputs": [],
   "source": [
    "make_map_from_svg(\n",
    "        df_with_results.resilience, \n",
    "        svg_file_path,\n",
    "        outname=\"se_capacity\", \n",
    "        color_maper=plt.cm.get_cmap(\"Blues_r\"), \n",
    "        label=\"Socio-economic capacity (%)\",\n",
    "        new_title=\"Map of socio-economic capacity in the Philippines\")"
   ]
  },
  {
   "cell_type": "markdown",
   "metadata": {},
   "source": [
    "#### Total risk to welfare ($\\frac {\\text{asset risk}} {\\text{socio-economic capacity}}$)"
   ]
  },
  {
   "cell_type": "code",
   "execution_count": null,
   "metadata": {
    "ExecuteTime": {
     "end_time": "2016-02-29T19:21:17.459868",
     "start_time": "2016-02-29T19:21:14.031540"
    },
    "collapsed": false
   },
   "outputs": [],
   "source": [
    "make_map_from_svg(\n",
    "        df_with_results.risk, \n",
    "        svg_file_path,\n",
    "        outname=\"welfare_risk\", \n",
    "        color_maper=plt.cm.get_cmap(\"Purples\"), \n",
    "        label=\"Annual welfare losses (% of GDP)\",\n",
    "        new_title=\"Map of welfare risk in the Philippines\")"
   ]
  },
  {
   "cell_type": "code",
   "execution_count": null,
   "metadata": {
    "collapsed": true
   },
   "outputs": [],
   "source": []
  },
  {
   "cell_type": "code",
   "execution_count": null,
   "metadata": {
    "collapsed": true
   },
   "outputs": [],
   "source": []
  }
 ],
 "metadata": {
  "kernelspec": {
   "display_name": "Python 3",
   "language": "python",
   "name": "python3"
  },
  "language_info": {
   "codemirror_mode": {
    "name": "ipython",
    "version": 3
   },
   "file_extension": ".py",
   "mimetype": "text/x-python",
   "name": "python",
   "nbconvert_exporter": "python",
   "pygments_lexer": "ipython3",
   "version": "3.4.4"
  },
  "notify_time": "5"
 },
 "nbformat": 4,
 "nbformat_minor": 0
}
