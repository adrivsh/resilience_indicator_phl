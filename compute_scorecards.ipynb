{
 "cells": [
  {
   "cell_type": "code",
   "execution_count": 1,
   "metadata": {
    "collapsed": false
   },
   "outputs": [],
   "source": [
    "%reset-f\n",
    "%load_ext autoreload\n",
    "%autoreload 2\n",
    "%matplotlib inline\n",
    "\n",
    "import pandas as pd\n",
    "import numpy as np\n",
    "\n",
    "import warnings\n",
    "warnings.filterwarnings(\"always\",category=UserWarning)\n",
    "from res_ind_lib import *\n",
    "import os, time\n",
    "import itertools\n",
    "\n",
    "from progress_reporter import *"
   ]
  },
  {
   "cell_type": "code",
   "execution_count": 2,
   "metadata": {
    "collapsed": true
   },
   "outputs": [],
   "source": [
    "#Folder where outputs are stored\n",
    "out_folder = \"scorecards/\"\n",
    "os.makedirs(out_folder,exist_ok=True)"
   ]
  },
  {
   "cell_type": "code",
   "execution_count": 3,
   "metadata": {
    "collapsed": false
   },
   "outputs": [],
   "source": [
    "pd.set_option('mode.use_inf_as_null', True)"
   ]
  },
  {
   "cell_type": "markdown",
   "metadata": {},
   "source": [
    "# data"
   ]
  },
  {
   "cell_type": "code",
   "execution_count": 4,
   "metadata": {
    "collapsed": false
   },
   "outputs": [],
   "source": [
    "df_original=pd.read_csv(\"df_original.csv\",index_col=\"Province\")\n",
    "\n",
    "#appends \"countries\" from the sensitivity analysis\n",
    "df_original=df_original.append(pd.read_csv(\"df_sensit_input.csv\",index_col=\"Province\"))\n",
    "\n",
    "df_with_results=pd.read_csv(\"df.csv\",index_col=\"Province\")\n",
    "\n",
    "#Rankings \n",
    "ranks = df_with_results.dropna(how=\"all\",axis=1).dropna().rank(method=\"min\",ascending =False) \n",
    "ranks.to_csv(\"rankings.csv\")\n",
    "\n",
    "#appends sensitivity anlysis\n",
    "df_with_results=df_with_results.append(pd.read_csv(\"df_sensit_results.csv\").set_index(\"Province\"))"
   ]
  },
  {
   "cell_type": "code",
   "execution_count": 5,
   "metadata": {
    "collapsed": false
   },
   "outputs": [
    {
     "data": {
      "text/plain": [
       "<matplotlib.axes._subplots.AxesSubplot at 0x8f7b438>"
      ]
     },
     "execution_count": 5,
     "metadata": {},
     "output_type": "execute_result"
    },
    {
     "data": {
      "image/png": "[encoded data removed]",
      "text/plain": [
       "<matplotlib.figure.Figure at 0x46aba90>"
      ]
     },
     "metadata": {},
     "output_type": "display_data"
    }
   ],
   "source": [
    "df_original.shew.hist()"
   ]
  },
  {
   "cell_type": "code",
   "execution_count": 6,
   "metadata": {
    "collapsed": false
   },
   "outputs": [],
   "source": [
    "df_original[\"rel_gdp_pp\"] = df_original[\"gdp_pc_pp\"]/df_original[\"gdp_pc_pp_nat\"]\n",
    "df_original[\"scale_up_target\"] = .5\n",
    "df_original[\"pov_head_ref\"] = df_original[\"pov_head\"]"
   ]
  },
  {
   "cell_type": "code",
   "execution_count": 7,
   "metadata": {
    "collapsed": false
   },
   "outputs": [],
   "source": [
    "df_with_results.columns.values;\n"
   ]
  },
  {
   "cell_type": "markdown",
   "metadata": {},
   "source": [
    "# computes all derivatives"
   ]
  },
  {
   "cell_type": "code",
   "execution_count": 8,
   "metadata": {
    "collapsed": true
   },
   "outputs": [],
   "source": [
    "def compute_derivative(df_original,deriv_set,score_card_set):\n",
    "    der = pd.DataFrame(index=df_original.index, columns=pd.MultiIndex.from_product([deriv_set,score_card_set], names=['inputs', 'outputs']))\n",
    "    h=0.0001\n",
    "    #loop on all data in df prior to add the results\n",
    "    fx = compute_resiliences(df_original)[score_card_set]\n",
    "    for var in deriv_set:\n",
    "        progress_reporter(var)\n",
    "        try:\n",
    "            df_=df_original.copy(deep=True)\n",
    "            df_[var]=df_[var]+h\n",
    "            fxh= compute_resiliences(df_)[score_card_set]\n",
    "            der[var] = (fxh-fx)/(h)\n",
    "        except TypeError:\n",
    "            print(\"no derivative for \" +var)\n",
    "    return der.swaplevel('inputs', 'outputs', axis=1).sort_index(axis=1)"
   ]
  },
  {
   "cell_type": "code",
   "execution_count": 9,
   "metadata": {
    "collapsed": false
   },
   "outputs": [
    {
     "data": {
      "text/plain": [
       "array(['H', 'T_rebuild_K', 'T_rebuild_L', 'alpha', 'axfin_p', 'axfin_r',\n",
       "       'axhealth', 'fa', 'nat_buyout', 'pe', 'pi', 'plgp', 'pov_head',\n",
       "       'protection', 'pv', 'rel_gdp_pp', 'shew', 'sigma_p', 'sigma_r',\n",
       "       'social_p', 'social_r', 'unemp', 'v', 'v_s'], dtype=object)"
      ]
     },
     "execution_count": 9,
     "metadata": {},
     "output_type": "execute_result"
    }
   ],
   "source": [
    "deriv_set = np.setdiff1d( df_original.columns.values,\n",
    "    [\"pop\",\"iso3\",\"original_country\",\"gdp_pc_pp\",\"gdp_pc_pp_ref\",\"gdp_pc_pp_nat\",\"avg_prod_k_ref\",\n",
    "     \"income_elast\",\"faref\",\"avg_prod_k\", \"peref\",\"vref\",\"share1_ref\",\"share1\",\n",
    "     'pov_head_ref',\"bashs\",\"ophe\",\"fa_ref\",\"v_ref\",\"scale_up_target\",\"rating\",\"finance_pre\",\"borrow_abi\",\"prepare_scaleup\"]+[c for c in df_original.columns if c.startswith(\"fa_ratio\")])\n",
    "\n",
    "pd.DataFrame(data=deriv_set).to_csv(\"deriv_set.csv\",index=False,header=False)\n",
    "\n",
    "score_card_set = [\"resilience\", \"resilience_no_shock\", \"resilience_no_shock_no_uspcale\", \"resilience_no_shock_no_SP\",\"v_shew\",\"risk\"]\n",
    "                  #\"delta_W\",\"dWsurWprime\", \"equivalent_cost\", \"dW_destitution\", \"total_equivalent_cost_no_destitution\" ]\n",
    "\n",
    "#Checks that info has information for all variables in deriv_set\n",
    "info = pd.read_csv(\"inputs_info.csv\").set_index(\"key\")\n",
    "for d in deriv_set:\n",
    "    if d not in info.index.values:\n",
    "        raise Exception(d+\" is not documented in inputs_info.csv\")\n",
    "\n",
    "        \n",
    "deriv_set"
   ]
  },
  {
   "cell_type": "code",
   "execution_count": 10,
   "metadata": {
    "collapsed": false
   },
   "outputs": [
    {
     "name": "stdout",
     "output_type": "stream",
     "text": [
      "v_s\n"
     ]
    }
   ],
   "source": [
    "ders = compute_derivative(df_original,deriv_set,score_card_set)"
   ]
  },
  {
   "cell_type": "code",
   "execution_count": 11,
   "metadata": {
    "collapsed": false
   },
   "outputs": [],
   "source": [
    "derivatives=ders\n",
    "\"\"\"\n",
    "#computes all derivatives\n",
    "for outname in score_card_set:\n",
    "    derivatives[outname]=(derivatives[outname]/info[\"weight_der\"]).fillna() #weights derivatives by number of people affected [avoids creating new clumns with nans]\n",
    "\"\"\";"
   ]
  },
  {
   "cell_type": "code",
   "execution_count": null,
   "metadata": {
    "collapsed": true
   },
   "outputs": [],
   "source": []
  },
  {
   "cell_type": "markdown",
   "metadata": {},
   "source": [
    "# output"
   ]
  },
  {
   "cell_type": "code",
   "execution_count": 12,
   "metadata": {
    "collapsed": false
   },
   "outputs": [],
   "source": [
    "#computes derivative of risk wrt resilience\n",
    "der_risk = derivatives[\"risk\"].copy()\n",
    "der_risk[\"resilience\"]=(derivatives.risk/derivatives.resilience).mode(axis=1).mean(axis=1) #because of floating point operations, mode can return several close values\n",
    "\n",
    "\n",
    "der_vshew = derivatives[\"v_shew\"]\n",
    "der_risk[\"v_shew\"]=(der_risk.v/ (der_vshew.v)) \n",
    "\n",
    "derivatives[\"resilience\"].to_csv(\"deriv.csv\")\n",
    "der_risk.to_csv(\"deriv_risk.csv\")"
   ]
  },
  {
   "cell_type": "markdown",
   "metadata": {},
   "source": [
    "output signs in excel"
   ]
  },
  {
   "cell_type": "code",
   "execution_count": 13,
   "metadata": {
    "collapsed": false
   },
   "outputs": [],
   "source": [
    "#saves derivatives in excel tabs with signs in colors (very usefull for understanding the model)\n",
    "writer= pd.ExcelWriter(\"signs.xlsx\", engine='xlsxwriter')\n",
    "workbook=writer.book\n",
    "# Add a format. Light red fill with dark red text.\n",
    "red = workbook.add_format({'bg_color': '#FFC7CE',\n",
    "                               'font_color': '#9C0006'})\n",
    "\n",
    "blue = workbook.add_format({'bg_color': '#92c5de',\n",
    "                               'font_color': '#000061'})\n",
    "for outname in score_card_set:\n",
    "    sheetname = outname[0:30]\n",
    "    #for outname in [\"resilience\"]:\n",
    "    (derivatives[outname].dropna()).to_excel(writer,sheet_name=sheetname)\n",
    "    writer.sheets[sheetname].conditional_format('B2:BB600', {'type':'cell',\n",
    "                                    'criteria': '>',\n",
    "                                    'value':    0,\n",
    "                                    'format':   blue})\n",
    "    writer.sheets[sheetname].conditional_format('B2:BB600', {'type':'cell',\n",
    "                                    'criteria': '<',\n",
    "                                    'value':    0,\n",
    "                                    'format':   red})\n",
    "    writer.sheets[sheetname].freeze_panes(1, 1)\n"
   ]
  },
  {
   "cell_type": "code",
   "execution_count": 14,
   "metadata": {
    "collapsed": false
   },
   "outputs": [],
   "source": [
    "try :\n",
    "    writer.save()\n",
    "except PermissionError:\n",
    "    warnings.warn(\"Cannot write excel file. Check that it's not opened and try again\")\n"
   ]
  },
  {
   "cell_type": "code",
   "execution_count": 15,
   "metadata": {
    "collapsed": false
   },
   "outputs": [
    {
     "name": "stdout",
     "output_type": "stream",
     "text": [
      "ambigous sign for T_rebuild_K\n",
      "ambigous sign for pe\n",
      "ambigous sign for pov_head\n",
      "ambigous sign for protection\n"
     ]
    }
   ],
   "source": [
    "#Signs of resilience derivative \n",
    "der =     np.sign(derivatives[\"resilience\"]).replace(0,np.nan)\n",
    "signs= pd.Series(index=der.columns)\n",
    "for i in signs.index:\n",
    "    if (der[i].min()==der[i].max()): #all nonnan signs are equal\n",
    "        signs[i]=der[i].min()\n",
    "    else:\n",
    "        print(\"ambigous sign for \"+i)\n",
    "        signs[i]=np.nan\n",
    "\n"
   ]
  },
  {
   "cell_type": "markdown",
   "metadata": {},
   "source": [
    "# Write Excel scorecards"
   ]
  },
  {
   "cell_type": "code",
   "execution_count": 16,
   "metadata": {
    "collapsed": false
   },
   "outputs": [],
   "source": [
    "if True:\n",
    "    abs_derivative = signs*derivatives[\"resilience\"] #abs value\n",
    "    step_for_one = (0.01/abs_derivative).replace([-np.inf,np.inf],[np.nan,np.nan])\n",
    "\n",
    "\n",
    "    headr = list(itertools.product(derivatives.dropna().index.values,['level', \"ranking\",'der','for_one']))\n",
    "    scores=  pd.DataFrame(index=deriv_set, columns=pd.MultiIndex.from_tuples(headr))\n",
    "\n",
    "\n",
    "    for c in derivatives.dropna().index:\n",
    "        scores[(c,'level')]=df_original.ix[c]\n",
    "        scores[(c,'der')]=abs_derivative.ix[c]\n",
    "        scores[(c,'for_one')]=step_for_one.ix[c]\n",
    "        scores[(c,'ranking')]=ranks.ix[df_original.ix[c,\"original_country\"]]\n",
    "\n",
    "\n",
    "    for c in derivatives.dropna().index:\n",
    "    #for c in [\"France\"]:\n",
    "        with pd.ExcelWriter('scorecards/'+c.lower().replace(\" \",\"_\").replace(\"\\\\\",\"\")+'.xlsx', engine='xlsxwriter') as writer:\n",
    "            percent = writer.book.add_format()\n",
    "            percent.set_num_format(\"0.0%\")\n",
    "\n",
    "            outs = df_with_results.ix[df_with_results.index==c,score_card_set]\n",
    "            outs.transpose().to_excel(writer)\n",
    "            scores[c].reset_index().rename(columns={\"index\":\"input\"}).to_excel(writer,startrow =2+len(score_card_set),index=False)\n"
   ]
  },
  {
   "cell_type": "code",
   "execution_count": null,
   "metadata": {
    "collapsed": true
   },
   "outputs": [],
   "source": []
  }
 ],
 "metadata": {
  "kernelspec": {
   "display_name": "Python 3",
   "language": "python",
   "name": "python3"
  },
  "language_info": {
   "codemirror_mode": {
    "name": "ipython",
    "version": 3
   },
   "file_extension": ".py",
   "mimetype": "text/x-python",
   "name": "python",
   "nbconvert_exporter": "python",
   "pygments_lexer": "ipython3",
   "version": "3.4.3"
  }
 },
 "nbformat": 4,
 "nbformat_minor": 0
}
