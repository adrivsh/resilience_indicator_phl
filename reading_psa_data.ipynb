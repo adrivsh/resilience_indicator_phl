{
 "cells": [
  {
   "cell_type": "markdown",
   "metadata": {},
   "source": [
    "This notebook demonstrates how Python can be used to gather and adapt data from different sources."
   ]
  },
  {
   "cell_type": "markdown",
   "metadata": {},
   "source": [
    "# Loading socio-economic data"
   ]
  },
  {
   "cell_type": "markdown",
   "metadata": {},
   "source": [
    "#### Loading functions"
   ]
  },
  {
   "cell_type": "markdown",
   "metadata": {},
   "source": [
    "First we import the [pandas](http://pandas.pydata.org/) function librairy. Pandas is a standard python librairy that alows us to manipulate Excel-like tables (called DataFrames) with named rows and columns."
   ]
  },
  {
   "cell_type": "code",
   "execution_count": 70,
   "metadata": {
    "ExecuteTime": {
     "end_time": "2016-03-01T17:08:39.676232",
     "start_time": "2016-03-01T17:08:38.764811"
    },
    "collapsed": true
   },
   "outputs": [],
   "source": [
    "import pandas as pd"
   ]
  },
  {
   "cell_type": "code",
   "execution_count": 71,
   "metadata": {
    "collapsed": true
   },
   "outputs": [],
   "source": [
    "df=pd.DataFrame();"
   ]
  },
  {
   "cell_type": "markdown",
   "metadata": {},
   "source": [
    "#### Population and Poverty incidence"
   ]
  },
  {
   "cell_type": "code",
   "execution_count": 72,
   "metadata": {
    "collapsed": false
   },
   "outputs": [
    {
     "data": {
      "text/html": [
       "<div>\n",
       "<table border=\"1\" class=\"dataframe\">\n",
       "  <thead>\n",
       "    <tr style=\"text-align: right;\">\n",
       "      <th></th>\n",
       "      <th>Total</th>\n",
       "      <th>Poor</th>\n",
       "      <th>Non-Poor</th>\n",
       "    </tr>\n",
       "    <tr>\n",
       "      <th>province</th>\n",
       "      <th></th>\n",
       "      <th></th>\n",
       "      <th></th>\n",
       "    </tr>\n",
       "  </thead>\n",
       "  <tbody>\n",
       "    <tr>\n",
       "      <th>Manila</th>\n",
       "      <td>399003</td>\n",
       "      <td>14343</td>\n",
       "      <td>384660</td>\n",
       "    </tr>\n",
       "    <tr>\n",
       "      <th>NCR-2nd Dist.</th>\n",
       "      <td>1049727</td>\n",
       "      <td>19782</td>\n",
       "      <td>1029945</td>\n",
       "    </tr>\n",
       "    <tr>\n",
       "      <th>NCR-3rd Dist.</th>\n",
       "      <td>661591</td>\n",
       "      <td>18266</td>\n",
       "      <td>643325</td>\n",
       "    </tr>\n",
       "    <tr>\n",
       "      <th>NCR-4th Dist.</th>\n",
       "      <td>806828</td>\n",
       "      <td>24138</td>\n",
       "      <td>782690</td>\n",
       "    </tr>\n",
       "    <tr>\n",
       "      <th>Abra</th>\n",
       "      <td>51167</td>\n",
       "      <td>13914</td>\n",
       "      <td>37253</td>\n",
       "    </tr>\n",
       "  </tbody>\n",
       "</table>\n",
       "</div>"
      ],
      "text/plain": [
       "                 Total   Poor  Non-Poor\n",
       "province                               \n",
       "Manila          399003  14343    384660\n",
       "NCR-2nd Dist.  1049727  19782   1029945\n",
       "NCR-3rd Dist.   661591  18266    643325\n",
       "NCR-4th Dist.   806828  24138    782690\n",
       "Abra             51167  13914     37253"
      ]
     },
     "execution_count": 72,
     "metadata": {},
     "output_type": "execute_result"
    }
   ],
   "source": [
    "sheet_data = pd.read_excel(\"inputs/Socioeco Data.xlsx\", \n",
    "              sheetname=\"Poor and Non-poor\",\n",
    "             skiprows=[0, 1, 2, 4, 5,6], index_col=0)\n",
    "\n",
    "sheet_data.index.name=\"province\"\n",
    "sheet_data.head()"
   ]
  },
  {
   "cell_type": "code",
   "execution_count": 73,
   "metadata": {
    "collapsed": true
   },
   "outputs": [],
   "source": [
    "df[\"pop\"] = sheet_data[\"Total\"]\n",
    "df[\"pov_head\"] =  sheet_data[\"Poor\"]/sheet_data[\"Total\"]"
   ]
  },
  {
   "cell_type": "code",
   "execution_count": 74,
   "metadata": {
    "collapsed": false
   },
   "outputs": [
    {
     "data": {
      "text/html": [
       "<div>\n",
       "<table border=\"1\" class=\"dataframe\">\n",
       "  <thead>\n",
       "    <tr style=\"text-align: right;\">\n",
       "      <th></th>\n",
       "      <th>pop</th>\n",
       "      <th>pov_head</th>\n",
       "    </tr>\n",
       "    <tr>\n",
       "      <th>province</th>\n",
       "      <th></th>\n",
       "      <th></th>\n",
       "    </tr>\n",
       "  </thead>\n",
       "  <tbody>\n",
       "    <tr>\n",
       "      <th>Manila</th>\n",
       "      <td>399003</td>\n",
       "      <td>0.035947</td>\n",
       "    </tr>\n",
       "    <tr>\n",
       "      <th>NCR-2nd Dist.</th>\n",
       "      <td>1049727</td>\n",
       "      <td>0.018845</td>\n",
       "    </tr>\n",
       "    <tr>\n",
       "      <th>NCR-3rd Dist.</th>\n",
       "      <td>661591</td>\n",
       "      <td>0.027609</td>\n",
       "    </tr>\n",
       "    <tr>\n",
       "      <th>NCR-4th Dist.</th>\n",
       "      <td>806828</td>\n",
       "      <td>0.029917</td>\n",
       "    </tr>\n",
       "    <tr>\n",
       "      <th>Abra</th>\n",
       "      <td>51167</td>\n",
       "      <td>0.271933</td>\n",
       "    </tr>\n",
       "  </tbody>\n",
       "</table>\n",
       "</div>"
      ],
      "text/plain": [
       "                   pop  pov_head\n",
       "province                        \n",
       "Manila          399003  0.035947\n",
       "NCR-2nd Dist.  1049727  0.018845\n",
       "NCR-3rd Dist.   661591  0.027609\n",
       "NCR-4th Dist.   806828  0.029917\n",
       "Abra             51167  0.271933"
      ]
     },
     "execution_count": 74,
     "metadata": {},
     "output_type": "execute_result"
    }
   ],
   "source": [
    "df.head()"
   ]
  },
  {
   "cell_type": "markdown",
   "metadata": {},
   "source": [
    "#### Income"
   ]
  },
  {
   "cell_type": "code",
   "execution_count": 75,
   "metadata": {
    "collapsed": false
   },
   "outputs": [
    {
     "data": {
      "text/html": [
       "<div>\n",
       "<table border=\"1\" class=\"dataframe\">\n",
       "  <thead>\n",
       "    <tr style=\"text-align: right;\">\n",
       "      <th></th>\n",
       "      <th>Poor</th>\n",
       "      <th>Non-Poor</th>\n",
       "    </tr>\n",
       "    <tr>\n",
       "      <th>province</th>\n",
       "      <th></th>\n",
       "      <th></th>\n",
       "    </tr>\n",
       "  </thead>\n",
       "  <tbody>\n",
       "    <tr>\n",
       "      <th>Manila</th>\n",
       "      <td>136.915992</td>\n",
       "      <td>385.474680</td>\n",
       "    </tr>\n",
       "    <tr>\n",
       "      <th>NCR-2nd Dist.</th>\n",
       "      <td>100.630896</td>\n",
       "      <td>411.987638</td>\n",
       "    </tr>\n",
       "    <tr>\n",
       "      <th>NCR-3rd Dist.</th>\n",
       "      <td>104.824680</td>\n",
       "      <td>309.828532</td>\n",
       "    </tr>\n",
       "    <tr>\n",
       "      <th>NCR-4th Dist.</th>\n",
       "      <td>123.226458</td>\n",
       "      <td>415.750797</td>\n",
       "    </tr>\n",
       "    <tr>\n",
       "      <th>Abra</th>\n",
       "      <td>92.828972</td>\n",
       "      <td>203.891421</td>\n",
       "    </tr>\n",
       "  </tbody>\n",
       "</table>\n",
       "</div>"
      ],
      "text/plain": [
       "                     Poor    Non-Poor\n",
       "province                             \n",
       "Manila         136.915992  385.474680\n",
       "NCR-2nd Dist.  100.630896  411.987638\n",
       "NCR-3rd Dist.  104.824680  309.828532\n",
       "NCR-4th Dist.  123.226458  415.750797\n",
       "Abra            92.828972  203.891421"
      ]
     },
     "execution_count": 75,
     "metadata": {},
     "output_type": "execute_result"
    }
   ],
   "source": [
    "sheet_data = pd.read_excel(\"inputs/Socioeco Data.xlsx\", \n",
    "              sheetname=\"Income\",\n",
    "             skiprows=[0, 1, 2, 4, 5,6],\n",
    "                           parse_cols=\"J:L\",\n",
    "                           index_col=0)/1e3  #thousand pesos\n",
    "\n",
    "sheet_data.index.name=\"province\"\n",
    "sheet_data.head()"
   ]
  },
  {
   "cell_type": "code",
   "execution_count": 76,
   "metadata": {
    "collapsed": true
   },
   "outputs": [],
   "source": [
    "df[\"cp\"] = sheet_data[\"Poor\"]\n",
    "df[\"cr\"] =  sheet_data[\"Non-Poor\"]\n",
    "\n",
    "df[\"gdp_pc_pp\"] = df[\"pov_head\"]*df[\"cp\"]+(1-df[\"pov_head\"])*df[\"cr\"]"
   ]
  },
  {
   "cell_type": "code",
   "execution_count": 77,
   "metadata": {
    "collapsed": false
   },
   "outputs": [
    {
     "data": {
      "text/html": [
       "<div>\n",
       "<table border=\"1\" class=\"dataframe\">\n",
       "  <thead>\n",
       "    <tr style=\"text-align: right;\">\n",
       "      <th></th>\n",
       "      <th>pop</th>\n",
       "      <th>pov_head</th>\n",
       "      <th>cp</th>\n",
       "      <th>cr</th>\n",
       "      <th>gdp_pc_pp</th>\n",
       "    </tr>\n",
       "    <tr>\n",
       "      <th>province</th>\n",
       "      <th></th>\n",
       "      <th></th>\n",
       "      <th></th>\n",
       "      <th></th>\n",
       "      <th></th>\n",
       "    </tr>\n",
       "  </thead>\n",
       "  <tbody>\n",
       "    <tr>\n",
       "      <th>Manila</th>\n",
       "      <td>399003</td>\n",
       "      <td>0.035947</td>\n",
       "      <td>136.915992</td>\n",
       "      <td>385.474680</td>\n",
       "      <td>376.539716</td>\n",
       "    </tr>\n",
       "    <tr>\n",
       "      <th>NCR-2nd Dist.</th>\n",
       "      <td>1049727</td>\n",
       "      <td>0.018845</td>\n",
       "      <td>100.630896</td>\n",
       "      <td>411.987638</td>\n",
       "      <td>406.120151</td>\n",
       "    </tr>\n",
       "    <tr>\n",
       "      <th>NCR-3rd Dist.</th>\n",
       "      <td>661591</td>\n",
       "      <td>0.027609</td>\n",
       "      <td>104.824680</td>\n",
       "      <td>309.828532</td>\n",
       "      <td>304.168539</td>\n",
       "    </tr>\n",
       "    <tr>\n",
       "      <th>NCR-4th Dist.</th>\n",
       "      <td>806828</td>\n",
       "      <td>0.029917</td>\n",
       "      <td>123.226458</td>\n",
       "      <td>415.750797</td>\n",
       "      <td>406.999300</td>\n",
       "    </tr>\n",
       "    <tr>\n",
       "      <th>Abra</th>\n",
       "      <td>51167</td>\n",
       "      <td>0.271933</td>\n",
       "      <td>92.828972</td>\n",
       "      <td>203.891421</td>\n",
       "      <td>173.689867</td>\n",
       "    </tr>\n",
       "  </tbody>\n",
       "</table>\n",
       "</div>"
      ],
      "text/plain": [
       "                   pop  pov_head          cp          cr   gdp_pc_pp\n",
       "province                                                            \n",
       "Manila          399003  0.035947  136.915992  385.474680  376.539716\n",
       "NCR-2nd Dist.  1049727  0.018845  100.630896  411.987638  406.120151\n",
       "NCR-3rd Dist.   661591  0.027609  104.824680  309.828532  304.168539\n",
       "NCR-4th Dist.   806828  0.029917  123.226458  415.750797  406.999300\n",
       "Abra             51167  0.271933   92.828972  203.891421  173.689867"
      ]
     },
     "execution_count": 77,
     "metadata": {},
     "output_type": "execute_result"
    }
   ],
   "source": [
    "df.head()"
   ]
  },
  {
   "cell_type": "markdown",
   "metadata": {},
   "source": [
    "#### Income sources"
   ]
  },
  {
   "cell_type": "code",
   "execution_count": 78,
   "metadata": {
    "collapsed": false
   },
   "outputs": [
    {
     "data": {
      "text/html": [
       "<div>\n",
       "<table border=\"1\" class=\"dataframe\">\n",
       "  <thead>\n",
       "    <tr style=\"text-align: right;\">\n",
       "      <th></th>\n",
       "      <th>Poor</th>\n",
       "      <th>Non-Poor</th>\n",
       "    </tr>\n",
       "  </thead>\n",
       "  <tbody>\n",
       "    <tr>\n",
       "      <th>Manila</th>\n",
       "      <td>0.000000</td>\n",
       "      <td>0.019944</td>\n",
       "    </tr>\n",
       "    <tr>\n",
       "      <th>NCR-2nd Dist.</th>\n",
       "      <td>0.020819</td>\n",
       "      <td>0.028965</td>\n",
       "    </tr>\n",
       "    <tr>\n",
       "      <th>NCR-3rd Dist.</th>\n",
       "      <td>0.007416</td>\n",
       "      <td>0.025254</td>\n",
       "    </tr>\n",
       "    <tr>\n",
       "      <th>NCR-4th Dist.</th>\n",
       "      <td>0.007193</td>\n",
       "      <td>0.030592</td>\n",
       "    </tr>\n",
       "    <tr>\n",
       "      <th>Abra</th>\n",
       "      <td>0.014325</td>\n",
       "      <td>0.043828</td>\n",
       "    </tr>\n",
       "  </tbody>\n",
       "</table>\n",
       "</div>"
      ],
      "text/plain": [
       "                   Poor  Non-Poor\n",
       "Manila         0.000000  0.019944\n",
       "NCR-2nd Dist.  0.020819  0.028965\n",
       "NCR-3rd Dist.  0.007416  0.025254\n",
       "NCR-4th Dist.  0.007193  0.030592\n",
       "Abra           0.014325  0.043828"
      ]
     },
     "execution_count": 78,
     "metadata": {},
     "output_type": "execute_result"
    }
   ],
   "source": [
    "sheet_data = pd.read_excel(\"inputs/Socioeco Data.xlsx\", \n",
    "              sheetname=\"Private Transfer\",\n",
    "             skiprows=[0, 1, 2, 4, 5,6],\n",
    "                           parse_cols=\"R:T\",\n",
    "                           index_col=0)\n",
    "\n",
    "sheet_data.index.name=\"province\"\n",
    "sheet_data.head()\n",
    "\n",
    "\n",
    "sheet_data2 = pd.read_excel(\"inputs/Socioeco Data.xlsx\", \n",
    "              sheetname=\"Social Protection\",\n",
    "             skiprows=[0, 1, 2, 4, 5,6],\n",
    "                           parse_cols=\"N:P\",\n",
    "                           index_col=0)\n",
    "\n",
    "sheet_data2.head()"
   ]
  },
  {
   "cell_type": "code",
   "execution_count": 79,
   "metadata": {
    "collapsed": true
   },
   "outputs": [],
   "source": [
    "df[\"social_p\"] = sheet_data[\"Poor\"]+sheet_data2[\"Poor\"]\n",
    "df[\"social_r\"] =  sheet_data[\"Non-Poor\"]+sheet_data2[\"Non-Poor\"]"
   ]
  },
  {
   "cell_type": "code",
   "execution_count": 80,
   "metadata": {
    "collapsed": false
   },
   "outputs": [
    {
     "data": {
      "text/html": [
       "<div>\n",
       "<table border=\"1\" class=\"dataframe\">\n",
       "  <thead>\n",
       "    <tr style=\"text-align: right;\">\n",
       "      <th></th>\n",
       "      <th>pop</th>\n",
       "      <th>pov_head</th>\n",
       "      <th>cp</th>\n",
       "      <th>cr</th>\n",
       "      <th>gdp_pc_pp</th>\n",
       "      <th>social_p</th>\n",
       "      <th>social_r</th>\n",
       "    </tr>\n",
       "    <tr>\n",
       "      <th>province</th>\n",
       "      <th></th>\n",
       "      <th></th>\n",
       "      <th></th>\n",
       "      <th></th>\n",
       "      <th></th>\n",
       "      <th></th>\n",
       "      <th></th>\n",
       "    </tr>\n",
       "  </thead>\n",
       "  <tbody>\n",
       "    <tr>\n",
       "      <th>Manila</th>\n",
       "      <td>399003</td>\n",
       "      <td>0.035947</td>\n",
       "      <td>136.915992</td>\n",
       "      <td>385.474680</td>\n",
       "      <td>376.539716</td>\n",
       "      <td>0.127708</td>\n",
       "      <td>0.148081</td>\n",
       "    </tr>\n",
       "    <tr>\n",
       "      <th>NCR-2nd Dist.</th>\n",
       "      <td>1049727</td>\n",
       "      <td>0.018845</td>\n",
       "      <td>100.630896</td>\n",
       "      <td>411.987638</td>\n",
       "      <td>406.120151</td>\n",
       "      <td>0.123276</td>\n",
       "      <td>0.131516</td>\n",
       "    </tr>\n",
       "    <tr>\n",
       "      <th>NCR-3rd Dist.</th>\n",
       "      <td>661591</td>\n",
       "      <td>0.027609</td>\n",
       "      <td>104.824680</td>\n",
       "      <td>309.828532</td>\n",
       "      <td>304.168539</td>\n",
       "      <td>0.151504</td>\n",
       "      <td>0.162623</td>\n",
       "    </tr>\n",
       "    <tr>\n",
       "      <th>NCR-4th Dist.</th>\n",
       "      <td>806828</td>\n",
       "      <td>0.029917</td>\n",
       "      <td>123.226458</td>\n",
       "      <td>415.750797</td>\n",
       "      <td>406.999300</td>\n",
       "      <td>0.098154</td>\n",
       "      <td>0.152672</td>\n",
       "    </tr>\n",
       "    <tr>\n",
       "      <th>Abra</th>\n",
       "      <td>51167</td>\n",
       "      <td>0.271933</td>\n",
       "      <td>92.828972</td>\n",
       "      <td>203.891421</td>\n",
       "      <td>173.689867</td>\n",
       "      <td>0.173531</td>\n",
       "      <td>0.203457</td>\n",
       "    </tr>\n",
       "  </tbody>\n",
       "</table>\n",
       "</div>"
      ],
      "text/plain": [
       "                   pop  pov_head          cp          cr   gdp_pc_pp  \\\n",
       "province                                                               \n",
       "Manila          399003  0.035947  136.915992  385.474680  376.539716   \n",
       "NCR-2nd Dist.  1049727  0.018845  100.630896  411.987638  406.120151   \n",
       "NCR-3rd Dist.   661591  0.027609  104.824680  309.828532  304.168539   \n",
       "NCR-4th Dist.   806828  0.029917  123.226458  415.750797  406.999300   \n",
       "Abra             51167  0.271933   92.828972  203.891421  173.689867   \n",
       "\n",
       "               social_p  social_r  \n",
       "province                           \n",
       "Manila         0.127708  0.148081  \n",
       "NCR-2nd Dist.  0.123276  0.131516  \n",
       "NCR-3rd Dist.  0.151504  0.162623  \n",
       "NCR-4th Dist.  0.098154  0.152672  \n",
       "Abra           0.173531  0.203457  "
      ]
     },
     "execution_count": 80,
     "metadata": {},
     "output_type": "execute_result"
    }
   ],
   "source": [
    "df.head()"
   ]
  },
  {
   "cell_type": "markdown",
   "metadata": {},
   "source": [
    "### Asset vulnerability"
   ]
  },
  {
   "cell_type": "code",
   "execution_count": 81,
   "metadata": {
    "collapsed": false
   },
   "outputs": [],
   "source": [
    "### still working on it\n"
   ]
  },
  {
   "cell_type": "markdown",
   "metadata": {},
   "source": [
    "# Manually filling data gaps and informing parameters"
   ]
  },
  {
   "cell_type": "markdown",
   "metadata": {},
   "source": [
    "Some data is missing and has to be added manually"
   ]
  },
  {
   "cell_type": "code",
   "execution_count": 82,
   "metadata": {
    "ExecuteTime": {
     "end_time": "2016-03-01T17:08:40.645458",
     "start_time": "2016-03-01T17:08:40.635947"
    },
    "collapsed": true
   },
   "outputs": [],
   "source": [
    "#average productivity of capital\n",
    "df[\"avg_prod_k\"] = .23\n",
    "\n",
    "#Reconstruction time (an only be guessed ex-ante)\n",
    "df[\"T_rebuild_K\"] = 3\n",
    "\n",
    "# how much early warning reduces vulnerability (eg reactivity to early warnings)\n",
    "df[\"pi\"] = 0.2"
   ]
  },
  {
   "cell_type": "markdown",
   "metadata": {},
   "source": [
    "Some other inputs are normative or policy choices"
   ]
  },
  {
   "cell_type": "code",
   "execution_count": 83,
   "metadata": {
    "ExecuteTime": {
     "end_time": "2016-03-01T17:08:40.674983",
     "start_time": "2016-03-01T17:08:40.648460"
    },
    "collapsed": false
   },
   "outputs": [],
   "source": [
    "#assumption on cross-provincial risk sharing\n",
    "df[\"nat_buyout\"] = 0.3\n",
    "\n",
    "#scale up of transfers after a disaster hits\n",
    "df[\"sigma_r\"]=df[\"sigma_p\"]=0\n",
    "\n",
    "#income elasticity\n",
    "df[\"income_elast\"] = 1.5\n",
    "\n",
    "#discount rate\n",
    "df[\"rho\"]=15/100"
   ]
  },
  {
   "cell_type": "markdown",
   "metadata": {},
   "source": [
    "# Adds description to the variables names"
   ]
  },
  {
   "cell_type": "markdown",
   "metadata": {},
   "source": [
    "Here we add a human readable descritpion to all model variables, based on the descriptions gathered in [inputs/inputs_info.csv](inputs/inputs_info.csv)"
   ]
  },
  {
   "cell_type": "code",
   "execution_count": 90,
   "metadata": {
    "collapsed": false
   },
   "outputs": [
    {
     "data": {
      "text/plain": [
       "key\n",
       "avg_prod_k                              Productivity of capital\n",
       "dcap          Average consumption losses for poor people in ...\n",
       "dcar          Average consumption losses for nonpoor people ...\n",
       "delta_W       Average welfare losses in the event of a disaster\n",
       "dK            Average asset losses per person in the event o...\n",
       "Name: descriptor, dtype: object"
      ]
     },
     "execution_count": 90,
     "metadata": {},
     "output_type": "execute_result"
    }
   ],
   "source": [
    "description = pd.read_csv(\"inputs/inputs_info.csv\", index_col=\"key\")[\"descriptor\"]\n",
    "description.head()"
   ]
  },
  {
   "cell_type": "code",
   "execution_count": 91,
   "metadata": {
    "ExecuteTime": {
     "end_time": "2016-03-01T17:08:40.824096",
     "start_time": "2016-03-01T17:08:40.677986"
    },
    "collapsed": false
   },
   "outputs": [
    {
     "data": {
      "text/html": [
       "<div>\n",
       "<table border=\"1\" class=\"dataframe\">\n",
       "  <thead>\n",
       "    <tr style=\"text-align: right;\">\n",
       "      <th></th>\n",
       "      <th>province</th>\n",
       "      <th>Manila</th>\n",
       "      <th>NCR-2nd Dist.</th>\n",
       "      <th>NCR-3rd Dist.</th>\n",
       "      <th>NCR-4th Dist.</th>\n",
       "      <th>Abra</th>\n",
       "    </tr>\n",
       "    <tr>\n",
       "      <th>description</th>\n",
       "      <th>variable</th>\n",
       "      <th></th>\n",
       "      <th></th>\n",
       "      <th></th>\n",
       "      <th></th>\n",
       "      <th></th>\n",
       "    </tr>\n",
       "  </thead>\n",
       "  <tbody>\n",
       "    <tr>\n",
       "      <th>Population</th>\n",
       "      <th>pop</th>\n",
       "      <td>399003</td>\n",
       "      <td>1049727</td>\n",
       "      <td>661591</td>\n",
       "      <td>806828</td>\n",
       "      <td>51167</td>\n",
       "    </tr>\n",
       "    <tr>\n",
       "      <th>Poverty incidence</th>\n",
       "      <th>pov_head</th>\n",
       "      <td>0.0359471</td>\n",
       "      <td>0.0188449</td>\n",
       "      <td>0.0276092</td>\n",
       "      <td>0.0299172</td>\n",
       "      <td>0.271933</td>\n",
       "    </tr>\n",
       "    <tr>\n",
       "      <th>Average income of poor families</th>\n",
       "      <th>cp</th>\n",
       "      <td>136.916</td>\n",
       "      <td>100.631</td>\n",
       "      <td>104.825</td>\n",
       "      <td>123.226</td>\n",
       "      <td>92.829</td>\n",
       "    </tr>\n",
       "    <tr>\n",
       "      <th>Average income of non poor families</th>\n",
       "      <th>cr</th>\n",
       "      <td>385.475</td>\n",
       "      <td>411.988</td>\n",
       "      <td>309.829</td>\n",
       "      <td>415.751</td>\n",
       "      <td>203.891</td>\n",
       "    </tr>\n",
       "    <tr>\n",
       "      <th>Average income in the province</th>\n",
       "      <th>gdp_pc_pp</th>\n",
       "      <td>376.54</td>\n",
       "      <td>406.12</td>\n",
       "      <td>304.169</td>\n",
       "      <td>406.999</td>\n",
       "      <td>173.69</td>\n",
       "    </tr>\n",
       "    <tr>\n",
       "      <th>Social protection for poor people</th>\n",
       "      <th>social_p</th>\n",
       "      <td>0.127708</td>\n",
       "      <td>0.123276</td>\n",
       "      <td>0.151504</td>\n",
       "      <td>0.0981544</td>\n",
       "      <td>0.173531</td>\n",
       "    </tr>\n",
       "    <tr>\n",
       "      <th>Social protection for non-poor people</th>\n",
       "      <th>social_r</th>\n",
       "      <td>0.148081</td>\n",
       "      <td>0.131516</td>\n",
       "      <td>0.162623</td>\n",
       "      <td>0.152672</td>\n",
       "      <td>0.203457</td>\n",
       "    </tr>\n",
       "    <tr>\n",
       "      <th>Productivity of capital</th>\n",
       "      <th>avg_prod_k</th>\n",
       "      <td>0.23</td>\n",
       "      <td>0.23</td>\n",
       "      <td>0.23</td>\n",
       "      <td>0.23</td>\n",
       "      <td>0.23</td>\n",
       "    </tr>\n",
       "    <tr>\n",
       "      <th>Time to reconstruct</th>\n",
       "      <th>T_rebuild_K</th>\n",
       "      <td>3</td>\n",
       "      <td>3</td>\n",
       "      <td>3</td>\n",
       "      <td>3</td>\n",
       "      <td>3</td>\n",
       "    </tr>\n",
       "    <tr>\n",
       "      <th>Avoided losses with early warning</th>\n",
       "      <th>pi</th>\n",
       "      <td>0.2</td>\n",
       "      <td>0.2</td>\n",
       "      <td>0.2</td>\n",
       "      <td>0.2</td>\n",
       "      <td>0.2</td>\n",
       "    </tr>\n",
       "    <tr>\n",
       "      <th>NaN</th>\n",
       "      <th>nat_buyout</th>\n",
       "      <td>0.3</td>\n",
       "      <td>0.3</td>\n",
       "      <td>0.3</td>\n",
       "      <td>0.3</td>\n",
       "      <td>0.3</td>\n",
       "    </tr>\n",
       "    <tr>\n",
       "      <th>Effective scale up for non-poor people</th>\n",
       "      <th>sigma_r</th>\n",
       "      <td>0</td>\n",
       "      <td>0</td>\n",
       "      <td>0</td>\n",
       "      <td>0</td>\n",
       "      <td>0</td>\n",
       "    </tr>\n",
       "    <tr>\n",
       "      <th>Effective scale up for poor people</th>\n",
       "      <th>sigma_p</th>\n",
       "      <td>0</td>\n",
       "      <td>0</td>\n",
       "      <td>0</td>\n",
       "      <td>0</td>\n",
       "      <td>0</td>\n",
       "    </tr>\n",
       "    <tr>\n",
       "      <th>Elasticity of utility</th>\n",
       "      <th>income_elast</th>\n",
       "      <td>1.5</td>\n",
       "      <td>1.5</td>\n",
       "      <td>1.5</td>\n",
       "      <td>1.5</td>\n",
       "      <td>1.5</td>\n",
       "    </tr>\n",
       "    <tr>\n",
       "      <th>Discount rate</th>\n",
       "      <th>rho</th>\n",
       "      <td>0.05</td>\n",
       "      <td>0.05</td>\n",
       "      <td>0.05</td>\n",
       "      <td>0.05</td>\n",
       "      <td>0.05</td>\n",
       "    </tr>\n",
       "  </tbody>\n",
       "</table>\n",
       "</div>"
      ],
      "text/plain": [
       "province                                                Manila NCR-2nd Dist.  \\\n",
       "description                            variable                                \n",
       "Population                             pop              399003       1049727   \n",
       "Poverty incidence                      pov_head      0.0359471     0.0188449   \n",
       " Average income of poor families       cp              136.916       100.631   \n",
       " Average income of non poor families   cr              385.475       411.988   \n",
       " Average income in the province        gdp_pc_pp        376.54        406.12   \n",
       "Social protection for poor people      social_p       0.127708      0.123276   \n",
       "Social protection for non-poor people  social_r       0.148081      0.131516   \n",
       "Productivity of capital                avg_prod_k         0.23          0.23   \n",
       "Time to reconstruct                    T_rebuild_K           3             3   \n",
       "Avoided losses with early warning      pi                  0.2           0.2   \n",
       "NaN                                    nat_buyout          0.3           0.3   \n",
       "Effective scale up for non-poor people sigma_r               0             0   \n",
       "Effective scale up for poor people     sigma_p               0             0   \n",
       "Elasticity of utility                  income_elast        1.5           1.5   \n",
       "Discount rate                          rho                0.05          0.05   \n",
       "\n",
       "province                                            NCR-3rd Dist.  \\\n",
       "description                            variable                     \n",
       "Population                             pop                 661591   \n",
       "Poverty incidence                      pov_head         0.0276092   \n",
       " Average income of poor families       cp                 104.825   \n",
       " Average income of non poor families   cr                 309.829   \n",
       " Average income in the province        gdp_pc_pp          304.169   \n",
       "Social protection for poor people      social_p          0.151504   \n",
       "Social protection for non-poor people  social_r          0.162623   \n",
       "Productivity of capital                avg_prod_k            0.23   \n",
       "Time to reconstruct                    T_rebuild_K              3   \n",
       "Avoided losses with early warning      pi                     0.2   \n",
       "NaN                                    nat_buyout             0.3   \n",
       "Effective scale up for non-poor people sigma_r                  0   \n",
       "Effective scale up for poor people     sigma_p                  0   \n",
       "Elasticity of utility                  income_elast           1.5   \n",
       "Discount rate                          rho                   0.05   \n",
       "\n",
       "province                                            NCR-4th Dist.      Abra  \n",
       "description                            variable                              \n",
       "Population                             pop                 806828     51167  \n",
       "Poverty incidence                      pov_head         0.0299172  0.271933  \n",
       " Average income of poor families       cp                 123.226    92.829  \n",
       " Average income of non poor families   cr                 415.751   203.891  \n",
       " Average income in the province        gdp_pc_pp          406.999    173.69  \n",
       "Social protection for poor people      social_p         0.0981544  0.173531  \n",
       "Social protection for non-poor people  social_r          0.152672  0.203457  \n",
       "Productivity of capital                avg_prod_k            0.23      0.23  \n",
       "Time to reconstruct                    T_rebuild_K              3         3  \n",
       "Avoided losses with early warning      pi                     0.2       0.2  \n",
       "NaN                                    nat_buyout             0.3       0.3  \n",
       "Effective scale up for non-poor people sigma_r                  0         0  \n",
       "Effective scale up for poor people     sigma_p                  0         0  \n",
       "Elasticity of utility                  income_elast           1.5       1.5  \n",
       "Discount rate                          rho                   0.05      0.05  "
      ]
     },
     "execution_count": 91,
     "metadata": {},
     "output_type": "execute_result"
    }
   ],
   "source": [
    "df.ix[\"description\"]= description\n",
    "data=df.T.reset_index().set_index([\"description\",\"index\"]).T\n",
    "data.columns.names = ['description', 'variable']\n",
    "data.head().T #displays the first few provinces, transposed for ease of reading."
   ]
  },
  {
   "cell_type": "markdown",
   "metadata": {},
   "source": [
    "# Saves the data"
   ]
  },
  {
   "cell_type": "code",
   "execution_count": 86,
   "metadata": {
    "ExecuteTime": {
     "end_time": "2016-03-01T17:08:41.323464",
     "start_time": "2016-03-01T17:08:40.828098"
    },
    "collapsed": false
   },
   "outputs": [],
   "source": [
    "#saves the data\n",
    "data.to_excel(\"inputs/all_data_compiled.xlsx\")"
   ]
  },
  {
   "cell_type": "markdown",
   "metadata": {},
   "source": [
    "**That's it, we have built an excel file with all our data!**\n",
    "To see how to use this data with the resilience model, go to [socio_economic_capacity_demo.ipynb](socio_economic_capacity_demo.ipynb)\n",
    "\n",
    "\n",
    "\n",
    " "
   ]
  },
  {
   "cell_type": "markdown",
   "metadata": {},
   "source": [
    "# Report missing data by province"
   ]
  },
  {
   "cell_type": "markdown",
   "metadata": {},
   "source": [
    "This code builds a table reporting missing data points for each province"
   ]
  },
  {
   "cell_type": "code",
   "execution_count": 88,
   "metadata": {
    "ExecuteTime": {
     "end_time": "2016-03-01T17:08:41.324464",
     "start_time": "2016-03-01T22:08:38.906Z"
    },
    "collapsed": false
   },
   "outputs": [
    {
     "data": {
      "text/html": [
       "<div>\n",
       "<table border=\"1\" class=\"dataframe\">\n",
       "  <thead>\n",
       "    <tr style=\"text-align: right;\">\n",
       "      <th></th>\n",
       "      <th>nb_missing</th>\n",
       "      <th>missing_data</th>\n",
       "    </tr>\n",
       "    <tr>\n",
       "      <th>province</th>\n",
       "      <th></th>\n",
       "      <th></th>\n",
       "    </tr>\n",
       "  </thead>\n",
       "  <tbody>\n",
       "    <tr>\n",
       "      <th>description</th>\n",
       "      <td>3</td>\n",
       "      <td>cp, cr, nat_buyout</td>\n",
       "    </tr>\n",
       "  </tbody>\n",
       "</table>\n",
       "</div>"
      ],
      "text/plain": [
       "             nb_missing        missing_data\n",
       "province                                   \n",
       "description           3  cp, cr, nat_buyout"
      ]
     },
     "execution_count": 88,
     "metadata": {},
     "output_type": "execute_result"
    }
   ],
   "source": [
    "def write_missing_data(s):\n",
    "    which = s[s.isnull()].index.values\n",
    "    return \", \".join(which)\n",
    "\n",
    "def count_missing_data(s):\n",
    "    return s.isnull().sum()\n",
    "\n",
    "report = pd.DataFrame()\n",
    "\n",
    "report[\"nb_missing\"]=df.apply(count_missing_data,axis=1)  \n",
    "report[\"missing_data\"]=df.apply(write_missing_data,axis=1)\n",
    "\n",
    "report  = report.ix[report[\"nb_missing\"]>0,:]\n",
    "report.sort_values(by=\"nb_missing\",inplace=True)\n",
    "report.to_csv(\"inputs/missing_data_report.csv\")\n",
    "\n",
    "report"
   ]
  },
  {
   "cell_type": "markdown",
   "metadata": {},
   "source": [
    "We see that for a few provinces, we have no data on protection. Let us inspect the data on protection."
   ]
  },
  {
   "cell_type": "code",
   "execution_count": null,
   "metadata": {
    "ExecuteTime": {
     "end_time": "2016-03-01T17:08:41.325468",
     "start_time": "2016-03-01T22:08:38.910Z"
    },
    "collapsed": false
   },
   "outputs": [],
   "source": [
    "protection.ix[report.index]"
   ]
  },
  {
   "cell_type": "markdown",
   "metadata": {
    "ExecuteTime": {
     "end_time": "2016-03-01T15:55:15.357382",
     "start_time": "2016-03-01T15:55:15.351381"
    }
   },
   "source": [
    "In our data on protection, these provinces have a missing value (nan). This probelm should be investigated going back to the source used for protection (here, FLOPROS as a placeholder, but that could be relaced by a domestic source, for instance DOST)\n"
   ]
  },
  {
   "cell_type": "code",
   "execution_count": null,
   "metadata": {
    "collapsed": true
   },
   "outputs": [],
   "source": []
  },
  {
   "cell_type": "code",
   "execution_count": null,
   "metadata": {
    "collapsed": true
   },
   "outputs": [],
   "source": []
  }
 ],
 "metadata": {
  "kernelspec": {
   "display_name": "Python 3",
   "language": "python",
   "name": "python3"
  },
  "language_info": {
   "codemirror_mode": {
    "name": "ipython",
    "version": 3
   },
   "file_extension": ".py",
   "mimetype": "text/x-python",
   "name": "python",
   "nbconvert_exporter": "python",
   "pygments_lexer": "ipython3",
   "version": "3.4.4"
  }
 },
 "nbformat": 4,
 "nbformat_minor": 0
}
