{
 "cells": [
  {
   "cell_type": "markdown",
   "metadata": {},
   "source": [
    "This notebook demonstrates how to perfomr systematic the policy assessment and render the policy cards. "
   ]
  },
  {
   "cell_type": "code",
   "execution_count": 69,
   "metadata": {
    "collapsed": false
   },
   "outputs": [
    {
     "name": "stdout",
     "output_type": "stream",
     "text": [
      "The autoreload extension is already loaded. To reload it, use:\n",
      "  %reload_ext autoreload\n"
     ]
    }
   ],
   "source": [
    "%load_ext autoreload\n",
    "%autoreload 2\n",
    "\n",
    "import pandas as pd\n",
    "\n",
    "from res_ind_lib import *\n",
    "\n",
    "#Imports the function to plot render the policy experiments\n",
    "from policy_assessment import *\n",
    "\n",
    "#ask jupyter to display the plots within this notebook\n",
    "%matplotlib inline"
   ]
  },
  {
   "cell_type": "markdown",
   "metadata": {},
   "source": [
    "# Data"
   ]
  },
  {
   "cell_type": "markdown",
   "metadata": {},
   "source": [
    "## baseline data"
   ]
  },
  {
   "cell_type": "code",
   "execution_count": 70,
   "metadata": {
    "collapsed": false
   },
   "outputs": [],
   "source": [
    "#Load the excel data file into a dataframe (table)\n",
    "df_original=pd.read_excel(\"inputs/all_data_compiled.xlsx\", \n",
    "                 index_col=0, #tells Pandas to use the first column (Provinces) as the index of the table\n",
    "                 skiprows=[0, 2] #The first (0) row is a description of the variables and the 3rd (2) row is empty. We skip them\n",
    "                ).dropna() \n",
    "df_original.index.name=\"province\"\n",
    "#Displays the first rows of that dataframe\n",
    "df_original=def_ref_values(df_original)\n"
   ]
  },
  {
   "cell_type": "markdown",
   "metadata": {},
   "source": [
    "## policy experiment data"
   ]
  },
  {
   "cell_type": "code",
   "execution_count": 71,
   "metadata": {
    "collapsed": false
   },
   "outputs": [],
   "source": [
    "##POLICY DESCRIPTION\n",
    "policy_info= pd.read_csv(\"inputs/policy_description.csv\",index_col=0)\n",
    "\n",
    "#Policy Labels (y axis)\n",
    "policy_labels = policy_info.descriptor.copy() #we make a copy so we can modify it later\n",
    "policy_labels.head()\n",
    "\n",
    "#size of the policy\n",
    "pol_increment = policy_info.increment    "
   ]
  },
  {
   "cell_type": "markdown",
   "metadata": {},
   "source": [
    "# Parameters"
   ]
  },
  {
   "cell_type": "code",
   "execution_count": 72,
   "metadata": {
    "collapsed": false
   },
   "outputs": [
    {
     "data": {
      "text/html": [
       "<div>\n",
       "<table border=\"1\" class=\"dataframe\">\n",
       "  <thead>\n",
       "    <tr style=\"text-align: right;\">\n",
       "      <th></th>\n",
       "      <th>color</th>\n",
       "      <th>edgecolor</th>\n",
       "      <th>alpha</th>\n",
       "    </tr>\n",
       "  </thead>\n",
       "  <tbody>\n",
       "    <tr>\n",
       "      <th>dWtot_currency</th>\n",
       "      <td>#a6cee3</td>\n",
       "      <td>#1f78b4</td>\n",
       "      <td>1</td>\n",
       "    </tr>\n",
       "    <tr>\n",
       "      <th>dKtot</th>\n",
       "      <td>#cccccc</td>\n",
       "      <td>#969696</td>\n",
       "      <td>1</td>\n",
       "    </tr>\n",
       "  </tbody>\n",
       "</table>\n",
       "</div>"
      ],
      "text/plain": [
       "                  color edgecolor  alpha\n",
       "dWtot_currency  #a6cee3   #1f78b4      1\n",
       "dKtot           #cccccc   #969696      1"
      ]
     },
     "execution_count": 72,
     "metadata": {},
     "output_type": "execute_result"
    }
   ],
   "source": [
    "colors = pd.read_csv(\"inputs/colors_pol_assess.csv\", index_col=0)\n",
    "colors"
   ]
  },
  {
   "cell_type": "code",
   "execution_count": 73,
   "metadata": {
    "collapsed": false
   },
   "outputs": [],
   "source": [
    "#unit for welfare and asset loses changes\n",
    "unit = dict(multiplier = 1e-3, string = \"million pesos per year\"       )"
   ]
  },
  {
   "cell_type": "code",
   "execution_count": 74,
   "metadata": {
    "collapsed": true
   },
   "outputs": [],
   "source": [
    "pol_assess_set = colors.index"
   ]
  },
  {
   "cell_type": "markdown",
   "metadata": {},
   "source": [
    "# Checking for out of bound problems"
   ]
  },
  {
   "cell_type": "code",
   "execution_count": 75,
   "metadata": {
    "collapsed": false
   },
   "outputs": [
    {
     "data": {
      "text/html": [
       "<div>\n",
       "<table border=\"1\" class=\"dataframe\">\n",
       "  <thead>\n",
       "    <tr style=\"text-align: right;\">\n",
       "      <th></th>\n",
       "      <th>descriptor</th>\n",
       "      <th>inf</th>\n",
       "      <th>sup</th>\n",
       "    </tr>\n",
       "    <tr>\n",
       "      <th>key</th>\n",
       "      <th></th>\n",
       "      <th></th>\n",
       "      <th></th>\n",
       "    </tr>\n",
       "  </thead>\n",
       "  <tbody>\n",
       "    <tr>\n",
       "      <th>avg_prod_k</th>\n",
       "      <td>Productivity of capital</td>\n",
       "      <td>0</td>\n",
       "      <td>10</td>\n",
       "    </tr>\n",
       "    <tr>\n",
       "      <th>dcap</th>\n",
       "      <td>Average consumption losses for poor people in ...</td>\n",
       "      <td>0</td>\n",
       "      <td>NaN</td>\n",
       "    </tr>\n",
       "    <tr>\n",
       "      <th>dcar</th>\n",
       "      <td>Average consumption losses for nonpoor people ...</td>\n",
       "      <td>0</td>\n",
       "      <td>NaN</td>\n",
       "    </tr>\n",
       "  </tbody>\n",
       "</table>\n",
       "</div>"
      ],
      "text/plain": [
       "                                                   descriptor  inf  sup\n",
       "key                                                                    \n",
       "avg_prod_k                            Productivity of capital    0   10\n",
       "dcap        Average consumption losses for poor people in ...    0  NaN\n",
       "dcar        Average consumption losses for nonpoor people ...    0  NaN"
      ]
     },
     "execution_count": 75,
     "metadata": {},
     "output_type": "execute_result"
    }
   ],
   "source": [
    "bounds= pd.read_csv(\"inputs/inputs_info.csv\", index_col=\"key\")\n",
    "bounds.head(3)   "
   ]
  },
  {
   "cell_type": "code",
   "execution_count": 76,
   "metadata": {
    "collapsed": false
   },
   "outputs": [],
   "source": [
    "clipped = check_bounds(df_original+pol_increment, bounds)"
   ]
  },
  {
   "cell_type": "markdown",
   "metadata": {},
   "source": [
    "# Computing"
   ]
  },
  {
   "cell_type": "code",
   "execution_count": 77,
   "metadata": {
    "collapsed": false
   },
   "outputs": [
    {
     "name": "stdout",
     "output_type": "stream",
     "text": [
      "Currently working on:  done.\n"
     ]
    },
    {
     "data": {
      "text/html": [
       "<div>\n",
       "<table border=\"1\" class=\"dataframe\">\n",
       "  <thead>\n",
       "    <tr>\n",
       "      <th>province</th>\n",
       "      <th colspan=\"2\" halign=\"left\">Abra</th>\n",
       "      <th colspan=\"2\" halign=\"left\">Agusan del Norte</th>\n",
       "      <th colspan=\"2\" halign=\"left\">Agusan del Sur</th>\n",
       "      <th colspan=\"2\" halign=\"left\">Aklan</th>\n",
       "      <th colspan=\"2\" halign=\"left\">Albay</th>\n",
       "      <th>...</th>\n",
       "      <th colspan=\"2\" halign=\"left\">Tawi-tawi</th>\n",
       "      <th colspan=\"2\" halign=\"left\">Zambales</th>\n",
       "      <th colspan=\"2\" halign=\"left\">Zamboanga Sibugay</th>\n",
       "      <th colspan=\"2\" halign=\"left\">Zamboanga del Norte</th>\n",
       "      <th colspan=\"2\" halign=\"left\">Zamboanga del Sur</th>\n",
       "    </tr>\n",
       "    <tr>\n",
       "      <th>outputs</th>\n",
       "      <th>dKtot</th>\n",
       "      <th>dWtot_currency</th>\n",
       "      <th>dKtot</th>\n",
       "      <th>dWtot_currency</th>\n",
       "      <th>dKtot</th>\n",
       "      <th>dWtot_currency</th>\n",
       "      <th>dKtot</th>\n",
       "      <th>dWtot_currency</th>\n",
       "      <th>dKtot</th>\n",
       "      <th>dWtot_currency</th>\n",
       "      <th>...</th>\n",
       "      <th>dKtot</th>\n",
       "      <th>dWtot_currency</th>\n",
       "      <th>dKtot</th>\n",
       "      <th>dWtot_currency</th>\n",
       "      <th>dKtot</th>\n",
       "      <th>dWtot_currency</th>\n",
       "      <th>dKtot</th>\n",
       "      <th>dWtot_currency</th>\n",
       "      <th>dKtot</th>\n",
       "      <th>dWtot_currency</th>\n",
       "    </tr>\n",
       "    <tr>\n",
       "      <th>inputs</th>\n",
       "      <th></th>\n",
       "      <th></th>\n",
       "      <th></th>\n",
       "      <th></th>\n",
       "      <th></th>\n",
       "      <th></th>\n",
       "      <th></th>\n",
       "      <th></th>\n",
       "      <th></th>\n",
       "      <th></th>\n",
       "      <th></th>\n",
       "      <th></th>\n",
       "      <th></th>\n",
       "      <th></th>\n",
       "      <th></th>\n",
       "      <th></th>\n",
       "      <th></th>\n",
       "      <th></th>\n",
       "      <th></th>\n",
       "      <th></th>\n",
       "      <th></th>\n",
       "    </tr>\n",
       "  </thead>\n",
       "  <tbody>\n",
       "    <tr>\n",
       "      <th>T_rebuild_K</th>\n",
       "      <td>0.000000</td>\n",
       "      <td>109.260358</td>\n",
       "      <td>0.000000</td>\n",
       "      <td>2429.256339</td>\n",
       "      <td>0.000000</td>\n",
       "      <td>3246.123822</td>\n",
       "      <td>0.000000</td>\n",
       "      <td>93806.452212</td>\n",
       "      <td>0.000000</td>\n",
       "      <td>15330.277927</td>\n",
       "      <td>...</td>\n",
       "      <td>0.000000</td>\n",
       "      <td>1077.966623</td>\n",
       "      <td>0.000000</td>\n",
       "      <td>8775.719011</td>\n",
       "      <td>0.000000</td>\n",
       "      <td>9301.626681</td>\n",
       "      <td>0.000000</td>\n",
       "      <td>59702.109447</td>\n",
       "      <td>0.000000</td>\n",
       "      <td>5814.488391</td>\n",
       "    </tr>\n",
       "    <tr>\n",
       "      <th>cp</th>\n",
       "      <td>0.050349</td>\n",
       "      <td>-0.115264</td>\n",
       "      <td>1.313773</td>\n",
       "      <td>-3.654982</td>\n",
       "      <td>2.048066</td>\n",
       "      <td>-5.669856</td>\n",
       "      <td>36.861058</td>\n",
       "      <td>-109.922946</td>\n",
       "      <td>9.676592</td>\n",
       "      <td>-29.437917</td>\n",
       "      <td>...</td>\n",
       "      <td>0.404334</td>\n",
       "      <td>-0.706729</td>\n",
       "      <td>2.701583</td>\n",
       "      <td>-5.933268</td>\n",
       "      <td>5.750896</td>\n",
       "      <td>-18.163903</td>\n",
       "      <td>40.182721</td>\n",
       "      <td>-177.244321</td>\n",
       "      <td>2.883688</td>\n",
       "      <td>-8.513795</td>\n",
       "    </tr>\n",
       "    <tr>\n",
       "      <th>cr</th>\n",
       "      <td>0.122894</td>\n",
       "      <td>-0.086776</td>\n",
       "      <td>2.386512</td>\n",
       "      <td>-1.369782</td>\n",
       "      <td>2.395623</td>\n",
       "      <td>-1.594364</td>\n",
       "      <td>102.842465</td>\n",
       "      <td>-70.321943</td>\n",
       "      <td>11.982329</td>\n",
       "      <td>-7.409850</td>\n",
       "      <td>...</td>\n",
       "      <td>1.314940</td>\n",
       "      <td>-1.047554</td>\n",
       "      <td>11.948419</td>\n",
       "      <td>-8.511142</td>\n",
       "      <td>5.890390</td>\n",
       "      <td>-4.496491</td>\n",
       "      <td>27.798482</td>\n",
       "      <td>-21.476177</td>\n",
       "      <td>5.382810</td>\n",
       "      <td>-3.658794</td>\n",
       "    </tr>\n",
       "    <tr>\n",
       "      <th>fap</th>\n",
       "      <td>934.765826</td>\n",
       "      <td>4282.111344</td>\n",
       "      <td>3090.609924</td>\n",
       "      <td>17219.581622</td>\n",
       "      <td>4873.923349</td>\n",
       "      <td>27019.523749</td>\n",
       "      <td>22902.974842</td>\n",
       "      <td>137442.952301</td>\n",
       "      <td>69321.589568</td>\n",
       "      <td>422158.326676</td>\n",
       "      <td>...</td>\n",
       "      <td>1297.220325</td>\n",
       "      <td>4535.696130</td>\n",
       "      <td>19380.762748</td>\n",
       "      <td>85190.023880</td>\n",
       "      <td>49398.224932</td>\n",
       "      <td>312359.485176</td>\n",
       "      <td>69637.896353</td>\n",
       "      <td>615404.104004</td>\n",
       "      <td>6532.981635</td>\n",
       "      <td>38661.236260</td>\n",
       "    </tr>\n",
       "    <tr>\n",
       "      <th>far</th>\n",
       "      <td>5011.391772</td>\n",
       "      <td>7080.822550</td>\n",
       "      <td>19993.993601</td>\n",
       "      <td>22987.490978</td>\n",
       "      <td>18469.531003</td>\n",
       "      <td>24606.277281</td>\n",
       "      <td>206022.211153</td>\n",
       "      <td>283524.076175</td>\n",
       "      <td>322287.036164</td>\n",
       "      <td>398905.939672</td>\n",
       "      <td>...</td>\n",
       "      <td>8902.439089</td>\n",
       "      <td>14189.915911</td>\n",
       "      <td>217313.083627</td>\n",
       "      <td>309814.569804</td>\n",
       "      <td>172349.383763</td>\n",
       "      <td>263320.875886</td>\n",
       "      <td>192984.681260</td>\n",
       "      <td>298626.758117</td>\n",
       "      <td>40941.820428</td>\n",
       "      <td>55752.404128</td>\n",
       "    </tr>\n",
       "  </tbody>\n",
       "</table>\n",
       "<p>5 rows × 166 columns</p>\n",
       "</div>"
      ],
      "text/plain": [
       "province            Abra                Agusan del Norte                 \\\n",
       "outputs            dKtot dWtot_currency            dKtot dWtot_currency   \n",
       "inputs                                                                    \n",
       "T_rebuild_K     0.000000     109.260358         0.000000    2429.256339   \n",
       "cp              0.050349      -0.115264         1.313773      -3.654982   \n",
       "cr              0.122894      -0.086776         2.386512      -1.369782   \n",
       "fap           934.765826    4282.111344      3090.609924   17219.581622   \n",
       "far          5011.391772    7080.822550     19993.993601   22987.490978   \n",
       "\n",
       "province    Agusan del Sur                         Aklan                 \\\n",
       "outputs              dKtot dWtot_currency          dKtot dWtot_currency   \n",
       "inputs                                                                    \n",
       "T_rebuild_K       0.000000    3246.123822       0.000000   93806.452212   \n",
       "cp                2.048066      -5.669856      36.861058    -109.922946   \n",
       "cr                2.395623      -1.594364     102.842465     -70.321943   \n",
       "fap            4873.923349   27019.523749   22902.974842  137442.952301   \n",
       "far           18469.531003   24606.277281  206022.211153  283524.076175   \n",
       "\n",
       "province             Albay                     ...          Tawi-tawi  \\\n",
       "outputs              dKtot dWtot_currency      ...              dKtot   \n",
       "inputs                                         ...                      \n",
       "T_rebuild_K       0.000000   15330.277927      ...           0.000000   \n",
       "cp                9.676592     -29.437917      ...           0.404334   \n",
       "cr               11.982329      -7.409850      ...           1.314940   \n",
       "fap           69321.589568  422158.326676      ...        1297.220325   \n",
       "far          322287.036164  398905.939672      ...        8902.439089   \n",
       "\n",
       "province                         Zambales                Zamboanga Sibugay  \\\n",
       "outputs     dWtot_currency          dKtot dWtot_currency             dKtot   \n",
       "inputs                                                                       \n",
       "T_rebuild_K    1077.966623       0.000000    8775.719011          0.000000   \n",
       "cp               -0.706729       2.701583      -5.933268          5.750896   \n",
       "cr               -1.047554      11.948419      -8.511142          5.890390   \n",
       "fap            4535.696130   19380.762748   85190.023880      49398.224932   \n",
       "far           14189.915911  217313.083627  309814.569804     172349.383763   \n",
       "\n",
       "province                   Zamboanga del Norte                 \\\n",
       "outputs     dWtot_currency               dKtot dWtot_currency   \n",
       "inputs                                                          \n",
       "T_rebuild_K    9301.626681            0.000000   59702.109447   \n",
       "cp              -18.163903           40.182721    -177.244321   \n",
       "cr               -4.496491           27.798482     -21.476177   \n",
       "fap          312359.485176        69637.896353  615404.104004   \n",
       "far          263320.875886       192984.681260  298626.758117   \n",
       "\n",
       "province    Zamboanga del Sur                 \n",
       "outputs                 dKtot dWtot_currency  \n",
       "inputs                                        \n",
       "T_rebuild_K          0.000000    5814.488391  \n",
       "cp                   2.883688      -8.513795  \n",
       "cr                   5.382810      -3.658794  \n",
       "fap               6532.981635   38661.236260  \n",
       "far              40941.820428   55752.404128  \n",
       "\n",
       "[5 rows x 166 columns]"
      ]
     },
     "execution_count": 77,
     "metadata": {},
     "output_type": "execute_result"
    }
   ],
   "source": [
    "deltas = compute_policies(df_original,pol_increment,pol_assess_set, bounds)\n",
    "deltas.head()"
   ]
  },
  {
   "cell_type": "markdown",
   "metadata": {
    "collapsed": true
   },
   "source": [
    "# actual drawing"
   ]
  },
  {
   "cell_type": "code",
   "execution_count": 78,
   "metadata": {
    "collapsed": false
   },
   "outputs": [
    {
     "data": {
      "text/plain": [
       "Index(['T_rebuild_K', 'cp', 'cr', 'fap', 'far', 'gdp_pc_pp', 'pi', 'pov_head',\n",
       "       'protection', 'shewp', 'shewr', 'sigma_p', 'sigma_r', 'social_p',\n",
       "       'social_r', 'v_p', 'v_r'],\n",
       "      dtype='object', name='inputs')"
      ]
     },
     "execution_count": 78,
     "metadata": {},
     "output_type": "execute_result"
    }
   ],
   "source": [
    "deltas.index"
   ]
  },
  {
   "cell_type": "code",
   "execution_count": 79,
   "metadata": {
    "collapsed": false
   },
   "outputs": [
    {
     "name": "stdout",
     "output_type": "stream",
     "text": [
      "Currently working on:  Philippines\n"
     ]
    },
    {
     "ename": "KeyError",
     "evalue": "'Philippines'",
     "output_type": "error",
     "traceback": [
      "\u001b[1;31m---------------------------------------------------------------------------\u001b[0m",
      "\u001b[1;31mKeyError\u001b[0m                                  Traceback (most recent call last)",
      "\u001b[1;32m<ipython-input-79-369d01069509>\u001b[0m in \u001b[0;36m<module>\u001b[1;34m()\u001b[0m\n\u001b[0;32m      5\u001b[0m     \u001b[0mpol_increment\u001b[0m\u001b[1;33m,\u001b[0m\u001b[1;33m\u001b[0m\u001b[0m\n\u001b[0;32m      6\u001b[0m     \u001b[0munit\u001b[0m\u001b[1;33m,\u001b[0m\u001b[1;33m\u001b[0m\u001b[0m\n\u001b[1;32m----> 7\u001b[1;33m         [\"Philippines\", \"Maguindanao\", \"Quezon\"])\n\u001b[0m\u001b[0;32m      8\u001b[0m \u001b[1;31m#     df_original.index)\u001b[0m\u001b[1;33m\u001b[0m\u001b[1;33m\u001b[0m\u001b[0m\n",
      "\u001b[1;32mC:\\Users\\Admin\\Box Sync\\PYTHON - RESILIENCE\\resilience_indicator_phl\\policy_assessment.py\u001b[0m in \u001b[0;36mrender_pol_cards\u001b[1;34m(deltas, colors, policy_descriptions, pol_increment, unit, province_list, outfolder)\u001b[0m\n\u001b[0;32m     90\u001b[0m \u001b[1;33m\u001b[0m\u001b[0m\n\u001b[0;32m     91\u001b[0m         \u001b[1;31m#select current line in deltas, and scales it.\u001b[0m\u001b[1;33m\u001b[0m\u001b[1;33m\u001b[0m\u001b[0m\n\u001b[1;32m---> 92\u001b[1;33m         \u001b[0mtoplot\u001b[0m \u001b[1;33m=\u001b[0m \u001b[0munit\u001b[0m\u001b[1;33m[\u001b[0m\u001b[1;34m\"multiplier\"\u001b[0m\u001b[1;33m]\u001b[0m\u001b[1;33m*\u001b[0m\u001b[0mdeltas\u001b[0m\u001b[1;33m[\u001b[0m\u001b[0mp\u001b[0m\u001b[1;33m]\u001b[0m\u001b[1;33m.\u001b[0m\u001b[0mdropna\u001b[0m\u001b[1;33m(\u001b[0m\u001b[1;33m)\u001b[0m\u001b[1;33m\u001b[0m\u001b[0m\n\u001b[0m\u001b[0;32m     93\u001b[0m \u001b[1;33m\u001b[0m\u001b[0m\n\u001b[0;32m     94\u001b[0m         \u001b[1;31m#assumes the policy is framed in terms of what increases welfare (\"decrease poverty\", not \"increase poverty\")\u001b[0m\u001b[1;33m\u001b[0m\u001b[1;33m\u001b[0m\u001b[0m\n",
      "\u001b[1;32mC:\\Users\\Admin\\Anaconda3\\lib\\site-packages\\pandas\\core\\frame.py\u001b[0m in \u001b[0;36m__getitem__\u001b[1;34m(self, key)\u001b[0m\n\u001b[0;32m   1965\u001b[0m             \u001b[1;32mreturn\u001b[0m \u001b[0mself\u001b[0m\u001b[1;33m.\u001b[0m\u001b[0m_getitem_frame\u001b[0m\u001b[1;33m(\u001b[0m\u001b[0mkey\u001b[0m\u001b[1;33m)\u001b[0m\u001b[1;33m\u001b[0m\u001b[0m\n\u001b[0;32m   1966\u001b[0m         \u001b[1;32melif\u001b[0m \u001b[0mis_mi_columns\u001b[0m\u001b[1;33m:\u001b[0m\u001b[1;33m\u001b[0m\u001b[0m\n\u001b[1;32m-> 1967\u001b[1;33m             \u001b[1;32mreturn\u001b[0m \u001b[0mself\u001b[0m\u001b[1;33m.\u001b[0m\u001b[0m_getitem_multilevel\u001b[0m\u001b[1;33m(\u001b[0m\u001b[0mkey\u001b[0m\u001b[1;33m)\u001b[0m\u001b[1;33m\u001b[0m\u001b[0m\n\u001b[0m\u001b[0;32m   1968\u001b[0m         \u001b[1;32melse\u001b[0m\u001b[1;33m:\u001b[0m\u001b[1;33m\u001b[0m\u001b[0m\n\u001b[0;32m   1969\u001b[0m             \u001b[1;32mreturn\u001b[0m \u001b[0mself\u001b[0m\u001b[1;33m.\u001b[0m\u001b[0m_getitem_column\u001b[0m\u001b[1;33m(\u001b[0m\u001b[0mkey\u001b[0m\u001b[1;33m)\u001b[0m\u001b[1;33m\u001b[0m\u001b[0m\n",
      "\u001b[1;32mC:\\Users\\Admin\\Anaconda3\\lib\\site-packages\\pandas\\core\\frame.py\u001b[0m in \u001b[0;36m_getitem_multilevel\u001b[1;34m(self, key)\u001b[0m\n\u001b[0;32m   2009\u001b[0m \u001b[1;33m\u001b[0m\u001b[0m\n\u001b[0;32m   2010\u001b[0m     \u001b[1;32mdef\u001b[0m \u001b[0m_getitem_multilevel\u001b[0m\u001b[1;33m(\u001b[0m\u001b[0mself\u001b[0m\u001b[1;33m,\u001b[0m \u001b[0mkey\u001b[0m\u001b[1;33m)\u001b[0m\u001b[1;33m:\u001b[0m\u001b[1;33m\u001b[0m\u001b[0m\n\u001b[1;32m-> 2011\u001b[1;33m         \u001b[0mloc\u001b[0m \u001b[1;33m=\u001b[0m \u001b[0mself\u001b[0m\u001b[1;33m.\u001b[0m\u001b[0mcolumns\u001b[0m\u001b[1;33m.\u001b[0m\u001b[0mget_loc\u001b[0m\u001b[1;33m(\u001b[0m\u001b[0mkey\u001b[0m\u001b[1;33m)\u001b[0m\u001b[1;33m\u001b[0m\u001b[0m\n\u001b[0m\u001b[0;32m   2012\u001b[0m         \u001b[1;32mif\u001b[0m \u001b[0misinstance\u001b[0m\u001b[1;33m(\u001b[0m\u001b[0mloc\u001b[0m\u001b[1;33m,\u001b[0m \u001b[1;33m(\u001b[0m\u001b[0mslice\u001b[0m\u001b[1;33m,\u001b[0m \u001b[0mSeries\u001b[0m\u001b[1;33m,\u001b[0m \u001b[0mnp\u001b[0m\u001b[1;33m.\u001b[0m\u001b[0mndarray\u001b[0m\u001b[1;33m,\u001b[0m \u001b[0mIndex\u001b[0m\u001b[1;33m)\u001b[0m\u001b[1;33m)\u001b[0m\u001b[1;33m:\u001b[0m\u001b[1;33m\u001b[0m\u001b[0m\n\u001b[0;32m   2013\u001b[0m             \u001b[0mnew_columns\u001b[0m \u001b[1;33m=\u001b[0m \u001b[0mself\u001b[0m\u001b[1;33m.\u001b[0m\u001b[0mcolumns\u001b[0m\u001b[1;33m[\u001b[0m\u001b[0mloc\u001b[0m\u001b[1;33m]\u001b[0m\u001b[1;33m\u001b[0m\u001b[0m\n",
      "\u001b[1;32mC:\\Users\\Admin\\Anaconda3\\lib\\site-packages\\pandas\\core\\index.py\u001b[0m in \u001b[0;36mget_loc\u001b[1;34m(self, key, method)\u001b[0m\n\u001b[0;32m   5406\u001b[0m \u001b[1;33m\u001b[0m\u001b[0m\n\u001b[0;32m   5407\u001b[0m         \u001b[1;32mif\u001b[0m \u001b[1;32mnot\u001b[0m \u001b[0misinstance\u001b[0m\u001b[1;33m(\u001b[0m\u001b[0mkey\u001b[0m\u001b[1;33m,\u001b[0m \u001b[0mtuple\u001b[0m\u001b[1;33m)\u001b[0m\u001b[1;33m:\u001b[0m\u001b[1;33m\u001b[0m\u001b[0m\n\u001b[1;32m-> 5408\u001b[1;33m             \u001b[0mloc\u001b[0m \u001b[1;33m=\u001b[0m \u001b[0mself\u001b[0m\u001b[1;33m.\u001b[0m\u001b[0m_get_level_indexer\u001b[0m\u001b[1;33m(\u001b[0m\u001b[0mkey\u001b[0m\u001b[1;33m,\u001b[0m \u001b[0mlevel\u001b[0m\u001b[1;33m=\u001b[0m\u001b[1;36m0\u001b[0m\u001b[1;33m)\u001b[0m\u001b[1;33m\u001b[0m\u001b[0m\n\u001b[0m\u001b[0;32m   5409\u001b[0m             \u001b[1;32mreturn\u001b[0m \u001b[0m_maybe_to_slice\u001b[0m\u001b[1;33m(\u001b[0m\u001b[0mloc\u001b[0m\u001b[1;33m)\u001b[0m\u001b[1;33m\u001b[0m\u001b[0m\n\u001b[0;32m   5410\u001b[0m \u001b[1;33m\u001b[0m\u001b[0m\n",
      "\u001b[1;32mC:\\Users\\Admin\\Anaconda3\\lib\\site-packages\\pandas\\core\\index.py\u001b[0m in \u001b[0;36m_get_level_indexer\u001b[1;34m(self, key, level, indexer)\u001b[0m\n\u001b[0;32m   5665\u001b[0m         \u001b[1;32melse\u001b[0m\u001b[1;33m:\u001b[0m\u001b[1;33m\u001b[0m\u001b[0m\n\u001b[0;32m   5666\u001b[0m \u001b[1;33m\u001b[0m\u001b[0m\n\u001b[1;32m-> 5667\u001b[1;33m             \u001b[0mloc\u001b[0m \u001b[1;33m=\u001b[0m \u001b[0mlevel_index\u001b[0m\u001b[1;33m.\u001b[0m\u001b[0mget_loc\u001b[0m\u001b[1;33m(\u001b[0m\u001b[0mkey\u001b[0m\u001b[1;33m)\u001b[0m\u001b[1;33m\u001b[0m\u001b[0m\n\u001b[0m\u001b[0;32m   5668\u001b[0m             \u001b[1;32mif\u001b[0m \u001b[0mlevel\u001b[0m \u001b[1;33m>\u001b[0m \u001b[1;36m0\u001b[0m \u001b[1;32mor\u001b[0m \u001b[0mself\u001b[0m\u001b[1;33m.\u001b[0m\u001b[0mlexsort_depth\u001b[0m \u001b[1;33m==\u001b[0m \u001b[1;36m0\u001b[0m\u001b[1;33m:\u001b[0m\u001b[1;33m\u001b[0m\u001b[0m\n\u001b[0;32m   5669\u001b[0m                 \u001b[1;32mreturn\u001b[0m \u001b[0mnp\u001b[0m\u001b[1;33m.\u001b[0m\u001b[0marray\u001b[0m\u001b[1;33m(\u001b[0m\u001b[0mlabels\u001b[0m \u001b[1;33m==\u001b[0m \u001b[0mloc\u001b[0m\u001b[1;33m,\u001b[0m\u001b[0mdtype\u001b[0m\u001b[1;33m=\u001b[0m\u001b[0mbool\u001b[0m\u001b[1;33m)\u001b[0m\u001b[1;33m\u001b[0m\u001b[0m\n",
      "\u001b[1;32mC:\\Users\\Admin\\Anaconda3\\lib\\site-packages\\pandas\\core\\index.py\u001b[0m in \u001b[0;36mget_loc\u001b[1;34m(self, key, method, tolerance)\u001b[0m\n\u001b[0;32m   1757\u001b[0m                                  'backfill or nearest lookups')\n\u001b[0;32m   1758\u001b[0m             \u001b[0mkey\u001b[0m \u001b[1;33m=\u001b[0m \u001b[0m_values_from_object\u001b[0m\u001b[1;33m(\u001b[0m\u001b[0mkey\u001b[0m\u001b[1;33m)\u001b[0m\u001b[1;33m\u001b[0m\u001b[0m\n\u001b[1;32m-> 1759\u001b[1;33m             \u001b[1;32mreturn\u001b[0m \u001b[0mself\u001b[0m\u001b[1;33m.\u001b[0m\u001b[0m_engine\u001b[0m\u001b[1;33m.\u001b[0m\u001b[0mget_loc\u001b[0m\u001b[1;33m(\u001b[0m\u001b[0mkey\u001b[0m\u001b[1;33m)\u001b[0m\u001b[1;33m\u001b[0m\u001b[0m\n\u001b[0m\u001b[0;32m   1760\u001b[0m \u001b[1;33m\u001b[0m\u001b[0m\n\u001b[0;32m   1761\u001b[0m         indexer = self.get_indexer([key], method=method,\n",
      "\u001b[1;32mpandas\\index.pyx\u001b[0m in \u001b[0;36mpandas.index.IndexEngine.get_loc (pandas\\index.c:3979)\u001b[1;34m()\u001b[0m\n",
      "\u001b[1;32mpandas\\index.pyx\u001b[0m in \u001b[0;36mpandas.index.IndexEngine.get_loc (pandas\\index.c:3843)\u001b[1;34m()\u001b[0m\n",
      "\u001b[1;32mpandas\\hashtable.pyx\u001b[0m in \u001b[0;36mpandas.hashtable.PyObjectHashTable.get_item (pandas\\hashtable.c:12265)\u001b[1;34m()\u001b[0m\n",
      "\u001b[1;32mpandas\\hashtable.pyx\u001b[0m in \u001b[0;36mpandas.hashtable.PyObjectHashTable.get_item (pandas\\hashtable.c:12216)\u001b[1;34m()\u001b[0m\n",
      "\u001b[1;31mKeyError\u001b[0m: 'Philippines'"
     ]
    }
   ],
   "source": [
    "render_pol_cards(\n",
    "    deltas,\n",
    "    colors,\n",
    "    policy_labels,\n",
    "    pol_increment,\n",
    "    unit,\n",
    "        [ \"Maguindanao\", \"Quezon\"])\n",
    "#     df_original.index)\n"
   ]
  },
  {
   "cell_type": "markdown",
   "metadata": {
    "collapsed": true
   },
   "source": [
    "# Merge all cards to single pdf"
   ]
  },
  {
   "cell_type": "markdown",
   "metadata": {},
   "source": [
    "Merges the individual province cards into one big multi page pdf. Requires ghostscript."
   ]
  },
  {
   "cell_type": "code",
   "execution_count": null,
   "metadata": {
    "collapsed": false
   },
   "outputs": [],
   "source": [
    "province_list=glob.glob(\"cards/*.pdf\")\n",
    "merge_cardfiles(province_list,\"all_cards.pdf\")"
   ]
  },
  {
   "cell_type": "markdown",
   "metadata": {},
   "source": [
    "Converts the pdf files to png images. Requires Imagemagick."
   ]
  },
  {
   "cell_type": "code",
   "execution_count": null,
   "metadata": {
    "collapsed": false
   },
   "outputs": [],
   "source": [
    "convert_pdf_to_png(\"cards/\")"
   ]
  },
  {
   "cell_type": "markdown",
   "metadata": {},
   "source": [
    "# Demo: policy experiments on the multi-hazard data"
   ]
  },
  {
   "cell_type": "markdown",
   "metadata": {},
   "source": [
    "Here we demonstrate how to do policy experiments on the multi hazard data. This is just a demo as the data we have now prevents us to have meaningful experiments (river floods and costal floods)"
   ]
  },
  {
   "cell_type": "code",
   "execution_count": null,
   "metadata": {
    "collapsed": false
   },
   "outputs": [],
   "source": [
    "multi_hard_info=pd.read_csv(\"inputs/multi_hazard_data.csv\", index_col=[\"province\",\"hazard\"])\n",
    "multi_hard_info.head()"
   ]
  },
  {
   "cell_type": "code",
   "execution_count": null,
   "metadata": {
    "collapsed": false
   },
   "outputs": [],
   "source": [
    "fr=pd.read_csv(\"inputs/fa_ratios.csv\", index_col=(\"province\",\"hazard\")).dropna()\n",
    "fr.columns = fr.columns.astype(float)\n",
    "fr.head()"
   ]
  },
  {
   "cell_type": "markdown",
   "metadata": {},
   "source": [
    "## policy experiments on mh data"
   ]
  },
  {
   "cell_type": "code",
   "execution_count": null,
   "metadata": {
    "collapsed": false
   },
   "outputs": [],
   "source": [
    "##POLICY DESCRIPTION\n",
    "policy_info_mh= pd.read_csv(\"inputs/policy_multihazard_description.csv\",index_col=0)\n",
    "\n",
    "#Policy Labels (y axis)\n",
    "policy_labels_mh = policy_info_mh.descriptor.copy() #we make a copy so we can modify it later\n",
    "policy_labels_mh.head()\n",
    "\n",
    "#size of the policy\n",
    "pol_increment_mh = policy_info_mh.increment    \n",
    "pol_increment_mh.head()\n"
   ]
  },
  {
   "cell_type": "markdown",
   "metadata": {},
   "source": [
    "## computation"
   ]
  },
  {
   "cell_type": "code",
   "execution_count": null,
   "metadata": {
    "collapsed": false
   },
   "outputs": [],
   "source": [
    "d_mh = compute_policies_mh(df_original,multi_hard_info,pol_increment_mh,pol_assess_set, bounds, fa_ratios=fr, multihazard_data =multi_hard_info)"
   ]
  },
  {
   "cell_type": "markdown",
   "metadata": {},
   "source": [
    "## baseline mh data"
   ]
  },
  {
   "cell_type": "code",
   "execution_count": null,
   "metadata": {
    "collapsed": false
   },
   "outputs": [],
   "source": [
    "render_pol_cards(\n",
    "    deltas.append(d_mh).drop(\"fap\").drop(\"far\"), #drop fap and far because superseded by multihazard info\n",
    "    colors,\n",
    "    policy_labels.append(policy_labels_mh),\n",
    "    pol_increment.append(pol_increment_mh),\n",
    "    unit,[\"Maguindanao\"],\n",
    "    outfolder=\"cards_coast_river/\"\n",
    ")\n",
    "\n"
   ]
  },
  {
   "cell_type": "code",
   "execution_count": null,
   "metadata": {
    "collapsed": true
   },
   "outputs": [],
   "source": []
  }
 ],
 "metadata": {
  "kernelspec": {
   "display_name": "Python 3",
   "language": "python",
   "name": "python3"
  },
  "language_info": {
   "codemirror_mode": {
    "name": "ipython",
    "version": 3
   },
   "file_extension": ".py",
   "mimetype": "text/x-python",
   "name": "python",
   "nbconvert_exporter": "python",
   "pygments_lexer": "ipython3",
   "version": "3.4.4"
  }
 },
 "nbformat": 4,
 "nbformat_minor": 0
}
