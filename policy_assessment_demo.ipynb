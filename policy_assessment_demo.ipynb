{
 "cells": [
  {
   "cell_type": "markdown",
   "metadata": {},
   "source": [
    "This notebook demonstrates how to perfomr systematic the policy assessment and render the policy cards. "
   ]
  },
  {
   "cell_type": "code",
   "execution_count": 11,
   "metadata": {
    "collapsed": false
   },
   "outputs": [
    {
     "name": "stdout",
     "output_type": "stream",
     "text": [
      "The autoreload extension is already loaded. To reload it, use:\n",
      "  %reload_ext autoreload\n"
     ]
    }
   ],
   "source": [
    "%load_ext autoreload\n",
    "%autoreload 2\n",
    "\n",
    "import pandas as pd\n",
    "\n",
    "from res_ind_lib import *\n",
    "\n",
    "#Imports the function to plot render the policy experiments\n",
    "from policy_assessment import *\n",
    "\n",
    "#ask jupyter to display the plots within this notebook\n",
    "%matplotlib inline"
   ]
  },
  {
   "cell_type": "markdown",
   "metadata": {},
   "source": [
    "# Data"
   ]
  },
  {
   "cell_type": "markdown",
   "metadata": {},
   "source": [
    "## baseline data"
   ]
  },
  {
   "cell_type": "code",
   "execution_count": 12,
   "metadata": {
    "collapsed": false
   },
   "outputs": [],
   "source": [
    "#Load the excel data file into a dataframe (table)\n",
    "df_original=pd.read_excel(\"inputs/all_data_compiled.xlsx\", \n",
    "                 index_col=0, #tells Pandas to use the first column (Provinces) as the index of the table\n",
    "                 skiprows=[0, 2] #The first (0) row is a description of the variables and the 3rd (2) row is empty. We skip them\n",
    "                ).dropna() \n",
    "df_original.index.name=\"province\"\n",
    "#Displays the first rows of that dataframe\n",
    "df_original=def_ref_values(df_original)\n"
   ]
  },
  {
   "cell_type": "markdown",
   "metadata": {},
   "source": [
    "## policy experiment data"
   ]
  },
  {
   "cell_type": "code",
   "execution_count": 13,
   "metadata": {
    "collapsed": false
   },
   "outputs": [],
   "source": [
    "##POLICY DESCRIPTION\n",
    "policy_info= pd.read_csv(\"inputs/policy_description.csv\",index_col=0)\n",
    "\n",
    "#Policy Labels (y axis)\n",
    "policy_labels = policy_info.descriptor.copy() #we make a copy so we can modify it later\n",
    "policy_labels.head()\n",
    "\n",
    "#size of the policy\n",
    "pol_increment = policy_info.increment    "
   ]
  },
  {
   "cell_type": "markdown",
   "metadata": {},
   "source": [
    "# Parameters"
   ]
  },
  {
   "cell_type": "code",
   "execution_count": 14,
   "metadata": {
    "collapsed": false
   },
   "outputs": [
    {
     "data": {
      "text/html": [
       "<div>\n",
       "<table border=\"1\" class=\"dataframe\">\n",
       "  <thead>\n",
       "    <tr style=\"text-align: right;\">\n",
       "      <th></th>\n",
       "      <th>color</th>\n",
       "      <th>edgecolor</th>\n",
       "      <th>alpha</th>\n",
       "    </tr>\n",
       "  </thead>\n",
       "  <tbody>\n",
       "    <tr>\n",
       "      <th>dWtot_currency</th>\n",
       "      <td>#a6cee3</td>\n",
       "      <td>#1f78b4</td>\n",
       "      <td>1</td>\n",
       "    </tr>\n",
       "    <tr>\n",
       "      <th>dKtot</th>\n",
       "      <td>#cccccc</td>\n",
       "      <td>#969696</td>\n",
       "      <td>1</td>\n",
       "    </tr>\n",
       "  </tbody>\n",
       "</table>\n",
       "</div>"
      ],
      "text/plain": [
       "                  color edgecolor  alpha\n",
       "dWtot_currency  #a6cee3   #1f78b4      1\n",
       "dKtot           #cccccc   #969696      1"
      ]
     },
     "execution_count": 14,
     "metadata": {},
     "output_type": "execute_result"
    }
   ],
   "source": [
    "colors = pd.read_csv(\"inputs/colors_pol_assess.csv\", index_col=0)\n",
    "colors"
   ]
  },
  {
   "cell_type": "code",
   "execution_count": 15,
   "metadata": {
    "collapsed": false
   },
   "outputs": [],
   "source": [
    "#unit for welfare and asset loses changes\n",
    "unit = dict(multiplier = 1e-3, string = \"million pesos per year\"       )"
   ]
  },
  {
   "cell_type": "code",
   "execution_count": 16,
   "metadata": {
    "collapsed": true
   },
   "outputs": [],
   "source": [
    "pol_assess_set = colors.index"
   ]
  },
  {
   "cell_type": "markdown",
   "metadata": {},
   "source": [
    "# Checking for out of bound problems"
   ]
  },
  {
   "cell_type": "code",
   "execution_count": 17,
   "metadata": {
    "collapsed": false
   },
   "outputs": [
    {
     "data": {
      "text/html": [
       "<div>\n",
       "<table border=\"1\" class=\"dataframe\">\n",
       "  <thead>\n",
       "    <tr style=\"text-align: right;\">\n",
       "      <th></th>\n",
       "      <th>descriptor</th>\n",
       "      <th>inf</th>\n",
       "      <th>sup</th>\n",
       "    </tr>\n",
       "    <tr>\n",
       "      <th>key</th>\n",
       "      <th></th>\n",
       "      <th></th>\n",
       "      <th></th>\n",
       "    </tr>\n",
       "  </thead>\n",
       "  <tbody>\n",
       "    <tr>\n",
       "      <th>avg_prod_k</th>\n",
       "      <td>Productivity of capital</td>\n",
       "      <td>0</td>\n",
       "      <td>10</td>\n",
       "    </tr>\n",
       "    <tr>\n",
       "      <th>dcap</th>\n",
       "      <td>Average consumption losses for poor people in ...</td>\n",
       "      <td>0</td>\n",
       "      <td>NaN</td>\n",
       "    </tr>\n",
       "    <tr>\n",
       "      <th>dcar</th>\n",
       "      <td>Average consumption losses for nonpoor people ...</td>\n",
       "      <td>0</td>\n",
       "      <td>NaN</td>\n",
       "    </tr>\n",
       "  </tbody>\n",
       "</table>\n",
       "</div>"
      ],
      "text/plain": [
       "                                                   descriptor  inf  sup\n",
       "key                                                                    \n",
       "avg_prod_k                            Productivity of capital    0   10\n",
       "dcap        Average consumption losses for poor people in ...    0  NaN\n",
       "dcar        Average consumption losses for nonpoor people ...    0  NaN"
      ]
     },
     "execution_count": 17,
     "metadata": {},
     "output_type": "execute_result"
    }
   ],
   "source": [
    "bounds= pd.read_csv(\"inputs/inputs_info.csv\", index_col=\"key\")\n",
    "bounds.head(3)   "
   ]
  },
  {
   "cell_type": "code",
   "execution_count": 18,
   "metadata": {
    "collapsed": false
   },
   "outputs": [],
   "source": [
    "clipped = check_bounds(df_original+pol_increment, bounds)"
   ]
  },
  {
   "cell_type": "markdown",
   "metadata": {},
   "source": [
    "# Computing"
   ]
  },
  {
   "cell_type": "code",
   "execution_count": 19,
   "metadata": {
    "collapsed": false
   },
   "outputs": [
    {
     "name": "stdout",
     "output_type": "stream",
     "text": [
      "Currently working on:  done.\n"
     ]
    },
    {
     "data": {
      "text/html": [
       "<div>\n",
       "<table border=\"1\" class=\"dataframe\">\n",
       "  <thead>\n",
       "    <tr>\n",
       "      <th>province</th>\n",
       "      <th colspan=\"2\" halign=\"left\">Abra</th>\n",
       "      <th colspan=\"2\" halign=\"left\">Agusan del Norte</th>\n",
       "      <th colspan=\"2\" halign=\"left\">Agusan del Sur</th>\n",
       "      <th colspan=\"2\" halign=\"left\">Aklan</th>\n",
       "      <th colspan=\"2\" halign=\"left\">Albay</th>\n",
       "      <th>...</th>\n",
       "      <th colspan=\"2\" halign=\"left\">Tawi-tawi</th>\n",
       "      <th colspan=\"2\" halign=\"left\">Zambales</th>\n",
       "      <th colspan=\"2\" halign=\"left\">Zamboanga Sibugay</th>\n",
       "      <th colspan=\"2\" halign=\"left\">Zamboanga del Norte</th>\n",
       "      <th colspan=\"2\" halign=\"left\">Zamboanga del Sur</th>\n",
       "    </tr>\n",
       "    <tr>\n",
       "      <th>outputs</th>\n",
       "      <th>dKtot</th>\n",
       "      <th>dWtot_currency</th>\n",
       "      <th>dKtot</th>\n",
       "      <th>dWtot_currency</th>\n",
       "      <th>dKtot</th>\n",
       "      <th>dWtot_currency</th>\n",
       "      <th>dKtot</th>\n",
       "      <th>dWtot_currency</th>\n",
       "      <th>dKtot</th>\n",
       "      <th>dWtot_currency</th>\n",
       "      <th>...</th>\n",
       "      <th>dKtot</th>\n",
       "      <th>dWtot_currency</th>\n",
       "      <th>dKtot</th>\n",
       "      <th>dWtot_currency</th>\n",
       "      <th>dKtot</th>\n",
       "      <th>dWtot_currency</th>\n",
       "      <th>dKtot</th>\n",
       "      <th>dWtot_currency</th>\n",
       "      <th>dKtot</th>\n",
       "      <th>dWtot_currency</th>\n",
       "    </tr>\n",
       "    <tr>\n",
       "      <th>inputs</th>\n",
       "      <th></th>\n",
       "      <th></th>\n",
       "      <th></th>\n",
       "      <th></th>\n",
       "      <th></th>\n",
       "      <th></th>\n",
       "      <th></th>\n",
       "      <th></th>\n",
       "      <th></th>\n",
       "      <th></th>\n",
       "      <th></th>\n",
       "      <th></th>\n",
       "      <th></th>\n",
       "      <th></th>\n",
       "      <th></th>\n",
       "      <th></th>\n",
       "      <th></th>\n",
       "      <th></th>\n",
       "      <th></th>\n",
       "      <th></th>\n",
       "      <th></th>\n",
       "    </tr>\n",
       "  </thead>\n",
       "  <tbody>\n",
       "    <tr>\n",
       "      <th>T_rebuild_K</th>\n",
       "      <td>0.000000</td>\n",
       "      <td>2316.199320</td>\n",
       "      <td>0.000000</td>\n",
       "      <td>7368.999901</td>\n",
       "      <td>0.000000</td>\n",
       "      <td>8823.943899</td>\n",
       "      <td>0.000000</td>\n",
       "      <td>8246.261712</td>\n",
       "      <td>0.000000</td>\n",
       "      <td>16094.109332</td>\n",
       "      <td>...</td>\n",
       "      <td>0.000000</td>\n",
       "      <td>2467.860499</td>\n",
       "      <td>0.000000</td>\n",
       "      <td>7604.511892</td>\n",
       "      <td>0.000000</td>\n",
       "      <td>11734.642714</td>\n",
       "      <td>0.000000</td>\n",
       "      <td>18240.809838</td>\n",
       "      <td>0.000000</td>\n",
       "      <td>28834.306749</td>\n",
       "    </tr>\n",
       "    <tr>\n",
       "      <th>cp</th>\n",
       "      <td>1.064374</td>\n",
       "      <td>-2.439797</td>\n",
       "      <td>3.531657</td>\n",
       "      <td>-9.829346</td>\n",
       "      <td>5.037506</td>\n",
       "      <td>-13.951178</td>\n",
       "      <td>2.882841</td>\n",
       "      <td>-8.567393</td>\n",
       "      <td>9.051918</td>\n",
       "      <td>-27.579734</td>\n",
       "      <td>...</td>\n",
       "      <td>0.785464</td>\n",
       "      <td>-1.372962</td>\n",
       "      <td>2.053179</td>\n",
       "      <td>-4.513824</td>\n",
       "      <td>6.457917</td>\n",
       "      <td>-20.437605</td>\n",
       "      <td>11.479098</td>\n",
       "      <td>-50.660969</td>\n",
       "      <td>12.612229</td>\n",
       "      <td>-37.262592</td>\n",
       "    </tr>\n",
       "    <tr>\n",
       "      <th>cr</th>\n",
       "      <td>2.597972</td>\n",
       "      <td>-1.837104</td>\n",
       "      <td>8.012368</td>\n",
       "      <td>-4.602890</td>\n",
       "      <td>7.359178</td>\n",
       "      <td>-4.900220</td>\n",
       "      <td>9.735502</td>\n",
       "      <td>-6.636972</td>\n",
       "      <td>14.387263</td>\n",
       "      <td>-8.911759</td>\n",
       "      <td>...</td>\n",
       "      <td>3.190301</td>\n",
       "      <td>-2.542088</td>\n",
       "      <td>10.749894</td>\n",
       "      <td>-7.666912</td>\n",
       "      <td>8.663028</td>\n",
       "      <td>-6.624761</td>\n",
       "      <td>9.918107</td>\n",
       "      <td>-7.668757</td>\n",
       "      <td>29.403021</td>\n",
       "      <td>-20.004997</td>\n",
       "    </tr>\n",
       "    <tr>\n",
       "      <th>fap</th>\n",
       "      <td>1976.094957</td>\n",
       "      <td>9075.499797</td>\n",
       "      <td>5816.527876</td>\n",
       "      <td>32434.333252</td>\n",
       "      <td>8392.896007</td>\n",
       "      <td>46563.476751</td>\n",
       "      <td>4580.594968</td>\n",
       "      <td>27300.365772</td>\n",
       "      <td>13864.317914</td>\n",
       "      <td>84690.557931</td>\n",
       "      <td>...</td>\n",
       "      <td>1764.256184</td>\n",
       "      <td>6169.231525</td>\n",
       "      <td>3876.152550</td>\n",
       "      <td>17072.732383</td>\n",
       "      <td>9879.644986</td>\n",
       "      <td>62720.921286</td>\n",
       "      <td>13927.579271</td>\n",
       "      <td>123212.807217</td>\n",
       "      <td>20003.989765</td>\n",
       "      <td>118547.752012</td>\n",
       "    </tr>\n",
       "    <tr>\n",
       "      <th>far</th>\n",
       "      <td>10594.082207</td>\n",
       "      <td>15012.332172</td>\n",
       "      <td>37628.695957</td>\n",
       "      <td>43338.587033</td>\n",
       "      <td>31804.532387</td>\n",
       "      <td>42414.448736</td>\n",
       "      <td>41204.442231</td>\n",
       "      <td>56364.677958</td>\n",
       "      <td>64457.407233</td>\n",
       "      <td>80045.214674</td>\n",
       "      <td>...</td>\n",
       "      <td>12107.567935</td>\n",
       "      <td>19306.564430</td>\n",
       "      <td>43462.616725</td>\n",
       "      <td>62116.867407</td>\n",
       "      <td>34469.876753</td>\n",
       "      <td>52851.472422</td>\n",
       "      <td>38596.936252</td>\n",
       "      <td>59824.546631</td>\n",
       "      <td>125363.854149</td>\n",
       "      <td>171042.533565</td>\n",
       "    </tr>\n",
       "  </tbody>\n",
       "</table>\n",
       "<p>5 rows × 166 columns</p>\n",
       "</div>"
      ],
      "text/plain": [
       "province             Abra                Agusan del Norte                 \\\n",
       "outputs             dKtot dWtot_currency            dKtot dWtot_currency   \n",
       "inputs                                                                     \n",
       "T_rebuild_K      0.000000    2316.199320         0.000000    7368.999901   \n",
       "cp               1.064374      -2.439797         3.531657      -9.829346   \n",
       "cr               2.597972      -1.837104         8.012368      -4.602890   \n",
       "fap           1976.094957    9075.499797      5816.527876   32434.333252   \n",
       "far          10594.082207   15012.332172     37628.695957   43338.587033   \n",
       "\n",
       "province    Agusan del Sur                        Aklan                 \\\n",
       "outputs              dKtot dWtot_currency         dKtot dWtot_currency   \n",
       "inputs                                                                   \n",
       "T_rebuild_K       0.000000    8823.943899      0.000000    8246.261712   \n",
       "cp                5.037506     -13.951178      2.882841      -8.567393   \n",
       "cr                7.359178      -4.900220      9.735502      -6.636972   \n",
       "fap            8392.896007   46563.476751   4580.594968   27300.365772   \n",
       "far           31804.532387   42414.448736  41204.442231   56364.677958   \n",
       "\n",
       "province            Albay                     ...           Tawi-tawi  \\\n",
       "outputs             dKtot dWtot_currency      ...               dKtot   \n",
       "inputs                                        ...                       \n",
       "T_rebuild_K      0.000000   16094.109332      ...            0.000000   \n",
       "cp               9.051918     -27.579734      ...            0.785464   \n",
       "cr              14.387263      -8.911759      ...            3.190301   \n",
       "fap          13864.317914   84690.557931      ...         1764.256184   \n",
       "far          64457.407233   80045.214674      ...        12107.567935   \n",
       "\n",
       "province                        Zambales                Zamboanga Sibugay  \\\n",
       "outputs     dWtot_currency         dKtot dWtot_currency             dKtot   \n",
       "inputs                                                                      \n",
       "T_rebuild_K    2467.860499      0.000000    7604.511892          0.000000   \n",
       "cp               -1.372962      2.053179      -4.513824          6.457917   \n",
       "cr               -2.542088     10.749894      -7.666912          8.663028   \n",
       "fap            6169.231525   3876.152550   17072.732383       9879.644986   \n",
       "far           19306.564430  43462.616725   62116.867407      34469.876753   \n",
       "\n",
       "province                   Zamboanga del Norte                 \\\n",
       "outputs     dWtot_currency               dKtot dWtot_currency   \n",
       "inputs                                                          \n",
       "T_rebuild_K   11734.642714            0.000000   18240.809838   \n",
       "cp              -20.437605           11.479098     -50.660969   \n",
       "cr               -6.624761            9.918107      -7.668757   \n",
       "fap           62720.921286        13927.579271  123212.807217   \n",
       "far           52851.472422        38596.936252   59824.546631   \n",
       "\n",
       "province    Zamboanga del Sur                 \n",
       "outputs                 dKtot dWtot_currency  \n",
       "inputs                                        \n",
       "T_rebuild_K          0.000000   28834.306749  \n",
       "cp                  12.612229     -37.262592  \n",
       "cr                  29.403021     -20.004997  \n",
       "fap              20003.989765  118547.752012  \n",
       "far             125363.854149  171042.533565  \n",
       "\n",
       "[5 rows x 166 columns]"
      ]
     },
     "execution_count": 19,
     "metadata": {},
     "output_type": "execute_result"
    }
   ],
   "source": [
    "deltas = compute_policies(df_original,pol_increment,pol_assess_set, bounds)\n",
    "deltas.head()"
   ]
  },
  {
   "cell_type": "markdown",
   "metadata": {
    "collapsed": true
   },
   "source": [
    "# actual drawing"
   ]
  },
  {
   "cell_type": "code",
   "execution_count": 20,
   "metadata": {
    "collapsed": false
   },
   "outputs": [
    {
     "data": {
      "text/plain": [
       "Index(['T_rebuild_K', 'cp', 'cr', 'fap', 'far', 'gdp_pc_pp', 'pi', 'pov_head',\n",
       "       'protection', 'shewp', 'shewr', 'sigma_p', 'sigma_r', 'social_p',\n",
       "       'social_r', 'v_p', 'v_r'],\n",
       "      dtype='object', name='inputs')"
      ]
     },
     "execution_count": 20,
     "metadata": {},
     "output_type": "execute_result"
    }
   ],
   "source": [
    "deltas.index"
   ]
  },
  {
   "cell_type": "code",
   "execution_count": 21,
   "metadata": {
    "collapsed": false
   },
   "outputs": [
    {
     "name": "stdout",
     "output_type": "stream",
     "text": [
      "Currently working on:  Bulacan\n"
     ]
    },
    {
     "data": {
      "image/png": "[encoded data removed]",
      "text/plain": [
       "<matplotlib.figure.Figure at 0x5bf0eb8>"
      ]
     },
     "metadata": {},
     "output_type": "display_data"
    },
    {
     "data": {
      "image/png": "[encoded data removed]",
      "text/plain": [
       "<matplotlib.figure.Figure at 0x5bf0ac8>"
      ]
     },
     "metadata": {},
     "output_type": "display_data"
    }
   ],
   "source": [
    "render_pol_cards(\n",
    "    deltas,\n",
    "    colors,\n",
    "    policy_labels,\n",
    "    pol_increment,\n",
    "    unit,\n",
    "        [\"Maguindanao\", \"Bulacan\"])\n",
    "#     df_original.index)\n"
   ]
  },
  {
   "cell_type": "markdown",
   "metadata": {
    "collapsed": true
   },
   "source": [
    "# Merge all cards to single pdf"
   ]
  },
  {
   "cell_type": "markdown",
   "metadata": {},
   "source": [
    "Merges the individual province cards into one big multi page pdf. Requires ghostscript."
   ]
  },
  {
   "cell_type": "code",
   "execution_count": 22,
   "metadata": {
    "collapsed": false
   },
   "outputs": [
    {
     "name": "stdout",
     "output_type": "stream",
     "text": [
      "Merging cards....\n",
      "Merging cards done\n"
     ]
    }
   ],
   "source": [
    "province_list=glob.glob(\"cards/*.pdf\")\n",
    "merge_cardfiles(province_list,\"all_cards.pdf\")"
   ]
  },
  {
   "cell_type": "markdown",
   "metadata": {},
   "source": [
    "Converts the pdf files to png images. Requires Imagemagick."
   ]
  },
  {
   "cell_type": "code",
   "execution_count": 23,
   "metadata": {
    "collapsed": false
   },
   "outputs": [
    {
     "name": "stdout",
     "output_type": "stream",
     "text": [
      "Converting cards....\n",
      "conversion to png done\n"
     ]
    }
   ],
   "source": [
    "convert_pdf_to_png(\"cards/\")"
   ]
  },
  {
   "cell_type": "markdown",
   "metadata": {},
   "source": [
    "# Demo: policy experiments on the multi-hazard data"
   ]
  },
  {
   "cell_type": "markdown",
   "metadata": {},
   "source": [
    "Here we demonstrate how to do policy experiments on the multi hazard data. This is just a demo as the data we have now prevents us to have meaningful experiments (river floods and costal floods)"
   ]
  },
  {
   "cell_type": "code",
   "execution_count": 24,
   "metadata": {
    "collapsed": false
   },
   "outputs": [
    {
     "ename": "OSError",
     "evalue": "File b'inputs/multi_hazard_data.csv' does not exist",
     "output_type": "error",
     "traceback": [
      "\u001b[1;31m---------------------------------------------------------------------------\u001b[0m",
      "\u001b[1;31mOSError\u001b[0m                                   Traceback (most recent call last)",
      "\u001b[1;32m<ipython-input-24-c93388480922>\u001b[0m in \u001b[0;36m<module>\u001b[1;34m()\u001b[0m\n\u001b[1;32m----> 1\u001b[1;33m \u001b[0mmulti_hard_info\u001b[0m\u001b[1;33m=\u001b[0m\u001b[0mpd\u001b[0m\u001b[1;33m.\u001b[0m\u001b[0mread_csv\u001b[0m\u001b[1;33m(\u001b[0m\u001b[1;34m\"inputs/multi_hazard_data.csv\"\u001b[0m\u001b[1;33m,\u001b[0m \u001b[0mindex_col\u001b[0m\u001b[1;33m=\u001b[0m\u001b[1;33m[\u001b[0m\u001b[1;34m\"province\"\u001b[0m\u001b[1;33m,\u001b[0m\u001b[1;34m\"hazard\"\u001b[0m\u001b[1;33m]\u001b[0m\u001b[1;33m)\u001b[0m\u001b[1;33m\u001b[0m\u001b[0m\n\u001b[0m\u001b[0;32m      2\u001b[0m \u001b[0mmulti_hard_info\u001b[0m\u001b[1;33m.\u001b[0m\u001b[0mhead\u001b[0m\u001b[1;33m(\u001b[0m\u001b[1;33m)\u001b[0m\u001b[1;33m\u001b[0m\u001b[0m\n",
      "\u001b[1;32mC:\\Users\\Admin\\Anaconda3\\lib\\site-packages\\pandas\\io\\parsers.py\u001b[0m in \u001b[0;36mparser_f\u001b[1;34m(filepath_or_buffer, sep, dialect, compression, doublequote, escapechar, quotechar, quoting, skipinitialspace, lineterminator, header, index_col, names, prefix, skiprows, skipfooter, skip_footer, na_values, true_values, false_values, delimiter, converters, dtype, usecols, engine, delim_whitespace, as_recarray, na_filter, compact_ints, use_unsigned, low_memory, buffer_lines, warn_bad_lines, error_bad_lines, keep_default_na, thousands, comment, decimal, parse_dates, keep_date_col, dayfirst, date_parser, memory_map, float_precision, nrows, iterator, chunksize, verbose, encoding, squeeze, mangle_dupe_cols, tupleize_cols, infer_datetime_format, skip_blank_lines)\u001b[0m\n\u001b[0;32m    496\u001b[0m                     skip_blank_lines=skip_blank_lines)\n\u001b[0;32m    497\u001b[0m \u001b[1;33m\u001b[0m\u001b[0m\n\u001b[1;32m--> 498\u001b[1;33m         \u001b[1;32mreturn\u001b[0m \u001b[0m_read\u001b[0m\u001b[1;33m(\u001b[0m\u001b[0mfilepath_or_buffer\u001b[0m\u001b[1;33m,\u001b[0m \u001b[0mkwds\u001b[0m\u001b[1;33m)\u001b[0m\u001b[1;33m\u001b[0m\u001b[0m\n\u001b[0m\u001b[0;32m    499\u001b[0m \u001b[1;33m\u001b[0m\u001b[0m\n\u001b[0;32m    500\u001b[0m     \u001b[0mparser_f\u001b[0m\u001b[1;33m.\u001b[0m\u001b[0m__name__\u001b[0m \u001b[1;33m=\u001b[0m \u001b[0mname\u001b[0m\u001b[1;33m\u001b[0m\u001b[0m\n",
      "\u001b[1;32mC:\\Users\\Admin\\Anaconda3\\lib\\site-packages\\pandas\\io\\parsers.py\u001b[0m in \u001b[0;36m_read\u001b[1;34m(filepath_or_buffer, kwds)\u001b[0m\n\u001b[0;32m    273\u001b[0m \u001b[1;33m\u001b[0m\u001b[0m\n\u001b[0;32m    274\u001b[0m     \u001b[1;31m# Create the parser.\u001b[0m\u001b[1;33m\u001b[0m\u001b[1;33m\u001b[0m\u001b[0m\n\u001b[1;32m--> 275\u001b[1;33m     \u001b[0mparser\u001b[0m \u001b[1;33m=\u001b[0m \u001b[0mTextFileReader\u001b[0m\u001b[1;33m(\u001b[0m\u001b[0mfilepath_or_buffer\u001b[0m\u001b[1;33m,\u001b[0m \u001b[1;33m**\u001b[0m\u001b[0mkwds\u001b[0m\u001b[1;33m)\u001b[0m\u001b[1;33m\u001b[0m\u001b[0m\n\u001b[0m\u001b[0;32m    276\u001b[0m \u001b[1;33m\u001b[0m\u001b[0m\n\u001b[0;32m    277\u001b[0m     \u001b[1;32mif\u001b[0m \u001b[1;33m(\u001b[0m\u001b[0mnrows\u001b[0m \u001b[1;32mis\u001b[0m \u001b[1;32mnot\u001b[0m \u001b[1;32mNone\u001b[0m\u001b[1;33m)\u001b[0m \u001b[1;32mand\u001b[0m \u001b[1;33m(\u001b[0m\u001b[0mchunksize\u001b[0m \u001b[1;32mis\u001b[0m \u001b[1;32mnot\u001b[0m \u001b[1;32mNone\u001b[0m\u001b[1;33m)\u001b[0m\u001b[1;33m:\u001b[0m\u001b[1;33m\u001b[0m\u001b[0m\n",
      "\u001b[1;32mC:\\Users\\Admin\\Anaconda3\\lib\\site-packages\\pandas\\io\\parsers.py\u001b[0m in \u001b[0;36m__init__\u001b[1;34m(self, f, engine, **kwds)\u001b[0m\n\u001b[0;32m    588\u001b[0m             \u001b[0mself\u001b[0m\u001b[1;33m.\u001b[0m\u001b[0moptions\u001b[0m\u001b[1;33m[\u001b[0m\u001b[1;34m'has_index_names'\u001b[0m\u001b[1;33m]\u001b[0m \u001b[1;33m=\u001b[0m \u001b[0mkwds\u001b[0m\u001b[1;33m[\u001b[0m\u001b[1;34m'has_index_names'\u001b[0m\u001b[1;33m]\u001b[0m\u001b[1;33m\u001b[0m\u001b[0m\n\u001b[0;32m    589\u001b[0m \u001b[1;33m\u001b[0m\u001b[0m\n\u001b[1;32m--> 590\u001b[1;33m         \u001b[0mself\u001b[0m\u001b[1;33m.\u001b[0m\u001b[0m_make_engine\u001b[0m\u001b[1;33m(\u001b[0m\u001b[0mself\u001b[0m\u001b[1;33m.\u001b[0m\u001b[0mengine\u001b[0m\u001b[1;33m)\u001b[0m\u001b[1;33m\u001b[0m\u001b[0m\n\u001b[0m\u001b[0;32m    591\u001b[0m \u001b[1;33m\u001b[0m\u001b[0m\n\u001b[0;32m    592\u001b[0m     \u001b[1;32mdef\u001b[0m \u001b[0m_get_options_with_defaults\u001b[0m\u001b[1;33m(\u001b[0m\u001b[0mself\u001b[0m\u001b[1;33m,\u001b[0m \u001b[0mengine\u001b[0m\u001b[1;33m)\u001b[0m\u001b[1;33m:\u001b[0m\u001b[1;33m\u001b[0m\u001b[0m\n",
      "\u001b[1;32mC:\\Users\\Admin\\Anaconda3\\lib\\site-packages\\pandas\\io\\parsers.py\u001b[0m in \u001b[0;36m_make_engine\u001b[1;34m(self, engine)\u001b[0m\n\u001b[0;32m    729\u001b[0m     \u001b[1;32mdef\u001b[0m \u001b[0m_make_engine\u001b[0m\u001b[1;33m(\u001b[0m\u001b[0mself\u001b[0m\u001b[1;33m,\u001b[0m \u001b[0mengine\u001b[0m\u001b[1;33m=\u001b[0m\u001b[1;34m'c'\u001b[0m\u001b[1;33m)\u001b[0m\u001b[1;33m:\u001b[0m\u001b[1;33m\u001b[0m\u001b[0m\n\u001b[0;32m    730\u001b[0m         \u001b[1;32mif\u001b[0m \u001b[0mengine\u001b[0m \u001b[1;33m==\u001b[0m \u001b[1;34m'c'\u001b[0m\u001b[1;33m:\u001b[0m\u001b[1;33m\u001b[0m\u001b[0m\n\u001b[1;32m--> 731\u001b[1;33m             \u001b[0mself\u001b[0m\u001b[1;33m.\u001b[0m\u001b[0m_engine\u001b[0m \u001b[1;33m=\u001b[0m \u001b[0mCParserWrapper\u001b[0m\u001b[1;33m(\u001b[0m\u001b[0mself\u001b[0m\u001b[1;33m.\u001b[0m\u001b[0mf\u001b[0m\u001b[1;33m,\u001b[0m \u001b[1;33m**\u001b[0m\u001b[0mself\u001b[0m\u001b[1;33m.\u001b[0m\u001b[0moptions\u001b[0m\u001b[1;33m)\u001b[0m\u001b[1;33m\u001b[0m\u001b[0m\n\u001b[0m\u001b[0;32m    732\u001b[0m         \u001b[1;32melse\u001b[0m\u001b[1;33m:\u001b[0m\u001b[1;33m\u001b[0m\u001b[0m\n\u001b[0;32m    733\u001b[0m             \u001b[1;32mif\u001b[0m \u001b[0mengine\u001b[0m \u001b[1;33m==\u001b[0m \u001b[1;34m'python'\u001b[0m\u001b[1;33m:\u001b[0m\u001b[1;33m\u001b[0m\u001b[0m\n",
      "\u001b[1;32mC:\\Users\\Admin\\Anaconda3\\lib\\site-packages\\pandas\\io\\parsers.py\u001b[0m in \u001b[0;36m__init__\u001b[1;34m(self, src, **kwds)\u001b[0m\n\u001b[0;32m   1101\u001b[0m         \u001b[0mkwds\u001b[0m\u001b[1;33m[\u001b[0m\u001b[1;34m'allow_leading_cols'\u001b[0m\u001b[1;33m]\u001b[0m \u001b[1;33m=\u001b[0m \u001b[0mself\u001b[0m\u001b[1;33m.\u001b[0m\u001b[0mindex_col\u001b[0m \u001b[1;32mis\u001b[0m \u001b[1;32mnot\u001b[0m \u001b[1;32mFalse\u001b[0m\u001b[1;33m\u001b[0m\u001b[0m\n\u001b[0;32m   1102\u001b[0m \u001b[1;33m\u001b[0m\u001b[0m\n\u001b[1;32m-> 1103\u001b[1;33m         \u001b[0mself\u001b[0m\u001b[1;33m.\u001b[0m\u001b[0m_reader\u001b[0m \u001b[1;33m=\u001b[0m \u001b[0m_parser\u001b[0m\u001b[1;33m.\u001b[0m\u001b[0mTextReader\u001b[0m\u001b[1;33m(\u001b[0m\u001b[0msrc\u001b[0m\u001b[1;33m,\u001b[0m \u001b[1;33m**\u001b[0m\u001b[0mkwds\u001b[0m\u001b[1;33m)\u001b[0m\u001b[1;33m\u001b[0m\u001b[0m\n\u001b[0m\u001b[0;32m   1104\u001b[0m \u001b[1;33m\u001b[0m\u001b[0m\n\u001b[0;32m   1105\u001b[0m         \u001b[1;31m# XXX\u001b[0m\u001b[1;33m\u001b[0m\u001b[1;33m\u001b[0m\u001b[0m\n",
      "\u001b[1;32mpandas\\parser.pyx\u001b[0m in \u001b[0;36mpandas.parser.TextReader.__cinit__ (pandas\\parser.c:3246)\u001b[1;34m()\u001b[0m\n",
      "\u001b[1;32mpandas\\parser.pyx\u001b[0m in \u001b[0;36mpandas.parser.TextReader._setup_parser_source (pandas\\parser.c:6111)\u001b[1;34m()\u001b[0m\n",
      "\u001b[1;31mOSError\u001b[0m: File b'inputs/multi_hazard_data.csv' does not exist"
     ]
    }
   ],
   "source": [
    "multi_hard_info=pd.read_csv(\"inputs/multi_hazard_data.csv\", index_col=[\"province\",\"hazard\"])\n",
    "multi_hard_info.head()"
   ]
  },
  {
   "cell_type": "code",
   "execution_count": null,
   "metadata": {
    "collapsed": false
   },
   "outputs": [],
   "source": [
    "fr=pd.read_csv(\"inputs/fa_ratios.csv\", index_col=(\"province\",\"hazard\")).dropna()\n",
    "fr.columns = fr.columns.astype(float)\n",
    "fr.head()"
   ]
  },
  {
   "cell_type": "markdown",
   "metadata": {},
   "source": [
    "## policy experiments on mh data"
   ]
  },
  {
   "cell_type": "code",
   "execution_count": null,
   "metadata": {
    "collapsed": false
   },
   "outputs": [],
   "source": [
    "##POLICY DESCRIPTION\n",
    "policy_info_mh= pd.read_csv(\"inputs/policy_multihazard_description.csv\",index_col=0)\n",
    "\n",
    "#Policy Labels (y axis)\n",
    "policy_labels_mh = policy_info_mh.descriptor.copy() #we make a copy so we can modify it later\n",
    "policy_labels_mh.head()\n",
    "\n",
    "#size of the policy\n",
    "pol_increment_mh = policy_info_mh.increment    \n",
    "pol_increment_mh.head()\n"
   ]
  },
  {
   "cell_type": "markdown",
   "metadata": {},
   "source": [
    "## computation"
   ]
  },
  {
   "cell_type": "code",
   "execution_count": null,
   "metadata": {
    "collapsed": false
   },
   "outputs": [],
   "source": [
    "d_mh = compute_policies_mh(df_original,multi_hard_info,pol_increment_mh,pol_assess_set, bounds, fa_ratios=fr, multihazard_data =multi_hard_info)"
   ]
  },
  {
   "cell_type": "markdown",
   "metadata": {},
   "source": [
    "## baseline mh data"
   ]
  },
  {
   "cell_type": "code",
   "execution_count": null,
   "metadata": {
    "collapsed": false
   },
   "outputs": [],
   "source": [
    "render_pol_cards(\n",
    "    deltas.append(d_mh).drop(\"fap\").drop(\"far\"), #drop fap and far because superseded by multihazard info\n",
    "    colors,\n",
    "    policy_labels.append(policy_labels_mh),\n",
    "    pol_increment.append(pol_increment_mh),\n",
    "    unit,[\"Maguindanao\"],\n",
    "    outfolder=\"cards_coast_river/\"\n",
    ")\n",
    "\n"
   ]
  },
  {
   "cell_type": "code",
   "execution_count": null,
   "metadata": {
    "collapsed": true
   },
   "outputs": [],
   "source": []
  }
 ],
 "metadata": {
  "kernelspec": {
   "display_name": "Python 3",
   "language": "python",
   "name": "python3"
  },
  "language_info": {
   "codemirror_mode": {
    "name": "ipython",
    "version": 3
   },
   "file_extension": ".py",
   "mimetype": "text/x-python",
   "name": "python",
   "nbconvert_exporter": "python",
   "pygments_lexer": "ipython3",
   "version": "3.4.4"
  }
 },
 "nbformat": 4,
 "nbformat_minor": 0
}
